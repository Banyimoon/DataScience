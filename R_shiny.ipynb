{
 "metadata": {
  "name": "",
  "signature": "sha256:bd7d172745ec261042655cb74d811b52333f438aebdedd9221df1634378f41e7"
 },
 "nbformat": 3,
 "nbformat_minor": 0,
 "worksheets": [
  {
   "cells": [
    {
     "cell_type": "markdown",
     "metadata": {},
     "source": [
      "R Shiny\n",
      "============\n",
      "\n",
      "<a name=\"top\"></a>\n",
      "\n",
      "**Vahid Mirjalili, Data Scientist**\n",
      "\n",
      "[1. Introduction](#intro)"
     ]
    },
    {
     "cell_type": "markdown",
     "metadata": {},
     "source": [
      "<a id=\"intro\"></a>\n",
      "\n",
      "# 1. Introduction\n",
      "\n",
      "Shiny is a framework for creating interactive web applications.\n",
      "\n",
      "Shiny tutorial is a good resource for learning: <a href=\"http://shiny.rstudio.com/tutorial/\"> tutorial</a>\n",
      "\n",
      "A shiny project must have at least two parts:\n",
      "\n",
      "  * **a user interface script (ui.R):** controls layout and appearance of the app\n",
      "  * **a server script (server.R):** does the computations behind the scene\n",
      "  \n",
      "Example of ui.R:"
     ]
    },
    {
     "cell_type": "code",
     "collapsed": false,
     "input": [
      "## ui.R\n",
      "library(shiny)\n",
      "shinyUI(pageWithSidebar(\n",
      "    ## Header \n",
      "    headerPanel(\"Hello Shiny World!\"),\n",
      "\n",
      "    sidebarPanel(\n",
      "        h3('This is a sidebar created')\n",
      "    ),\n",
      "\n",
      "    mainPanel(\n",
      "        h3('This is the main panel')\n",
      "    )\n",
      "))"
     ],
     "language": "python",
     "metadata": {},
     "outputs": [],
     "prompt_number": 3
    },
    {
     "cell_type": "code",
     "collapsed": false,
     "input": [
      "## server.R\n",
      "library(shiny)\n",
      "shinyServer(\n",
      "    function(input, output) {\n",
      "        ##  ## \n",
      "    }\n",
      ")"
     ],
     "language": "python",
     "metadata": {},
     "outputs": [],
     "prompt_number": 4
    },
    {
     "cell_type": "markdown",
     "metadata": {},
     "source": [
      "To run this application, change the working directory to the app directory and use **runApp()**\n",
      "\n",
      "The result will be displayed in the browser as below:"
     ]
    },
    {
     "cell_type": "code",
     "collapsed": false,
     "input": [
      "setwd(\"/home/vahid/GitHub/DataScience/R-shiny/app-01\")\n",
      "getwd()\n",
      "list.files()\n",
      "runApp()\n",
      "\n",
      "# or use the directory address:\n",
      "\n",
      "runApp(\"/home/vahid/GitHub/DataScience/R-shiny/\")"
     ],
     "language": "python",
     "metadata": {},
     "outputs": []
    },
    {
     "cell_type": "markdown",
     "metadata": {},
     "source": [
      "<img src=\"figs/shiny_app01.png\" width=\"700px\" height=\"600px\">"
     ]
    },
    {
     "cell_type": "markdown",
     "metadata": {},
     "source": [
      "\n",
      "* <a href=\"http://shiny.rstudio.com/gallery/\">Shiny Gallery</a> provides a lot of nice example, that you can change for your application.\n",
      "\n",
      "Or you can run pre-built examples in the shiny package:\n"
     ]
    },
    {
     "cell_type": "code",
     "collapsed": false,
     "input": [
      "system.file(\"examples\", package=\"shiny\")\n",
      "\n",
      "runExample(\"05_sliders\")   ## -> interactive slider bars\n",
      "runExample(\"06_tabsets\")   ## -> multiple panels through menu-bar\n",
      "runExample(\"10_download\")  ## -> a wizard to download files\n",
      "runExample(\"11_timer\")     ## -> displays running date and time"
     ],
     "language": "python",
     "metadata": {},
     "outputs": [
      {
       "metadata": {},
       "output_type": "pyout",
       "prompt_number": 1,
       "text": [
        "[1] \"/home/vahid/R/x86_64-pc-linux-gnu-library/3.1/shiny/examples\""
       ]
      },
      {
       "ename": "ERROR",
       "evalue": "Error in eval(expr, envir, enclos): could not find function \"runExample\"\n",
       "output_type": "pyerr",
       "traceback": [
        "Error in eval(expr, envir, enclos): could not find function \"runExample\"\n"
       ]
      }
     ],
     "prompt_number": 1
    },
    {
     "cell_type": "markdown",
     "metadata": {},
     "source": [
      "<a id=\"options\"></a>\n",
      "\n",
      "## Options:\n",
      "\n",
      "* **fluidPage** automatically adjusts to the browser dimension\n",
      "* **sidebarLayout** to add a sidebar, that needs two arguments\n",
      "   *  **sidebarPanel()**\n",
      "   * **mainPanel()**\n",
      "   * optional argument **position=..** where default is \"left\"\n",
      "   \n",
      "* HTML tags can be used directly in ui.R, firexampl **p()** for < p >, **h1()** for header < h1 >, **img()** for < img >"
     ]
    },
    {
     "cell_type": "code",
     "collapsed": false,
     "input": [],
     "language": "python",
     "metadata": {},
     "outputs": []
    }
   ],
   "metadata": {}
  }
 ]
}