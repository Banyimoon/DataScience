{
 "metadata": {
  "name": "",
  "signature": "sha256:bbee301dd05dbf3a9d8b83fd80d6dfcc7f0eb0ed0e03aaade23851afe4a01434"
 },
 "nbformat": 3,
 "nbformat_minor": 0,
 "worksheets": [
  {
   "cells": [
    {
     "cell_type": "code",
     "collapsed": false,
     "input": [
      "%load_ext watermark\n",
      "\n",
      "%watermark -a 'Vahid Mirjalili' -d -p scikit-learn,numpy,numexpr,pandas,matplotlib,plotly -v"
     ],
     "language": "python",
     "metadata": {},
     "outputs": [
      {
       "output_type": "stream",
       "stream": "stdout",
       "text": [
        "Vahid Mirjalili 22/11/2014 \n",
        "\n",
        "CPython 2.7.3\n",
        "IPython 2.3.1\n",
        "\n",
        "scikit-learn 0.15.2\n",
        "numpy 1.9.1\n",
        "numexpr 2.2.2\n",
        "pandas 0.15.1\n",
        "matplotlib 1.4.2\n",
        "plotly 1.4.7\n"
       ]
      }
     ],
     "prompt_number": 1
    },
    {
     "cell_type": "code",
     "collapsed": false,
     "input": [
      "import datetime\n",
      "import pandas as pd\n",
      "import pandas.io.data\n",
      "\n",
      "import numpy as np\n",
      "import scipy\n",
      "\n",
      "\n",
      "from matplotlib import pyplot as plt\n",
      "import matplotlib.mlab as mlab\n",
      "\n",
      "import plotly.plotly as py\n",
      "\n",
      "%matplotlib inline"
     ],
     "language": "python",
     "metadata": {},
     "outputs": [],
     "prompt_number": 10
    },
    {
     "cell_type": "code",
     "collapsed": false,
     "input": [
      "x = np.arange(0, 2*np.pi, 0.2)\n",
      "y1 = np.cos(x)\n",
      "y2 = 2*np.exp(-x)*np.sin(x)\n",
      "\n",
      "line1, line2 = plt.plot(x, y1, 'b-', x, y2, 'ro')\n",
      "plt.setp(line1, color='b', linewidth=4)\n",
      "plt.setp(line2, color='r')\n",
      "\n",
      "\n",
      "plt.axis([0, 2*np.pi, -1, 1])\n",
      "plt.show()"
     ],
     "language": "python",
     "metadata": {},
     "outputs": [
      {
       "metadata": {},
       "output_type": "display_data",
       "png": "[encoded data removed]",
       "text": [
        "<matplotlib.figure.Figure at 0x676b790>"
       ]
      }
     ],
     "prompt_number": 20
    },
    {
     "cell_type": "code",
     "collapsed": false,
     "input": [],
     "language": "python",
     "metadata": {},
     "outputs": []
    }
   ],
   "metadata": {}
  }
 ]
}