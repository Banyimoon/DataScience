{
 "cells": [
  {
   "cell_type": "markdown",
   "metadata": {},
   "source": [
    "Rule-based Classification\n",
    "==="
   ]
  },
  {
   "cell_type": "markdown",
   "metadata": {},
   "source": [
    "* Rules are mutually exclusive\n",
    "* Rules are exhaustive, meaning that a data point must trigger one of the rules to reach the leaf."
   ]
  },
  {
   "cell_type": "markdown",
   "metadata": {},
   "source": [
    "### Simpify the rules\n",
    "\n",
    " * Take out some of the attributes from a rule, and check if the rule is still accurate or not\n",
    " \n",
    " \n",
    " * After simplification of rules, rules may not be exhaustive anymore, then we need to create a default class."
   ]
  },
  {
   "cell_type": "markdown",
   "metadata": {},
   "source": [
    "## Sequential Covering Algorithm\n",
    "\n",
    " * Initial rule set is empty\n",
    " * Repeat\n",
    "   * Grow a single rule\n",
    "   * Elminate the instance that are triggered by that rule\n",
    "   * Prune the rule if necessary\n",
    " * Add the new rule to the set of rules\n",
    "   \n",
    "### Rule growing\n",
    "\n",
    " * the least frequent class"
   ]
  },
  {
   "cell_type": "markdown",
   "metadata": {},
   "source": [
    "## Rule-based classification softwares\n",
    "\n",
    " * JRIPPER (available in Weka)"
   ]
  },
  {
   "cell_type": "markdown",
   "metadata": {
    "collapsed": true
   },
   "source": [
    "## Example\n",
    "\n",
    "Lets say we have five classes: mammalas, reptiles, birds, fish, and amphibians, with the following class frequencies\n",
    "\n",
    "|class|freq|\n",
    "|:--:|:--:|\n",
    "|mammals|50|\n",
    "|reptiles|100|\n",
    "|birds|20|\n",
    "|fish|30|\n",
    "|amphibians|10|\n",
    "\n",
    "So, we should start with amphibians since ther are the least frequent class, (the hardest class to detetct). We keep the default class to be the most frequent class, i.e. reptiles.\n",
    "\n",
    "amphibians --> birds --> fish --> mammals (default: reptiles)\n",
    "\n",
    "At each step, we deal with a binary classification, positive means ??? and negative means evrything else.\n",
    "\n",
    "##### Rule growing\n",
    "\n",
    " - Start with {} -> +\n",
    " - Iteratively choose the best conjunct to be added to LHS\n",
    " \n",
    "### Foil Information Gain\n",
    "\n",
    " * Original rule: $R_0: A \\rightarrow + $\n",
    " * Extended rule: $R_1: AB \\rightarrow + $\n",
    " \n",
    " $Gain(R_0, R_1) = p_1 \\left[\\log \\frac{p_1}{p_1+n_1} - \\log\\frac{p_0}{p_0+n_0}\\right]$\n",
    " \n",
    " $p_0$: number of positive instances covered by rule $R_0$  \n",
    " $p_1$: number of positive instances covered by rule $R_1$  \n",
    " $n_0$: number of negative instances covered by rule $R_0$  \n",
    " $n_1$: number of negative instances covered by rule $R_1$  \n",
    " \n",
    "**Rationale** Gain is higher when the extended rule has high coverage and accuracy."
   ]
  },
  {
   "cell_type": "markdown",
   "metadata": {},
   "source": [
    "* Why should we remove the instances covered by $R_1$?\n",
    "\n",
    "* Should we also remove the neative classes that are missclasisfied by $R_1$?\n",
    "\n",
    " Yes\n",
    " \n",
    "##### Example\n",
    "\n",
    "$R_1$: $p_1=12,  n_1=3  $  \n",
    "$R_2$: without removing any instance: $p_2 = 8,  n_2 = 4  $  \n",
    "$R_2'$: removing only the positive instances $p2' = 6 , n_2' = 4  $  \n",
    "$R_2''$: remove both positive and negative instances $p_2'' = 6 n_2''=2  $  \n"
   ]
  },
  {
   "cell_type": "markdown",
   "metadata": {},
   "source": []
  }
 ],
 "metadata": {
  "kernelspec": {
   "display_name": "Python 3",
   "language": "python",
   "name": "python3"
  },
  "language_info": {
   "codemirror_mode": {
    "name": "ipython",
    "version": 3
   },
   "file_extension": ".py",
   "mimetype": "text/x-python",
   "name": "python",
   "nbconvert_exporter": "python",
   "pygments_lexer": "ipython3",
   "version": "3.5.1"
  }
 },
 "nbformat": 4,
 "nbformat_minor": 0
}
