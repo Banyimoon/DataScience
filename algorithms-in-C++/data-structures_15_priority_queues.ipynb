{
 "cells": [
  {
   "cell_type": "markdown",
   "metadata": {},
   "source": [
    "Abstract Priortiy Queues\n",
    "===\n",
    "\n",
    "**Outline**\n",
    " * Review queus\n",
    " * \n",
    " * Two implelementation ways\n",
    "   * Array of queues\n",
    "   * \n",
    "   \n",
    "### Review\n",
    "\n",
    " * Abstract lists\n",
    " \n",
    "### Introduction to Priority-Queus\n",
    "\n",
    " * Definition: use some keys\n",
    " \n",
    " * Example numeric priority based on $x$\n",
    "   * $0$ has the highest priority\n",
    "   * if $x>y$, $x$ has hiegher priority than $y$\n",
    "\n",
    " * Example Lexicographic Priority*\n",
    "   * \n",
    "   \n",
    "### Some applications\n",
    " * Processes requesting hardware components have prioirty   \n",
    " \n",
    "   Linux nice command: -20 highest priority and 19 means lowest prioirty\n",
    " ```bash\n",
    "   $ nice -20 ./a.out\n",
    " ```"
   ]
  },
  {
   "cell_type": "markdown",
   "metadata": {},
   "source": [
    "## Implementations \n",
    "\n",
    " * **Using an array of queues**\n",
    " * **Using an AVL tree**\n",
    " * **Using heaps**\n",
    " \n",
    "### Implement using an array of queues\n",
    "\n",
    " * Have an array with indexes from $0-M$. Each element points to a priority queue.\n",
    " \n",
    "```c++\n",
    "template <typename Type>\n",
    "void Multiqueue<Type>::push(Type const &obj, int, pri) {\n",
    "    if (pri > 0 || pri >=M) {\n",
    "        throw illegal_argument();\n",
    "    }\n",
    "    \n",
    "    ...\n",
    "}\n",
    "```\n",
    "\n",
    "#### Analysis\n",
    "\n",
    "  * "
   ]
  },
  {
   "cell_type": "markdown",
   "metadata": {},
   "source": [
    "### Implement using an AVL tree\n",
    "\n",
    "```c++\n",
    "template<typename Type>\n",
    "class AVL_priority_queue() {\n",
    "\n",
    "}\n",
    "```\n",
    "\n",
    "```c++\n",
    "bool AVL_priority_queue<Type>::empty() const {\n",
    "    \n",
    "}\n",
    "```"
   ]
  },
  {
   "cell_type": "code",
   "execution_count": null,
   "metadata": {
    "collapsed": true
   },
   "outputs": [],
   "source": []
  }
 ],
 "metadata": {
  "kernelspec": {
   "display_name": "Python 3",
   "language": "python",
   "name": "python3"
  },
  "language_info": {
   "codemirror_mode": {
    "name": "ipython",
    "version": 3
   },
   "file_extension": ".py",
   "mimetype": "text/x-python",
   "name": "python",
   "nbconvert_exporter": "python",
   "pygments_lexer": "ipython3",
   "version": "3.5.1"
  }
 },
 "nbformat": 4,
 "nbformat_minor": 0
}
