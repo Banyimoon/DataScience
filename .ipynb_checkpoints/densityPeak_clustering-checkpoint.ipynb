{
 "metadata": {
  "name": "",
  "signature": "sha256:a0b7a19c934214167c12b64b4a56da8b1b8ddc81105e57c84fc7a6062f0d1779"
 },
 "nbformat": 3,
 "nbformat_minor": 0,
 "worksheets": [
  {
   "cells": [
    {
     "cell_type": "markdown",
     "metadata": {},
     "source": [
      "Clustering based on Density Peaks\n",
      "=======\n",
      "\n",
      "**Vahid Mirjalili, Data Scientist**\n",
      "\n",
      "# 1. Introduction\n",
      "\n",
      "Clustering algorithms has a wide range of applications. Several methods are proposed so far, and each method has drawbacks, for example in k-means clustering the knowledge of number of clusters is crucial, yet it doesn't provide a robust solution to datasets with clusters that have different sizes.\n",
      "\n",
      "In this article, an implementation of a novel clustering algorithm is provided, and applied to some synthetic datasets. <a href=\"http://www.sciencemag.org/content/344/6191/1492.abstract\">See the reference.</a>. \n",
      "\n",
      "The most important feature of this algorithm is that it can automatically find the number of clusters. "
     ]
    },
    {
     "cell_type": "code",
     "collapsed": false,
     "input": [
      "## I plementation of Density Peak Clustering\n",
      "### Vahid Mirjalili\n",
      "\n",
      "import numpy as np\n",
      "\n",
      "d = np.loadtxt(\"data/synthetic.6clust.dat\")\n",
      "print(np.unique(d[:,2]))"
     ],
     "language": "python",
     "metadata": {},
     "outputs": [
      {
       "output_type": "stream",
       "stream": "stdout",
       "text": [
        "[ 0.  1.  2.  3.  4.  5.  6.]\n"
       ]
      }
     ],
     "prompt_number": 7
    },
    {
     "cell_type": "markdown",
     "metadata": {},
     "source": [
      "In this dataset, 0 represents noise points, and others are considered as ground-truth cluster IDs."
     ]
    }
   ],
   "metadata": {}
  }
 ]
}