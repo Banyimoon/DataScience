{
 "metadata": {
  "name": "",
  "signature": "sha256:a7e8dd16494e36c446d07301b78e0e2d64b098c8fc2cc24fb9b917258e72d39e"
 },
 "nbformat": 3,
 "nbformat_minor": 0,
 "worksheets": [
  {
   "cells": [
    {
     "cell_type": "code",
     "collapsed": false,
     "input": [
      "%load_ext watermark\n",
      "\n",
      "%watermark -a 'Vahid Mirjalili' -d -p scikit-learn,numpy,numexpr,pandas,matplotlib,plotly -v"
     ],
     "language": "python",
     "metadata": {},
     "outputs": [
      {
       "output_type": "stream",
       "stream": "stdout",
       "text": [
        "Vahid Mirjalili 20/11/2014 \n",
        "\n",
        "CPython 2.7.3\n",
        "IPython 2.0.0\n",
        "\n",
        "scikit-learn 0.15.2\n",
        "numpy 1.9.0\n",
        "numexpr 2.2.2\n",
        "pandas 0.15.0\n",
        "matplotlib 1.4.0\n",
        "plotly 1.4.7\n"
       ]
      }
     ],
     "prompt_number": 1
    },
    {
     "cell_type": "code",
     "collapsed": false,
     "input": [
      "## Import the necessary modules\n",
      "\n",
      "import datetime\n",
      "import pandas as pd\n",
      "import pandas.io.data\n",
      "\n",
      "import sklearn\n",
      "\n",
      "from matplotlib import pyplot as plt\n",
      "import plotly.plotly as py\n",
      "\n",
      "import matplotlib.pyplot as plt\n",
      "import matplotlib.mlab as mlab\n",
      "\n",
      "py.sign_in('vmirjalily', 'u9ucwy3au5')"
     ],
     "language": "python",
     "metadata": {},
     "outputs": []
    }
   ],
   "metadata": {}
  }
 ]
}