{
 "cells": [
  {
   "cell_type": "markdown",
   "metadata": {},
   "source": [
    "#### C++ Programming\n",
    "\n",
    " * https://github.com/mirjalil/DataScience/blob/master/algorithms/cpp_programming.ipynb\n",
    " \n",
    "#### Sorting Algorithms\n",
    "\n",
    " * \n",
    " * \n",
    " \n",
    "#### Data Structures\n",
    "\n",
    " * Linked-List: \n",
    " * Stacks:\n",
    " * Queues:\n",
    " \n",
    " * Trees\n",
    " * Binary trees\n",
    " * Binary search trees\n",
    " \n",
    " \n",
    " * Balanced trees\n",
    " * Red/Black trees\n",
    " * AVL trees\n",
    " \n",
    " \n",
    " * Multiway search trees\n",
    " * B+ trees\n",
    " * Hashes"
   ]
  },
  {
   "cell_type": "code",
   "execution_count": null,
   "metadata": {
    "collapsed": true
   },
   "outputs": [],
   "source": []
  }
 ],
 "metadata": {
  "kernelspec": {
   "display_name": "Python 3",
   "language": "python",
   "name": "python3"
  },
  "language_info": {
   "codemirror_mode": {
    "name": "ipython",
    "version": 3
   },
   "file_extension": ".py",
   "mimetype": "text/x-python",
   "name": "python",
   "nbconvert_exporter": "python",
   "pygments_lexer": "ipython3",
   "version": "3.5.1"
  }
 },
 "nbformat": 4,
 "nbformat_minor": 0
}
