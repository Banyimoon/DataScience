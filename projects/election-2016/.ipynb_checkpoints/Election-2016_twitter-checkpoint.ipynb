{
 "cells": [
  {
   "cell_type": "markdown",
   "metadata": {},
   "source": [
    "Predicting Election 2016\n",
    "=======\n",
    "\n",
    "\n",
    "## 1. Data Collection\n",
    "\n",
    "### 1-A Twitter API\n",
    "\n",
    "### 1-B Extracting fields from json data\n",
    "\n",
    "**Extracting Location:** \n",
    "```\n",
    "Palm Beach Gardens, FL\n",
    "Wisconsin, USA\n",
    "Fishers, IN\n",
    "```\n",
    "\n",
    "### 1-C Storing Tweets into MySQL Database\n",
    "\n",
    "Filtering tweets based on\n",
    " * Language `\"lang\":\"en\"`\n",
    " * Country `\"country\":\"United States\"`\n",
    "\n",
    "```sql\n",
    "mysql> create table ElectionTweets (id_str CHAR(18), created_at DATETIME, loc_name VARCHAR(20), text VARCHAR(140));\n",
    "Query OK, 0 rows affected (0.00 sec)\n",
    "```"
   ]
  },
  {
   "cell_type": "markdown",
   "metadata": {},
   "source": [
    "## 2. Analysis\n"
   ]
  },
  {
   "cell_type": "markdown",
   "metadata": {},
   "source": [
    "## 3. Web-app"
   ]
  },
  {
   "cell_type": "code",
   "execution_count": null,
   "metadata": {
    "collapsed": true
   },
   "outputs": [],
   "source": []
  }
 ],
 "metadata": {
  "kernelspec": {
   "display_name": "Python 3",
   "language": "python",
   "name": "python3"
  },
  "language_info": {
   "codemirror_mode": {
    "name": "ipython",
    "version": 3
   },
   "file_extension": ".py",
   "mimetype": "text/x-python",
   "name": "python",
   "nbconvert_exporter": "python",
   "pygments_lexer": "ipython3",
   "version": "3.4.3"
  }
 },
 "nbformat": 4,
 "nbformat_minor": 0
}
