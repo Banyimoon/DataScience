{
 "cells": [
  {
   "cell_type": "markdown",
   "metadata": {},
   "source": [
    "Tree Traversals\n",
    "====\n",
    "\n",
    "* **In-Order**: left-root-right\n",
    "* **Pre-Order**: root-left-right\n",
    "* **Post-Order**: left-right-root"
   ]
  },
  {
   "cell_type": "markdown",
   "metadata": {},
   "source": [
    "**In-Order**: depth-first\n",
    "\n",
    "* Visit left, visit root, visit right\n",
    "\n",
    "**Note:** in-order traversals is only applicable to binary trees (not for N-ary trees)"
   ]
  },
  {
   "cell_type": "markdown",
   "metadata": {},
   "source": [
    "```c++\n",
    "template<typename Type>\n",
    "void Binary_tree<Type>::in_order_traversal() const {\n",
    "    if (empty()) {\n",
    "        return;\n",
    "    }\n",
    "    \n",
    "    left()->in_order_traversal();\n",
    "    cout << retrieve();\n",
    "    right()->in_order_traversal();\n",
    "}\n",
    "```"
   ]
  },
  {
   "cell_type": "markdown",
   "metadata": {},
   "source": [
    "### Example: Pretty Printing\n",
    "\n",
    "```c++\n",
    "class Expression_node;\n",
    "\n",
    "void Expression_node::pretty_print() {\n",
    "    if (!left()) {\n",
    "        if (parent()->predence() > precedence()) {\n",
    "            cout << \"(\";\n",
    "        }\n",
    "    }\n",
    "    \n",
    "    left()->pretty_print();\n",
    "}\n",
    "```"
   ]
  },
  {
   "cell_type": "code",
   "execution_count": null,
   "metadata": {
    "collapsed": true
   },
   "outputs": [],
   "source": []
  }
 ],
 "metadata": {
  "kernelspec": {
   "display_name": "Python 3",
   "language": "python",
   "name": "python3"
  },
  "language_info": {
   "codemirror_mode": {
    "name": "ipython",
    "version": 3
   },
   "file_extension": ".py",
   "mimetype": "text/x-python",
   "name": "python",
   "nbconvert_exporter": "python",
   "pygments_lexer": "ipython3",
   "version": "3.5.1"
  }
 },
 "nbformat": 4,
 "nbformat_minor": 0
}
