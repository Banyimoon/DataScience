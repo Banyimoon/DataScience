{
 "metadata": {
  "name": "",
  "signature": "sha256:937b1403dd7cf103b643e9d982a03830ddab59fab3ee70372a9fd9da5d3ac090"
 },
 "nbformat": 3,
 "nbformat_minor": 0,
 "worksheets": [
  {
   "cells": [
    {
     "cell_type": "markdown",
     "metadata": {},
     "source": [
      "Regression Analyses in R\n",
      "===========\n",
      "\n",
      "**Vahid Mirjalili, Data Scientist**\n",
      "\n"
     ]
    },
    {
     "cell_type": "markdown",
     "metadata": {},
     "source": [
      "\n",
      "\n",
      "<table style=\"border-collapse:collapse;\">\n",
      "  <tr >\n",
      "     <td>\n",
      "     <img src=\"figs/regression.example-1.svg\" width=300 height=300></img>\n",
      "     </td>\n",
      "     \n",
      "     <td>\n",
      "     There are a dozen of regression models, that each may fit to a particular data. In this article, a handset of regression models are described with examples with **R**. \n",
      "     </td>\n",
      "   </tr>\n",
      "</table>\n",
      "\n",
      "A 2D dataset is provided as drawn below, "
     ]
    },
    {
     "cell_type": "markdown",
     "metadata": {},
     "source": [
      "# 1. Linear Regression\n",
      "\n"
     ]
    },
    {
     "cell_type": "code",
     "collapsed": false,
     "input": [],
     "language": "python",
     "metadata": {},
     "outputs": []
    },
    {
     "cell_type": "code",
     "collapsed": false,
     "input": [],
     "language": "python",
     "metadata": {},
     "outputs": []
    }
   ],
   "metadata": {}
  }
 ]
}