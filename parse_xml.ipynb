{
 "metadata": {
  "name": "",
  "signature": "sha256:69333bc1090a69967683496e5595bc7bdfb9585637e845fc9bac7fc7f3d379f2"
 },
 "nbformat": 3,
 "nbformat_minor": 0,
 "worksheets": [
  {
   "cells": [
    {
     "cell_type": "markdown",
     "metadata": {},
     "source": [
      "Parsing XML documents in python\n",
      "=========================\n",
      "\n",
      "\n",
      "## Example1: \n"
     ]
    },
    {
     "cell_type": "code",
     "collapsed": false,
     "input": [
      "import xml.etree.ElementTree as ET\n",
      "\n",
      "from prettytable import PrettyTable\n",
      "\n",
      "#########################################\n",
      "tree = ET.parse('examples/simple.xml')\n",
      "root = tree.getroot()\n",
      "print (root)\n",
      "print (tree.getroot().tag)\n",
      "tree.getroot().attrib\n",
      "\n",
      "## Access child\n",
      "for child in tree.getroot():\n",
      "    print (child.tag, child.attrib)\n"
     ],
     "language": "python",
     "metadata": {},
     "outputs": [
      {
       "output_type": "stream",
       "stream": "stdout",
       "text": [
        "<Element 'breakfast_menu' at 0x1d6f310>\n",
        "breakfast_menu\n",
        "('food', {})\n",
        "('food', {})\n",
        "('food', {})\n",
        "('food', {})\n",
        "('food', {})\n"
       ]
      }
     ],
     "prompt_number": 1
    },
    {
     "cell_type": "code",
     "collapsed": false,
     "input": [],
     "language": "python",
     "metadata": {},
     "outputs": []
    }
   ],
   "metadata": {}
  }
 ]
}