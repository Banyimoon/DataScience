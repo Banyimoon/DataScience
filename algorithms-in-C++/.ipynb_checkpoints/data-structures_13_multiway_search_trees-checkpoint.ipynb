{
 "cells": [
  {
   "cell_type": "markdown",
   "metadata": {},
   "source": [
    "Multiway Search Trees\n",
    "===\n",
    "\n",
    "\n",
    "<img src=\"figs/multiway-search-tree.png\" width=450> </img>\n",
    "\n",
    "## Definition\n",
    "\n",
    "### 3-way trees\n",
    "\n",
    " * **Elements:**\n",
    "   * left_element\n",
    "   * right_element\n",
    " \n",
    " * **References**\n",
    "   * left_tree: nodes which their elements are less than left_element\n",
    "   * middle_tree: nodes which their elements are between left_element and right_element\n",
    "   * right_tree: nodes which theire elements are greater than right_element\n",
    "   \n",
    "```c++\n",
    "template<typename Type>\n",
    "class ThreeWayNode {\n",
    "    private:\n",
    "        Type left_element, right_element;\n",
    "        ThreeWayNode *left_tree, *middle_tree, *right_tree;\n",
    "        \n",
    "    public:\n",
    "        ThreeWayNode();\n",
    "        \n",
    "        bool isFull() const;\n",
    "        \n",
    "        // traversal methods\n",
    "        void in_order_traversal();\n",
    "        void pre_order_traversal();\n",
    "        void post_order_traversal();\n",
    "        \n",
    "        void insert(Type);\n",
    "};\n",
    "```"
   ]
  },
  {
   "cell_type": "markdown",
   "metadata": {},
   "source": [
    "### Traversal\n",
    "\n",
    "#### In-order traversal\n",
    "\n",
    "#### Pre-order traversal\n",
    "\n",
    "#### Post-order traversal"
   ]
  },
  {
   "cell_type": "markdown",
   "metadata": {},
   "source": [
    "## Multi way Node\n",
    "\n",
    "```c++\n",
    "template<typename Type, int N>\n",
    "class MultiWayNode {\n",
    "    private:\n",
    "        Type elements[N];\n",
    "        MultiWayNode *[N];\n",
    "        \n",
    "    public:\n",
    "};\n",
    "```"
   ]
  },
  {
   "cell_type": "code",
   "execution_count": null,
   "metadata": {
    "collapsed": true
   },
   "outputs": [],
   "source": []
  }
 ],
 "metadata": {
  "kernelspec": {
   "display_name": "Python 3",
   "language": "python",
   "name": "python3"
  },
  "language_info": {
   "codemirror_mode": {
    "name": "ipython",
    "version": 3
   },
   "file_extension": ".py",
   "mimetype": "text/x-python",
   "name": "python",
   "nbconvert_exporter": "python",
   "pygments_lexer": "ipython3",
   "version": "3.5.1"
  }
 },
 "nbformat": 4,
 "nbformat_minor": 0
}
