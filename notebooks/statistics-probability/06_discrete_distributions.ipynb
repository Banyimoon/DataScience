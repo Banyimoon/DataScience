{
 "cells": [
  {
   "cell_type": "markdown",
   "metadata": {},
   "source": [
    "Binomial Distribution\n",
    "==="
   ]
  },
  {
   "cell_type": "markdown",
   "metadata": {},
   "source": [
    " * Efficient way of computing $Binom(k;N,p)$"
   ]
  },
  {
   "cell_type": "code",
   "execution_count": null,
   "metadata": {
    "collapsed": true
   },
   "outputs": [],
   "source": []
  },
  {
   "cell_type": "markdown",
   "metadata": {},
   "source": [
    "Hypergeometric Distributions\n",
    "==="
   ]
  },
  {
   "cell_type": "markdown",
   "metadata": {},
   "source": [
    "We have $R$ red balls, and $B$ black balls. Sample $n$ balls without replacement. \n",
    "Let $X=\\#\\text{ of red balls in sample }$.\n",
    "\n",
    "Total number of balls: $N = R + B$"
   ]
  },
  {
   "cell_type": "markdown",
   "metadata": {},
   "source": [
    "We find that $$\\mathbf{P}[X = k] = \\frac{\\left(\\begin{array}{c}n\\\\k\\end{array}\\right) \\left(\\begin{array}{c}N-n\\\\R-k\\end{array}\\right)}{\\left(\\begin{array}{c}N\\\\R\\end{array}\\right)}$$"
   ]
  },
  {
   "cell_type": "markdown",
   "metadata": {},
   "source": [
    "This is the hypergemoetric distribution. As we mentioned before, $\\mathbf{E}[X] = np$ and $\\mathbf{Var}[X] = np(1-p) \\frac{N-n}{N-1}$ where $p=\\frac{R}{R+B}$"
   ]
  },
  {
   "cell_type": "markdown",
   "metadata": {},
   "source": [
    "Note: if $n\\ll N$ and $N\\to \\infty$ and $p$ is fixed, then the hypergeometric distribution tends to the binomial distribution."
   ]
  },
  {
   "cell_type": "markdown",
   "metadata": {},
   "source": [
    "____________\n",
    "\n",
    "For discrete distributions, we say that one distribution converges to another, (as a paramater \"N\" goes to infinity) if the probability mass function of the first one converges to the other's."
   ]
  },
  {
   "cell_type": "markdown",
   "metadata": {},
   "source": [
    "Geometric and Negative Binomial Distributions\n",
    "===="
   ]
  },
  {
   "cell_type": "markdown",
   "metadata": {},
   "source": [
    "Let $r$ be a fixed integer. Let $X_1,X_2,..X_n$ be an infinite sequence of i.i.d. Berboulli random variables with success probability $p$.\n",
    "\n",
    "Let $Y_r$ be the time at which the \"rth\" success occurs.\n",
    "\n",
    "We say that $Y_r$ has the Negative Binomial Distribution with parameters $r$ and $p$."
   ]
  },
  {
   "cell_type": "markdown",
   "metadata": {},
   "source": [
    "##### Example: \n",
    "\n",
    "Let $11000110000100$ be a sequence of coin tosses.\n",
    "\n",
    " * $r=5  \\ \\ \\Rightarrow\\ Y_5 = 12$   \n",
    " * $r=2  \\ \\ \\Rightarrow\\ Y_2 = 2$   \n",
    " * $r=3  \\ \\ \\Rightarrow\\ Y_3 = 6$   \n",
    " \n",
    " "
   ]
  },
  {
   "cell_type": "markdown",
   "metadata": {},
   "source": [
    "#### Special case: $r=1$\n",
    "\n",
    "  $Y_1$ is a geometric random variable. Recall $\\mathbf{P}[Y_1 = k] = (1-p)^{k-1} \\ p$"
   ]
  },
  {
   "cell_type": "markdown",
   "metadata": {},
   "source": [
    "* What about $\\mathbf{P}[Y_r = k]$?\n",
    "\n",
    "$$\\mathbf{P}[Y_r = k] = \\star \\star \\star (1-p)^{k-r} p^r$$\n",
    "\n",
    "We need to find $\\star \\star \\star$, which is the combination of ways to get $r-1$ sucesses chosen out of $k-1$ slots: $\\left(\\begin{array}{c}k-1\\\\r-1\\end{array}\\right)$\n",
    "\n",
    "Therefore\n",
    "\n",
    "$$\\mathbf{P}[Y_r = k] = \\left(\\begin{array}{c}k-1\\\\r-1\\end{array}\\right)  (1-p)^{k-r} p^r $$"
   ]
  },
  {
   "cell_type": "markdown",
   "metadata": {},
   "source": [
    "Note: this argument works because for each configuration of successes and failures, the $probability=(1-p)^{k-1}p^r$, and also these configurations are all mutually incompatible.\n",
    "\n"
   ]
  },
  {
   "cell_type": "markdown",
   "metadata": {},
   "source": [
    "#### How to compute $\\mathbf{E}[Y_r]$ and $\\mathbf{Var}[Y_r]$ efficiently?\n",
    "\n",
    " * Recall that $\\mathbf{E}[Y_1] = \\frac{1}{p}$ and $\\mathbf{Var}[Y_1] = \\frac{1-p}{p^2}$\n",
    "   * Intuition: if the chance of winning is $0.05$, how many times you should expect to play to win for the first time? $\\frac{1}{0.05} = 20$\n",
    " \n",
    " * Then, think of it this way for $r$. It takes $Y_1$ to win the first one. Now, we start fresh and from this time, we \n",
    " \n",
    "  * therefore, $Y_r$ is eseentially the sum of how long it takes to get the first success, and how long it takes from 1st to the second, and ..... and how long it takes to get rth success from (r-1)th success.\n",
    "  \n",
    "  * Since, these times are independent of each other and all have Geometric distribution, $Geom(p)$, we can write \n",
    "  \n",
    "  $$Y_r = X_1 + X_2 + ... X_r\\text{ where }X_i\\text{'s are i.i.d. } \\ Geom(p)$$\n",
    "  \n",
    "  Therefore,\n",
    "  \n",
    "  $$\\mathbf{E}[Y_r] = r\\frac{1}{p}\\ \\ \\ \\ \\ \\ \\ \\ \\ \\ \\ \\ \\ \\mathbf{Var}[Y_r] = r\\frac{1-p}{p^2}$$"
   ]
  },
  {
   "cell_type": "markdown",
   "metadata": {
    "collapsed": true
   },
   "source": [
    "## Poisson Distribution\n",
    "\n",
    "#### Definition:\n",
    "\n",
    "We say that $X$ is Poisson distributed with parameter $\\lambda$ and we write $X\\sim Poi(\\lambda)$ if we have $$\\mathbf{P}[X=k] = e^{-\\lambda} \\frac{\\lambda^k}{k!}$$ for any $k=0,1,2,...$. \n",
    "\n",
    " * Let's compute $\\mathbf{E}[X]$:\n",
    " \n",
    "   $$\\mathbf{E}[X] = \\sum_{k=0}^{+\\infty} k \\mathbf{P}[X=k] = \\sum_{k=0} k e^{-\\lambda} \\frac{\\lambda^k}{k!} = \\\\ e^{-\\lambda} \\sum_{k=1} \\frac{k}{k!} \\lambda^k = e^{-\\lambda} \\sum_{k=1} \\frac{\\lambda^k}{(k-1)!} = \\\\ e^{\\lambda} \\sum_{k=0}\\frac{\\lambda \\lambda^{k-1}}{(k-1)!} = \\lambda e^{-\\lambda} \\sum_{k=0} \\frac{\\lambda^k}{k!} = \\lambda$$\n",
    "   \n",
    "   Therefore, $\\mathbf{E}[X] = \\lambda$"
   ]
  },
  {
   "cell_type": "markdown",
   "metadata": {},
   "source": [
    " * Similarly, we find $\\mathbf{Var}[X] = \\lambda$"
   ]
  },
  {
   "cell_type": "markdown",
   "metadata": {},
   "source": [
    "**Very important property of Poisson distribution:**  If $X_n\\sim Binom(n, \\frac{\\lambda}{n})$, then, as $n\\to \\infty$, the distribution of $X_n \\to Poi(\\lambda)$, i.e.:\n",
    "\n",
    "$$\\lim_{n\\to \\infty} \\mathbf{P}[X_n = k] = e^{-\\lambda} \\frac{\\lambda^k}{k!} \\ \\ \\ \\text{ for }k=0,1,2,..$$"
   ]
  },
  {
   "cell_type": "markdown",
   "metadata": {},
   "source": [
    "Rememeber that $$\\mathbf{P}[X_n = k] = \\left(\\begin{array}{c}n\\\\k\\end{array}\\right) (\\frac{\\lambda}{n})^k (1-\\frac{\\lambda}{n})^{n-k}$$\n",
    "\n"
   ]
  },
  {
   "cell_type": "markdown",
   "metadata": {},
   "source": [
    "Note: for large $n$, the PMF of Binomials are exteremely unlikely. That makes this theorem a terrific approximiation.\n",
    "\n",
    "Idea behind this theorem:\n",
    "\n",
    "Time axis from t=0 to t=1 divided into $n$ small pieces. Now, let $p=\\text{chance  of success}$ in any of these small intervals $=\\frac{\\lambda}{n}$. with $\\lambda$ fixed. \n",
    "So, small chance of success everytime.\n",
    "\n",
    "Total number of successes has average value=$\\mathbf{E}[Binom(n,\\frac{\\lambda}{n})] = n\\times \\frac{\\lambda}{n} = \\lambda$"
   ]
  },
  {
   "cell_type": "markdown",
   "metadata": {},
   "source": [
    "Theorem says that total number of success is actually pretty much Poisson with average value $=\\lambda$.\n",
    "\n",
    "$\\lambda=\\text{average number of successes in my interval of length 1}$\n",
    "\n",
    "**This makes Poisson a good model for a number of events of a certain type occuring in a fixed interval of time.**"
   ]
  },
  {
   "cell_type": "markdown",
   "metadata": {},
   "source": [
    "### Interesting properties of Poisson\n",
    "\n"
   ]
  },
  {
   "cell_type": "markdown",
   "metadata": {},
   "source": [
    " * If $X_1 \\sim Poi(\\lambda_1)$ and $X_2 \\sim Poi(\\lambda_2)$ and $X_1,X_2$ are independent, then $X_1+X_2\\sim Poi(\\lambda_1+\\lambda_2)$\n",
    " \n",
    "#### Inutition: \n",
    "Assume we have a time axis, with two parts, one with length $\\lambda_1$, and the other part od length $\\lambda_2$. We divide them to $2n$ components. For each interval, probability of success is $p=\\frac{1}{n}$:\n",
    "\n",
    "\n",
    "<img src=\"figs/\"></img>"
   ]
  },
  {
   "cell_type": "markdown",
   "metadata": {},
   "source": [
    "#### Corollary: \n",
    "\n",
    "Let $X_1,X_2,..X_n$ are independent $Poi(\\lambda_i)$ respectively, then $X_1+X_2+..+X_n \\sim Poi(\\lambda_1+\\lambda_2+...+\\lambda_n)$"
   ]
  },
  {
   "cell_type": "markdown",
   "metadata": {},
   "source": [
    "### Poisson Process\n",
    "\n",
    "We have a time axis. In each tiny interval of length $\\frac{1}{n}$, we have probability of success $p=\\frac{\\lambda}{n}$. For any given time $t\\in [0,+\\infty)$, let $N(t)=\"\\#\\text{ of successes}\"$ up to time $t$. \n",
    "This $N$ is actually a constructive way of defining the Poisson process. \n",
    "\n",
    "In particular, average number of successes in the interval $[0,t)$ is $\\lambda t$. And by the convergence theorem, $N(t) \\sim Poi(\\lambda t)$."
   ]
  },
  {
   "cell_type": "markdown",
   "metadata": {},
   "source": [
    "**Another interesting property:** consider $0 < s < t$. The number of successes in $[0,s]$ is $N(s)\\sim Poi(\\lambda s)$\n",
    "\n",
    "Now, number of successes in $[s,t]$ is $N(t) - N(s)$ (not $N(t-s)$), and $N(t) - N(s) \\sim Poi(\\lambda (t-s))$"
   ]
  },
  {
   "cell_type": "markdown",
   "metadata": {},
   "source": [
    "And moreover, $N(s)$ and $N(t)-N(s)$ are independent."
   ]
  },
  {
   "cell_type": "markdown",
   "metadata": {},
   "source": [
    "Note: The preoperty that if $[s,t]$ & $[u,v]$ are two time intervals which share at most one point, then $N(v) - N(u)$ and $N(t) - N(s)$ are independent, is called **independence of increments**."
   ]
  },
  {
   "cell_type": "markdown",
   "metadata": {},
   "source": [
    "##### Example:\n",
    "\n",
    "Average number of murders in a year: 540\n",
    " \n",
    " (a):\n",
    " * average # of murders in a day: $\\frac{540}{365}\\approx \\frac{3}{2}$\n",
    " \n",
    " $\\mathbf{P}[N(1)\\ge 2] = 1 - \\mathbf{P}[N(1)=0 \\text{ or } 1] = 1- \\sum_{k=0}^1 e^{-\\lambda }\\frac{\\lambda^k}{k!}$\n",
    " \n",
    "(b): \n",
    " $()^3$\n",
    " \n",
    " (c):\n",
    " $=\\mathbf{P}[N(5) = 0] $  and $N(5)\\sim Poi(5\\times \\frac{3}{2}) = e^{-5\\times \\frac{3}{2}}$"
   ]
  },
  {
   "cell_type": "markdown",
   "metadata": {},
   "source": [
    "### Preview of Wiener Process also know as Brownian Motion\n",
    "\n",
    "\n",
    "$$\\frac{X}{n} = \\frac{X_1+ X_2+..X_n}{n} \\to p$$\n",
    "\n",
    "$\\frac{X - np}{\\sqrt{n}}$ will converge in distribution to a non-trivial random variable distribution.\n",
    "\n",
    "\n",
    "$\\mathbf{Var}\\left[\\frac{X - np}{\\sqrt{n}} \\right] = \\frac{np(1-p)}{(\\sqrt{n})^2} = p(1-p)$\n",
    "\n",
    "$$\\frac{X - np}{\\sqrt{n}} \\to \\mathcal{N}(0, p(1-p))$$\n",
    "\n",
    "\n",
    "This is because of \"central limit theorem\"."
   ]
  },
  {
   "cell_type": "markdown",
   "metadata": {},
   "source": []
  }
 ],
 "metadata": {
  "kernelspec": {
   "display_name": "Python 3",
   "language": "python",
   "name": "python3"
  },
  "language_info": {
   "codemirror_mode": {
    "name": "ipython",
    "version": 3
   },
   "file_extension": ".py",
   "mimetype": "text/x-python",
   "name": "python",
   "nbconvert_exporter": "python",
   "pygments_lexer": "ipython3",
   "version": "3.5.0rc4"
  }
 },
 "nbformat": 4,
 "nbformat_minor": 0
}
