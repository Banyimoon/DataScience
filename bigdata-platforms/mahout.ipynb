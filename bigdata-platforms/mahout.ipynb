{
 "cells": [
  {
   "cell_type": "markdown",
   "metadata": {},
   "source": [
    "Mahout\n",
    "===\n",
    "\n",
    "### K-means clustering with mahout\n",
    "\n",
    "```\n",
    "```\n",
    "\n",
    " * Options:\n",
    "  * -i : input directory (can use tf-vectors or tfidf-vectors)\t\n",
    "  * -o: output directory\n",
    "  * -k: number of clusters\t\n",
    "  * -x: maximum number of iterations to execute k-means\n",
    "  * -c: initial centroids (if k is specified, a random set of points will be selected and written to this directory)\n",
    "  * -dm: distance measure\n",
    "  * -cl: assigns the input docs to clusters at the end of the process and puts the results in outputdir/clusteredPoints directory\n",
    " "
   ]
  },
  {
   "cell_type": "markdown",
   "metadata": {},
   "source": [
    "### Document clustering woth Mahout\n",
    "\n",
    "#### Getting ready\n",
    "  * Upload the data onto HDFS\n",
    "\n",
    "```\n",
    "hadoop dfs -copyFromLocal email /user/hduser/email/input\n",
    "```\n",
    "\n",
    "#### Step 1: Create a sequence file\n",
    "\n",
    "```\n",
    "mahout seqdirectory -i /user/hduser/email/input -o email/seqdir -ow -c UTF-8\n",
    "```\n",
    "\n",
    " * Display the sequence\n",
    " \n",
    "```\n",
    "mahout seqdumper -s /user/hduser/email/seqdir/chucnk-0\n",
    "```\n",
    "\n",
    "#### Step 2: Generate sparse feature vectors\n",
    "\n",
    "```\n",
    "mahout seq2sparse -i email/seqdir -o email/sparse -nv -ow\n",
    "```\n",
    "\n",
    " * List the sparse directory\n",
    "\n",
    "```\n",
    "hadoop dfs -ls /user/hduser/email/sparse\n",
    "```\n",
    "\n",
    " * Display the dictionary of feature vectors\n",
    " \n",
    "```\n",
    "mahout seqdumper -s email/sparse/dictionary.file-0 \n",
    "```\n",
    "\n",
    " * View the **TFIDF** vector\n",
    " \n",
    "```\n",
    "mahout seqdumper -s email/sparse/tfidf-vectors/part-r-00000\n",
    "```\n",
    "\n",
    "### Step 3: apply k-means clustering\n",
    "\n",
    "```\n",
    "mahout kmeans -i email/sparse/tfidf-vectors -c email/centroids -o email/output -dm org.apache.mahout.common.distance.CosineDistanceMeasure -k 2 -x 10 -ow -cl\n",
    "```"
   ]
  },
  {
   "cell_type": "code",
   "execution_count": null,
   "metadata": {
    "collapsed": true
   },
   "outputs": [],
   "source": []
  }
 ],
 "metadata": {
  "kernelspec": {
   "display_name": "Python 3",
   "language": "python",
   "name": "python3"
  },
  "language_info": {
   "codemirror_mode": {
    "name": "ipython",
    "version": 3
   },
   "file_extension": ".py",
   "mimetype": "text/x-python",
   "name": "python",
   "nbconvert_exporter": "python",
   "pygments_lexer": "ipython3",
   "version": "3.5.1"
  }
 },
 "nbformat": 4,
 "nbformat_minor": 0
}
