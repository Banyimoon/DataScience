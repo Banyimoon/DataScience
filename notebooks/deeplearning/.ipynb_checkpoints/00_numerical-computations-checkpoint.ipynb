{
 "cells": [
  {
   "cell_type": "markdown",
   "metadata": {},
   "source": [
    "## Overflow and Underflow Computation"
   ]
  },
  {
   "cell_type": "markdown",
   "metadata": {},
   "source": [
    "## Optimization: Gradeint Descent\n",
    "\n",
    "Let $f:\\mathbb{R}\\to\\mathbb{R}$:\n",
    "\n",
    "$$f(x+\\epsilon) \\approx f(x) + \\epsilon f'(x)$$\n",
    "\n",
    "$\\displaystyle \\left\\{\\begin{array}{lr}\\text{If }f'(x)>0:& f(x+\\epsilon)>f(x)\\\\\\text{If }f'(x)<0:& f(x+\\epsilon)<f(x)\\end{array}\\right.$\n",
    "\n",
    "The short form of the above will be $f(x + \\epsilon sign(f'(x))) > f(x)$"
   ]
  },
  {
   "cell_type": "markdown",
   "metadata": {},
   "source": [
    "## First and Second Derivatives\n",
    "\n",
    "Let $f$ be a **multi-input, single output** function, i.e.: $f:\\mathbb{R}^n\\to\\mathbb{R}$. Then, vector $\\mathbf{x}$ is the input for function $f(\\mathbf{x})$, and partial derivative of $f$ with respect to the ith input is $\\frac{\\partial f(\\mathbf{x})}{\\partial x_i}$.\n",
    "\n",
    "### Gradient\n",
    "\n",
    "The vector containing all partial derivatives of $f$ is denoted by $\\nabla_\\mathbf{x} f(\\mathbf{x}) = \\left(\\frac{\\partial f(\\mathbf{x})}{\\partial x_1}, \\frac{\\partial f(\\mathbf{x})}{\\partial x_2}, ... \\frac{\\partial f(\\mathbf{x})}{\\partial x_n}\\right)$"
   ]
  },
  {
   "cell_type": "markdown",
   "metadata": {},
   "source": [
    "## Jacobian Matrix\n",
    "\n",
    "If $\\mathbf{f}$ is a **multi-input, multi-output** function, i.e. $\\mathbf{f}:\\mathbb{R}^n\\to\\mathbb{R}^m$ ($\\mathbf{f}(\\mathbf{x}) = \\left(f_1(\\mathbf{x}), f_2(\\mathbf{x}), ...,f_n(\\mathbf{x})\\right)$), then Jacobian of $\\mathbf{f}$ denoted by $J$ is matrix whose $i,j$th element is partial derivative of the $i$th output with resepect to the $j$th input: $J_{i,j} = \\frac{\\partial f_i(\\mathbf{x})}{\\partial x_j}$:\n",
    "\n",
    "$$J=\\left[\\begin{array}{cccc}\\frac{\\partial f_1}{\\partial x_1}&\\frac{\\partial f_1}{\\partial x_1}&...&\\frac{\\partial f_1}{\\partial x_n}\\\\\\frac{\\partial f_2}{\\partial x_1}&\\frac{\\partial f_2}{\\partial x_2}&...&\\frac{\\partial f_2}{\\partial x_n}\\\\..&..&..&..\\\\\\frac{\\partial f_n}{\\partial x_1}&\\frac{\\partial f_n}{\\partial x_2}&...&\\frac{\\partial f_n}{\\partial x_n}\\end{array}\\right]$$"
   ]
  },
  {
   "cell_type": "markdown",
   "metadata": {},
   "source": [
    "## Hessian Matrix\n",
    "\n"
   ]
  },
  {
   "cell_type": "markdown",
   "metadata": {},
   "source": [
    "### Important properties of Hessian \n",
    "\n",
    " * $v^T \\mathbf{H}\\ v$ \n",
    "    * If $v$ is one of the eigenvectors of $\\mathbf{H}$:\n",
    "    * If $v$ is not an eigenvector:\n",
    "    \n",
    "**Build intuition:** What it means if $\\mathbf{H}$ is positive-definite, (i.e. all eigen-values are positive)?"
   ]
  },
  {
   "cell_type": "markdown",
   "metadata": {},
   "source": [
    "### Taylor Series Expansion\n",
    "\n",
    "$$f(\\mathbf{x}) \\approx f(\\mathbf{x}^{(0)}) + (\\mathbf{x}-\\mathbf{x}^{(0)})\\nabla_\\mathbf{x}f(\\mathbf{x}^{(0)}) + \\frac{1}{2} (\\mathbf{x}-\\mathbf{x}^{(0)})^T\\mathbf{H}(\\mathbf{x}-\\mathbf{x}^{(0)})$$\n",
    "\n",
    "\n",
    "\n",
    "**Optimal Step Size:** $\\displaystyle \\epsilon^* = \\frac{g^T g}{g^T \\mathbf{H} g}$"
   ]
  },
  {
   "cell_type": "markdown",
   "metadata": {},
   "source": [
    "## Gradient Descent Failure Case\n",
    "\n",
    " * Different second derivative in different directions\n",
    " * Step size"
   ]
  },
  {
   "cell_type": "markdown",
   "metadata": {},
   "source": [
    "### Newton's method"
   ]
  },
  {
   "cell_type": "code",
   "execution_count": null,
   "metadata": {
    "collapsed": true
   },
   "outputs": [],
   "source": []
  }
 ],
 "metadata": {
  "kernelspec": {
   "display_name": "Python 3",
   "language": "python",
   "name": "python3"
  },
  "language_info": {
   "codemirror_mode": {
    "name": "ipython",
    "version": 3
   },
   "file_extension": ".py",
   "mimetype": "text/x-python",
   "name": "python",
   "nbconvert_exporter": "python",
   "pygments_lexer": "ipython3",
   "version": "3.5.0rc4"
  }
 },
 "nbformat": 4,
 "nbformat_minor": 0
}
