{
 "cells": [
  {
   "cell_type": "markdown",
   "metadata": {},
   "source": [
    "Constrained Clustering\n",
    "===\n",
    "\n",
    "Forms of constraints:\n",
    " * Must-Link $ML(a,b)$\n",
    " * Cannot-Link $CL(a,b)$\n",
    " \n",
    "Properties of constraints:\n",
    " * Transitive property: $ML(a,b)\\ \\&\\ ML(b,c)\\ \\rightarrow\\ ML(a,c)$\n",
    " * Symmetric\n",
    " * Reflexive\n",
    " \n",
    "$CL(a,b) \\ \\&\\ ML(b,c) \\ \\rightarrow \\ CL(a,c)$"
   ]
  },
  {
   "cell_type": "markdown",
   "metadata": {},
   "source": [
    "### Constrained Clustering Algorithms\n",
    "\n",
    " * **constraint-based methods**\n",
    " * **distance-based methods**"
   ]
  },
  {
   "cell_type": "code",
   "execution_count": null,
   "metadata": {
    "collapsed": true
   },
   "outputs": [],
   "source": []
  }
 ],
 "metadata": {
  "kernelspec": {
   "display_name": "Python 3",
   "language": "python",
   "name": "python3"
  },
  "language_info": {
   "codemirror_mode": {
    "name": "ipython",
    "version": 3
   },
   "file_extension": ".py",
   "mimetype": "text/x-python",
   "name": "python",
   "nbconvert_exporter": "python",
   "pygments_lexer": "ipython3",
   "version": "3.5.1"
  }
 },
 "nbformat": 4,
 "nbformat_minor": 0
}
