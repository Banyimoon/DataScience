{
 "cells": [
  {
   "cell_type": "markdown",
   "metadata": {},
   "source": [
    "Tree Data Structures\n",
    "========\n",
    "\n",
    "Tree data structures are recursive\n",
    "\n",
    "Tree is a nonlinear data structure\n",
    "\n",
    "\n",
    "## Definitions of Tree Terminology\n",
    "\n",
    "#### Node\n",
    "#### Root\n",
    "#### Edge\n",
    "#### Descendants\n",
    "#### Anscestors\n"
   ]
  },
  {
   "cell_type": "markdown",
   "metadata": {},
   "source": [
    "### HTML and CSS\n",
    "\n",
    "```html\n",
    "<html>\n",
    " <head>\n",
    " \n",
    " </head>\n",
    " \n",
    " <body>\n",
    "   <h1> This is a <u> Heading </u>  </h1>\n",
    "   <p>  This is a paragraph with some <u> underlined </u> text.  </p>\n",
    " </body>\n",
    "\n",
    "</html>\n",
    "```\n",
    "\n",
    "##### CSS\n",
    "\n",
    "```html\n",
    "<style type=\"text/css\">\n",
    "    h1 { color:blue; }\n",
    "    u  { color:red; }\n",
    "</style>\n",
    "```"
   ]
  },
  {
   "cell_type": "markdown",
   "metadata": {
    "collapsed": true
   },
   "source": [
    "General Tree\n",
    "===\n",
    "\n",
    "### Implementation using linked-list\n",
    "\n",
    "\n"
   ]
  },
  {
   "cell_type": "markdown",
   "metadata": {},
   "source": [
    "```c++\n",
    "class Tree {\n",
    "    \n",
    "    public:\n",
    "};\n",
    "```"
   ]
  },
  {
   "cell_type": "markdown",
   "metadata": {},
   "source": [
    "#### Height of a tree\n",
    "\n",
    "```c++\n",
    "template <typename Type>\n",
    "int Simple_tree<Type>::size() const {\n",
    "    int s = 1;\n",
    "    \n",
    "    for (\n",
    "        Single_node<Simple_tree *> *ptr = children.head();\n",
    "        ptr != nullptr;\n",
    "        ptr -> next();\n",
    "    ) {\n",
    "        h = std::max(h, 1+ptr->retrieve()->height());\n",
    "    }\n",
    "}\n",
    "```"
   ]
  },
  {
   "cell_type": "markdown",
   "metadata": {},
   "source": [
    "## Tree Traversal\n",
    "\n",
    "* **Pre-order depth-first traversal** the root is visited first  \n",
    "* **Post-order depth-first traversal** the root is visited last (return a node if all its children are already visited)   \n",
    "* **In-order traversal**  \n",
    "\n",
    "\n",
    "We can use **stacks** for depth-first traversal.\n"
   ]
  },
  {
   "cell_type": "markdown",
   "metadata": {},
   "source": [
    "```c++\n",
    "template <typename Type>\n",
    "\n",
    "void Simple_tree<Type>::depth_first_traversal() const {\n",
    "    std::cout << element << \" \";\n",
    "    \n",
    "    for (\n",
    "    ) {\n",
    "        ptr->\n",
    "    }\n",
    "};\n",
    "```"
   ]
  },
  {
   "cell_type": "markdown",
   "metadata": {},
   "source": [
    "### Print the hierarchy tree\n",
    "\n",
    "```c++\n",
    "template \n",
    "\n",
    "void Simple_tree<Type>::print(int depth) const {\n",
    "\n",
    "};\n",
    "```"
   ]
  },
  {
   "cell_type": "code",
   "execution_count": null,
   "metadata": {
    "collapsed": true
   },
   "outputs": [],
   "source": []
  }
 ],
 "metadata": {
  "kernelspec": {
   "display_name": "Python 3",
   "language": "python",
   "name": "python3"
  },
  "language_info": {
   "codemirror_mode": {
    "name": "ipython",
    "version": 3
   },
   "file_extension": ".py",
   "mimetype": "text/x-python",
   "name": "python",
   "nbconvert_exporter": "python",
   "pygments_lexer": "ipython3",
   "version": "3.4.3"
  }
 },
 "nbformat": 4,
 "nbformat_minor": 0
}
