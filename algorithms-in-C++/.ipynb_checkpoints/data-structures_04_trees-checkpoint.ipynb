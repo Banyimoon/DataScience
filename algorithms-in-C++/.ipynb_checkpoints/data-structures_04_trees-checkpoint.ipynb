{
 "cells": [
  {
   "cell_type": "markdown",
   "metadata": {},
   "source": [
    "Tree Data Structures\n",
    "========\n",
    "\n",
    "Tree data structures are recursive\n",
    "\n",
    "Tree is a nonlinear data structure\n",
    "\n",
    "\n",
    "<img src=\"figs/simple-tree.png\" width=400></img>\n",
    "\n",
    "\n",
    "## Definitions of Tree Terminology\n",
    "\n",
    "**Tree**  rooted tree stored information in nodes. Edges ina tree represnt the parent-child relationship between nodes.\n",
    "\n",
    "**degree of a node** is defined as its number of children.\n",
    "\n",
    "**leaf nodes** are nodes with degree 0, i.e. $deg(l)=0$\n",
    "\n",
    "**path** is a sequence of nodes such as $<a_0, a_1, a_2, .. a_n>$ where $a_{k+1}$ is a child of $a_k$. The length of this path is $n$. \n",
    "\n",
    "In a rooted tree, there is always a unique path from root to any node.\n",
    "\n",
    "**depth** of a node is the length of th path from root to that node.\n",
    "\n",
    "**height** of a tree is the maximum depth of any node within the tree.\n",
    "\n",
    "**ancestor and descendant:** node $a$ is called to be ancestor of $b$ if there is a path from $a$ to $b$. Then, $b$ is called a descendent of $a$.\n",
    "\n"
   ]
  },
  {
   "cell_type": "markdown",
   "metadata": {},
   "source": [
    "### HTML and CSS\n",
    "\n",
    "```html\n",
    "<html>\n",
    " <head>\n",
    " \n",
    " </head>\n",
    " \n",
    " <body>\n",
    "   <h1> This is a <u> Heading </u>  </h1>\n",
    "   <p>  This is a paragraph with some <u> underlined </u> text.  </p>\n",
    " </body>\n",
    "\n",
    "</html>\n",
    "```\n",
    "\n",
    "##### CSS\n",
    "\n",
    "```html\n",
    "<style type=\"text/css\">\n",
    "    h1 { color:blue; }\n",
    "    u  { color:red; }\n",
    "</style>\n",
    "```"
   ]
  },
  {
   "cell_type": "markdown",
   "metadata": {
    "collapsed": true
   },
   "source": [
    "General Tree\n",
    "===\n",
    "\n",
    "### Implementation using linked-list\n",
    "\n",
    "\n"
   ]
  },
  {
   "cell_type": "markdown",
   "metadata": {},
   "source": [
    "```c++\n",
    "class Simple_tree {\n",
    "    private:\n",
    "        Type element;\n",
    "        Simple_tree *parent_node;\n",
    "        Single_list<Siple_tree *> children;\n",
    "        \n",
    "    public:\n",
    "        Simple_tree(Type const & = Type(), \n",
    "};\n",
    "```"
   ]
  },
  {
   "cell_type": "markdown",
   "metadata": {},
   "source": [
    "#### Height of a tree\n",
    "\n",
    "```c++\n",
    "template <typename Type>\n",
    "int Simple_tree<Type>::size() const {\n",
    "    int s = 1;\n",
    "    \n",
    "    for (\n",
    "        Single_node<Simple_tree *> *ptr = children.head();\n",
    "        ptr != nullptr;\n",
    "        ptr -> next();\n",
    "    ) {\n",
    "        h = std::max(h, 1+ptr->retrieve()->height());\n",
    "    }\n",
    "}\n",
    "```"
   ]
  },
  {
   "cell_type": "markdown",
   "metadata": {},
   "source": [
    "## Tree Traversal\n",
    "\n",
    "* **Pre-order depth-first traversal** the root is visited first  \n",
    "* **Post-order depth-first traversal** the root is visited last (return a node if all its children are already visited)   \n",
    "* **In-order traversal**  \n",
    "\n",
    "\n",
    "We can use **stacks** for depth-first traversal.\n"
   ]
  },
  {
   "cell_type": "markdown",
   "metadata": {},
   "source": [
    "```c++\n",
    "template <typename Type>\n",
    "\n",
    "void Simple_tree<Type>::depth_first_traversal() const {\n",
    "    std::cout << element << \" \";\n",
    "    \n",
    "    for (\n",
    "    ) {\n",
    "        ptr->\n",
    "    }\n",
    "};\n",
    "```"
   ]
  },
  {
   "cell_type": "markdown",
   "metadata": {},
   "source": [
    "### Print the hierarchy tree\n",
    "\n",
    "```c++\n",
    "template \n",
    "\n",
    "void Simple_tree<Type>::print(int depth) const {\n",
    "\n",
    "};\n",
    "```"
   ]
  },
  {
   "cell_type": "code",
   "execution_count": null,
   "metadata": {
    "collapsed": true
   },
   "outputs": [],
   "source": []
  }
 ],
 "metadata": {
  "kernelspec": {
   "display_name": "Python 3",
   "language": "python",
   "name": "python3"
  },
  "language_info": {
   "codemirror_mode": {
    "name": "ipython",
    "version": 3
   },
   "file_extension": ".py",
   "mimetype": "text/x-python",
   "name": "python",
   "nbconvert_exporter": "python",
   "pygments_lexer": "ipython3",
   "version": "3.5.1"
  }
 },
 "nbformat": 4,
 "nbformat_minor": 0
}
