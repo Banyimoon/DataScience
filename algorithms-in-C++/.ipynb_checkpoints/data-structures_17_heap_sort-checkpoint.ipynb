{
 "cells": [
  {
   "cell_type": "markdown",
   "metadata": {},
   "source": [
    "Heap Sort\n",
    "====\n"
   ]
  },
  {
   "cell_type": "markdown",
   "metadata": {},
   "source": [
    "<img src=\"figs/heap_sort_init.png\" width=500></img>"
   ]
  },
  {
   "cell_type": "markdown",
   "metadata": {},
   "source": [
    "## In-place Heapification\n",
    "\n",
    "Two possible strategies:\n",
    " 1. **Start from leaves, and percolate up**\n",
    " 2. **Start from root, and percolate down**"
   ]
  },
  {
   "cell_type": "markdown",
   "metadata": {
    "collapsed": true
   },
   "source": [
    "<img src=\"figs/heap_sort_heapification_from_leaves.png\" width=600></img>"
   ]
  },
  {
   "cell_type": "markdown",
   "metadata": {
    "collapsed": true
   },
   "source": [
    "## Runnin-time Analysis of Heap Sort\n",
    "\n",
    "\n",
    "Recall that for a prefect binary tree, we have $n = 2^{h+1} - 1$ and the height is determined as $h = \\ln(n+1) - 1$\n",
    "\n",
    "* **Poping one element from a heap of $n$ nodes:** $\\displaystyle \\mathcal{O}\\left(\\ln n \\right)$\n",
    "\n",
    "* **Pop all $n$ elements of a heap:** $\\displaystyle \\sum_{k=1}^{n} \\ln(k) = \\ln \\left(\\prod_{k=1}^{n} k \\right) = \\ln \\left( n !\\right)$\n",
    "\n",
    "\n",
    "* **In-place heapification:**\n",
    "\n",
    " $$\\sum_{k=0}^h 2^k(h-k) = \\left(2^{k+1} - 1 \\right) - (h + 1)$$"
   ]
  },
  {
   "cell_type": "markdown",
   "metadata": {
    "collapsed": true
   },
   "source": [
    " **Note:** you can use *lgamma* or *ln_gamma* or *lnGAMMA* functions to calculate the factorial functions without intermediate very large numbers. The definition is $$\\ln\\left( n!\\right) = lgamma\\left( n + 1\\right)$$\n",
    " \n",
    "```c++\n",
    "#include <stdio.h>    \n",
    "#include <math.h>   \n",
    "\n",
    "int main ()\n",
    "{\n",
    "  double param, result;\n",
    "  param = 0.5;\n",
    "  result = lgamma (param);\n",
    "  printf (\"lgamma(%f) = %f\\n\", param, result );\n",
    "  return 0;\n",
    "}\n",
    "```"
   ]
  },
  {
   "cell_type": "code",
   "execution_count": null,
   "metadata": {
    "collapsed": true
   },
   "outputs": [],
   "source": []
  }
 ],
 "metadata": {
  "kernelspec": {
   "display_name": "Python 3",
   "language": "python",
   "name": "python3"
  },
  "language_info": {
   "codemirror_mode": {
    "name": "ipython",
    "version": 3
   },
   "file_extension": ".py",
   "mimetype": "text/x-python",
   "name": "python",
   "nbconvert_exporter": "python",
   "pygments_lexer": "ipython3",
   "version": "3.5.1"
  }
 },
 "nbformat": 4,
 "nbformat_minor": 0
}
