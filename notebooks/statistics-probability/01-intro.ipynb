{
 "cells": [
  {
   "cell_type": "markdown",
   "metadata": {},
   "source": [
    "Theory of Probability and Statistics\n",
    "=========\n",
    "\n",
    " * Understanding stochastic phenomena (greek word stochos)"
   ]
  },
  {
   "cell_type": "markdown",
   "metadata": {},
   "source": [
    "## Probability Space\n",
    "\n",
    "Probability space which is  also called \"sample space\", the space of all possible outcomes and is often denoted as $\\Omega$. \n",
    "\n",
    "##### Example\n",
    "\n",
    "For example, the possible oucomes for throwing a 6-sided die is $\\Omega = \\left\\{ 1,2,3,4,5,6\\right\\}$. Therefore, $\\Omega$ is the probability space for this experiment.\n",
    "\n",
    "\n",
    "##### Definition:\n",
    " *  **Elementary Outcome** is an outcome that cannot be broken down into a set of other outcomes.\n",
    "\n",
    " *  **Probability Space** is the set of all possible elementary outcomes from an experiment.\n",
    " \n",
    "In the example above, each of the six possible outcomes are equally likely. This means that each elementary outcome has probability $1/6$.\n",
    "\n",
    " * (Q) What is the chance of rolling an even number?\n",
    "   * (A) The set of even numbers from a die is $\\{2,4,6\\}$. Therefore, the probability is $3/6 = 1/2$.\n",
    "   \n",
    "##### Notation\n",
    "\n",
    "Let $A = \\{2,4,6\\}$. \n",
    " * A is evidently a subset of $\\Omega$.\n",
    " * Any subset of $\\Omega$ by definition is an **event**.\n",
    " * We say probability of event $A$ is $\\mathbf{P}[A] = 1/2$\n",
    " * This equality is because $\\mathbf{P}[A] = \\mathbf{P}[\\{2,4,6\\}] = \\mathbf{P}[\\{2\\}] + \\mathbf{P}[\\{4\\}] + \\mathbf{P}[\\{6\\}] = 1/6 + 1/6 + 1/6 = 1/2$\n",
    " \n",
    "**Note:** we can separate $\\mathbf{P}[\\{2,4,6\\}]$ into $\\mathbf{P}[\\{2\\}] + \\mathbf{P}[\\{4\\}] + \\mathbf{P}[\\{6\\}]$ because these events are **incompatible (disjoint)** events. Meaning that they cannot occur at the same time.\n",
    "\n",
    " * Incomaptible events are also called **disjoint events**. Two evets $A, B$ are disjoint if $A \\cap B = \\varnothing \\ \\ \\text{(empty set)}$"
   ]
  },
  {
   "cell_type": "markdown",
   "metadata": {
    "collapsed": true
   },
   "source": [
    "## Formal Axioms of Probability\n",
    "\n",
    "For a probability space $\\Omega$ and probability measure $\\mathbf{P}$ (probability of any event $A \\subseteq \\Omega$ is $\\mathbf{P}[A]$ ):\n",
    "\n",
    " * **Axiom 1:** $\\mathbf{P}[A] \\ge 0$ for every event $A \\subseteq \\Omega$\n",
    " * **Axiom 2:** If $A_1, A_2, ... A_n, ..$ is a countable family of disjoint events, then $\\mathbf{P}[A_1 \\cup A_2 \\cup ... \\cup A_n .. ] = \\mathbf{P}[A_1] + \\mathbf{P}[A_2] + ... + \\mathbf{P}[A_n] + ...$\n",
    " * **Axiom 3:** $\\mathbf{P}[\\Omega] = 1$"
   ]
  },
  {
   "cell_type": "markdown",
   "metadata": {},
   "source": [
    "### Discrete Probability Space\n",
    "\n",
    "If $\\Omega$ is countable (finite or infinite), then we say we have a **discrete probability space**, and we can replace axioms 1&2 with\n",
    " * **Axiom 1:** $\\forall \\omega \\in \\Omega, \\ \\ \\mathbf{P}[\\{\\omega\\}] \\ge 0$\n",
    " * **Axiom 2:** $\\forall A \\subseteq \\Omega, \\mathbf{P}[A] = \\displaystyle \\sum_{\\omega \\in \\Omega} \\mathbf{P}[\\{\\omega\\}]$"
   ]
  },
  {
   "cell_type": "markdown",
   "metadata": {},
   "source": [
    "##### Example: toss of 3 coins\n",
    "\n",
    "The possible outcomes are $HHH\\ \\ HHT\\ HTT\\ TTT\\ TTH\\ THT$\n",
    "\n",
    "Based on the rule of **\"equally likely outcomes\"**, we conclude that each of the above outcomes has probability $1/6$."
   ]
  },
  {
   "cell_type": "markdown",
   "metadata": {},
   "source": [
    "### Theorem\n",
    "\n",
    " * If $\\Omega$ has equally likely outcomes, then $\\forall \\omega \\in \\Omega, \\ \\ \\mathbf{P}[\\{\\omega\\}] = \\displaystyle \\frac{1}{\\left\\vert\\Omega \\right\\vert}$\n",
    " \n",
    "### Corollary\n",
    "\n",
    " * If $\\Omega$ has equally likely outcomes, then $\\forall A \\subseteq \\Omega, \\ \\ \\mathbf{P}[A] = \\displaystyle \\frac{\\vert A \\vert}{\\vert \\Omega \\vert}$"
   ]
  },
  {
   "cell_type": "markdown",
   "metadata": {},
   "source": [
    "## Properties of Probability Measure\n",
    "\n",
    " 1. $\\mathbf{P}[\\varnothing] = 0$\n",
    "   * **Proof:** $\\Omega$ and $\\varnothing$ are disjoint sets because $\\Omega \\cap \\varnothing = \\varnothing$.\n",
    "   Therefore, $\\mathbf{P}[\\Omega \\cup \\varnothing] = \\mathbf{P}[\\Omega] + \\mathbf{P}[\\varnothing]$  \n",
    "   which is $\\mathbf{P}[\\Omega] = \\mathbf{P}[\\Omega] + \\mathbf{P}[\\varnothing]$  \n",
    "   and results in $\\mathbf{P}[\\varnothing] = 0$\n",
    "   \n",
    " 2. $\\mathbf{P}[A^c] = 1 - \\mathbf{P}[A]$, where $A^c$ is the complement of event $A$  \n",
    " 3. $\\mathbf{P}[A\\cup B] = \\mathbf{P}[A] + \\mathbf{P}[B] - \\mathbf{P}[A \\cap B]$\n",
    "   * similarly for any three events: $\\mathbf{P}[A \\cup B \\cup C ] = \\mathbf{P}[A] + \\mathbf{P}[B] + \\mathbf{P}[C] - \\mathbf{P}[A \\cap B] - \\mathbf{P}[A \\cap C] - \\mathbf{P}[B \\cap C] + \\mathbf{P}[A \\cap B \\cap C]$"
   ]
  },
  {
   "cell_type": "markdown",
   "metadata": {},
   "source": [
    "#### Example:\n",
    "\n",
    "Given weather data for two consecutive days in a city, we have the following rain events\n",
    " * $R_1$ event that day 1 had rain\n",
    " * $R_2$ event that day 2 had rain\n",
    "and these probabilities hold: $\\mathbf{P}[R_1] = 0.6$, $\\mathbf{P}[R_2] = 0.5$, and $\\mathbf{P}[R_1 \\cap R_2^c] = 0.2$.\n",
    "\n",
    "*(Question)* Find the following probabilities: $\\mathbf{P}[R_1 \\cap R_2]=?\\ \\ $  $\\mathbf{P}[R_1^c \\cap R_2] = ?\\ \\ $ and $\\mathbf{P}[R_1 \\cup R_2]=?$\n",
    "\n",
    " * *(Answer for $\\mathbf{P}[R_1 \\cap R_2]$)*   \n",
    "  $R_1 \\cap R_2$ and $R_1 \\cap R_2^c$ are two disjoint events. Therefore, $\\mathbf{P}[R_1\\cap R_2 \\ \\ \\cup\\ \\ R_1 \\cap R_2^c] = \\mathbf{P}[R_1\\cap R_2] + \\mathbf{P}[R_1\\cap R_2^c]$.   \n",
    " And we know that $R_1\\cap R_2 \\ \\ \\cup R_1 \\cap R_2^c = R_1$. Therefore, $\\mathbf{P}[R_1] = \\mathbf{P}[R_1 \\cap R_2] + \\mathbf{P}[R_1 \\cap R_2^c]$.  \n",
    " After rearranging the terms, it results in $\\mathbf{P}[R_1 \\cap R_2] = \\mathbf{P}[R_1] - \\mathbf{P}[R_1\\cap R_2^c] = 0.6 - 0.2 = 0.4$\n",
    " * *(Answer for $\\mathbf{P}[R_1^c \\cap R_2]$)*  \n",
    " similar to the reason in the previous case, we can conclude that $\\mathbf{P}[R_1^c \\cap R_2] = \\mathbf{P}[R_2] - \\mathbf{P}[R_1 \\cap R_2] = 0.5 - 0.4 = 0.1$\n",
    " * *(Answer for $\\mathbf{P}[R_1 \\cup R_2]$)\n",
    " using property #3: $\\mathbf{P}[R_1 \\cup R_2] = \\mathbf{P}[R_1] + \\mathbf{P}[R_2] - \\mathbf{P}[R_1 \\cap R_2]$  \n",
    " which results in $\\mathbf{P}[R_1 \\cup R_2] = 0.6 + 0.5 - 0.4 = 0.7$"
   ]
  },
  {
   "cell_type": "markdown",
   "metadata": {},
   "source": [
    "#### Examle:\n",
    "\n",
    "We are forming a jury of 6 people taken randomy among 15, where 8 of them are men. and 7 are women.   \n",
    " *(Question)* What is the chance that there are exactly two women in the jury?\n",
    " \n",
    " * *(Answer)* For this we need to recall the notion of combination (see below).  \n",
    " The total number of ways of choosing a jury: $\\displaystyle \\left(\\begin{array}{c} 15 \\\\ 6\\end{array}\\right) = \\frac{15\\times 14 \\times 13 \\times 12 \\times 11 \\times 10}{6 \\times 5 \\times 4 \\times 3 \\times 2 \\times 1} = 5005$\n",
    " \n",
    " Number of ways to have exactly 2 women in the jury (which also implicitly implies 4 men in the jury):  $\\#(\\text{ways choosing 2 women}) \\times \\#(\\text{ways choosing 4 men})$  \n",
    "  $\\displaystyle \\#(\\text{ways choosing 2 women out of 7}) = \\left(\\begin{array}{c} 7 \\\\ 2\\end{array}\\right) = \\frac{7\\times 6}{2 \\ times 1} = 21$  \n",
    "  $\\displaystyle \\#(\\text{ways choosing 4 men out of 8}) = \\left(\\begin{array}{c} 8 \\\\ 4\\end{array}\\right) = \\frac{8\\times 7\\times  6\\times 5}{4\\times 3 \\times 2 \\ times 1} = 70$\n",
    "  \n",
    "  total number of choosing a jury of 6 with 2 women and 4 men: $70 \\times 21 = 1470$  \n",
    "  Finally: Probability of choosing a jury of 6 with 2 women and 4 men: $\\mathbf{P}[A] = \\displaystyle \\frac{1470}{5005} = 0.2937$"
   ]
  },
  {
   "cell_type": "markdown",
   "metadata": {},
   "source": [
    "### Combination and Permutation\n",
    "\n",
    "**Notation:** $\\left(\\begin{array}{c} n \\\\ k\\end{array}\\right) = \\text{n choose k} $  combination:  \n",
    "  is the number of ways to choose a subset of size $k$ among a set of size $n$. \n",
    "\n",
    "$$\\left(\\begin{array}{c} n \\\\ k\\end{array}\\right) = \\frac{n!}{k! (n-k)!} = \\frac{n(n-1)(n-2) .. (n-k+1)}{k(k-1)(k-2) .. 1}$$\n",
    "\n",
    " * Always remember that numerator and denumerator have the same number of multiplication coefficients, which is $k$\n",
    " * In combination, the order of picking items does not matter.\n",
    " * It can be proven that combination is always an integer number.\n",
    " \n",
    "**Notation:** $P(n,k)$ or $A^k_n$ = permutation of k elements takn among n elements = an \"arrangment\":  \n",
    "  since the are $k!$ ways to order $k$ selected elements, we get \n",
    "  \n",
    "  $$P(n,k)=\\left(\\begin{array}{c} n \\\\ k\\end{array}\\right) k! = \\frac{n!}{(n-k)!}$$"
   ]
  },
  {
   "cell_type": "markdown",
   "metadata": {},
   "source": [
    "#### Example\n",
    "In game of poker, a ***full house*** is a poker hand which contains three cards of the same rank and two other cards of another rank. "
   ]
  }
 ],
 "metadata": {
  "kernelspec": {
   "display_name": "Python 3",
   "language": "python",
   "name": "python3"
  },
  "language_info": {
   "codemirror_mode": {
    "name": "ipython",
    "version": 3
   },
   "file_extension": ".py",
   "mimetype": "text/x-python",
   "name": "python",
   "nbconvert_exporter": "python",
   "pygments_lexer": "ipython3",
   "version": "3.5.4"
  }
 },
 "nbformat": 4,
 "nbformat_minor": 1
}
