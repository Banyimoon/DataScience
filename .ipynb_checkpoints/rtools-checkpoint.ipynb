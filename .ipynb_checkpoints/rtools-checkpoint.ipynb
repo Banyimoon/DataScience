{
 "metadata": {
  "name": "",
  "signature": "sha256:f4e2f0bceb3a54ee027d62dac15eb6606d4ac0b5074c2a2cef28331011608f76"
 },
 "nbformat": 3,
 "nbformat_minor": 0,
 "worksheets": [
  {
   "cells": [
    {
     "cell_type": "markdown",
     "metadata": {},
     "source": [
      "<a name=\"top\"></a>\n",
      "\n",
      "**Vahid Mirjalili, Data Scientist**\n",
      "\n",
      "1. [R Data Types](#sec1_datatypes)\n",
      "   * [Atomic classes](#atomic_classes)\n",
      "   * [Object attributes](#attribs)\n",
      "   * [Create Vectors](#cr_vecs)\n",
      "   * [Explicit Coercion](#coercion)\n",
      "   * [Matrices](#matrices)\n",
      "   * [Lists](#lists)\n",
      "   * [Factors](#factors)\n",
      "   * [Missing Values](#missing_vals)\n",
      "   * [Data Frmaes](#dataframes)\n",
      "   * [Names](#names)\n",
      "2. [Subsetting R objects](#subset)\n",
      "   * [Subsetting lists](#subset_lists)\n",
      "   * [Partial matching](#partial_match)\n",
      "   * [Removing missing values](#remove_nas)\n",
      "3. [Reading and Writing Data](#read_write_data)\n",
      "   * [Reading data](#read_data)\n",
      "   * [Writing data](#write_data)\n",
      "   * [Reading large datasets](#read_large)\n",
      "\n"
     ]
    },
    {
     "cell_type": "markdown",
     "metadata": {},
     "source": [
      "<a name=\"sec1_datatypes\"></a>\n",
      "\n",
      "# 1. R Data Types   \n",
      "[top](#top)\n",
      "\n",
      "\n",
      "<a name=\"atomic_classes\"></a>\n",
      "## Atomic classes in R:\n",
      "\n",
      "* charcater\n",
      "* numeric\n",
      "* integer (L)\n",
      "* complex\n",
      "* logical (TRUE/FALSE)\n",
      "\n",
      "<b> Special numbers </b> Inf and NaN: 1/0 = Inf  and 1/Inf = 0;  0/0=NaN\n",
      "\n",
      "<a name=\"attribs\"></a>\n",
      "## Object attributes:\n",
      "\n",
      "* names, dimnames\n",
      "* dimensions (for matrices and arrays)\n",
      "* class\n",
      "* length\n",
      "* Other user defined attributes\n",
      "\n",
      "<b> attributes() </b> to get list of attributes of an object\n",
      "\n",
      "<a name=\"cr_vecs\"></a>\n",
      "## Creating vectors\n",
      "\n",
      "* **vector()** :  to create an empty vector\n",
      "* vector(\"numeric\", length=10)\n",
      "* c('a', 'b')  : to concatenate multiple objects into a single vector\n",
      "* Mixing objects from different classes: c(1.5, 'a') : coercion\n",
      "\n",
      "<a name=\"coercion\"></a>\n",
      "## Explicit coercion\n",
      "\n",
      "* as.character()\n",
      "* as.numeric()\n",
      "* as.logical()\n",
      "* as.complex()"
     ]
    },
    {
     "cell_type": "code",
     "collapsed": false,
     "input": [
      "x <- 0:6\n",
      "print(x)\n",
      "print(as.logical(x))\n",
      "print(as.complex(x))"
     ],
     "language": "python",
     "metadata": {},
     "outputs": [
      {
       "output_type": "stream",
       "stream": "stdout",
       "text": [
        "[1] 0 1 2 3 4 5 6\n"
       ]
      },
      {
       "output_type": "stream",
       "stream": "stdout",
       "text": [
        "[1] FALSE  TRUE  TRUE  TRUE  TRUE  TRUE  TRUE\n"
       ]
      },
      {
       "output_type": "stream",
       "stream": "stdout",
       "text": [
        "[1] 0+0i 1+0i 2+0i 3+0i 4+0i 5+0i 6+0i\n"
       ]
      }
     ],
     "prompt_number": 7
    },
    {
     "cell_type": "markdown",
     "metadata": {},
     "source": [
      "<a name=\"matrices\"></a>\n",
      "## Matrices\n",
      "To create a vector:\n",
      "\n",
      "* create a matrox by **matrix()** function\n",
      "* change the dimension of a vector **dim()**\n",
      "* binding vectors and matruces: **cbind()** and **rbind()**"
     ]
    },
    {
     "cell_type": "code",
     "collapsed": false,
     "input": [
      "m <- matrix(nrow=2, ncol=3)\n",
      "print(m)\n",
      "attributes(m)"
     ],
     "language": "python",
     "metadata": {},
     "outputs": [
      {
       "output_type": "stream",
       "stream": "stdout",
       "text": [
        "     [,1] [,2] [,3]\n",
        "[1,]   NA   NA   NA\n",
        "[2,]   NA   NA   NA\n"
       ]
      },
      {
       "metadata": {},
       "output_type": "pyout",
       "prompt_number": 12,
       "text": [
        "$dim\n",
        "[1] 2 3\n"
       ]
      }
     ],
     "prompt_number": 12
    },
    {
     "cell_type": "code",
     "collapsed": false,
     "input": [
      "# Method1: create a matrix by matrix()\n",
      "m1 <- matrix(1:6, nrow=2, ncol=3)\n",
      "print(m1)\n",
      "# Method2: change the dimension of a vector\n",
      "m2 <- 1:6\n",
      "dim(m2) = c(2,3)\n",
      "print(m2)"
     ],
     "language": "python",
     "metadata": {},
     "outputs": [
      {
       "output_type": "stream",
       "stream": "stdout",
       "text": [
        "     [,1] [,2] [,3]\n",
        "[1,]    1    3    5\n",
        "[2,]    2    4    6\n"
       ]
      },
      {
       "output_type": "stream",
       "stream": "stdout",
       "text": [
        "     [,1] [,2] [,3]\n",
        "[1,]    1    3    5\n",
        "[2,]    2    4    6\n"
       ]
      }
     ],
     "prompt_number": 13
    },
    {
     "cell_type": "code",
     "collapsed": false,
     "input": [
      "x <- 1:4\n",
      "y <- 6:9\n",
      "cbind(x,y)\n",
      "rbind(x,y)"
     ],
     "language": "python",
     "metadata": {},
     "outputs": [
      {
       "metadata": {},
       "output_type": "pyout",
       "prompt_number": 14,
       "text": [
        "     x y\n",
        "[1,] 1 6\n",
        "[2,] 2 7\n",
        "[3,] 3 8\n",
        "[4,] 4 9"
       ]
      },
      {
       "metadata": {},
       "output_type": "pyout",
       "prompt_number": 14,
       "text": [
        "  [,1] [,2] [,3] [,4]\n",
        "x    1    2    3    4\n",
        "y    6    7    8    9"
       ]
      }
     ],
     "prompt_number": 14
    },
    {
     "cell_type": "markdown",
     "metadata": {},
     "source": [
      "<a name=\"lists\"></a>\n",
      "## Lists\n",
      "Lists are special vectors that can store elements from different classes\n",
      "\n",
      "* Create a list by **list()**"
     ]
    },
    {
     "cell_type": "code",
     "collapsed": false,
     "input": [
      "x <- list(23, \"abc\", 1+5i, TRUE)\n",
      "print(x)"
     ],
     "language": "python",
     "metadata": {},
     "outputs": [
      {
       "output_type": "stream",
       "stream": "stdout",
       "text": [
        "[[1]]\n",
        "[1] 23\n",
        "\n",
        "[[2]]\n",
        "[1] \"abc\"\n",
        "\n",
        "[[3]]\n",
        "[1] 1+5i\n",
        "\n",
        "[[4]]\n",
        "[1] TRUE\n",
        "\n"
       ]
      }
     ],
     "prompt_number": 20
    },
    {
     "cell_type": "markdown",
     "metadata": {},
     "source": [
      "<a name=\"factors\"></a>\n",
      "## Factors\n",
      "Factors are a special data type to represent categorical variables, such as gender ('male', 'female'), patterm classes ('1', '2') ..\n",
      "\n",
      "* Create factors by **factor()**\n",
      "* Access the labels: **levels()**\n",
      "* Make a table view of number of items in each factor: **table()**\n",
      "\n",
      "Factor levels are ordered by default in alphabetic order. In order to directly specify the order: **factor(vec, levels=c(\"male\", \"female\"))**"
     ]
    },
    {
     "cell_type": "code",
     "collapsed": false,
     "input": [
      "## create a vector of factors\n",
      "xf <- factor(c(\"male\", \"female\", \"female\", \"female\", \"male\", \"female\", \"female\", \"male\", \"female\"))\n",
      "str(xf)\n",
      "## print levels of xf\n",
      "levels(xf)\n",
      "unclass(xf)"
     ],
     "language": "python",
     "metadata": {},
     "outputs": [
      {
       "output_type": "stream",
       "stream": "stdout",
       "text": [
        " Factor w/ 2 levels \"female\",\"male\": 2 1 1 1 2 1 1 2 1\n"
       ]
      },
      {
       "metadata": {},
       "output_type": "pyout",
       "prompt_number": 28,
       "text": [
        "[1] \"female\" \"male\"  "
       ]
      },
      {
       "metadata": {},
       "output_type": "pyout",
       "prompt_number": 28,
       "text": [
        "[1] 2 1 1 1 2 1 1 2 1\n",
        "attr(,\"levels\")\n",
        "[1] \"female\" \"male\"  "
       ]
      }
     ],
     "prompt_number": 28
    },
    {
     "cell_type": "code",
     "collapsed": false,
     "input": [
      "table(xf)"
     ],
     "language": "python",
     "metadata": {},
     "outputs": [
      {
       "metadata": {},
       "output_type": "pyout",
       "prompt_number": 24,
       "text": [
        "xf\n",
        "female   male \n",
        "     3      2 "
       ]
      }
     ],
     "prompt_number": 24
    },
    {
     "cell_type": "markdown",
     "metadata": {},
     "source": [
      "<a name=\"missing_vals\"></a>\n",
      "## Missing values\n",
      "Missing values are denoted by ***NA*** or ***NaN***\n",
      "\n",
      " ***NaN*** is for undefined mathematical operations such as 0/0. ***NaN*** is a sub-type of **NA**\n",
      "\n",
      "* **is.na()** and **is.nan()** to test whether vector elements are missing"
     ]
    },
    {
     "cell_type": "code",
     "collapsed": false,
     "input": [
      "x <- c(1,2,3, NA, 6, NaN, 8)\n",
      "is.na(x)\n",
      "is.nan(x)"
     ],
     "language": "python",
     "metadata": {},
     "outputs": [
      {
       "metadata": {},
       "output_type": "pyout",
       "prompt_number": 30,
       "text": [
        "[1] FALSE FALSE FALSE  TRUE FALSE  TRUE FALSE"
       ]
      },
      {
       "metadata": {},
       "output_type": "pyout",
       "prompt_number": 30,
       "text": [
        "[1] FALSE FALSE FALSE FALSE FALSE  TRUE FALSE"
       ]
      }
     ],
     "prompt_number": 30
    },
    {
     "cell_type": "markdown",
     "metadata": {},
     "source": [
      "<a name=\"dataframes\"></a>\n",
      "## Data Frames\n",
      "\n",
      "To store tabular data. One of the most useful things in R.\n",
      "\n",
      "Data frames can store different object classes in different columns, unlike matrices that have to have the same elements class.\n",
      "\n",
      "* special attributes: **row.names**, **col.names**\n",
      "* Rading tabular data from files: **read.table()** and **read.csv()**\n",
      "* Convert data.frame to a matrix: **data.matrox()**    (coercion may happen)"
     ]
    },
    {
     "cell_type": "code",
     "collapsed": false,
     "input": [
      "df <- data.frame(foo=11:14, bar=c(T, T, F, T))\n",
      "df\n",
      "nrow(df)\n",
      "ncol(df)"
     ],
     "language": "python",
     "metadata": {},
     "outputs": [
      {
       "metadata": {},
       "output_type": "pyout",
       "prompt_number": 33,
       "text": [
        "  foo   bar\n",
        "1  11  TRUE\n",
        "2  12  TRUE\n",
        "3  13 FALSE\n",
        "4  14  TRUE"
       ]
      },
      {
       "metadata": {},
       "output_type": "pyout",
       "prompt_number": 33,
       "text": [
        "[1] 4"
       ]
      },
      {
       "metadata": {},
       "output_type": "pyout",
       "prompt_number": 33,
       "text": [
        "[1] 2"
       ]
      }
     ],
     "prompt_number": 33
    },
    {
     "cell_type": "markdown",
     "metadata": {},
     "source": [
      "<a name=\"names\"></a>\n",
      "## Names\n",
      "\n",
      "R objects can have a name. Useful for self describing data, so each vector can be accesed by an index or by its object names\n",
      "\n",
      "* access and change the names by **names()**\n",
      "* names in list: x <- list(a=1, b=2, c=3)\n",
      "* names in matrices: **dimnames()**"
     ]
    },
    {
     "cell_type": "code",
     "collapsed": false,
     "input": [
      "x <- 1:3\n",
      "names(x) <- c(\"foo\", \"bar\", \"norf\")\n",
      "x\n",
      "names(x)"
     ],
     "language": "python",
     "metadata": {},
     "outputs": [
      {
       "metadata": {},
       "output_type": "pyout",
       "prompt_number": 34,
       "text": [
        " foo  bar norf \n",
        "   1    2    3 "
       ]
      },
      {
       "metadata": {},
       "output_type": "pyout",
       "prompt_number": 34,
       "text": [
        "[1] \"foo\"  \"bar\"  \"norf\""
       ]
      }
     ],
     "prompt_number": 34
    },
    {
     "cell_type": "markdown",
     "metadata": {},
     "source": [
      "<a name=\"subset\"></a>\n",
      "# 2. Subsetting R objects\n",
      "[Top](#top)\n",
      "\n",
      "To extract subsets of data (objects).\n",
      "\n",
      "* subsetting with **[ ]**   (given numeric index or logical index)\n",
      "* subsetting with double bracket for lists: **[[ ]]** (only to extract a single element of a list, meaning no vector inside double bracket)\n",
      "* subsetting with **$** to extract elements of lists and data.frames by their names\n"
     ]
    },
    {
     "cell_type": "code",
     "collapsed": false,
     "input": [
      "## subsetting vectors: numeric or logical index\n",
      "x <- c(\"a\", \"b\", \"c\", \"d\", \"h\")\n",
      "x[1:3]\n",
      "x[x > \"c\"]"
     ],
     "language": "python",
     "metadata": {},
     "outputs": [
      {
       "metadata": {},
       "output_type": "pyout",
       "prompt_number": 41,
       "text": [
        "[1] \"a\" \"b\" \"c\""
       ]
      },
      {
       "metadata": {},
       "output_type": "pyout",
       "prompt_number": 41,
       "text": [
        "[1] \"d\" \"h\""
       ]
      }
     ],
     "prompt_number": 41
    },
    {
     "cell_type": "markdown",
     "metadata": {},
     "source": [
      "For matrices, you can acess rows and columns by **[row index, column index]**\n",
      "\n",
      "<b> By default, subsetting drops the column and row index, to avoid that use m[1,2, drop=F] </b>\n",
      "This way, the output would still be a matrix."
     ]
    },
    {
     "cell_type": "code",
     "collapsed": false,
     "input": [
      "## subsetting matrices\n",
      "m1[1,2]\n",
      "m2[,2]\n",
      "\n",
      "m2[,2, drop=F]"
     ],
     "language": "python",
     "metadata": {},
     "outputs": [
      {
       "metadata": {},
       "output_type": "pyout",
       "prompt_number": 42,
       "text": [
        "[1] 3"
       ]
      },
      {
       "metadata": {},
       "output_type": "pyout",
       "prompt_number": 42,
       "text": [
        "[1] 3 4"
       ]
      },
      {
       "metadata": {},
       "output_type": "pyout",
       "prompt_number": 42,
       "text": [
        "     [,1]\n",
        "[1,]    3\n",
        "[2,]    4"
       ]
      }
     ],
     "prompt_number": 42
    },
    {
     "cell_type": "markdown",
     "metadata": {},
     "source": [
      "<a name=\"subset_lists\"></a>\n",
      "## Subsetting lists\n",
      "\n",
      "Using double bracket to subset lists.\n",
      "Only extract one element of a list at time. Therefore, no vector inside double bracket. (x[[1:3]] ==> error)"
     ]
    },
    {
     "cell_type": "code",
     "collapsed": false,
     "input": [
      "xl <- list(foo=1:5, bar=0.7, norf=\"ABcDE\")\n",
      "xl[[1]]\n",
      "xl[[\"bar\"]]\n",
      "xl[\"bar\"]\n",
      "xl$norf"
     ],
     "language": "python",
     "metadata": {},
     "outputs": [
      {
       "metadata": {},
       "output_type": "pyout",
       "prompt_number": 51,
       "text": [
        "[1] 1 2 3 4 5"
       ]
      },
      {
       "metadata": {},
       "output_type": "pyout",
       "prompt_number": 51,
       "text": [
        "[1] 0.7"
       ]
      },
      {
       "metadata": {},
       "output_type": "pyout",
       "prompt_number": 51,
       "text": [
        "$bar\n",
        "[1] 0.7\n"
       ]
      },
      {
       "metadata": {},
       "output_type": "pyout",
       "prompt_number": 51,
       "text": [
        "[1] \"ABcDE\""
       ]
      }
     ],
     "prompt_number": 51
    },
    {
     "cell_type": "markdown",
     "metadata": {},
     "source": [
      "* Use single bracket **[ ]** To extract multiple elements of a list:"
     ]
    },
    {
     "cell_type": "code",
     "collapsed": false,
     "input": [
      "xl[c(1,3)]"
     ],
     "language": "python",
     "metadata": {},
     "outputs": [
      {
       "metadata": {},
       "output_type": "pyout",
       "prompt_number": 52,
       "text": [
        "$foo\n",
        "[1] 1 2 3 4 5\n",
        "\n",
        "$norf\n",
        "[1] \"ABcDE\"\n"
       ]
      }
     ],
     "prompt_number": 52
    },
    {
     "cell_type": "markdown",
     "metadata": {},
     "source": [
      "* Nested list"
     ]
    },
    {
     "cell_type": "code",
     "collapsed": false,
     "input": [
      "xnest <- list(a=list(10, 12, 13, 14), b=c(4:7))\n",
      "# to extract 13:\n",
      "xnest[[\"a\"]][[3]]"
     ],
     "language": "python",
     "metadata": {},
     "outputs": [
      {
       "metadata": {},
       "output_type": "pyout",
       "prompt_number": 59,
       "text": [
        "[1] 13"
       ]
      }
     ],
     "prompt_number": 59
    },
    {
     "cell_type": "markdown",
     "metadata": {},
     "source": [
      "<a name=\"partial_match\"></a>\n",
      "## Partial Matching\n",
      "\n",
      "Partial matching works for subsetting objects with **[[ ]]** and **$**"
     ]
    },
    {
     "cell_type": "code",
     "collapsed": false,
     "input": [
      "xp <- list(abc=c(1:8), fgh=c(T, F, F, T))\n",
      "xp$a\n",
      "xp[[\"f\"]]\n",
      "xp[[\"f\", exact=F]]"
     ],
     "language": "python",
     "metadata": {},
     "outputs": [
      {
       "metadata": {},
       "output_type": "pyout",
       "prompt_number": 67,
       "text": [
        "[1] 1 2 3 4 5 6 7 8"
       ]
      },
      {
       "metadata": {},
       "output_type": "pyout",
       "prompt_number": 67,
       "text": [
        "NULL"
       ]
      },
      {
       "metadata": {},
       "output_type": "pyout",
       "prompt_number": 67,
       "text": [
        "[1]  TRUE FALSE FALSE  TRUE"
       ]
      }
     ],
     "prompt_number": 67
    },
    {
     "cell_type": "markdown",
     "metadata": {},
     "source": [
      "<a name=\"remove_nas\"></a>\n",
      "## Removing missing values\n",
      "\n",
      "* In order to subset non-missing values onlt, use **!is.na()**\n",
      "* Complete cases of a data.frame, a matrix, or multiple vectors **complete.cases()**"
     ]
    },
    {
     "cell_type": "code",
     "collapsed": false,
     "input": [
      "x <- c(1,2,NA, 5, NaN, 8, NaN, 9)\n",
      "x[!is.na(x)]"
     ],
     "language": "python",
     "metadata": {},
     "outputs": [
      {
       "metadata": {},
       "output_type": "pyout",
       "prompt_number": 68,
       "text": [
        "[1] 1 2 5 8 9"
       ]
      }
     ],
     "prompt_number": 68
    },
    {
     "cell_type": "code",
     "collapsed": false,
     "input": [
      "y <- c(3, 5, 6, NA, NA, 8, 9, 10)\n",
      "complete.cases(x,y)"
     ],
     "language": "python",
     "metadata": {},
     "outputs": [
      {
       "metadata": {},
       "output_type": "pyout",
       "prompt_number": 73,
       "text": [
        "[1]  TRUE  TRUE FALSE FALSE FALSE  TRUE FALSE  TRUE"
       ]
      }
     ],
     "prompt_number": 73
    },
    {
     "cell_type": "markdown",
     "metadata": {},
     "source": [
      "<a name=\"read_write_data\"></a>\n",
      "# 3. Reading and Writing Data\n",
      "\n",
      "<a name=\"read_data\"></a>\n",
      "## Reading data\n",
      "* To read in tabular data, use **read.table()** or **read.csv()**\n",
      "* **readLines()** to read lines of a text file\n",
      "* **source()** for reading R codes (inverse of **dump()**)\n",
      "* **dget()** for reading R codes (inverse of **dput()**)\n",
      "* **load()** for reading a saved workspace\n",
      "* **unserialize()** for reading single R objects in binary form\n",
      "\n",
      "### Attributes of read.table()\n",
      "* **file**: name of the file\n",
      "* **header**: logical (T/F) indicating if the file has a header or not\n",
      "* **sep**: a string that indicates how columns are separated\n",
      "* **colClasses**: a character vector indicating the class of each column in the data file\n",
      "* **nrows**: the number of rows in the dataset\n",
      "* **comment.char**: a character string indicating the comment character used in the file\n",
      "* **skip**: the number of lines to be skipped from the begining\n",
      "* **stringAsFactors**: logical, should character variables be coded as factors?\n",
      "\n",
      "<a name=\"write_data\"></a>\n",
      "## Writing data\n",
      "* **write.table()**\n",
      "* **writeLines()**\n",
      "* **dump()**\n",
      "* **dput()**\n",
      "* **save()**\n",
      "* **serialize()**\n",
      "\n"
     ]
    },
    {
     "cell_type": "markdown",
     "metadata": {},
     "source": [
      "<a name=\"read_large\"></a>\n",
      "## Reading large datasets\n",
      "For efficiently reading in large datasets:\n",
      "\n",
      "* first identify column classes\n",
      "* ignore the comment character if you know there is no comment in the file: ```comment.char=\"\"```\n",
      "\n",
      "You can automaucally specify column classes by reaading the first 10 rows of the file.\n",
      "\n",
      "example:\n",
      "```\n",
      "init10 <- read.table(\"large_dataset.txt\", nrows=10)\n",
      "classes <- sapply(init10, class)\n",
      "datAll <- read.table(\"large_dataset.txt\", colClasses=classes)\n",
      "```\n",
      "\n",
      "* If you know the number of rows, it is more memory efficient to set nrows as well"
     ]
    },
    {
     "cell_type": "code",
     "collapsed": false,
     "input": [
      "\n",
      "con <- url(\"http://www.jhsph.edu\", \"r\")\n",
      "\n",
      "x <- readLines(con)\n",
      "\n",
      "head(x)"
     ],
     "language": "python",
     "metadata": {},
     "outputs": [
      {
       "metadata": {},
       "output_type": "pyout",
       "prompt_number": 15,
       "text": [
        "[1] \"<!DOCTYPE html>\"                                               \n",
        "[2] \"<html lang=\\\"en\\\">\"                                            \n",
        "[3] \"\"                                                              \n",
        "[4] \"<head>\"                                                        \n",
        "[5] \"<meta charset=\\\"utf-8\\\" />\"                                    \n",
        "[6] \"<title>Johns Hopkins Bloomberg School of Public Health</title>\""
       ]
      }
     ],
     "prompt_number": 15
    },
    {
     "cell_type": "code",
     "collapsed": false,
     "input": [],
     "language": "python",
     "metadata": {},
     "outputs": []
    },
    {
     "cell_type": "code",
     "collapsed": false,
     "input": [
      "ucscDb <- dbConnect(MySQL(), user=\"genome\", host=\"genome-mysql.cse.ucsc.edu\")\n",
      "result <- dbGetQuery(ucscDb, \"show databases;\")\n",
      "dbDisconnect(ucscDb)\n",
      "result"
     ],
     "language": "python",
     "metadata": {},
     "outputs": [],
     "prompt_number": 3
    },
    {
     "cell_type": "markdown",
     "metadata": {},
     "source": [
      "<h3> Merging data - merge() </h3>\n"
     ]
    },
    {
     "cell_type": "code",
     "collapsed": false,
     "input": [
      "mergedData <- merge(reviews, solutions, by.x=\"solution_id\", by.y=\"id\",\n",
      "                    all=T)\n",
      "\n"
     ],
     "language": "python",
     "metadata": {},
     "outputs": []
    }
   ],
   "metadata": {}
  }
 ]
}