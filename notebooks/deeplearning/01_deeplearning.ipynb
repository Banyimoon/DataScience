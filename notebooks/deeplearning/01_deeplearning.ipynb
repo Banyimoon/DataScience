{
 "cells": [
  {
   "cell_type": "markdown",
   "metadata": {},
   "source": [
    "Deep Learning\n",
    "===\n",
    "\n",
    "\n",
    "Representation learning\n",
    "\n",
    "Traditional approach: hand-crafted features + train a classifier\n",
    "\n",
    "New approach: feaure learning (trainable features) + a trainable classifier\n",
    "\n",
    "Deep archictecture: \n",
    " * hierarchical structure of features\n",
    " * more than one stage of non-linear feature extraction\n",
    " \n",
    "[low level features] -> [med-level features] -> [high-level features] --> classifier"
   ]
  },
  {
   "cell_type": "markdown",
   "metadata": {},
   "source": [
    "### Trainable feature hierarchies:\n",
    "\n",
    " * A hierarchy of trianbale feature transforms\n",
    "   * Each module transfors its inpit representation into a higher-level one\n",
    "   * High-level features are more global and more invariant\n",
    "   * Low level features are shared among categories\n",
    " * Deep learning goal:\n",
    "   * Make all modules trainable and get them to learn appropriate representations"
   ]
  },
  {
   "cell_type": "markdown",
   "metadata": {},
   "source": [
    "Brain: single learning algorithm\n",
    "\n",
    " * Auditory cortex can learn how to see  "
   ]
  },
  {
   "cell_type": "markdown",
   "metadata": {},
   "source": [
    "\n",
    "### Supervised learning\n",
    "\n",
    " * Feed-forward networks\n",
    " * Backpropagation\n",
    " * Optimization\n",
    " * Convolutional neural network\n",
    " * Efficient convolutions\n",
    " * Sequence modeling (RNNs, LSTMs, GRUs)\n",
    " * Deep learning frameworks (*Torch, TensorFlow, Cafffe*)\n",
    " * Practical Tricks for training\n",
    " * Applications"
   ]
  },
  {
   "cell_type": "markdown",
   "metadata": {},
   "source": [
    "### Unsupervised learning\n",
    " \n",
    " * Visualization/deconvolution\n",
    " * Autoencoders\n",
    " * Adverserial networks\n",
    " * "
   ]
  }
 ],
 "metadata": {
  "kernelspec": {
   "display_name": "Python 3",
   "language": "python",
   "name": "python3"
  },
  "language_info": {
   "codemirror_mode": {
    "name": "ipython",
    "version": 3
   },
   "file_extension": ".py",
   "mimetype": "text/x-python",
   "name": "python",
   "nbconvert_exporter": "python",
   "pygments_lexer": "ipython3",
   "version": "3.5.0rc4"
  }
 },
 "nbformat": 4,
 "nbformat_minor": 0
}
