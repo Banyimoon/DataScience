{
 "cells": [
  {
   "cell_type": "markdown",
   "metadata": {},
   "source": [
    "## independent events\n",
    "\n"
   ]
  },
  {
   "cell_type": "markdown",
   "metadata": {},
   "source": [
    "Ex. Throw a 2-sided dice *independently* of each other\n",
    "\n",
    " * $A = \\{first die fakks on k \\}$\n",
    " * $B = \\{second die falls on l\\}$\n",
    " \n",
    " $\\mathbf{P[A\\cap B] = \\frac{1}{36}}$ because of indepent events"
   ]
  },
  {
   "cell_type": "markdown",
   "metadata": {},
   "source": [
    " Def: If A&B are indepedet events, then $\\mathbf{P}[A \\cap B] = \\mathbf{P}[A] \\mathbf{P}[B]$"
   ]
  },
  {
   "cell_type": "markdown",
   "metadata": {},
   "source": [
    "#### Def: Conditional probablity\n",
    "\n",
    "$$\\mathbf{P}[A\\vert B] = \\frac{\\mathbf{P}[A \\cap B]}{\\mathbf{P}[B]}$$\n",
    "\n",
    "* Note: this is used for understanding non-independent events.\n",
    "\n",
    "<img src=\"\"> ven-diagram</img>"
   ]
  },
  {
   "cell_type": "markdown",
   "metadata": {},
   "source": [
    "##### Example\n",
    "\n",
    " A sexual disease with probability: $\\mathbf{P}[disease] = 0.6\\%$\n",
    " * $\\mathbf{P}[positive \\vert disease] = 0.98$\n",
    " * $\\mathbf{P}[positive \\vert not\\ disease] = 0.01$\n",
    " * Find $\\mathbf{P}[positive]=?$\n",
    " \n",
    " \n",
    " $\\mathbf{P}[positive] = \\mathbf{P}[positive \\cap distease] + \\mathbf{P}[positive, \\cap disease^c]$ becasue these two are dosjoimt events, we can find them easily\n",
    " \n",
    " * We know $0.98 = \\mathbf{P}[positive\\vert disease] = \\frac{\\mathbf{P}[positive \\cap diease]}{\\mathbf{P}[disease]}$\n",
    " * therefore, $\\mathbf{P}[positive \\cap disease] = 0.98\\times \\mathbf{P}[disease] = 0.00588$\n",
    " * similarly, $\\mathbf{P}[positive \\cap disease^c] = 0.01\\times 0.994=0.00994$\n",
    " * Finally: $\\mathbf{P}[positive] = 0.00588 + 0.00994 = 0.01582$\n",
    " \n",
    " * (Question) Next, find $\\mathbf{P}[desiease \\vert positive]=?$\n",
    " * (Answer) $\\mathbf{P}[disease] = \\frac{\\mathbf{P}[disease \\cap positive]}{\\mathbf{P}[positive]} = \\frac{0.00588}{0.01582} = 0.37$"
   ]
  },
  {
   "cell_type": "markdown",
   "metadata": {},
   "source": [
    "-------------\n",
    "#### Rule:\n",
    "\n",
    "$$\\mathbf{P}[A_1\\cap A_2 \\cap .. \\cap A_n] = ?$$\n",
    "\n",
    " * If **independent** events: $\\mathbf{P}[A_1]\\mathbf{P}[A_2]..\\mathbf{P}[A_n]$  \n",
    " * If **not independet**: $\\displaystyle \\mathbf{P}[A_1] \\mathbf{P}[A_2\\vert A_1] \\mathbf{P}[A_3\\vert A_1 A_2] ... \\mathbf{P}[A_n \\vert A_1\\cap A_2 \\cap .. \\cap A_{n-1}]$\n",
    "  * it is like a chain rule for probability"
   ]
  },
  {
   "cell_type": "markdown",
   "metadata": {},
   "source": [
    "##### Example\n",
    "\n",
    "a gene has two forms:\n",
    "\n"
   ]
  },
  {
   "cell_type": "markdown",
   "metadata": {},
   "source": [
    "### Theorem: Law of Total Probabilities\n",
    " * Assuming $\\Omega = A_1 \\cup A_2 \\cup .. A_k$ and the $A_i$'s are pairwise disjoint\n",
    "$$\\mathbf{P}[B] = \\sum_{i=1}^{k}\\mathbf{P}[B\\vert A_i]\\mathbf{P}[A_i]$$"
   ]
  },
  {
   "cell_type": "markdown",
   "metadata": {},
   "source": [
    "### Theorem: Bayes Rule\n",
    "\n",
    " * Let $A_1$ and $A_2$ be two events. Then, $$\\mathbf{P}[A \\vert B] = \\frac{\\mathbf{P}[A\\cap B]}{\\mathbf{P}[B\\vert A]\\mathbf{P}[A]+ \\mathbf{P}[B\\vert A^c]\\mathbf{P}[A^c]}$$\n",
    " \n",
    " * this is because the denuminator is equal to $\\mathbf{P}[B]$ by the previous theorem *(Law of Total Probability)* applied to $A_1 = A$ and $A_2=A^c$\n",
    " \n",
    " Similarly:\n",
    " * Let $A_1, A_2, ..A_k$ be disjoint events with $\\cup_{i=1}^{k}A_i = \\Omega$  \n",
    "   then, for any $i$:\n",
    "      $$\\mathbf{P}[A_i\\vert B] = \\frac{\\mathbf{P}[A_i\\cap B]}{\\mathbf{P}[B\\vert A_1]\\mathbf{P}[A_1] + .. \\mathbf{P}[B\\vert A_k]\\mathbf{P}[A_k]}$$\n",
    "      \n",
    " * ### Vocabulary: prior, posterior and likelihood\n",
    "  * The set of all $\\mathbf{P}[A_i]$'s are called ***prior probabilities***. This is information (given to us), which the model has to  decide upon.  \n",
    "  * The probabilities we compute, the $\\mathbf{P}[A_i\\vert B]$ are called ***posterior probabilities***: they are updates on the chance of each $A_i$ given the additional information $B$.  \n",
    "  * The conditional probabilities $\\mathbf{P}[B \\vert A_i]$ are often called likelihoods.\n",
    "  \n",
    "\n",
    "(Bayesian belief versus frequentists)"
   ]
  },
  {
   "cell_type": "markdown",
   "metadata": {},
   "source": [
    "##### Example\n",
    "\n",
    "Zeke tosses a coin, a fake coin and a real coin. Zeke tosses a coin n times and gets a head every time.\n",
    "\n",
    " * $\\mathbf{P}[\\text{Zeke tells the truth}] = 0.9$ lets call this event $A=\\text{Zeke tells the truth}$.\n",
    " * $\\mathbf{P}[A^c] = 0.1$\n",
    " \n",
    " * Observation = $B = \\text{\"Heads on n independent tosses\"}$.\n",
    " \n",
    " * (Question): $\\mathbf{P}[A \\vert B]= ?$\n",
    "  * Answer: $$\\mathbf{P}[A \\vert B]=\\frac{\\mathbf{P}[A\\cap B]}{\\mathbf{P}[B\\vert A] \\mathbf{P}[A] + \\mathbf{P}[B\\vert A^c]\\mathbf{P}[A]}$$\n",
    "  $$\\frac{0.9\\times \\left(\\frac{1}{2}\\right)^n}{0.9\\times \\left(\\frac{1}{2}\\right)^n + 1\\times 0.1}=\\frac{1}{1 + 0.1\\times 2^n \\times \\frac{1}{0.9}}$$\n",
    " "
   ]
  },
  {
   "cell_type": "markdown",
   "metadata": {},
   "source": [
    "##### Example:\n",
    "\n",
    " * part a: $$1 - (\\frac{5}{6})^4$$\n",
    " * part b: $35/36$ and getting $1-\\left( \\frac{35}{36} \\right)^{24}$"
   ]
  },
  {
   "cell_type": "markdown",
   "metadata": {},
   "source": [
    "##### Example:\n",
    "\n",
    "Traffic:\n",
    "\n",
    " * Assumption: those two bridges are independent of each other\n",
    " * $\\mathbf{P}[\\text{this circuit works}]=?$\n",
    " \n",
    "  * $\\mathbf{P}[\\text{this circuit works}] = \\mathbf{P}[C_1 \\cap \\left(C_2 \\cup C_3\\right)] = \\mathbf{P}[\\left(C_1 \\cap C_2\\right) \\cup \\left(C_1 \\cap C_3\\right)]$\n",
    "  \n",
    "  * Note: if $C_2$ and $C_3$ were not independent: $\\mathbf{P}[C_1]\\times \\mathbf{P}[C_2\\cup C_3] = \\mathbf{P}[C_1]\\times \\left(\\mathbf{P}[C_2] + \\mathbf{P}[C_3] - \\mathbf{P}[C_2\\cap C_3]\\right)$"
   ]
  },
  {
   "cell_type": "code",
   "execution_count": null,
   "metadata": {
    "collapsed": true
   },
   "outputs": [],
   "source": []
  }
 ],
 "metadata": {
  "kernelspec": {
   "display_name": "Python 3",
   "language": "python",
   "name": "python3"
  },
  "language_info": {
   "codemirror_mode": {
    "name": "ipython",
    "version": 3
   },
   "file_extension": ".py",
   "mimetype": "text/x-python",
   "name": "python",
   "nbconvert_exporter": "python",
   "pygments_lexer": "ipython3",
   "version": "3.5.4"
  }
 },
 "nbformat": 4,
 "nbformat_minor": 1
}
