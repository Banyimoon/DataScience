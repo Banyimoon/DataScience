{
 "cells": [
  {
   "cell_type": "markdown",
   "metadata": {},
   "source": [
    "Collaborative Filtering\n",
    "==="
   ]
  },
  {
   "cell_type": "markdown",
   "metadata": {},
   "source": [
    "### User-based Nearest Neighbor\n",
    "\n",
    " * Find other users who are similar to the test case (person of interest)\n",
    "\n",
    "$$Pred(i) = \\bar{r}_u+\\frac{\\sum_{n\\in neighbors(u)} similarity(u,n).(r_{ni} - \\bar{r}_{n})}{\\sum_{n\\in neighbors(u)} similarity(u,n)}$$\n",
    "\n",
    " * $\\bar{r}_u$: average rating of user $u$"
   ]
  },
  {
   "cell_type": "markdown",
   "metadata": {},
   "source": [
    "### Item-based Nearest Neighbor\n",
    "\n",
    " * Find similar items\n",
    " \n",
    "$$Pred() = \\frac{\\sum_{j\\in ratedItems(u)} similarity(i,j).r_{uj}}{\\sum_{j\\in ratedItems(u)} similarity(i,j)}$$\n"
   ]
  },
  {
   "cell_type": "markdown",
   "metadata": {},
   "source": [
    "### Latent Factor (Matrix Factorization)\n",
    "\n",
    " * Rating matrix $A_{users \\times items}$\n",
    " * User feature matrix $U_{users \\times features}$\n",
    " * Item feature matrix $M_{items \\times features}$\n",
    " * Predicted matrix: $U\\times M^T$\n",
    " \n",
    "#### How to find $U$ and $M$\n",
    "\n",
    " * Randomly initializae $U, M$ and the missing values in $A$\n",
    " * Repeat until convergence\n",
    "   * Find $M$ such that $||A-UM^T||_F$ is minimized \n",
    "   $$M_{ij} = M_{ij} \\frac{(A^T U)_{ij}}{(MU^TU)_{ij}}$$\n",
    "   * Find $U$ such that $||A-UM^T||_F$ is minimized\n",
    "   $$U_{ij} = U_{ij} \\frac{(A^T M)_{ij}}{(UM^TM)_{ij}}$$\n",
    "   * Replace the missing values in $A$ with the corresponding value from $UM^T$\n",
    "   \n",
    "Frobenius norm: $||A||_F = \\sqrt{\\sum_{ij} A_{ij}^2}$\n",
    " "
   ]
  },
  {
   "cell_type": "markdown",
   "metadata": {},
   "source": [
    "##### Example"
   ]
  },
  {
   "cell_type": "code",
   "execution_count": null,
   "metadata": {
    "collapsed": true
   },
   "outputs": [],
   "source": []
  }
 ],
 "metadata": {
  "kernelspec": {
   "display_name": "Python 3",
   "language": "python",
   "name": "python3"
  },
  "language_info": {
   "codemirror_mode": {
    "name": "ipython",
    "version": 3
   },
   "file_extension": ".py",
   "mimetype": "text/x-python",
   "name": "python",
   "nbconvert_exporter": "python",
   "pygments_lexer": "ipython3",
   "version": "3.5.1"
  }
 },
 "nbformat": 4,
 "nbformat_minor": 0
}
