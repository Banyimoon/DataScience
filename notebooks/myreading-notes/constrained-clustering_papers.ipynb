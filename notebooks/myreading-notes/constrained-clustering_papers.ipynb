{
 "cells": [
  {
   "cell_type": "markdown",
   "metadata": {},
   "source": [
    "Constrained KMeans with Background Knowledge\n",
    "===\n",
    "\n",
    " * Traditionally, clustering is known as usupervised learning fashion\n",
    " * Often some background knowledge exists\n",
    " * Integrate background knowledge and clustering algorithms\n",
    "\n",
    " * **COBWEB (Fisher, 1987)**\n",
    "\n",
    "#### Contributions\n",
    " * Modified k-means to account for background knowledge in form of instance-level constraints\n",
    " * Applying COBWEB to real-world dataset"
   ]
  },
  {
   "cell_type": "markdown",
   "metadata": {
    "collapsed": true
   },
   "source": [
    "## COP K-means Algorithm\n",
    "\n",
    "COPKmeans(Dataset $D$, $ML$ constraints, $CL$ constraints)\n",
    "  1. Let $c_1, .. c_k$ be initial centroids\n",
    "  2. Assign each data point to its closest centroid such that \n",
    "    * it does not violate ML constraints\n",
    "    * it does not violate CL constraints\n",
    "    * if no such cluster is found, clustering has failed\n",
    "  3. Update the new cluster centroids by averaging ffeature vectors of the cluster members"
   ]
  },
  {
   "cell_type": "code",
   "execution_count": null,
   "metadata": {
    "collapsed": true
   },
   "outputs": [],
   "source": []
  }
 ],
 "metadata": {
  "kernelspec": {
   "display_name": "Python 3",
   "language": "python",
   "name": "python3"
  },
  "language_info": {
   "codemirror_mode": {
    "name": "ipython",
    "version": 3
   },
   "file_extension": ".py",
   "mimetype": "text/x-python",
   "name": "python",
   "nbconvert_exporter": "python",
   "pygments_lexer": "ipython3",
   "version": "3.5.1"
  }
 },
 "nbformat": 4,
 "nbformat_minor": 0
}
