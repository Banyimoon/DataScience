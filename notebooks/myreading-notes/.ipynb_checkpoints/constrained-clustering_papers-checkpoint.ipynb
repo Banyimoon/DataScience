{
 "cells": [
  {
   "cell_type": "markdown",
   "metadata": {},
   "source": [
    "Constrained KMeans with Background Knowledge\n",
    "===\n",
    "\n",
    " * Traditionally, clustering is known as usupervised learning fashion\n",
    " * Often some background knowledge exists\n",
    " * Integrate background knowledge and clustering algorithms\n",
    "\n",
    " * **COBWEB (Fisher, 1987)**\n",
    "\n",
    "#### Contributions\n",
    " * Modified k-means to account for background knowledge in form of instance-level constraints\n",
    " * Applying COBWEB to real-world dataset"
   ]
  },
  {
   "cell_type": "markdown",
   "metadata": {
    "collapsed": true
   },
   "source": [
    "## COP K-means Algorithm\n",
    "\n",
    "COPKmeans(Dataset $D$, $ML$ constraints, $CL$ constraints)\n",
    "  1. Let $c_1, .. c_k$ be initial centroids\n",
    "  2. Assign each data point to its closest centroid such that \n",
    "    * it does not violate ML constraints\n",
    "    * it does not violate CL constraints\n",
    "    * if no such cluster is found, clustering has failed\n",
    "  3. Update the new cluster centroids by averaging ffeature vectors of the cluster members"
   ]
  },
  {
   "cell_type": "markdown",
   "metadata": {
    "collapsed": true
   },
   "source": [
    "#### Performance evaluation\n",
    "\n",
    " * Rand index\n",
    " * Held-out: to see if contraints generalize well or not\n",
    "   * 10-fold cross validation\n",
    "   * Generate random constraints in 9 folds\n",
    "   * Cluster the entire dataset\n",
    "   * Evaluate the clustering solution on 10th fold\n"
   ]
  },
  {
   "cell_type": "markdown",
   "metadata": {},
   "source": [
    "Active Semi-Supervision for Pairwise Constrained Clustering\n",
    "==="
   ]
  },
  {
   "cell_type": "markdown",
   "metadata": {},
   "source": [
    " * $\\mathcal{M}$: set of must-link constraints\n",
    " * $\\mathcal{C}$: set of cannot-link constraints\n",
    " * $W$: the weight of each must-link constraint\n",
    " * $\\bar{W}$: the weight of each cannot constraint\n",
    " \n",
    " * **defining the cost:**\n",
    "   * if $(x_i,x_j)\\in \\mathcal{M}$ then the cost is $w_{ij}\\mathbb{1}(l_i \\ne l_j)$\n",
    "   * if $(x_i,x_j)\\in \\mathcal{C}$ then the cost is $\\bar{w}_{ij}\\mathbb{1}(l_i = l_j)$\n",
    "   $$\\displaystyle \\mathcal{J}_{PCKM} = \\frac{1}{2} \\sum_{x_i\\in \\mathcal{X}} \\|x_i - \\mu_{l_i}\\|^2 \\\\ + \\sum_{(x_i,x_j)\\in \\mathcal{M}}w_{ij}\\mathbb{1}(l_i \\ne l_j) \\\\ +\\sum_{(x_i,x_j)\\in \\mathcal{C}}\\bar{w}_{ij}\\mathbb{1}(l_i = l_j)$$"
   ]
  },
  {
   "cell_type": "code",
   "execution_count": null,
   "metadata": {
    "collapsed": true
   },
   "outputs": [],
   "source": []
  }
 ],
 "metadata": {
  "kernelspec": {
   "display_name": "Python 3",
   "language": "python",
   "name": "python3"
  },
  "language_info": {
   "codemirror_mode": {
    "name": "ipython",
    "version": 3
   },
   "file_extension": ".py",
   "mimetype": "text/x-python",
   "name": "python",
   "nbconvert_exporter": "python",
   "pygments_lexer": "ipython3",
   "version": "3.5.1"
  }
 },
 "nbformat": 4,
 "nbformat_minor": 0
}
