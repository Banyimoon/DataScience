{
 "cells": [
  {
   "cell_type": "markdown",
   "metadata": {},
   "source": [
    "Balanced Trees\n",
    "========\n",
    "\n",
    "### Definition of balanced-trees\n",
    "\n",
    " * Height balanced\n",
    " * Null-path-length balanced\n",
    " * Weight balanced\n",
    "\n",
    "Note: If a tree satisfies the definition of any of such definitions, its height is $\\Theta(\\ln n)$\n",
    "\n",
    "### Height balancing: AVL-trees\n",
    "\n",
    "### Null-path-length balancing: Red-black Trees\n",
    "\n",
    "Red-black trees maintain balanced by coloring the nodes red/black (0,1).\n",
    "\n",
    "Red-black trees are *null-path-length* balanced. Null-path length going through a subtree must not be greater than another subtree.\n",
    "\n",
    "**Coloring Requirements:**\n",
    " * Root must b black\n",
    " * All children of a red node must b black\n",
    " * Any path from the root node to an empty node must have the same number of black nodes\n",
    "\n",
    "### Weight-balanced Trees\n",
    "\n",
    " * A null subtree/empty node is any position in a binary tree that a new node can be inserted.\n",
    " \n",
    " * The fraction of empty nodes in the left subtree and the right subtrees\n",
    " \n",
    " * $BB(\\alpha)$: if the fraction on both sides (left and right) remains with the range $[\\alpha, 1-\\alpha]$"
   ]
  },
  {
   "cell_type": "code",
   "execution_count": null,
   "metadata": {
    "collapsed": true
   },
   "outputs": [],
   "source": []
  }
 ],
 "metadata": {
  "kernelspec": {
   "display_name": "Python 3",
   "language": "python",
   "name": "python3"
  },
  "language_info": {
   "codemirror_mode": {
    "name": "ipython",
    "version": 3
   },
   "file_extension": ".py",
   "mimetype": "text/x-python",
   "name": "python",
   "nbconvert_exporter": "python",
   "pygments_lexer": "ipython3",
   "version": "3.5.1"
  }
 },
 "nbformat": 4,
 "nbformat_minor": 0
}
