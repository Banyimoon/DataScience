{
 "cells": [
  {
   "cell_type": "markdown",
   "metadata": {},
   "source": [
    "Recursive Algorithms\n",
    "==========\n",
    "\n"
   ]
  },
  {
   "cell_type": "markdown",
   "metadata": {},
   "source": [
    "## Recursion\n",
    "\n",
    "* **Base case**\n",
    "\n",
    "```\n",
    "void countDown() {\n",
    "\n",
    "}\n",
    "```"
   ]
  },
  {
   "cell_type": "markdown",
   "metadata": {},
   "source": [
    "### Direct Recrsion\n",
    "\n",
    "\n",
    "### Indirect Recursion"
   ]
  },
  {
   "cell_type": "markdown",
   "metadata": {},
   "source": [
    "## Examples\n",
    "\n",
    "#### Greatest common divisor (gcd)\n",
    "\n",
    "- If \n",
    "\n",
    "```c++\n",
    "int gcd(int x, int y) {\n",
    "    if (x % y == 0) // base case\n",
    "        return y;\n",
    "    else\n",
    "        return gcd(y, x % y);\n",
    "}\n",
    "```\n",
    "\n",
    "#### Fibonacci numbers\n",
    "\n",
    "**0, 1, 1, 2, 3, 5, 8, 13, ... fib(n) **\n",
    "\n",
    "* fib(n) = fib(n-1) + fib(n-2)\n",
    "\n",
    "* Base case: n==0 , n == 1\n",
    "\n",
    "```c++\n",
    "// algorithm 1: very inefficient\n",
    "int fib(int n)  \n",
    "{\n",
    "   if (n==0) // base case\n",
    "       return 0;\n",
    "   else if (n==1) //base case\n",
    "       return 1;\n",
    "   else\n",
    "       return fib(n-1) + fib(n-2);\n",
    "}\n",
    "```\n",
    "\n"
   ]
  },
  {
   "cell_type": "markdown",
   "metadata": {},
   "source": [
    "#### Binary search\n",
    "\n",
    "```c++\n",
    "int bSearch(int a[], int lo, int hi, int x) {\n",
    "    int m = (lo + hi) / 2;\n",
    "    if (lo > hi) return -1;  // base case 1\n",
    "    if (a[m] == x) return m;\n",
    "    if (a[m] > x)\n",
    "        return bSearch(a, lo, m-1, x);\n",
    "    else\n",
    "        return bSearch(a, m+1, hi, x);\n",
    "    \n",
    "}\n",
    "```"
   ]
  },
  {
   "cell_type": "markdown",
   "metadata": {},
   "source": [
    "#### Summing a list of numbers\n",
    "\n",
    "```c++\n",
    "// Algorithm 1: O(N) \n",
    "int arraySum(int arr[], int size) {\n",
    "    if (size == 0)\n",
    "        return 0;\n",
    "    else\n",
    "        return arraySum(arr, size-1) + arr[size - 1];\n",
    "}\n",
    "\n",
    "// Algorithm 2: O(log N)\n",
    "int arraySum(int arr[], int size) {\n",
    "\n",
    "}\n",
    "```"
   ]
  },
  {
   "cell_type": "markdown",
   "metadata": {},
   "source": [
    "#### Computing Power of a number $x^y$\n",
    "\n",
    "```\n",
    "\n",
    "```"
   ]
  },
  {
   "cell_type": "markdown",
   "metadata": {},
   "source": [
    "#### Finding the largest element in an array"
   ]
  }
 ],
 "metadata": {
  "kernelspec": {
   "display_name": "Python 3",
   "language": "python",
   "name": "python3"
  },
  "language_info": {
   "codemirror_mode": {
    "name": "ipython",
    "version": 3
   },
   "file_extension": ".py",
   "mimetype": "text/x-python",
   "name": "python",
   "nbconvert_exporter": "python",
   "pygments_lexer": "ipython3",
   "version": "3.4.3"
  }
 },
 "nbformat": 4,
 "nbformat_minor": 0
}
