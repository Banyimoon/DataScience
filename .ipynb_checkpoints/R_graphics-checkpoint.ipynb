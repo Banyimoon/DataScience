{
 "metadata": {
  "name": "",
  "signature": "sha256:397728562d58c232ec24ed653c8db10f25b7af51bd78a0c07db5861a8512134d"
 },
 "nbformat": 3,
 "nbformat_minor": 0,
 "worksheets": [
  {
   "cells": [
    {
     "cell_type": "markdown",
     "metadata": {},
     "source": [
      "Notes on Graphics in R\n",
      "==========\n",
      "\n",
      "*Adopted from <a href=\"https://www.coursera.org/course/exdata\">Exploratory Data Analysis </a>on Coursera*\n",
      "\n",
      "**Vahid Mirjalili, Data Scientist**"
     ]
    },
    {
     "cell_type": "markdown",
     "metadata": {},
     "source": [
      "# 1. Introduction\n",
      "\n",
      "In this article, we provide principles of making effective graphs to be able to \n",
      "\n",
      " ** Principle of Analytic Graphics **\n",
      "\n",
      "   1. Show comparisons\n",
      "   2.  Show causality, mechanism, explanation, systematic structure\n",
      "   3. Show multivariate data\n",
      "   4. Integration of evidence\n",
      "   5. Describe the evidence with proper labels"
     ]
    },
    {
     "cell_type": "code",
     "collapsed": false,
     "input": [],
     "language": "python",
     "metadata": {},
     "outputs": []
    }
   ],
   "metadata": {}
  }
 ]
}