{
 "cells": [
  {
   "cell_type": "markdown",
   "metadata": {},
   "source": [
    "##"
   ]
  },
  {
   "cell_type": "markdown",
   "metadata": {},
   "source": [
    "#### Why Brownian motion doesn't have derivatives?\n",
    "\n",
    "Why $\\frac{d~B_t}{dt}$ does not exist?\n",
    "\n",
    "Difference quitient of B over the interval $[t,t_h]$: $$D_{t,h} = \\frac{B_{t+h} - B_t}{h}$$\n",
    "\n",
    "Now let's find expectaion and variance of that. \n",
    "\n",
    "$$\\mathbf{E}[D_{t,h}] = \\frac{0-0}{h} = 0$$\n",
    "\n",
    "$$\\mathbf{Var}[D_{t,h}] = \\frac{h}{h^2} = \\frac{1}{h}$$ \n",
    "\n",
    "So when $h\\to 0$ then $\\mathbf{Var}[D_{t,h}]\\to \\infty$\n",
    "\n",
    "So since if $D_{t,h}$ had a limit, it would have to be Gaussian, thus, $D_{t,h}$ does not converge. So $\\frac{d~B_t}{dt}$ does not exist."
   ]
  },
  {
   "cell_type": "markdown",
   "metadata": {},
   "source": [
    "However, check this out:\n",
    "\n",
    " * In differential form, we write $d~B_t = B_{t+dt} - B_t$  and $d~B_t$ should be Guassian. So we ought to have\n",
    "   * $\\mathbf{E}[dB_t] = 0$ and\n",
    "   * $\\mathbf{Var}[dB_t] = dt$  (indeed, this means $\\mathbf{E}[(dB_t)^2] = dt$)\n",
    " \n",
    "So, in particular, $\\displaystyle \\sqrt{\\mathbf{Var}[dB_t]} = \\sqrt{dt}$.\n",
    "\n",
    "To understand this, we will need ***\"stochastic calculus\"***.\n",
    "\n",
    "One more leap of faith, \n",
    "\n",
    "$$\\left(dB_t\\right)^2 = dt \\ \\ \\text{Ito's rule}$$\n",
    "\n",
    "So, we say that $dB_t \\sim \\mathcal{N}(0, dt)$"
   ]
  },
  {
   "cell_type": "markdown",
   "metadata": {},
   "source": [
    "### Black-Scholes-Merton Model\n",
    "\n",
    "$$S_t = S_0 ~ \\displaystyle  e^{\\sigma B_t -\\frac{1}{2} \\sigma^2t}$$\n",
    "\n",
    "where $\\sigma=\\text{a constant called volatility}$\n",
    "\n",
    "This is a good model for stock proces (but not for interest rates, ...)\n",
    "\n",
    "To see why the BSM is good for stock prices, let's first prove the Ito's formula.\n",
    "\n",
    "##### Recall: Taylor's formula\n",
    "\n",
    "Let $f:\\mathbb{R}\\to\\mathbb{R}$ and $f$ is differentiable.\n",
    "\n",
    " * Order 1: $f(b) \\approx f(a) + (b-a)f'(a)$ \n",
    " \n",
    " * Order 2: $f(b) \\approx f(a) + (b-a)f'(a) + \\frac{(b-a)^2}{2}f''(a)$\n",
    " \n",
    " * Differntial motivation: \n",
    "  $$f(x+dx) \\approx f(x) + f'(x) dx + \\frac{1}{2}f''(x)(dx)^2$$\n",
    "  \n",
    "  Also, if $f$ also depends on another parameter $t$, then, \n",
    "  \n",
    "  $$f(t+dt, x+dx) \\approx f(t,x) + \\frac{\\partial~f}{\\partial t}dt + \\frac{\\partial~f}{\\partial x}dx + \\frac{\\partial^2~f}{\\partial x^2} (dx)^2$$\n",
    "  \n",
    "  In the above formula, we ignored the $\\frac{\\partial^2~f}{\\partial t \\partial x}dtdx$ because in pur stochastic calculus ...\n",
    "  \n",
    " "
   ]
  },
  {
   "cell_type": "markdown",
   "metadata": {},
   "source": [
    "### Theorem: Ito's formula\n",
    "\n",
    "For the function $f(t,x)$ on $\\mathbb{R}_t\\times\\mathbb{R}$ ($f$ has $t-$derivatives of order 1, and $x-$derivatives of order 2).\n",
    "\n",
    "then, $$f(t+dt,B_{t+dt}) = f(t,B_t) + \\frac{\\partial~f}{\\partial x}(t,B_t)dB_t + \\frac{1}{2}\\frac{\\partial^2~f}{\\partial x^2}(t,B_t)dt + \\frac{\\partial~f}{\\partial t}(t,B_t)dt$$"
   ]
  },
  {
   "cell_type": "markdown",
   "metadata": {},
   "source": [
    "#### Proof: \n",
    "\n",
    "Apply the $(t,x)-$ dependent version of Taylor's formula we just saw with $x=B_t$ and $x+dx = B_{t+dt}$.\n",
    "\n",
    "Simply, notice the notation:\n",
    "\n",
    " $$dB_t := B_{t+dt} - B_t\\ \\ \\ \\ \\ \\ \\ \\text{ note }:=\\text{ means definition}$$\n",
    " \n",
    "We see that $dx = dB_t$ we just defined.\n",
    "\n",
    "Indeed, $\\displaystyle (dx)^2 = \\left(B_{t+dt} - B_t\\right)^2 = (dB_t)^2 = dt$ where the last equality is Ito's rule."
   ]
  },
  {
   "cell_type": "markdown",
   "metadata": {},
   "source": [
    "#### Recall Black-Scholes Model\n",
    "\n",
    "\n",
    "$$S_t = S_0 ~ \\displaystyle  e^{\\sigma B_t -\\frac{1}{2} \\sigma^2t}$$\n",
    "\n",
    "say $S_0=1$ just to simplify.\n",
    "\n",
    "Thus, \n",
    "\n",
    "$S_t = f(t,B_t)$ where $$f(t,x) =\\displaystyle  e^{\\sigma x -\\frac{1}{2} \\sigma^2t}$$\n",
    "\n",
    "Now, we apply Ito's formula:\n",
    "\n",
    " * $\\frac{\\partial~f}{\\partial x}(t,x) = \\sigma e^{\\sigma x - \\frac{1}{2}\\sigma^2t}$\n",
    "\n",
    " * $\\frac{\\partial^2~f}{\\partial x^2}(t,x) = \\sigma^2 e^{\\sigma x - \\frac{1}{2}\\sigma^2t}$\n",
    "\n",
    " * $\\frac{\\partial~f}{\\partial t}(t,x) = -\\frac{1}{2}\\sigma^2 e^{\\sigma x - \\frac{1}{2}\\sigma^2t}$\n",
    "\n",
    "Let's subsititue $$f(t+dt,B_{t+dt}) = f(t,B_t) + \\frac{\\partial~f}{\\partial x}(t,B_t)dB_t + \\frac{1}{2}\\frac{\\partial^2~f}{\\partial x^2}(t,B_t)dt + \\frac{\\partial~f}{\\partial t}(t,B_t)dt$$\n",
    "\n",
    "Ito's formula: \n",
    "\n",
    "$$\\begin{array}{lc}S_{t+dt} - S_t &= \\left(\\sigma e^{\\sigma B_t - \\frac{1}{2}\\sigma^2t}\\right)dB_t + \\\\ &\\frac{1}{2}\\left(\\sigma^2 e^{\\sigma B_t - \\frac{1}{2}\\sigma^2t}\\right)dt + \\\\ &\\left(-\\frac{1}{2}\\sigma^2 e^{\\sigma B_t - \\frac{1}{2}\\sigma^2t}\\right)dt \\\\ &= \\sigma e^{\\sigma x - \\frac{1}{2}\\sigma^2t} = \\sigma S_t dB_t\\end{array}$$\n"
   ]
  },
  {
   "cell_type": "markdown",
   "metadata": {},
   "source": [
    "##### Conclusion:\n",
    "\n",
    "We have just [proved $S_{t+dt} - S_t = \\sigma S_t dB_t$\n",
    "\n",
    "BSM differential equation: $dS_t = \\sigma S_t dB_t$"
   ]
  },
  {
   "cell_type": "markdown",
   "metadata": {},
   "source": [
    "##### Interpretation: We cannot say which direction the price will go (decrease or increase) but we can say how fast it will go."
   ]
  },
  {
   "cell_type": "markdown",
   "metadata": {},
   "source": [
    "### Insurance on Financial Risk \n",
    "\n",
    "Call options: you buy the right at time zero to purchase stock x at time $T$ (pre-detemined) inf future at a pre-determined price $K$.\n",
    "\n",
    " * If $S_T<K$ then just buy \n",
    " \n",
    " * If $S_T\\ge K$ use the option and buy at price $K$ abd sell at price $S_t$ so you make profit $S_T-K$\n",
    " \n",
    "The insurance contract gives you\n",
    "\n",
    "$$\\left\\{\\begin{array}{lrr}0&\\text{if}&S_T< K\\\\ S_T - K &\\text{if}&S_T \\ge K \\end{array}\\right.$$\n",
    "\n",
    "The price seeling this  insurance contract must find the right proce for it. It turns out the fair price is the expected value of the payoff. In fact, $PAYOFF = \\Phi(S_T)$ and fair price is $\\mathbf{E}[\\Phi(S_T)] = \\mathbf{E}[(S_T-K)_t]$"
   ]
  },
  {
   "cell_type": "markdown",
   "metadata": {},
   "source": [
    "We know everything about the distrinution of $S_T$:\n",
    "\n",
    "$$S_T = e^{\\sigma B_T - \\frac{1}{2}\\sigma^2 t}$$"
   ]
  },
  {
   "cell_type": "markdown",
   "metadata": {},
   "source": [
    "$B_T \\sim \\mathcal{N}(0,T)$ so we write $S_T = e^{\\sigma \\sqrt{T} Z - \\frac{1}{2}\\sigma^2 T}$\n",
    "\n",
    "So, $$\\mathbf{E}[\\Phi(S_T)] = \\int_0^\\infty \\frac{1}{\\sqrt{2\\pi}} e^{-Z^2/2}\\left(e^{\\sigma \\sqrt{T} Z - \\frac{1}{2}\\sigma^2 T} - K\\right)_t dZ$$"
   ]
  },
  {
   "cell_type": "code",
   "execution_count": null,
   "metadata": {
    "collapsed": true
   },
   "outputs": [],
   "source": []
  }
 ],
 "metadata": {
  "kernelspec": {
   "display_name": "Python 3",
   "language": "python",
   "name": "python3"
  },
  "language_info": {
   "codemirror_mode": {
    "name": "ipython",
    "version": 3
   },
   "file_extension": ".py",
   "mimetype": "text/x-python",
   "name": "python",
   "nbconvert_exporter": "python",
   "pygments_lexer": "ipython3",
   "version": "3.5.0rc4"
  }
 },
 "nbformat": 4,
 "nbformat_minor": 0
}
