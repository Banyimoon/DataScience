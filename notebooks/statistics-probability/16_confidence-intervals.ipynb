{
 "cells": [
  {
   "cell_type": "markdown",
   "metadata": {},
   "source": [
    "Confidence Intervals\n",
    "===="
   ]
  },
  {
   "cell_type": "markdown",
   "metadata": {},
   "source": [
    "\n",
    "### Estimating the proportion $p$ of data of a certain type in a sequence of data.\n",
    " \n",
    " In reality, even if there are many categories, this senario is the same as observing $n$ random variables $X_1, X_2, .., X_n$ which are IID $Bernoulli(p)$ where $p=\\text{proportion of your type of interest}$. We want a confidence interval for $p$."
   ]
  },
  {
   "cell_type": "markdown",
   "metadata": {},
   "source": [
    "Let $X=\\text{# of type i (i fixed)}$. So $X \\sim Binomial(n, p)$.\n",
    "\n",
    "By Central Limit Theorem, $X\\approx \\mathcal{N}(np, np(1-p))$. It's a bit more correct to say that $Z = \\displaystyle \\frac{X - np}{\\sqrt{np(1-p)}} ~\\sim \\mathcal{N}(0,1)$"
   ]
  },
  {
   "cell_type": "markdown",
   "metadata": {},
   "source": [
    "Now, we know a \"good\" estimator $\\hat{p}_n = \\displaystyle \\frac{X}{n}$\n",
    "\n",
    "A confidence interal for $\\hat{p}_n$ would look like this:\n",
    "\n",
    "$$0.95 = \\mathbf{P}\\left[|\\hat{p}_n - p| \\le \\epsilon\\right]$$"
   ]
  },
  {
   "cell_type": "markdown",
   "metadata": {},
   "source": [
    "This means we are $\\%95$ sure that $p$ is in the interval $[\\hat{p}_n - \\epsilon, \\hat{p}_n + \\epsilon ]$"
   ]
  },
  {
   "cell_type": "markdown",
   "metadata": {},
   "source": [
    "Now, for a fixed confidence level $\\gamma$ (here, $\\gamma=0.95$) and a fixed level of accuracy $\\epsilon$ (e.g. $\\epsilon=0.01$)"
   ]
  },
  {
   "cell_type": "markdown",
   "metadata": {},
   "source": [
    "Now, relate $Z$ to $\\hat{p}_n - p$:\n",
    "\n",
    "$$\\hat{p}_n - p = \\frac{X}{n} - p = \\frac{1}{n}\\left(X - np\\right) = \\frac{X - np}{\\sqrt{n}}\\frac{\\sqrt{p(1-p)}}{\\sqrt{p(1-p)}} = \\frac{Z }{\\sqrt{n}} \\sqrt{p(1-p)}$$"
   ]
  },
  {
   "cell_type": "markdown",
   "metadata": {},
   "source": [
    "Therefore, \n",
    "\n",
    "$$\\mathbf{P}[|\\hat{p}_n - p| \\le \\epsilon] = \\mathbf{P}[|\\frac{Z}{\\sqrt{n}}\\sqrt{p(1-p)}| \\le \\epsilon]  = \\mathbf{P}[|Z| \\le \\frac{\\epsilon \\sqrt{n}}{\\sqrt{p(1-p)}}] \\\\ \\approx \\mathbf{P}[|\\mathcal{N}(0,1)| \\le \\frac{\\epsilon \\sqrt{n}}{\\sqrt{p(1-p)}}] = \\Phi\\left(\\frac{\\epsilon \\sqrt{n}}{\\sqrt{p(1-p)}}\\right) - \\Phi\\left(-\\frac{\\epsilon \\sqrt{n}}{\\sqrt{p(1-p)}}\\right) \\\\ = 2\\Phi\\left(\\frac{\\epsilon \\sqrt{n}}{\\sqrt{p(1-p)}}\\right) - 1$$"
   ]
  },
  {
   "cell_type": "markdown",
   "metadata": {},
   "source": [
    "$$\\gamma = 2\\Phi\\left(\\frac{\\epsilon \\sqrt{n}}{\\sqrt{p(1-p)}}\\right) - 1 = 2\\Phi(x) - 1 \\text{ where } x = \\frac{\\epsilon \\sqrt{n}}{\\sqrt{p(1-p)}}$$"
   ]
  },
  {
   "cell_type": "markdown",
   "metadata": {},
   "source": [
    "There are now 2 possibilities:\n",
    "\n",
    " 1. Design an experiment so we are allowed to choose $n$; so solve above for $n$\n",
    " $$\\Phi\\left(x\\right) = \\frac{\\gamma + 1}{2}$$\n",
    " thus $x = \\text{the }\\frac{\\gamma + 1}2 \\text{th}$ percentile of the standard normal"
   ]
  },
  {
   "cell_type": "markdown",
   "metadata": {},
   "source": [
    "For example, with $\\gamma = 0.95$, $\\displaystyle x = Z_{\\frac{\\gamma + 1}{2}} = 1.96$\n",
    "\n",
    "Therefore, solving for $n$, we get $\\displaystyle n = \\frac{p(1-p)}{\\epsilon^2} \\left(Z_{\\frac{\\gamma + 1}{2}}\\right)^2$"
   ]
  },
  {
   "cell_type": "code",
   "execution_count": 12,
   "metadata": {
    "collapsed": false
   },
   "outputs": [
    {
     "data": {
      "image/png": "[encoded data removed]",
      "text/plain": [
       "<matplotlib.figure.Figure at 0x7f6f79019198>"
      ]
     },
     "metadata": {},
     "output_type": "display_data"
    }
   ],
   "source": [
    "import scipy.stats\n",
    "import matplotlib.pyplot as plt\n",
    "import numpy as np\n",
    "\n",
    "%matplotlib inline\n",
    "\n",
    "x = np.arange(-5,5,0.1)\n",
    "pdf = scipy.stats.norm.pdf(x)\n",
    "plt.figure(figsize=(13,4))\n",
    "plt.plot(x, pdf)\n",
    "plt.show()"
   ]
  },
  {
   "cell_type": "markdown",
   "metadata": {},
   "source": [
    "Note: $\\Phi(Z_\\delta) = \\delta$"
   ]
  },
  {
   "cell_type": "markdown",
   "metadata": {},
   "source": [
    "2) Let's say we cannot design an experiment and choose $n$ because our data is what it is. Then, if we insist on a confidence level $\\gamma$, this means we solve for $\\epsilon$ instead. in other words, we get the following confidence interval.\n",
    "\n",
    "Therefore, $\\epsilon = Z_{\\frac{\\gamma  +1}{2}} \\frac{\\sqrt{p(1-p)}}{\\sqrt{n}}$\n",
    "\n",
    "**Confidence Interval:** $\\displaystyle \\left[ \\hat{p}_n - \\epsilon , \\hat{p}_n + \\epsilon \\right]$\n",
    "\n",
    "Minor issue: we see in both cases that the answers depend on $p$ but we do not know $p$.\n",
    "\n",
    "Maybe a good idea is replace $p$ by $\\hat{p}_n$,"
   ]
  },
  {
   "cell_type": "markdown",
   "metadata": {},
   "source": [
    "But in the case of estimating a proportion, its much more conservative to notice that:\n",
    "\n",
    " * The term $\\sqrt{p(1-p)}$ cannot be larger than $\\displaystyle \\frac{1}{2}$  \n",
    " \n",
    "replace the previous $\\epsilon$ by $\\epsilon_{robust} = Z_{\\frac{\\gamma + 1}{2}}\\times \\frac{1}{2}\\times \\frac{1}{\\sqrt{n}}$\n",
    "\n"
   ]
  },
  {
   "cell_type": "markdown",
   "metadata": {},
   "source": [
    "Another minor issue: sampling without replacement\n",
    "\n",
    "Therefore, $X$ is not actually Binomial, but it is Hypergeometric."
   ]
  },
  {
   "cell_type": "markdown",
   "metadata": {},
   "source": [
    "Let $N = \\text{total # in population}$. It turns out that there is a CLT for the hypergeometric and we only need to adjust the standard deviation: in all formulas (fpr $n$, $\\epsilon$, etc) just replace $p(1-p)$ by $$p(1-p) \\frac{N - n}{N - 1}$$\n",
    "\n",
    "The factor $\\displaystyle \\frac{N - n}{N - 1}$ is called ***finite correction factor.*** What it means is that if $N$ is too large, sampling without replacement doesnt change and is the same as sampling with replacement."
   ]
  },
  {
   "cell_type": "markdown",
   "metadata": {},
   "source": [
    "**Remark:**  when we redo the math is solving for $n$ in method 1, (design of experiment), it turns out \n",
    "$$n_{corrected} = \\frac{n_{old}}{\\displaystyle 1 + \\frac{n_{old}}{N}}$$"
   ]
  },
  {
   "cell_type": "markdown",
   "metadata": {},
   "source": [
    "### Estimating a mean $\\mu$ for data \n",
    "\n",
    "$X_1, X_2, .., X_n$, IID\n",
    "\n",
    "$\\hat{\\mu}_n = \\displaystyle \\frac{X_1 + X_2 + ... + X_n}{n} = \\bar{X}_n \\text{ sample mean }$\n",
    "\n",
    "We use the exact same CLT-based arguments as before for finding Confidecne intervals for $\\mu$ using $\\hat{\\mu}_n$\n",
    "\n",
    "we only need to replace $p(1-p)$ by sample variance, ot if we are lucky, $\\sigma^2 = \\mathbf{Var}(X_i)$"
   ]
  },
  {
   "cell_type": "markdown",
   "metadata": {},
   "source": [
    "For method #2, ($n$ fixed, not chosen): confidecne interval for $\\mu$ is $\\displaystyle \\left[ \\hat{\\mu}_n - Z_{\\frac{\\gamma + 1}{2}} \\times \\frac{\\sigma^2}{\\sqrt{n}} , \\hat{\\mu}_n + Z_{\\frac{\\gamma + 1}{2}} \\times \\frac{\\sigma^2}{\\sqrt{n}} \\right]$\n",
    "\n",
    "Use sample variance $\\hat{\\sigma}^2$ or $S_n$ if $\\sigma^2$ is nit known. **Recommendation:** try to use other data to find $\\hat{\\sigma}^2$, not the same data as in $\\hat{\\mu}_n$\n",
    "\n",
    " * For method #1, choose $n =\\displaystyle \\left(\\frac{Z_\\frac{\\gamma + 1}{2}}{\\epsilon}\\right)^2 \\sigma^2$\n",
    " \n",
    " * Finally, sample without replacement, use correction factor $\\frac{N - n}{N - 1}$ next to $\\sigma^2$ "
   ]
  },
  {
   "cell_type": "markdown",
   "metadata": {},
   "source": [
    "## Fisher Information and Cramer Rao Low Bound/Inequality\n",
    "\n",
    " (Asymptotic normality of MLE)\n",
    " \n",
    " "
   ]
  },
  {
   "cell_type": "code",
   "execution_count": null,
   "metadata": {
    "collapsed": true
   },
   "outputs": [],
   "source": []
  }
 ],
 "metadata": {
  "kernelspec": {
   "display_name": "Python 3",
   "language": "python",
   "name": "python3"
  },
  "language_info": {
   "codemirror_mode": {
    "name": "ipython",
    "version": 3
   },
   "file_extension": ".py",
   "mimetype": "text/x-python",
   "name": "python",
   "nbconvert_exporter": "python",
   "pygments_lexer": "ipython3",
   "version": "3.5.0rc4"
  }
 },
 "nbformat": 4,
 "nbformat_minor": 0
}
