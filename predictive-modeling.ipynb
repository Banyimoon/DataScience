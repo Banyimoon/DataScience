{
 "cells": [
  {
   "cell_type": "markdown",
   "metadata": {},
   "source": [
    "\n",
    "\n",
    "\n"
   ]
  },
  {
   "cell_type": "markdown",
   "metadata": {},
   "source": [
    "## Evaluation\n",
    "\n",
    " * Holdout method (2/3 for training, 1/3 for testing)  \n",
    " * Repeated holdout  \n",
    " * Cross-validation  \n",
    "     * k-fold cross-validation  \n",
    "     * startified k-fold cross-validation (equal representation of classes)  \n",
    "     * leave-one-out  \n",
    " * Bootstrap (sample with replacement)\n",
    " \n",
    "Most commonly: 10 fold cross-validation\n"
   ]
  },
  {
   "cell_type": "code",
   "execution_count": null,
   "metadata": {
    "collapsed": true
   },
   "outputs": [],
   "source": []
  },
  {
   "cell_type": "markdown",
   "metadata": {},
   "source": [
    "## Preprocessing Steps\n",
    "\n",
    "\n",
    "**Data matrix:** rows are instances/items/patterns and columns are features/attributes.\n",
    "\n",
    "### Statistical Noise  \n",
    "  \n",
    "\n",
    "  Common rule for removing outliers: $ \\text{mean} + 3\\times \\text{std}   $ \n",
    "  \n",
    "  \n",
    "### Dealing with missing values\n",
    "  \n",
    "  * Get rid of them\n",
    "    * Deleting the instances (records)  \n",
    "    * Deleting features with high missing cases  \n",
    "  \n",
    "  * Replacement with mean values  \n",
    "  * Inference / imputations\n",
    "    * \n",
    "    \n",
    "### Feature Transformation\n",
    " \n",
    "  * Combining variables  \n",
    "  * Scaling data  \n",
    "    * Mean centering $x_{new} = x - \\text{mean}(x) $\n",
    "    * Z-score: mean centering and standardization $x_{new} = \\frac{x - \\text{mean}(x)}{\\text{std}(x)}$\n",
    "    * scale to range $[0 .. 1]$ by $x_{new} = \\frac{x - \\min(x)}{\\max(x) - \\min(x)}$\n",
    "    * Log-scaling $x_{new} = \\log(x)$\n",
    "  * Discretization\n",
    "  \n",
    "### Feature selection\n",
    " \n",
    " * Reducing the features with low correletaions ot outcome  \n",
    " * Start from empty set of features and add 1 feature at a time while testing the performance on a sample set"
   ]
  },
  {
   "cell_type": "markdown",
   "metadata": {
    "collapsed": true
   },
   "source": [
    "## Statistical Modeling\n",
    "\n",
    "Basic assumptions:  \n",
    " * Variables are equally important  \n",
    " * Variables are statistically independent  \n",
    " \n",
    "**Statistical Indepence:** knowledge about the value of one attribute, desn't tell us anything about the value of other attributes.\n",
    "\n",
    "### Naive Bayes Rule\n",
    "\n",
    " * $\\text{Pr}(\\text{Hypothesis}\\ |\\ \\text{Evidence})=\\displaystyle \\frac{\\text{Pr}(\\text{Evidence} \\ | \\ \\text{Hypothesis})\\times \\text{Pr}(\\text{Hypothesis})}{\\text{Pr}(\\text{Evidence})}$\n",
    " \n",
    "Naive Bayes assumption: evidence terms are conditionnaly independet from each other. As a result, evidence can be split into independent parts\n",
    "\n",
    "$$\\text{Pr}(\\text{Evidence} \\ | \\ \\text{Hypothesis}) = \\text{Pr}(\\text{E}_1 \\ | \\ \\text{Hypothesis}) \\times \\text{Pr}(\\text{E}_2 \\ | \\ \\text{Hypothesis}) \\times .. \\times \\text{Pr}(\\text{E}_d \\ | \\ \\text{Hypothesis})$$"
   ]
  },
  {
   "cell_type": "markdown",
   "metadata": {},
   "source": [
    "### Decision Tree Induction\n",
    "\n",
    " * A method for estimating descrete valued functions  \n",
    " * Robust to noise and missing data  \n",
    " * Applicable to non-linear relationships  \n",
    " \n",
    " #### Basic Frameork\n",
    " \n",
    "   * Each node tests an attribute\n",
    "   * Each branch correpond to some possible attribute values  \n",
    "   * Each leaf node assigns a class  "
   ]
  },
  {
   "cell_type": "code",
   "execution_count": null,
   "metadata": {
    "collapsed": true
   },
   "outputs": [],
   "source": []
  }
 ],
 "metadata": {
  "kernelspec": {
   "display_name": "Python 3",
   "language": "python",
   "name": "python3"
  },
  "language_info": {
   "codemirror_mode": {
    "name": "ipython",
    "version": 3
   },
   "file_extension": ".py",
   "mimetype": "text/x-python",
   "name": "python",
   "nbconvert_exporter": "python",
   "pygments_lexer": "ipython3",
   "version": "3.4.3"
  }
 },
 "nbformat": 4,
 "nbformat_minor": 0
}
