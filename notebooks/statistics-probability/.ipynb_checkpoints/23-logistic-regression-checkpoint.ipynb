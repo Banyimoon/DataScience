{
 "cells": [
  {
   "cell_type": "markdown",
   "metadata": {},
   "source": [
    "Logistic Regression\n",
    "=========="
   ]
  },
  {
   "cell_type": "markdown",
   "metadata": {},
   "source": [
    " *  A mtehod of estimating probaility of an event"
   ]
  },
  {
   "cell_type": "markdown",
   "metadata": {},
   "source": [
    "$$P(d,x) = \\text{Probability of an event (death of drug trial participant,}\\\\\\text{ given a quantity x (age of participant), and a treamtetn d)}$$"
   ]
  },
  {
   "cell_type": "markdown",
   "metadata": {},
   "source": [
    "So we want to estimate $P(d,x)$\n",
    "\n",
    " * Experiment: separate randomly the data (participants) into those getting treatment $A$ & those getting treatment $B$.\n",
    " \n",
    " * **Odds:** if $p$ is a probability, $h = \\displaystyle \\frac{p}{1-p}$ is the odds $\\in (0,+\\infty)$\n",
    "\n",
    " * Define **log odds** as  $\\mu=\\log h$ and $\\mu \\in (-\\infty, +\\infty)$\n",
    " \n",
    "    * note: log function crunches the scale"
   ]
  },
  {
   "cell_type": "markdown",
   "metadata": {},
   "source": [
    "** graph of log h**"
   ]
  },
  {
   "cell_type": "markdown",
   "metadata": {},
   "source": [
    "### Logistic Regression Model\n",
    "\n",
    "$$\\mu(d,x) = \\beta_0 + \\beta_1 d_A + \\beta_2 x$$\n",
    "\n",
    " * where: $\\beta_0,\\beta_1,\\beta_2$ are the regression parameters\n",
    " * $x$ indicates age\n",
    " * $d_A$ indicates if data belongs to treatment $A$ or not\n",
    " \n",
    "Data $Y_i$ is assumed: $Y_i \\sim Bern(p(d_i,x_i))$\n",
    "\n",
    " * $\\forall \\text{participant }i$, we know data $x_i$ (age), andd which group they are in: $d_i=1 \\text{ for i in group A}$"
   ]
  },
  {
   "cell_type": "markdown",
   "metadata": {},
   "source": [
    "#### Idea\n",
    "\n",
    " * To estimate $p(d,x)$ we will look for an estimator of $\\mu(d,x)$ first. \n",
    "\n",
    " * We are interested in the so called \"odds ratio\": \n",
    " \n",
    " $$R = \\frac{h \\text{ for A}}{h \\text{ for B}} = \\frac{\\displaystyle e^{\\mu(A,x)}}{\\displaystyle  e^{\\mu(B,x)}} = e^{\\mu(A,x) - \\mu(B,x)} = e^{\\beta_1}$$\n",
    " \n",
    " This shows why we want to estimate $\\beta_1$."
   ]
  },
  {
   "cell_type": "markdown",
   "metadata": {},
   "source": [
    "It turns out that it is possible to define aan MLE for $\\hat{\\beta}=(\\hat{\\beta}_0, \\hat{\\beta}_1, \\hat{\\beta}_2)$ based on the data $(x_i, Y_i)$ such that $Y - \\hat{P}$ is perpendicular to the data.\n",
    "\n",
    " * Note: $\\hat{P} = \\text{predicrted value of }p\\text{ according to } \\hat{\\beta}$\n",
    " \n",
    " $$\\hat{\\mu}(d,x) = \\hat{\\beta}_0 + \\hat{\\beta}_1d_A + \\hat{\\beta}_2x$$\n",
    " \n",
    " * Compute $p$ from $\\mu$:\n",
    " \n",
    "   * $\\mu = \\log h \\displaystyle \\Longrightarrow h = e^{\\mu}$\n",
    "   \n",
    "   * $h = \\displaystyle \\frac{p}{1-p} \\displaystyle \\Longrightarrow p = \\displaystyle \\frac{h}{1+h}$\n",
    "   \n",
    "   $$\\Longrightarrow \\hat{p} (d,x) = \\frac{\\displaystyle e^{\\hat{\\mu} (d,x)}}{1 + \\displaystyle e^{\\hat{\\mu} (d,x)}}$$\n",
    "   \n",
    " Of course, as we said, our estimated odds ratio is $\\hat{R} = e^{\\beta_1}$"
   ]
  },
  {
   "cell_type": "markdown",
   "metadata": {},
   "source": [
    "**Question:** why not using a model like $$\\mu(d,x) = \\beta_0 + \\beta_1 d_A +\\beta_2 d_B + \\beta_3 x$$\n",
    " \n",
    "  * **Answer:** $d_A$ and $d_B$ are not independnt. In fact you can build $d_B$ from $d_A$ by $\\displaystyle d_B = \\left(\\begin{array}{c}1\\\\1\\\\1\\\\..\\\\1\\end{array}\\right) - d_A = \\textbf{1} - d_A$"
   ]
  },
  {
   "cell_type": "markdown",
   "metadata": {},
   "source": [
    "### Notes:\n",
    "\n",
    " * If we have 3 treatments ($A$,$B$,$C$), then develop a model with 2 parameter (like $d_A,d_B$) (for the same reason as question above)\n",
    " \n",
    " * If you don't have enough data, use Baysian statistics"
   ]
  },
  {
   "cell_type": "code",
   "execution_count": null,
   "metadata": {
    "collapsed": true
   },
   "outputs": [],
   "source": []
  }
 ],
 "metadata": {
  "kernelspec": {
   "display_name": "Python 3",
   "language": "python",
   "name": "python3"
  },
  "language_info": {
   "codemirror_mode": {
    "name": "ipython",
    "version": 3
   },
   "file_extension": ".py",
   "mimetype": "text/x-python",
   "name": "python",
   "nbconvert_exporter": "python",
   "pygments_lexer": "ipython3",
   "version": "3.5.3"
  }
 },
 "nbformat": 4,
 "nbformat_minor": 2
}
