{
 "metadata": {
  "name": "",
  "signature": "sha256:b3ac391f63c7e43596acfa722f56b5f73dd06e56a13fc2a71b2430501289720a"
 },
 "nbformat": 3,
 "nbformat_minor": 0,
 "worksheets": [
  {
   "cells": [
    {
     "cell_type": "markdown",
     "metadata": {},
     "source": [
      "Largest Variation Portfolio using PCA\n",
      "===============\n",
      "\n",
      "**Vahid Mirjalili, Data Mining Researcher**"
     ]
    },
    {
     "cell_type": "markdown",
     "metadata": {},
     "source": [
      "**Largest profit:**\n",
      "\n",
      "Our goal is to find a portfolio that has had the largest variation (profit) during 2011 to date. \n",
      "First we extract the asset price data from finance.yahoo.com, and make a pandas dataframe. Then, \n",
      "we apply PCA and show a linear combination of assets that has had the largest variation."
     ]
    },
    {
     "cell_type": "code",
     "collapsed": false,
     "input": [
      "%load_ext watermark\n",
      "\n",
      "%watermark -a 'Vahid Mirjalili' -d -p scikit-learn,numpy,numexpr,pandas,matplotlib -v\n",
      "\n"
     ],
     "language": "python",
     "metadata": {},
     "outputs": [
      {
       "output_type": "stream",
       "stream": "stdout",
       "text": [
        "Vahid Mirjalili 14/11/2014 \n",
        "\n",
        "CPython 2.7.3\n",
        "IPython 2.0.0\n",
        "\n",
        "scikit-learn 0.15.2\n",
        "numpy 1.9.0\n",
        "numexpr 2.2.2\n",
        "pandas 0.15.0\n",
        "matplotlib 1.4.0\n"
       ]
      }
     ],
     "prompt_number": 1
    },
    {
     "cell_type": "code",
     "collapsed": false,
     "input": [
      "## Import the necessary modules\n",
      "\n",
      "import datetime\n",
      "import pandas as pd\n",
      "import pandas.io.data\n",
      "\n",
      "import sklearn\n",
      "\n",
      "from matplotlib import pyplot as plt\n",
      "\n",
      "%matplotlib inline"
     ],
     "language": "python",
     "metadata": {},
     "outputs": [],
     "prompt_number": 2
    },
    {
     "cell_type": "markdown",
     "metadata": {},
     "source": [
      "## Getting Stock Data\n",
      "\n",
      " * Extract data for 20 companies"
     ]
    },
    {
     "cell_type": "code",
     "collapsed": false,
     "input": [
      "mydict = {}\n",
      "for s in ['AAPL', 'MSFT', 'GE', 'AMZN', 'IBM', 'AOL', 'HP',\n",
      "               'YHOO', 'NFLX', 'MON', 'DOW', 'SBUX', 'GM', 'XRX',\n",
      "               'F', 'TSLA', 'BP', 'XOM', 'CVX', 'DDD']:\n",
      "#for s in ['MSFT', 'AAPL']:\n",
      "    d = pd.io.data.get_data_yahoo(s, \n",
      "                               start=datetime.datetime(2011, 1, 1), \n",
      "                               end=datetime.datetime.now())\n",
      "    mydict[s] = d['Adj Close']\n",
      "\n",
      "\n",
      "df = pd.DataFrame(mydict)\n",
      "print(df.shape)\n",
      "df.head()"
     ],
     "language": "python",
     "metadata": {},
     "outputs": [
      {
       "output_type": "stream",
       "stream": "stdout",
       "text": [
        "(975, 20)\n"
       ]
      },
      {
       "html": [
        "<div style=\"max-height:1000px;max-width:1500px;overflow:auto;\">\n",
        "<table border=\"1\" class=\"dataframe\">\n",
        "  <thead>\n",
        "    <tr style=\"text-align: right;\">\n",
        "      <th></th>\n",
        "      <th>AAPL</th>\n",
        "      <th>AMZN</th>\n",
        "      <th>AOL</th>\n",
        "      <th>BP</th>\n",
        "      <th>CVX</th>\n",
        "      <th>DDD</th>\n",
        "      <th>DOW</th>\n",
        "      <th>F</th>\n",
        "      <th>GE</th>\n",
        "      <th>GM</th>\n",
        "      <th>HP</th>\n",
        "      <th>IBM</th>\n",
        "      <th>MON</th>\n",
        "      <th>MSFT</th>\n",
        "      <th>NFLX</th>\n",
        "      <th>SBUX</th>\n",
        "      <th>TSLA</th>\n",
        "      <th>XOM</th>\n",
        "      <th>XRX</th>\n",
        "      <th>YHOO</th>\n",
        "    </tr>\n",
        "    <tr>\n",
        "      <th>Date</th>\n",
        "      <th></th>\n",
        "      <th></th>\n",
        "      <th></th>\n",
        "      <th></th>\n",
        "      <th></th>\n",
        "      <th></th>\n",
        "      <th></th>\n",
        "      <th></th>\n",
        "      <th></th>\n",
        "      <th></th>\n",
        "      <th></th>\n",
        "      <th></th>\n",
        "      <th></th>\n",
        "      <th></th>\n",
        "      <th></th>\n",
        "      <th></th>\n",
        "      <th></th>\n",
        "      <th></th>\n",
        "      <th></th>\n",
        "      <th></th>\n",
        "    </tr>\n",
        "  </thead>\n",
        "  <tbody>\n",
        "    <tr>\n",
        "      <th>2011-01-03</th>\n",
        "      <td> 44.59</td>\n",
        "      <td> 184.22</td>\n",
        "      <td> 20.52</td>\n",
        "      <td> 37.55</td>\n",
        "      <td> 80.60</td>\n",
        "      <td> 10.67</td>\n",
        "      <td> 30.89</td>\n",
        "      <td> 15.98</td>\n",
        "      <td> 16.08</td>\n",
        "      <td> 36.11</td>\n",
        "      <td> 46.34</td>\n",
        "      <td> 136.59</td>\n",
        "      <td> 64.65</td>\n",
        "      <td> 25.20</td>\n",
        "      <td> 178.41</td>\n",
        "      <td> 31.38</td>\n",
        "      <td> 26.62</td>\n",
        "      <td> 67.23</td>\n",
        "      <td> 10.79</td>\n",
        "      <td> 16.75</td>\n",
        "    </tr>\n",
        "    <tr>\n",
        "      <th>2011-01-04</th>\n",
        "      <td> 44.82</td>\n",
        "      <td> 185.01</td>\n",
        "      <td> 20.42</td>\n",
        "      <td> 38.48</td>\n",
        "      <td> 80.30</td>\n",
        "      <td> 10.24</td>\n",
        "      <td> 30.67</td>\n",
        "      <td> 16.10</td>\n",
        "      <td> 16.37</td>\n",
        "      <td> 36.93</td>\n",
        "      <td> 45.46</td>\n",
        "      <td> 136.74</td>\n",
        "      <td> 64.84</td>\n",
        "      <td> 25.30</td>\n",
        "      <td> 181.37</td>\n",
        "      <td> 30.66</td>\n",
        "      <td> 26.67</td>\n",
        "      <td> 67.54</td>\n",
        "      <td> 10.51</td>\n",
        "      <td> 16.59</td>\n",
        "    </tr>\n",
        "    <tr>\n",
        "      <th>2011-01-05</th>\n",
        "      <td> 45.18</td>\n",
        "      <td> 187.42</td>\n",
        "      <td> 20.43</td>\n",
        "      <td> 38.68</td>\n",
        "      <td> 80.16</td>\n",
        "      <td> 10.45</td>\n",
        "      <td> 30.62</td>\n",
        "      <td> 16.57</td>\n",
        "      <td> 16.40</td>\n",
        "      <td> 37.10</td>\n",
        "      <td> 46.51</td>\n",
        "      <td> 136.20</td>\n",
        "      <td> 65.16</td>\n",
        "      <td> 25.22</td>\n",
        "      <td> 179.73</td>\n",
        "      <td> 30.54</td>\n",
        "      <td> 26.83</td>\n",
        "      <td> 67.36</td>\n",
        "      <td> 10.56</td>\n",
        "      <td> 16.91</td>\n",
        "    </tr>\n",
        "    <tr>\n",
        "      <th>2011-01-06</th>\n",
        "      <td> 45.15</td>\n",
        "      <td> 185.86</td>\n",
        "      <td> 20.55</td>\n",
        "      <td> 38.45</td>\n",
        "      <td> 79.51</td>\n",
        "      <td> 10.08</td>\n",
        "      <td> 31.20</td>\n",
        "      <td> 16.88</td>\n",
        "      <td> 16.33</td>\n",
        "      <td> 37.91</td>\n",
        "      <td> 45.74</td>\n",
        "      <td> 137.69</td>\n",
        "      <td> 66.73</td>\n",
        "      <td> 25.96</td>\n",
        "      <td> 177.99</td>\n",
        "      <td> 30.17</td>\n",
        "      <td> 27.88</td>\n",
        "      <td> 67.80</td>\n",
        "      <td> 10.56</td>\n",
        "      <td> 17.06</td>\n",
        "    </tr>\n",
        "    <tr>\n",
        "      <th>2011-01-07</th>\n",
        "      <td> 45.47</td>\n",
        "      <td> 185.49</td>\n",
        "      <td> 20.35</td>\n",
        "      <td> 38.33</td>\n",
        "      <td> 79.94</td>\n",
        "      <td>  9.86</td>\n",
        "      <td> 30.84</td>\n",
        "      <td> 16.92</td>\n",
        "      <td> 16.21</td>\n",
        "      <td> 37.98</td>\n",
        "      <td> 46.20</td>\n",
        "      <td> 137.01</td>\n",
        "      <td> 67.67</td>\n",
        "      <td> 25.76</td>\n",
        "      <td> 179.30</td>\n",
        "      <td> 30.94</td>\n",
        "      <td> 28.24</td>\n",
        "      <td> 68.17</td>\n",
        "      <td> 10.42</td>\n",
        "      <td> 16.90</td>\n",
        "    </tr>\n",
        "  </tbody>\n",
        "</table>\n",
        "</div>"
       ],
       "metadata": {},
       "output_type": "pyout",
       "prompt_number": 3,
       "text": [
        "             AAPL    AMZN    AOL     BP    CVX    DDD    DOW      F     GE  \\\n",
        "Date                                                                         \n",
        "2011-01-03  44.59  184.22  20.52  37.55  80.60  10.67  30.89  15.98  16.08   \n",
        "2011-01-04  44.82  185.01  20.42  38.48  80.30  10.24  30.67  16.10  16.37   \n",
        "2011-01-05  45.18  187.42  20.43  38.68  80.16  10.45  30.62  16.57  16.40   \n",
        "2011-01-06  45.15  185.86  20.55  38.45  79.51  10.08  31.20  16.88  16.33   \n",
        "2011-01-07  45.47  185.49  20.35  38.33  79.94   9.86  30.84  16.92  16.21   \n",
        "\n",
        "               GM     HP     IBM    MON   MSFT    NFLX   SBUX   TSLA    XOM  \\\n",
        "Date                                                                          \n",
        "2011-01-03  36.11  46.34  136.59  64.65  25.20  178.41  31.38  26.62  67.23   \n",
        "2011-01-04  36.93  45.46  136.74  64.84  25.30  181.37  30.66  26.67  67.54   \n",
        "2011-01-05  37.10  46.51  136.20  65.16  25.22  179.73  30.54  26.83  67.36   \n",
        "2011-01-06  37.91  45.74  137.69  66.73  25.96  177.99  30.17  27.88  67.80   \n",
        "2011-01-07  37.98  46.20  137.01  67.67  25.76  179.30  30.94  28.24  68.17   \n",
        "\n",
        "              XRX   YHOO  \n",
        "Date                      \n",
        "2011-01-03  10.79  16.75  \n",
        "2011-01-04  10.51  16.59  \n",
        "2011-01-05  10.56  16.91  \n",
        "2011-01-06  10.56  17.06  \n",
        "2011-01-07  10.42  16.90  "
       ]
      }
     ],
     "prompt_number": 3
    },
    {
     "cell_type": "markdown",
     "metadata": {},
     "source": [
      "## Plotting the average price"
     ]
    },
    {
     "cell_type": "code",
     "collapsed": false,
     "input": [
      "dfmean = df.mean(axis=1)\n",
      "dfmean_mavg = pd.rolling_mean(dfmean, 50)\n",
      "\n",
      "dfmean.plot(linewidth=1.5, label='Mean of 20')\n",
      "dfmean_mavg.plot(linewidth=3, label='Moving Avg.')\n",
      "plt.legend(loc=2)"
     ],
     "language": "python",
     "metadata": {},
     "outputs": [
      {
       "metadata": {},
       "output_type": "pyout",
       "prompt_number": 40,
       "text": [
        "<matplotlib.legend.Legend at 0x795e250>"
       ]
      },
      {
       "metadata": {},
       "output_type": "display_data",
       "png": "[encoded data removed]",
       "text": [
        "<matplotlib.figure.Figure at 0x85f5550>"
       ]
      }
     ],
     "prompt_number": 40
    },
    {
     "cell_type": "markdown",
     "metadata": {},
     "source": [
      "## Applying PCA on stock proces"
     ]
    },
    {
     "cell_type": "code",
     "collapsed": false,
     "input": [
      "df_centr = df - df.mean(axis=0)\n",
      "\n",
      "import sklearn.decomposition\n",
      "pca = sklearn.decomposition.PCA(n_components=2, copy=True, whiten=False)\n",
      "\n",
      "df_tr = pca.fit_transform(df_centr)\n",
      "\n",
      "df_tr = pd.DataFrame(df_tr, index=df.index, columns=['PCA1', 'PCA2'])"
     ],
     "language": "python",
     "metadata": {},
     "outputs": [],
     "prompt_number": 48
    },
    {
     "cell_type": "code",
     "collapsed": false,
     "input": [
      "\n",
      "\n",
      "df_tr.head()\n",
      "df_tr['PCA1'].plot(linewidth=2, label='PCA1')\n",
      "df_tr['PCA2'].plot(linewidth=2, label='PCA2')\n",
      "plt.legend(loc=2)"
     ],
     "language": "python",
     "metadata": {},
     "outputs": [
      {
       "metadata": {},
       "output_type": "pyout",
       "prompt_number": 50,
       "text": [
        "<matplotlib.legend.Legend at 0x8b33bd0>"
       ]
      },
      {
       "metadata": {},
       "output_type": "display_data",
       "png": "[encoded data removed]",
       "text": [
        "<matplotlib.figure.Figure at 0x86861d0>"
       ]
      }
     ],
     "prompt_number": 50
    },
    {
     "cell_type": "code",
     "collapsed": false,
     "input": [],
     "language": "python",
     "metadata": {},
     "outputs": []
    }
   ],
   "metadata": {}
  }
 ]
}