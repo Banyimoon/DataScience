{
 "cells": [
  {
   "cell_type": "markdown",
   "metadata": {},
   "source": [
    "## Decision Tree Classification\n",
    "\n",
    "\n",
    "### Splitting\n",
    "\n",
    "#### Splittin Criteria\n",
    "\n",
    "#### Termination (When to stop splitting?)\n",
    "\n",
    " * **Pure nodes** ideally, stop when all the members belong to the same class, means that a node is pure.\n",
    " * **Early termination** to avoid overfitting\n",
    " \n",
    "#### How to measure the purity/impurity of a node?\n",
    "\n",
    "Entropy is a measure of impurity of a node. Higher entropy means the node has higher degree of impurity. \n",
    "\n",
    "$$Entropy = -\\displaystyle \\sum_j p(j|t) \\log p(j|t)$$"
   ]
  },
  {
   "cell_type": "code",
   "execution_count": null,
   "metadata": {
    "collapsed": true
   },
   "outputs": [],
   "source": []
  }
 ],
 "metadata": {
  "kernelspec": {
   "display_name": "Python 3",
   "language": "python",
   "name": "python3"
  },
  "language_info": {
   "codemirror_mode": {
    "name": "ipython",
    "version": 3
   },
   "file_extension": ".py",
   "mimetype": "text/x-python",
   "name": "python",
   "nbconvert_exporter": "python",
   "pygments_lexer": "ipython3",
   "version": "3.5.1"
  }
 },
 "nbformat": 4,
 "nbformat_minor": 0
}
