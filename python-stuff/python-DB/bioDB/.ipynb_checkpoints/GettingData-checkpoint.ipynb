{
 "metadata": {
  "name": "",
  "signature": "sha256:57bea553f911c6bf9f7ae9513c70659ca24ac90c106debd6494f106ffdb13c3f"
 },
 "nbformat": 3,
 "nbformat_minor": 0,
 "worksheets": [
  {
   "cells": [
    {
     "cell_type": "code",
     "collapsed": false,
     "input": [
      "import Bio\n",
      "from Bio import Entrez\n",
      "\n",
      "Entrez.email = \"vm@gmail.com\""
     ],
     "language": "python",
     "metadata": {},
     "outputs": [],
     "prompt_number": 1
    },
    {
     "cell_type": "code",
     "collapsed": false,
     "input": [
      "handle = Entrez.einfo()\n",
      "record = Entrez.read(handle)\n",
      "\n",
      "print(record)"
     ],
     "language": "python",
     "metadata": {},
     "outputs": [
      {
       "output_type": "stream",
       "stream": "stdout",
       "text": [
        "{u'DbList': ['pubmed', 'protein', 'nuccore', 'nucleotide', 'nucgss', 'nucest', 'structure', 'genome', 'assembly', 'genomeprj', 'bioproject', 'biosample', 'blastdbinfo', 'books', 'cdd', 'clinvar', 'clone', 'gap', 'gapplus', 'grasp', 'dbvar', 'epigenomics', 'gene', 'gds', 'geoprofiles', 'homologene', 'medgen', 'journals', 'mesh', 'ncbisearch', 'nlmcatalog', 'omim', 'orgtrack', 'pmc', 'popset', 'probe', 'proteinclusters', 'pcassay', 'biosystems', 'pccompound', 'pcsubstance', 'pubmedhealth', 'seqannot', 'snp', 'sra', 'taxonomy', 'toolkit', 'toolkitall', 'toolkitbook', 'unigene', 'gencoll', 'gtr']}\n"
       ]
      }
     ],
     "prompt_number": 2
    },
    {
     "cell_type": "code",
     "collapsed": false,
     "input": [
      "print(record.keys())\n",
      "\n",
      "record['DbList']"
     ],
     "language": "python",
     "metadata": {},
     "outputs": [
      {
       "output_type": "stream",
       "stream": "stdout",
       "text": [
        "[u'DbList']\n"
       ]
      },
      {
       "metadata": {},
       "output_type": "pyout",
       "prompt_number": 3,
       "text": [
        "['pubmed', 'protein', 'nuccore', 'nucleotide', 'nucgss', 'nucest', 'structure', 'genome', 'assembly', 'genomeprj', 'bioproject', 'biosample', 'blastdbinfo', 'books', 'cdd', 'clinvar', 'clone', 'gap', 'gapplus', 'grasp', 'dbvar', 'epigenomics', 'gene', 'gds', 'geoprofiles', 'homologene', 'medgen', 'journals', 'mesh', 'ncbisearch', 'nlmcatalog', 'omim', 'orgtrack', 'pmc', 'popset', 'probe', 'proteinclusters', 'pcassay', 'biosystems', 'pccompound', 'pcsubstance', 'pubmedhealth', 'seqannot', 'snp', 'sra', 'taxonomy', 'toolkit', 'toolkitall', 'toolkitbook', 'unigene', 'gencoll', 'gtr']"
       ]
      }
     ],
     "prompt_number": 3
    },
    {
     "cell_type": "code",
     "collapsed": false,
     "input": [
      "import xml.sax\n",
      "class SeqHandler(xml.sax.ContentHandler):\n",
      "    def __init__(self):\n",
      "        xml.sax.ContentHandler.__init__(self)\n",
      "    \n",
      "    def startElement(self, name, attrs):\n",
      "        #print(\"startElement '\" + name + \"'\")\n",
      "        if name == \"GBSeq_sequence\":\n",
      "            \n"
     ],
     "language": "python",
     "metadata": {},
     "outputs": [],
     "prompt_number": 13
    },
    {
     "cell_type": "code",
     "collapsed": false,
     "input": [
      "#import xml.etree.cElementTree as ET\n",
      "import bs4"
     ],
     "language": "python",
     "metadata": {},
     "outputs": [],
     "prompt_number": 21
    },
    {
     "cell_type": "code",
     "collapsed": false,
     "input": [
      "handle = Entrez.esearch(db='nucleotide', retmax=2516, term='opuntia')\n",
      "\n",
      "records = Entrez.read(handle)\n",
      "\n",
      "#print(records)\n",
      "\n",
      "with open('')\n",
      "for recid  in records['IdList']:\n",
      "    h = Entrez.efetch(db=\"nucleotide\", id=recid, rettype=\"gb\", retmode=\"xml\")\n",
      "    rec = h.read()\n",
      "    #xml.sax.parseString(rec, SeqHandler())\n",
      "    soup = bs4.BeautifulSoup(rec, 'xml')\n",
      "    #print(soup.find_all('GBSeq_sequence').contents)\n",
      "    print (soup.GBSeq_sequence.contents[0].upper())\n"
     ],
     "language": "python",
     "metadata": {},
     "outputs": [
      {
       "output_type": "stream",
       "stream": "stdout",
       "text": [
        "TTTTTGCATATTCAATAAGCGGAGGAAAAGAAACCAACAGGGATTGCCTTAGTAGCGGCGAGTGAAGCGGCAAGAGCTCAAATTTGAAATCTGGTACCTTCGGTGCCCGAGTTGTAATTTGAAGAAAGCTATCTTGGATTTGGCCTTTGTCTATGTTCCTTGGAACAGGACGTCACAGAGGGTGAGAATCCCGTGCGATGAGGTGTCCATTTCTATGTAAGATGTTTTCGAAGAGTCGAGTTGTTTGGGAATGCAGCTCTAAGTGGGTGGTAAATTCCATCTAAAGCTAAATATTGGCGAGAGACCGATAGCGAACAAGTACAGTGATGGAAAGATGAAAAGAACTTTGAAAAGAGAGTGAAAAAGTACGTGAAATTGTTGAAAGGGAAGGGTATTAGATCAGACTTGGTATTTAGTTATCATTACTCCTTGTGGGTGGTGCTCTAGCTTTTTACTGGGCCAGCATCAGTTTTGGTGACAGGATAATAGCAATTGAATGTGGCTCTTCGGAGTGTTATAGCTTTTGTTGATACTGTCTACTGGGACTGAGGTCTGCGGCTTTGCCTAGGATGCTGGCGTAATGATCCAATACCGCCCGTCTTG\n",
        "TTTTTGCATATCAATAAGCGGAGGAAAAGAAACCAACAGGGATTGCCTCAGTAACGGCGAGTGAAGCGGCAAAAGCTCAAATTTGAAACCCTCGGGATTGTAATTTGAATGATTTGGCATTGGAGAAAGCTAACCCAAGTTACTTGGAATAGTACGTCATAGAGGGTGACAACCCCGTCTGGCTAACCGTTCTCCATGTATTGCCTTATCAAAGAGTCGAGTTGTTTGGGAATGCAGCTCAAAGTGGGTGGTAAACTCCATCTAAAGCTAAATACTGGTGAGAGACCGATAGCGAACAAGTACTGTGAAGGAAAGGTGAAAAGAACTTTGAAAAGAGAGTGAAATAGTATGTGAAATTGTTGATAGGGAAGGAAATGAGTGGAGAGTGGTTTAGGTTTCAGCCTTCTTTCGAGGGGGTGCACTACCAACGCCGAGTCATTGATAGCGAGACAGGGGTTATAAACGGACGGCACTTGTGCTATTCTCCTAACCCCTCTACTGCCACCAACGACATAATCCACCCATTTCACCCGTCTTGAAACACGGACCAAAAAAA"
       ]
      },
      {
       "output_type": "stream",
       "stream": "stdout",
       "text": [
        "\n",
        "TGCATATCAATAAGCGGAGGAAAAGAAACCAACAGGGATTGCCCTAGTAACGGCGAGTGAAGCGGCAACAGCTCAAATTTGAAATCTGGCGTCTTCGGCGTCCGAGTTGTAATTTGCAGAGGGCGCTTTGGCATTGGCAGCGGTCCAAGTTCCTTGGAACAGGACGTCACAGAGGGTGAGAATCCCGTACGTGGTCGCTAGCCTTTACCGTGTAAAGCCCCTTCGACGAGTCGAGTTGTTTGGGAATGCAGCTCTAAATGGGAGGTAAATTTCTTCTAAAGCTAAATACTGGCCAGAGACCGATAGCGCACAAGTAGAGTGATCGAAAGATGAAAAGCACTTTGGAAAGAGAGTTAAAAAGCACGTGAAATTGTTGAAAGGGAAGCGCTTGCAGCCAGACTTGCCTGTAGTTGCTCATCCGGGTTTCTACCCGGTGCACTCTTCTATAGGCAGGCCAGCATCAGTTTGGGCGGTTGGATAAAGGTCTCTGTCATGTACCTCTCTTCGGGGAGAACTTATAGGGGAGACGACATGCAACCAGCCTGGACTGAGGTCCGCGCATCTGCTAGGATGCTGGCGTAATGGCTGTAAGCGGCCCGTCTTGAAACACGGA"
       ]
      },
      {
       "output_type": "stream",
       "stream": "stdout",
       "text": [
        "\n",
        "GCATATCAATAAGCGGAGGAAAAGAAACCAACAGGGATTGCCCTAGTAACGGCGAGTGAAGCGGCAACAGCTCAAATTTGAAATCTGGCCCTTTCAGGGTCCGAGTTGTAATTTGCAGAGGGCGCTTTGGCGTTGGCAGCGGTCTAAGTTCTTTGGAACAGGACGTCACAGAGGGTGAGAATCCCGTACGTGGTCGCTAGCCTTTGCCGTGTAAAGCCCCTTCGACGAGTCGAGTTGTTTGGGAATGCAGCTCTAAATGGGAGGTAAATTTCTTCTAAAGCTAAATACTGGCCAGAGACCGATAGCGCACAAGTAGAGTGATCGAAAGATGAAAAGCACTTTGGAAAGAGAGTCAAATAGCACGTGAAATTGTTGAAAGGGAAGCGCTTGCAGCCAGACTTGCCTGTAGTTGCTTATCCGGACTTTTGTCCGGTGCACTCTTCTGCGGGCAGGCCAGCATCAGTTTGGGCGGTTGGATAAAGGTCTCTGTCATGTACCTCTCTTCGGGGAGGCCTTATAGGGGAGACGTCATGCAACCAGCCTGGACTGAGGTCCGCGCATCTGCTATGATGCTGGCGTAATGGCTGTAAGCGGCCCGTCTTGAAACACGGACCA"
       ]
      },
      {
       "output_type": "stream",
       "stream": "stdout",
       "text": [
        "\n",
        "GGAGGAAAAGAAACCAACAGGGATTGCCCTAGTAACGGCGAGTGAAGCGGCAACAGCTCAAATTTGAAATCTGGCCCTTTCAGGGTCCGAGTTGTAATTTGCAGAGGGCGCTTTGGCGTTGGCAGCGGTCTAAGTTCTTTGGAACAGGACGTCACAGAGGGTGAGAATCCCGTACGTGGTCGCTAGCCTTTGCCGTGTAAAGCCCCTTCGACGAGTCGAGTTGTTTGGGAATGCAGCTCTAAATGGGAGGTAAATTTCTTCTAAAGCTAAATACTGGCCAGAGACCGATAGCGCACAAGTAGAGTGATCGAAAGATGAAAAGCACTTTGGAAAGAGAGTCAAATAGCACGTGAAATTGTTGAAAGGGAAGCGCTTGCAGCCAGACTTGCCTGTAGTTGCTTATCCGGACTTTTGTCCGGTGCACTCTTCTGCGGGCAGGCCAGCATCAGTTTGGGCGGTTGGATAAAGGTCTCTGTCATGTACCTCTCTTCGGGGAGGCCTTATAGGGGAGACGTCATGCAACCAGCCTGGACTGAGGTCCGCGCATCTGCTAGGATGCTGGCGTAATGGCTGTAAGCGGCCCGTCTT"
       ]
      },
      {
       "output_type": "stream",
       "stream": "stdout",
       "text": [
        "\n",
        "TTTTTGCATATCAAAAAGCGGAGGAAAAGAAACCAACAGGGATTGCCCTAGTAACGGCGAGTGAAGCGGCAACAGCTCAAATTTGAAATCTGGCTCTCGGGCCCGAGTTGTAATTTGTAGAGGATACTTTTGATGCGGTGCCTTCCGAGTTCCCTGGAACGGGACGCCATAGAGGGTGAGAGCCCCGTCTGGTTGGATGCCAAATCTCTGTAAAGTTCCTTCAACGAGTCGAGTAGTTTGGGAATGCTGCTCTAAATGGGAGGTATATGTCTTCTAAAGCTAAATACCGGCCAGAGACCGATAGCGCACAAGTAGAGTGATCGAAAGATGAAAAGCACTTTGAAAAGAGAGTTAAAAAGTACGTGAAATTGTTGAAAGGGAAGCGTTTATGACCAGACTTGGGCTTGGTTAATCATCTGGGGTTCTCCCCAGTGCACTTTTCCAGTCCAGGCCAGCATCAGTTTTCCCCGGGGGATAAAGGCGGCGGGAATGTGGCTCTCTTCGGGGAGTGTTATAGCCCACCGTGTAATACCCTGGGGGGGACTGAGGTTCGCGCATCTGCAAGGATGCTGGCGTAATGGTCATCAACGACCCGTCTTGAAACACGG"
       ]
      },
      {
       "output_type": "stream",
       "stream": "stdout",
       "text": [
        "\n",
        "TGCATATCAATAAGCGGAGGAAAAGAAACCAACAGGGATTGCCTTAGTAACGGCGAGTGAAGCGGCAAAAGCTCAATTTGAAATCGCTTCGGCGAGTTGTAAGTAAAGTGGTTAGACGCTTTTTAATAAGTCCCTTGGAACAGGGCGCCATAGAGGGTGATAGCCCCGTATTAAATTGTCTAGTGTGCTACTTTAGAGCGAGTCGAGTTGTTTGGGAATGCAGCTCAAATAGGTGGTAAACTCCATCTAAAGCTAAATATTGCTGGGAGACCGATAGCGAACAAGTACAGTGATGGAAAGATGAAAAGCACTTTGAAAAGAGAGTGAAATAGCGTGTGAAATTGTTGGAGGGGAAGGCGATGGTAGGAATAAGAGGCTGCGGTTTGAAATAAATGTTTTTCGGGCCACGGTCTCCTGAGCCTGCTTTCGCACCCGTCTTGAAACACGGA"
       ]
      },
      {
       "output_type": "stream",
       "stream": "stdout",
       "text": [
        "\n",
        "CGGAGGAAAAGAAACCAACAGGGATTGCCTTAGTAACGGCGAGTGAAGCGGCAAAAGCTCAATTTGAAATCGCTTCGGCGAGTTGTAAGTAAAGTGGTTAGACGCTTTTTAATAAGTCCCTTGGAACAGGGCGCCATAGAGGGTGATAGCCCCGTATTAAATTGTCTAGTGTGCTACTTTAGAGCGAGTCGAGTTGTTTGGGAATGCAGCTCAAATAGGTGGTAAACTCCATCTAAAGCTAAATATTGCTGGGAGACCGATAGCGAACAAGTACAGTGATGGAAAGATGAAAAGCACTTTGAAAAGAGAGTGAAATAGCGTGTGAAATTGTTGGAGGGGAAGGCGATGGTAGGAATAAGAGGCTGCGGTTTGAAATAAATGTTTTTCGGGCCACGGTCTCCTGAGCCTGCTTTCGCACCCGTCTTGANNCACGG"
       ]
      },
      {
       "output_type": "stream",
       "stream": "stdout",
       "text": [
        "\n",
        "GGAGGAAAAGAAACCAACAGGGATTGCCTTAGTAACGGCGAGTGAAGCGGCAAAAGCTCAATTTGAAATCGCTTTGGCGAGTTGTAAGTAAAGTGGTTAGACGCTTTTTAATAAGTCCCTTGGAACAGGGCGCCATAGAGGGTGATAGCCCCGTATTAAATTGTCTAGTGTGCTACTTTAGAGCGAGTCGAGTTGTTTGGGAATGCAGCTCAAATAGGTGGTAAACTCCATCTAAAGCTAAATATTGCTGGGAGACCGATAGCGAACAAGTACAGTGATGGAAAGATGAAAAGCACTTTGAAAAGAGAGTGAAATAGCGTGTGAAATTGTTGGAGGGGAAGGCGATGGTAGGAATAAGAGGCTGCGGTTTGAAATAAATGTTTTTCGGGCCACGGTCTCCTGAGCCTGCTTTCGCACCCGTCTTGAAACACGGACC"
       ]
      },
      {
       "output_type": "stream",
       "stream": "stdout",
       "text": [
        "\n",
        "AGGAAAAGAAACCAACAGGGATTGCCCTAGTAACGGCGAGTGAAGCGGCAACAGCTCAAATTTGAAATCTGGCTCTCGGGCCCGAGTTGTAATTTGTAGAGGATGCTTTTGATGCGGTGCCTTCCGAGTTCCCTGGAACGGGACGCCATAGAGGGTGAGAGCCCCGTCTGGTTGGATGCCAAATCTCTGTAAAGCTCCTTCGACGAGTCGAGTAGTTTGGGAATGCTGCTCTAAATGGGAGGTATATGTCTTCTAAAGCTAAATACCGGCCAGAGACCGATAGCGCACAAGTAGAGTGATCGAAAGATGAAAAGCACTTTGAAAAGAGAGTTAAAAAGTACGTGAAATTGTTGAAAGGGAAGCGTTTATGACCAGACTTGGGCTTGGTTAATCATCTGGGGTTCTCCCCAGTGCACTTTTCCAGTCCAGGCCAGCATCAGTTTTCGCCGGGGGATAAAGGCTTCGGGAATGTGGCTCTCTCCGGGGAGTGTTATAGCCCGTTGCGTAATACCCTGGCGGGGACTGAGGTTCGCGCATCTGCAAGGATGCTGGCGTAATGGTCATCAACGACCCGT"
       ]
      },
      {
       "output_type": "stream",
       "stream": "stdout",
       "text": [
        "\n",
        "AGGAAAAGAAACCAACAGGGATTGCCCTAGTAACGGCGAGTGAAGCGGCAACAGCTCAAATTTGAAATCTGGCTCTCGGGCCCGAGTTGTAATTTGTAGAGGATGCTTTTGATGCGGTGCCTTCCGAGTTCCCTGGAACGGGACGCCATAGAGGGTGAGAGCCCCGTCTGGTTGGATGCCAAATCTCTGTAAAGCTCCTTCGACGAGTCGAGTAGTTTGGGAATGCTGCTCTAAATGGGAGGTATATGTCTTCTAAAGCTAAATACCGGCCAGAGACCGATAGCGCACAAGTAGAGTGATCGAAAGATGAAAAGCACTTTGAAAAGAGAGTTAAAAAGTACGTGAAATTGTTGAAAGGGAAGCGTTTATGACCAGACTTGGGCTTGGTTAATCATCTGGGGTTCTCCCCAGTGCACTTTTCCAGTCCAGGCCAGCATCAGTTTTCGCCGGGGGATAAAGGCTTCGGGAATGTGGCTCTCTCCGGGGAGTGTTATAGCCCGTTGCGTAATACCCTGGCGGGGACTGAGGTTCGCGCATCTGCAAGGATGCTGGCGTAATGGTCATCAACGACCCGTCTTGANNNNNNNGGACNA"
       ]
      },
      {
       "output_type": "stream",
       "stream": "stdout",
       "text": [
        "\n",
        "CATATCAATAAGCGGAGGAAAAGAAACCAACAGGGATTGCCTCAGTAGCGGCGAGTGAAGCGGCAAGAGCTCAGATTTGAAATCGCAGCACCATGCTGCGAGTTGTAGATTGCAGGTGGGAGAGTCTGCGTAGGCCGGTGTCGAAGTCCCTTGGAACAGGGCGCCACTGAGGGTGAGAGCCCCGTGCGATGCCACGCTCTACGTTTTGTACTCCCCTCTGACGAGTCGAGTTGTTTGGGAATGCAGCTCTAAGTGGGTGGTAAATTCCATCTAAGGCTAAATACTGGCGAGAGACCGATAGCGAACAAGTACTGTGAAGGAAAGATGAAAAGCACTTTGAAAAGAGAGTGAAACAGCACGTGAAATTGTTGAAAGGGAAGGGTATTGGGCCCGACATGGGAATCGCGCACCGCTGCTCCTTGTGGGCGGCGCTCTGGGCTTTTCCTGGGCCAGCATCGGTTCTTGCTGCAGGAGAAGGGGCTGTGGAATGTGGCTGCCGCGCTTTGCCGGGGCAGTGTTATAGCCACTGGGCCAGATGCTGCGTGTGGGGACCGAGGACTGCGGCCGCAAGGCCTCGGATGCTGGCACAACGGGGAATACCGCCCGCCTTGAAACACGGAACAAAA"
       ]
      },
      {
       "output_type": "stream",
       "stream": "stdout",
       "text": [
        "\n",
        "GGAAAAGAAACCAACAGGGATTGCCTCAGTAGCGGCGAGTGAAGCGGCAAGAGCTCAGATTTGAAATCGCAGCACCATGCTGCGAGTTGTAGATTGCAGGTGGGAGAGTCTGCGTAGGCCGGTGTCGAAGTCCCTTGGAACAGGGCGCCACTGAGGGTGAGAGCCCCGTGCGATGCCACGCTCTACGTTTTGTACTCCCCTCTGACGAGTCGAGTTGTTTGGGAATGCAGCTCTAAGTGGGTGGTAAATTCCATCTAAGGCTAAATACTGGCGAGAGACCGATAGCGAACAAGTACTGTGAAGGAAAGATGAAAAGCACTTTGAAAAGAGAGTGAAACAGCACGTGAAATTGTTGAAAGGGAAGGGTATTGGGCCCGACATGGGAATCGCGCACCGCTGCTCCTTGTGGGCGGCGCTCTGGGCTTTTCCTGGGCCAGCATCGGTTCTTGCTGCAGGAGAAGGGGCTGTGGAATGTGGCTGCCGCGCTTTGCCGGGGCAGTGTTATAGCCACTGGGCCAGATGCTGCGTGTGGGGACCGAGGACTGCGGCCGCAAGGTCTCGNATGCTGGCACAACGGCNCAATACCGCCCGT"
       ]
      },
      {
       "output_type": "stream",
       "stream": "stdout",
       "text": [
        "\n",
        "AGGAAAAGAAACCAACAGGGATTGCCTCAGTAGCGGCGAGTGAAGCGGCAAGAGCTCAGATTTGAAATCGCAGCACCATGCTGCGAGTTGTAGATTGCAGGTGGGAGAGTCTGCGTAGGCCGGTGTCGAAGTCCCTTGGAACAGGGCGCCACTGAGGGTGAGAGCCCCGTGCGATGCCACGCTCTACGTTTTGTACTCCCCTCTGACGAGTCGAGTTGTTTGGGAATGCAGCTCTAAGTGGGTGGTAAATTCCATCTAAGGCTAAATACTGGCGAGAGACCGATAGCGAACAAGTACTGTGAAGGAAAGATGAAAAGCACTTTGAAAAGAGAGTGAAACAGCACGTGAAATTGTTGAAAGGGAAGGGTATTGGGCCCGACATGGGAATCGCGCACCGCTGCTCCTTGTGGGCGGCGCTCTGGGCTTTTCCTGGGCCAGCATCGGTTCTTGCTGCAGGAGAAGGGGCTGTGGAATGTGGCTGCCGCGCTTTGCCGGGGCAGTGTTATAGCCACTGGGCCAGATGCTGCGTGTGGGGACCGAGGACTGCGGCCGCAAGGTCTCGGATGCTGGCACAACGGCGCAATACCGCCCGTC"
       ]
      },
      {
       "output_type": "stream",
       "stream": "stdout",
       "text": [
        "\n",
        "GGAGGAAAAGAAACCAACAGGGATTGCCTCAGTAGCGGCGAGTGAAGCGGCAAGAGCTCAGATTTGAAATCGCAGCACCATGCTGCGAGTTGTAGATTGCAGGTGGGAGAGTCTGCGTAGGCCGGTGTCGAAGTCCCTTGGAACAGGGCGCCACTGAGGGTGAGAGCCCCGTGCGATGCCACGCTCTACGTTTTGTACTCCCCTCTGACGAGTCGAGTTGTTTGGGAATGCAGCTCTAAGTGGGTGGTAAATTCCATCTAAGGCTAAATACTGGCGAGAGACCGATAGCGAACAAGTACTGTGAAGGAAAGATGAAAAGCACTTTGAAAAGAGAGTGAAACAGCACGTGAAATTGTTGAAAGGGAAGGGTATTGGGCCCGACATGGGAATCGCGCACCGCTGCTCCTTGTGGGCGGCGCTCTGGGCTTTTCCTGGGCCAGCATCGGTTCTTGCTGCAGGAGAAGGGGCTGTGGAATGTGGCTGCCGCGCTTTGCCGGGGCAGTGTTATAGCCACTGGGCCAGATGCTGCGTGTGGGGACCGAGGACTGCGGCCGCAAGGTCTCGGATGCTGGCACAACGGCGCAATACCGCCC"
       ]
      },
      {
       "output_type": "stream",
       "stream": "stdout",
       "text": [
        "\n",
        "TTTTTTTCATATCAAATAAGCGGAGGAAAAGAAACCAACAGGGATTGCCTTAGTAACGGCGAGTGAAGCGGCAAAAGCTCAAATTTGAAATCGGCTAACAAGTCGAGTTGTAATTTGAAGATTTTATCCTGAGAAATTAACTTAAGTCTGTTGGAAAACAGCGCCATTGAGGGTGACAGCCCCGTTTGTTTCTTCTCACTGTAGGATAATTTCGAAGAGTCGAGTTGTTTGGGAATGCAGCTCTAAGTGGGAGGTAAATTCCTTCTAAAGCTAAATATTGGCGAGAGACCGATAGCGAACAAGTACTGTGAAGGAAAGATGAAAAGCACTTTGAAAAGAGAGTGAAAAAGTACGTGAAATTGTTAAAAGGGAAGGGTACTGTATTAGACATGGTCTTTGTTGCTCAATTCTATTTCGGTAGGATGTATTCAGCACTGACTGGGCCAAAATGGGATTTGTTGGAGTGAAAAAGCTTTAGAAATGTGGCTCTTTTTTTTTTAAGAGTGTTATAGTCTTTAGTAATGACTCCTAACTTGTCTCAGGACTGCGCTTCGGCTAGGATTTTGGCGTAATGATACAGTACCGCCCGTCTTGAAACACGGACCCAAAAAAA"
       ]
      },
      {
       "output_type": "stream",
       "stream": "stdout",
       "text": [
        "\n",
        "TTTTTTTCATATCAAATAAGCGGAGGAAAAGAAACCAACAGGGATTGCCTTAGTAACGGCGAGTGAAGCGGCAAAAGCTCAAATTTGAAATCGGCTAACAAGTCGAGTTGTAATTTGAAGATTTTATCCTGAGAAATTAACTTAAGTCTGTTGGAAAACAGCGCCATTGAGGGTGACAGCCCCGTTTGTTTCTTCTCACTGTAGGATAATTTCGAAGAGTCGAGTTGTTTGGGAATGCAGCTCTAAGTGGGAGGTAAATTCCTTCTAAAGCTAAATATTGGCGAGAGACCGATAGCGAACAAGTACTGTGAAGGAAAGATGAAAAGCACTTTGAAAAGAGAGTGAAAAAGTACGTGAAATTGTTAAAAGGGAAGGGTACTGTATTAGACATGGTCTTTGTTGCTCAATTCTATTTCGGTAGGATGTATTCAGCACTGACTGGGCCAAAATGGGATTTGTTGGAGTGAAAAAGCTTTAGAAATGTGGCTCTTTTTTTTTTAAGAGTGTTATAGTCTTTAGTAATGACTCCTAACTTGTCTCAGGACTGCGCTTCGGCTAGGATTTTGGCGTAATGATACAGTACCGCCCGTCTTGAAACACGGACCCAAAAAAA"
       ]
      },
      {
       "output_type": "stream",
       "stream": "stdout",
       "text": [
        "\n",
        "TAGTACGGCGAGTGAAGCGGCAAAAGCTCAAATTTGAAATCGGCTAACAAGTCGAGTTGTAATTTGAAGATTTTATCCTGAGAAATTAACTTAAGTCTGTTGGAAAACAGCGCCATTGAGGGTGACAGCCCCGTTTGTTTCTTCTCATTGTAGGATAATTTCGAAGAGTCGAGTTGTTTGGGAATGCAGCTCTAAGTGGGAGGTAAATTCCTTCTAAAGCTAAATATTGGCGAGAGACCGATAGCGAACAAGTACTGTGAAGGAAAGATGAAAAGCACTTTGAAAAGAGAGTGAAAAAGTACGTGAAATTGTTAAAAGGGAAGGGTACTGTATTAGACATGGTCTTTGTTGCTCAATTCTATTTCGGTAGGATGTATTCAGCATTGACTGGGCCAAAATGGGATTTGTTGGAGTGAAAAAGCTTTAGAAATGTGGCTCTTTTTTTTAAGAGTGTTATAGTCTTTAGTAATGACTCCTAACTTGTCTCAGGACTGCGCTTCGGCTAGGATTTTGGCGTAATGATACAGTACCGCCCGTCTT"
       ]
      },
      {
       "output_type": "stream",
       "stream": "stdout",
       "text": [
        "\n",
        "GGAAAAGAAACCAACAGGGATTGCCTTAGTAACGGCGAGTGAAGCGGCAAAAGCTCAAATTTGAAATCGGCTAACAAGTCGAGTTGTAATTTGAAGATTTTATCCTGAGAAATTAACTTAAGTCTGTTGGAAAACAGCGCCATTGAGGGTGACAGCCCCGTTTGTTTCTTCTCATTGTAGGATAATTTCGAAGAGTCGAGTTGTTTGGGAATGCAGCTCTAAGTGGGAGGTAAATTCCTTCTAAAGCTAAATATTGGCGAGAGACCGATAGCGAACAAGTACTGTGAAGGAAAGATGAAAAGCACTTTGAAAAGAGAGTGAAAAAGTACGTGAAATTGTTAAAAGGGAAGGGTACTGTATTAGACATGGTCTTTGTTGCTCAATTCTATTTCGGTAGGATGTATTCAGCATTGACTGGGCCAAAATGGGATTTGTTGGAGTGAAAAAGCTTTAGAAATGTGGCTCTTTTTTTTAAGAGTGTTATAGTCTTTAGTAATGACTCCTAACTTGTCTCAGGACTGCGCTTCGGCTAGGATTTTGGCGTAATGATACAGTACCGCCCGT"
       ]
      },
      {
       "output_type": "stream",
       "stream": "stdout",
       "text": [
        "\n",
        "GGAGGAAAAGAAACCAACAGGGATTGCCTTAGTAACGGCGAGTGAAGCGGCAAAAGCTCAAATTTGAAATCGGCTAACAAGTCGAGTTGTAATTTGAAGATTTTATCCTGAGAAATTAACTTAAGTCTGTTGGAAAACAGCGCCATTGAGGGTGACAGCCCCGTTTGTTTCTTCTCATTGTAGGATAATTTCGAAGAGTCGAGTTGTTTGGGAATGCAGCTCTAAGTGGGAGGTAAATTCCTTCTAAAGCTAAATATTGGCGAGAGACCGATAGCGAACAAGTACTGTGAAGGAAAGATGAAAAGCACTTTGAAAAGAGAGTGAAAAAGTACGTGAAATTGTTAAAAGGGAAGGGTACTGTATTAGACATGGTCTTTGTTGCTCAATTCTATTTCGGTAGGATGTATTCAGCACTGACTGGGCCAAAATGGGATTTGTTGGAGTGAAAAAGCTTTAGAAATGTGGCTCTTTTTTTTTAAGAGTGTTATAGTCTTTAGTAATGACTCCTAACTTGTCTCAGGACTGCGCTTCGGCTAGGATTTTGGCGTAATGATACAGTACCGCCCGT"
       ]
      },
      {
       "output_type": "stream",
       "stream": "stdout",
       "text": [
        "\n",
        "GCATATCAAATAAGCGGAGGAAAAGAAACTAACAAGGATTCCCCTAGTAACGGCGAGTGAACCGGGAAGAGCTCAAATTTGAAATCTGGCGTGCTCAGTGCGTCCGAGTTGTAATCTATAGAGGCGTTTTCCGTGCCGGACTGTGTCTAAGTCCCTTGGAACAGGGTATCAAAGAGGGTGATAATCCCGTACTTGACACAATGACCGGTGCTCTGTGATACGTCTTCTACGAGTCGAGTTGTTTGGGAATGCAGCTCAAAATGGGTGGTGAGTTCCATCTAAAGCTAAATATTGGCGAGAGACCGATAGCGAACAAGTACCGTGAGGGAAAGATGAAAAGCACTTTGGAAAGAGAGTTAAACAGTACGTGAAATTGTTGAAAGGGAAACGATTGAAGTCAGTCGTGACTGAGAGGCTCAGCCGGTTCTGCCGGTGTATTCCCCTCAGTCGGGTCAACATCAGTTTTGTTCGGTGGATAAGGGCAGCTGGAAGGTGGCACCTCCGGGTGTGTTATAGCCAGCTGTCGCATACATCGAATGAGACTGAGGAATGCAGCTCGCCTTTATGGCCGGGGTTCGCCCACGTCCGAGCTTAGGATGTTGACATAATGGCTTTAAACGACCCGTCTTGAAAACACG"
       ]
      },
      {
       "output_type": "stream",
       "stream": "stdout",
       "text": [
        "\n",
        "GGAAAAGAAACTAACAAGGATTCCCCTAGTAACGGCGAGTGAACCGGGAAGAGCTCAAATTTGAAATCTGGCGTGCTCAGTGCGTCCGAGTTGTAATCTATAGAGGCGTTTTCCGTGCCGGACTGTGTCTAAGTCCCTTGGAACAGGGTATCAAAGAGGGTGATAATCCCGTACTTGACACAATGACCGGTGCTCTGTGATACGTCTTCTACGAGTCGAGTTGTTTGGGAATGCAGCTCAAAATGGGTGGTGAGTTCCATCTAAAGCTAAATATTGGCGAGAGACCGATAGCGAACAAGTACCGTGAGGGAAAGATGAAAAGCACTTTGGAAAGAGAGTTAAACAGTACGTGAAATTGTTGAAAGGGAAACGATTGAAGTCAGTCGTGACTGAGAGGCTCAGCCGGTTCTGCCGGTGTATTCCCCTCAGTCGGGTCAACATCAGTTTTGTTCGGTGGATAAGGGCAGCTGGAAGGTGGCACCTCCGGGTGTGTTATAGCCAGCTGTCGCATACATCGAATGAGACTGAGGAATGCAGCTCGCCTTTATGGCCGGGGTTCGCCCACGTCCGAGCTTAGGATGTTGACATAATGGCTTTAAACGACCCGT"
       ]
      },
      {
       "output_type": "stream",
       "stream": "stdout",
       "text": [
        "\n",
        "AGGAAAAGAAACCAACAGGGATTGCCCTAGTAACGGCGAGTGAAGCGGCAACAGCTCAAATTTGAAATCTGGCTCTCGGGCCCGAGTTGTAATTTGTAGAGGATGCTTTTGGTGAGGTGCCTTCCGAGTTCCCTGGAACGGGACGCCATAGAGGGTGAGAGCCCCGTCTGGTTGGACACCGAGCCTCTGTAAAGCTCCTTCGACGAGTCGAGTAGTTTGGGAATGCTGCTCTAAATGGGAGGTATATGTCTTCTAAAGCTAAATATTGGCCAGAGACCGATAGCGCACAAGTAGAGTGATCGAAAGATGAAAAGCACTTTGAAAAGAGAGTTAAAAAGCACGTGAAATTGTTGAAAGGGAAGCGCTTGTGACCAGACTTGGGCTTGGTTAATCATCCGGCGTTCTCGCCGGTGCACTTTTCCAGTCCAGGCCAGCATCAGTTTGCCTTGGGGGATAAAAGCTTCGGGAATGTGGCTCCTCCGGGAGTGTTATAGCCCGTTGCACAATACCCTGGGGCGGACTGAGGTTCGCGCATTCGCAAGGATGCTGGCGTAATGGTCATCAGCGACCCGTCT"
       ]
      },
      {
       "output_type": "stream",
       "stream": "stdout",
       "text": [
        "\n",
        "GGAGGAAAAGAAACCAACAGGGATTGCCCTAGTAACGGCGAGTGAAGCGGCAACAGCTCAAATTTGAAATCTGGCTCTCGGGCCCGAGTTGTAATTTGTAGAGGATGCTTTTGGTGAGGTGCCTTCCGAGTTCCCTGGAACGGGACGCCATAGAGGGTGAGAGCCCCGTCTGGTTGGACACCGAGCCTCTGTAAAGCTCCTTCGACGAGTCGAGTAGTTTGGGAATGCTGCTCTAAATGGGAGGTATATGTCTTCTAAAGCTAAATATTGGCCAGAGACCGATAGCGCACAAGTAGAGTGATCGAAAGATGAAAAGCACTTTGAAAAGAGAGTTAAAAAGCACGTGAAATTGTTGAAAGGGAAGCGCTTGTGACCAGACTTGGGCTTGGTTAATCATCCGGCGTTCTCGCCGGTGCACTTTTCCAGTCCAGGCCAGCATCAGTTTGCCTTGGGGGATAAAAGCTTCGGGAATGTGGCTCCTCCGGGAGTGTTATAGCCCGTTGCACAATACCCTGGGGCGGACTGAGGTTCGCGCATTCGCAAGGATGCTGGCGTAATGGTCATCAGCGACC"
       ]
      },
      {
       "output_type": "stream",
       "stream": "stdout",
       "text": [
        "\n",
        "GAAAAGAAACCAACAGGGATTGCCCTAGTAACGGCGAGTGAAGCGGCAACAGCTCAAATTTGAAATCTGGCTCTCGGGCCCGAGTTGTAATTTGTAGAGGATGCTTTTGGTGAGGTGCCTTCCGAGTTCCCTGGAACGGGACGCCATAGAGGGTGAGAGCCCCGTCTGGTTGGACACCGAGCCTCTGTAAAGCTCCTTCGACGAGTCGAGTAGTTTGGGAATGCTGCTCTAAATGGGAGGTATATGTCTTCTAAAGCTAAATATTGGCCAGAGACCGATAGCGCACAAGTAGAGTGATCGAAAGATGAAAAGCACTTTGAAAAGAGAGTTAAAAAGCACGTGAAATTGTTGAAAGGGAAGCGCTTGTGACCAGACTTGGGCTTGGTTAATCATCCGGCGTTCTCGCCGGTGCACTTTTCCAGTCCAGGCCAGCATCAGTTTGCCTTGGGGGATAAAAGCTTCGGGAATGTGGCTCCTCCGGGAGTGTTATAGCCCGTTGCACAATACCCTGGGGCGGACTGAGGTTCGCGCATTCGCAAGGATGCTGGCGTAATGGTCATCANCGACCCGT"
       ]
      },
      {
       "output_type": "stream",
       "stream": "stdout",
       "text": [
        "\n"
       ]
      },
      {
       "ename": "AttributeError",
       "evalue": "'NoneType' object has no attribute 'contents'",
       "output_type": "pyerr",
       "traceback": [
        "\u001b[1;31m---------------------------------------------------------------------------\u001b[0m\n\u001b[1;31mAttributeError\u001b[0m                            Traceback (most recent call last)",
        "\u001b[1;32m<ipython-input-34-071f1c7ec57b>\u001b[0m in \u001b[0;36m<module>\u001b[1;34m()\u001b[0m\n\u001b[0;32m     12\u001b[0m     \u001b[0msoup\u001b[0m \u001b[1;33m=\u001b[0m \u001b[0mbs4\u001b[0m\u001b[1;33m.\u001b[0m\u001b[0mBeautifulSoup\u001b[0m\u001b[1;33m(\u001b[0m\u001b[0mrec\u001b[0m\u001b[1;33m,\u001b[0m \u001b[1;34m'xml'\u001b[0m\u001b[1;33m)\u001b[0m\u001b[1;33m\u001b[0m\u001b[0m\n\u001b[0;32m     13\u001b[0m     \u001b[1;31m#print(soup.find_all('GBSeq_sequence').contents)\u001b[0m\u001b[1;33m\u001b[0m\u001b[1;33m\u001b[0m\u001b[0m\n\u001b[1;32m---> 14\u001b[1;33m     \u001b[1;32mprint\u001b[0m \u001b[1;33m(\u001b[0m\u001b[0msoup\u001b[0m\u001b[1;33m.\u001b[0m\u001b[0mGBSeq_sequence\u001b[0m\u001b[1;33m.\u001b[0m\u001b[0mcontents\u001b[0m\u001b[1;33m[\u001b[0m\u001b[1;36m0\u001b[0m\u001b[1;33m]\u001b[0m\u001b[1;33m.\u001b[0m\u001b[0mupper\u001b[0m\u001b[1;33m(\u001b[0m\u001b[1;33m)\u001b[0m\u001b[1;33m)\u001b[0m\u001b[1;33m\u001b[0m\u001b[0m\n\u001b[0m",
        "\u001b[1;31mAttributeError\u001b[0m: 'NoneType' object has no attribute 'contents'"
       ]
      }
     ],
     "prompt_number": 34
    },
    {
     "cell_type": "code",
     "collapsed": false,
     "input": [
      "hsearch = Entrez.esearch(db='pubmed', term='Cypripedioideae')\n",
      "\n",
      "record = Entrez.read(hsearch)\n",
      "\n",
      "record"
     ],
     "language": "python",
     "metadata": {},
     "outputs": [
      {
       "metadata": {},
       "output_type": "pyout",
       "prompt_number": 8,
       "text": [
        "{u'Count': '10', u'RetMax': '10', u'IdList': ['24001522', '22685605', '21718793', '21241312', '19168860', '21642160', '15120407', '21653371', '21680361', '21684950'], u'TranslationStack': [{u'Count': '10', u'Field': 'All Fields', u'Term': 'Cypripedioideae[All Fields]', u'Explode': 'N'}, 'GROUP'], u'TranslationSet': [], u'RetStart': '0', u'QueryTranslation': 'Cypripedioideae[All Fields]'}"
       ]
      }
     ],
     "prompt_number": 8
    },
    {
     "cell_type": "code",
     "collapsed": false,
     "input": [
      "for rec_id in record['IdList'][0:1]:\n",
      "    h = Entrez.efetch(db=\"nucleotide\", id=rec_id, rettype=\"gb\", retmode=\"xml\")\n",
      "    print(h.read())"
     ],
     "language": "python",
     "metadata": {},
     "outputs": [
      {
       "output_type": "stream",
       "stream": "stdout",
       "text": [
        "<?xml version=\"1.0\"?>\n",
        " <!DOCTYPE GBSet PUBLIC \"-//NCBI//NCBI GBSeq/EN\" \"http://www.ncbi.nlm.nih.gov/dtd/NCBI_GBSeq.dtd\">\n",
        " <GBSet>\n",
        "<GBSeq>\n",
        "  <GBSeq_locus>BZ277537</GBSeq_locus>\n",
        "  <GBSeq_length>732</GBSeq_length>\n",
        "  <GBSeq_strandedness>double</GBSeq_strandedness>\n",
        "  <GBSeq_moltype>DNA</GBSeq_moltype>\n",
        "  <GBSeq_topology>linear</GBSeq_topology>\n",
        "  <GBSeq_division>GSS</GBSeq_division>\n",
        "  <GBSeq_update-date>15-OCT-2002</GBSeq_update-date>\n",
        "  <GBSeq_create-date>15-OCT-2002</GBSeq_create-date>\n",
        "  <GBSeq_definition>CH230-392F5.TJ CHORI-230 Segment 2 Rattus norvegicus genomic clone CH230-392F5, genomic survey sequence</GBSeq_definition>\n",
        "  <GBSeq_primary-accession>BZ277537</GBSeq_primary-accession>\n",
        "  <GBSeq_accession-version>BZ277537.1</GBSeq_accession-version>\n",
        "  <GBSeq_other-seqids>\n",
        "    <GBSeqid>gnl|dbGSS|4084010</GBSeqid>\n",
        "    <GBSeqid>gb|BZ277537.1|</GBSeqid>\n",
        "    <GBSeqid>gi|24001522</GBSeqid>\n",
        "  </GBSeq_other-seqids>\n",
        "  <GBSeq_keywords>\n",
        "    <GBKeyword>GSS</GBKeyword>\n",
        "  </GBSeq_keywords>\n",
        "  <GBSeq_source>Rattus norvegicus (Norway rat)</GBSeq_source>\n",
        "  <GBSeq_organism>Rattus norvegicus</GBSeq_organism>\n",
        "  <GBSeq_taxonomy>Eukaryota; Metazoa; Chordata; Craniata; Vertebrata; Euteleostomi; Mammalia; Eutheria; Euarchontoglires; Glires; Rodentia; Sciurognathi; Muroidea; Muridae; Murinae; Rattus</GBSeq_taxonomy>\n",
        "  <GBSeq_references>\n",
        "    <GBReference>\n",
        "      <GBReference_reference>1</GBReference_reference>\n",
        "      <GBReference_position>1..732</GBReference_position>\n",
        "      <GBReference_authors>\n",
        "        <GBAuthor>Zhao,S.</GBAuthor>\n",
        "        <GBAuthor>Shetty,J.</GBAuthor>\n",
        "        <GBAuthor>Shatsman,S.</GBAuthor>\n",
        "        <GBAuthor>Tsegaye,G.</GBAuthor>\n",
        "        <GBAuthor>Geer,K.</GBAuthor>\n",
        "        <GBAuthor>Shvartsbeyn,A.</GBAuthor>\n",
        "        <GBAuthor>Gebregeorgis,E.</GBAuthor>\n",
        "        <GBAuthor>Overton,L.</GBAuthor>\n",
        "        <GBAuthor>Russell,D.</GBAuthor>\n",
        "        <GBAuthor>Chen,D.</GBAuthor>\n",
        "        <GBAuthor>Riggs,F.</GBAuthor>\n",
        "        <GBAuthor>de Jong,P.</GBAuthor>\n",
        "        <GBAuthor>Fraser,C.M.</GBAuthor>\n",
        "      </GBReference_authors>\n",
        "      <GBReference_title>Rat BAC End Sequences from Library CHORI-230 MboI segment</GBReference_title>\n",
        "      <GBReference_journal>Unpublished</GBReference_journal>\n",
        "    </GBReference>\n",
        "  </GBSeq_references>\n",
        "  <GBSeq_comment>Other_GSSs: CH230-392F5.TV~Contact: Shaying Zhao~Department of Eukaryotic Genomics~The Institute for Genomic Research~9712 Medical Center Dr., Rockville, MD 20850, USA~Tel: 301 838 0200~Fax: 301 838 0208~Email: szhao@tigr.org~Clones are derived from the rat BAC library CHORI-230 (http://www.chori.org/bacpac/rat230.htm). For BAC library availability, please contact Pieter de Jong (pdejong@mail.cho.org). Clones may be purchased from BACPAC Resources (http://www.chori.org/bacpac/or ering_information.htm). BAC end page: http://www.tigr.org/tdb/bac_ends/rat/bac_end_intro.html~Plate: 392 row: F column: 5~Seq primer: SP6~Class: BAC ends</GBSeq_comment>\n",
        "  <GBSeq_feature-table>\n",
        "    <GBFeature>\n",
        "      <GBFeature_key>source</GBFeature_key>\n",
        "      <GBFeature_location>1..732</GBFeature_location>\n",
        "      <GBFeature_intervals>\n",
        "        <GBInterval>\n",
        "          <GBInterval_from>1</GBInterval_from>\n",
        "          <GBInterval_to>732</GBInterval_to>\n",
        "          <GBInterval_accession>BZ277537.1</GBInterval_accession>\n",
        "        </GBInterval>\n",
        "      </GBFeature_intervals>\n",
        "      <GBFeature_quals>\n",
        "        <GBQualifier>\n",
        "          <GBQualifier_name>organism</GBQualifier_name>\n",
        "          <GBQualifier_value>Rattus norvegicus</GBQualifier_value>\n",
        "        </GBQualifier>\n",
        "        <GBQualifier>\n",
        "          <GBQualifier_name>mol_type</GBQualifier_name>\n",
        "          <GBQualifier_value>genomic DNA</GBQualifier_value>\n",
        "        </GBQualifier>\n",
        "        <GBQualifier>\n",
        "          <GBQualifier_name>strain</GBQualifier_name>\n",
        "          <GBQualifier_value>BN/SsNHsd/MCW</GBQualifier_value>\n",
        "        </GBQualifier>\n",
        "        <GBQualifier>\n",
        "          <GBQualifier_name>db_xref</GBQualifier_name>\n",
        "          <GBQualifier_value>taxon:10116</GBQualifier_value>\n",
        "        </GBQualifier>\n",
        "        <GBQualifier>\n",
        "          <GBQualifier_name>clone</GBQualifier_name>\n",
        "          <GBQualifier_value>CH230-392F5</GBQualifier_value>\n",
        "        </GBQualifier>\n",
        "        <GBQualifier>\n",
        "          <GBQualifier_name>sex</GBQualifier_name>\n",
        "          <GBQualifier_value>Female</GBQualifier_value>\n",
        "        </GBQualifier>\n",
        "        <GBQualifier>\n",
        "          <GBQualifier_name>cell_type</GBQualifier_name>\n",
        "          <GBQualifier_value>Brain</GBQualifier_value>\n",
        "        </GBQualifier>\n",
        "        <GBQualifier>\n",
        "          <GBQualifier_name>clone_lib</GBQualifier_name>\n",
        "          <GBQualifier_value>LIBGSS_003368 CHORI-230 Segment 2</GBQualifier_value>\n",
        "        </GBQualifier>\n",
        "        <GBQualifier>\n",
        "          <GBQualifier_name>note</GBQualifier_name>\n",
        "          <GBQualifier_value>Vector: pTARBAC1.3; Site_1: MboI; Site_2: MboI; CHORI-230 Rat (BN/SsNHsd/MCW) BAC library produced by Pieter de Jong</GBQualifier_value>\n",
        "        </GBQualifier>\n",
        "      </GBFeature_quals>\n",
        "    </GBFeature>\n",
        "  </GBSeq_feature-table>\n",
        "  <GBSeq_sequence>tccaacttagaaaaaactcaaacatgcacagtacaacttaacaatgagtttgctttatgtcattttgatatattttgactttgtgggccaaatttggaaaagaaccaacaaacaaggcaattacctttccaaaaaacacctttaccactatgcagtcattcttttgagcctttctgacagctaagactataatttgggtgggtctgaaagggatgatagagatagaaagttggttttggaaaccagagaaccataccctaaaaatatgactggctagagaaatttgtctaaggccagtaagccgcttgattccacttgtacaatcaccccaatgaggcctatgtgaacggatgagtttgtcaggaggaagaacaccttggtttacaggagctctatagaacgtgatttctagaatcctttctaagagacagaaggtcatactggcgtcctcactgtacctttacttagctcatttgcatacagaaccatctggtacttcagttctattctgagaaatgaataccaaggtcttacatgtcacatgaatgtaggtatgaaagactcttctacaaagagatactgtgcactatacaactgtgcccaactgcccacgacatccactgatccatcagaatgggcatttcttcttgggttttcatgcaggccatctagtcaatgaacttaaccaccaccggcgcaaccgtgagtagactttttctgtcaccccaattt</GBSeq_sequence>\n",
        "  <GBSeq_xrefs>\n",
        "    <GBXref>\n",
        "      <GBXref_dbname>BioSample</GBXref_dbname>\n",
        "      <GBXref_id>LIBGSS_003368</GBXref_id>\n",
        "    </GBXref>\n",
        "  </GBSeq_xrefs>\n",
        "</GBSeq>\n",
        "\n",
        "</GBSet>\n",
        "\n",
        "\n"
       ]
      }
     ],
     "prompt_number": 11
    },
    {
     "cell_type": "code",
     "collapsed": false,
     "input": [
      "print(record['sra'])"
     ],
     "language": "python",
     "metadata": {},
     "outputs": [
      {
       "ename": "KeyError",
       "evalue": "'sra'",
       "output_type": "pyerr",
       "traceback": [
        "\u001b[1;31m---------------------------------------------------------------------------\u001b[0m\n\u001b[1;31mKeyError\u001b[0m                                  Traceback (most recent call last)",
        "\u001b[1;32m<ipython-input-5-d37043a56955>\u001b[0m in \u001b[0;36m<module>\u001b[1;34m()\u001b[0m\n\u001b[1;32m----> 1\u001b[1;33m \u001b[1;32mprint\u001b[0m\u001b[1;33m(\u001b[0m\u001b[0mrecord\u001b[0m\u001b[1;33m[\u001b[0m\u001b[1;34m'sra'\u001b[0m\u001b[1;33m]\u001b[0m\u001b[1;33m)\u001b[0m\u001b[1;33m\u001b[0m\u001b[0m\n\u001b[0m",
        "\u001b[1;31mKeyError\u001b[0m: 'sra'"
       ]
      }
     ],
     "prompt_number": 5
    },
    {
     "cell_type": "code",
     "collapsed": false,
     "input": [],
     "language": "python",
     "metadata": {},
     "outputs": []
    }
   ],
   "metadata": {}
  }
 ]
}