{
 "cells": [
  {
   "cell_type": "code",
   "execution_count": 1,
   "metadata": {
    "collapsed": true
   },
   "outputs": [],
   "source": [
    "import numpy as np\n",
    "import matplotlib.pyplot as plt\n",
    "\n",
    "%matplotlib inline"
   ]
  },
  {
   "cell_type": "code",
   "execution_count": 209,
   "metadata": {
    "collapsed": false
   },
   "outputs": [
    {
     "name": "stdout",
     "output_type": "stream",
     "text": [
      "[[-0.5       -0.8660254]\n",
      " [ 0.8660254 -0.5      ]]\n"
     ]
    },
    {
     "data": {
      "text/plain": [
       "array([[ 5.10001217,  3.80883984],\n",
       "       [ 2.51215817,  2.54176546],\n",
       "       [ 2.97742202,  7.33203299],\n",
       "       [ 4.90784786,  4.00401863]])"
      ]
     },
     "execution_count": 209,
     "metadata": {},
     "output_type": "execute_result"
    }
   ],
   "source": [
    "d1 = np.array([[0,0], [0,3], [4,0], [0,0]])\n",
    "\n",
    "theta = np.pi * 2 / 3\n",
    "\n",
    "Rot = np.matrix([[np.cos(theta), -np.sin(theta)], [np.sin(theta), np.cos(theta)]])\n",
    "print(Rot)\n",
    "translation = np.matrix([[5, 4]])\n",
    "\n",
    "def Transform(p1, Rot, translation):\n",
    "    p2 = Rot * p1.T \n",
    "    p2 = p2.T + translation\n",
    "    return np.asarray(p2)\n",
    "    \n",
    "d2 = Transform(d1, Rot, translation) + \\\n",
    "    np.random.normal(0, 0.1, size=2*d1.shape[0]).reshape(d1.shape)\n",
    "\n",
    "d2"
   ]
  },
  {
   "cell_type": "code",
   "execution_count": 210,
   "metadata": {
    "collapsed": false
   },
   "outputs": [
    {
     "data": {
      "image/png": "[encoded data removed]",
      "text/plain": [
       "<matplotlib.figure.Figure at 0x7f3364d97320>"
      ]
     },
     "metadata": {},
     "output_type": "display_data"
    }
   ],
   "source": [
    "plt.figure()\n",
    "plt.axis('equal')\n",
    "\n",
    "plt.plot(d1[:,0], d1[:,1], 'bo')\n",
    "plt.plot(d1[:,0], d1[:,1], 'b')\n",
    "plt.fill(d1[:,0], d1[:,1], 'b')\n",
    "\n",
    "plt.plot(d2[:,0], d2[:,1], 'g^')\n",
    "plt.plot(d2[:,0], d2[:,1], 'g')\n",
    "plt.fill(d2[:,0], d2[:,1], 'g')\n",
    "plt.show()"
   ]
  },
  {
   "cell_type": "markdown",
   "metadata": {},
   "source": [
    "### Reversing the transformation: reconstruct the transformation matrix"
   ]
  },
  {
   "cell_type": "code",
   "execution_count": 211,
   "metadata": {
    "collapsed": false
   },
   "outputs": [
    {
     "data": {
      "image/png": "[encoded data removed]",
      "text/plain": [
       "<matplotlib.figure.Figure at 0x7f336778ddd8>"
      ]
     },
     "metadata": {},
     "output_type": "display_data"
    }
   ],
   "source": [
    "d1 = np.array([[-2,2], [-1.5,2.4], [-1,2], [-0.5,2],[0,2.4], \n",
    "               [0.5,2], [1,1], [1.5,1], [1.5,0.5], [1,0.5], [1,1]])\n",
    "\n",
    "d2 = Transform(d1, Rot, translation) + \\\n",
    "    np.random.normal(0, 0.1, size=2*d1.shape[0]).reshape(d1.shape)\n",
    "\n",
    "def plotshapes(d1, d2, d3=None, d4=None):\n",
    "    plt.figure()\n",
    "    plt.axis('equal')\n",
    "    plt.plot(d1[:,0], d1[:,1], 'bo')\n",
    "    plt.plot(d2[:,0], d2[:,1], 'g^')\n",
    "    plt.plot(d1[:,0], d1[:,1], 'b')\n",
    "    plt.plot(d2[:,0], d2[:,1], 'g')\n",
    "    if d3 is not None:\n",
    "        plt.plot(d3[:,0], d3[:,1], 'co')\n",
    "        plt.plot(d3[:,0], d3[:,1], 'c--')\n",
    "    if d4 is not None:\n",
    "        plt.plot(d4[:,0], d4[:,1], 'm^')\n",
    "        plt.plot(d4[:,0], d4[:,1], 'm--')\n",
    "    \n",
    "    plt.show()\n",
    "    \n",
    "plotshapes(d1, d2)"
   ]
  },
  {
   "cell_type": "code",
   "execution_count": 203,
   "metadata": {
    "collapsed": false
   },
   "outputs": [],
   "source": [
    "def simTransform(pref, pcmp, showerror = False):\n",
    "    err_before = np.mean(np.sum(np.square(pref - pcmp), axis=1))\n",
    "    ref_mean = np.mean(pref, axis=0)\n",
    "    prefcentered = np.asmatrix(pref) - np.asmatrix(ref_mean)\n",
    "    \n",
    "    cmp_mean = np.mean(pcmp, axis=0)\n",
    "    pcmpcentered = np.asmatrix(pcmp) - np.asmatrix(cmp_mean)   \n",
    "    \n",
    "    Sxx = np.sum(np.square(pcmpcentered[:,0]))\n",
    "    Syy = np.sum(np.square(pcmpcentered[:,1]))\n",
    "    Sxxr = prefcentered[:,0].T * pcmpcentered[:,0] #(ref_x, x)\n",
    "    Syyr = prefcentered[:,1].T * pcmpcentered[:,1] #(ref_y, y)\n",
    "    Sxyr = prefcentered[:,1].T * pcmpcentered[:,0] #(ref_y, x)\n",
    "    Syxr = prefcentered[:,0].T * pcmpcentered[:,1] #(ref_x, y)\n",
    "    a = (Sxxr + Syyr)/(Sxx + Syy) #(Sxxr + Syyr) / (Sxx + Syy)\n",
    "    b = (Sxyr - Syxr) / (Sxx + Syy)\n",
    "    a = np.asscalar(a)\n",
    "    b = np.asscalar(b)\n",
    "    Rot = np.matrix([[a, -b],[b, a]])\n",
    "    translation = -Rot * np.asmatrix(cmp_mean).T + np.asmatrix(ref_mean).T\n",
    "    outx, outy = [], []\n",
    "    res = Rot * np.asmatrix(pcmp).T + translation\n",
    "    \n",
    "    if showerror:\n",
    "        err_after = np.mean(np.sum(np.square(pref - res.T), axis=1))\n",
    "        print(\"Error before: %.4f    after: %.4f\\n\"%(err_before, err_after))\n",
    "    return res.T\n",
    "    "
   ]
  },
  {
   "cell_type": "code",
   "execution_count": 212,
   "metadata": {
    "collapsed": false
   },
   "outputs": [
    {
     "name": "stdout",
     "output_type": "stream",
     "text": [
      "Error before: 20.4283    after: 0.0127\n",
      "\n",
      "[[-1.85291902  2.01625591]\n",
      " [-1.47396707  2.50134012]\n",
      " [-1.07379556  2.02663372]\n",
      " [-0.51026754  1.92930963]\n",
      " [-0.08665807  2.36771163]\n",
      " [ 0.42053322  2.03005122]\n",
      " [ 0.91639739  0.90297445]\n",
      " [ 1.50053308  1.05409419]\n",
      " [ 1.5455354   0.66182626]\n",
      " [ 1.00007022  0.42760748]\n",
      " [ 1.11453796  0.8821954 ]]\n"
     ]
    },
    {
     "data": {
      "image/png": "[encoded data removed]",
      "text/plain": [
       "<matplotlib.figure.Figure at 0x7f3364abe2e8>"
      ]
     },
     "metadata": {},
     "output_type": "display_data"
    }
   ],
   "source": [
    "d3 = simTransform(pref=d1, pcmp=d2, showerror=True)\n",
    "print(d3)\n",
    "plotshapes(d1, d2, d4=d3)"
   ]
  },
  {
   "cell_type": "markdown",
   "metadata": {
    "collapsed": true
   },
   "source": [
    "## Different implementations"
   ]
  },
  {
   "cell_type": "code",
   "execution_count": 1,
   "metadata": {
    "collapsed": true
   },
   "outputs": [],
   "source": [
    "def simTransform1(ref_x, ref_y, x, y, reportRMSD = False):\n",
    "    rmsd_before = np.sqrt(np.sum(np.square(ref_x - x) + np.square(ref_y - y)))\n",
    "    err_before = np.mean(np.square(ref_x - x) + np.square(ref_y - y))\n",
    "    ref_x = ref_x - np.mean(ref_x)\n",
    "    ref_y = ref_y - np.mean(ref_y)\n",
    "    x = x - np.mean(x)\n",
    "    y = y - np.mean(y)\n",
    "    Sxx = np.sum(np.square(x))\n",
    "    Syy = np.sum(np.square(y))\n",
    "    Sxxr = np.dot(ref_x, x)\n",
    "    Syyr = np.dot(ref_y, y)\n",
    "    Sxyr = np.dot(ref_y, x)\n",
    "    Syxr = np.dot(ref_x, y)\n",
    "    a = np.sum(np.array((ref_x, ref_y)).T * np.array((x,y)).T)/(Sxx + Syy) #(Sxxr + Syyr) / (Sxx + Syy)\n",
    "    b = (Sxyr - Syxr) / (Sxx + Syy)\n",
    "    #scale_factor = 1.0/np.sqrt(a**2 + b**2)\n",
    "    Mat = np.matrix([[a, -b],[b, a]])\n",
    "    outx, outy = [], []\n",
    "    for i,(px,py) in enumerate(zip(x,y)):\n",
    "        v = Mat * np.matrix([px, py]).T #np.multiply(Mat, np.array((px,py)).T)\n",
    "        outx.append(v[0,0])\n",
    "        outy.append(v[1,0])\n",
    "        \n",
    "    outx = np.array(outx)\n",
    "    outy = np.array(outy)\n",
    "    rmsd_after = np.sqrt(np.sum(np.square(ref_x - outx) + np.square(ref_y - outy)))\n",
    "    if reportRMSD:\n",
    "        err_after = np.mean(np.square(ref_x - outx) + np.square(ref_y - outy))\n",
    "        print(\"RMSD before: %.4f  after: %.4f\\n\"%(rmsd_before, rmsd_after))\n",
    "        print(\"Error before: %.4f  after: %.4f\\n\"%(err_before, err_after))\n",
    "    return(outx, outy)"
   ]
  },
  {
   "cell_type": "code",
   "execution_count": 2,
   "metadata": {
    "collapsed": true
   },
   "outputs": [],
   "source": [
    "def simTransform2(ref_x, ref_y, x, y, reportRMSD = False):\n",
    "    err_before = np.mean(np.square(ref_x - x) + np.square(ref_y - y))\n",
    "    n = x.shape[0]\n",
    "    A = np.vstack((x, y)).T\n",
    "    B = np.vstack((ref_x, ref_y)).T\n",
    "    A = np.matrix(A)\n",
    "    B = np.matrix(B)\n",
    "    rmsd_before = np.sqrt(np.sum(np.square(ref_x - x) + np.square(ref_y - y)))\n",
    "    centroid_A = np.mean(A, axis=0)\n",
    "    centroid_B = np.mean(B, axis=0)\n",
    "    \n",
    "    AA = A - np.tile(centroid_A, (n,1))\n",
    "    BB = B - np.tile(centroid_B, (n,1))\n",
    "    \n",
    "    H = np.transpose(AA) * BB\n",
    "    \n",
    "    U, s, Vt = np.linalg.svd(H)\n",
    "\n",
    "    R = Vt.T * U.T #np.matrix([[a, -b],[b, a]])\n",
    "    if np.linalg.det(R) < 0:\n",
    "        #sys.stderr.write(\"Warning: reflection detected!\")\n",
    "        Vt[1,:] *= -1\n",
    "        R = Vt.T * U.T\n",
    "        \n",
    "    tr = -R * centroid_A.T + centroid_B.T\n",
    "    A2 = R * A.T + np.tile(tr, (1,n))\n",
    "    A2 = A2.T\n",
    "    outx = np.asarray(A2[:,0]).flatten()\n",
    "    outy = np.asarray(A2[:,1]).flatten()\n",
    "    if reportRMSD:\n",
    "        err_after = np.mean(np.square(ref_x - outx) + np.square(ref_y - outy))\n",
    "        print(\"Error before: %.4f  after: %.4f\\n\"%(err_before, err_after))\n",
    "\n",
    "    \n",
    "    return (outx, outy)"
   ]
  },
  {
   "cell_type": "code",
   "execution_count": null,
   "metadata": {
    "collapsed": true
   },
   "outputs": [],
   "source": []
  }
 ],
 "metadata": {
  "kernelspec": {
   "display_name": "Python 3",
   "language": "python",
   "name": "python3"
  },
  "language_info": {
   "codemirror_mode": {
    "name": "ipython",
    "version": 3
   },
   "file_extension": ".py",
   "mimetype": "text/x-python",
   "name": "python",
   "nbconvert_exporter": "python",
   "pygments_lexer": "ipython3",
   "version": "3.4.3"
  }
 },
 "nbformat": 4,
 "nbformat_minor": 0
}
