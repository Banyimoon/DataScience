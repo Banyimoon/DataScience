{
 "cells": [
  {
   "cell_type": "markdown",
   "metadata": {},
   "source": [
    "Analyzing Data using Python and SQLite3\n",
    "==="
   ]
  },
  {
   "cell_type": "markdown",
   "metadata": {},
   "source": [
    "## SQLite basics\n",
    "\n",
    " * Create a connection\n",
    "   * `conn = sqlite3.connect('database_file')`\n",
    "   * `cur = conn.curser()`\n",
    " * Execute SQL commands\n",
    "   * execute: `cur.execute('SQL COMMANDS')`\n",
    "   * commit to save changes made to the database: `conn.commit()`\n",
    " * Retrieve results\n",
    "   * execute the retrieval query `cur.execute('SELECT QUERY')`\n",
    "   * Fetch the results\n",
    "     * Fetch all the results at once: `cur.fecthall()`\n",
    "     * Fetch only one result: `cur.fetchone()`\n",
    " * Close the connection\n",
    "   * `conn.close()`"
   ]
  },
  {
   "cell_type": "markdown",
   "metadata": {},
   "source": [
    "#### Example: create a table to store data from a textfile\n",
    "\n",
    " \n",
    " * First, create a connection and setup SQLite"
   ]
  },
  {
   "cell_type": "code",
   "execution_count": 1,
   "metadata": {
    "collapsed": true
   },
   "outputs": [],
   "source": [
    "import sqlite3\n",
    "\n",
    "conn = sqlite3.connect('/tmp/election_tweets.sqlite')\n",
    "cur = conn.cursor()"
   ]
  },
  {
   "cell_type": "markdown",
   "metadata": {},
   "source": [
    " * Read data using pandas and store them in sqlite "
   ]
  },
  {
   "cell_type": "code",
   "execution_count": null,
   "metadata": {
    "collapsed": true
   },
   "outputs": [],
   "source": []
  }
 ],
 "metadata": {
  "kernelspec": {
   "display_name": "Python 3",
   "language": "python",
   "name": "python3"
  },
  "language_info": {
   "codemirror_mode": {
    "name": "ipython",
    "version": 3
   },
   "file_extension": ".py",
   "mimetype": "text/x-python",
   "name": "python",
   "nbconvert_exporter": "python",
   "pygments_lexer": "ipython3",
   "version": "3.5.1"
  }
 },
 "nbformat": 4,
 "nbformat_minor": 0
}
