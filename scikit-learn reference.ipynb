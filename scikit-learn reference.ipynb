{
 "metadata": {
  "name": "",
  "signature": "sha256:85bedbdcba8f49765a8c97f5419aee6d04f1dcfd9e8e69d427241bb9d57585ec"
 },
 "nbformat": 3,
 "nbformat_minor": 0,
 "worksheets": [
  {
   "cells": [
    {
     "cell_type": "markdown",
     "metadata": {},
     "source": [
      "Refernce for scikit-learn methods and functions\n",
      "===============\n",
      "\n",
      "**Vahid Mirjalili, Data Mining Researcher**\n"
     ]
    },
    {
     "cell_type": "markdown",
     "metadata": {},
     "source": [
      "[1. Feature Extraction](#feayure-extraction)\n",
      "\n",
      "[2. Dimensionality Reduction](#dimensionality-reduction)\n",
      "\n",
      "[3. Clustering](#clustering)\n",
      "\n",
      "[4. Classification](#classification)\n",
      "\n",
      "[5. Performance Metrics](#performance-metrics)"
     ]
    },
    {
     "cell_type": "markdown",
     "metadata": {},
     "source": [
      "<a id=\"feature-extraction\">\n",
      "\n",
      "# 1. Feature Extraction\n",
      "\n",
      "</a>\n",
      "\n",
      "## Convert Categorical Attributes to Factor Levels"
     ]
    },
    {
     "cell_type": "code",
     "collapsed": false,
     "input": [
      "from sklearn import feature_extraction\n",
      "\n",
      "vec = feature_extraction.DictVectorizer()"
     ],
     "language": "python",
     "metadata": {},
     "outputs": [],
     "prompt_number": 2
    },
    {
     "cell_type": "markdown",
     "metadata": {},
     "source": [
      "## Term-Frequence Inverse Document-Frequency"
     ]
    },
    {
     "cell_type": "code",
     "collapsed": false,
     "input": [
      "from sklearn.feature_extraction.text import TfidfVectorizer\n",
      "\n"
     ],
     "language": "python",
     "metadata": {},
     "outputs": []
    },
    {
     "cell_type": "markdown",
     "metadata": {},
     "source": [
      "<a id=\"dimensionality-reduction\">\n",
      "\n",
      "# 2. Dimensionaliy Reduction\n",
      "\n",
      "</a>\n",
      "\n",
      "## PCA\n"
     ]
    },
    {
     "cell_type": "code",
     "collapsed": false,
     "input": [
      "from sklearn import decomposition\n",
      "\n",
      "## defining an object of class\n",
      "pca = decomposition.PCA(n_components = 2).fit(X_train)\n",
      "\n",
      "## transform the data along the 2 princial components\n",
      "X_transormed = pca.transform(X_train)"
     ],
     "language": "python",
     "metadata": {},
     "outputs": []
    },
    {
     "cell_type": "markdown",
     "metadata": {},
     "source": [
      "##LDA"
     ]
    },
    {
     "cell_type": "code",
     "collapsed": false,
     "input": [],
     "language": "python",
     "metadata": {},
     "outputs": []
    },
    {
     "cell_type": "markdown",
     "metadata": {},
     "source": [
      "## Feature Selection"
     ]
    },
    {
     "cell_type": "code",
     "collapsed": false,
     "input": [
      "from sklearn import feature_selection\n",
      "\n",
      "fs = feature_selection.SelectPercentile(feature_selection.chi2, percentile=15)\n",
      "\n",
      "## transforming the training and test sets:\n",
      "X_train_fs = fs.fir_transform(X_train, y_train)\n",
      "X_test_fs = fs.transform(X_test)"
     ],
     "language": "python",
     "metadata": {},
     "outputs": []
    },
    {
     "cell_type": "markdown",
     "metadata": {},
     "source": [
      "<a id=\"clustering\">\n",
      "# 3. Clustering\n",
      "</a>"
     ]
    },
    {
     "cell_type": "markdown",
     "metadata": {},
     "source": [
      "## kmeans-clustering"
     ]
    },
    {
     "cell_type": "code",
     "collapsed": false,
     "input": [],
     "language": "python",
     "metadata": {},
     "outputs": []
    },
    {
     "cell_type": "markdown",
     "metadata": {},
     "source": [
      "## Affinity Propagation"
     ]
    },
    {
     "cell_type": "code",
     "collapsed": false,
     "input": [
      "aff = cluster.AffinityPropagation()\n",
      "\n",
      "aff.fit(X_train)\n",
      "\n",
      "## Accessing cluster centers\n",
      "aff.cluster_centers_indices_"
     ],
     "language": "python",
     "metadata": {},
     "outputs": []
    },
    {
     "cell_type": "markdown",
     "metadata": {},
     "source": [
      "## Mean Shift Clustering"
     ]
    },
    {
     "cell_type": "code",
     "collapsed": false,
     "input": [
      "ms = cluster.MeanShift()\n",
      "\n",
      "ms.fit(X_train)\n",
      "\n",
      "## Accessing cluster centers\n",
      "ms.cluster_centers_"
     ],
     "language": "python",
     "metadata": {},
     "outputs": []
    },
    {
     "cell_type": "markdown",
     "metadata": {},
     "source": [
      "## Gaussian Mixture Model (GMM)"
     ]
    },
    {
     "cell_type": "code",
     "collapsed": false,
     "input": [
      "from sklearn import mixture\n",
      "\n",
      "gm = mixture.GMM(n_components=3, covariance_type='tied', random_state=42)\n",
      "\n",
      "gm.fit(X_train)"
     ],
     "language": "python",
     "metadata": {},
     "outputs": []
    },
    {
     "cell_type": "markdown",
     "metadata": {},
     "source": [
      "## Homogeneity"
     ]
    },
    {
     "cell_type": "code",
     "collapsed": false,
     "input": [],
     "language": "python",
     "metadata": {},
     "outputs": []
    },
    {
     "cell_type": "markdown",
     "metadata": {},
     "source": [
      "## Completeness"
     ]
    },
    {
     "cell_type": "markdown",
     "metadata": {},
     "source": [
      "<a id=\"classification\">\n",
      "# 4. Classification\n",
      "</a>"
     ]
    },
    {
     "cell_type": "markdown",
     "metadata": {},
     "source": [
      "## Decision Tree Classifier"
     ]
    },
    {
     "cell_type": "code",
     "collapsed": false,
     "input": [
      "from sklearn import tree\n",
      "\n",
      "dt = tree.DecisionTreeClassier(criterion='entropy')\n",
      "\n",
      "dt = dt.fit(X_train, y_train)\n",
      "\n",
      "## predict:\n",
      "y_pred = dt.predict(X_test)"
     ],
     "language": "python",
     "metadata": {},
     "outputs": []
    },
    {
     "cell_type": "markdown",
     "metadata": {},
     "source": [
      "## Multinomial Naive Bayes"
     ]
    },
    {
     "cell_type": "code",
     "collapsed": false,
     "input": [
      "from sklearn.naive_bayes import MultinomialNB"
     ],
     "language": "python",
     "metadata": {},
     "outputs": []
    },
    {
     "cell_type": "markdown",
     "metadata": {},
     "source": [
      "<a id='performance-metrics'>\n",
      "# 5. Performance Metrics\n",
      "</a>"
     ]
    },
    {
     "cell_type": "markdown",
     "metadata": {},
     "source": [
      "## Cross-validation"
     ]
    },
    {
     "cell_type": "code",
     "collapsed": false,
     "input": [
      "from sklearn import cross_validation\n",
      "\n",
      "cv_scores = cross_validation.cross_val_score(model, X_train, y_train, cv=5)"
     ],
     "language": "python",
     "metadata": {},
     "outputs": []
    },
    {
     "cell_type": "markdown",
     "metadata": {},
     "source": [
      "## K-Fold Cross-validation"
     ]
    },
    {
     "cell_type": "code",
     "collapsed": false,
     "input": [
      "from sklearn.cross_validation import cross_val_score, KFold\n",
      "\n",
      "cv = KFold (n_samples, K, shuffle=True, random_state=123)\n",
      "\n",
      "scores = cross_val_score(model, X_train, y_train, cv=cv)"
     ],
     "language": "python",
     "metadata": {},
     "outputs": []
    },
    {
     "cell_type": "markdown",
     "metadata": {},
     "source": [
      "## Prediction Accuracy"
     ]
    },
    {
     "cell_type": "code",
     "collapsed": false,
     "input": [
      "from sklearn import metrics\n",
      "\n",
      "print metrics.accuracy_score(y_test, y_pred)"
     ],
     "language": "python",
     "metadata": {},
     "outputs": []
    },
    {
     "cell_type": "code",
     "collapsed": false,
     "input": [],
     "language": "python",
     "metadata": {},
     "outputs": []
    }
   ],
   "metadata": {}
  }
 ]
}