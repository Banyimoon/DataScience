{
 "cells": [
  {
   "cell_type": "markdown",
   "metadata": {},
   "source": [
    "Constrained KMeans with Background Knowledge\n",
    "===\n",
    "\n",
    " * Traditionally, clustering is known as usupervised learning fashion\n",
    " * Often some background knowledge exists\n",
    " * Integrate background knowledge and clustering algorithms\n",
    "\n",
    "**COBWEB (Fisher,\n",
    "\n",
    "#### Contributions\n",
    " * Modified k-means to account for background knowledge in form of instance-level constraints\n",
    " * Applying COBWEB to real-world dataset"
   ]
  },
  {
   "cell_type": "code",
   "execution_count": null,
   "metadata": {
    "collapsed": true
   },
   "outputs": [],
   "source": []
  }
 ],
 "metadata": {
  "kernelspec": {
   "display_name": "Python 3",
   "language": "python",
   "name": "python3"
  },
  "language_info": {
   "codemirror_mode": {
    "name": "ipython",
    "version": 3
   },
   "file_extension": ".py",
   "mimetype": "text/x-python",
   "name": "python",
   "nbconvert_exporter": "python",
   "pygments_lexer": "ipython3",
   "version": "3.5.1"
  }
 },
 "nbformat": 4,
 "nbformat_minor": 0
}
