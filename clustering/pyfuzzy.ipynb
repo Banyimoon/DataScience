{
 "metadata": {
  "name": "",
  "signature": "sha256:28f3559de77ccb4ea7b39f3aef72b75e5b2f5f49c3803b79b040b082b07682e5"
 },
 "nbformat": 3,
 "nbformat_minor": 0,
 "worksheets": [
  {
   "cells": [
    {
     "cell_type": "markdown",
     "metadata": {},
     "source": [
      "Fuzzy Clustering\n",
      "==========\n",
      "\n",
      "**Vahid Mirjalili, Data Mining Researcher**"
     ]
    },
    {
     "cell_type": "code",
     "collapsed": false,
     "input": [
      "%load_ext watermark"
     ],
     "language": "python",
     "metadata": {},
     "outputs": [],
     "prompt_number": 1
    },
    {
     "cell_type": "code",
     "collapsed": false,
     "input": [
      "%watermark -v -u -d -p numpy,scipy,scikit-learn,matplotlib"
     ],
     "language": "python",
     "metadata": {},
     "outputs": [
      {
       "output_type": "stream",
       "stream": "stdout",
       "text": [
        "Last updated: 27/09/2014 \n",
        "\n",
        "CPython 2.7.3\n",
        "IPython 2.0.0\n",
        "\n",
        "numpy 1.9.0\n",
        "scipy 0.14.0\n",
        "scikit-learn 0.15.2\n",
        "matplotlib 1.4.0\n"
       ]
      }
     ],
     "prompt_number": 2
    },
    {
     "cell_type": "code",
     "collapsed": false,
     "input": [
      "import numpy as np\n",
      "import sklearn as sk"
     ],
     "language": "python",
     "metadata": {},
     "outputs": [],
     "prompt_number": 4
    },
    {
     "cell_type": "code",
     "collapsed": false,
     "input": [
      "## Read in the data file and cluster membrships\n",
      "df = np.loadtxt(\"sample.data/df.csv\", delimiter=',', skiprows=1)\n",
      "\n",
      "p1 = np.loadtxt(\"sample.data/p1_memb.csv\", delimiter=',', skiprows=1)\n",
      "p2 = np.loadtxt(\"sample.data/p2_memb.csv\", delimiter=',', skiprows=1)\n",
      "p3 = np.loadtxt(\"sample.data/p3_memb.csv\", delimiter=',', skiprows=1)"
     ],
     "language": "python",
     "metadata": {},
     "outputs": [],
     "prompt_number": 8
    },
    {
     "cell_type": "code",
     "collapsed": false,
     "input": [
      "## define similarity of two points i,j by their membrship vectors\n",
      "\n",
      "def similarity_memb(wi, wj):\n",
      "    "
     ],
     "language": "python",
     "metadata": {},
     "outputs": [
      {
       "metadata": {},
       "output_type": "pyout",
       "prompt_number": 7,
       "text": [
        "array([[ 1.        , -0.98871344, -2.30623521, ..., -0.4775187 ,\n",
        "        -2.55847517,  1.91995095],\n",
        "       [ 1.        ,  1.45588934, -1.01876202, ...,  0.58644891,\n",
        "        -2.71796337, -4.23759864],\n",
        "       [ 1.        ,  1.95470873,  0.10105974, ...,  0.3184141 ,\n",
        "        -2.45366145, -4.08358397],\n",
        "       ..., \n",
        "       [ 3.        ,  0.01608358,  0.35053959, ...,  1.71202289,\n",
        "         0.51311418, -0.49510769],\n",
        "       [ 3.        , -3.59273781,  3.18960652, ...,  1.40036997,\n",
        "         0.04286493,  3.49017712],\n",
        "       [ 3.        ,  0.72721504,  0.56899015, ...,  2.49207972,\n",
        "         0.33307304, -0.7898777 ]])"
       ]
      }
     ],
     "prompt_number": 7
    },
    {
     "cell_type": "code",
     "collapsed": false,
     "input": [],
     "language": "python",
     "metadata": {},
     "outputs": []
    }
   ],
   "metadata": {}
  }
 ]
}