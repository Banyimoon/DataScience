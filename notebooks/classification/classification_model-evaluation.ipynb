{
 "cells": [
  {
   "cell_type": "markdown",
   "metadata": {},
   "source": [
    "Model Evaluation\n",
    "===\n",
    "\n",
    "\n",
    "* Accracy \n",
    "\n",
    " $Accuracy= \\frac{correctly classified}{all classified instances}$\n",
    " \n",
    "* Confusion Matrix\n",
    "\n",
    "\n",
    "<style type=\"text/css\">\n",
    ".tg  {border-collapse:collapse;border-spacing:0;}\n",
    ".tg td{font-family:Arial, sans-serif;font-size:14px;padding:10px 5px;border-style:solid;border-width:1px;overflow:hidden;word-break:normal;}\n",
    ".tg th{font-family:Arial, sans-serif;font-size:14px;font-weight:normal;padding:10px 5px;border-style:solid;border-width:1px;overflow:hidden;word-break:normal;}\n",
    ".tg .tg-s6z2{text-align:center}\n",
    ".tg .tg-baqh{text-align:center;vertical-align:top}\n",
    ".tg .tg-yw4l{vertical-align:top}\n",
    ".tg .tg-qdpb{background-color:#6665cd;text-align:center}\n",
    ".tg .tg-bmek{background-color:#ffcb2f;text-align:center}\n",
    "</style>\n",
    "<table class=\"tg\">\n",
    "  <tr>\n",
    "    <th class=\"tg-s6z2\"></th>\n",
    "    <th class=\"tg-yw4l\"><br></th>\n",
    "    <th class=\"tg-031e\" colspan=\"2\">Predicted Class<br></th>\n",
    "  </tr>\n",
    "  <tr>\n",
    "    <td class=\"tg-baqh\"></td>\n",
    "    <td class=\"tg-baqh\"></td>\n",
    "    <td class=\"tg-baqh\">+<br></td>\n",
    "    <td class=\"tg-baqh\">-<br></td>\n",
    "  </tr>\n",
    "  <tr>\n",
    "    <td class=\"tg-s6z2\">Actual Class<br></td>\n",
    "    <td class=\"tg-s6z2\">+</td>\n",
    "    <td class=\"tg-qdpb\">TP</td>\n",
    "    <td class=\"tg-bmek\">FN<br></td>\n",
    "  </tr>\n",
    "  <tr>\n",
    "    <td class=\"tg-s6z2\"></td>\n",
    "    <td class=\"tg-s6z2\">-</td>\n",
    "    <td class=\"tg-bmek\">FP<br></td>\n",
    "    <td class=\"tg-qdpb\">TN</td>\n",
    "  </tr>\n",
    "</table>\n",
    "\n",
    "\n",
    "* True Positive rate\n",
    "\n",
    "* False Positive Rate\n",
    "\n",
    "* Precision\n",
    "\n",
    "* Recall"
   ]
  },
  {
   "cell_type": "markdown",
   "metadata": {
    "collapsed": true
   },
   "source": [
    "## Splitting the data into train/test\n",
    "\n",
    "\n",
    "\n",
    "**If we dvide the data into 50%, how do we decide which one to use?**\n",
    "\n",
    "\n",
    "\n",
    "### K-fold cross validation\n",
    "\n",
    "\n",
    "**At the end, we develop k models. Which one we should use to predict the label of an unlabeled data?** \n",
    "\n",
    "None of the k models. K-fold cross-validation is only used to estimate the performance of our model. For real prediction, we should use the entire dataset for training, and that trained model should be used for prediction."
   ]
  },
  {
   "cell_type": "markdown",
   "metadata": {},
   "source": [
    "## Types of classification errors\n",
    "\n",
    " * **Training error**\n",
    " * **Test error**\n",
    " \n",
    "### Model overfitting\n",
    "\n",
    "\n",
    "**Underfitting** model is too simple, both training and test errors are high\n",
    "\n",
    "**Overfitting** model is too complex, training error is small, but test error is large.\n",
    "\n",
    "#### Source of overfitting\n",
    " * Fitting the noise points \n",
    " * Not enough training data"
   ]
  },
  {
   "cell_type": "markdown",
   "metadata": {},
   "source": [
    "## Model selection\n",
    "\n",
    " * Training error is \n",
    " \n",
    " \n",
    "### Criteria for choosing best classifier \n",
    "\n",
    " * **Performance (accuracy) vs. Descriptive**\n",
    "   * Artifical neural networks and support vector machines\n",
    "   * Decision trees and rule-based classifiers provide more descritive models.\n",
    "   \n",
    " * **Efficiency in training vs. testing**\n",
    " "
   ]
  },
  {
   "cell_type": "markdown",
   "metadata": {},
   "source": []
  }
 ],
 "metadata": {
  "kernelspec": {
   "display_name": "Python 3",
   "language": "python",
   "name": "python3"
  },
  "language_info": {
   "codemirror_mode": {
    "name": "ipython",
    "version": 3
   },
   "file_extension": ".py",
   "mimetype": "text/x-python",
   "name": "python",
   "nbconvert_exporter": "python",
   "pygments_lexer": "ipython3",
   "version": "3.5.1"
  }
 },
 "nbformat": 4,
 "nbformat_minor": 0
}
