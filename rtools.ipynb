{
 "metadata": {
  "name": "",
  "signature": "sha256:00852af05f8874af0121685fac7712f9576c0c9b758dfbef7f0d6e11727a76c9"
 },
 "nbformat": 3,
 "nbformat_minor": 0,
 "worksheets": [
  {
   "cells": [
    {
     "cell_type": "markdown",
     "metadata": {},
     "source": [
      "# Data Science \n",
      "\n",
      "The types of questions that data science tries to answer includes\n",
      "\n",
      "* Descriptive\n",
      "* Exploratory\n",
      "* Inferential\n",
      "* Predictive\n",
      "* Causal\n",
      "* Mechanistic\n",
      "\n",
      "### Descriptive analysis:\n",
      " Goal: Describe a set of data. For example census data. \n",
      " Without trying to predict any variable.\n",
      "\n",
      "### Exploratory analysis\n",
      " Goal: Find relationships you didn't know about.\n",
      "\n",
      "### Inferential analysis\n",
      " Goal: Use a small sample of data to say something about a bigger population\n",
      " Inference is commonly the goal of statistical analysis\n",
      " \n",
      "### Predictive analysis\n",
      " Goal: To use data on some objects to predict values for another objects\n",
      "\n",
      "### Causal analysis\n",
      " Goal: To find out what happens to one variable when you make changes to another variable\n",
      " \n",
      "### Mechanistic analysis\n",
      " Goal: Understant the exact changes in variabes that lead to changes in other variable for individual objects\n",
      "\n"
     ]
    },
    {
     "cell_type": "code",
     "collapsed": false,
     "input": [
      "\n",
      "con <- url(\"http://www.jhsph.edu\", \"r\")\n",
      "\n",
      "x <- readLines(con)\n",
      "\n",
      "head(x)"
     ],
     "language": "python",
     "metadata": {},
     "outputs": [],
     "prompt_number": 2
    },
    {
     "cell_type": "code",
     "collapsed": false,
     "input": [
      "ucscDb <- dbConnect(MySQL(), user=\"genome\", host=\"genome-mysql.cse.ucsc.edu\")\n",
      "result <- dbGetQuery(ucscDb, \"show databases;\")\n",
      "dbDisconnect(ucscDb)\n",
      "result"
     ],
     "language": "python",
     "metadata": {},
     "outputs": [],
     "prompt_number": 3
    },
    {
     "cell_type": "markdown",
     "metadata": {},
     "source": [
      "<h3> Merging data - merge() </h3>\n"
     ]
    },
    {
     "cell_type": "code",
     "collapsed": false,
     "input": [
      "mergedData <- merge(reviews, solutions, by.x=\"solution_id\", by.y=\"id\",\n",
      "                    all=T)\n",
      "\n"
     ],
     "language": "python",
     "metadata": {},
     "outputs": []
    }
   ],
   "metadata": {}
  }
 ]
}