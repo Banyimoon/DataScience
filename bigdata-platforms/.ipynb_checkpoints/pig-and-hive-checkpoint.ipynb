{
 "cells": [
  {
   "cell_type": "markdown",
   "metadata": {},
   "source": [
    "Data Processing with Pig and Hive\n",
    "====\n"
   ]
  },
  {
   "cell_type": "markdown",
   "metadata": {},
   "source": [
    "```sql\n",
    "Select Username,Address \n",
    "From UserTable\n",
    "Where Age>30;\n",
    "```\n",
    "\n",
    "Pig:\n",
    "* Load UserTable;\n",
    "* For each row check w\n",
    "* Return the results"
   ]
  },
  {
   "cell_type": "markdown",
   "metadata": {},
   "source": [
    "Pig Latin:\n",
    "* Interacting eith HDFS\n",
    "* Mainpulate data that is sitting on HDFS\n",
    "* "
   ]
  },
  {
   "cell_type": "markdown",
   "metadata": {},
   "source": [
    "## Running pig\n",
    "\n",
    "Running pig on local mode: `pig -x local`  \n",
    "Running on distributed mode: `pig -x mapreduce`\n",
    "\n",
    "\n",
    "* Using the interactive shell called *grunt*\n",
    "* Execute a pig script *E.g. `pig myscript.pig`*\n",
    "* Embed your pig query into a Java program\n",
    "\n",
    "\n",
    "\n",
    "Pig scripts: \n",
    "* Comments are noted by \"--\""
   ]
  },
  {
   "cell_type": "markdown",
   "metadata": {},
   "source": [
    "Embedded in Java\n",
    "\n",
    "```java\n",
    "import java.io.IoException;\n",
    "import org.apache.pig.PigServer;\n",
    "\n",
    "public class idmapreduce {\n",
    "    public static void main(String[] args) {\n",
    "}\n",
    "```\n",
    "\n",
    "Compile:\n",
    "```\n",
    "javac -cp \\$PIG_HOME/pig-0.11.0.jar idmapreduce.java\n",
    "```\n",
    "\n",
    "Running:\n",
    "\n",
    "```\n",
    "java -cp \"..\" idmapreduce\n",
    "```"
   ]
  },
  {
   "cell_type": "markdown",
   "metadata": {},
   "source": [
    "### Grunt shell commands\n",
    "\n",
    "* `grunt> exec myscript.pig`  execute in a separate forked process\n",
    "* `grunt> run myscript.pig`   run in the same process"
   ]
  },
  {
   "cell_type": "markdown",
   "metadata": {},
   "source": [
    "## Pig Latin\n",
    "\n",
    "A high leve\n",
    "Overview:\n",
    "* Read/write from/to HDFS\n",
    "* Data types\n",
    "* Diagnostic\n",
    "* Expressions and functions\n",
    "* Relational operations (UNION, JOIN, FILTER, etc)\n",
    "* No supporting command for insert, delete, update"
   ]
  },
  {
   "cell_type": "markdown",
   "metadata": {},
   "source": [
    "### Pig Latin Workflow\n",
    "\n",
    "* Load data into an alias  \n",
    "\n",
    "```pig\n",
    "-- alias = LOAD filename AS (..);\n",
    "alias = LOAD 'input.txt' AS (attr1, attr2);\n",
    "\n",
    "-- comma separate values   \n",
    "-- mydata = LOAD filename USING PigStorage(',') ..;  \n",
    "mydata = LOAD 'input.txt'   \n",
    "         USING PigStorage(',')   \n",
    "         AS (attr1, attr2, ..);   \n",
    "```\n",
    "\n",
    "* Manipulate the alias using relational operations\n",
    "\n",
    "```pig\n",
    "\n",
    "```"
   ]
  },
  {
   "cell_type": "markdown",
   "metadata": {},
   "source": [
    "#### Example workflow\n",
    "\n",
    "```pig\n",
    "data = LOAD '/user/hduser/wikipedia/wiki_edits/txt' \n",
    "       USING PigStorage(',')\n",
    "       AS (rev, aid, rid, article, ts, uname, uid);\n",
    "       \n",
    "grp = GROUP data BY article; -- output has two columns: group,data\n",
    "\n",
    "counts = FOREACH grp GENERATE group, COUNT(data);\n",
    "\n",
    "results = LIMIT counts 4;\n",
    "DUMP results;\n",
    "\n",
    "STORE counts INTO 'output.txt' USING PigStorage(',');\n",
    "```"
   ]
  },
  {
   "cell_type": "code",
   "execution_count": null,
   "metadata": {
    "collapsed": true
   },
   "outputs": [],
   "source": []
  }
 ],
 "metadata": {
  "kernelspec": {
   "display_name": "Python 3",
   "language": "python",
   "name": "python3"
  },
  "language_info": {
   "codemirror_mode": {
    "name": "ipython",
    "version": 3
   },
   "file_extension": ".py",
   "mimetype": "text/x-python",
   "name": "python",
   "nbconvert_exporter": "python",
   "pygments_lexer": "ipython3",
   "version": "3.5.1"
  }
 },
 "nbformat": 4,
 "nbformat_minor": 0
}
