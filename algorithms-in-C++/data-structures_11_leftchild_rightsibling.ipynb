{
 "cells": [
  {
   "cell_type": "markdown",
   "metadata": {},
   "source": [
    "Left-child Right-sibling Binary Tree\n",
    "=========\n",
    "\n",
    "Given a N-ary tree construct a new binary tree as follows:\n",
    "* For node n in the binary tree, the left child  correponds to the children of n in the original N-ary tree\n",
    "* the right child of n should include all the siblings of n in the original N-ary tree\n",
    "\n",
    "\n",
    "* An empty left sub-tree indicates no children, i.e. that is a leaf node\n",
    "* An empty right subtree indicates that is the last sibling\n",
    "* The root node doesn't have any right subtree"
   ]
  },
  {
   "cell_type": "markdown",
   "metadata": {},
   "source": [
    "## Transformation\n",
    "\n",
    " * Transforming a general tree to a left-child right-sibling tree is called **Knuth trasnformation**."
   ]
  },
  {
   "cell_type": "markdown",
   "metadata": {},
   "source": [
    "### Traversals\n",
    "\n",
    "* Pre-order: pre-order traversal in the original tree is identical to pre-order traversal in the Knuth-transformed tree.\n",
    "\n",
    "* Post-order: post-order traversal in the Knuth trasnform tree, requires three steps: left, root, right\n",
    "  - first traverse all the nodes on the left subtree\n",
    "  - then visit the current node\n",
    "  - move on to the right and traverse the right subtree"
   ]
  },
  {
   "cell_type": "markdown",
   "metadata": {},
   "source": [
    "### Implementation\n",
    "\n",
    "**LCRS_tree class**\n",
    "```c++\n",
    "template <typename Type>\n",
    "class LCRS_tree {\n",
    "    private:\n",
    "        Type element;\n",
    "        LCRS_tree *first_child_tree;\n",
    "        LCRS_tree *next_sibling_tree;\n",
    "        \n",
    "    public:\n",
    "        LCRS_tree();\n",
    "        LCRS_tree *first_child();\n",
    "        LCRS_tree *next_sibling();\n",
    "    \n",
    "};\n",
    "```\n",
    "\n",
    "**degree()**\n",
    "```c++\n",
    "template<typename Type>\n",
    "int LCRS_tree<Type>::degree() const {\n",
    "    int count = 0;\n",
    "    for (LCRS_tree *ptr = first_child();\n",
    "         ptr != nullptr;\n",
    "         ptr = ptr->next_sibling()) {\n",
    "            ++ count;\n",
    "    }\n",
    "    return count;\n",
    "}\n",
    "```\n",
    "\n",
    "**is_leaf()**\n",
    "```c++\n",
    "template<typename Type>\n",
    "bool LCRS_tree<Type>::is_leaf() const {\n",
    "    return (first_child() == nullptr);\n",
    "}\n",
    "```\n",
    "\n",
    "**size()**\n",
    "```c++\n",
    "template<typename Type>\n",
    "int LCRS_tree<Type>::size() const {\n",
    "    return 1 +\n",
    "        (first_child() == nullptr ? 0 : first_child()->size()) +\n",
    "        (next_sibling() == nullptr ? 0 : next_sibling()->size());\n",
    "}\n",
    "```\n",
    "\n",
    "**height()**\n",
    "```c++\n",
    "template<typename Type>\n",
    "int LCRS_tree<Type>::height() const {\n",
    "    int h = 0;\n",
    "    \n",
    "    for (LCRS_tree *ptr = first_child();\n",
    "         ptr != nullptr;\n",
    "         ptr = ptr->next_sibling()) {\n",
    "        h = std::max(h, 1 + ptr->height());\n",
    "    }\n",
    "    \n",
    "    return h;\n",
    "}\n",
    "```"
   ]
  },
  {
   "cell_type": "code",
   "execution_count": null,
   "metadata": {
    "collapsed": true
   },
   "outputs": [],
   "source": []
  }
 ],
 "metadata": {
  "kernelspec": {
   "display_name": "Python 3",
   "language": "python",
   "name": "python3"
  },
  "language_info": {
   "codemirror_mode": {
    "name": "ipython",
    "version": 3
   },
   "file_extension": ".py",
   "mimetype": "text/x-python",
   "name": "python",
   "nbconvert_exporter": "python",
   "pygments_lexer": "ipython3",
   "version": "3.5.1"
  }
 },
 "nbformat": 4,
 "nbformat_minor": 0
}
