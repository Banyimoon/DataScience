{
 "cells": [
  {
   "cell_type": "markdown",
   "metadata": {},
   "source": [
    "Anomaly (outlier) Detection\n",
    "===="
   ]
  },
  {
   "cell_type": "markdown",
   "metadata": {},
   "source": [
    " * Why not using classificaito  to detect anomalous points?\n",
    "\n",
    "#### Applicaitons\n",
    "\n",
    " * \n",
    " * \n",
    "\n",
    "#### Characteristics of anomaly points\n",
    "\n",
    " * \n",
    " * \n",
    " * \n",
    " \n",
    " "
   ]
  },
  {
   "cell_type": "markdown",
   "metadata": {},
   "source": [
    "### Output of anomaly detection\n",
    "\n",
    " * continous output\n",
    " * binary output"
   ]
  },
  {
   "cell_type": "markdown",
   "metadata": {},
   "source": [
    "### Anomaly Detection Approaches\n",
    "\n",
    "#### Graphical approaches\n",
    "\n",
    " * 1-D box plot\n",
    "   * limited to only one dimension\n",
    "   \n",
    " * 2-D scatter plot"
   ]
  },
  {
   "cell_type": "markdown",
   "metadata": {},
   "source": [
    "#### Statistical approaches\n",
    "\n",
    " * outlier score: \n",
    "   * 1-dimensional: $O(x) = \\displaystyle \\frac{|x - \\mu|}{\\sigma}$\n",
    "   * multidimensional: use the mahalanobis distance $O(x) = (x-\\mu)^T \\Sigma^{-1} (x - \\mu)$"
   ]
  },
  {
   "cell_type": "code",
   "execution_count": null,
   "metadata": {
    "collapsed": true
   },
   "outputs": [],
   "source": []
  }
 ],
 "metadata": {
  "kernelspec": {
   "display_name": "Python 3",
   "language": "python",
   "name": "python3"
  },
  "language_info": {
   "codemirror_mode": {
    "name": "ipython",
    "version": 3
   },
   "file_extension": ".py",
   "mimetype": "text/x-python",
   "name": "python",
   "nbconvert_exporter": "python",
   "pygments_lexer": "ipython3",
   "version": "3.5.1"
  }
 },
 "nbformat": 4,
 "nbformat_minor": 0
}
