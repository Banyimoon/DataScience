{
 "cells": [
  {
   "cell_type": "markdown",
   "metadata": {},
   "source": [
    "Linear Classifier\n",
    "\n",
    "\n",
    "Boundary: $x_1 + x_2 = 10$\n",
    "Positive class: $x_1+x_2 > 10$\n",
    "Negative class: $x_1+x_2 < 10$\n",
    "\n",
    "Linear Model: $f(x) = x_1 + x_2 - 10$\n",
    "\n",
    "Predicted class: $\\hat{y} = \\brgin{array}{lr}{+&\\\\-& \\end{array}$"
   ]
  },
  {
   "cell_type": "code",
   "execution_count": null,
   "metadata": {
    "collapsed": true
   },
   "outputs": [],
   "source": []
  }
 ],
 "metadata": {
  "kernelspec": {
   "display_name": "Python 3",
   "language": "python",
   "name": "python3"
  },
  "language_info": {
   "codemirror_mode": {
    "name": "ipython",
    "version": 3
   },
   "file_extension": ".py",
   "mimetype": "text/x-python",
   "name": "python",
   "nbconvert_exporter": "python",
   "pygments_lexer": "ipython3",
   "version": "3.5.1"
  }
 },
 "nbformat": 4,
 "nbformat_minor": 0
}
