{
 "cells": [
  {
   "cell_type": "markdown",
   "metadata": {},
   "source": [
    "## Linear models\n",
    "\n",
    "<img src='figs/regression.univariate.png' width=300></img>\n",
    "\n",
    "Notation: \n",
    "\n",
    "  * $(x,y)$ is one training example, and $(x^{(i)}, y^{(i)})$ refers to the ith training example.\n",
    "\n",
    "  * Hypothesis function for univariate data $h_\\mathbf{w}(x) = w_0 + w_1 x$ with parameters $\\mathbf{w}=(w_0, w_1)$\n",
    "  * Hypothesis function for multivariate case $h_\\mathbf{w}(\\mathbf{x}) = w_0 + w_1 x_1 + w_2 x_2 + ... + w_d x_d$ with input features $\\mathbf{x} = (x_1, x_2,..., x_d)$ and parameters $\\mathbf{w} = (w_0, w_1, w_2, ... w_d)$\n",
    "\n",
    "\n"
   ]
  },
  {
   "cell_type": "markdown",
   "metadata": {},
   "source": [
    "### Solving the paramaters $\\mathbf{w}$\n",
    "\n",
    "Given $n$ data points, the goal is to minimize the cost given below:\n",
    "\n",
    "$$\n",
    "\\begin{align}\n",
    "J(\\mathbf{w}) & = \\frac{1}{2 n} \\displaystyle \\sum_{i=1}^{n}\\left(h_\\mathbf{w}(x)^{(i)} - y^{(i)}\\right)^2 \\\\\n",
    "& = \\frac{1}{2 n} \\displaystyle \\sum_{i=1}^{n}\\left(w_0 + w_1 x^{(i)} - y^{(i)}\\right)^2\n",
    "\\end{align}\n",
    "$$"
   ]
  },
  {
   "cell_type": "markdown",
   "metadata": {},
   "source": [
    "### Solving with Gradient Descent\n",
    "\n",
    "Moving in the direction of Gradient (first derivative) of the cost function:\n",
    "\n",
    "$$\\nabla J(\\mathbf{w}) = \\left(\\frac{\\partial J(\\mathbf{w})}{\\partial w_0}, \\frac{\\partial J(\\mathbf{w})}{\\partial w_1} \\right)$$ \n",
    "\n",
    "where the partial derivatives is given as follows\n",
    "\n",
    "$$\\begin{align}\n",
    "\\frac{\\partial J(\\mathbf{w})}{\\partial w_0} & = \\displaystyle \\frac{1}{2 n} \\displaystyle \\sum_{i=1}^{n} 2.(w_0 + w_1 x^{(i)} - y^{(i)}) = \\displaystyle \\frac{1}{n} \\displaystyle \\sum_{i=1}^{n} (w_0 + w_1 x^{(i)} - y^{(i)}) \\\\\n",
    "\\frac{\\partial J(\\mathbf{w})}{\\partial w_1} & = \\displaystyle \\frac{1}{2 n} \\displaystyle \\sum_{i=1}^{n} 2.x^{(i)}.(w_0 + w_1 x^{(i)} - y^{(i)}) = \\displaystyle \\frac{1}{n} \\displaystyle \\sum_{i=1}^{n} x^{(i)} (w_0 + w_1 x^{(i)} - y^{(i)})\n",
    "\\end{align}$$\n",
    "\n",
    "\n",
    " * Randmly initialize the parameters $\\mathbf{w}$  \n",
    " * "
   ]
  },
  {
   "cell_type": "markdown",
   "metadata": {},
   "source": [
    "## Regularization\n",
    "\n",
    " * **Ridge**\n",
    " \n",
    " * **Lasso**"
   ]
  },
  {
   "cell_type": "code",
   "execution_count": null,
   "metadata": {
    "collapsed": true
   },
   "outputs": [],
   "source": []
  }
 ],
 "metadata": {
  "kernelspec": {
   "display_name": "Python 3",
   "language": "python",
   "name": "python3"
  },
  "language_info": {
   "codemirror_mode": {
    "name": "ipython",
    "version": 3
   },
   "file_extension": ".py",
   "mimetype": "text/x-python",
   "name": "python",
   "nbconvert_exporter": "python",
   "pygments_lexer": "ipython3",
   "version": "3.4.3"
  }
 },
 "nbformat": 4,
 "nbformat_minor": 0
}
