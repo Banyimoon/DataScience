{
 "cells": [
  {
   "cell_type": "markdown",
   "metadata": {},
   "source": [
    "Anomaly (outlier) Detection\n",
    "===="
   ]
  },
  {
   "cell_type": "markdown",
   "metadata": {},
   "source": [
    " * Why not using classificaito  to detect anomalous points?\n",
    "\n",
    "#### Applicaitons\n",
    "\n",
    " * \n",
    " * \n",
    "\n",
    "#### Characteristics of anomaly points\n",
    "\n",
    " * \n",
    " * \n",
    " * \n",
    " \n",
    " "
   ]
  },
  {
   "cell_type": "markdown",
   "metadata": {},
   "source": [
    "### Output of anomaly detection\n",
    "\n",
    " * continous output\n",
    " * binary output"
   ]
  },
  {
   "cell_type": "markdown",
   "metadata": {},
   "source": [
    "### Anomaly Detection Approaches\n",
    "\n",
    "#### 1. Graphical approaches\n",
    "\n",
    " * 1-D box plot\n",
    "   * limited to only one dimension\n",
    "   \n",
    " * 2-D scatter plot"
   ]
  },
  {
   "cell_type": "markdown",
   "metadata": {},
   "source": [
    "#### 2. Statistical approaches\n",
    "\n",
    " * outlier score: \n",
    "   * 1-dimensional: $O(x) = \\displaystyle \\frac{|x - \\mu|}{\\sigma}$\n",
    "   * multidimensional: use the mahalanobis distance $O(x) = (x-\\mu)^T \\Sigma^{-1} (x - \\mu)$"
   ]
  },
  {
   "cell_type": "markdown",
   "metadata": {},
   "source": [
    "#### 3. Distance-based approaches\n",
    "\n",
    " * Compute the distance between every pair of data instances\n",
    " * An anomlay is an instance for which there are fewer than $k$ neighbors within distance $\\delta$\n",
    "   * User can define either distance threshold $\\delta$ or the number of neighbors $k$"
   ]
  },
  {
   "cell_type": "markdown",
   "metadata": {},
   "source": [
    "##### Example: deforestatoin example\n",
    "\n",
    " * time-series of vegitation index\n",
    " * find the anomalies"
   ]
  },
  {
   "cell_type": "markdown",
   "metadata": {},
   "source": [
    "### K-D tree \n",
    "\n",
    " * A data structure to support nearest-neighbor search (for numeric-valued attributes)\n",
    " \n",
    " * Properties of K-D tree\n",
    "   * \n",
    "\n",
    " * **Procedure**\n",
    "   1. choose the dimension with largest variance\n",
    "   2. find the median along the dimension as split point\n",
    "   3. parition the space into two parts based on the median\n",
    "   4. choose the enxt dimension and repeat\n",
    "\n",
    " * Conventions: the median is always one of the points (not the average of the two middle points)\n",
    "\n",
    "**Alternate between the dimensions** \n",
    "  * at each level, only one dimension is used\n",
    "  * moving tp the next level of tree, the dimension changes"
   ]
  },
  {
   "cell_type": "markdown",
   "metadata": {},
   "source": [
    "#### Using K-D tree for nearest neighbor query\n",
    "\n"
   ]
  },
  {
   "cell_type": "code",
   "execution_count": null,
   "metadata": {
    "collapsed": true
   },
   "outputs": [],
   "source": []
  }
 ],
 "metadata": {
  "kernelspec": {
   "display_name": "Python 3",
   "language": "python",
   "name": "python3"
  },
  "language_info": {
   "codemirror_mode": {
    "name": "ipython",
    "version": 3
   },
   "file_extension": ".py",
   "mimetype": "text/x-python",
   "name": "python",
   "nbconvert_exporter": "python",
   "pygments_lexer": "ipython3",
   "version": "3.5.1"
  }
 },
 "nbformat": 4,
 "nbformat_minor": 0
}
