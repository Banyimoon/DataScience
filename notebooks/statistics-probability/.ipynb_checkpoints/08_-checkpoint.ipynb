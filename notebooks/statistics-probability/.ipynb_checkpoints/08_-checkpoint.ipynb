{
 "cells": [
  {
   "cell_type": "markdown",
   "metadata": {},
   "source": [
    "## Review\n",
    "\n",
    "### Exponential distribution\n",
    "\n",
    "Let $X\\sim Exp(\\lambda)$, then survival fimction $\\mathbf{P}[X\\ge x] = e^{-\\lambda x}$.\n",
    "\n",
    "$X$ is interpreted as a waiting time. $X$ is ***memory-less***; the key-property of exponential random variables.\n",
    "\n",
    "\n",
    "The rest of the story is that the inter-arrival times of a Poisson process are independent of each other, and are exponentially distributed.\n",
    "\n",
    "In fact, there is an equivalence between saying that events arrive according to such i.i.d. exponentially distributed inter-arrival times and saying that the arrival times are the jump times of a Poisson process."
   ]
  },
  {
   "cell_type": "code",
   "execution_count": null,
   "metadata": {
    "collapsed": true
   },
   "outputs": [],
   "source": []
  }
 ],
 "metadata": {
  "kernelspec": {
   "display_name": "Python 3",
   "language": "python",
   "name": "python3"
  },
  "language_info": {
   "codemirror_mode": {
    "name": "ipython",
    "version": 3
   },
   "file_extension": ".py",
   "mimetype": "text/x-python",
   "name": "python",
   "nbconvert_exporter": "python",
   "pygments_lexer": "ipython3",
   "version": "3.5.0rc4"
  }
 },
 "nbformat": 4,
 "nbformat_minor": 0
}
