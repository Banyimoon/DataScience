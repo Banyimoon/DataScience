{
 "cells": [
  {
   "cell_type": "markdown",
   "metadata": {},
   "source": [
    "Applications of Deep Learning\n",
    "===\n",
    " \n",
    " * Speech Recognition\n",
    "   * Understand the speech, translate to other languages and speech synthesis\n",
    " * Computer Vision\n",
    "   * Recognition (what is in the image)\n",
    "   * Localization (finding the object if interest in an image)\n",
    "   * Detection (cat, dog, duck)\n",
    "   * Segmentation (mark the boundaries of a particular object (semantic segmentation))\n",
    "   \n",
    "   * Human pose estimation (where are the huma body parts)\n",
    "   * Image captioning\n",
    " * Natural Language Processing (NLP)\n",
    "   * Represetation of a language (word2vec) similar words mapped close to each other in vector space\n",
    "   * Machine translation"
   ]
  },
  {
   "cell_type": "markdown",
   "metadata": {},
   "source": []
  }
 ],
 "metadata": {
  "kernelspec": {
   "display_name": "Python 3",
   "language": "python",
   "name": "python3"
  },
  "language_info": {
   "codemirror_mode": {
    "name": "ipython",
    "version": 3
   },
   "file_extension": ".py",
   "mimetype": "text/x-python",
   "name": "python",
   "nbconvert_exporter": "python",
   "pygments_lexer": "ipython3",
   "version": "3.5.0rc4"
  }
 },
 "nbformat": 4,
 "nbformat_minor": 0
}
