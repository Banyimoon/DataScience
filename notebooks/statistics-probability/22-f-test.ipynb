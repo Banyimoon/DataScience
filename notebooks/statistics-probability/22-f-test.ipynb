{
 "cells": [
  {
   "cell_type": "markdown",
   "metadata": {},
   "source": [
    "## F-test\n",
    "\n",
    "F-test for whether the true predicted value $\\theta = \\beta_1 x_1 + ... + \\beta_k x_k $ is in a sub-vector space.\n",
    "\n",
    "There is a null-hypothesis $H_0$: $\\theta = \\beta_1 x_1 + ... + \\beta_k x_k $\n",
    "\n",
    "There is  atest for this null hypothesis, which involves an $F$-distribution.\n",
    "\n",
    "Recall: $F$-distribution are ration of two $\\chi^2$'s. For instance, when we divide two sample variances by each other."
   ]
  },
  {
   "cell_type": "markdown",
   "metadata": {},
   "source": [
    "Usual linear model notation:\n",
    " * $Y = \\text{responcse variable: }n \\text{ data points}$   \n",
    " * $x=(x_1,...,x_k) = k\\text{ observed explanatory variables each with }n\\text{ data points}$\n"
   ]
  },
  {
   "cell_type": "markdown",
   "metadata": {},
   "source": [
    "We write $\\theta$ as above. Note that $k=\\text{dimension of the linear space spanned by }x_1, ..., x_k$"
   ]
  },
  {
   "cell_type": "markdown",
   "metadata": {},
   "source": [
    "Then, consider a smaller space $V_0$ with dimension $k_0 < k$. "
   ]
  }
 ],
 "metadata": {
  "kernelspec": {
   "display_name": "Python 3",
   "language": "python",
   "name": "python3"
  },
  "language_info": {
   "codemirror_mode": {
    "name": "ipython",
    "version": 3
   },
   "file_extension": ".py",
   "mimetype": "text/x-python",
   "name": "python",
   "nbconvert_exporter": "python",
   "pygments_lexer": "ipython3",
   "version": "3.5.3"
  }
 },
 "nbformat": 4,
 "nbformat_minor": 0
}
