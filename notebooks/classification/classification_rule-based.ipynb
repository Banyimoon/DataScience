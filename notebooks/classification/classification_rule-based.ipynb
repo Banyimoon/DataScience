{
 "cells": [
  {
   "cell_type": "markdown",
   "metadata": {},
   "source": [
    "Rule-based Classification\n",
    "==="
   ]
  },
  {
   "cell_type": "markdown",
   "metadata": {},
   "source": [
    "* Rules are mutually exclusive\n",
    "* Rules are exhaustive, meaning that a data point must trigger one of the rules to reach the leaf."
   ]
  },
  {
   "cell_type": "markdown",
   "metadata": {},
   "source": [
    "### Simpify the rules\n",
    "\n",
    " * Take out some of the attributes from a rule, and check if the rule is still accurate or not\n",
    " \n",
    " \n",
    " * After simplification of rules, rules may not be exhaustive anymore, then we need to create a default class."
   ]
  },
  {
   "cell_type": "markdown",
   "metadata": {},
   "source": [
    "## Sequential Covering Algorithm\n",
    "\n",
    " * Initial rule set is empty\n",
    " * Repeat\n",
    "   * Grow a single rule\n",
    "   * C\n",
    "   \n",
    "### Rule growing\n",
    "\n",
    " * the least frequent class"
   ]
  },
  {
   "cell_type": "markdown",
   "metadata": {},
   "source": [
    "## Rule-based classification softwares\n",
    "\n",
    " * JRIPPER (available in Weka)"
   ]
  },
  {
   "cell_type": "code",
   "execution_count": null,
   "metadata": {
    "collapsed": true
   },
   "outputs": [],
   "source": []
  }
 ],
 "metadata": {
  "kernelspec": {
   "display_name": "Python 3",
   "language": "python",
   "name": "python3"
  },
  "language_info": {
   "codemirror_mode": {
    "name": "ipython",
    "version": 3
   },
   "file_extension": ".py",
   "mimetype": "text/x-python",
   "name": "python",
   "nbconvert_exporter": "python",
   "pygments_lexer": "ipython3",
   "version": "3.5.1"
  }
 },
 "nbformat": 4,
 "nbformat_minor": 0
}
