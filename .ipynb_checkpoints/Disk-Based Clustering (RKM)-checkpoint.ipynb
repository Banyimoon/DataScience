{
 "metadata": {
  "name": "",
  "signature": "sha256:9e5c15fd5404166025190a1cbc8c0b0f8949a86c72dbc442a9b57e8c36737e78"
 },
 "nbformat": 3,
 "nbformat_minor": 0,
 "worksheets": [
  {
   "cells": [
    {
     "cell_type": "code",
     "collapsed": false,
     "input": [],
     "language": "python",
     "metadata": {},
     "outputs": []
    }
   ],
   "metadata": {}
  }
 ]
}