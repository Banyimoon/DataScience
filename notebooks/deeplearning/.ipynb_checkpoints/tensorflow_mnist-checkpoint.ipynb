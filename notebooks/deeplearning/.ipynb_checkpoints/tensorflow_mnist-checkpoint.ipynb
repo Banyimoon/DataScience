{
 "cells": [
  {
   "cell_type": "code",
   "execution_count": 1,
   "metadata": {
    "collapsed": false
   },
   "outputs": [
    {
     "name": "stdout",
     "output_type": "stream",
     "text": [
      "Successfully downloaded train-images-idx3-ubyte.gz 9912422 bytes.\n",
      "Extracting /tmp/data/train-images-idx3-ubyte.gz\n",
      "Successfully downloaded train-labels-idx1-ubyte.gz 28881 bytes.\n",
      "Extracting /tmp/data/train-labels-idx1-ubyte.gz\n",
      "Successfully downloaded t10k-images-idx3-ubyte.gz 1648877 bytes.\n",
      "Extracting /tmp/data/t10k-images-idx3-ubyte.gz\n",
      "Successfully downloaded t10k-labels-idx1-ubyte.gz 4542 bytes.\n",
      "Extracting /tmp/data/t10k-labels-idx1-ubyte.gz\n"
     ]
    }
   ],
   "source": [
    "import tensorflow as tf\n",
    "\n",
    "from tensorflow.examples.tutorials.mnist import input_data\n",
    "mnist_data = input_data.read_data_sets('/tmp/data', one_hot=True)\n"
   ]
  },
  {
   "cell_type": "code",
   "execution_count": null,
   "metadata": {
    "collapsed": true
   },
   "outputs": [],
   "source": [
    "## Visualize a sample subset of data\n",
    "import matplotlib.pyplot as plt\n",
    "%matplotlib inline\n",
    "\n",
    "import numpy\n",
    "\n",
    "f,a = plt.subplots(5,10, figsize=())"
   ]
  },
  {
   "cell_type": "markdown",
   "metadata": {},
   "source": [
    "### Tensors\n",
    "\n",
    " * A vector is one-dimensional\n",
    " * A matrix is 2-dimensional\n",
    " * A tensor can have $k$ dimenions\n",
    " $$\\left[\\begin{array}{ccc} & & & \\\\  & & & \\\\  & & & \\end{array}\\right]_{n_1\\times n_2 \\times ... n_k}$$\n",
    " \n",
    " Read about tensors: Animashree Anand Kumar"
   ]
  },
  {
   "cell_type": "code",
   "execution_count": null,
   "metadata": {
    "collapsed": true
   },
   "outputs": [],
   "source": [
    "# set learning parameters\n",
    "learning_rate = 1e-3\n",
    "batch_size = 128\n",
    "trainig_iters = 200000\n",
    "dispay_step = 20\n",
    "\n",
    "# set network parameters\n",
    "num_weights = 256\n",
    "num_dims = 784\n",
    "num_classes = 10\n",
    "num_layers = 1 ## number of hidden layers\n",
    "\n",
    "# create placeholders for data\n",
    "x = tf.placeholder('float', [None, num_dims])\n",
    "y = tf.placeholder('float', [None, num_classes])\n",
    "\n",
    "# now, define the network\n",
    "def multilayer_neural_netowk(x, weights, biases, num_layers):\n",
    "    out_layer = x\n",
    "    for i in range(1, num_layers+1, 1):\n",
    "        out_layer = tf.add(tf.matmul(out_layer, weights[i]), biases[i])\n",
    "        out_layer = tf.nn.relu(outlayer)\n",
    "        \n",
    "    ## last layer\n",
    "    out_layer = tf.add(tf.matmul(out_layer, weights['out']), biases['out'])\n",
    "    return out_layer\n",
    "\n",
    "weights = {\n",
    "    1: \n",
    "    2:\n",
    "    3:\n",
    "    4:\n",
    "    5:\n",
    "    'out':\n",
    "}\n",
    "\n",
    "biases = {\n",
    "    1:\n",
    "    2:\n",
    "    3:\n",
    "}\n",
    "\n",
    "#~~~~~~~~~~~~~~~~~~~~~~~define objects~~~~~~~~~~~~~~~~~~~~~~~~~~#\n",
    "## prediction\n",
    "prediction = multilayer_neural_network(x, weights, biases, num_layer)\n",
    "\n",
    "## Loss function: doftmax loss with cross_entropy\n",
    "loss = tf.reduce_mean(tf.nn.softmax_cross_entropy_with_logits(prediction, y))\n",
    "\n",
    "## accuracy\n",
    "correc_prediction = tf.equal(tf.argmax(prediction, 1), tf.argmax(y, 1))\n",
    "accuracy = tf.reduce_mean(tf.cast(correct_prediction, 'float'))\n",
    "\n",
    "## optimizier\n",
    "optimizer = tf.train.GradientDescentOptimizer(learning_rate, learning_rate).minimize(loss)\n",
    "\n",
    "## initialize\n",
    "init = tf.initialize_all_variables()\n",
    "\n",
    "with tf.Session() as sess:\n",
    "    sess.run(init)\n",
    "    \n",
    "    count = 0\n",
    "    while "
   ]
  }
 ],
 "metadata": {
  "kernelspec": {
   "display_name": "Python 3",
   "language": "python",
   "name": "python3"
  },
  "language_info": {
   "codemirror_mode": {
    "name": "ipython",
    "version": 3
   },
   "file_extension": ".py",
   "mimetype": "text/x-python",
   "name": "python",
   "nbconvert_exporter": "python",
   "pygments_lexer": "ipython3",
   "version": "3.5.0rc4"
  }
 },
 "nbformat": 4,
 "nbformat_minor": 0
}
