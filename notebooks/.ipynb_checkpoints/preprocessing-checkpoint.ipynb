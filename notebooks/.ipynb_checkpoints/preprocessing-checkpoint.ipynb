{
 "cells": [
  {
   "cell_type": "markdown",
   "metadata": {},
   "source": [
    "Data Preprocessing\n",
    "==========\n",
    "\n",
    " ## 1. Noise detection\n",
    " ## 2. Outliers\n",
    " ## 3. Discretization methods\n",
    "   \n",
    "   * Equal width binning\n",
    "   * Equal frequency\n",
    "   * Clustering\n",
    "   * Entropy\n",
    "   \n",
    "\n",
    " ## 4. Dimensionality reduction\n",
    " \n",
    "  ### Unsupervised\n",
    "  ### Supervised methods\n",
    " \n",
    "   * Curse of dimensionality\n",
    "   * Feature subset selection\n",
    "   * Feature extraction\n",
    "   * Principal Component Analysis (PCA)\n",
    "\n",
    "\n",
    " ## 5."
   ]
  },
  {
   "cell_type": "markdown",
   "metadata": {},
   "source": []
  },
  {
   "cell_type": "code",
   "execution_count": null,
   "metadata": {
    "collapsed": true
   },
   "outputs": [],
   "source": []
  }
 ],
 "metadata": {
  "kernelspec": {
   "display_name": "Python 3",
   "language": "python",
   "name": "python3"
  },
  "language_info": {
   "codemirror_mode": {
    "name": "ipython",
    "version": 3
   },
   "file_extension": ".py",
   "mimetype": "text/x-python",
   "name": "python",
   "nbconvert_exporter": "python",
   "pygments_lexer": "ipython3",
   "version": "3.4.3"
  }
 },
 "nbformat": 4,
 "nbformat_minor": 0
}
