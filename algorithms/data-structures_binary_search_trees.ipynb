{
 "cells": [
  {
   "cell_type": "markdown",
   "metadata": {},
   "source": [
    "Binary Search Trees\n",
    "======"
   ]
  },
  {
   "cell_type": "markdown",
   "metadata": {},
   "source": [
    "```c++\n",
    "class TreeNode \n",
    "{\n",
    "    int valuel\n",
    "    TreeNode *left;\n",
    "    TreeNode *right;\n",
    "    \n",
    "    TreeNode(int value1, \n",
    "             TreeNode *left1=NullPtr,\n",
    "             TreeNode *right1=NullPtr);\n",
    "};\n",
    "```"
   ]
  },
  {
   "cell_type": "markdown",
   "metadata": {},
   "source": [
    "In-order traversal of a binary search tree will result in sorting the elements.\n",
    "\n",
    "**Pre-order:**\n",
    "```c++\n",
    "void IntBinaryTree::displayPreOrder(TreeNode *tree) const {\n",
    "\n",
    "}\n",
    "```\n",
    "\n",
    "**Post-order:**\n",
    "```c++\n",
    "void IntBinaryTree::displayPostOrder(TreeNode *tree) const {\n",
    "\n",
    "}\n",
    "```"
   ]
  },
  {
   "cell_type": "code",
   "execution_count": null,
   "metadata": {
    "collapsed": true
   },
   "outputs": [],
   "source": []
  }
 ],
 "metadata": {
  "kernelspec": {
   "display_name": "Python 3",
   "language": "python",
   "name": "python3"
  },
  "language_info": {
   "codemirror_mode": {
    "name": "ipython",
    "version": 3
   },
   "file_extension": ".py",
   "mimetype": "text/x-python",
   "name": "python",
   "nbconvert_exporter": "python",
   "pygments_lexer": "ipython3",
   "version": "3.5.1"
  }
 },
 "nbformat": 4,
 "nbformat_minor": 0
}
