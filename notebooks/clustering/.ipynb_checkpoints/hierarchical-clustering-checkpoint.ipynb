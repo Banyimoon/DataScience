{
 "cells": [
  {
   "cell_type": "markdown",
   "metadata": {},
   "source": [
    "Hierarchical Clustering\n",
    "==="
   ]
  },
  {
   "cell_type": "markdown",
   "metadata": {},
   "source": [
    "#### Example\n",
    "\n",
    "||p1 | p2 | p3|p4|p5|p6|\n",
    "|:--:|:--:|:--:|:--:|:--:|:--:|:--:|\n",
    "|**p1**|0.00||||||\n",
    "|**p2**||0.00|||||\n",
    "|**p3**|||0.00||||\n",
    "|**p4**||||0.00|||\n",
    "|**p5**|||||0.00||\n",
    "|**p6**||||||0.00|\n"
   ]
  },
  {
   "cell_type": "markdown",
   "metadata": {
    "collapsed": true
   },
   "source": [
    "### Inter-cluster proximity\n",
    "\n",
    " * Min distance (single link)\n",
    " * Max distance (complete link)\n",
    " * Average distance (average link)\n",
    " \n",
    "**Single link** \n",
    "  * handle non-spherical shaped clusters\n",
    "  * prevents breaking large clusters (k-means breaks large clusters) \n",
    "  * very sensitive to noise **limitation**\n",
    "\n",
    "**Complete link**\n",
    "  * more robust to noise\n",
    "  * similar porblem with k-means: breaking large clusters"
   ]
  },
  {
   "cell_type": "markdown",
   "metadata": {},
   "source": [
    "### Summary\n",
    "\n",
    "**K-means** \n",
    " * Storage $O((N+k)d)$\n",
    " * Computation $O(Nkd \\ Iterations)$\n",
    " \n",
    "**Hierarchical**\n",
    " * Storage: $O(N^2)$\n",
    " * Computation $O(N^3)$ but using "
   ]
  },
  {
   "cell_type": "code",
   "execution_count": null,
   "metadata": {
    "collapsed": true
   },
   "outputs": [],
   "source": []
  }
 ],
 "metadata": {
  "kernelspec": {
   "display_name": "Python 3",
   "language": "python",
   "name": "python3"
  },
  "language_info": {
   "codemirror_mode": {
    "name": "ipython",
    "version": 3
   },
   "file_extension": ".py",
   "mimetype": "text/x-python",
   "name": "python",
   "nbconvert_exporter": "python",
   "pygments_lexer": "ipython3",
   "version": "3.5.1"
  }
 },
 "nbformat": 4,
 "nbformat_minor": 0
}
