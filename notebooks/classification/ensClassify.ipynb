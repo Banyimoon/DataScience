{
 "metadata": {
  "name": "",
  "signature": "sha256:f99e6e3cae50070b16fe6b1374b4dfbb92870d254c65a9531f9d97d5f49905bb"
 },
 "nbformat": 3,
 "nbformat_minor": 0,
 "worksheets": [
  {
   "cells": [
    {
     "cell_type": "markdown",
     "metadata": {},
     "source": [
      "Ensemble Classification\n",
      "============\n",
      "\n",
      "**Vahid Mirjalili, Data Mining Researcher**"
     ]
    },
    {
     "cell_type": "code",
     "collapsed": false,
     "input": [
      "%load_ext watermark"
     ],
     "language": "python",
     "metadata": {},
     "outputs": [],
     "prompt_number": 1
    },
    {
     "cell_type": "code",
     "collapsed": false,
     "input": [
      "%watermark -v -u -d -p numpy,scipy,scikit-learn,matplotlib"
     ],
     "language": "python",
     "metadata": {},
     "outputs": [
      {
       "output_type": "stream",
       "stream": "stdout",
       "text": [
        "Last updated: 21/09/2014 \n",
        "\n",
        "CPython 2.7.3\n",
        "IPython 2.0.0\n",
        "\n",
        "numpy 1.9.0\n",
        "scipy 0.14.0\n",
        "scikit-learn 0.14.1\n",
        "matplotlib 1.4.0\n"
       ]
      }
     ],
     "prompt_number": 3
    },
    {
     "cell_type": "code",
     "collapsed": false,
     "input": [],
     "language": "python",
     "metadata": {},
     "outputs": []
    }
   ],
   "metadata": {}
  }
 ]
}