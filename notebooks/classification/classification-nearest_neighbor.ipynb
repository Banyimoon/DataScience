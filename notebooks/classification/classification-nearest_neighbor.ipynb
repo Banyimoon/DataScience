{
 "cells": [
  {
   "cell_type": "markdown",
   "metadata": {},
   "source": [
    "Nearest Neighbor\n",
    "===\n",
    "\n",
    "* No model is built\n",
    "* very costly\n",
    "\n",
    "Distance/similarity measure:\n",
    " * Euclidean\n",
    " * Cosine similarity $cos(x,y)=\\frac{\\sum_i x_iy_i}{\\sqrt{\\sum_i x_i^2} \\sqrt{\\sum_i y_i^2}}$\n",
    "  * often used for document data, binary data, etc\n",
    "  \n",
    " \n",
    "##### Example:\n",
    "\n",
    " Age, Salary  \n",
    " Compute the Euclidean distance  \n",
    " What is the major limitation of Euclidean distance? the differeneces are dominated by the salary, since salary has much higher values compare to age. Solution: standardization\n",
    " \n",
    "##### Example:\n",
    "\n",
    "|Document|$w_1$|$w_2$|$w_3$|$w_4$|$w_5$|\n",
    "|:--|:--:|:--:|:--:|:--:|:--:|\n",
    "|Doc1| 1|1|0|0|0|\n",
    "|Doc2| 1|1|1|1|1|\n",
    "|Doc3| 1|1|1|0|0|"
   ]
  },
  {
   "cell_type": "markdown",
   "metadata": {},
   "source": [
    "### Nearest Neighbor Parameters\n",
    "\n",
    " * if k is too small: sensitive to noise\n",
    " * if k is too large: neighborhood may include points from other classes"
   ]
  },
  {
   "cell_type": "code",
   "execution_count": null,
   "metadata": {
    "collapsed": true
   },
   "outputs": [],
   "source": []
  }
 ],
 "metadata": {
  "kernelspec": {
   "display_name": "Python 3",
   "language": "python",
   "name": "python3"
  },
  "language_info": {
   "codemirror_mode": {
    "name": "ipython",
    "version": 3
   },
   "file_extension": ".py",
   "mimetype": "text/x-python",
   "name": "python",
   "nbconvert_exporter": "python",
   "pygments_lexer": "ipython3",
   "version": "3.5.1"
  }
 },
 "nbformat": 4,
 "nbformat_minor": 0
}
