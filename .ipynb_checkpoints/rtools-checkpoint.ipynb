{
 "metadata": {
  "name": "",
  "signature": "sha256:eac6d887877eaf89aff5ad3007c211ef07007f0409c235d67338ffd73a765c33"
 },
 "nbformat": 3,
 "nbformat_minor": 0,
 "worksheets": [
  {
   "cells": [
    {
     "cell_type": "markdown",
     "metadata": {},
     "source": [
      "## Object classes in R:\n",
      "\n",
      "* charcater\n",
      "* numeric\n",
      "* integer (L)\n",
      "* complex\n",
      "* logical (True/False)\n",
      "\n",
      "<b> Special numbers </b> Inf and NaN: 1/0 = Inf  and 1/Inf = 0;  0/0=NaN\n",
      "\n",
      "## Object attributes:\n",
      "\n",
      "* names, dimnames\n",
      "* dimensions (for matrices and arrays)\n",
      "* class\n",
      "* length\n",
      "* Other user defined attributes\n",
      "\n",
      "<b> attributes() </b> to get list of attributes of an object\n",
      "\n",
      "## Creating vectors\n",
      "\n",
      "* vector() :  to create an empty vector\n",
      "* vector(\"numeric\", length=10)\n",
      "* c('a', 'b')  : to concatenate multiple objects into a single vector\n",
      "* Mixing objects from different classes: c(1.5, 'a') : coercion\n",
      "\n",
      "## Explicit coercion\n",
      "\n",
      "* as.character()\n",
      "* as.numeric()\n",
      "* as.logical()\n",
      "* as.complex()"
     ]
    },
    {
     "cell_type": "code",
     "collapsed": false,
     "input": [
      "x <- 0:6\n",
      "print(x)\n",
      "print(as.logical(x))\n",
      "print(as.complex(x))"
     ],
     "language": "python",
     "metadata": {},
     "outputs": [
      {
       "output_type": "stream",
       "stream": "stdout",
       "text": [
        "[1] 0 1 2 3 4 5 6\n"
       ]
      },
      {
       "output_type": "stream",
       "stream": "stdout",
       "text": [
        "[1] FALSE  TRUE  TRUE  TRUE  TRUE  TRUE  TRUE\n"
       ]
      },
      {
       "output_type": "stream",
       "stream": "stdout",
       "text": [
        "[1] 0+0i 1+0i 2+0i 3+0i 4+0i 5+0i 6+0i\n"
       ]
      }
     ],
     "prompt_number": 7
    },
    {
     "cell_type": "markdown",
     "metadata": {},
     "source": [
      "## Matrices\n",
      "To create a vector:\n",
      "\n",
      "* create a matrox by matrix() function\n",
      "* change the dimension of a vector\n",
      "* binding vectors and matruces: cbind() & rbind()"
     ]
    },
    {
     "cell_type": "code",
     "collapsed": false,
     "input": [
      "m <- matrix(nrow=2, ncol=3)\n",
      "print(m)\n",
      "attributes(m)"
     ],
     "language": "python",
     "metadata": {},
     "outputs": [
      {
       "output_type": "stream",
       "stream": "stdout",
       "text": [
        "     [,1] [,2] [,3]\n",
        "[1,]   NA   NA   NA\n",
        "[2,]   NA   NA   NA\n"
       ]
      },
      {
       "metadata": {},
       "output_type": "pyout",
       "prompt_number": 12,
       "text": [
        "$dim\n",
        "[1] 2 3\n"
       ]
      }
     ],
     "prompt_number": 12
    },
    {
     "cell_type": "code",
     "collapsed": false,
     "input": [
      "# Method1: create a matrix by matrix()\n",
      "m1 <- matrix(1:6, nrow=2, ncol=3)\n",
      "print(m1)\n",
      "# Method2: change the dimension of a vector\n",
      "m2 <- 1:6\n",
      "dim(m2) = c(2,3)\n",
      "print(m2)"
     ],
     "language": "python",
     "metadata": {},
     "outputs": [
      {
       "output_type": "stream",
       "stream": "stdout",
       "text": [
        "     [,1] [,2] [,3]\n",
        "[1,]    1    3    5\n",
        "[2,]    2    4    6\n"
       ]
      },
      {
       "output_type": "stream",
       "stream": "stdout",
       "text": [
        "     [,1] [,2] [,3]\n",
        "[1,]    1    3    5\n",
        "[2,]    2    4    6\n"
       ]
      }
     ],
     "prompt_number": 13
    },
    {
     "cell_type": "code",
     "collapsed": false,
     "input": [
      "x <- 1:4\n",
      "y <- 6:9\n",
      "cbind(x,y)\n",
      "rbind(x,y)"
     ],
     "language": "python",
     "metadata": {},
     "outputs": [
      {
       "metadata": {},
       "output_type": "pyout",
       "prompt_number": 14,
       "text": [
        "     x y\n",
        "[1,] 1 6\n",
        "[2,] 2 7\n",
        "[3,] 3 8\n",
        "[4,] 4 9"
       ]
      },
      {
       "metadata": {},
       "output_type": "pyout",
       "prompt_number": 14,
       "text": [
        "  [,1] [,2] [,3] [,4]\n",
        "x    1    2    3    4\n",
        "y    6    7    8    9"
       ]
      }
     ],
     "prompt_number": 14
    },
    {
     "cell_type": "code",
     "collapsed": false,
     "input": [
      "\n",
      "con <- url(\"http://www.jhsph.edu\", \"r\")\n",
      "\n",
      "x <- readLines(con)\n",
      "\n",
      "head(x)"
     ],
     "language": "python",
     "metadata": {},
     "outputs": [],
     "prompt_number": 2
    },
    {
     "cell_type": "code",
     "collapsed": false,
     "input": [
      "ucscDb <- dbConnect(MySQL(), user=\"genome\", host=\"genome-mysql.cse.ucsc.edu\")\n",
      "result <- dbGetQuery(ucscDb, \"show databases;\")\n",
      "dbDisconnect(ucscDb)\n",
      "result"
     ],
     "language": "python",
     "metadata": {},
     "outputs": [],
     "prompt_number": 3
    },
    {
     "cell_type": "markdown",
     "metadata": {},
     "source": [
      "<h3> Merging data - merge() </h3>\n"
     ]
    },
    {
     "cell_type": "code",
     "collapsed": false,
     "input": [
      "mergedData <- merge(reviews, solutions, by.x=\"solution_id\", by.y=\"id\",\n",
      "                    all=T)\n",
      "\n"
     ],
     "language": "python",
     "metadata": {},
     "outputs": []
    }
   ],
   "metadata": {}
  }
 ]
}