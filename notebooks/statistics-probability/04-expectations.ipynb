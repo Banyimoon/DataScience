{
 "cells": [
  {
   "cell_type": "markdown",
   "metadata": {
    "collapsed": true
   },
   "source": [
    "## Expectations\n",
    "\n",
    "\n",
    "#### Mathematical Expectation\n",
    "\n",
    "Mathematical Expectation is the analog for a random variable $X$ of what we would get by drawing a very large number of independent samples from $X$ and computing the samples's empirical average.\n",
    "\n",
    "**Def:** If $X$ is a random variable taking values $x_1, x_2, .., x_n ..$, with respective probabilities $P_1,P_2, .., P_n ..$, then $\\mathbf{E}[X] = \\sum_{i=1}^\\infty P_i x_i$\n",
    "\n",
    "##### Example: \n",
    " $X=\\text{value of a size sided die flip}$. Therefore, $x_i=i for\\ i=1,2,3,4,5,6$ and $P_i=\\frac{1}{6}$. Thus $\\mathbf{E}[X] = \\frac{1}{6}. 1 + \\frac{1}{6}.2 + ... \\frac{1}{6}.6 = \\frac{1}{6}(1+2+3+4+5+6)=\\frac{21}{6} = 3.5$"
   ]
  },
  {
   "cell_type": "markdown",
   "metadata": {},
   "source": [
    "#### Example\n",
    "\n",
    "$X \\sim Bern(p)$. Therefore, $X=\\left\\{\\begin{array}{lr}1 & \\text{with probability }p\\\\0 & \\text{with probability }1-p\\end{array}\\right.$    \n",
    "\n",
    "Thus, $\\mathbf{E}[X] = 0\\times (1-p) + 1]times p = p$"
   ]
  },
  {
   "cell_type": "markdown",
   "metadata": {},
   "source": [
    "## Rules of Expectations\n",
    "\n",
    "  #### **Linearity of Expectations**:\n",
    "  Let $X\\&Y$ be two random variables, and let $a\\&b$ be two constants. Then $\\mathbf{E}[aX + bY] = a\\mathbf{E}[X] + b\\mathbf{E}[Y]$\n",
    "   * Example: $X=\\{0,1\\} $ coin toss (fair). $Y$ is 6-sided die toss. You will be paid $\\$Z$ amounts, where  $Z = 2X + 3Y$.\n",
    "      $\\mathbf{E}[Z] = 2\\mathbf{E}[X] + 3\\mathbf{E}[Y] = 2\\times \\frac{1}{2} + 3\\times \\frac{7}{2} = \\frac{23}{2} = 11.5$\n",
    "        \n",
    "        \n",
    "   * Example: Recall the Binomial random variable. Let $X \\sim Binom(n,p)$.     \n",
    "    **Recall: $X$ can be represented as $X = X_1 + X_2 + ... X_n$ where $X_i$'s are (independent) $Bern(p)$ radom variables.**    \n",
    "   Thus: $\\mathbf{E}[X] = \\mathbf{E}[X_1 + X_2 + ... X_n] = \\mathbf{E}[X_1] + \\mathbf{E}[X_2] + ..\\mathbf{E}[X_n] = p + p + ...+p = np$   \n",
    "   \n",
    "   \n",
    "   * Example: Geometric distribution. Let $X_1,X_2,...X_m,...$ be an infinite number of independent Bernoulli trials all with the same success probability $p$. Let $Y$ be first time that $X_i = 1$. It turns out $\\mathbf{E}[Y] = \\frac{1}{p}$.   \n",
    "     Note: $\\mathbf{P}[Y = k] = (1-p)^{1-k} p $. Indeed the event $\\{Y=k\\}$ is $k-1$ failures followed by one independent success.   \n",
    "       Therefore, $\\mathbf{E}[Y] = \\sum_{i=1}^\\infty k (1-p)^{k-1} p = **\\text{ some math/calculus }** = \\frac{1}{p}$"
   ]
  },
  {
   "cell_type": "markdown",
   "metadata": {},
   "source": [
    "#### Theorem/Definition: \n",
    "\n",
    "Let $X$ be a ranomd variable, and let $f$ be a function from $\\mathbb{R}\\to \\mathbb{R}$. Then, $Y=f(x)$ is a random variable.\n",
    "  $$\\mathbf{E}[Y] = \\sum_{i=1}^\\infty p_i \\times f(X_i)$$\n",
    "    \n",
    "  * Example:  $E[X^2] = \\sum_{i=1}^\\infty p_i\\times (x_i)^2$"
   ]
  },
  {
   "cell_type": "markdown",
   "metadata": {},
   "source": [
    "#### Theorem/Definition:\n",
    "\n",
    "Let $X\\&Y$ be two **independent** random variables. Thus, $\\{X=x_k\\}\\ \\& \\ \\{Y=y_j\\}$ are independent. Then, if $f\\&g$ are two functions, we get $\\mathbf{E}[f(X)\\times g(Y)] = \\mathbf{E}[f(X)] \\times \\mathbf{E}[g(Y)]$\n",
    "\n",
    " * **Proof:** This works because $\\mathbf{P}[\\{X=x_k\\}\\cap \\{Y=y_j\\}] = \\mathbf{P}[X=x_k]\\times \\mathbf{P}[Y=y_j]$.\n",
    " \n"
   ]
  },
  {
   "cell_type": "markdown",
   "metadata": {},
   "source": [
    "**Notation:** The pair $(X,Y)$ is a 2-dimensional random variable. We say it is ***bivariate***, and we define its probability mass function $$f_{X,Y}(x_k,y_j) = \\mathbf{P}[\\{X = x_k\\}\\cap\\{Y=y_j\\}]$$"
   ]
  },
  {
   "cell_type": "code",
   "execution_count": null,
   "metadata": {
    "collapsed": true
   },
   "outputs": [],
   "source": []
  }
 ],
 "metadata": {
  "kernelspec": {
   "display_name": "Python 3",
   "language": "python",
   "name": "python3"
  },
  "language_info": {
   "codemirror_mode": {
    "name": "ipython",
    "version": 3
   },
   "file_extension": ".py",
   "mimetype": "text/x-python",
   "name": "python",
   "nbconvert_exporter": "python",
   "pygments_lexer": "ipython3",
   "version": "3.5.0rc4"
  }
 },
 "nbformat": 4,
 "nbformat_minor": 0
}
