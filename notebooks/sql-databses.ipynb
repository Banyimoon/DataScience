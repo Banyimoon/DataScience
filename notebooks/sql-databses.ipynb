{
 "cells": [
  {
   "cell_type": "markdown",
   "metadata": {},
   "source": [
    "Relational Databases and SQL\n",
    "===\n",
    "\n",
    "\n",
    "#### Database Managment Systems (DBMS):\n",
    " * MS Access, MS SQL Server, Oracle, Sybase, MySQL, ...\n",
    " \n",
    "#### Relational databses\n",
    " * model the data as a collection of relations/tables\n",
    " \n",
    "\n",
    "## SQL\n",
    "\n",
    "##### outline\n",
    " - Create a table\n",
    " - Change the schema of a table\n",
    " - Insert data records into a table\n",
    " - Delete records from a table\n",
    " - Query\n",
    "\n",
    "##### Example: a database for wikipedia edits\n",
    "\n",
    "Table of editors\n",
    "\n",
    "|username|IsAdmin|Content|\n",
    "|:--:|:--:|:--:|\n",
    "|Alex|False|abc#hj|\n",
    "|Bob|True|aaaaa|\n",
    "|John|False|dsds|\n",
    "\n",
    "Table of wiki-articles\n",
    "\n",
    "|title|Content|\n",
    "|:--:|:--:|\n",
    "|Data_science|Data Science is an interdisciplinary field about ..|\n",
    "|Python_prog_language|Python is a widely used high-level, general-purpose, ..|\n",
    "\n",
    "\n",
    "Table of edits\n",
    "\n",
    "|editor|edited_title|modified_time|\n",
    "|:--:|:--:|:--:|\n",
    "|John|Python_prog_language|2013-03-07 13:25:43|\n",
    "|John|Data_science|2013-04-12 20:14:13|\n",
    "|Alex|Data_science|2013-04-13 10:04:17|\n",
    "|Alex|Python_prog_language|2013-04-13 17:34:31|\n",
    "|Alex|Data_science|2015-07-02 12:41:27|\n",
    "|Bob|Python_prog_language|2015-11-08 09:24:36|\n"
   ]
  },
  {
   "cell_type": "code",
   "execution_count": null,
   "metadata": {
    "collapsed": true
   },
   "outputs": [],
   "source": []
  }
 ],
 "metadata": {
  "kernelspec": {
   "display_name": "Python 3",
   "language": "python",
   "name": "python3"
  },
  "language_info": {
   "codemirror_mode": {
    "name": "ipython",
    "version": 3
   },
   "file_extension": ".py",
   "mimetype": "text/x-python",
   "name": "python",
   "nbconvert_exporter": "python",
   "pygments_lexer": "ipython3",
   "version": "3.5.1"
  }
 },
 "nbformat": 4,
 "nbformat_minor": 0
}
