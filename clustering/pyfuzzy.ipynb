{
 "metadata": {
  "name": "",
  "signature": "sha256:b398930f620235a0d3d64f880840ad86ee04409aef707914ab0d95b95f4178db"
 },
 "nbformat": 3,
 "nbformat_minor": 0,
 "worksheets": [
  {
   "cells": [
    {
     "cell_type": "markdown",
     "metadata": {},
     "source": [
      "Fuzzy Clustering\n",
      "==========\n",
      "\n",
      "**Vahid Mirjalili, Data Mining Researcher**"
     ]
    },
    {
     "cell_type": "code",
     "collapsed": false,
     "input": [
      "%load_ext watermark"
     ],
     "language": "python",
     "metadata": {},
     "outputs": [],
     "prompt_number": 1
    },
    {
     "cell_type": "code",
     "collapsed": false,
     "input": [
      "%watermark -v -u -d -p numpy,scipy,scikit-learn,matplotlib"
     ],
     "language": "python",
     "metadata": {},
     "outputs": [
      {
       "output_type": "stream",
       "stream": "stdout",
       "text": [
        "Last updated: 27/09/2014 \n",
        "\n",
        "CPython 2.7.3\n",
        "IPython 2.0.0\n",
        "\n",
        "numpy 1.9.0\n",
        "scipy 0.14.0\n",
        "scikit-learn 0.15.2\n",
        "matplotlib 1.4.0\n",
        "stemming 1.0\n"
       ]
      }
     ],
     "prompt_number": 18
    },
    {
     "cell_type": "code",
     "collapsed": false,
     "input": [
      "import numpy as np\n",
      "import sklearn as sk"
     ],
     "language": "python",
     "metadata": {},
     "outputs": [],
     "prompt_number": 25
    },
    {
     "cell_type": "code",
     "collapsed": false,
     "input": [
      "## Read in the data file and cluster membrships\n",
      "df = np.loadtxt(\"sample.data/df.csv\", delimiter=',', skiprows=1)\n",
      "n = df.shape[0]\n",
      "\n",
      "p1 = np.loadtxt(\"sample.data/p1_memb.csv\", delimiter=',', skiprows=1)\n",
      "p2 = np.loadtxt(\"sample.data/p2_memb.csv\", delimiter=',', skiprows=1)\n",
      "p3 = np.loadtxt(\"sample.data/p3_memb.csv\", delimiter=',', skiprows=1)"
     ],
     "language": "python",
     "metadata": {},
     "outputs": [],
     "prompt_number": 35
    },
    {
     "cell_type": "code",
     "collapsed": false,
     "input": [
      "## define similarity of two points i,j by their membrship vectors\n",
      "\n",
      "def similarity_memb(wi, wj):\n",
      "    sij = np.dot(wi, wj)    \n",
      "    return (sij)# / (np.sqrt(np.dot(wi,wi) * np.dot(wj,wj))))\n",
      "\n",
      "similarity_memb(p1[1,:], p1[2,:])"
     ],
     "language": "python",
     "metadata": {},
     "outputs": [
      {
       "metadata": {},
       "output_type": "pyout",
       "prompt_number": 50,
       "text": [
        "0.42970579570657003"
       ]
      }
     ],
     "prompt_number": 50
    },
    {
     "cell_type": "code",
     "collapsed": false,
     "input": [
      "## assign each sample point to an individual cluster\n",
      "pt_memb = np.repeat(-1, n)\n",
      "\n",
      "nclust = 0\n",
      "for i in range(0, n):\n",
      "    for j in range(i+1, n):\n",
      "        s1 = similarity_memb(p1[i,:], p1[j,:])\n",
      "        s2 = similarity_memb(p2[i,:], p2[j,:])\n",
      "        s3 = similarity_memb(p3[i,:], p3[j,:])\n",
      "        stot = s1 + s2 + s3\n",
      "        \n",
      "        if stot > 2.1:\n",
      "            if pt_memb[i] == -1 and pt_memb[j]==-1:\n",
      "                nclust += 1\n",
      "                pt_memb[i] = pt_memb[j] = nclust\n",
      "                \n",
      "            elif pt_memb[i] == -1:\n",
      "                pt_memb[i] = pt_memb[j]\n",
      "                \n",
      "            elif pt_memb[j] == -1:\n",
      "                pt_memb[j] = pt_memb[i]\n",
      "                \n",
      "            elif pt_memb[i] != pt_memb[j]:\n",
      "                nclust -= 1\n",
      "                pt_memb[pt_memb == pt_memb[j]] = pt_memb[i]\n",
      "                \n",
      "            \n",
      "print(n)\n",
      "print(nclust)\n",
      "print(pt_memb[:])"
     ],
     "language": "python",
     "metadata": {},
     "outputs": [
      {
       "output_type": "stream",
       "stream": "stdout",
       "text": [
        "300\n",
        "5\n",
        "[-1 -1 -1 -1  3  3  3 -1  3 -1  3  3  3  3 -1  3 -1  3  3  3  3 -1  3  3 -1\n",
        " -1 -1  3  3  3  3  3  3  3  3  3  3 -1  3 -1  3 -1  3 -1  3 -1  3 -1 -1  3\n",
        "  3  3  3  3 -1  3  3 -1  3  3  3  3 -1  3  3  3  3 -1  3  3 -1 -1  3 -1 -1\n",
        "  3  3  3  3  3  3 -1  3  3 -1  3  3  3 -1 -1  3  3 -1  3 -1  3 -1  3 -1  3\n",
        "  3 -1  3 -1  3  3 -1 -1 -1 -1  3 -1 -1  3 -1 -1  3 -1  3 -1  6  3  3  3 -1\n",
        " -1 -1 -1  3  3 -1  3  6  3  6  3 -1  3  3  3  3  3  3  3  6 -1 -1  3 -1  3\n",
        "  3  3  3 -1 -1  3  3  3  3  3  6 -1 -1  3 -1 -1  3  3  3 -1 -1  3 -1  3  3\n",
        " -1  3 -1 -1  3  3  3 -1 -1 -1  3 -1 -1  3  3 -1  6 -1  3  3 -1 -1  3  3  3\n",
        " -1 -1  3  3 -1  3  3  3  3  3 -1  3 -1 -1  3  3  3  3  3  3  3 -1  3  3 -1\n",
        "  3  3 -1  3  3  3  3  3  3 -1 -1  3  3 -1 -1 -1  3  3  3 -1  3  3 -1  3 -1\n",
        "  3  3  3 -1  3 -1 -1  3  3 -1  3 -1  3  3  3  3 -1  3 -1  3  3 -1  3 -1  3\n",
        " -1  3  3  3 -1 -1  3 -1  3  6 -1 -1 -1  3 -1 -1 -1  3  3  3  3  3  3 -1  3]\n"
       ]
      }
     ],
     "prompt_number": 55
    },
    {
     "cell_type": "code",
     "collapsed": false,
     "input": [],
     "language": "python",
     "metadata": {},
     "outputs": []
    }
   ],
   "metadata": {}
  }
 ]
}