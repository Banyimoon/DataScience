{
 "metadata": {
  "name": "",
  "signature": "sha256:450b3c6efd7f882973f859a6fa21ab77ca20261c8197a56ff88fe0b861909dbe"
 },
 "nbformat": 3,
 "nbformat_minor": 0,
 "worksheets": [
  {
   "cells": [
    {
     "cell_type": "markdown",
     "metadata": {},
     "source": [
      "Largest Variation Portfolio using PCA\n",
      "===============\n",
      "\n",
      "**Vahid Mirjalili, Data Mining Researcher**"
     ]
    },
    {
     "cell_type": "markdown",
     "metadata": {},
     "source": [
      "1. [Prpblem Definition](#probdef)\n",
      "2. [Getting Stocks' Data](#getdata)\n",
      "3. [How the average Price Changes Over Time?](#avgprice)\n",
      "4. [Applying PCA on Stock Data](#apply-pca)\n",
      "  * [Interpratation of PCA results](#interpret)\n",
      "5. [Extracting the Portfolio Weights from PCA](#xtract-ws)"
     ]
    },
    {
     "cell_type": "markdown",
     "metadata": {},
     "source": [
      "<a id=\"probdef\"> </a>\n",
      "\n",
      "## 1. Problem definition:\n",
      "\n",
      "Our goal is to find a portfolio that has had the largest variation (profit) during 2011 to date. If we define a portfolio as a linear combination of a set of assets as $x'=w_1 x_1 + w_2 x_2 + ... w_n x_n$, then we need to find $w$s such that the gain is maximizaed. while, this can be thought of an exhastive optimization problem, we want to use Principal Component Analysis (PCA) to find the protfolio with highest variation.\n",
      "\n",
      "\n",
      "\n",
      "First we extract the asset price data from finance.yahoo.com, and make a pandas dataframe. Then, \n",
      "we apply PCA and show a linear combination of assets that has had the largest variation."
     ]
    },
    {
     "cell_type": "code",
     "collapsed": false,
     "input": [
      "%load_ext watermark\n",
      "\n",
      "%watermark -a 'Vahid Mirjalili' -d -p scikit-learn,numpy,numexpr,pandas,matplotlib,plotly -v\n",
      "\n"
     ],
     "language": "python",
     "metadata": {},
     "outputs": [
      {
       "output_type": "stream",
       "stream": "stdout",
       "text": [
        "Vahid Mirjalili 20/11/2014 \n",
        "\n",
        "CPython 2.7.3\n",
        "IPython 2.0.0\n",
        "\n",
        "scikit-learn 0.15.2\n",
        "numpy 1.9.0\n",
        "numexpr 2.2.2\n",
        "pandas 0.15.0\n",
        "matplotlib 1.4.0\n",
        "plotly 1.4.7\n"
       ]
      }
     ],
     "prompt_number": 1
    },
    {
     "cell_type": "code",
     "collapsed": false,
     "input": [
      "## Import the necessary modules\n",
      "\n",
      "import datetime\n",
      "import pandas as pd\n",
      "import pandas.io.data\n",
      "\n",
      "import sklearn\n",
      "\n",
      "from matplotlib import pyplot as plt\n",
      "import matplotlib.mlab as mlab\n",
      "import plotly.plotly as py\n",
      "\n",
      "py.sign_in('vmirjalily', 'u9ucwy3au5')\n",
      "\n",
      "%matplotlib inline"
     ],
     "language": "python",
     "metadata": {},
     "outputs": [],
     "prompt_number": 2
    },
    {
     "cell_type": "markdown",
     "metadata": {},
     "source": [
      "<a id=\"getdata\"> </a>\n",
      "## 2. Getting Stocks' Data\n",
      "\n",
      " * Extract data for 20 companies"
     ]
    },
    {
     "cell_type": "code",
     "collapsed": false,
     "input": [
      "mydict = {}\n",
      "for s in ['AAPL', 'MSFT', 'GE', 'AMZN', 'IBM', 'AOL', 'HP',\n",
      "               'YHOO', 'NFLX', 'MON', 'DOW', 'SBUX', 'GM', 'XRX',\n",
      "               'F', 'TSLA', 'BP', 'XOM', 'CVX', 'DDD']:\n",
      "#for s in ['MSFT', 'AAPL']:\n",
      "    d = pd.io.data.get_data_yahoo(s, \n",
      "                               start=datetime.datetime(2011, 1, 1), \n",
      "                               end=datetime.datetime.now())\n",
      "    mydict[s] = d['Adj Close']\n",
      "\n",
      "\n",
      "df = pd.DataFrame(mydict)\n",
      "print(df.shape)\n",
      "df.head()"
     ],
     "language": "python",
     "metadata": {},
     "outputs": [
      {
       "output_type": "stream",
       "stream": "stdout",
       "text": [
        "(979, 20)\n"
       ]
      },
      {
       "html": [
        "<div style=\"max-height:1000px;max-width:1500px;overflow:auto;\">\n",
        "<table border=\"1\" class=\"dataframe\">\n",
        "  <thead>\n",
        "    <tr style=\"text-align: right;\">\n",
        "      <th></th>\n",
        "      <th>AAPL</th>\n",
        "      <th>AMZN</th>\n",
        "      <th>AOL</th>\n",
        "      <th>BP</th>\n",
        "      <th>CVX</th>\n",
        "      <th>DDD</th>\n",
        "      <th>DOW</th>\n",
        "      <th>F</th>\n",
        "      <th>GE</th>\n",
        "      <th>GM</th>\n",
        "      <th>HP</th>\n",
        "      <th>IBM</th>\n",
        "      <th>MON</th>\n",
        "      <th>MSFT</th>\n",
        "      <th>NFLX</th>\n",
        "      <th>SBUX</th>\n",
        "      <th>TSLA</th>\n",
        "      <th>XOM</th>\n",
        "      <th>XRX</th>\n",
        "      <th>YHOO</th>\n",
        "    </tr>\n",
        "    <tr>\n",
        "      <th>Date</th>\n",
        "      <th></th>\n",
        "      <th></th>\n",
        "      <th></th>\n",
        "      <th></th>\n",
        "      <th></th>\n",
        "      <th></th>\n",
        "      <th></th>\n",
        "      <th></th>\n",
        "      <th></th>\n",
        "      <th></th>\n",
        "      <th></th>\n",
        "      <th></th>\n",
        "      <th></th>\n",
        "      <th></th>\n",
        "      <th></th>\n",
        "      <th></th>\n",
        "      <th></th>\n",
        "      <th></th>\n",
        "      <th></th>\n",
        "      <th></th>\n",
        "    </tr>\n",
        "  </thead>\n",
        "  <tbody>\n",
        "    <tr>\n",
        "      <th>2011-01-03</th>\n",
        "      <td> 44.59</td>\n",
        "      <td> 184.22</td>\n",
        "      <td> 20.52</td>\n",
        "      <td> 37.55</td>\n",
        "      <td> 80.60</td>\n",
        "      <td> 10.67</td>\n",
        "      <td> 30.89</td>\n",
        "      <td> 15.98</td>\n",
        "      <td> 16.08</td>\n",
        "      <td> 36.11</td>\n",
        "      <td> 46.34</td>\n",
        "      <td> 136.59</td>\n",
        "      <td> 64.65</td>\n",
        "      <td> 25.04</td>\n",
        "      <td> 178.41</td>\n",
        "      <td> 31.38</td>\n",
        "      <td> 26.62</td>\n",
        "      <td> 67.23</td>\n",
        "      <td> 10.79</td>\n",
        "      <td> 16.75</td>\n",
        "    </tr>\n",
        "    <tr>\n",
        "      <th>2011-01-04</th>\n",
        "      <td> 44.82</td>\n",
        "      <td> 185.01</td>\n",
        "      <td> 20.42</td>\n",
        "      <td> 38.48</td>\n",
        "      <td> 80.30</td>\n",
        "      <td> 10.24</td>\n",
        "      <td> 30.67</td>\n",
        "      <td> 16.10</td>\n",
        "      <td> 16.37</td>\n",
        "      <td> 36.93</td>\n",
        "      <td> 45.46</td>\n",
        "      <td> 136.74</td>\n",
        "      <td> 64.84</td>\n",
        "      <td> 25.14</td>\n",
        "      <td> 181.37</td>\n",
        "      <td> 30.66</td>\n",
        "      <td> 26.67</td>\n",
        "      <td> 67.54</td>\n",
        "      <td> 10.51</td>\n",
        "      <td> 16.59</td>\n",
        "    </tr>\n",
        "    <tr>\n",
        "      <th>2011-01-05</th>\n",
        "      <td> 45.18</td>\n",
        "      <td> 187.42</td>\n",
        "      <td> 20.43</td>\n",
        "      <td> 38.68</td>\n",
        "      <td> 80.16</td>\n",
        "      <td> 10.45</td>\n",
        "      <td> 30.62</td>\n",
        "      <td> 16.57</td>\n",
        "      <td> 16.40</td>\n",
        "      <td> 37.10</td>\n",
        "      <td> 46.51</td>\n",
        "      <td> 136.20</td>\n",
        "      <td> 65.16</td>\n",
        "      <td> 25.06</td>\n",
        "      <td> 179.73</td>\n",
        "      <td> 30.54</td>\n",
        "      <td> 26.83</td>\n",
        "      <td> 67.36</td>\n",
        "      <td> 10.56</td>\n",
        "      <td> 16.91</td>\n",
        "    </tr>\n",
        "    <tr>\n",
        "      <th>2011-01-06</th>\n",
        "      <td> 45.15</td>\n",
        "      <td> 185.86</td>\n",
        "      <td> 20.55</td>\n",
        "      <td> 38.45</td>\n",
        "      <td> 79.51</td>\n",
        "      <td> 10.08</td>\n",
        "      <td> 31.20</td>\n",
        "      <td> 16.88</td>\n",
        "      <td> 16.33</td>\n",
        "      <td> 37.91</td>\n",
        "      <td> 45.74</td>\n",
        "      <td> 137.69</td>\n",
        "      <td> 66.73</td>\n",
        "      <td> 25.79</td>\n",
        "      <td> 177.99</td>\n",
        "      <td> 30.17</td>\n",
        "      <td> 27.88</td>\n",
        "      <td> 67.80</td>\n",
        "      <td> 10.56</td>\n",
        "      <td> 17.06</td>\n",
        "    </tr>\n",
        "    <tr>\n",
        "      <th>2011-01-07</th>\n",
        "      <td> 45.47</td>\n",
        "      <td> 185.49</td>\n",
        "      <td> 20.35</td>\n",
        "      <td> 38.33</td>\n",
        "      <td> 79.94</td>\n",
        "      <td>  9.86</td>\n",
        "      <td> 30.84</td>\n",
        "      <td> 16.92</td>\n",
        "      <td> 16.21</td>\n",
        "      <td> 37.98</td>\n",
        "      <td> 46.20</td>\n",
        "      <td> 137.01</td>\n",
        "      <td> 67.67</td>\n",
        "      <td> 25.60</td>\n",
        "      <td> 179.30</td>\n",
        "      <td> 30.94</td>\n",
        "      <td> 28.24</td>\n",
        "      <td> 68.17</td>\n",
        "      <td> 10.42</td>\n",
        "      <td> 16.90</td>\n",
        "    </tr>\n",
        "  </tbody>\n",
        "</table>\n",
        "</div>"
       ],
       "metadata": {},
       "output_type": "pyout",
       "prompt_number": 3,
       "text": [
        "             AAPL    AMZN    AOL     BP    CVX    DDD    DOW      F     GE  \\\n",
        "Date                                                                         \n",
        "2011-01-03  44.59  184.22  20.52  37.55  80.60  10.67  30.89  15.98  16.08   \n",
        "2011-01-04  44.82  185.01  20.42  38.48  80.30  10.24  30.67  16.10  16.37   \n",
        "2011-01-05  45.18  187.42  20.43  38.68  80.16  10.45  30.62  16.57  16.40   \n",
        "2011-01-06  45.15  185.86  20.55  38.45  79.51  10.08  31.20  16.88  16.33   \n",
        "2011-01-07  45.47  185.49  20.35  38.33  79.94   9.86  30.84  16.92  16.21   \n",
        "\n",
        "               GM     HP     IBM    MON   MSFT    NFLX   SBUX   TSLA    XOM  \\\n",
        "Date                                                                          \n",
        "2011-01-03  36.11  46.34  136.59  64.65  25.04  178.41  31.38  26.62  67.23   \n",
        "2011-01-04  36.93  45.46  136.74  64.84  25.14  181.37  30.66  26.67  67.54   \n",
        "2011-01-05  37.10  46.51  136.20  65.16  25.06  179.73  30.54  26.83  67.36   \n",
        "2011-01-06  37.91  45.74  137.69  66.73  25.79  177.99  30.17  27.88  67.80   \n",
        "2011-01-07  37.98  46.20  137.01  67.67  25.60  179.30  30.94  28.24  68.17   \n",
        "\n",
        "              XRX   YHOO  \n",
        "Date                      \n",
        "2011-01-03  10.79  16.75  \n",
        "2011-01-04  10.51  16.59  \n",
        "2011-01-05  10.56  16.91  \n",
        "2011-01-06  10.56  17.06  \n",
        "2011-01-07  10.42  16.90  "
       ]
      }
     ],
     "prompt_number": 3
    },
    {
     "cell_type": "markdown",
     "metadata": {},
     "source": [
      "<a id=\"avgprice\"> </a>\n",
      "## 3. How the average price changes over time?"
     ]
    },
    {
     "cell_type": "code",
     "collapsed": false,
     "input": [
      "\n",
      "\n",
      "dfmean = df.mean(axis=1)\n",
      "dfmean_mavg = pd.rolling_mean(dfmean, 50)\n",
      "\n",
      "\n",
      "#dfmean.plot(linewidth=1.5, label='Mean of 20')\n",
      "#dfmean_mavg.plot(linewidth=3, label='Moving Avg.')\n",
      "#plt.legend(loc=2)\n",
      "\n",
      "l1 = plt.plot(dfmean, '--')\n",
      "\n",
      "mpl_fig1 = plt.figure()\n",
      "\n",
      "py.iplot_mpl(mpl_fig1, filename='avg-price.20stocks')"
     ],
     "language": "python",
     "metadata": {},
     "outputs": [
      {
       "ename": "ValueError",
       "evalue": "min() arg is an empty sequence",
       "output_type": "pyerr",
       "traceback": [
        "\u001b[1;31m---------------------------------------------------------------------------\u001b[0m\n\u001b[1;31mValueError\u001b[0m                                Traceback (most recent call last)",
        "\u001b[1;32m<ipython-input-6-f6666be845dd>\u001b[0m in \u001b[0;36m<module>\u001b[1;34m()\u001b[0m\n\u001b[0;32m     13\u001b[0m \u001b[0mmpl_fig1\u001b[0m \u001b[1;33m=\u001b[0m \u001b[0mplt\u001b[0m\u001b[1;33m.\u001b[0m\u001b[0mfigure\u001b[0m\u001b[1;33m(\u001b[0m\u001b[1;33m)\u001b[0m\u001b[1;33m\u001b[0m\u001b[0m\n\u001b[0;32m     14\u001b[0m \u001b[1;33m\u001b[0m\u001b[0m\n\u001b[1;32m---> 15\u001b[1;33m \u001b[0mpy\u001b[0m\u001b[1;33m.\u001b[0m\u001b[0miplot_mpl\u001b[0m\u001b[1;33m(\u001b[0m\u001b[0mmpl_fig1\u001b[0m\u001b[1;33m,\u001b[0m \u001b[0mfilename\u001b[0m\u001b[1;33m=\u001b[0m\u001b[1;34m'avg-price.20stocks'\u001b[0m\u001b[1;33m)\u001b[0m\u001b[1;33m\u001b[0m\u001b[0m\n\u001b[0m",
        "\u001b[1;32m/usr/local/lib/python2.7/dist-packages/plotly/plotly/plotly.pyc\u001b[0m in \u001b[0;36miplot_mpl\u001b[1;34m(fig, resize, strip_style, update, **plot_options)\u001b[0m\n\u001b[0;32m    243\u001b[0m \u001b[1;33m\u001b[0m\u001b[0m\n\u001b[0;32m    244\u001b[0m     \"\"\"\n\u001b[1;32m--> 245\u001b[1;33m     \u001b[0mfig\u001b[0m \u001b[1;33m=\u001b[0m \u001b[0mtools\u001b[0m\u001b[1;33m.\u001b[0m\u001b[0mmpl_to_plotly\u001b[0m\u001b[1;33m(\u001b[0m\u001b[0mfig\u001b[0m\u001b[1;33m,\u001b[0m \u001b[0mresize\u001b[0m\u001b[1;33m=\u001b[0m\u001b[0mresize\u001b[0m\u001b[1;33m,\u001b[0m \u001b[0mstrip_style\u001b[0m\u001b[1;33m=\u001b[0m\u001b[0mstrip_style\u001b[0m\u001b[1;33m)\u001b[0m\u001b[1;33m\u001b[0m\u001b[0m\n\u001b[0m\u001b[0;32m    246\u001b[0m     \u001b[1;32mif\u001b[0m \u001b[0mupdate\u001b[0m \u001b[1;32mand\u001b[0m \u001b[0misinstance\u001b[0m\u001b[1;33m(\u001b[0m\u001b[0mupdate\u001b[0m\u001b[1;33m,\u001b[0m \u001b[0mdict\u001b[0m\u001b[1;33m)\u001b[0m\u001b[1;33m:\u001b[0m\u001b[1;33m\u001b[0m\u001b[0m\n\u001b[0;32m    247\u001b[0m         \u001b[1;32mtry\u001b[0m\u001b[1;33m:\u001b[0m\u001b[1;33m\u001b[0m\u001b[0m\n",
        "\u001b[1;32m/usr/local/lib/python2.7/dist-packages/plotly/tools.pyc\u001b[0m in \u001b[0;36mmpl_to_plotly\u001b[1;34m(fig, resize, strip_style, verbose)\u001b[0m\n\u001b[0;32m    369\u001b[0m     \u001b[1;32mif\u001b[0m \u001b[0m_matplotlylib_imported\u001b[0m\u001b[1;33m:\u001b[0m\u001b[1;33m\u001b[0m\u001b[0m\n\u001b[0;32m    370\u001b[0m         \u001b[0mrenderer\u001b[0m \u001b[1;33m=\u001b[0m \u001b[0mmatplotlylib\u001b[0m\u001b[1;33m.\u001b[0m\u001b[0mPlotlyRenderer\u001b[0m\u001b[1;33m(\u001b[0m\u001b[1;33m)\u001b[0m\u001b[1;33m\u001b[0m\u001b[0m\n\u001b[1;32m--> 371\u001b[1;33m         \u001b[0mmatplotlylib\u001b[0m\u001b[1;33m.\u001b[0m\u001b[0mExporter\u001b[0m\u001b[1;33m(\u001b[0m\u001b[0mrenderer\u001b[0m\u001b[1;33m)\u001b[0m\u001b[1;33m.\u001b[0m\u001b[0mrun\u001b[0m\u001b[1;33m(\u001b[0m\u001b[0mfig\u001b[0m\u001b[1;33m)\u001b[0m\u001b[1;33m\u001b[0m\u001b[0m\n\u001b[0m\u001b[0;32m    372\u001b[0m         \u001b[1;32mif\u001b[0m \u001b[0mresize\u001b[0m\u001b[1;33m:\u001b[0m\u001b[1;33m\u001b[0m\u001b[0m\n\u001b[0;32m    373\u001b[0m             \u001b[0mrenderer\u001b[0m\u001b[1;33m.\u001b[0m\u001b[0mresize\u001b[0m\u001b[1;33m(\u001b[0m\u001b[1;33m)\u001b[0m\u001b[1;33m\u001b[0m\u001b[0m\n",
        "\u001b[1;32m/usr/local/lib/python2.7/dist-packages/plotly/matplotlylib/mplexporter/exporter.pyc\u001b[0m in \u001b[0;36mrun\u001b[1;34m(self, fig)\u001b[0m\n\u001b[0;32m     47\u001b[0m             \u001b[1;32mimport\u001b[0m \u001b[0mmatplotlib\u001b[0m\u001b[1;33m.\u001b[0m\u001b[0mpyplot\u001b[0m \u001b[1;32mas\u001b[0m \u001b[0mplt\u001b[0m\u001b[1;33m\u001b[0m\u001b[0m\n\u001b[0;32m     48\u001b[0m             \u001b[0mplt\u001b[0m\u001b[1;33m.\u001b[0m\u001b[0mclose\u001b[0m\u001b[1;33m(\u001b[0m\u001b[0mfig\u001b[0m\u001b[1;33m)\u001b[0m\u001b[1;33m\u001b[0m\u001b[0m\n\u001b[1;32m---> 49\u001b[1;33m         \u001b[0mself\u001b[0m\u001b[1;33m.\u001b[0m\u001b[0mcrawl_fig\u001b[0m\u001b[1;33m(\u001b[0m\u001b[0mfig\u001b[0m\u001b[1;33m)\u001b[0m\u001b[1;33m\u001b[0m\u001b[0m\n\u001b[0m\u001b[0;32m     50\u001b[0m \u001b[1;33m\u001b[0m\u001b[0m\n\u001b[0;32m     51\u001b[0m     \u001b[1;33m@\u001b[0m\u001b[0mstaticmethod\u001b[0m\u001b[1;33m\u001b[0m\u001b[0m\n",
        "\u001b[1;32m/usr/local/lib/python2.7/dist-packages/plotly/matplotlylib/mplexporter/exporter.pyc\u001b[0m in \u001b[0;36mcrawl_fig\u001b[1;34m(self, fig)\u001b[0m\n\u001b[0;32m    112\u001b[0m         \u001b[1;34m\"\"\"Crawl the figure and process all axes\"\"\"\u001b[0m\u001b[1;33m\u001b[0m\u001b[0m\n\u001b[0;32m    113\u001b[0m         with self.renderer.draw_figure(fig=fig,\n\u001b[1;32m--> 114\u001b[1;33m                                        props=utils.get_figure_properties(fig)):\n\u001b[0m\u001b[0;32m    115\u001b[0m             \u001b[1;32mfor\u001b[0m \u001b[0max\u001b[0m \u001b[1;32min\u001b[0m \u001b[0mfig\u001b[0m\u001b[1;33m.\u001b[0m\u001b[0maxes\u001b[0m\u001b[1;33m:\u001b[0m\u001b[1;33m\u001b[0m\u001b[0m\n\u001b[0;32m    116\u001b[0m                 \u001b[0mself\u001b[0m\u001b[1;33m.\u001b[0m\u001b[0mcrawl_ax\u001b[0m\u001b[1;33m(\u001b[0m\u001b[0max\u001b[0m\u001b[1;33m)\u001b[0m\u001b[1;33m\u001b[0m\u001b[0m\n",
        "\u001b[1;32m/usr/lib/python2.7/contextlib.pyc\u001b[0m in \u001b[0;36m__enter__\u001b[1;34m(self)\u001b[0m\n\u001b[0;32m     15\u001b[0m     \u001b[1;32mdef\u001b[0m \u001b[0m__enter__\u001b[0m\u001b[1;33m(\u001b[0m\u001b[0mself\u001b[0m\u001b[1;33m)\u001b[0m\u001b[1;33m:\u001b[0m\u001b[1;33m\u001b[0m\u001b[0m\n\u001b[0;32m     16\u001b[0m         \u001b[1;32mtry\u001b[0m\u001b[1;33m:\u001b[0m\u001b[1;33m\u001b[0m\u001b[0m\n\u001b[1;32m---> 17\u001b[1;33m             \u001b[1;32mreturn\u001b[0m \u001b[0mself\u001b[0m\u001b[1;33m.\u001b[0m\u001b[0mgen\u001b[0m\u001b[1;33m.\u001b[0m\u001b[0mnext\u001b[0m\u001b[1;33m(\u001b[0m\u001b[1;33m)\u001b[0m\u001b[1;33m\u001b[0m\u001b[0m\n\u001b[0m\u001b[0;32m     18\u001b[0m         \u001b[1;32mexcept\u001b[0m \u001b[0mStopIteration\u001b[0m\u001b[1;33m:\u001b[0m\u001b[1;33m\u001b[0m\u001b[0m\n\u001b[0;32m     19\u001b[0m             \u001b[1;32mraise\u001b[0m \u001b[0mRuntimeError\u001b[0m\u001b[1;33m(\u001b[0m\u001b[1;34m\"generator didn't yield\"\u001b[0m\u001b[1;33m)\u001b[0m\u001b[1;33m\u001b[0m\u001b[0m\n",
        "\u001b[1;32m/usr/local/lib/python2.7/dist-packages/plotly/matplotlylib/mplexporter/renderers/base.pyc\u001b[0m in \u001b[0;36mdraw_figure\u001b[1;34m(self, fig, props)\u001b[0m\n\u001b[0;32m     41\u001b[0m         \u001b[0mself\u001b[0m\u001b[1;33m.\u001b[0m\u001b[0m_current_fig\u001b[0m \u001b[1;33m=\u001b[0m \u001b[0mfig\u001b[0m\u001b[1;33m\u001b[0m\u001b[0m\n\u001b[0;32m     42\u001b[0m         \u001b[0mself\u001b[0m\u001b[1;33m.\u001b[0m\u001b[0m_fig_props\u001b[0m \u001b[1;33m=\u001b[0m \u001b[0mprops\u001b[0m\u001b[1;33m\u001b[0m\u001b[0m\n\u001b[1;32m---> 43\u001b[1;33m         \u001b[0mself\u001b[0m\u001b[1;33m.\u001b[0m\u001b[0mopen_figure\u001b[0m\u001b[1;33m(\u001b[0m\u001b[0mfig\u001b[0m\u001b[1;33m=\u001b[0m\u001b[0mfig\u001b[0m\u001b[1;33m,\u001b[0m \u001b[0mprops\u001b[0m\u001b[1;33m=\u001b[0m\u001b[0mprops\u001b[0m\u001b[1;33m)\u001b[0m\u001b[1;33m\u001b[0m\u001b[0m\n\u001b[0m\u001b[0;32m     44\u001b[0m         \u001b[1;32myield\u001b[0m\u001b[1;33m\u001b[0m\u001b[0m\n\u001b[0;32m     45\u001b[0m         \u001b[0mself\u001b[0m\u001b[1;33m.\u001b[0m\u001b[0mclose_figure\u001b[0m\u001b[1;33m(\u001b[0m\u001b[0mfig\u001b[0m\u001b[1;33m=\u001b[0m\u001b[0mfig\u001b[0m\u001b[1;33m)\u001b[0m\u001b[1;33m\u001b[0m\u001b[0m\n",
        "\u001b[1;32m/usr/local/lib/python2.7/dist-packages/plotly/matplotlylib/renderer.pyc\u001b[0m in \u001b[0;36mopen_figure\u001b[1;34m(self, fig, props)\u001b[0m\n\u001b[0;32m     83\u001b[0m             \u001b[0mautosize\u001b[0m\u001b[1;33m=\u001b[0m\u001b[0mFalse\u001b[0m\u001b[1;33m,\u001b[0m\u001b[1;33m\u001b[0m\u001b[0m\n\u001b[0;32m     84\u001b[0m             hovermode='closest')\n\u001b[1;32m---> 85\u001b[1;33m         \u001b[0mself\u001b[0m\u001b[1;33m.\u001b[0m\u001b[0mmpl_x_bounds\u001b[0m\u001b[1;33m,\u001b[0m \u001b[0mself\u001b[0m\u001b[1;33m.\u001b[0m\u001b[0mmpl_y_bounds\u001b[0m \u001b[1;33m=\u001b[0m \u001b[0mmpltools\u001b[0m\u001b[1;33m.\u001b[0m\u001b[0mget_axes_bounds\u001b[0m\u001b[1;33m(\u001b[0m\u001b[0mfig\u001b[0m\u001b[1;33m)\u001b[0m\u001b[1;33m\u001b[0m\u001b[0m\n\u001b[0m\u001b[0;32m     86\u001b[0m         margin = go.Margin(\n\u001b[0;32m     87\u001b[0m             \u001b[0ml\u001b[0m\u001b[1;33m=\u001b[0m\u001b[0mint\u001b[0m\u001b[1;33m(\u001b[0m\u001b[0mself\u001b[0m\u001b[1;33m.\u001b[0m\u001b[0mmpl_x_bounds\u001b[0m\u001b[1;33m[\u001b[0m\u001b[1;36m0\u001b[0m\u001b[1;33m]\u001b[0m \u001b[1;33m*\u001b[0m \u001b[0mself\u001b[0m\u001b[1;33m.\u001b[0m\u001b[0mplotly_fig\u001b[0m\u001b[1;33m[\u001b[0m\u001b[1;34m'layout'\u001b[0m\u001b[1;33m]\u001b[0m\u001b[1;33m[\u001b[0m\u001b[1;34m'width'\u001b[0m\u001b[1;33m]\u001b[0m\u001b[1;33m)\u001b[0m\u001b[1;33m,\u001b[0m\u001b[1;33m\u001b[0m\u001b[0m\n",
        "\u001b[1;32m/usr/local/lib/python2.7/dist-packages/plotly/matplotlylib/mpltools.pyc\u001b[0m in \u001b[0;36mget_axes_bounds\u001b[1;34m(fig)\u001b[0m\n\u001b[0;32m    204\u001b[0m         \u001b[0my_min\u001b[0m\u001b[1;33m.\u001b[0m\u001b[0mappend\u001b[0m\u001b[1;33m(\u001b[0m\u001b[0mbounds\u001b[0m\u001b[1;33m[\u001b[0m\u001b[1;36m1\u001b[0m\u001b[1;33m]\u001b[0m\u001b[1;33m)\u001b[0m\u001b[1;33m\u001b[0m\u001b[0m\n\u001b[0;32m    205\u001b[0m         \u001b[0my_max\u001b[0m\u001b[1;33m.\u001b[0m\u001b[0mappend\u001b[0m\u001b[1;33m(\u001b[0m\u001b[0mbounds\u001b[0m\u001b[1;33m[\u001b[0m\u001b[1;36m1\u001b[0m\u001b[1;33m]\u001b[0m\u001b[1;33m+\u001b[0m\u001b[0mbounds\u001b[0m\u001b[1;33m[\u001b[0m\u001b[1;36m3\u001b[0m\u001b[1;33m]\u001b[0m\u001b[1;33m)\u001b[0m\u001b[1;33m\u001b[0m\u001b[0m\n\u001b[1;32m--> 206\u001b[1;33m     \u001b[0mx_min\u001b[0m\u001b[1;33m,\u001b[0m \u001b[0my_min\u001b[0m\u001b[1;33m,\u001b[0m \u001b[0mx_max\u001b[0m\u001b[1;33m,\u001b[0m \u001b[0my_max\u001b[0m \u001b[1;33m=\u001b[0m \u001b[0mmin\u001b[0m\u001b[1;33m(\u001b[0m\u001b[0mx_min\u001b[0m\u001b[1;33m)\u001b[0m\u001b[1;33m,\u001b[0m \u001b[0mmin\u001b[0m\u001b[1;33m(\u001b[0m\u001b[0my_min\u001b[0m\u001b[1;33m)\u001b[0m\u001b[1;33m,\u001b[0m \u001b[0mmax\u001b[0m\u001b[1;33m(\u001b[0m\u001b[0mx_max\u001b[0m\u001b[1;33m)\u001b[0m\u001b[1;33m,\u001b[0m \u001b[0mmax\u001b[0m\u001b[1;33m(\u001b[0m\u001b[0my_max\u001b[0m\u001b[1;33m)\u001b[0m\u001b[1;33m\u001b[0m\u001b[0m\n\u001b[0m\u001b[0;32m    207\u001b[0m     \u001b[1;32mreturn\u001b[0m \u001b[1;33m(\u001b[0m\u001b[0mx_min\u001b[0m\u001b[1;33m,\u001b[0m \u001b[0mx_max\u001b[0m\u001b[1;33m)\u001b[0m\u001b[1;33m,\u001b[0m \u001b[1;33m(\u001b[0m\u001b[0my_min\u001b[0m\u001b[1;33m,\u001b[0m \u001b[0my_max\u001b[0m\u001b[1;33m)\u001b[0m\u001b[1;33m\u001b[0m\u001b[0m\n\u001b[0;32m    208\u001b[0m \u001b[1;33m\u001b[0m\u001b[0m\n",
        "\u001b[1;31mValueError\u001b[0m: min() arg is an empty sequence"
       ]
      },
      {
       "metadata": {},
       "output_type": "display_data",
       "png": "[encoded data removed]",
       "text": [
        "<matplotlib.figure.Figure at 0x38fa1d0>"
       ]
      }
     ],
     "prompt_number": 6
    },
    {
     "cell_type": "markdown",
     "metadata": {},
     "source": [
      "<a id=\"apply-pca\"></a>\n",
      "## 4. Applying PCA on stock proces"
     ]
    },
    {
     "cell_type": "code",
     "collapsed": false,
     "input": [
      "df_centr = df - df.mean(axis=0)\n",
      "\n",
      "import sklearn.decomposition\n",
      "pca = sklearn.decomposition.PCA(n_components=2, copy=True, whiten=False)\n",
      "\n",
      "df_tr = pca.fit_transform(df_centr)\n",
      "\n",
      "df_tr = pd.DataFrame(df_tr, index=df.index, columns=['PC1', 'PC2'])"
     ],
     "language": "python",
     "metadata": {},
     "outputs": [],
     "prompt_number": 6
    },
    {
     "cell_type": "code",
     "collapsed": false,
     "input": [
      "\n",
      "\n",
      "df_tr.head()\n",
      "df_tr['PC1'].plot(linewidth=2, label='PC1')\n",
      "df_tr['PC2'].plot(linewidth=2, label='PC2')\n",
      "plt.legend(loc=2)"
     ],
     "language": "python",
     "metadata": {},
     "outputs": [
      {
       "metadata": {},
       "output_type": "pyout",
       "prompt_number": 7,
       "text": [
        "<matplotlib.legend.Legend at 0x597a710>"
       ]
      },
      {
       "metadata": {},
       "output_type": "display_data",
       "png": "[encoded data removed]",
       "text": [
        "<matplotlib.figure.Figure at 0x69fd350>"
       ]
      }
     ],
     "prompt_number": 7
    },
    {
     "cell_type": "markdown",
     "metadata": {},
     "source": [
      "<a id=\"interepret\"></a>\n",
      "### Interpretation of PCA results\n",
      "\n",
      "The result of PC1 essentially shows a portfolio from the given 20 companies that have the highest variation. Note that we also analyzed the mean of all 20 companies earliey, and the mean was varying from minimum 50\\$ to maximum of 110\\$ (120% return). Now, if a portfolio was made by the first principal component shown above on beginning of 2012, it would yield the highest return ove the course of 2.5 years."
     ]
    },
    {
     "cell_type": "markdown",
     "metadata": {},
     "source": [
      "<a id=\"xtract-ws\"> </a>\n",
      "## 5. Extracting the Portfolio Weights from PCA\n",
      "\n",
      "So, we already got the first two principal components using scikit-learn package. "
     ]
    },
    {
     "cell_type": "code",
     "collapsed": false,
     "input": [
      "eig_vec = pca.components_\n",
      "\n",
      "print(pca.explained_variance_ratio_)\n",
      "\n",
      "print(eig_vec)\n",
      "\n",
      "type(eig_vec)"
     ],
     "language": "python",
     "metadata": {},
     "outputs": [
      {
       "output_type": "stream",
       "stream": "stdout",
       "text": [
        "[ 0.87586093  0.08200997]\n",
        "[[ 0.04779947  0.32481624  0.05321078  0.02277629  0.06047266  0.10258336\n",
        "   0.0497251   0.01350537  0.02031345  0.02867158  0.11417045  0.00708518\n",
        "   0.09431621  0.03677185  0.7739731   0.07817599  0.48692638  0.0441792\n",
        "   0.01163951  0.05591314]\n",
        " [ 0.18749395  0.61356159  0.11545183  0.01080135  0.12054404  0.19296692\n",
        "   0.00363207 -0.00670715  0.03189763 -0.01470637 -0.00887394  0.22148653\n",
        "   0.18328681  0.04131988 -0.55494924  0.1623366   0.30612849  0.08287906\n",
        "  -0.00791942  0.04978791]]\n"
       ]
      },
      {
       "metadata": {},
       "output_type": "pyout",
       "prompt_number": 13,
       "text": [
        "numpy.ndarray"
       ]
      }
     ],
     "prompt_number": 13
    },
    {
     "cell_type": "markdown",
     "metadata": {},
     "source": [
      "\n",
      ", we will implement the PCA step-by-step. \n",
      "\n",
      "Given a dataset represented by matrix $X$ with $n$ features (columns) and $m$ objects (rows), we compute the covariance matrix as follows:\n",
      "\n",
      "$$\\Sigma = $$"
     ]
    }
   ],
   "metadata": {}
  }
 ]
}