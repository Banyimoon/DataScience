{
 "cells": [
  {
   "cell_type": "markdown",
   "metadata": {},
   "source": [
    "AVL Trees\n",
    "===\n",
    "\n",
    "What we have learned so far:\n",
    " * BSTs store ordered data linearly\n",
    " * BST best case: $\\Theta(\\ln(n))$\n",
    " * BST worst case: $\\Theta(n)$"
   ]
  },
  {
   "cell_type": "markdown",
   "metadata": {},
   "source": [
    "Given an unlanaced BST, we can apply a set of rotations to balance the tree.\n",
    "\n",
    "Left heavy tree\n",
    "Right heavy tree\n",
    "\n",
    "### Find the height of a node\n",
    "\n",
    "$$\\max(h_L,h_R) + 1$$\n",
    "\n",
    "**Height of a tree** is the height of the root node."
   ]
  },
  {
   "cell_type": "markdown",
   "metadata": {},
   "source": [
    "### Definition: AVL tree\n",
    "\n",
    "A BST is called to be AVL if \n",
    " - the difference of left and right subtrees $|h_R - h_L| \\le 1$ \n",
    " - the"
   ]
  },
  {
   "cell_type": "markdown",
   "metadata": {},
   "source": [
    "\n",
    " * Upper bound of perfect binary tree\n",
    " * Lower bound\n",
    "\n",
    "The behaviour of the lowest bound is actually a Fibonacci sequenc4 of numbers:\n",
    " * Worst case AVL tree \n",
    " * \n",
    " * $$F(h) = F(h-1) + F(h-2) + 1$$\n",
    " \n",
    "Approximate value: $F(h) \\approx 1.8944 \\phi ^h - 1$ where $\\phi\\approx 1.6180$"
   ]
  },
  {
   "cell_type": "markdown",
   "metadata": {},
   "source": [
    "```c++\n",
    "template<typename Type>\n",
    "int AVL_node<Type>::height() const {\n",
    "    return empty() ? -1 : ;\n",
    "}\n",
    "```"
   ]
  },
  {
   "cell_type": "code",
   "execution_count": null,
   "metadata": {
    "collapsed": true
   },
   "outputs": [],
   "source": []
  }
 ],
 "metadata": {
  "kernelspec": {
   "display_name": "Python 3",
   "language": "python",
   "name": "python3"
  },
  "language_info": {
   "codemirror_mode": {
    "name": "ipython",
    "version": 3
   },
   "file_extension": ".py",
   "mimetype": "text/x-python",
   "name": "python",
   "nbconvert_exporter": "python",
   "pygments_lexer": "ipython3",
   "version": "3.5.1"
  }
 },
 "nbformat": 4,
 "nbformat_minor": 0
}
