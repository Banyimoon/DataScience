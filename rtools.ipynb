{
 "metadata": {
  "name": "",
  "signature": "sha256:407448fd2d7f18645535feb4f98e44b04a3737f27e2ff4d02a7e8988267ed0e9"
 },
 "nbformat": 3,
 "nbformat_minor": 0,
 "worksheets": [
  {
   "cells": [
    {
     "cell_type": "markdown",
     "metadata": {},
     "source": [
      "## Object classes in R:\n",
      "\n",
      "* charcater\n",
      "* numeric\n",
      "* integer (L)\n",
      "* complex\n",
      "* logical (True/False)\n",
      "\n",
      "<b> Special numbers </b> Inf and NaN: 1/0 = Inf  and 1/Inf = 0;  0/0=NaN\n",
      "\n",
      "## Object attributes:\n",
      "\n",
      "* names, dimnames\n",
      "* dimensions (for matrices and arrays)\n",
      "* class\n",
      "* length\n",
      "* Other user defined attributes\n",
      "\n",
      "<b> attributes() </b> to get list of attributes of an object\n",
      "\n",
      "## Creating vectors\n",
      "\n",
      "* vector() :  to create an empty vector\n",
      "* vector(\"numeric\", length=10)\n",
      "* c('a', 'b')  : to concatenate multiple objects into a single vector\n",
      "* Mixing objects from different classes: c(1.5, 'a') : coercion\n",
      "\n",
      "## Explicit coercion\n",
      "\n",
      "* as.character()\n",
      "* as.numeric()\n",
      "* as.logical()"
     ]
    },
    {
     "cell_type": "code",
     "collapsed": false,
     "input": [
      "x <- 0:6\n",
      "print(x)\n",
      "print(as.logical(x))"
     ],
     "language": "python",
     "metadata": {},
     "outputs": [
      {
       "output_type": "stream",
       "stream": "stdout",
       "text": [
        "[1] 0 1 2 3 4 5 6\n"
       ]
      },
      {
       "output_type": "stream",
       "stream": "stdout",
       "text": [
        "[1] FALSE  TRUE  TRUE  TRUE  TRUE  TRUE  TRUE\n"
       ]
      }
     ],
     "prompt_number": 4
    },
    {
     "cell_type": "code",
     "collapsed": false,
     "input": [
      "\n",
      "con <- url(\"http://www.jhsph.edu\", \"r\")\n",
      "\n",
      "x <- readLines(con)\n",
      "\n",
      "head(x)"
     ],
     "language": "python",
     "metadata": {},
     "outputs": [],
     "prompt_number": 2
    },
    {
     "cell_type": "code",
     "collapsed": false,
     "input": [
      "ucscDb <- dbConnect(MySQL(), user=\"genome\", host=\"genome-mysql.cse.ucsc.edu\")\n",
      "result <- dbGetQuery(ucscDb, \"show databases;\")\n",
      "dbDisconnect(ucscDb)\n",
      "result"
     ],
     "language": "python",
     "metadata": {},
     "outputs": [],
     "prompt_number": 3
    },
    {
     "cell_type": "markdown",
     "metadata": {},
     "source": [
      "<h3> Merging data - merge() </h3>\n"
     ]
    },
    {
     "cell_type": "code",
     "collapsed": false,
     "input": [
      "mergedData <- merge(reviews, solutions, by.x=\"solution_id\", by.y=\"id\",\n",
      "                    all=T)\n",
      "\n"
     ],
     "language": "python",
     "metadata": {},
     "outputs": []
    }
   ],
   "metadata": {}
  }
 ]
}