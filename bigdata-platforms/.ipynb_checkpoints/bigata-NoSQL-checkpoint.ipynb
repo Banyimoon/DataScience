{
 "cells": [
  {
   "cell_type": "markdown",
   "metadata": {},
   "source": [
    "NoSQL (Not Only SQL)\n",
    "=="
   ]
  },
  {
   "cell_type": "markdown",
   "metadata": {},
   "source": [
    "NoSQL stores data in distribued machines.\n",
    "\n",
    "#### Replication Model:\n",
    " * **Master-slave replication**\n",
    "     one copy is a master copy, all writes are applied to master copy, read is done through slave nodes, no gaurantee that their values are up-to-date.\n",
    " * **Master-master replication** allows reads/writes at any of the replicas.\n",
    " \n",
    "#### Sharding\n",
    " Split a file and distribute into multiple nodes to distribute the load of accessing the file m=by multiple users\n",
    " \n",
    "Sharding + replication of shards help load balancing and data availablity."
   ]
  },
  {
   "cell_type": "markdown",
   "metadata": {},
   "source": [
    "## Types of NoSQL Systems\n",
    "\n",
    " * **Documennt-based** store data using well-known formats like JSON. E.g. MongoDB\n",
    " * **Key-value systems** Use ley-value paris for fast access. E.g. Amazon's DynamoDB, Facebook's Cassandra\n",
    " * **Column-based** Partitiona columns into column families, each family stored in its own file. E.g. Google's BigTable\n",
    " * **Gaph-based** data represented as graph. E.g. GraphBase"
   ]
  },
  {
   "cell_type": "markdown",
   "metadata": {},
   "source": [
    "## MongoDB\n",
    "\n",
    " * storing data in binary JSON (BSON) format\n",
    " * to create a collection of documents \n",
    "\n",
    "```\n",
    "db.createCollection(name, collection_options)\n",
    "```\n",
    "\n",
    "##### Example:\n",
    "```\n",
    "db.createCollection(\"posts\", {capped:true, size:1310720, max:500})\n",
    "```\n",
    "\n",
    "### MongoDB CRUD operations\n",
    "\n",
    " * **Create** create a document to be inserted into a collection:\n",
    " `db.<collection_name>.insert(<documents>)`\n",
    " * **Read** find a document in a collection:\n",
    " `db.<collection_name>.find(<condtion>)`\n",
    " * **Update** update a document:\n",
    " `db.<collection_name>.update(<documents>)`\n",
    " * **Delete** remove a document from a collection: \n",
    " `db.<collection_name>.remove(<condition>)`"
   ]
  },
  {
   "cell_type": "markdown",
   "metadata": {},
   "source": [
    "### MongoDB in action\n",
    "\n",
    "Download MongoDB at https://www.mongodb.com/lp/download\n",
    "\n",
    " * Create a directory to store the files\n",
    "```\n",
    " mkdir <direcory-name>\n",
    "```\n",
    " * Launch the server\n",
    "```\n",
    " mongodb --dbpath <directory-name>\n",
    "```\n",
    "* Launch the client\n",
    "```\n",
    " mongo\n",
    "```\n",
    "\n",
    "#### Useful commands\n",
    "\n",
    " * `db`\n",
    " * `show dbs`\n",
    " * `use <db-name>`\n",
    " * `show collections`\n",
    " \n",
    "##### Example\n",
    "```\n",
    "> db.createCollection(\"employees\", {'capped':true, size=10000, mX:50})\n",
    "\n",
    "> show collections\n",
    "\n",
    "> db.movies.insert({Name:'Alex', Age:37, City:'Detroit', Department: 'IT'})\n",
    "\n",
    "> db.movies.insert({Name:'Bob', Age:25, City:'Detroit', Department: 'HR', Marital_status: 'Single'})\n",
    "\n",
    "> db.movies.insert({Name:'John', Age:32, City:'An Arbor', Department: 'IT'})\n",
    "\n",
    "```\n",
    "\n",
    "Find records\n",
    "```\n",
    "> db.employees.find({City: 'Ann Arbor'})\n",
    "\n",
    "> db.employees.find({Marital_status: {$exists: true}})\n",
    "```\n",
    "\n",
    "### Query logical operators\n",
    " * `$eq` and `$ne`\n",
    " * `$gt` and `$gte`\n",
    " * `$lt` and `$lte`\n",
    " * `$in` and `$nin`\n",
    " * `$or` and `$and`\n",
    " * `$not` and `$nor`\n",
    " * `$exists`"
   ]
  },
  {
   "cell_type": "code",
   "execution_count": null,
   "metadata": {
    "collapsed": true
   },
   "outputs": [],
   "source": []
  }
 ],
 "metadata": {
  "kernelspec": {
   "display_name": "Python 3",
   "language": "python",
   "name": "python3"
  },
  "language_info": {
   "codemirror_mode": {
    "name": "ipython",
    "version": 3
   },
   "file_extension": ".py",
   "mimetype": "text/x-python",
   "name": "python",
   "nbconvert_exporter": "python",
   "pygments_lexer": "ipython3",
   "version": "3.5.1"
  }
 },
 "nbformat": 4,
 "nbformat_minor": 0
}
