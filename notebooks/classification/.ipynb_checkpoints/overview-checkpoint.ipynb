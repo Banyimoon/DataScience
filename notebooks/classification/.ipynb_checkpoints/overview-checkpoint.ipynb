{
 "cells": [
  {
   "cell_type": "markdown",
   "metadata": {},
   "source": [
    "* What is a model?  \n",
    " a summarized representation of the training data\n",
    " \n",
    " \n",
    "### Base classifiers\n",
    " * Bayes\n",
    "\n",
    "### Ensemble classifiers\n",
    "\n",
    "\n",
    "* Nearest-neighbor classifier does not generate a model."
   ]
  },
  {
   "cell_type": "markdown",
   "metadata": {
    "collapsed": true
   },
   "source": [
    "## Considerations\n",
    "\n",
    " * Qualiticative attributes\n",
    " \n"
   ]
  },
  {
   "cell_type": "markdown",
   "metadata": {},
   "source": [
    "## Practical issues\n",
    "\n",
    " * **Imbalanced class distributions**\n",
    "   * $99%$ of all instances are from negative class\n",
    "   * Stratification\n",
    "     * undersample the larger class\n",
    "     * oversample the smaller class\n",
    "   * Other approches\n",
    "     * Assign higher penalty to mispredicting instances from smaller class \n",
    "     * Generate more data by purtutbing smaller class"
   ]
  },
  {
   "cell_type": "markdown",
   "metadata": {},
   "source": [
    "## Approches for big-data\n",
    "\n",
    " * Randomly sample a subset of the data\n",
    " * Repeat the sampling $B$ times\n",
    " * Combine the classifiers "
   ]
  },
  {
   "cell_type": "code",
   "execution_count": null,
   "metadata": {
    "collapsed": true
   },
   "outputs": [],
   "source": []
  }
 ],
 "metadata": {
  "kernelspec": {
   "display_name": "Python 3",
   "language": "python",
   "name": "python3"
  },
  "language_info": {
   "codemirror_mode": {
    "name": "ipython",
    "version": 3
   },
   "file_extension": ".py",
   "mimetype": "text/x-python",
   "name": "python",
   "nbconvert_exporter": "python",
   "pygments_lexer": "ipython3",
   "version": "3.5.1"
  }
 },
 "nbformat": 4,
 "nbformat_minor": 0
}
