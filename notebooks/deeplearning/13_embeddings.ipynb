{
 "cells": [
  {
   "cell_type": "markdown",
   "metadata": {},
   "source": [
    "Max-Margin Learning for Embeddings\n",
    "======"
   ]
  },
  {
   "cell_type": "markdown",
   "metadata": {},
   "source": [
    " * Goal: embed discrete objects into metric space\n",
    " \n",
    "    * Code\n",
    "    * Words\n",
    "    * Formulae\n",
    "    * Symbols\n",
    "    * DNA sequences\n",
    "    * Logical expressions\n",
    "    \n"
   ]
  },
  {
   "cell_type": "markdown",
   "metadata": {},
   "source": [
    "##### One-hot encoding:\n",
    "\n",
    " * Create a dictionary of words\n",
    " * Represent each sentence as a vector in discrete space\n",
    " * A sentence is a collection of on-hot encoded vectors\n",
    " \n",
    " **Problem: ** one-hot encoding doesn't preserve the distance between samples"
   ]
  },
  {
   "cell_type": "markdown",
   "metadata": {},
   "source": [
    "### Applications\n",
    "\n",
    " * Transfer learning\n",
    " \n",
    " * Multi-task learning\n",
    " \n",
    " * Auxiliary tasks for feature learning\n",
    " \n",
    "\n",
    " * Cross-domain embeddings\n",
    " \n",
    " * Retrieval (question answering, ranking)\n",
    " \n",
    " * One-shot learning \n",
    "   * You have a problem with very few data points\n",
    "   * Training a deep-learning is not feasible \n",
    "   "
   ]
  },
  {
   "cell_type": "markdown",
   "metadata": {},
   "source": [
    "### Recall: metric-learning\n",
    "\n",
    "<image></image>\n",
    "\n",
    "\n",
    " * Euclidean distance: $\\displaystyle d(x,y) = ||x-y||_2$\n",
    " \n",
    " * Mahalanabos distance: $\\displaystyle d(x,y) = \\sqrt{(x-y)^TS^{-1}(x-y)}$  \n",
    " \n",
    " * Mahalanobis distanc emetric learning: $\\displaystyle d(x,y)= d_A(x,y) = ||x-y||_A = \\sqrt{(x-y)^TA^{-1}(x-y)}$\n",
    " \n",
    " $$\\min_A \\sum_{(x_i.x_j)\\in \\text{similar}} ||x_i - x_j||_A^2$$\n",
    "   * Constraints: \n",
    "      $$\\displaystyle \\sum_{(x_i,x_j)\\in \\text{dissimilar}} ||x_i-x_j||_A^2 \\ge 1 \\\\ A \\ge 0$$\n",
    "    \n",
    "    Note that $A$ has to be positive semi-definite ($A\\ge0$) because otherwise, there might be some negative distances (invalid)\n",
    "   "
   ]
  },
  {
   "cell_type": "code",
   "execution_count": 2,
   "metadata": {
    "collapsed": false
   },
   "outputs": [
    {
     "ename": "ImportError",
     "evalue": "No module named 'Image'",
     "output_type": "error",
     "traceback": [
      "\u001b[1;31m---------------------------------------------------------------------------\u001b[0m",
      "\u001b[1;31mImportError\u001b[0m                               Traceback (most recent call last)",
      "\u001b[1;32m<ipython-input-2-d9b8af17c81f>\u001b[0m in \u001b[0;36m<module>\u001b[1;34m()\u001b[0m\n\u001b[1;32m----> 1\u001b[1;33m \u001b[1;32mimport\u001b[0m \u001b[0mImage\u001b[0m\u001b[1;33m\u001b[0m\u001b[0m\n\u001b[0m\u001b[0;32m      2\u001b[0m \u001b[0mImage\u001b[0m\u001b[1;33m(\u001b[0m\u001b[0mfilename\u001b[0m\u001b[1;33m=\u001b[0m\u001b[1;34m\"figs/metricleanring-embedding.png\"\u001b[0m\u001b[1;33m)\u001b[0m\u001b[1;33m\u001b[0m\u001b[0m\n",
      "\u001b[1;31mImportError\u001b[0m: No module named 'Image'"
     ]
    }
   ],
   "source": [
    "Image(filename=\"figs/metricleanring-embedding.png\")"
   ]
  },
  {
   "cell_type": "markdown",
   "metadata": {},
   "source": [
    "### Large Margin Nearest Neighbors\n",
    "\n",
    "$$\\min_{A \\ge 0} \\sum_{(i,j) \\in \\text{similar}} d_A(x_i,x_j) ~+~ \\lambda \\sum_{(i,j,k)\\in \\text{dissimilar}} \\left[1 + d_A(x_i,x_j) - d_A(x_i,x_k)\\right]_+$$"
   ]
  },
  {
   "cell_type": "markdown",
   "metadata": {},
   "source": [
    "## Siamese Network\n",
    "\n",
    " We use two networks, both have the same exact weights. (indeed, you have two instances of the same network. The word comes from Siamese twins)\n",
    " \n",
    " $$G_W$$"
   ]
  },
  {
   "cell_type": "markdown",
   "metadata": {},
   "source": [
    " * What margin value $m$ to use? \n",
    "   * $m$ is usually set to 1, and usually it is a safe choice. $m$ determines the order of magnitue of the output, so sometimes you may need to change that to other vlaues for stability, like a high vlaue $100$"
   ]
  },
  {
   "cell_type": "markdown",
   "metadata": {},
   "source": [
    "### Application: Face Recognition\n",
    "\n",
    " Two types of tasks:\n",
    "   * Classification: class label, who this person is?\n",
    "   \n",
    "   * Verification: we have two images, and we want to verify whther they are similar or not.\n",
    "   \n",
    " verification is a much easier problem.\n",
    " \n",
    " Verification an be done using Siamese network."
   ]
  },
  {
   "cell_type": "markdown",
   "metadata": {},
   "source": [
    "#### Face verification\n"
   ]
  },
  {
   "cell_type": "markdown",
   "metadata": {},
   "source": [
    "#### Face Classiifcation and Verification\n",
    "\n",
    " Three different losses:\n",
    "  * Classification loss: cross-entropy loss\n",
    "  \n",
    "  * Verification loss: (contratsive):\n",
    "  \n",
    "  * Verification loss (cosie)"
   ]
  },
  {
   "cell_type": "markdown",
   "metadata": {},
   "source": [
    "## Triplet Network\n",
    "\n",
    "Instead of sending a pair of input samples, we send a triplet $(x^-, x, x^+)$\n",
    "\n",
    " * $x^-$ is dissimilar to $x$\n",
    " \n",
    " * $x^+$ is similar to $x$\n",
    " "
   ]
  },
  {
   "cell_type": "markdown",
   "metadata": {},
   "source": [
    "##### Loss function\n",
    "\n",
    " * Hinge loss: $$L(x,x^+, x^-) = \\left[\\|Net(x) - Net(x^+)\\|_2^2 ~+~ \\|Net(x) - Net(x^-)\\|_2^2 ~+~ \\alpha \\right]_+$$"
   ]
  },
  {
   "cell_type": "markdown",
   "metadata": {},
   "source": [
    " * One issue is that there are som many negatve samples (dissimilar samples are much more than similar samples). So to fix this, you can start with a set of dissimilar samples, and repeately after a fixed number of iterations, re-sample and get a new dissimilar set by searching among the closest dissimilar points."
   ]
  },
  {
   "cell_type": "markdown",
   "metadata": {},
   "source": [
    "### Applicaiton: Cross-Domain Image Matching"
   ]
  },
  {
   "cell_type": "code",
   "execution_count": null,
   "metadata": {
    "collapsed": true
   },
   "outputs": [],
   "source": []
  }
 ],
 "metadata": {
  "kernelspec": {
   "display_name": "Python 3",
   "language": "python",
   "name": "python3"
  },
  "language_info": {
   "codemirror_mode": {
    "name": "ipython",
    "version": 3
   },
   "file_extension": ".py",
   "mimetype": "text/x-python",
   "name": "python",
   "nbconvert_exporter": "python",
   "pygments_lexer": "ipython3",
   "version": "3.5.0rc4"
  }
 },
 "nbformat": 4,
 "nbformat_minor": 0
}
