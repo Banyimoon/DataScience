{
 "metadata": {
  "name": "",
  "signature": "sha256:ef3cce2ac2b22a8cbace7a81ace4357ff3d7a97100e647c09596b0620a65d589"
 },
 "nbformat": 3,
 "nbformat_minor": 0,
 "worksheets": [
  {
   "cells": [
    {
     "cell_type": "markdown",
     "metadata": {},
     "source": [
      "Regression Analyses in R\n",
      "===========\n",
      "\n",
      "**Vahid Mirjalili, Data Scientist**\n",
      "\n"
     ]
    },
    {
     "cell_type": "markdown",
     "metadata": {},
     "source": [
      "\n",
      "\n",
      "<table style=\"border-collapse:collapse;\">\n",
      "  <tr >\n",
      "     <td>\n",
      "     <img src=\"figs/regression.example-1.svg\" width=300 height=300></img>\n",
      "     </td>\n",
      "     \n",
      "     <td>\n",
      "     There are a dozen of regression models, that each may fit to a particular data. In this article, a handset of regression models are described with examples with **R**. \n",
      "     </td>\n",
      "   </tr>\n",
      "</table>\n",
      "\n",
      "A 2D dataset is provided as drawn below, "
     ]
    },
    {
     "cell_type": "markdown",
     "metadata": {},
     "source": [
      "# 1. Linear Regression\n",
      "\n"
     ]
    },
    {
     "cell_type": "code",
     "collapsed": false,
     "input": [],
     "language": "python",
     "metadata": {},
     "outputs": []
    }
   ],
   "metadata": {}
  }
 ]
}