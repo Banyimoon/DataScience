{
 "cells": [
  {
   "cell_type": "markdown",
   "metadata": {},
   "source": [
    "#### C++ Programming\n",
    "\n",
    " * <a href=\"https://github.com/mirjalil/DataScience/blob/master/algorithms/cpp_programming.ipynb\">C++ Programming Notes</a>\n",
    " \n",
    "#### Sorting Algorithms\n",
    "\n",
    " * Insertion Sort\n",
    " * Bubble Sort\n",
    " * Quick Sort\n",
    " \n",
    "#### Data Structures\n",
    "\n",
    " * <a href=\"https://github.com/mirjalil/DataScience/blob/master/algorithms-in-C%2B%2B/data-structures_linkedlist.ipynb\">Linked List</a>\n",
    " * <a href=\"https://github.com/mirjalil/DataScience/blob/master/algorithms-in-C%2B%2B/data-structures_stacks.ipynb\"> Stacks</a>\n",
    " * <a href=\"https://github.com/mirjalil/DataScience/blob/master/algorithms-in-C%2B%2B/data-structures_queues.ipynb\"> Queues</a>\n",
    " \n",
    " * <a href=\"https://github.com/mirjalil/DataScience/blob/master/algorithms-in-C%2B%2B/data-structures_trees.ipynb\">Trees</a>\n",
    " * <a href=\"https://github.com/mirjalil/DataScience/blob/master/algorithms-in-C%2B%2B/data-structures_binary_trees.ipynb\"> Binary trees</a>\n",
    " * <a href=\"https://github.com/mirjalil/DataScience/blob/master/algorithms-in-C%2B%2B/data-structures_binary_search_trees.ipynb\"> Binary search trees (BST)</a>\n",
    " * <a href=\"https://github.com/mirjalil/DataScience/blob/master/algorithms-in-C%2B%2B/data-structures_leftchild_rightsibling.ipynb\">Left-Child Right-Sibling Trees (LCRS)</a> \n",
    " \n",
    " \n",
    " * <a href=\"https://github.com/mirjalil/DataScience/blob/master/algorithms-in-C%2B%2B/data-structures_balanced_trees.ipynb\">Balanced trees</a>\n",
    " * Red/Black trees\n",
    " * <a href=\"https://github.com/mirjalil/DataScience/blob/master/algorithms-in-C%2B%2B/data-structures_AVL_trees.ipynb\">AVL trees</a>\n",
    " \n",
    " \n",
    " * <a href=\"https://github.com/mirjalil/DataScience/blob/master/algorithms-in-C%2B%2B/data-structures_multiway_search_trees.ipynb\">Multiway search trees</a>\n",
    " * <a href=\"https://github.com/mirjalil/DataScience/blob/master/algorithms-in-C%2B%2B/data-structures_bplus_trees.ipynb\">B+ trees</a>\n",
    " \n",
    " \n",
    " * Priority Queues\n",
    " * Heaps \n",
    " \n",
    " * Hashes"
   ]
  },
  {
   "cell_type": "code",
   "execution_count": null,
   "metadata": {
    "collapsed": true
   },
   "outputs": [],
   "source": []
  }
 ],
 "metadata": {
  "kernelspec": {
   "display_name": "Python 3",
   "language": "python",
   "name": "python3"
  },
  "language_info": {
   "codemirror_mode": {
    "name": "ipython",
    "version": 3
   },
   "file_extension": ".py",
   "mimetype": "text/x-python",
   "name": "python",
   "nbconvert_exporter": "python",
   "pygments_lexer": "ipython3",
   "version": "3.5.1"
  }
 },
 "nbformat": 4,
 "nbformat_minor": 0
}
