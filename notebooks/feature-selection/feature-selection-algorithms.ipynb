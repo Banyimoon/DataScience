{
 "cells": [
  {
   "cell_type": "markdown",
   "metadata": {},
   "source": [
    "Feature Selection\n",
    "======\n",
    "\n",
    "#### Exponential algorithms\n",
    "\n",
    "#### Sequential algorithms\n",
    "\n",
    "* Sequential Forward Selection (SFS)\n",
    " * Sequential Backward Selection (SBS)\n",
    " * Plus-l minus-r selection\n",
    " * Bidirectional search\n",
    " * Sequential Floating Selection\n",
    " \n",
    "\n",
    "#### Randomized algorithms"
   ]
  }
 ],
 "metadata": {
  "kernelspec": {
   "display_name": "Python 3",
   "language": "python",
   "name": "python3"
  },
  "language_info": {
   "codemirror_mode": {
    "name": "ipython",
    "version": 3
   },
   "file_extension": ".py",
   "mimetype": "text/x-python",
   "name": "python",
   "nbconvert_exporter": "python",
   "pygments_lexer": "ipython3",
   "version": "3.5.1"
  }
 },
 "nbformat": 4,
 "nbformat_minor": 0
}
