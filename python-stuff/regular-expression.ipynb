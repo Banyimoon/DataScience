{
 "cells": [
  {
   "cell_type": "markdown",
   "metadata": {},
   "source": [
    "Regular Expression\n",
    "====="
   ]
  },
  {
   "cell_type": "markdown",
   "metadata": {},
   "source": [
    "|          |                                            |   |\n",
    "|----------|--------------------------------------------|---|\n",
    "| ^        | the start of a line                        | '^From:'  |\n",
    "| $        | end of a line                              |   |\n",
    "| .        | wildcard for any character                 |   |\n",
    "| *        | Repeating a character 0 or more times      | ```'\\s*'  or  '.*'``` |\n",
    "| *?       |                                            |   |\n",
    "| +        | Repeating a character 1 or more times      | ```'[0-9]+'```  |\n",
    "| +?       |                                            |   |\n",
    "| \\s       | white space                                |   |\n",
    "| \\S       | non-white space (any non-blank character)  |   |\n",
    "| [list]   | matching a single character in the list    |   |\n",
    "| [^list]  | matching any character not in the list     |   |\n",
    "| [a-z0-9] | range of characters a to z, and digits 0-9 |   |\n",
    "| ( )      | String extraction                          |   |\n",
    "\n",
    "\n",
    "* If two intersecting matches were found:  \n",
    "    Greedy expressions will output the largest matches  \n",
    "    Non-greedy: satisfying the expression with the shortest match\n",
    "    \n",
    "* To search for a bigger match, but extract a subset of the match:  \n",
    "    Example: ```'^From: (\\S+@\\S+)' ```"
   ]
  },
  {
   "cell_type": "markdown",
   "metadata": {},
   "source": [
    "```\n",
    "import re\n",
    "\n",
    "re.search()\n",
    "```\n",
    "\n",
    "Enron email dataset: https://www.cs.cmu.edu/~./enron/\n",
    "\n",
    "\n",
    "** Python regular expression functions:**  \n",
    "  **```re.search()```** to see if there is any pattern match  \n",
    "  **```re.findall()```** to extract all the matches in a list\n",
    "  \n",
    "\n",
    " \n",
    " "
   ]
  },
  {
   "cell_type": "code",
   "execution_count": 21,
   "metadata": {
    "collapsed": false
   },
   "outputs": [
    {
     "name": "stdout",
     "output_type": "stream",
     "text": [
      "From: heather.dunton@enron.com\n",
      "From: \tAllen, Phillip K.\n",
      "From: \tDunton, Heather\n",
      "From: \tAllen, Phillip K.\n",
      "From: \tDunton, Heather\n",
      "From: brad.jones@enron.com\n",
      "From: david.port@enron.com\n",
      "From: \tHayden, Frank\n",
      "From: \tJones, Brad\n",
      "From: c..gossett@enron.com\n",
      "From: steven.matthews@ubspw.com\n",
      "From: louise.kitchen@enron.com\n",
      "From: gthorse@about-cis.com\n",
      "From: software@mail02.unitedmarketingstrategies.com\n",
      "From: unsubscribe-i@networkpromotion.com\n"
     ]
    }
   ],
   "source": [
    "import re\n",
    "\n",
    "emaildata = open('enron-email-dataset.txt')\n",
    "for line in emaildata:\n",
    "    line = line.rstrip()\n",
    "    if re.search('^From:', line):\n",
    "        print(line)"
   ]
  },
  {
   "cell_type": "code",
   "execution_count": 3,
   "metadata": {
    "collapsed": false
   },
   "outputs": [
    {
     "data": {
      "text/plain": [
       "['38', '7', '1987']"
      ]
     },
     "execution_count": 3,
     "metadata": {},
     "output_type": "execute_result"
    }
   ],
   "source": [
    "x = 'Team A beat team B 38-7. That was the greatest record for team A since 1987.'\n",
    "\n",
    "y = re.findall('[0-9]+', x)\n",
    "\n",
    "y"
   ]
  },
  {
   "cell_type": "markdown",
   "metadata": {},
   "source": [
    "#### Extracting email addresses from text"
   ]
  },
  {
   "cell_type": "code",
   "execution_count": 8,
   "metadata": {
    "collapsed": false
   },
   "outputs": [
    {
     "data": {
      "text/plain": [
       "['me@you.com', 'example@work.com', 'example@personal.com.']"
      ]
     },
     "execution_count": 8,
     "metadata": {},
     "output_type": "execute_result"
    }
   ],
   "source": [
    "x = 'My work email address is example@work.com and \\\n",
    "my personal email is example@personal.com.'\n",
    "\n",
    "re.findall('\\S+@\\S+', x)"
   ]
  },
  {
   "cell_type": "code",
   "execution_count": 9,
   "metadata": {
    "collapsed": false
   },
   "outputs": [
    {
     "data": {
      "text/plain": [
       "['me@you.com']"
      ]
     },
     "execution_count": 9,
     "metadata": {},
     "output_type": "execute_result"
    }
   ],
   "source": [
    "x = 'From: me@you.com  My work email address is example@work.com and \\\n",
    "my personal email is example@personal.com.'\n",
    "\n",
    "re.findall('^From: (\\S+@\\S+)', x)"
   ]
  },
  {
   "cell_type": "markdown",
   "metadata": {},
   "source": [
    "#### Extracting the domain name in email addresses"
   ]
  },
  {
   "cell_type": "code",
   "execution_count": 10,
   "metadata": {
    "collapsed": false
   },
   "outputs": [
    {
     "data": {
      "text/plain": [
       "['work.com', 'personal.com.']"
      ]
     },
     "execution_count": 10,
     "metadata": {},
     "output_type": "execute_result"
    }
   ],
   "source": [
    "x = 'My work email address is example@work.com and \\\n",
    "my personal email is example@personal.com.'\n",
    "\n",
    "re.findall('\\S+@(\\S+)', x)"
   ]
  },
  {
   "cell_type": "code",
   "execution_count": 13,
   "metadata": {
    "collapsed": false
   },
   "outputs": [
    {
     "data": {
      "text/plain": [
       "['work.com', 'personal.com.']"
      ]
     },
     "execution_count": 13,
     "metadata": {},
     "output_type": "execute_result"
    }
   ],
   "source": [
    "re.findall('@([^ ]+)', x.rstrip())"
   ]
  },
  {
   "cell_type": "code",
   "execution_count": 20,
   "metadata": {
    "collapsed": false
   },
   "outputs": [
    {
     "name": "stdout",
     "output_type": "stream",
     "text": [
      "[\"'daniel.mcdonagh@chase.com', Allen, Phillip K. </O=ENRON/OU=NA/CN=RECIPIENTS/CN=Pallen>, 'pallen70@hotmail.com'\"]\n",
      "[\"'steven.l.allen@chase.com', 'daniel.mcdonagh@chase.com'\"]\n",
      "['pallen70@hotmail.com']\n",
      "['pallen@enron.com']\n",
      "['PALLEN@ENRON.COM']\n"
     ]
    }
   ],
   "source": [
    "emaildata = open('enron-email-dataset.txt')\n",
    "for line in emaildata:\n",
    "    line = line.rstrip()\n",
    "    res = re.findall('^X-To: (.*@\\S+)', line)\n",
    "    if (len(res)>0):\n",
    "        print(res)"
   ]
  },
  {
   "cell_type": "markdown",
   "metadata": {},
   "source": [
    "#### Extracting prices in text"
   ]
  },
  {
   "cell_type": "code",
   "execution_count": 24,
   "metadata": {
    "collapsed": false
   },
   "outputs": [
    {
     "data": {
      "text/plain": [
       "['9.99', '14.99']"
      ]
     },
     "execution_count": 24,
     "metadata": {},
     "output_type": "execute_result"
    }
   ],
   "source": [
    "x = \"It's a big weekend sale! 70% Everything. \\\n",
    "You can get jeans for $9.99 or get 2 for only $14.99\"\n",
    "\n",
    "re.findall('\\$([0-9.]+)', x)"
   ]
  },
  {
   "cell_type": "code",
   "execution_count": null,
   "metadata": {
    "collapsed": true
   },
   "outputs": [],
   "source": []
  }
 ],
 "metadata": {
  "kernelspec": {
   "display_name": "Python 3",
   "language": "python",
   "name": "python3"
  },
  "language_info": {
   "codemirror_mode": {
    "name": "ipython",
    "version": 3
   },
   "file_extension": ".py",
   "mimetype": "text/x-python",
   "name": "python",
   "nbconvert_exporter": "python",
   "pygments_lexer": "ipython3",
   "version": "3.4.3"
  }
 },
 "nbformat": 4,
 "nbformat_minor": 0
}
