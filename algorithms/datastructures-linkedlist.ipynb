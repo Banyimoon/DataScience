{
 "cells": [
  {
   "cell_type": "markdown",
   "metadata": {},
   "source": [
    "Linked List\n",
    "===========\n",
    "\n",
    "* Linear data structure (like an array)\n",
    "* Linked list is used when there is a memory issue (capacity limit)\n",
    "* Dynamically grows\n",
    "\n"
   ]
  },
  {
   "cell_type": "markdown",
   "metadata": {},
   "source": [
    "```\n",
    "class Node {\n",
    "    private:\n",
    "        int element;\n",
    "        Node *next_node;\n",
    "        \n",
    "    public:\n",
    "        Node(int = 0, Node * = nullptr);\n",
    "        int retrieve() const;\n",
    "        Node *next() const;\n",
    "}\n",
    "\n",
    "Node:Node() {\n",
    "\n",
    "}\n",
    "\n",
    "```"
   ]
  },
  {
   "cell_type": "markdown",
   "metadata": {},
   "source": [
    "### Accessors\n",
    "\n",
    "```\n",
    "int Node::retrieve() const {\n",
    "    return element;\n",
    "}\n",
    "\n",
    "int *Node::next() const {\n",
    "    return next_node;\n",
    "}\n",
    "```"
   ]
  },
  {
   "cell_type": "markdown",
   "metadata": {},
   "source": [
    "### Linked List Class\n",
    "\n",
    "```\n",
    "class List {\n",
    "\n",
    "}\n",
    "```"
   ]
  },
  {
   "cell_type": "markdown",
   "metadata": {},
   "source": [
    "### Operations\n",
    "\n",
    "* insert  \n",
    "* "
   ]
  },
  {
   "cell_type": "markdown",
   "metadata": {},
   "source": [
    "#### empty()\n",
    "\n",
    "```\n",
    "bool List::empty() const {\n",
    "   return(list_head == nullptr);\n",
    "}\n",
    "```\n",
    "\n",
    "#### head()\n",
    "\n",
    "```\n",
    "Node *List::head() const {\n",
    "}\n",
    "```\n",
    "\n",
    "#### front()\n",
    "\n",
    "```\n",
    "int List::front() const {\n",
    "    return head->retrieve();\n",
    "}\n",
    "```"
   ]
  },
  {
   "cell_type": "markdown",
   "metadata": {},
   "source": [
    "### pus_front(int)\n",
    "\n",
    "**Adding an element to the front**\n",
    "\n",
    "* Create a new node\n",
    "* Store the value in the new node\n",
    "* From the new node, point to the front of the existing list\n",
    "\n",
    "```\n",
    "void List::push_front(int n) {\n",
    "    if (empty()) {\n",
    "        list_head = new Node(n, nullptr);\n",
    "    }else{\n",
    "        list_head = new Node(n, head());\n",
    "    }\n",
    "}\n",
    "```\n",
    "\n",
    "* Shorter version \n",
    " \n",
    "```\n",
    "void List::push_front(int n) {\n",
    "    list_head = new Node(n, head());\n",
    "}\n",
    "```"
   ]
  },
  {
   "cell_type": "markdown",
   "metadata": {},
   "source": [
    "### pop_front()\n",
    "\n",
    "**Pop the first element of the list and remove it**\n",
    "\n",
    "```\n",
    "int List::pop_front() {\n",
    "    int e = fron();\n",
    "    \n",
    "    delete head();\n",
    "    list_head = head()->next();\n",
    "    return(e);\n",
    "}\n",
    "```"
   ]
  },
  {
   "cell_type": "markdown",
   "metadata": {},
   "source": [
    "## Example\n",
    "\n",
    "\n",
    "### Static allocation\n",
    "\n",
    "```\n",
    "int f() {\n",
    "    List mylist;\n",
    "\n",
    "    ls.push_front(3);\n",
    "    cout << ls.front() << endl;\n",
    "\n",
    "}\n",
    "```\n",
    "\n",
    "### Dynamic allocation\n",
    "\n",
    "```\n",
    "List *f() {\n",
    "    List *pls;\n",
    "\n",
    "    pls->\n",
    "\n",
    "}\n",
    "```\n"
   ]
  },
  {
   "cell_type": "code",
   "execution_count": null,
   "metadata": {
    "collapsed": true
   },
   "outputs": [],
   "source": []
  }
 ],
 "metadata": {
  "kernelspec": {
   "display_name": "Python 3",
   "language": "python",
   "name": "python3"
  },
  "language_info": {
   "codemirror_mode": {
    "name": "ipython",
    "version": 3
   },
   "file_extension": ".py",
   "mimetype": "text/x-python",
   "name": "python",
   "nbconvert_exporter": "python",
   "pygments_lexer": "ipython3",
   "version": "3.4.3"
  }
 },
 "nbformat": 4,
 "nbformat_minor": 0
}
