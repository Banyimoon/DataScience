{
 "cells": [
  {
   "cell_type": "markdown",
   "metadata": {},
   "source": [
    "Bipartite Graph\n",
    "===\n",
    "\n",
    " **Definition** graph G is called bipartitie, if the nodes can be placed in two disjoint sets $V_1$ and $V_2$."
   ]
  },
  {
   "cell_type": "markdown",
   "metadata": {},
   "source": [
    "#### Detecting if a graph is bipartite or not?\n",
    "\n",
    " * Using breadth-first traversal\n",
    " * Start with any random node\n",
    " * Place the current node into a set (color blue)\n",
    " * The adjacent nodes of the current node cannot be placed in the same set as current node\n",
    " \n",
    " * Alternating colors"
   ]
  },
  {
   "cell_type": "code",
   "execution_count": null,
   "metadata": {
    "collapsed": true
   },
   "outputs": [],
   "source": []
  }
 ],
 "metadata": {
  "kernelspec": {
   "display_name": "Python 3",
   "language": "python",
   "name": "python3"
  },
  "language_info": {
   "codemirror_mode": {
    "name": "ipython",
    "version": 3
   },
   "file_extension": ".py",
   "mimetype": "text/x-python",
   "name": "python",
   "nbconvert_exporter": "python",
   "pygments_lexer": "ipython3",
   "version": "3.5.1"
  }
 },
 "nbformat": 4,
 "nbformat_minor": 0
}
