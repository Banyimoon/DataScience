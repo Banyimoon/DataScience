{
 "cells": [
  {
   "cell_type": "code",
   "execution_count": 1,
   "metadata": {
    "collapsed": false
   },
   "outputs": [
    {
     "data": {
      "text/plain": [
       "<socket.socket fd=47, family=AddressFamily.AF_INET, type=SocketKind.SOCK_STREAM, proto=0, laddr=('192.168.1.6', 42808), raddr=('192.64.112.227', 80)>"
      ]
     },
     "execution_count": 1,
     "metadata": {},
     "output_type": "execute_result"
    }
   ],
   "source": [
    "import socket\n",
    "\n",
    "mysock = socket.socket(socket.AF_INET, socket.SOCK_STREAM)\n",
    "\n",
    "mysock.connect( ('www.vahidmirjalili.com', 80) )\n",
    "\n",
    "\n",
    "mysock"
   ]
  },
  {
   "cell_type": "code",
   "execution_count": null,
   "metadata": {
    "collapsed": false
   },
   "outputs": [],
   "source": [
    "mysock.send('GET http://www/py4inf.com/code/romo.txt HTTP/1.0\\n\\n')\n",
    "\n",
    "while True:\n",
    "    data = mysock.recv(512)\n",
    "    if len(data)<1:\n",
    "        break\n",
    "    print(data)\n",
    "    \n",
    "mysock.close()"
   ]
  },
  {
   "cell_type": "code",
   "execution_count": 2,
   "metadata": {
    "collapsed": false
   },
   "outputs": [
    {
     "name": "stdout",
     "output_type": "stream",
     "text": [
      "    <strong><link rel=\"stylesheet\" href=\"/static/css/main.css\"></strong>\n",
      "              <li><a href=\"/\" class=\"item\">Home</a></li>\n",
      "              <li><a href=\"/tutorials.html\" class=\"item\">Tutorials</a></li>\n",
      "              <li><a href=\"/ipynb.html\" class=\"item\">IPython notebooks</a></li>\n",
      "              <li><a href=\"/about.html\" class=\"item\">About </a></li>\n",
      "    <p >Vahid earned his Ph.D. in Mechanical Engineering, joint with Biochemistry & Molecular Biology from <a href='http://msu.edu'>Michigan State University.</a>\n",
      "      <a href=\"mailto:vmirjalily@gmail.com?Subject=Hello%20again\" target=\"_top\"><img float:\"left\" src=\"/static/images/email-blue-icon.png\" width=\"80\" height=\"80\" align=\"middle\"></a>\n",
      "      <a href=\"http://www.linkedin.com/pub/vahid-mirjalili/21/920/b49/\"><img float:\"left\" src=\"/static/images/linkedin-logo.png\" width=\"100\" height=\"50\" align=\"middle\"></a>\n",
      "      <a href=\"http://www.github.com/mirjalil\"><img float:\"left\" src=\"/static/images/github-logo.jpg\" width=\"80\" height=\"70\"></a>\n",
      "      <a href=\"http://www.twitter.com/vmirly\"><img float:\"left\" src=\"/static/images/twitter-logo.png\" width=\"80\" height=\"70\"></a>\n",
      "      <a href=\"http://scholar.google.com/citations?hl=en&user=8YTgJ_cAAAAJ\"><img float:\"left\" src=\"/static/images/google_scholar.jpg\" width=\"110\" height=\"55\"></a>\n",
      "      <a href=\"https://plot.ly/~vmirjalily\"><img float:\"left\" src=\"/static/images/plotly_logo.png\" width=\"90\" height=\"80\"></a>\n"
     ]
    }
   ],
   "source": [
    "import urllib.request\n",
    "import re\n",
    "\n",
    "fhand = urllib.request.urlopen('http://vahidmirjalili.com/about.html')\n",
    "\n",
    "for line in fhand:\n",
    "    line = line.decode().rstrip()\n",
    "    if re.search('href=(\\S)', line):\n",
    "        print(line)\n",
    "\n",
    "fhand.close()"
   ]
  },
  {
   "cell_type": "code",
   "execution_count": null,
   "metadata": {
    "collapsed": false
   },
   "outputs": [],
   "source": [
    "import bs4 "
   ]
  },
  {
   "cell_type": "code",
   "execution_count": 3,
   "metadata": {
    "collapsed": false
   },
   "outputs": [
    {
     "name": "stdout",
     "output_type": "stream",
     "text": [
      "/\n",
      "/tutorials.html\n",
      "/ipynb.html\n",
      "/about.html\n",
      "http://msu.edu\n",
      "mailto:vmirjalily@gmail.com?Subject=Hello%20again\n",
      "http://www.linkedin.com/pub/vahid-mirjalili/21/920/b49/\n",
      "http://www.github.com/mirjalil\n",
      "http://www.twitter.com/vmirly\n",
      "http://scholar.google.com/citations?hl=en&user=8YTgJ_cAAAAJ\n",
      "https://plot.ly/~vmirjalily\n"
     ]
    }
   ],
   "source": [
    "import urllib.request\n",
    "import bs4\n",
    "\n",
    "html = urllib.request.urlopen('http://vahidmirjalili.com/about.html').read()\n",
    "\n",
    "soup = bs4.BeautifulSoup(html, 'lxml')\n",
    "\n",
    "tags = soup('a')\n",
    "\n",
    "for tag in tags:\n",
    "    print(tag.get('href', None))"
   ]
  },
  {
   "cell_type": "code",
   "execution_count": 4,
   "metadata": {
    "collapsed": false
   },
   "outputs": [
    {
     "name": "stdout",
     "output_type": "stream",
     "text": [
      "/okl/apa/5386682880.html\n",
      "/okl/apa/5386682880.html\n",
      "/wyn/apa/5348079924.html\n",
      "/wyn/apa/5348079924.html\n",
      "/wyn/apa/5349971461.html\n",
      "/wyn/apa/5349971461.html\n",
      "/mcb/apa/5386675272.html\n"
     ]
    }
   ],
   "source": [
    "link = 'http://detroit.craigslist.org/search/apa'\n",
    "\n",
    "html = urllib.request.urlopen(link).read()\n",
    "\n",
    "soup = bs4.BeautifulSoup(html, 'lxml')\n",
    "\n",
    "tags = soup('a')\n",
    "\n",
    "n = 0\n",
    "for tag in tags:\n",
    "    reslink = tag.get('href', None)\n",
    "    if re.search('html$', reslink):\n",
    "        print(reslink)\n",
    "        n += 1\n",
    "    if n>6:\n",
    "        break"
   ]
  },
  {
   "cell_type": "code",
   "execution_count": 5,
   "metadata": {
    "collapsed": false
   },
   "outputs": [
    {
     "name": "stdout",
     "output_type": "stream",
     "text": [
      "http://detroit.craigslist.org/mcb/apa/5386675272.html\n",
      "http://images.craigslist.org/01616_i4XlwKNsVAG_600x450.jpg\n",
      "http://images.craigslist.org/01616_i4XlwKNsVAG_50x50c.jpg\n",
      "http://images.craigslist.org/00505_5w3jYQ540FM_50x50c.jpg\n",
      "http://images.craigslist.org/00n0n_jRBKqTIguMZ_50x50c.jpg\n",
      "http://images.craigslist.org/00202_1NYe6rv5U6k_50x50c.jpg\n",
      "http://images.craigslist.org/00o0o_8YyJ72SfBaX_50x50c.jpg\n",
      "http://images.craigslist.org/00U0U_g5eRTudtnED_50x50c.jpg\n"
     ]
    }
   ],
   "source": [
    "mainlink = 'http://detroit.craigslist.org'\n",
    "\n",
    "link = mainlink + reslink\n",
    "\n",
    "print(link)\n",
    "html = urllib.request.urlopen(link).read()\n",
    "\n",
    "soup = bs4.BeautifulSoup(html, 'lxml')\n",
    "\n",
    "tags = soup('img')\n",
    "\n",
    "for tag in tags:\n",
    "    print(tag.get('src', None))"
   ]
  },
  {
   "cell_type": "code",
   "execution_count": null,
   "metadata": {
    "collapsed": true
   },
   "outputs": [],
   "source": []
  }
 ],
 "metadata": {
  "kernelspec": {
   "display_name": "Python 3",
   "language": "python",
   "name": "python3"
  },
  "language_info": {
   "codemirror_mode": {
    "name": "ipython",
    "version": 3
   },
   "file_extension": ".py",
   "mimetype": "text/x-python",
   "name": "python",
   "nbconvert_exporter": "python",
   "pygments_lexer": "ipython3",
   "version": "3.4.3"
  }
 },
 "nbformat": 4,
 "nbformat_minor": 0
}
