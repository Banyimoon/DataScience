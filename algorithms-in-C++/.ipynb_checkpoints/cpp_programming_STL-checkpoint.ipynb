{
 "cells": [
  {
   "cell_type": "markdown",
   "metadata": {},
   "source": [
    "C++ Standard Template Library\n",
    "==="
   ]
  },
  {
   "cell_type": "markdown",
   "metadata": {},
   "source": [
    "## Vector\n",
    "\n",
    "\n",
    "   \n",
    "```c++\n",
    "sort(vec.begin(), vec.end());\n",
    "```\n",
    "\n",
    " * **Erase** \n",
    "   * `erase(int position)`\n",
    "   * `erase(int start, int end)`\n",
    " \n",
    "```c++\n",
    "vec.erase(vec.begin() + 4); // removes the 5th element\n",
    "\n",
    "vec.erase(vec.begin() + 3, vec.begin(7)); // removes elements 4 to 8\n",
    "```"
   ]
  },
  {
   "cell_type": "markdown",
   "metadata": {
    "collapsed": true
   },
   "source": [
    "### Algorithms\n",
    "\n",
    "```c++\n",
    "#include <algorithm>\n",
    "```\n",
    "\n",
    " * **sort**\n",
    "   * `sort(int start, int end)`\n",
    " \n",
    "```c++\n",
    "/* Example: sorting vector v */\n",
    "std::sort(v.begin(), v.end());\n",
    "```\n",
    " \n",
    " * **lower_bound** given a sorted vector and a search value \n",
    "   * `std::lower_bound(int start, int end, Type value)`\n",
    "   * if the value exisit, return the position of the value\n",
    "   * if doesn't exist, return the position of the smallest element greater than the search value\n",
    "\n",
    "```c++\n",
    "/* Example: find the position of lower bound \n",
    "            of val, in vector v */\n",
    "vector<int>::iterator low = lower_bound(v.begin(), v.end(), val);\n",
    "/* The index of lower bound element is: */\n",
    "cout << low - v.begin() << endl;\n",
    "```\n"
   ]
  },
  {
   "cell_type": "code",
   "execution_count": null,
   "metadata": {
    "collapsed": true
   },
   "outputs": [],
   "source": []
  }
 ],
 "metadata": {
  "kernelspec": {
   "display_name": "Python 3",
   "language": "python",
   "name": "python3"
  },
  "language_info": {
   "codemirror_mode": {
    "name": "ipython",
    "version": 3
   },
   "file_extension": ".py",
   "mimetype": "text/x-python",
   "name": "python",
   "nbconvert_exporter": "python",
   "pygments_lexer": "ipython3",
   "version": "3.5.1"
  }
 },
 "nbformat": 4,
 "nbformat_minor": 0
}
