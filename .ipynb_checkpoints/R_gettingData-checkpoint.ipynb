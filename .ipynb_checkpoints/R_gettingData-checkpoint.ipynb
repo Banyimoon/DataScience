{
 "metadata": {
  "name": "",
  "signature": "sha256:e776d6fff7e06ae05de9945b51dcbbef2feaac7769f1c82af59ca2338854a620"
 },
 "nbformat": 3,
 "nbformat_minor": 0,
 "worksheets": [
  {
   "cells": [
    {
     "cell_type": "code",
     "collapsed": false,
     "input": [
      "ucscDb <- dbConnect(MySQL(), user=\"genome\", host=\"genome-mysql.cse.ucsc.edu\")\n",
      "result <- dbGetQuery(ucscDb, \"show databases;\")\n",
      "dbDisconnect(ucscDb)\n",
      "result"
     ],
     "language": "python",
     "metadata": {},
     "outputs": [
      {
       "ename": "ERROR",
       "evalue": "Error in eval(expr, envir, enclos): could not find function \"dbConnect\"\n",
       "output_type": "pyerr",
       "traceback": [
        "Error in eval(expr, envir, enclos): could not find function \"dbConnect\"\n"
       ]
      },
      {
       "ename": "ERROR",
       "evalue": "Error in eval(expr, envir, enclos): could not find function \"dbGetQuery\"\n",
       "output_type": "pyerr",
       "traceback": [
        "Error in eval(expr, envir, enclos): could not find function \"dbGetQuery\"\n"
       ]
      },
      {
       "ename": "ERROR",
       "evalue": "Error in eval(expr, envir, enclos): could not find function \"dbDisconnect\"\n",
       "output_type": "pyerr",
       "traceback": [
        "Error in eval(expr, envir, enclos): could not find function \"dbDisconnect\"\n"
       ]
      },
      {
       "ename": "ERROR",
       "evalue": "Error in eval(expr, envir, enclos): object 'result' not found\n",
       "output_type": "pyerr",
       "traceback": [
        "Error in eval(expr, envir, enclos): object 'result' not found\n"
       ]
      }
     ],
     "prompt_number": 1
    },
    {
     "cell_type": "markdown",
     "metadata": {},
     "source": [
      "## Merging data - merge()"
     ]
    },
    {
     "cell_type": "code",
     "collapsed": false,
     "input": [
      "mergedData <- merge(reviews, solutions, by.x=\"solution_id\", by.y=\"id\",\n",
      "                    all=T)\n"
     ],
     "language": "python",
     "metadata": {},
     "outputs": []
    }
   ],
   "metadata": {}
  }
 ]
}