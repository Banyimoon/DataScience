{
 "cells": [
  {
   "cell_type": "markdown",
   "metadata": {},
   "source": [
    "Data Processing with Pig and Hive\n",
    "====\n"
   ]
  },
  {
   "cell_type": "markdown",
   "metadata": {},
   "source": [
    "```sql\n",
    "Select Username,Address \n",
    "From UserTable\n",
    "Where Age>30;\n",
    "```\n",
    "\n",
    "Pig:\n",
    "* Load UserTable;\n",
    "* For each row check w\n",
    "* Return the results"
   ]
  },
  {
   "cell_type": "markdown",
   "metadata": {},
   "source": [
    "Pig Latin:\n",
    "* Interacting eith HDFS\n",
    "* Mainpulate data that is sitting on HDFS\n",
    "* "
   ]
  },
  {
   "cell_type": "markdown",
   "metadata": {},
   "source": [
    "## Running pig\n",
    "\n",
    "Running pig on local mode: `pig -x local`\n",
    "Running on distributed mode: `pig -x mapreduce`\n",
    "\n",
    "* Using the interactive shell called *grunt*\n",
    "* Execute a pig script *E.g. `pig myscript.pig`*\n",
    "* Embed your pig query into a Java program\n",
    "\n",
    "\n",
    "\n",
    "Pig scripts: \n",
    "* Comments are noted by \"--\""
   ]
  },
  {
   "cell_type": "markdown",
   "metadata": {},
   "source": [
    "Embedded in Java\n",
    "\n",
    "```java\n",
    "import java.io.IoException;\n",
    "import org.apache.pig.PigServer;\n",
    "\n",
    "public class idmapreduce {\n",
    "    public static void main(String[] args) {\n",
    "}\n",
    "```\n",
    "\n",
    "Compile:\n",
    "```\n",
    "javac -cp \\$PIG_HOME/pig-0.11.0.jar idmapreduce.java\n",
    "```\n",
    "\n",
    "Running:\n",
    "\n",
    "```\n",
    "java -cp \"..\" idmapreduce\n",
    "```"
   ]
  },
  {
   "cell_type": "code",
   "execution_count": null,
   "metadata": {
    "collapsed": true
   },
   "outputs": [],
   "source": []
  }
 ],
 "metadata": {
  "kernelspec": {
   "display_name": "Python 3",
   "language": "python",
   "name": "python3"
  },
  "language_info": {
   "codemirror_mode": {
    "name": "ipython",
    "version": 3
   },
   "file_extension": ".py",
   "mimetype": "text/x-python",
   "name": "python",
   "nbconvert_exporter": "python",
   "pygments_lexer": "ipython3",
   "version": "3.5.1"
  }
 },
 "nbformat": 4,
 "nbformat_minor": 0
}
