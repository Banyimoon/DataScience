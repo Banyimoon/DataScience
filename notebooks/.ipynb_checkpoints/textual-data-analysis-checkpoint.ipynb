{
 "cells": [
  {
   "cell_type": "markdown",
   "metadata": {},
   "source": [
    "Text\n",
    "===\n",
    "\n",
    "## Feature extraction\n",
    "\n",
    " * Binary feature vector:  (0/1) for presence or absence of a word\n",
    "   * Limitaion: cannot capture the importance of a word\n",
    " * Term frequency\n",
    "   * Limitation: cannot stopwords (she, it, the, ..)\n",
    " * Term frequency inverse document frequency\n",
    " \n",
    "##### Example"
   ]
  },
  {
   "cell_type": "markdown",
   "metadata": {},
   "source": [
    "## Distance Measures"
   ]
  }
 ],
 "metadata": {
  "kernelspec": {
   "display_name": "Python 3",
   "language": "python",
   "name": "python3"
  },
  "language_info": {
   "codemirror_mode": {
    "name": "ipython",
    "version": 3
   },
   "file_extension": ".py",
   "mimetype": "text/x-python",
   "name": "python",
   "nbconvert_exporter": "python",
   "pygments_lexer": "ipython3",
   "version": "3.5.1"
  }
 },
 "nbformat": 4,
 "nbformat_minor": 0
}
