{
 "metadata": {
  "name": "",
  "signature": "sha256:9b802a56eff5733098e880b093b0b64c4296c1c075ba909ea2c13416ba6f817c"
 },
 "nbformat": 3,
 "nbformat_minor": 0,
 "worksheets": [
  {
   "cells": [
    {
     "cell_type": "markdown",
     "metadata": {},
     "source": [
      "Clustering based on Density Peaks\n",
      "=======\n",
      "\n",
      "**Vahid Mirjalili, Data Scientist**\n",
      "\n",
      "# 1. Introduction\n",
      "\n",
      "Clustering algorithms has a wide range of applications. Several methods are proposed so far, and each method has drawbacks, for example in k-means clustering the knowledge of number of clusters is crucial, yet it doesn't provide a robust solution to datasets with clusters that have different sizes.\n",
      "\n",
      "In this article, an implementation of a novel clustering algorithm is provided, and applied to some synthetic datasets. <a href=\"http://www.sciencemag.org/content/344/6191/1492.abstract\">See the reference.</a>. \n",
      "\n",
      "The most important feature of this algorithm is that it can automatically find the number of clusters. "
     ]
    },
    {
     "cell_type": "code",
     "collapsed": false,
     "input": [
      "## I plementation of Density Peak Clustering\n",
      "### Vahid Mirjalili\n",
      "\n",
      "import numpy as np\n",
      "\n",
      "d = np.loadtxt(\"data/synthetic.4clust.dat\")"
     ],
     "language": "python",
     "metadata": {},
     "outputs": [],
     "prompt_number": 3
    },
    {
     "cell_type": "code",
     "collapsed": false,
     "input": [],
     "language": "python",
     "metadata": {},
     "outputs": []
    }
   ],
   "metadata": {}
  }
 ]
}