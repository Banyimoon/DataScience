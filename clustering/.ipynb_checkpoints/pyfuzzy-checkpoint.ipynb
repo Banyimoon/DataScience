{
 "metadata": {
  "name": "",
  "signature": "sha256:4634ae06611875e0ba2b7e0f24a4facc2287fc53ee3c364fbca9472731802058"
 },
 "nbformat": 3,
 "nbformat_minor": 0,
 "worksheets": [
  {
   "cells": [
    {
     "cell_type": "markdown",
     "metadata": {},
     "source": [
      "Fuzzy Clustering\n",
      "==========\n",
      "\n",
      "**Vahid Mirjalili, Data Mining Researcher**"
     ]
    },
    {
     "cell_type": "code",
     "collapsed": false,
     "input": [],
     "language": "python",
     "metadata": {},
     "outputs": []
    }
   ],
   "metadata": {}
  }
 ]
}