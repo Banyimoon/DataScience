{
 "cells": [
  {
   "cell_type": "markdown",
   "metadata": {},
   "source": [
    "Topological Sort\n",
    "===\n",
    "\n",
    " * DAG: directed acyclic graph\n",
    " \n",
    "### Properties of DAG\n",
    "\n",
    " * In a DAG, if there is a path from $v_i\\ \\rightarrow \\ v_j$, there cannot be any path from $v_j \\ \\rightarrow \\ v_i$\n",
    " * A DAG always has at least **one vertex with in-degree zero**.\n",
    " * Any subgraph of a DAG is also a DAG\n",
    " * Any DAG has a topological sort\n",
    " * If a graph has topological ordering, then it must be a DAG"
   ]
  },
  {
   "cell_type": "markdown",
   "metadata": {},
   "source": [
    "## Algorithm\n",
    "\n",
    " * Allocate memory \n",
    " * \n",
    " \n",
    " * Everytime you visit a node as an adjacent node:\n",
    "   * if the in-degree is zero, push it into the queue\n",
    "   * ptherwise, decrement its in-degree by one\n",
    " * You can only put a node into a queue once they have in-degree zero\n",
    " \n",
    "\n",
    "**Verification:**\n",
    "\n",
    " * Check the in-degree of remaining nodes\n",
    " * The in-degree of all nodes should reach zero, otherwise, it means the graph was not a DAG"
   ]
  },
  {
   "cell_type": "markdown",
   "metadata": {},
   "source": [
    "#### Example\n",
    "\n",
    "Given graph below, we want to find the topological sort of this array?\n",
    "\n",
    "![Graph example](figs/graph-example.png)\n",
    "\n"
   ]
  },
  {
   "cell_type": "markdown",
   "metadata": {},
   "source": [
    "\n",
    "|Node|in-degree|\n",
    "|:--|:--:|\n",
    "|A|1|\n",
    "|B|2|\n",
    "|C|0|\n",
    "|D|2|\n",
    "|E|2|\n",
    "|F|1|\n",
    "|G|1|\n",
    "|H|0|\n",
    "|I|2|\n",
    " \n",
    " * we can start by either $C$ or $H$, we start from $C$ (just for lexicographic reason)\n",
    "  * $Queue.push(C);\\\\Queue.push(H);$\n",
    "  * $Queue = [C,H]$\n",
    " * pop from queue, and look at its adjacent nodes $\\rightarrow I,\\ E$\n",
    "  * $indegree(I) = 2$ decrement $\\rightarrow indegree(I) = 1$\n",
    "  * $indegree(E) = 2$ decrement $\\rightarrow indegree(E) = 1$\n",
    "  * $Queue=[H]$\n",
    " * pop next element from queue $H$, and look at its adjacent nodes $A,\\ G$\n",
    "  * $indegree(A) = 1$ decrement $\\rightarrow indegree(A) = 0\\rightarrow Queue.push(A)$ \n",
    "  * $indegree(G) = 1$ decrement $\\rightarrow indegree(G) = 0\\rightarrow Queue.push(G)$\n",
    "  * $Queue=[A,G]$"
   ]
  },
  {
   "cell_type": "markdown",
   "metadata": {},
   "source": [
    "## Analysis\n",
    "\n",
    " * O(|V|)"
   ]
  },
  {
   "cell_type": "markdown",
   "metadata": {
    "collapsed": true
   },
   "source": [
    "### Application: finding critical path\n",
    "\n",
    " * Running multiple tasks in parallel\n",
    " * Need topological ordering of tasks based on their dependency conditions\n",
    " \n",
    " * Critical time:\n",
    "   * Tasks that have no prerequisite, have critical time equal to the time it takes to complete that task\n",
    "   * For tasks that depend on others, the critical time will be\n",
    "     * the maximum critical time that it takes to complete a prerequisite\n",
    "     * plus (+) the time it takes to complete that task"
   ]
  },
  {
   "cell_type": "code",
   "execution_count": null,
   "metadata": {
    "collapsed": true
   },
   "outputs": [],
   "source": []
  }
 ],
 "metadata": {
  "kernelspec": {
   "display_name": "Python 3",
   "language": "python",
   "name": "python3"
  },
  "language_info": {
   "codemirror_mode": {
    "name": "ipython",
    "version": 3
   },
   "file_extension": ".py",
   "mimetype": "text/x-python",
   "name": "python",
   "nbconvert_exporter": "python",
   "pygments_lexer": "ipython3",
   "version": "3.5.1"
  }
 },
 "nbformat": 4,
 "nbformat_minor": 0
}
