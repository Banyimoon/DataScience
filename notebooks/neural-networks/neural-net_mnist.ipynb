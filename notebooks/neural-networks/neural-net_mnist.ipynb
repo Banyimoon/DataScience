{
 "cells": [
  {
   "cell_type": "markdown",
   "metadata": {},
   "source": [
    "Hand-Written Digit Recognition using Neural Networks\n",
    "=======\n",
    "\n",
    "\n",
    "MNIST dataset from: <a href=\"http://yann.lecun.com/exdb/mnist/\">http://yann.lecun.com/exdb/mnist/</a>"
   ]
  },
  {
   "cell_type": "code",
   "execution_count": 7,
   "metadata": {
    "collapsed": false
   },
   "outputs": [
    {
     "name": "stdout",
     "output_type": "stream",
     "text": [
      "Number of training samples: 60000 \t Number of features: 784\n",
      "Number of test samples: 10000 \n"
     ]
    }
   ],
   "source": [
    "## Code from \"Python Machine Learning\" By Sebastian Raschka\n",
    "import os\n",
    "import struct\n",
    "import numpy as np\n",
    "\n",
    "def load_mnist(path, kind='train'):\n",
    "    \"\"\"Load MNIST dataset from 'path'\"\"\"\n",
    "    labels_path = os.path.join(path, '%s-labels-idx1-ubyte'%kind)\n",
    "    images_path = os.path.join(path, '%s-images-idx3-ubyte'%kind)\n",
    "    \n",
    "    with open(labels_path, 'rb') as lbpath:\n",
    "        magic, n = struct.unpack('>II', lbpath.read(8))\n",
    "        labels = np.fromfile(lbpath, dtype=np.uint8)\n",
    "        \n",
    "    with open(images_path, 'rb') as imgpath:\n",
    "        magic, num, rows, cols = struct.unpack('>IIII', imgpath.read(16))\n",
    "        images = np.fromfile(imgpath, dtype=np.uint8).reshape(len(labels), 784)\n",
    "    \n",
    "    return images, labels\n",
    "\n",
    "\n",
    "X_train, y_train = load_mnist('/tmp/data/', 'train')\n",
    "print(\"Number of training samples: %d \\t Number of features: %d\"%(X_train.shape[0], X_train.shape[1]))\n",
    "X_test, y_test = load_mnist('/tmp/data/', 't10k')\n",
    "print(\"Number of test samples: %d \"%(X_test.shape[0]))"
   ]
  },
  {
   "cell_type": "code",
   "execution_count": 23,
   "metadata": {
    "collapsed": false
   },
   "outputs": [
    {
     "data": {
      "image/png": "[encoded data removed]",
      "text/plain": [
       "<matplotlib.figure.Figure at 0x7f0adf2f7c88>"
      ]
     },
     "metadata": {},
     "output_type": "display_data"
    }
   ],
   "source": [
    "import matplotlib.pyplot as plt\n",
    "%matplotlib inline\n",
    "\n",
    "fig, ax = plt.subplots(figsize=(8,4), nrows=2, ncols=5, sharex=True, sharey=True)\n",
    "ax = ax.flatten()\n",
    "\n",
    "for y in range(10):\n",
    "    img = X_train[y_train == y][0].reshape(28,28)\n",
    "    ax[y].imshow(img, cmap='Greys', interpolation='nearest')\n",
    "ax[0].set_xticks([])\n",
    "ax[1].set_yticks([])\n",
    "plt.tight_layout()\n",
    "plt.show()"
   ]
  },
  {
   "cell_type": "code",
   "execution_count": null,
   "metadata": {
    "collapsed": true
   },
   "outputs": [],
   "source": [
    "### Adapted from \"Python Machine Learning\" by Sebastian Raschka\n",
    "\n",
    "import numpy as np\n",
    "from scipy.special import expit\n",
    "import sys\n",
    "\n",
    "class NeuralNework(object):\n",
    "    def __init__(self, n_output, n_features, n_hidden, \n",
    "                 epochs=500, eta=0.001, alpha=0.0, random_seed=None):\n",
    "        np.random.seed(random_seed)\n",
    "        self.n_output = n_output\n",
    "        self.n_features = n_features\n",
    "        self.n_hidden = n_hidden\n",
    "        self.W1, self.W2 = self._initialize_weights()\n",
    "        self.epochs = epochs\n",
    "        self.eta = eta\n",
    "        self.alpha = alpha\n",
    "        \n",
    "    def _encode_labels(self, y, k):\n",
    "        onehot = np.zeros(shape=(k, y.shape[0]))\n",
    "        for idx, val in enumerate(y):\n",
    "            onehot[val, idx] = 1.0\n",
    "        return onehot\n",
    "    \n",
    "    def _initialize_weights(self):\n",
    "        W1 = np.random.uniform(-1, 1, size=(n_hidden,self.n_features + 1))        \n",
    "        W2 = np.random.uniform(-1, 1, size=(self.n_output, n_hidden + 1))\n",
    "        return (W1, W2)\n",
    "    \n",
    "    def _sigmoid(self, z):\n",
    "        return expit(z)\n",
    "    \n",
    "    def _tanh(self, z):\n",
    "        e_pos_z = np.exp(z)\n",
    "        e_neg_z = np.exp(-z)\n",
    "        return (e_pos_z - e_neg_z)/(e_pos_z + e_neg_z)\n",
    "    \n",
    "    def _ReLU(self, z):\n",
    "        val = z\n",
    "        if z\n",
    "    \n",
    "    def _sigmoid_gradient(self, z):\n",
    "        sigval = self._sigmoid(z)\n",
    "        return sigmal*(1-sigval)\n",
    "    \n",
    "    def _tanh_gradient(self, z):\n",
    "        tanhval = self._tanh(z)\n",
    "        return (1-tanhval**2)\n",
    "        \n",
    "    def _add_bias_unit(self, X, how='column'):\n",
    "        if how == 'column':\n",
    "            X_new = np.vstack(X, np.ones(shape=(X.shape[0], 1)))\n",
    "        elif how == 'row':\n",
    "            X_new = np.hstack(np.ones(X.shape[0], 1), X)\n",
    "        else:\n",
    "            raise AttributeError(\"Argument 'how' must be 'column' or 'row'\")\n",
    "        return X_new\n",
    "\n",
    "    def _layer_forward_linear(self, X, W):\n",
    "        z = self.dot(X.T)\n",
    "        activ = z\n",
    "        return X_w_bias, z, activ\n",
    "    \n",
    "    def _layer_forward_sigmoid(self, X, W):\n",
    "        z = self.dot(X.T)\n",
    "        activ = self._sgimoid(z)\n",
    "        return X_w_bias, z, activ\n",
    "        \n",
    "    def _layer_forward_tanh(self, X, W):\n",
    "        z = self.dot(X.T)\n",
    "        activ = self._sgimoid(z)\n",
    "        return X_w_bias, z, activ\n",
    "\n",
    "    \n",
    "    def _feed_forward_full(self, X, W1, W2):\n",
    "        X_w_bias = self._add_bias_unit(X, how='column')\n",
    "        X1, z1, a1 = self._layer_forward(X_w_bias, W1)\n",
    "        a1_w_bias = self._add_bias_unit(X, how='row')\n",
    "        X2, z2, a2 = self._layer_forward(a1_w_bias, W2)\n",
    "        return X_w_bias, z1, a1_w_bias, z2, a2\n",
    "    \n",
    "    def _get_cost(self, y_true, y_pred, W1, W2):\n",
    "        \"\"\"Cost: -y*ln(ypred) - (1-y)*ln(1-ypred)\"\"\"\n",
    "        term1 = -y_true*np.log(y_pred)\n",
    "        term2 = -(1-y_true)*np.log(1 - y_pred)\n",
    "        cost = term1 + term2\n",
    "        return cost\n",
    "    \n",
    "    def _layer_backward(self, Y, W)\n",
    "        gradW1, gradW2 = sel"
   ]
  }
 ],
 "metadata": {
  "kernelspec": {
   "display_name": "Python 3",
   "language": "python",
   "name": "python3"
  },
  "language_info": {
   "codemirror_mode": {
    "name": "ipython",
    "version": 3
   },
   "file_extension": ".py",
   "mimetype": "text/x-python",
   "name": "python",
   "nbconvert_exporter": "python",
   "pygments_lexer": "ipython3",
   "version": "3.5.0rc4"
  }
 },
 "nbformat": 4,
 "nbformat_minor": 0
}
