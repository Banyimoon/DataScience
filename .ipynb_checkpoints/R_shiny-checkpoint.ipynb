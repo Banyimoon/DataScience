{
 "metadata": {
  "name": "",
  "signature": "sha256:04e4375938674c7925782bdb76cea82312dd95e362be972104ff4f60a8569ac1"
 },
 "nbformat": 3,
 "nbformat_minor": 0,
 "worksheets": [
  {
   "cells": [
    {
     "cell_type": "markdown",
     "metadata": {},
     "source": [
      "R Shiny\n",
      "============\n",
      "\n",
      "<a name=\"top\"></a>\n",
      "\n",
      "**Vahid Mirjalili, Data Scientist**\n",
      "\n",
      "[1. Introduction](#intro)"
     ]
    },
    {
     "cell_type": "markdown",
     "metadata": {},
     "source": [
      "<a id=\"intro\"></a>\n",
      "\n",
      "# 1. Introduction\n",
      "\n",
      "Shiny is a framework for creating interactive web applications.\n",
      "\n",
      "Shiny tutorial is a good resource for learning: <a href=\"http://shiny.rstudio.com/tutorial/\"> tutorial</a>\n",
      "\n",
      "A shiny project must have at least two parts:\n",
      "\n",
      "  * **a user interface script (ui.R):** controls layout and appearance of the app\n",
      "  * **a server script (server.R):** does the computations behind the scene\n",
      "  \n",
      "Example of ui.R:"
     ]
    },
    {
     "cell_type": "code",
     "collapsed": false,
     "input": [
      "## ui.R\n",
      "library(shiny)\n",
      "shinyUI(pageWithSidebar(\n",
      "    ## App title\n",
      "    titlePanel(\"This is a title!\"),\n",
      "\n",
      "    ## Header \n",
      "    headerPanel(\"Hello Shiny World!\"),\n",
      "\n",
      "    sidebarPanel(\n",
      "        h3('This is a sidebar created')\n",
      "    ),\n",
      "\n",
      "    mainPanel(\n",
      "        h3('This is the main panel')\n",
      "    )\n",
      "))"
     ],
     "language": "python",
     "metadata": {},
     "outputs": [
      {
       "ename": "ERROR",
       "evalue": "Error in pageWithSidebar(titlePanel(\"This is a title!\"), headerPanel(\"Hello Shiny World!\"), : unused argument (mainPanel(h3(\"This is the main panel\")))\n",
       "output_type": "pyerr",
       "traceback": [
        "Error in pageWithSidebar(titlePanel(\"This is a title!\"), headerPanel(\"Hello Shiny World!\"), : unused argument (mainPanel(h3(\"This is the main panel\")))\n"
       ]
      }
     ],
     "prompt_number": 1
    },
    {
     "cell_type": "code",
     "collapsed": false,
     "input": [
      "## server.R\n",
      "library(shiny)\n",
      "shinyServer(\n",
      "    function(input, output) {\n",
      "        ##  ## \n",
      "    }\n",
      ")"
     ],
     "language": "python",
     "metadata": {},
     "outputs": [],
     "prompt_number": 2
    },
    {
     "cell_type": "markdown",
     "metadata": {},
     "source": [
      "To run this application, change the working directory to the app directory and use **runApp()**\n",
      "\n",
      "The result will be displayed in the browser as below:"
     ]
    },
    {
     "cell_type": "code",
     "collapsed": false,
     "input": [
      "setwd(\"/home/vahid/GitHub/DataScience/R-shiny/app-01\")\n",
      "getwd()\n",
      "list.files()\n",
      "runApp()"
     ],
     "language": "python",
     "metadata": {},
     "outputs": []
    },
    {
     "cell_type": "markdown",
     "metadata": {},
     "source": [
      "<img src=\"figs/shiny_app01.png\" width=\"700px\" height=\"600px\">"
     ]
    },
    {
     "cell_type": "code",
     "collapsed": false,
     "input": [],
     "language": "python",
     "metadata": {},
     "outputs": []
    }
   ],
   "metadata": {}
  }
 ]
}