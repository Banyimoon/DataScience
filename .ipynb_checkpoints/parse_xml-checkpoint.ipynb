{
 "metadata": {
  "name": "",
  "signature": "sha256:a6fc35067caad1c24d750a3e9a3d979b6a1e02cadd8229ba81fa32f9edaf8a26"
 },
 "nbformat": 3,
 "nbformat_minor": 0,
 "worksheets": [
  {
   "cells": [
    {
     "cell_type": "markdown",
     "metadata": {},
     "source": [
      "Parsing XML documents in python\n",
      "=========================\n",
      "\n",
      "**Vahid Mirjalili, Data Scientist**\n",
      "\n",
      "\n",
      "## Example 1: food menu\n"
     ]
    },
    {
     "cell_type": "code",
     "collapsed": false,
     "input": [
      "import xml.etree.ElementTree as ET\n",
      "\n",
      "from prettytable import PrettyTable\n",
      "\n",
      "#########################################\n",
      "tree = ET.parse('examples/simple.xml')\n",
      "root = tree.getroot()\n",
      "print (root)\n",
      "print (tree.getroot().tag)\n",
      "tree.getroot().attrib\n",
      "\n",
      "## Access child\n",
      "for child in tree.getroot():\n",
      "    print (child.tag, child.attrib)\n"
     ],
     "language": "python",
     "metadata": {},
     "outputs": [
      {
       "output_type": "stream",
       "stream": "stdout",
       "text": [
        "<Element 'breakfast_menu' at 0x344f410>\n",
        "breakfast_menu\n",
        "('food', {})\n",
        "('food', {})\n",
        "('food', {})\n",
        "('food', {})\n",
        "('food', {})\n"
       ]
      }
     ],
     "prompt_number": 1
    },
    {
     "cell_type": "code",
     "collapsed": false,
     "input": [
      "## Create A Table to output the results\n",
      "tb = PrettyTable([\"Item Name\", \"Price\", \"Calories\"])\n",
      "tb.align[\"Item Name\"] = \"l\" # left aligned\n",
      "tb.padding_width = 1\n",
      "\n",
      "## Finding items' names, prices and calories\n",
      "for child in tree.getroot():\n",
      "    food_name = child.find('name')\n",
      "    price = child.find('price')\n",
      "    calories = child.find('calories')\n",
      "    #print food_name.text, price.text\n",
      "    tb.add_row([food_name.text, price.text, calories.text])\n",
      "\n",
      "print(tb)"
     ],
     "language": "python",
     "metadata": {},
     "outputs": [
      {
       "output_type": "stream",
       "stream": "stdout",
       "text": [
        "+-----------------------------+-------+----------+\n",
        "| Item Name                   | Price | Calories |\n",
        "+-----------------------------+-------+----------+\n",
        "| Belgian Waffles             | $5.95 |   650    |\n",
        "| Strawberry Belgian Waffles  | $7.95 |   900    |\n",
        "| Berry-Berry Belgian Waffles | $8.95 |   900    |\n",
        "| French Toast                | $4.50 |   600    |\n",
        "| Homestyle Breakfast         | $6.95 |   950    |\n",
        "+-----------------------------+-------+----------+\n"
       ]
      }
     ],
     "prompt_number": 2
    },
    {
     "cell_type": "markdown",
     "metadata": {},
     "source": [
      "## Example 2: Plant Catalog"
     ]
    },
    {
     "cell_type": "code",
     "collapsed": false,
     "input": [
      "tree = ET.parse('examples/plant_catalog.xml')\n",
      "root = tree.getroot()\n",
      "\n",
      "tb = PrettyTable([\"Common Name\", \"Light Condition\", \"Price\"])\n",
      "tb.align[\"Common Name\"] = \"l\" # left aligned\n",
      "tb.padding_width = 1\n",
      "\n",
      "for child in tree.getroot():\n",
      "    name = child.find('COMMON')\n",
      "    price = child.find('PRICE')\n",
      "    light = child.find('LIGHT')\n",
      "    tb.add_row([name.text, light.text, price.text])\n",
      "\n",
      "print(tb)"
     ],
     "language": "python",
     "metadata": {},
     "outputs": [
      {
       "output_type": "stream",
       "stream": "stdout",
       "text": [
        "+---------------------+-----------------+-------+\n",
        "| Common Name         | Light Condition | Price |\n",
        "+---------------------+-----------------+-------+\n",
        "| Bloodroot           |   Mostly Shady  | $2.44 |\n",
        "| Columbine           |   Mostly Shady  | $9.37 |\n",
        "| Marsh Marigold      |   Mostly Sunny  | $6.81 |\n",
        "| Cowslip             |   Mostly Shady  | $9.90 |\n",
        "| Dutchman's-Breeches |   Mostly Shady  | $6.44 |\n",
        "| Ginger, Wild        |   Mostly Shady  | $9.03 |\n",
        "| Hepatica            |   Mostly Shady  | $4.45 |\n",
        "| Liverleaf           |   Mostly Shady  | $3.99 |\n",
        "| Jack-In-The-Pulpit  |   Mostly Shady  | $3.23 |\n",
        "| Mayapple            |   Mostly Shady  | $2.98 |\n",
        "| Phlox, Woodland     |   Sun or Shade  | $2.80 |\n",
        "| Phlox, Blue         |   Sun or Shade  | $5.59 |\n",
        "| Spring-Beauty       |   Mostly Shady  | $6.59 |\n",
        "| Trillium            |   Sun or Shade  | $3.90 |\n",
        "| Wake Robin          |   Sun or Shade  | $3.20 |\n",
        "| Violet, Dog-Tooth   |      Shade      | $9.04 |\n",
        "| Trout Lily          |      Shade      | $6.94 |\n",
        "| Adder's-Tongue      |      Shade      | $9.58 |\n",
        "| Anemone             |   Mostly Shady  | $8.86 |\n",
        "| Grecian Windflower  |   Mostly Shady  | $9.16 |\n",
        "| Bee Balm            |      Shade      | $4.59 |\n",
        "| Bergamot            |      Shade      | $7.16 |\n",
        "| Black-Eyed Susan    |      Sunny      | $9.80 |\n",
        "| Buttercup           |      Shade      | $2.57 |\n",
        "| Crowfoot            |      Shade      | $9.34 |\n",
        "| Butterfly Weed      |      Sunny      | $2.78 |\n",
        "| Cinquefoil          |      Shade      | $7.06 |\n",
        "| Primrose            |      Sunny      | $6.56 |\n",
        "| Gentian             |   Sun or Shade  | $7.81 |\n",
        "| Blue Gentian        |   Sun or Shade  | $8.56 |\n",
        "| Jacob's Ladder      |      Shade      | $9.26 |\n",
        "| Greek Valerian      |      Shade      | $4.36 |\n",
        "| California Poppy    |       Sun       | $7.89 |\n",
        "| Shooting Star       |   Mostly Shady  | $8.60 |\n",
        "| Snakeroot           |      Shade      | $5.63 |\n",
        "| Cardinal Flower     |      Shade      | $3.02 |\n",
        "+---------------------+-----------------+-------+\n"
       ]
      }
     ],
     "prompt_number": 3
    },
    {
     "cell_type": "markdown",
     "metadata": {},
     "source": [
      "# Writing Data to XML Files\n",
      "\n",
      "Now, we read in an example dataset (iris) in a tabular format, and then write the output to into XML format."
     ]
    },
    {
     "cell_type": "code",
     "collapsed": false,
     "input": [
      "fp = open(\"examples/iris.dat\")\n",
      "\n",
      "root = ET.element(\"iris\")\n",
      "\n",
      "for line in fp:\n",
      "    doc = ET.subelement(root, \"\")"
     ],
     "language": "python",
     "metadata": {},
     "outputs": []
    }
   ],
   "metadata": {}
  }
 ]
}