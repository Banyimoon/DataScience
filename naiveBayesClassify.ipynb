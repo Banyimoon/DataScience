{
 "metadata": {
  "name": "",
  "signature": "sha256:0a2dda475ca873b76dfeb53792c6b3669d4fc726514ace7732f2530ddccf89b7"
 },
 "nbformat": 3,
 "nbformat_minor": 0,
 "worksheets": [
  {
   "cells": [
    {
     "cell_type": "markdown",
     "metadata": {},
     "source": [
      "Naive Bayes Classification in R\n",
      "==============\n",
      "\n",
      "**Vahid Mirjalili, Data Scientist**"
     ]
    },
    {
     "cell_type": "markdown",
     "metadata": {},
     "source": [
      "# 1. Getting Data from Web"
     ]
    },
    {
     "cell_type": "code",
     "collapsed": false,
     "input": [
      "## Getting data from github\n",
      "require(RCurl)\n",
      "df.url <- getURL(\"https://raw.githubusercontent.com/rasbt/pattern_classification/master/data/iris.csv\")\n",
      "df <- read.csv(text = df.url, header=FALSE)\n",
      "\n",
      "head(df)\n",
      "levels(df$V5)"
     ],
     "language": "python",
     "metadata": {},
     "outputs": [
      {
       "output_type": "stream",
       "stream": "stderr",
       "text": [
        "packageStartupMessage in packageStartupMessage(gettextf(\"Loading required package: %s\", : Loading required package: RCurl\n",
        "\n"
       ]
      },
      {
       "output_type": "stream",
       "stream": "stderr",
       "text": [
        "packageStartupMessage in packageStartupMessage(gettextf(\"Loading required package: %s\", : Loading required package: bitops\n",
        "\n"
       ]
      },
      {
       "metadata": {},
       "output_type": "pyout",
       "prompt_number": 1,
       "text": [
        "   V1  V2  V3  V4          V5\n",
        "1 5.1 3.5 1.4 0.2 Iris-setosa\n",
        "2 4.9 3.0 1.4 0.2 Iris-setosa\n",
        "3 4.7 3.2 1.3 0.2 Iris-setosa\n",
        "4 4.6 3.1 1.5 0.2 Iris-setosa\n",
        "5 5.0 3.6 1.4 0.2 Iris-setosa\n",
        "6 5.4 3.9 1.7 0.4 Iris-setosa"
       ]
      },
      {
       "metadata": {},
       "output_type": "pyout",
       "prompt_number": 1,
       "text": [
        "[1] \"Iris-setosa\"     \"Iris-versicolor\" \"Iris-virginica\" "
       ]
      }
     ],
     "prompt_number": 1
    },
    {
     "cell_type": "markdown",
     "metadata": {},
     "source": [
      "## Extracting features and class labels"
     ]
    },
    {
     "cell_type": "code",
     "collapsed": false,
     "input": [
      "X_iris <- df[,1:4]\n",
      "\n",
      "y_iris <- factor(df$V5, labels=seq(length(levels(df$V5))))\n",
      "\n",
      "y_iris"
     ],
     "language": "python",
     "metadata": {},
     "outputs": [
      {
       "metadata": {},
       "output_type": "pyout",
       "prompt_number": 2,
       "text": [
        "  [1] 1 1 1 1 1 1 1 1 1 1 1 1 1 1 1 1 1 1 1 1 1 1 1 1 1 1 1 1 1 1 1 1 1 1 1 1 1\n",
        " [38] 1 1 1 1 1 1 1 1 1 1 1 1 1 2 2 2 2 2 2 2 2 2 2 2 2 2 2 2 2 2 2 2 2 2 2 2 2\n",
        " [75] 2 2 2 2 2 2 2 2 2 2 2 2 2 2 2 2 2 2 2 2 2 2 2 2 2 2 3 3 3 3 3 3 3 3 3 3 3\n",
        "[112] 3 3 3 3 3 3 3 3 3 3 3 3 3 3 3 3 3 3 3 3 3 3 3 3 3 3 3 3 3 3 3 3 3 3 3 3 3\n",
        "[149] 3 3\n",
        "Levels: 1 2 3"
       ]
      }
     ],
     "prompt_number": 2
    },
    {
     "cell_type": "markdown",
     "metadata": {},
     "source": [
      "## Splitting Data into Training and Test Sets"
     ]
    },
    {
     "cell_type": "code",
     "collapsed": false,
     "input": [
      "split_data <- function(df, ratio=0.7, seed=NULL) {\n",
      "    ## To split a dataframe into train & test sets\n",
      "    ## with given ratio and random seed\n",
      "    if (!is.null(seed)) set.seed(seed)\n",
      "    all_indx   <- 1:nrow(df)\n",
      "    train_indx <- sample(all_indx, size=ratio*nrow(df), replace=FALSE)\n",
      "    train_set  <- df[train_indx , ]\n",
      "    test_set   <- df[-train_indx, ]\n",
      "    return(list(trainset=train_set, testset=test_set))\n",
      "}\n",
      "\n",
      "splits <- split_data(df)\n",
      "\n",
      "## Show the number of training and test samples\n",
      "lapply(splits, nrow)\n",
      "\n",
      "X_train <- splits$trainset[,1:4]\n",
      "y_train <- splits$trainset[,5]\n",
      "X_test <- splits$testset[,1:4]\n",
      "y_test <- splits$testset[,5]"
     ],
     "language": "python",
     "metadata": {},
     "outputs": [
      {
       "metadata": {},
       "output_type": "pyout",
       "prompt_number": 37,
       "text": [
        "$trainset\n",
        "[1] 105\n",
        "\n",
        "$testset\n",
        "[1] 45\n"
       ]
      }
     ],
     "prompt_number": 37
    },
    {
     "cell_type": "markdown",
     "metadata": {},
     "source": [
      "## Feature Standardization\n",
      "\n",
      "Centering the data by mean vector of training features, and scaling by their standard deviation"
     ]
    },
    {
     "cell_type": "code",
     "collapsed": false,
     "input": [
      "## Find the mean and sigma of features from training set\n",
      "train_mean <- apply(X_train, 2, mean)  # alternatively use colMeans()\n",
      "train_sd <- apply(X_train, 2, sd)\n",
      "train_mean\n",
      "train_sd\n",
      "\n",
      "X_train <- scale(X_train, center=TRUE, scale=train_sd)\n",
      "# alternative way: X_train <- t((t(X_train) - train_mean)/train_sd)\n",
      "\n",
      "X_test <- scale(X_test, center=train_mean, scale=train_sd)\n",
      "apply(X_test, 2, mean)\n",
      "apply(X_test, 2, sd)"
     ],
     "language": "python",
     "metadata": {},
     "outputs": [
      {
       "metadata": {},
       "output_type": "pyout",
       "prompt_number": 38,
       "text": [
        "      V1       V2       V3       V4 \n",
        "5.811429 3.069524 3.715238 1.199048 "
       ]
      },
      {
       "metadata": {},
       "output_type": "pyout",
       "prompt_number": 38,
       "text": [
        "       V1        V2        V3        V4 \n",
        "0.8342793 0.4493850 1.8183245 0.7918449 "
       ]
      },
      {
       "metadata": {},
       "output_type": "pyout",
       "prompt_number": 38,
       "text": [
        "           V1            V2            V3            V4 \n",
        " 6.298492e-17 -7.531281e-17  1.003621e-16 -1.339249e-16 "
       ]
      },
      {
       "metadata": {},
       "output_type": "pyout",
       "prompt_number": 38,
       "text": [
        "V1 V2 V3 V4 \n",
        " 1  1  1  1 "
       ]
      },
      {
       "metadata": {},
       "output_type": "pyout",
       "prompt_number": 38,
       "text": [
        "          V1           V2           V3           V4 \n",
        " 0.127474341 -0.115148549  0.079612799 -0.001603649 "
       ]
      },
      {
       "metadata": {},
       "output_type": "pyout",
       "prompt_number": 38,
       "text": [
        "       V1        V2        V3        V4 \n",
        "0.9802259 0.8828550 0.9057531 0.8842120 "
       ]
      }
     ],
     "prompt_number": 38
    },
    {
     "cell_type": "code",
     "collapsed": false,
     "input": [],
     "language": "python",
     "metadata": {},
     "outputs": []
    }
   ],
   "metadata": {}
  }
 ]
}