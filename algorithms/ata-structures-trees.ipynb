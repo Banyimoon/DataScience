{
 "cells": [
  {
   "cell_type": "markdown",
   "metadata": {},
   "source": [
    "Tree Data Structures\n",
    "========\n",
    "\n",
    "Tree data structures are recursive\n",
    "\n",
    "Tree is a nonlinear data structure\n",
    "\n",
    "\n",
    "## Definitions of Tree Terminology\n",
    "\n",
    "#### Node\n",
    "#### Root\n",
    "#### Edge\n",
    "#### Descendants\n",
    "#### Anscestors\n"
   ]
  },
  {
   "cell_type": "markdown",
   "metadata": {},
   "source": [
    "### HTML and CSS\n",
    "\n",
    "```html\n",
    "<html>\n",
    " <head>\n",
    " \n",
    " </head>\n",
    " \n",
    " <body>\n",
    "   <h1> This is a <u> Heading </u>  </h1>\n",
    "   <p>  This is a paragraph with some <u> underlined </u> text.  </p>\n",
    " </body>\n",
    "\n",
    "</html>\n",
    "```\n",
    "\n",
    "##### CSS\n",
    "\n",
    "```html\n",
    "<style type=\"text/css\">\n",
    "    h1 { color:blue; }\n",
    "    u  { color:red; }\n",
    "</style>\n",
    "```"
   ]
  },
  {
   "cell_type": "code",
   "execution_count": null,
   "metadata": {
    "collapsed": true
   },
   "outputs": [],
   "source": []
  }
 ],
 "metadata": {
  "kernelspec": {
   "display_name": "Python 3",
   "language": "python",
   "name": "python3"
  },
  "language_info": {
   "codemirror_mode": {
    "name": "ipython",
    "version": 3
   },
   "file_extension": ".py",
   "mimetype": "text/x-python",
   "name": "python",
   "nbconvert_exporter": "python",
   "pygments_lexer": "ipython3",
   "version": "3.4.3"
  }
 },
 "nbformat": 4,
 "nbformat_minor": 0
}
