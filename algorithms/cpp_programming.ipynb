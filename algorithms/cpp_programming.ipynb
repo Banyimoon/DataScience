{
 "cells": [
  {
   "cell_type": "markdown",
   "metadata": {},
   "source": [
    "## Standard Template Library\n",
    "\n",
    "### vector vs. array\n",
    "\n",
    " **Why vector instead of array?**\n",
    " \n",
    "  * Arrays do not support copying wirh `=`\n",
    "  * Arrays do not support comparison with `==`\n",
    "  * Arrays do not remember their size\n",
    "  * Arrays do not check if the index is valid or no\n",
    "  \n",
    "\n",
    "Different ways of initializing vectors:\n",
    "\n",
    "```c++\n",
    "\n",
    "/*** array initialization ***/\n",
    "int array[] = {1,2,3,4,5,6,7,8,9,10};\n",
    "\n",
    "/*** vector initialization ***/\n",
    "vector<int> v1 {10}; // v1 has size=1, with first element=10\n",
    "vector<int> v1 (10); // v1 has size=10\n",
    "```\n",
    "\n",
    "### string class vs. built-in string\n",
    "\n",
    " * Built-in string is simply an array of characters\n",
    " * Built-in string has the porblems of arrays"
   ]
  },
  {
   "cell_type": "markdown",
   "metadata": {},
   "source": [
    "### range\n",
    "\n",
    "```c++\n",
    "int sum = 0;\n",
    "\n",
    "for (auto x : myvec) { // auto: infer automatic type\n",
    "   sum += x;\n",
    "}\n",
    "```"
   ]
  },
  {
   "cell_type": "markdown",
   "metadata": {},
   "source": [
    "### lvalue reference vs. rvalue reference\n",
    "\n",
    " * lvalue reference can be used as another name for a variable\n",
    "\n",
    "**lvalue reference:**\n",
    "\n",
    "```c++\n",
    "string str = 'Hello';\n",
    "string & lstr = str;  // lvalue ref. for str\n",
    "   \n",
    "lstr += ' world!'; // changes str to 'Hello world!'\n",
    "```\n",
    "\n",
    "**rvalue reference**\n",
    "\n",
    "```c++\n",
    "string && rstr = \"Hello\";\n",
    "```"
   ]
  },
  {
   "cell_type": "markdown",
   "metadata": {},
   "source": [
    "#### lvalue reference usages\n",
    "\n",
    " * **aliasing complicated names**\n",
    " \n",
    "Create a new name for a complicated reference\n",
    "\n",
    "```c++\n",
    "auto & easyref = myList[ myhash(x+y, mylist.size() ];\n",
    "```\n",
    "\n",
    " * **modifiying elements in range loop**\n",
    " \n",
    "Suppose we intend to so \n",
    "\n",
    "```c++\n",
    "for(i=0\n",
    "```"
   ]
  },
  {
   "cell_type": "code",
   "execution_count": null,
   "metadata": {
    "collapsed": true
   },
   "outputs": [],
   "source": []
  }
 ],
 "metadata": {
  "kernelspec": {
   "display_name": "Python 3",
   "language": "python",
   "name": "python3"
  }
 },
 "nbformat": 4,
 "nbformat_minor": 0
}
