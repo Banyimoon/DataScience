{
 "cells": [
  {
   "cell_type": "markdown",
   "metadata": {},
   "source": [
    "Analyzing Data using Python and SQLite3\n",
    "==="
   ]
  },
  {
   "cell_type": "markdown",
   "metadata": {},
   "source": [
    "## SQLite basics\n",
    "\n",
    " * Create a connection\n",
    "   * `conn = sqlite3.connect('database_file')`\n",
    "   * `cur = conn.curser()`\n",
    " * Execute SQL commands\n",
    "   * execute: `cur.execute('SQL COMMANDS')`\n",
    "   * commit to save changes made to the database: `conn.commit()`\n",
    " * Retrieve results\n",
    "   * execute the retrieval query `cur.execute('SELECT QUERY')`\n",
    "   * Fetch the results\n",
    "     * Fetch all the results at once: `cur.fecthall()`\n",
    "     * Fetch only one result: `cur.fetchone()`\n",
    " * Close the connection\n",
    "   * `conn.close()`"
   ]
  },
  {
   "cell_type": "markdown",
   "metadata": {},
   "source": [
    "## Data types\n",
    "\n",
    "|Data Type|\tAffinity|\n",
    "|:--|:--:|\n",
    "|INT INTEGER TINYINT SMALLINT <br> MEDIUMINT BIGINT UNSIGNED<br> BIG INT INT2 INT8|\tINTEGER|\n",
    "|CHARACTER(20) VARCHAR(255) <br>VARYING CHARACTER(255) <br>NCHAR(55) NATIVE CHARACTER(70) <br> NVARCHAR(100) TEXT CLOB|\tTEXT|\n",
    "|BLOB no datatype specified\t|NONE|\n",
    "|REAL DOUBLE <br>DOUBLE PRECISION FLOAT\t|REAL|"
   ]
  },
  {
   "cell_type": "markdown",
   "metadata": {},
   "source": [
    "#### Example: create a table to store data from a textfile\n",
    "\n",
    " \n",
    " * First, create a connection"
   ]
  },
  {
   "cell_type": "code",
   "execution_count": 1,
   "metadata": {
    "collapsed": true
   },
   "outputs": [],
   "source": [
    "import sqlite3\n",
    "\n",
    "conn = sqlite3.connect('/tmp/election_tweets.sqlite')\n",
    "cur = conn.cursor()"
   ]
  },
  {
   "cell_type": "markdown",
   "metadata": {},
   "source": [
    " * Setup/create a table"
   ]
  },
  {
   "cell_type": "code",
   "execution_count": 2,
   "metadata": {
    "collapsed": false
   },
   "outputs": [],
   "source": [
    "cur.execute(\"DROP TABLE IF EXISTS Tweets\")\n",
    "\n",
    "cur.execute(\"CREATE TABLE Tweets(state VARCHAR(10), party VARCHAR(20), sentiment INT2)\")\n",
    "\n",
    "conn.commit()"
   ]
  },
  {
   "cell_type": "markdown",
   "metadata": {},
   "source": [
    " * Read data using pandas and store them in sqlite "
   ]
  },
  {
   "cell_type": "code",
   "execution_count": 4,
   "metadata": {
    "collapsed": false
   },
   "outputs": [],
   "source": [
    "import pandas as pd\n",
    "\n",
    "reader = pd.read_table('http://vahidmirjalili.com/election-2016/opFromNLP-2.txt', \n",
    "                       sep='|', header=None, chunksize=100)\n",
    "\n",
    "sentiment={'Neutral':0,\n",
    "           'Positive':1,\n",
    "           'Negative':-1}\n",
    "\n",
    "for chunk in reader:\n",
    "    for i in range(chunk.shape[0]):\n",
    "        line = chunk.iloc[[i]].values[0]\n",
    "        cur.execute(\"INSERT INTO Tweets (state, party, sentiment) \\\n",
    "                    VALUES (?,?,?)\",\n",
    "                  (line[0], line[1], sentiment[line[2]]))\n",
    "    conn.commit()"
   ]
  },
  {
   "cell_type": "markdown",
   "metadata": {
    "collapsed": true
   },
   "source": [
    "## Summarizing Queries\n",
    "\n",
    " * Total number of tweets\n",
    "```sql\n",
    "SELECT COUNT(*) \n",
    "FROM Tweets;\n",
    "```\n",
    " * Total number of neutral/positive/negative tweets\n",
    "```sql\n",
    "SELECT sentiment,COUNT(*)\n",
    "FROM Tweets\n",
    "GROUP BY sentiment;\n",
    "```\n",
    " * Sum of sentiment values in each state for each party\n",
    "```sql\n",
    "SELECT state,pary,SUM(sentiment)\n",
    "FROM Tweets\n",
    "GROUP BY state,party;\n",
    "```"
   ]
  },
  {
   "cell_type": "code",
   "execution_count": 6,
   "metadata": {
    "collapsed": false
   },
   "outputs": [
    {
     "name": "stdout",
     "output_type": "stream",
     "text": [
      "Total number of tweets: 1063888\n"
     ]
    }
   ],
   "source": [
    "cur.execute('SELECT count(*) FROM Tweets')\n",
    "num_tweets = cur.fetchall()\n",
    "print('Total number of tweets: %d'%(num_tweets[0]))"
   ]
  },
  {
   "cell_type": "code",
   "execution_count": 8,
   "metadata": {
    "collapsed": false
   },
   "outputs": [
    {
     "name": "stdout",
     "output_type": "stream",
     "text": [
      "Count of -1 tweets: 563479\n",
      "Count of 0 tweets: 347179\n",
      "Count of 1 tweets: 153230\n"
     ]
    }
   ],
   "source": [
    "cur.execute('SELECT sentiment,COUNT(*) FROM Tweets GROUP BY sentiment')\n",
    "results = cur.fetchall()\n",
    "\n",
    "for res in results:\n",
    "    print(\"Count of %d tweets: %d\"%(res[0], res[1]))"
   ]
  },
  {
   "cell_type": "code",
   "execution_count": 19,
   "metadata": {
    "collapsed": false
   },
   "outputs": [
    {
     "name": "stdout",
     "output_type": "stream",
     "text": [
      "AK\tDemocrat:  -0.33\tRepublican:  -0.31\n",
      "AL\tDemocrat:  -0.30\tRepublican:  -0.30\n",
      "AR\tDemocrat:  -0.45\tRepublican:  -0.43\n",
      "AZ\tDemocrat:  -0.36\tRepublican:  -0.37\n",
      "CA\tDemocrat:  -0.39\tRepublican:  -0.39\n",
      "CO\tDemocrat:  -0.36\tRepublican:  -0.32\n",
      "CT\tDemocrat:  -0.47\tRepublican:  -0.47\n",
      "DC\tDemocrat:   0.00\tRepublican:  -0.33\n",
      "DE\tDemocrat:  -0.27\tRepublican:  -0.40\n",
      "FL\tDemocrat:  -0.18\tRepublican:  -0.17\n",
      "GA\tDemocrat:  -0.30\tRepublican:  -0.32\n",
      "HI\tDemocrat:  -0.37\tRepublican:  -0.39\n",
      "IA\tDemocrat:  -0.15\tRepublican:  -0.16\n",
      "ID\tDemocrat:  -0.36\tRepublican:  -0.35\n",
      "IL\tDemocrat:  -0.39\tRepublican:  -0.40\n",
      "IN\tDemocrat:  -0.29\tRepublican:  -0.29\n",
      "KS\tDemocrat:  -0.27\tRepublican:  -0.27\n",
      "KY\tDemocrat:  -0.86\tRepublican:  -0.87\n",
      "LA\tDemocrat:  -0.25\tRepublican:  -0.25\n",
      "MA\tDemocrat:  -0.32\tRepublican:  -0.34\n",
      "MD\tDemocrat:  -0.21\tRepublican:  -0.20\n",
      "ME\tDemocrat:  -0.64\tRepublican:  -0.65\n",
      "MI\tDemocrat:  -0.50\tRepublican:  -0.50\n",
      "MN\tDemocrat:  -0.36\tRepublican:  -0.35\n",
      "MO\tDemocrat:  -0.29\tRepublican:  -0.32\n",
      "MS\tDemocrat:  -0.81\tRepublican:  -0.81\n",
      "MT\tDemocrat:  -0.34\tRepublican:  -0.29\n",
      "NC\tDemocrat:  -0.15\tRepublican:  -0.16\n",
      "ND\tDemocrat:  -0.31\tRepublican:  -0.30\n",
      "NE\tDemocrat:  -0.32\tRepublican:  -0.35\n",
      "NH\tDemocrat:  -0.35\tRepublican:  -0.33\n",
      "NJ\tDemocrat:  -0.50\tRepublican:  -0.50\n",
      "NM\tDemocrat:  -0.97\tRepublican:  -0.97\n",
      "NV\tDemocrat:  -0.31\tRepublican:  -0.31\n",
      "NY\tDemocrat:  -0.18\tRepublican:  -0.18\n",
      "OH\tDemocrat:  -0.28\tRepublican:  -0.31\n",
      "OK\tDemocrat:   0.41\tRepublican:   0.41\n",
      "OR\tDemocrat:  -0.05\tRepublican:  -0.04\n",
      "PA\tDemocrat:  -0.46\tRepublican:  -0.46\n",
      "PR\tDemocrat:  -0.32\tRepublican:  -0.26\n",
      "RI\tDemocrat:  -0.31\tRepublican:  -0.32\n",
      "SC\tDemocrat:  -0.22\tRepublican:  -0.24\n",
      "SD\tDemocrat:  -0.43\tRepublican:  -0.36\n",
      "TN\tDemocrat:  -0.34\tRepublican:  -0.36\n",
      "TX\tDemocrat:  -0.40\tRepublican:  -0.41\n",
      "UT\tDemocrat:  -0.26\tRepublican:  -0.30\n",
      "VA\tDemocrat:  -0.30\tRepublican:  -0.29\n",
      "VI\tDemocrat:  -0.75\tRepublican:  -0.40\n",
      "VT\tDemocrat:  -0.22\tRepublican:  -0.35\n",
      "WA\tDemocrat:  -0.45\tRepublican:  -0.44\n",
      "WI\tDemocrat:  -0.45\tRepublican:  -0.47\n",
      "WV\tDemocrat:  -0.34\tRepublican:  -0.36\n",
      "WY\tDemocrat:  -0.33\tRepublican:  -0.31\n"
     ]
    }
   ],
   "source": [
    "cur.execute('SELECT state,SUM(sentiment),count(*) \\\n",
    "            FROM Tweets WHERE party=\"Democrat\" GROUP BY state')\n",
    "dem_results = cur.fetchall()\n",
    "cur.execute('SELECT state,SUM(sentiment),count(*) \\\n",
    "            FROM Tweets WHERE party=\"Republican\" GROUP BY state')\n",
    "rep_results = cur.fetchall()\n",
    "\n",
    "for dem_res,rep_res in zip(dem_results,rep_results):\n",
    "    if(len(dem_res[0]) == 2):\n",
    "        print(\"%s\\tDemocrat: %6.2f\\tRepublican: %6.2f\"%(\n",
    "                dem_res[0], dem_res[1]/dem_res[2], rep_res[1]/rep_res[2]))"
   ]
  },
  {
   "cell_type": "code",
   "execution_count": 20,
   "metadata": {
    "collapsed": false
   },
   "outputs": [
    {
     "name": "stdout",
     "output_type": "stream",
     "text": [
      "AK\tRepublican\t0.024\n",
      "AL\tDemocrat  \t0.005\n",
      "AR\tRepublican\t0.020\n",
      "AZ\tDemocrat  \t0.004\n",
      "CA\tRepublican\t0.007\n",
      "CO\tRepublican\t0.039\n",
      "CT\tRepublican\t0.005\n",
      "DC\tDemocrat  \t0.333\n",
      "DE\tDemocrat  \t0.123\n",
      "FL\tRepublican\t0.003\n",
      "GA\tDemocrat  \t0.016\n",
      "HI\tDemocrat  \t0.011\n",
      "IA\tDemocrat  \t0.013\n",
      "ID\tRepublican\t0.010\n",
      "IL\tDemocrat  \t0.009\n",
      "IN\tRepublican\t0.003\n",
      "KS\tRepublican\t0.002\n",
      "KY\tDemocrat  \t0.006\n",
      "LA\tRepublican\t0.003\n",
      "MA\tDemocrat  \t0.012\n",
      "MD\tRepublican\t0.011\n",
      "ME\tDemocrat  \t0.015\n",
      "MI\tDemocrat  \t0.001\n",
      "MN\tRepublican\t0.005\n",
      "MO\tDemocrat  \t0.025\n",
      "MS\tDemocrat  \t0.005\n",
      "MT\tRepublican\t0.050\n",
      "NC\tDemocrat  \t0.008\n",
      "ND\tRepublican\t0.015\n",
      "NE\tDemocrat  \t0.024\n",
      "NH\tRepublican\t0.018\n",
      "NJ\tRepublican\t0.003\n",
      "NM\tRepublican\t0.001\n",
      "NV\tDemocrat  \t0.000\n",
      "NY\tRepublican\t0.006\n",
      "OH\tDemocrat  \t0.027\n",
      "OK\tDemocrat  \t0.000\n",
      "OR\tRepublican\t0.011\n",
      "PA\tDemocrat  \t0.008\n",
      "PR\tRepublican\t0.052\n",
      "RI\tDemocrat  \t0.010\n",
      "SC\tDemocrat  \t0.015\n",
      "SD\tRepublican\t0.064\n",
      "TN\tDemocrat  \t0.017\n",
      "TX\tDemocrat  \t0.012\n",
      "UT\tDemocrat  \t0.044\n",
      "VA\tRepublican\t0.010\n",
      "VI\tRepublican\t0.350\n",
      "VT\tDemocrat  \t0.128\n",
      "WA\tRepublican\t0.002\n",
      "WI\tDemocrat  \t0.026\n",
      "WV\tDemocrat  \t0.017\n",
      "WY\tRepublican\t0.019\n"
     ]
    }
   ],
   "source": [
    "for dem_res,rep_res in zip(dem_results,rep_results):\n",
    "    if(len(dem_res[0]) == 2):\n",
    "        if (dem_res[1]/dem_res[2] > rep_res[1]/rep_res[2]):\n",
    "            print(\"%s\\tDemocrat  \\t%.3f\"%(\n",
    "                    dem_res[0], dem_res[1]/dem_res[2] -rep_res[1]/rep_res[2]))\n",
    "        else:\n",
    "            print(\"%s\\tRepublican\\t%.3f\"%(\n",
    "                    rep_res[0], rep_res[1]/rep_res[2] - dem_res[1]/dem_res[2]))"
   ]
  },
  {
   "cell_type": "code",
   "execution_count": null,
   "metadata": {
    "collapsed": true
   },
   "outputs": [],
   "source": []
  }
 ],
 "metadata": {
  "kernelspec": {
   "display_name": "Python 3",
   "language": "python",
   "name": "python3"
  },
  "language_info": {
   "codemirror_mode": {
    "name": "ipython",
    "version": 3
   },
   "file_extension": ".py",
   "mimetype": "text/x-python",
   "name": "python",
   "nbconvert_exporter": "python",
   "pygments_lexer": "ipython3",
   "version": "3.5.1"
  }
 },
 "nbformat": 4,
 "nbformat_minor": 0
}
