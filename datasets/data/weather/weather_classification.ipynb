{
 "cells": [
  {
   "cell_type": "code",
   "execution_count": 1,
   "metadata": {
    "collapsed": true
   },
   "outputs": [],
   "source": [
    "from pyspark import SparkContext \n",
    "sc = SparkContext('local','example')"
   ]
  },
  {
   "cell_type": "code",
   "execution_count": 3,
   "metadata": {
    "collapsed": false
   },
   "outputs": [],
   "source": [
    "exec(open('doweathclass_gendata.py').read())"
   ]
  },
  {
   "cell_type": "code",
   "execution_count": 5,
   "metadata": {
    "collapsed": false
   },
   "outputs": [
    {
     "data": {
      "text/plain": [
       "PythonRDD[7] at RDD at PythonRDD.scala:43"
      ]
     },
     "execution_count": 5,
     "metadata": {},
     "output_type": "execute_result"
    }
   ],
   "source": [
    "datax_rdd"
   ]
  },
  {
   "cell_type": "code",
   "execution_count": 6,
   "metadata": {
    "collapsed": false
   },
   "outputs": [
    {
     "data": {
      "text/plain": [
       "[LabeledPoint(0.0, [1.0,0.0,0.0,85.0,85.0,0.0]),\n",
       " LabeledPoint(0.0, [1.0,0.0,0.0,80.0,90.0,1.0]),\n",
       " LabeledPoint(1.0, [0.0,1.0,0.0,83.0,86.0,0.0])]"
      ]
     },
     "execution_count": 6,
     "metadata": {},
     "output_type": "execute_result"
    }
   ],
   "source": [
    "datax_rdd.take(3)"
   ]
  },
  {
   "cell_type": "code",
   "execution_count": 9,
   "metadata": {
    "collapsed": false
   },
   "outputs": [
    {
     "name": "stdout",
     "output_type": "stream",
     "text": [
      "<pyspark.mllib.classification.NaiveBayesModel object at 0x7f972803cc88>\n",
      "[1.0, 0.0, 1.0, 1.0, 1.0, 1.0, 1.0, 0.0, 1.0, 1.0, 1.0, 1.0, 1.0, 0.0]\n",
      "Naive Bayes: Conf.Mat. and Per Corr\n",
      "[[ 3.  2.]\n",
      " [ 0.  9.]]\n",
      "0.857142857143\n"
     ]
    },
    {
     "name": "stderr",
     "output_type": "stream",
     "text": [
      "/home/vahid/anaconda3/envs/py34/lib/python3.4/site-packages/ipykernel/__main__.py:34: DeprecationWarning: using a non-integer number instead of an integer will result in an error in the future\n"
     ]
    }
   ],
   "source": [
    "exec(open('doweathclass_naivebayes.py').read())"
   ]
  },
  {
   "cell_type": "code",
   "execution_count": 10,
   "metadata": {
    "collapsed": false
   },
   "outputs": [
    {
     "name": "stdout",
     "output_type": "stream",
     "text": [
      "DecisionTreeModel classifier of depth 3 with 9 nodes\n",
      "  If (feature 1 <= 0.0)\n",
      "   If (feature 4 <= 80.0)\n",
      "    If (feature 3 <= 68.0)\n",
      "     Predict: 0.0\n",
      "    Else (feature 3 > 68.0)\n",
      "     Predict: 1.0\n",
      "   Else (feature 4 > 80.0)\n",
      "    If (feature 0 <= 0.0)\n",
      "     Predict: 0.0\n",
      "    Else (feature 0 > 0.0)\n",
      "     Predict: 0.0\n",
      "  Else (feature 1 > 0.0)\n",
      "   Predict: 1.0\n",
      "\n",
      "Decision Tree: Conf.Mat. and Per Corr\n",
      "[[ 5.  0.]\n",
      " [ 2.  7.]]\n",
      "0.857142857143\n"
     ]
    },
    {
     "name": "stderr",
     "output_type": "stream",
     "text": [
      "/home/vahid/anaconda3/envs/py34/lib/python3.4/site-packages/ipykernel/__main__.py:38: DeprecationWarning: using a non-integer number instead of an integer will result in an error in the future\n"
     ]
    }
   ],
   "source": [
    "exec(open('doweathclass_dectree.py').read())"
   ]
  },
  {
   "cell_type": "code",
   "execution_count": 11,
   "metadata": {
    "collapsed": false
   },
   "outputs": [
    {
     "data": {
      "text/plain": [
       "1.0"
      ]
     },
     "execution_count": 11,
     "metadata": {},
     "output_type": "execute_result"
    }
   ],
   "source": [
    "newpoint  = np.array([1,0,0,68,79,0])\n",
    "my_nbmodel.predict(newpoint)"
   ]
  },
  {
   "cell_type": "code",
   "execution_count": 14,
   "metadata": {
    "collapsed": false
   },
   "outputs": [
    {
     "data": {
      "text/plain": [
       "0.0"
      ]
     },
     "execution_count": 14,
     "metadata": {},
     "output_type": "execute_result"
    }
   ],
   "source": [
    "dt_model.predict(newpoint)"
   ]
  },
  {
   "cell_type": "code",
   "execution_count": 16,
   "metadata": {
    "collapsed": false
   },
   "outputs": [
    {
     "name": "stdout",
     "output_type": "stream",
     "text": [
      "DecisionTreeModel classifier of depth 3 with 9 nodes\n",
      "  If (feature 1 <= 0.0)\n",
      "   If (feature 4 <= 80.0)\n",
      "    If (feature 3 <= 68.0)\n",
      "     Predict: 0.0\n",
      "    Else (feature 3 > 68.0)\n",
      "     Predict: 1.0\n",
      "   Else (feature 4 > 80.0)\n",
      "    If (feature 0 <= 0.0)\n",
      "     Predict: 0.0\n",
      "    Else (feature 0 > 0.0)\n",
      "     Predict: 0.0\n",
      "  Else (feature 1 > 0.0)\n",
      "   Predict: 1.0\n",
      "\n"
     ]
    }
   ],
   "source": [
    "print(dt_model.toDebugString())"
   ]
  },
  {
   "cell_type": "code",
   "execution_count": null,
   "metadata": {
    "collapsed": true
   },
   "outputs": [],
   "source": []
  }
 ],
 "metadata": {
  "kernelspec": {
   "display_name": "Python 3",
   "language": "python",
   "name": "python3"
  },
  "language_info": {
   "codemirror_mode": {
    "name": "ipython",
    "version": 3
   },
   "file_extension": ".py",
   "mimetype": "text/x-python",
   "name": "python",
   "nbconvert_exporter": "python",
   "pygments_lexer": "ipython3",
   "version": "3.4.3"
  }
 },
 "nbformat": 4,
 "nbformat_minor": 0
}
