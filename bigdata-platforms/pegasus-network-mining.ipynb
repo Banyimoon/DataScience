{
 "cells": [
  {
   "cell_type": "markdown",
   "metadata": {},
   "source": [
    "Network Mining with PEGASUS\n",
    "==="
   ]
  },
  {
   "cell_type": "markdown",
   "metadata": {},
   "source": [
    " * Pegasus is a very light software\n",
    " * Can be easily installed"
   ]
  },
  {
   "cell_type": "markdown",
   "metadata": {},
   "source": [
    "#### Installation\n",
    "\n",
    " * Unzip `tar xvfz PEGASUSH-2.0.tar.gz`"
   ]
  },
  {
   "cell_type": "markdown",
   "metadata": {},
   "source": [
    "### Usage\n",
    "\n",
    " * Run the program `pegasus.sh`\n",
    " * Add a file to HDFS\n",
    "```\n",
    "PEGASUS> add data/karate.edges karate\n",
    "```\n",
    " * List the tables\n",
    "```\n",
    "PEGASUS> list\n",
    "```\n",
    "\n",
    " * Do some computations\n",
    "```\n",
    "PEGASUS> compute deg karate\n",
    "Enter parameters: [in or out or inout] \n",
    "```\n",
    "  * To view the results, get it from HDFS \n",
    "```\n",
    "hadoop dfs -getmerge hdfsPath localPath\n",
    "```"
   ]
  },
  {
   "cell_type": "markdown",
   "metadata": {},
   "source": []
  }
 ],
 "metadata": {
  "kernelspec": {
   "display_name": "Python 3",
   "language": "python",
   "name": "python3"
  },
  "language_info": {
   "codemirror_mode": {
    "name": "ipython",
    "version": 3
   },
   "file_extension": ".py",
   "mimetype": "text/x-python",
   "name": "python",
   "nbconvert_exporter": "python",
   "pygments_lexer": "ipython3",
   "version": "3.5.1"
  }
 },
 "nbformat": 4,
 "nbformat_minor": 0
}
