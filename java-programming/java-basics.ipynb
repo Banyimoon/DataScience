{
 "cells": [
  {
   "cell_type": "markdown",
   "metadata": {},
   "source": [
    "## Input and output\n",
    "\n",
    "```java\n",
    "System.out.println(\"Some text\");\n",
    "System.out.println(myint);\n",
    "```\n",
    "\n",
    "Reading from input using **Scanner**\n",
    "\n",
    "```java\n",
    "import java.util.*;\n",
    "...\n",
    "    Scanner sc=new Scanner(System.in);\n",
    "    int a = sc.nextInt();\n",
    "    \n",
    "    while(sc.hasNextInt()){\n",
    "        int a=sc.nextInt();\n",
    "        System.out.println(a);\n",
    "    }\n",
    "```\n",
    "\n",
    "**Using Scanner**\n",
    "  * to read int: `sc.nextInt()`\n",
    "  * to read double: `sc.nextDouble()`\n",
    "  * to read String: `sc.nextLine()` or `sc.next()`\n",
    "  \n",
    "**Formatting the output:** `System.out.format(\"\", ..)`"
   ]
  },
  {
   "cell_type": "markdown",
   "metadata": {
    "collapsed": true
   },
   "source": [
    "###"
   ]
  }
 ],
 "metadata": {
  "kernelspec": {
   "display_name": "Python 3",
   "language": "python",
   "name": "python3"
  },
  "language_info": {
   "codemirror_mode": {
    "name": "ipython",
    "version": 3
   },
   "file_extension": ".py",
   "mimetype": "text/x-python",
   "name": "python",
   "nbconvert_exporter": "python",
   "pygments_lexer": "ipython3",
   "version": "3.5.1"
  }
 },
 "nbformat": 4,
 "nbformat_minor": 0
}
