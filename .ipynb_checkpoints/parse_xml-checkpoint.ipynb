{
 "metadata": {
  "name": "",
  "signature": "sha256:2b5d55153b3dfd707d14586dcb30f82adaa8a789ad0ba2db9dd6f930894ff06a"
 },
 "nbformat": 3,
 "nbformat_minor": 0,
 "worksheets": [
  {
   "cells": [
    {
     "cell_type": "markdown",
     "metadata": {},
     "source": [
      "Parsing XML documents in python\n",
      "=========================\n",
      "\n",
      "**Vahid Mirjalili, Data Scientist**\n",
      "\n",
      "\n",
      "## Example 1: food menu\n"
     ]
    },
    {
     "cell_type": "code",
     "collapsed": false,
     "input": [
      "import xml.etree.ElementTree as ET\n",
      "\n",
      "from prettytable import PrettyTable\n",
      "\n",
      "#########################################\n",
      "tree = ET.parse('examples/simple.xml')\n",
      "root = tree.getroot()\n",
      "print (root)\n",
      "print (tree.getroot().tag)\n",
      "tree.getroot().attrib\n",
      "\n",
      "## Access child\n",
      "for child in tree.getroot():\n",
      "    print (child.tag, child.attrib)\n"
     ],
     "language": "python",
     "metadata": {},
     "outputs": [
      {
       "output_type": "stream",
       "stream": "stdout",
       "text": [
        "<Element 'breakfast_menu' at 0x1d6f310>\n",
        "breakfast_menu\n",
        "('food', {})\n",
        "('food', {})\n",
        "('food', {})\n",
        "('food', {})\n",
        "('food', {})\n"
       ]
      }
     ],
     "prompt_number": 1
    },
    {
     "cell_type": "code",
     "collapsed": false,
     "input": [
      "## Create A Table to output the results\n",
      "tb = PrettyTable([\"Item Name\", \"Price\", \"Calories\"])\n",
      "tb.align[\"Item Name\"] = \"l\" # left aligned\n",
      "tb.padding_width = 1\n",
      "\n",
      "## Finding items' names, prices and calories\n",
      "for child in tree.getroot():\n",
      "    food_name = child.find('name')\n",
      "    price = child.find('price')\n",
      "    calories = child.find('calories')\n",
      "    #print food_name.text, price.text\n",
      "    tb.add_row([food_name.text, price.text, calories.text])\n",
      "\n",
      "print(tb)"
     ],
     "language": "python",
     "metadata": {},
     "outputs": [
      {
       "output_type": "stream",
       "stream": "stdout",
       "text": [
        "+-----------------------------+-------+----------+\n",
        "| Item Name                   | Price | Calories |\n",
        "+-----------------------------+-------+----------+\n",
        "| Belgian Waffles             | $5.95 |   650    |\n",
        "| Strawberry Belgian Waffles  | $7.95 |   900    |\n",
        "| Berry-Berry Belgian Waffles | $8.95 |   900    |\n",
        "| French Toast                | $4.50 |   600    |\n",
        "| Homestyle Breakfast         | $6.95 |   950    |\n",
        "+-----------------------------+-------+----------+\n"
       ]
      }
     ],
     "prompt_number": 2
    },
    {
     "cell_type": "markdown",
     "metadata": {},
     "source": [
      "## Example 2: Plant Catalog"
     ]
    },
    {
     "cell_type": "code",
     "collapsed": false,
     "input": [],
     "language": "python",
     "metadata": {},
     "outputs": []
    }
   ],
   "metadata": {}
  }
 ]
}