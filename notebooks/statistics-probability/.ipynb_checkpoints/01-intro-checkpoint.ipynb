{
 "cells": [
  {
   "cell_type": "markdown",
   "metadata": {},
   "source": [
    "Theory of Probability and Statistics\n",
    "=========\n",
    "\n",
    " * Understanding stochastic phenomena (greek word stochos)"
   ]
  },
  {
   "cell_type": "markdown",
   "metadata": {},
   "source": [
    "## Probability Space\n",
    "\n",
    "Probability space which is  also called \"sample space\", the space of all possible outcomes and is often denoted as $\\Omega$. \n",
    "\n",
    "##### Example\n",
    "\n",
    "For example, the possible oucomes for throwing a 6-sided die is $\\Omega = \\left\\{ 1,2,3,4,5,6\\right\\}$. Therefore, $\\Omega$ is the probability space for this experiment.\n",
    "\n",
    "\n",
    "##### Definition:\n",
    " *  **Elementary Outcome** is an outcome that cannot be broken down into a set of other outcomes.\n",
    "\n",
    " *  **Probability Space** is the set of all possible elementary outcomes from an experiment.\n",
    " \n",
    "In the example above, each of the six possible outcomes are equally likely. This means that each elementary outcome has probability $1/6$.\n",
    "\n",
    " * (Q) What is the chance of rolling an even number?\n",
    "   * (A) The set of even numbers from a die is $\\{2,4,6\\}$. Therefore, the probability is $3/6 = 1/2$.\n",
    "   \n",
    "##### Notation\n",
    "\n",
    "Let $A = \\{2,4,6\\}$. \n",
    " * A is evidently a subset of $\\Omega$.\n",
    " * Any subset of $\\Omega$ by definition is an **event**.\n",
    " * We say probability of event $A$ is $\\mathbf{P}[A] = 1/2$\n",
    " * This equality is because $\\mathbf{P}[A] = \\mathbf{P}[\\{2,4,6\\}] = \\mathbf{P}[\\{2\\}] + \\mathbf{P}[\\{4\\}] + \\mathbf{P}[\\{6\\}] = 1/6 + 1/6 + 1/6 = 1/2$\n",
    " \n",
    "**Note:** we can separate $\\mathbf{P}[\\{2,4,6\\}]$ into $\\mathbf{P}[\\{2\\}] + \\mathbf{P}[\\{4\\}] + \\mathbf{P}[\\{6\\}]$ because these events are **incompatible (disjoint)** events. Meaning that they cannot occur at the same time.\n",
    "\n",
    " * Incomaptible events are also called **disjoint events**. Two evets $A, B$ are disjoint if $A \\cap B = \\varnothing \\ \\ \\text{(empty set)}$"
   ]
  },
  {
   "cell_type": "markdown",
   "metadata": {
    "collapsed": true
   },
   "source": [
    "## Formal Axioms of Probability\n",
    "\n",
    "For a probability space $\\Omega$ and probability measure $\\mathbf{P}$ (probability of any event $A \\subseteq \\Omega$ is $\\mathbf{P}[A]$ ):\n",
    "\n",
    " * **Axiom 1:** $\\mathbf{P}[A] \\ge 0$ for every event $A \\subseteq \\Omega$\n",
    " * **Axiom 2:** If $A_1, A_2, ... A_n, ..$ is a countable family of disjoint events, then $\\mathbf{P}[A_1 \\cup A_2 \\cup ... \\cup A_n .. ] = \\mathbf{P}[A_1] + \\mathbf{P}[A_2] + ... + \\mathbf{P}[A_n] + ...$\n",
    " * **Axiom 3:** $\\mathbf{P}[\\Omega] = 1$"
   ]
  },
  {
   "cell_type": "markdown",
   "metadata": {},
   "source": [
    "### Discrete Probability Space\n",
    "\n",
    "If $\\Omega$ is countable (finite or infinite), then we say we have a **discrete probability space**, and we can replace axioms 1&2 with\n",
    " * **Axiom 1:** $\\forall \\omega \\in \\Omega, \\ \\ \\mathbf{P}[\\{\\omega\\}] \\ge 0$\n",
    " * **Axiom 2:** $\\forall A \\subseteq \\Omega, \\mathbf{P}[A] = \\displaystyle \\sum_{\\omega \\in \\Omega} \\mathbf{P}[\\{\\omega\\}]$"
   ]
  },
  {
   "cell_type": "markdown",
   "metadata": {},
   "source": [
    "##### Example: toss of 3 coins\n",
    "\n",
    "The possible outcomes are $HHH\\ \\ HHT\\ HTT\\ TTT\\ TTH\\ THT$\n",
    "\n",
    "Based on the rule of **\"equally likely outcomes\"**, we conclude that each of the above outcomes has probability $1/6$."
   ]
  },
  {
   "cell_type": "markdown",
   "metadata": {},
   "source": [
    "### Theorem\n",
    "\n",
    " * If $\\Omega$ has equally likely outcomes, then $\\forall \\omega \\in \\Omega, \\ \\ \\mathbf{P}[\\{\\omega\\}] = \\displaystyle \\frac{1}{\\left\\vert\\Omega \\right\\vert}$\n",
    " \n",
    "### Corollary\n",
    "\n",
    " * If $\\Omega$ has equally likely outcomes, then $\\forall A \\subseteq \\Omega, \\ \\ \\mathbf{P}[A] = \\displaystyle \\frac{\\vert A \\vert}{\\vert \\Omega \\vert}$"
   ]
  },
  {
   "cell_type": "code",
   "execution_count": null,
   "metadata": {
    "collapsed": true
   },
   "outputs": [],
   "source": []
  }
 ],
 "metadata": {
  "kernelspec": {
   "display_name": "Python 3",
   "language": "python",
   "name": "python3"
  },
  "language_info": {
   "codemirror_mode": {
    "name": "ipython",
    "version": 3
   },
   "file_extension": ".py",
   "mimetype": "text/x-python",
   "name": "python",
   "nbconvert_exporter": "python",
   "pygments_lexer": "ipython3",
   "version": "3.5.0rc4"
  }
 },
 "nbformat": 4,
 "nbformat_minor": 0
}
