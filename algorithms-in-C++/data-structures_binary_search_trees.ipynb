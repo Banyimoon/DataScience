{
 "cells": [
  {
   "cell_type": "markdown",
   "metadata": {},
   "source": [
    "Binary Search Trees\n",
    "======"
   ]
  },
  {
   "cell_type": "markdown",
   "metadata": {},
   "source": [
    "```c++\n",
    "class TreeNode \n",
    "{\n",
    "    int valuel\n",
    "    TreeNode *left;\n",
    "    TreeNode *right;\n",
    "    \n",
    "    TreeNode(int value1, \n",
    "             TreeNode *left1=NullPtr,\n",
    "             TreeNode *right1=NullPtr);\n",
    "};\n",
    "```"
   ]
  },
  {
   "cell_type": "markdown",
   "metadata": {},
   "source": [
    "In-order traversal of a binary search tree will result in sorting the elements.\n",
    "\n",
    "**Pre-order:**\n",
    "```c++\n",
    "void IntBinaryTree::displayPreOrder(TreeNode *tree) const {\n",
    "\n",
    "}\n",
    "```\n",
    "\n",
    "**Post-order:**\n",
    "```c++\n",
    "void IntBinaryTree::displayPostOrder(TreeNode *tree) const {\n",
    "\n",
    "}\n",
    "```"
   ]
  },
  {
   "cell_type": "markdown",
   "metadata": {},
   "source": [
    "### Class\n",
    "\n",
    "```c++\n",
    "\n",
    "```"
   ]
  },
  {
   "cell_type": "markdown",
   "metadata": {
    "collapsed": true
   },
   "source": [
    "### Finding Min and Max\n",
    "\n",
    "```c++\n",
    "    template<typename Type>\n",
    "    <Type> \n",
    "```"
   ]
  },
  {
   "cell_type": "markdown",
   "metadata": {},
   "source": [
    "### Find if a value exists \n",
    "\n",
    "```c++\n",
    "    template<typename Type>\n",
    "    bool Binary_search_node<Type>::find(Type const &obj) const {\n",
    "    \n",
    "    }\n",
    "```"
   ]
  },
  {
   "cell_type": "markdown",
   "metadata": {},
   "source": [
    "### Insert\n",
    "\n",
    "```c++\n",
    "    template<typename Type>\n",
    "    void Binary_search_node<Type>::insert(Type const &obj) {\n",
    "        if (empty()) {\n",
    "        \n",
    "        } else if (obj < retriev()) {\n",
    "            return ..\n",
    "        } else if (obj > retrieve() ) {\n",
    "            return \n",
    "        }\n",
    "    }\n",
    "```"
   ]
  },
  {
   "cell_type": "markdown",
   "metadata": {},
   "source": [
    "### Erase\n",
    "\n",
    "```c++\n",
    "    template<typename Type>\n",
    "    bool Binary_search_node<Type>::erase(Type &obj, Binary_search_node *&ptr_to_this) {\n",
    "        if (empty()) {\n",
    "            return false;\n",
    "        } else if ( obj == retrieve() ) { // leaf node\n",
    "            if (is_leaf()) {\n",
    "                ptr_to_this = nullptr;\n",
    "                delete this;\n",
    "            } else if (!left()->empty() && !right()->empty()) { // full node\n",
    "                element = right()->front();   //min val in tree, logical successor\n",
    "                right()->erase(retrieve(), right_tree);\n",
    "            } else { // only one child\n",
    "                ptr_to_this = (!left()->empty()) ? left() : right();\n",
    "                delete this;\n",
    "            }\n",
    "            \n",
    "            return true;\n",
    "        } else if (obj < retreive()) {\n",
    "            return left()->erase(obj, left_tree);\n",
    "        } else {\n",
    "            return right()->erase(obj, right_tree);\n",
    "        }\n",
    "    }\n",
    "```"
   ]
  },
  {
   "cell_type": "code",
   "execution_count": null,
   "metadata": {
    "collapsed": true
   },
   "outputs": [],
   "source": []
  }
 ],
 "metadata": {
  "kernelspec": {
   "display_name": "Python 3",
   "language": "python",
   "name": "python3"
  },
  "language_info": {
   "codemirror_mode": {
    "name": "ipython",
    "version": 3
   },
   "file_extension": ".py",
   "mimetype": "text/x-python",
   "name": "python",
   "nbconvert_exporter": "python",
   "pygments_lexer": "ipython3",
   "version": "3.5.1"
  }
 },
 "nbformat": 4,
 "nbformat_minor": 0
}
