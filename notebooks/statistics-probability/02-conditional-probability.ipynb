{
 "cells": [
  {
   "cell_type": "markdown",
   "metadata": {},
   "source": [
    "## independent events\n",
    "\n"
   ]
  },
  {
   "cell_type": "markdown",
   "metadata": {},
   "source": [
    "Ex. Throw a 2-sided dice *independently* of each other\n",
    "\n",
    " * $A = \\{first die fakks on k \\}$\n",
    " * $B = \\{second die falls on l\\}$\n",
    " \n",
    " $\\mathbf{P[A\\cap B] = \\frac{1}{36}}$ because of indepent events"
   ]
  },
  {
   "cell_type": "markdown",
   "metadata": {},
   "source": [
    " Def: If A&B are indepedet events, then $\\mathbf{P}[A \\cap B] = \\mathbf{P}[A] \\mathbf{P}[B]$"
   ]
  },
  {
   "cell_type": "markdown",
   "metadata": {},
   "source": [
    "#### Def: Conditional probablity\n",
    "\n",
    "$$\\mathbf{P}[A\\vert B] = \\frac{\\mathbf{P}[A \\cap B]}{\\mathbf{P}[B]}$$\n",
    "\n",
    "* Note: this is used for understanding non-independent events.\n",
    "\n",
    "<img src=\"\"> ven-diagram</img>"
   ]
  },
  {
   "cell_type": "markdown",
   "metadata": {},
   "source": [
    "##### Example\n",
    "\n",
    " A sexual disease with probability: $\\mathbf{P}[disease] = 0.6\\%$\n",
    " * $\\mathbf{P}[positive \\vert disease] = 0.98$\n",
    " * $\\mathbf{P}[positive \\vert not\\ disease] = 0.01$\n",
    " * Find $\\mathbf{P}[positive]=?$\n",
    " \n",
    " \n",
    " $\\mathbf{P}[positive] = \\mathbf{P}[positive \\cap distease] + \\mathbf{P}[positive, \\cap disease^c]$ becasue these two are dosjoimt events, we can find them easily\n",
    " \n",
    " * We know $0.98 = \\mathbf{P}[positive\\vert disease] = \\frac{\\mathbf{P}[positive \\cap diease]}{\\mathbf{P}[disease]}$\n",
    " * therefore, $\\mathbf{P}[positive \\cap disease] = 0.98\\times \\mathbf{P}[disease] = 0.00588$\n",
    " * similarly, $\\mathbf{P}[positive \\cap disease^c] = 0.01\\times 0.994=0.00994$\n",
    " * Finally: $\\mathbf{P}[positive] = 0.00588 + 0.00994 = 0.01582$\n",
    " \n",
    " * (Question) Next, find $\\mathbf{P}[desiease \\vert positive]=?$\n",
    " * (Answer) $\\mathbf{P}[disease] = \\frac{\\mathbf{P}[disease \\cap positive]}{\\mathbf{P}[positive]} = \\frac{0.00588}{0.01582} = 0.37$"
   ]
  },
  {
   "cell_type": "markdown",
   "metadata": {},
   "source": [
    "-------------\n",
    "#### Rule:\n",
    "\n",
    "$$\\mathbf{P}[A_1\\cap A_2 \\cap .. \\cap A_n] = ?$$\n",
    "\n",
    " * If **independent** events: $\\mathbf{P}[A_1]\\mathbf{P}[A_2]..\\mathbf{P}[A_n]$  \n",
    " * If **not independet**: $\\displaystyle \\mathbf{P}[A_1] \\mathbf{P}[A_2\\vert A_1] \\mathbf{P}[A_3\\vert A_1 A_2] ... \\mathbf{P}[A_n \\vert A_1\\cap A_2 \\cap .. \\cap A_{n-1}]$\n",
    "  * it is like a chain rule for probability"
   ]
  },
  {
   "cell_type": "markdown",
   "metadata": {},
   "source": [
    "##### Example\n",
    "\n",
    "a gene has two forms:\n",
    "\n"
   ]
  },
  {
   "cell_type": "markdown",
   "metadata": {},
   "source": [
    "### Theorem: Law of Total Probabilities\n",
    " * Assuming $\\Omega = A_1 \\cup A_2 \\cup .. A_k$ and the $A_i$'s are pairwise disjoint\n",
    "$$\\mathbf{P}[B] = \\sum_{i=1}^{k}\\mathbf{P}[B\\vert A_i]\\mathbf{P}[A_i]$$"
   ]
  },
  {
   "cell_type": "markdown",
   "metadata": {},
   "source": []
  }
 ],
 "metadata": {
  "kernelspec": {
   "display_name": "Python 3",
   "language": "python",
   "name": "python3"
  },
  "language_info": {
   "codemirror_mode": {
    "name": "ipython",
    "version": 3
   },
   "file_extension": ".py",
   "mimetype": "text/x-python",
   "name": "python",
   "nbconvert_exporter": "python",
   "pygments_lexer": "ipython3",
   "version": "3.5.0rc4"
  }
 },
 "nbformat": 4,
 "nbformat_minor": 0
}
