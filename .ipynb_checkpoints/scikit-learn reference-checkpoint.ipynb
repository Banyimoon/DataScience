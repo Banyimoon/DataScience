{
 "metadata": {
  "name": "",
  "signature": "sha256:e673201398b7b4f5e0a40a062769dcbfa221252c359276f579e247fcf0367981"
 },
 "nbformat": 3,
 "nbformat_minor": 0,
 "worksheets": [
  {
   "cells": [
    {
     "cell_type": "markdown",
     "metadata": {},
     "source": [
      "Refernce for scikit-learn methods and functions\n",
      "===============\n",
      "\n",
      "**Vahid Mirjalili, Data Mining Researcher**\n"
     ]
    },
    {
     "cell_type": "markdown",
     "metadata": {},
     "source": [
      "# Dimensionaliy Reduction\n",
      "\n",
      "## PCA\n"
     ]
    },
    {
     "cell_type": "code",
     "collapsed": false,
     "input": [
      "from sklearn import decomposition\n",
      "\n",
      "## defining an object of class\n",
      "pca = decomposition.PCA(n_components = 2).fit(X_train)\n",
      "X_train_transormed = pca.transform"
     ],
     "language": "python",
     "metadata": {},
     "outputs": []
    }
   ],
   "metadata": {}
  }
 ]
}