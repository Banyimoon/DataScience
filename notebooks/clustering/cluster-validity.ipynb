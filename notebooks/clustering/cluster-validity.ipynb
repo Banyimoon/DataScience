{
 "cells": [
  {
   "cell_type": "markdown",
   "metadata": {},
   "source": [
    "Cluster Validity\n",
    "===\n",
    "\n"
   ]
  },
  {
   "cell_type": "markdown",
   "metadata": {},
   "source": [
    "## SSE\n",
    "\n",
    "\n",
    "### Using the elbow method to find the number of clusters"
   ]
  },
  {
   "cell_type": "markdown",
   "metadata": {},
   "source": [
    "## Statistical Framework for Cluster Validity\n",
    "\n",
    "\n",
    " * Randomy generate data, and apply your clustering solution"
   ]
  },
  {
   "cell_type": "markdown",
   "metadata": {},
   "source": [
    "# External Methods\n",
    "\n",
    " You need some ground-truth labels\n",
    " \n",
    " * **Purity of cluster $i$: ** $\\displaystyle \\max_{j}\\left[\\frac{m_{ij}}{\\sum_k m_{ik}}\\right]$  \n",
    " \n",
    " \n",
    " \n",
    " * **Entropy of cluster $i$: ** $-\\displaystyle  \\sum_{j=1}^C\\frac{m_{ij}}{\\sum_k m_{ik}}\\log_2 \\frac{m_{ij}}{\\sum_k m_{ik}}$\n",
    " \n",
    " Lower entropy indicates higher purity.\n",
    " \n",
    " "
   ]
  },
  {
   "cell_type": "code",
   "execution_count": null,
   "metadata": {
    "collapsed": true
   },
   "outputs": [],
   "source": []
  }
 ],
 "metadata": {
  "kernelspec": {
   "display_name": "Python 3",
   "language": "python",
   "name": "python3"
  },
  "language_info": {
   "codemirror_mode": {
    "name": "ipython",
    "version": 3
   },
   "file_extension": ".py",
   "mimetype": "text/x-python",
   "name": "python",
   "nbconvert_exporter": "python",
   "pygments_lexer": "ipython3",
   "version": "3.5.1"
  }
 },
 "nbformat": 4,
 "nbformat_minor": 0
}
