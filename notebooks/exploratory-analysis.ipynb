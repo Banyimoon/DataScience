{
 "cells": [
  {
   "cell_type": "markdown",
   "metadata": {},
   "source": [
    "Exploratory Analysis\n",
    "===========\n",
    "\n",
    "* **Data Summarization** \n",
    "\n",
    "\n",
    "* **Different Databases  **\n",
    "   * Operational database  \n",
    "   Transcations OLTP (online transactions processing)  \n",
    "   * Datawarehouse (for business applications)\n",
    "   Aggregate queries OLAP (online analytic processing)\n",
    "   \n",
    "* **Visualization**"
   ]
  },
  {
   "cell_type": "markdown",
   "metadata": {},
   "source": [
    "## Summary Statistics\n",
    "\n",
    "#### Percentiles\n",
    "\n",
    "#### Mean\n",
    "\n",
    "#### Trimmed mean\n",
    "\n",
    "Having an estimate on the fraction of outliers $p $ in data\n",
    "\n",
    "If $p=100 \\%$, then the result is *Median*.\n",
    "\n",
    "#### Variance\n",
    "\n",
    "#### Absolute average deviation (AAD)\n",
    "\n",
    "More rboust than variance\n",
    "\n",
    "#### Median absolute deviation\n",
    "\n",
    "#### Correlation coefficient\n",
    "\n"
   ]
  },
  {
   "cell_type": "code",
   "execution_count": null,
   "metadata": {
    "collapsed": true
   },
   "outputs": [],
   "source": []
  }
 ],
 "metadata": {
  "kernelspec": {
   "display_name": "Python 3",
   "language": "python",
   "name": "python3"
  },
  "language_info": {
   "codemirror_mode": {
    "name": "ipython",
    "version": 3
   },
   "file_extension": ".py",
   "mimetype": "text/x-python",
   "name": "python",
   "nbconvert_exporter": "python",
   "pygments_lexer": "ipython3",
   "version": "3.4.3"
  }
 },
 "nbformat": 4,
 "nbformat_minor": 0
}
