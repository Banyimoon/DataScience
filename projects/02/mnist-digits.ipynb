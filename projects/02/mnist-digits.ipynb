{
 "cells": [
  {
   "cell_type": "code",
   "execution_count": 2,
   "metadata": {
    "collapsed": false
   },
   "outputs": [
    {
     "name": "stdout",
     "output_type": "stream",
     "text": [
      "Downloading: http://yann.lecun.com/exdb/mnist/train-images-idx3-ubyte.gz Bytes: 9912422\n",
      "         9912422   [100.00%]\n",
      "train-images-idx3-ubyte.gz\n"
     ]
    }
   ],
   "source": [
    "import watermark\n",
    "%watermark -v -m -p pandas \n",
    "\n",
    "\n",
    "import utils\n",
    "url = \"http://yann.lecun.com/exdb/mnist/train-images-idx3-ubyte.gz\"\n",
    "filename = utils.download_file(url)\n",
    "print(filename)\n"
   ]
  },
  {
   "cell_type": "code",
   "execution_count": 1,
   "metadata": {
    "collapsed": false
   },
   "outputs": [],
   "source": [
    "import gzip\n",
    "import struct\n",
    "\n",
    "with gzip.open('train-images-idx3-ubyte.gz', 'rb') as f:\n",
    "    file_content = f.read()\n",
    "    \n"
   ]
  },
  {
   "cell_type": "markdown",
   "metadata": {},
   "source": [
    "<img src='images/trainset_binary-format.png' width=400></img>"
   ]
  },
  {
   "cell_type": "code",
   "execution_count": 38,
   "metadata": {
    "collapsed": false
   },
   "outputs": [
    {
     "name": "stdout",
     "output_type": "stream",
     "text": [
      "Magic number\t\t 2051\n",
      "Number of Images\t 60000\n",
      "Image size\t\t 28x28\n"
     ]
    }
   ],
   "source": [
    "import numpy as np\n",
    "import pandas\n",
    "\n",
    "df = pandas.DataFrame()\n",
    "with gzip.open('train-images-idx3-ubyte.gz', 'rb') as f:\n",
    "    # read the header info\n",
    "    magic_num, nimages, nrows, ncols = struct.unpack(\n",
    "    '>iiii', f.read(16))\n",
    "\n",
    "    print(\"Magic number\\t\\t %d\"%magic_num)\n",
    "    print(\"Number of Images\\t %d\"%nimages)\n",
    "    print(\"Image size\\t\\t %dx%d\"%(nrows, ncols))\n",
    "\n",
    "    nparr = np.empty(shape=(nimages,nrows*ncols), dtype=np.dtype('B'))\n",
    "    \n",
    "    # Read pixels\n",
    "    for i in range(nimages):\n",
    "        #for j in range(nrows*ncols):\n",
    "        row = struct.unpack('B'*nrows*ncols, f.read(nrows*ncols))\n",
    "        nparr[i,:] = np.array(list(row))"
   ]
  },
  {
   "cell_type": "code",
   "execution_count": 47,
   "metadata": {
    "collapsed": false
   },
   "outputs": [
    {
     "data": {
      "image/png": "[encoded data removed]",
      "text/plain": [
       "<matplotlib.figure.Figure at 0x7f0c07fba390>"
      ]
     },
     "metadata": {},
     "output_type": "display_data"
    }
   ],
   "source": [
    "import matplotlib.pyplot as plt\n",
    "%matplotlib inline\n",
    "\n",
    "def display_image(img, width=28, height=28):\n",
    "    plt.figure()\n",
    "    fig = plt.imshow(img.reshape(width,height))\n",
    "    fig.set_cmap('gray_r')\n",
    "    fig.axes.get_xaxis().set_visible(False)\n",
    "    fig.axes.get_yaxis().set_visible(False)\n",
    "    \n",
    "# test:\n",
    "display_image(nparr[45,:])"
   ]
  },
  {
   "cell_type": "code",
   "execution_count": null,
   "metadata": {
    "collapsed": true
   },
   "outputs": [],
   "source": []
  }
 ],
 "metadata": {
  "kernelspec": {
   "display_name": "Python 3",
   "language": "python",
   "name": "python3"
  },
  "language_info": {
   "codemirror_mode": {
    "name": "ipython",
    "version": 3
   },
   "file_extension": ".py",
   "mimetype": "text/x-python",
   "name": "python",
   "nbconvert_exporter": "python",
   "pygments_lexer": "ipython3",
   "version": "3.5.1"
  }
 },
 "nbformat": 4,
 "nbformat_minor": 0
}
