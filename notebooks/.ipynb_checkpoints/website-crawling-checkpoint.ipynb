{
 "cells": [
  {
   "cell_type": "markdown",
   "metadata": {},
   "source": [
    "Gathering Data from Web\n",
    "===\n",
    "\n",
    "## Website Crawler (spider)\n",
    "\n",
    "Automatically traverses the hyperlinks in world wide web, ad gather web pages.\n",
    "\n",
    "**Snoaball Sampling:** Start from some seed URLs and reversively extract hyperlinks to other URLs.\n",
    "\n",
    "Restrictions to consider:\n",
    " 1. In order to avoid overloading the servers, website admins usually create a guideline file named \"robot.txt\" that specifies some restrictions for that website.\n",
    " 2. Meta tags also conveys restrictions to a crawler   \n",
    " Example: <META NAME=\"ROBOTS\", CONTENT=\"NOINDEX\">\n",
    " \n",
    " NOINDEX: to no appear in Google's index  \n",
    " NOFOLLOW: to not follow links on this page  \n",
    " NOARCHIVE: to not archive on search results\n",
    " \n",
    " "
   ]
  },
  {
   "cell_type": "markdown",
   "metadata": {},
   "source": [
    "## wget\n",
    "\n",
    "Wget is a free GNU software for crawling and retrieving data from HTTP, HTTPS, and FTP over internet.\n",
    "\n",
    "Wget supports\n",
    " * recursively traverse HTML documents and FTP directory trees\n",
    " * specify wildcards to match certain files\n",
    " * restrict the max depth of directory traversal\n",
    " \n",
    " "
   ]
  },
  {
   "cell_type": "code",
   "execution_count": null,
   "metadata": {
    "collapsed": true
   },
   "outputs": [],
   "source": []
  }
 ],
 "metadata": {
  "kernelspec": {
   "display_name": "Python 3",
   "language": "python",
   "name": "python3"
  },
  "language_info": {
   "codemirror_mode": {
    "name": "ipython",
    "version": 3
   },
   "file_extension": ".py",
   "mimetype": "text/x-python",
   "name": "python",
   "nbconvert_exporter": "python",
   "pygments_lexer": "ipython3",
   "version": "3.5.1"
  }
 },
 "nbformat": 4,
 "nbformat_minor": 0
}
