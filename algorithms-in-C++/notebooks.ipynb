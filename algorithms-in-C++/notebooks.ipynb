{
 "cells": [
  {
   "cell_type": "markdown",
   "metadata": {},
   "source": [
    "#### C++ Programming\n",
    "\n",
    " * <a href=\"https://github.com/mirjalil/DataScience/blob/master/algorithms/cpp_programming.ipynb\">C++ Programming Notes</a>\n",
    " \n",
    "#### Sorting Algorithms\n",
    "\n",
    " * Insertion Sort\n",
    " * Bubble Sort\n",
    " * Quick Sort\n",
    " \n",
    "#### Data Structures\n",
    "\n",
    " * <a href=\"https://github.com/mirjalil/DataScience/blob/master/algorithms-in-C%2B%2B/data-structures_01_linkedlist.ipynb\">Linked List</a>\n",
    " * <a href=\"https://github.com/mirjalil/DataScience/blob/master/algorithms-in-C%2B%2B/data-structures_02_stacks.ipynb\"> Stacks</a>\n",
    " * <a href=\"https://github.com/mirjalil/DataScience/blob/master/algorithms-in-C%2B%2B/data-structures_03_queues.ipynb\"> Queues</a>\n",
    " \n",
    " * <a href=\"https://github.com/mirjalil/DataScience/blob/master/algorithms-in-C%2B%2B/data-structures_04_trees.ipynb\">Trees</a>\n",
    " * <a href=\"https://github.com/mirjalil/DataScience/blob/master/algorithms-in-C%2B%2B/data-structures_05_simple_trees.ipynb\">Simple Trees</a>\n",
    " * <a href=\"https://github.com/mirjalil/DataScience/blob/master/algorithms-in-C%2B%2B/data-structures_06_tree_traversals.ipynb\">Tree Traversals</a>\n",
    " * <a href=\"https://github.com/mirjalil/DataScience/blob/master/algorithms-in-C%2B%2B/data-structures_07_binary_trees.ipynb\"> Binary trees</a>\n",
    " \n",
    " * <a href=\"https://github.com/mirjalil/DataScience/blob/master/algorithms-in-C%2B%2B/data-structures_08_balanced_trees.ipynb\"> Balanced trees</a>\n",
    " * <a href=\"https://github.com/mirjalil/DataScience/blob/master/algorithms-in-C%2B%2B/data-structures_09_AVL_trees.ipynb\">AVL trees</a>\n",
    " * Red/Black trees\n",
    " * <a href=\"https://github.com/mirjalil/DataScience/blob/master/algorithms-in-C%2B%2B/data-structures_11_leftchild_rightsibling.ipynb\">Left-Child Right-Sibling Trees (LCRS)</a> \n",
    "\n",
    " * <a href=\"https://github.com/mirjalil/DataScience/blob/master/algorithms-in-C%2B%2B/data-structures_12_binary_search_trees.ipynb\"> Binary search trees (BST)</a>\n",
    " * <a href=\"https://github.com/mirjalil/DataScience/blob/master/algorithms-in-C%2B%2B/data-structures_13_multiway_search_trees.ipynb\">Multiway search trees</a>\n",
    " * <a href=\"https://github.com/mirjalil/DataScience/blob/master/algorithms-in-C%2B%2B/data-structures_14_bplus_trees.ipynb\">B+ trees</a>\n",
    " \n",
    " \n",
    " * <a href=\"https://github.com/mirjalil/DataScience/blob/master/algorithms-in-C%2B%2B/data-structures_15_priority_queues.ipynb\">Priority Queues</a>\n",
    " * <a href=\"https://github.com/mirjalil/DataScience/blob/master/algorithms-in-C%2B%2B/data-structures_16_heaps.ipynb\">Heaps</a>\n",
    " \n",
    " * <a href=\"https://github.com/mirjalil/DataScience/blob/master/algorithms-in-C%2B%2B/data-structures_17_dictionaries.ipynb\">Dictionaries</a>\n",
    " * <a href=\"https://github.com/mirjalil/DataScience/blob/master/algorithms-in-C%2B%2B/data-structures_18_hash_tables.ipynb\">Hash Tables</a>"
   ]
  },
  {
   "cell_type": "code",
   "execution_count": null,
   "metadata": {
    "collapsed": true
   },
   "outputs": [],
   "source": []
  }
 ],
 "metadata": {
  "kernelspec": {
   "display_name": "Python 3",
   "language": "python",
   "name": "python3"
  },
  "language_info": {
   "codemirror_mode": {
    "name": "ipython",
    "version": 3
   },
   "file_extension": ".py",
   "mimetype": "text/x-python",
   "name": "python",
   "nbconvert_exporter": "python",
   "pygments_lexer": "ipython3",
   "version": "3.5.1"
  }
 },
 "nbformat": 4,
 "nbformat_minor": 0
}
