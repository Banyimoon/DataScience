{
 "metadata": {
  "name": "",
  "signature": "sha256:05ac5da16f5026478d94b45fe4842facb1d0572fe609a171b85823b928c3d8c2"
 },
 "nbformat": 3,
 "nbformat_minor": 0,
 "worksheets": [
  {
   "cells": [
    {
     "cell_type": "markdown",
     "metadata": {},
     "source": [
      "Getting and Cleaninig Data in R\n",
      "=======================\n",
      "\n",
      "**Vahid Mirjalili, Data Scientist**\n",
      "\n",
      "[1. Intro.](#intro)\n",
      "\n",
      "[2. Downloading and Reading Data](#downld)\n",
      "\n",
      "   * [Reading excel files](#excel)\n",
      "   * [Reading JSON files](#json)\n",
      "   * [Reading XML files](#read-xml)\n",
      "   * [Using XPath](#xpath)\n",
      "   * [Using data.table package](#data-table)\n",
      "   \n",
      "[3. Reading From MySQL](#read-mysql)\n",
      "\n",
      "[4. Data in HDF5 Format](#hdf5-format)\n",
      "\n",
      "   * [Writing/adding data to a specific group](#add-data-hdf5)\n",
      "   * [Reading Data from HDF5](#read-hdf5)\n",
      "   * [Modifying Existing Datasets](#modify-hdf5)\n",
      "   \n",
      "[5. Reading Data from Web (webscraping)](#read-web)\n",
      "\n",
      "   * [Process web data by XML package](#process-web-xml)\n",
      "   * [Using GET Command (httr package)](#get-command)\n",
      "   \n",
      "[6. Getting Data from APIs](#data-api)\n",
      "\n",
      "   * [GitHub API](#github-api)\n",
      "   \n",
      "[7. Reading from Other Sources](#other-sources)\n",
      "   \n",
      "   * [The Foreign Package](#foreign-package)\n",
      "   * [Other Database Connections](#other-database-con)\n",
      "   * [R Packages for Reading Images](#read-image)\n",
      "   * [Reading Geographic Information System (GIS) Data](#read-gis)\n",
      "   * [Reading Musical Data](#read-music)"
     ]
    },
    {
     "cell_type": "markdown",
     "metadata": {},
     "source": [
      "<a id=\"intro\"></a>\n",
      "\n",
      "# 1. Introduction\n",
      "\n",
      "Motivation:\n",
      "\n",
      " 1. Finding and exctracting data from various sources\n",
      " 2. Pronciples of tidy data, and how to make data tidy\n",
      " 3. Practical implementation through a range of R packages\n",
      " \n",
      " \n",
      "  ** Raw Data -> Processing script -> tidy data ** -> data analysis -> data communication\n",
      " \n",
      " \n",
      " * All processing steps should be recorded"
     ]
    },
    {
     "cell_type": "markdown",
     "metadata": {},
     "source": [
      "<a id=\"downld\"></a>\n",
      "\n",
      "# Downloading and Reading Data (basic)\n",
      "\n",
      "* File and directory handling:\n",
      "\n",
      "**setwd(), getwd()**\n",
      "\n",
      "**file.exists(\"directoryName\")**\n",
      "\n",
      "**dir.create(\"directoryName\")**\n"
     ]
    },
    {
     "cell_type": "code",
     "collapsed": false,
     "input": [
      "if (!file.exists(\"data/\")) {\n",
      "    dir.create(\"data/\")\n",
      "}"
     ],
     "language": "python",
     "metadata": {},
     "outputs": [],
     "prompt_number": 1
    },
    {
     "cell_type": "markdown",
     "metadata": {},
     "source": [
      "**download.file()** to download a file from internet"
     ]
    },
    {
     "cell_type": "code",
     "collapsed": false,
     "input": [
      "fileUrl <- \"http://www.brianknaus.com/software/srtoolbox/s_4_1_sequence80.txt\"\n",
      "download.file(fileUrl, destfile=\"./data/s_4_1_sequence80.txt\", method=\"curl\")"
     ],
     "language": "python",
     "metadata": {},
     "outputs": [],
     "prompt_number": 2
    },
    {
     "cell_type": "markdown",
     "metadata": {},
     "source": [
      "* Read in data:\n",
      "\n",
      "**read.table()**\n",
      "\n",
      "**read.csv()**\n",
      "\n",
      "**read.fwf()** to read files that have fixed-width-format \n",
      "\n",
      "If the file contains quotation marks, set **qoute=\"\"**"
     ]
    },
    {
     "cell_type": "markdown",
     "metadata": {},
     "source": [
      "<a id=\"excel\"></a>\n",
      "\n",
      "## Reading excel files:\n",
      "\n",
      "**read.xlsx()** from library xlsx"
     ]
    },
    {
     "cell_type": "code",
     "collapsed": false,
     "input": [
      "if(!file.exists(\"data/\")) {dir.create(\"data\")}\n",
      "fileUrl <- \"https://data.baltimorecity.gov/api/views/dz54-2aru/rows.xlsx?accessType=DOWNLOAD\"\n",
      "download.file(fileUrl, destfile=\"./data/cameras.xlsx\", method=\"curl\")\n",
      "dateDownloaded <- date\n",
      "\n",
      "require(xlsx)\n",
      "cameraData <- read.xlsx(\"data/cameras.xlsx\", sheetIndex=1, header=T)\n",
      "head(cameraData)"
     ],
     "language": "python",
     "metadata": {},
     "outputs": [
      {
       "output_type": "stream",
       "stream": "stderr",
       "text": [
        "packageStartupMessage in packageStartupMessage(gettextf(\"Loading required package: %s\", : Loading required package: xlsx\n",
        "\n"
       ]
      },
      {
       "output_type": "stream",
       "stream": "stderr",
       "text": [
        "packageStartupMessage in packageStartupMessage(gettextf(\"Loading required package: %s\", : Loading required package: rJava\n",
        "\n"
       ]
      },
      {
       "output_type": "stream",
       "stream": "stderr",
       "text": [
        "packageStartupMessage in packageStartupMessage(gettextf(\"Loading required package: %s\", : Loading required package: xlsxjars\n",
        "\n"
       ]
      },
      {
       "metadata": {},
       "output_type": "pyout",
       "prompt_number": 3,
       "text": [
        "                         address direction      street  crossStreet\n",
        "1       S CATON AVE & BENSON AVE       N/B   Caton Ave   Benson Ave\n",
        "2       S CATON AVE & BENSON AVE       S/B   Caton Ave   Benson Ave\n",
        "3 WILKENS AVE & PINE HEIGHTS AVE       E/B Wilkens Ave Pine Heights\n",
        "4        THE ALAMEDA & E 33RD ST       S/B The Alameda      33rd St\n",
        "5        E 33RD ST & THE ALAMEDA       E/B      E 33rd  The Alameda\n",
        "6        ERDMAN AVE & N MACON ST       E/B      Erdman     Macon St\n",
        "                intersection                      Location.1\n",
        "1     Caton Ave & Benson Ave (39.2693779962, -76.6688185297)\n",
        "2     Caton Ave & Benson Ave (39.2693157898, -76.6689698176)\n",
        "3 Wilkens Ave & Pine Heights  (39.2720252302, -76.676960806)\n",
        "4     The Alameda  & 33rd St (39.3285013141, -76.5953545714)\n",
        "5      E 33rd  & The Alameda (39.3283410623, -76.5953594625)\n",
        "6         Erdman  & Macon St (39.3068045671, -76.5593167803)"
       ]
      }
     ],
     "prompt_number": 3
    },
    {
     "cell_type": "markdown",
     "metadata": {},
     "source": [
      "* Use **colIndex=** and **rowIndex=** to read specefic columns/rows"
     ]
    },
    {
     "cell_type": "code",
     "collapsed": false,
     "input": [
      "read.xlsx(\"data/cameras.xlsx\", sheetIndex=1, header=T, colIndex=2:3, rowIndex=1:5)"
     ],
     "language": "python",
     "metadata": {},
     "outputs": [
      {
       "metadata": {},
       "output_type": "pyout",
       "prompt_number": 4,
       "text": [
        "  direction      street\n",
        "1       N/B   Caton Ave\n",
        "2       S/B   Caton Ave\n",
        "3       E/B Wilkens Ave\n",
        "4       S/B The Alameda"
       ]
      }
     ],
     "prompt_number": 4
    },
    {
     "cell_type": "markdown",
     "metadata": {},
     "source": [
      "* Other packages for reading excel files **XLConnect**"
     ]
    },
    {
     "cell_type": "markdown",
     "metadata": {},
     "source": [
      "<a id=\"json\"></a>\n",
      "\n",
      "## Reading JSON files\n",
      "\n",
      "* JSON: Javascript Object Notation\n",
      "* Lightweight data storage\n",
      "* Common format for data ftom APIs\n",
      "\n",
      "In JSON, Data stored as\n",
      "\n",
      "  * numbers (double)\n",
      "  * string (\"\")\n",
      "  * boolean (true or false)\n",
      "  * array (ordered, [, , ])\n",
      "  * object (unordered, {key1:value, key2:value})"
     ]
    },
    {
     "cell_type": "code",
     "collapsed": false,
     "input": [
      "library(jsonlite)\n",
      "jsonData <- fromJSON(\"https://api.github.com/users/mirjalil/repos\")\n",
      "head(names(jsonData))\n",
      "names(jsonData$owner)\n",
      "jsonData$owner$login"
     ],
     "language": "python",
     "metadata": {},
     "outputs": [
      {
       "metadata": {},
       "output_type": "pyout",
       "prompt_number": 5,
       "text": [
        "[1] \"id\"        \"name\"      \"full_name\" \"owner\"     \"private\"   \"html_url\" "
       ]
      },
      {
       "metadata": {},
       "output_type": "pyout",
       "prompt_number": 5,
       "text": [
        " [1] \"login\"               \"id\"                  \"avatar_url\"         \n",
        " [4] \"gravatar_id\"         \"url\"                 \"html_url\"           \n",
        " [7] \"followers_url\"       \"following_url\"       \"gists_url\"          \n",
        "[10] \"starred_url\"         \"subscriptions_url\"   \"organizations_url\"  \n",
        "[13] \"repos_url\"           \"events_url\"          \"received_events_url\"\n",
        "[16] \"type\"                \"site_admin\"         "
       ]
      },
      {
       "metadata": {},
       "output_type": "pyout",
       "prompt_number": 5,
       "text": [
        " [1] \"mirjalil\" \"mirjalil\" \"mirjalil\" \"mirjalil\" \"mirjalil\" \"mirjalil\"\n",
        " [7] \"mirjalil\" \"mirjalil\" \"mirjalil\" \"mirjalil\" \"mirjalil\" \"mirjalil\"\n",
        "[13] \"mirjalil\" \"mirjalil\" \"mirjalil\" \"mirjalil\" \"mirjalil\" \"mirjalil\"\n",
        "[19] \"mirjalil\" \"mirjalil\" \"mirjalil\""
       ]
      }
     ],
     "prompt_number": 5
    },
    {
     "cell_type": "markdown",
     "metadata": {},
     "source": [
      "#### Writing data.frames to JSON format\n",
      "\n",
      "**toJSON()**"
     ]
    },
    {
     "cell_type": "code",
     "collapsed": false,
     "input": [
      "myjson <- toJSON(iris[1:2,], pretty=T)\n",
      "cat(myjson)"
     ],
     "language": "python",
     "metadata": {},
     "outputs": [
      {
       "output_type": "stream",
       "stream": "stdout",
       "text": [
        "[\n",
        "\t{\n",
        "\t\t\"Sepal.Length\" : 5.1,\n",
        "\t\t\"Sepal.Width\" : 3.5,\n",
        "\t\t\"Petal.Length\" : 1.4,\n",
        "\t\t\"Petal.Width\" : 0.2,\n",
        "\t\t\"Species\" : \"setosa\"\n",
        "\t},\n",
        "\t{\n",
        "\t\t\"Sepal.Length\" : 4.9,\n",
        "\t\t\"Sepal.Width\" : 3,\n",
        "\t\t\"Petal.Length\" : 1.4,\n",
        "\t\t\"Petal.Width\" : 0.2,\n",
        "\t\t\"Species\" : \"setosa\"\n",
        "\t}\n",
        "]"
       ]
      }
     ],
     "prompt_number": 6
    },
    {
     "cell_type": "markdown",
     "metadata": {},
     "source": [
      "<a id=\"read-xml\"></a>\n",
      "\n",
      "## Reading XML files\n"
     ]
    },
    {
     "cell_type": "code",
     "collapsed": false,
     "input": [
      "require(XML)\n",
      "fileUrl <- \"http://www.w3schools.com/xml/simple.xml\"\n",
      "\n",
      "xmlDoc <- xmlTreeParse(fileUrl, useInternal=T)\n",
      "\n",
      "rootNode <- xmlRoot(xmlDoc)\n",
      "names(rootNode)\n",
      "\n",
      "xmlName(rootNode)"
     ],
     "language": "python",
     "metadata": {},
     "outputs": [
      {
       "output_type": "stream",
       "stream": "stderr",
       "text": [
        "packageStartupMessage in packageStartupMessage(gettextf(\"Loading required package: %s\", : Loading required package: XML\n",
        "\n"
       ]
      },
      {
       "metadata": {},
       "output_type": "pyout",
       "prompt_number": 7,
       "text": [
        "  food   food   food   food   food \n",
        "\"food\" \"food\" \"food\" \"food\" \"food\" "
       ]
      },
      {
       "metadata": {},
       "output_type": "pyout",
       "prompt_number": 7,
       "text": [
        "[1] \"breakfast_menu\""
       ]
      }
     ],
     "prompt_number": 7
    },
    {
     "cell_type": "markdown",
     "metadata": {},
     "source": [
      "### Accessing elements of XML\n"
     ]
    },
    {
     "cell_type": "code",
     "collapsed": false,
     "input": [
      "rootNode[[1]]\n",
      "\n",
      "rootNode[[1]][[1]]"
     ],
     "language": "python",
     "metadata": {},
     "outputs": [
      {
       "metadata": {},
       "output_type": "pyout",
       "prompt_number": 8,
       "text": [
        "<food>\n",
        "  <name>Belgian Waffles</name>\n",
        "  <price>$5.95</price>\n",
        "  <description>Two of our famous Belgian Waffles with plenty of real maple syrup</description>\n",
        "  <calories>650</calories>\n",
        "</food> "
       ]
      },
      {
       "metadata": {},
       "output_type": "pyout",
       "prompt_number": 8,
       "text": [
        "<name>Belgian Waffles</name> "
       ]
      }
     ],
     "prompt_number": 8
    },
    {
     "cell_type": "code",
     "collapsed": false,
     "input": [
      "xmlSApply(rootNode, xmlValue)"
     ],
     "language": "python",
     "metadata": {},
     "outputs": [
      {
       "metadata": {},
       "output_type": "pyout",
       "prompt_number": 9,
       "text": [
        "                                                                                                                    food \n",
        "                              \"Belgian Waffles$5.95Two of our famous Belgian Waffles with plenty of real maple syrup650\" \n",
        "                                                                                                                    food \n",
        "                   \"Strawberry Belgian Waffles$7.95Light Belgian waffles covered with strawberries and whipped cream900\" \n",
        "                                                                                                                    food \n",
        "\"Berry-Berry Belgian Waffles$8.95Light Belgian waffles covered with an assortment of fresh berries and whipped cream900\" \n",
        "                                                                                                                    food \n",
        "                                               \"French Toast$4.50Thick slices made from our homemade sourdough bread600\" \n",
        "                                                                                                                    food \n",
        "                        \"Homestyle Breakfast$6.95Two eggs, bacon or sausage, toast, and our ever-popular hash browns950\" "
       ]
      }
     ],
     "prompt_number": 9
    },
    {
     "cell_type": "markdown",
     "metadata": {},
     "source": [
      "<a id=\"xpath\"></a>\n",
      "\n",
      "## Using xpath"
     ]
    },
    {
     "cell_type": "code",
     "collapsed": false,
     "input": [
      "xpathSApply(rootNode, \"//name\", xmlValue)"
     ],
     "language": "python",
     "metadata": {},
     "outputs": [
      {
       "metadata": {},
       "output_type": "pyout",
       "prompt_number": 10,
       "text": [
        "[1] \"Belgian Waffles\"             \"Strawberry Belgian Waffles\" \n",
        "[3] \"Berry-Berry Belgian Waffles\" \"French Toast\"               \n",
        "[5] \"Homestyle Breakfast\"        "
       ]
      }
     ],
     "prompt_number": 10
    },
    {
     "cell_type": "code",
     "collapsed": false,
     "input": [
      "xpathSApply(rootNode, \"//price\", xmlValue)"
     ],
     "language": "python",
     "metadata": {},
     "outputs": [
      {
       "metadata": {},
       "output_type": "pyout",
       "prompt_number": 11,
       "text": [
        "[1] \"$5.95\" \"$7.95\" \"$8.95\" \"$4.50\" \"$6.95\""
       ]
      }
     ],
     "prompt_number": 11
    },
    {
     "cell_type": "markdown",
     "metadata": {},
     "source": [
      "<a id=\"data-table\"></a>\n",
      "\n",
      "## Using data.table package\n",
      "\n",
      "* Often faster and more moemory efficient than data.frame\n",
      "* All the functions that work on data.frames, also work on data.tables\n",
      "* Much faster at subseeting, group, and updating"
     ]
    },
    {
     "cell_type": "code",
     "collapsed": false,
     "input": [
      "library(data.table)\n",
      "df <- data.frame(x=rnorm(9), y=rep(c(\"a\", \"b\", \"c\"), each=3), z=rnorm(9))\n",
      "\n",
      "dt <- data.table(x=rnorm(9), y=rep(c(\"a\", \"b\", \"c\"), each=3), z=rnorm(9))\n",
      "\n",
      "## to see all the data.tables in memory\n",
      "tables()"
     ],
     "language": "python",
     "metadata": {},
     "outputs": [
      {
       "output_type": "stream",
       "stream": "stdout",
       "text": [
        "     NAME NROW MB COLS  KEY\n",
        "[1,] dt      9 1  x,y,z    \n",
        "Total: 1MB\n"
       ]
      }
     ],
     "prompt_number": 10
    },
    {
     "cell_type": "code",
     "collapsed": false,
     "input": [
      "## subsetting\n",
      "dt[1:3, list(x,y)]\n",
      "\n",
      "dt[, table(y)]"
     ],
     "language": "python",
     "metadata": {},
     "outputs": [
      {
       "ename": "ERROR",
       "evalue": "Error in `[.data.frame`(x, i, j): object 'x' not found\n",
       "output_type": "pyerr",
       "traceback": [
        "Error in `[.data.frame`(x, i, j): object 'x' not found\n"
       ]
      },
      {
       "ename": "ERROR",
       "evalue": "Error in table(y): object 'y' not found\n",
       "output_type": "pyerr",
       "traceback": [
        "Error in table(y): object 'y' not found\n"
       ]
      }
     ],
     "prompt_number": 11
    },
    {
     "cell_type": "code",
     "collapsed": false,
     "input": [
      "## Passing a list of functions to apply:\n",
      "dt[, list(mean(x), sum(z))]"
     ],
     "language": "python",
     "metadata": {},
     "outputs": [
      {
       "ename": "ERROR",
       "evalue": "Error in mean(x): object 'x' not found\n",
       "output_type": "pyerr",
       "traceback": [
        "Error in mean(x): object 'x' not found\n"
       ]
      }
     ],
     "prompt_number": 12
    },
    {
     "cell_type": "markdown",
     "metadata": {},
     "source": [
      "### adding a new column:"
     ]
    },
    {
     "cell_type": "code",
     "collapsed": false,
     "input": [
      "is.data.table(dt)\n",
      "dt[,w:=z^2]\n",
      "\n",
      "# Note: some commands of data.table are still not supported in IPython-Rkernel"
     ],
     "language": "python",
     "metadata": {},
     "outputs": [
      {
       "metadata": {},
       "output_type": "pyout",
       "prompt_number": 13,
       "text": [
        "[1] TRUE"
       ]
      },
      {
       "ename": "ERROR",
       "evalue": "Error in `:=`(w, z^2): Check that is.data.table(DT) == TRUE. Otherwise, := and `:=`(...) are defined for use in j, once only and in particular ways. See help(\":=\").\n",
       "output_type": "pyerr",
       "traceback": [
        "Error in `:=`(w, z^2): Check that is.data.table(DT) == TRUE. Otherwise, := and `:=`(...) are defined for use in j, once only and in particular ways. See help(\":=\").\n"
       ]
      }
     ],
     "prompt_number": 13
    },
    {
     "cell_type": "code",
     "collapsed": false,
     "input": [
      "dt[,a:=x>0]\n",
      "dt[,b:=mean(x+w), by=a]"
     ],
     "language": "python",
     "metadata": {},
     "outputs": [
      {
       "ename": "ERROR",
       "evalue": "Error in `:=`(a, x > 0): Check that is.data.table(DT) == TRUE. Otherwise, := and `:=`(...) are defined for use in j, once only and in particular ways. See help(\":=\").\n",
       "output_type": "pyerr",
       "traceback": [
        "Error in `:=`(a, x > 0): Check that is.data.table(DT) == TRUE. Otherwise, := and `:=`(...) are defined for use in j, once only and in particular ways. See help(\":=\").\n"
       ]
      },
      {
       "ename": "ERROR",
       "evalue": "Error in `:=`(b, mean(x + w)): Check that is.data.table(DT) == TRUE. Otherwise, := and `:=`(...) are defined for use in j, once only and in particular ways. See help(\":=\").\n",
       "output_type": "pyerr",
       "traceback": [
        "Error in `:=`(b, mean(x + w)): Check that is.data.table(DT) == TRUE. Otherwise, := and `:=`(...) are defined for use in j, once only and in particular ways. See help(\":=\").\n"
       ]
      }
     ],
     "prompt_number": 14
    },
    {
     "cell_type": "markdown",
     "metadata": {},
     "source": [
      "**Note:** some commands of data.table are still not supported in IPython-Rkernel"
     ]
    },
    {
     "cell_type": "markdown",
     "metadata": {},
     "source": [
      "### Multiple operations:"
     ]
    },
    {
     "cell_type": "code",
     "collapsed": false,
     "input": [
      "dt[, m:={tmp <- x+z; log2(tmp+5)}]"
     ],
     "language": "python",
     "metadata": {},
     "outputs": [
      {
       "ename": "ERROR",
       "evalue": "Error in `:=`(m, {: Check that is.data.table(DT) == TRUE. Otherwise, := and `:=`(...) are defined for use in j, once only and in particular ways. See help(\":=\").\n",
       "output_type": "pyerr",
       "traceback": [
        "Error in `:=`(m, {: Check that is.data.table(DT) == TRUE. Otherwise, := and `:=`(...) are defined for use in j, once only and in particular ways. See help(\":=\").\n"
       ]
      }
     ],
     "prompt_number": 15
    },
    {
     "cell_type": "markdown",
     "metadata": {},
     "source": [
      "### Keys\n",
      "\n",
      "* Using keys to subset and sort much faster"
     ]
    },
    {
     "cell_type": "code",
     "collapsed": false,
     "input": [
      "DT <- data.table(x=rep(c(\"a\", \"b\", \"c\"), each=100), y=rnorm(300))\n",
      "setkey(DT, x)\n",
      "DT['a']"
     ],
     "language": "python",
     "metadata": {},
     "outputs": [
      {
       "ename": "ERROR",
       "evalue": "Error in `[.data.frame`(x, i): undefined columns selected\n",
       "output_type": "pyerr",
       "traceback": [
        "Error in `[.data.frame`(x, i): undefined columns selected\n"
       ]
      }
     ],
     "prompt_number": 16
    },
    {
     "cell_type": "markdown",
     "metadata": {},
     "source": [
      "* Using keys to facilitate joing two data tables:"
     ]
    },
    {
     "cell_type": "code",
     "collapsed": false,
     "input": [
      "DT1 <- data.table(x=c('a', 'a', 'b', 'dt1'), y=1:4)\n",
      "DT2 <- data.table(x=c('a', 'b', 'dt2'), z=5:7)\n",
      "setkey(DT1, x)\n",
      "setkey(DT2, x)\n",
      "merged(DT1, DT2)"
     ],
     "language": "python",
     "metadata": {},
     "outputs": [
      {
       "ename": "ERROR",
       "evalue": "Error in eval(expr, envir, enclos): could not find function \"merged\"\n",
       "output_type": "pyerr",
       "traceback": [
        "Error in eval(expr, envir, enclos): could not find function \"merged\"\n"
       ]
      }
     ],
     "prompt_number": 17
    },
    {
     "cell_type": "markdown",
     "metadata": {},
     "source": [
      "### Reading data from files faster\n",
      "\n",
      "Using **fread()** is much faster than **read.table()**"
     ]
    },
    {
     "cell_type": "code",
     "collapsed": false,
     "input": [
      "big_df <- data.frame(x=rnorm(1E6), y=rnorm(1E6))\n",
      "tfile=tempfile()\n",
      "\n",
      "write.table(big_df, file=tfile, row.names=T, sep=\"\\t\", quote=F)\n",
      "\n",
      "## timeing by fread:\n",
      "system.time(fread(tfile))\n",
      "\n",
      "## timing by read.table\n",
      "system.time(read.table(tfile, header=T, sep=\"\\t\"))"
     ],
     "language": "python",
     "metadata": {},
     "outputs": [
      {
       "metadata": {},
       "output_type": "pyout",
       "prompt_number": 18,
       "text": [
        "   user  system elapsed \n",
        "  0.776   0.008   0.783 "
       ]
      },
      {
       "metadata": {},
       "output_type": "pyout",
       "prompt_number": 18,
       "text": [
        "   user  system elapsed \n",
        " 24.840   0.144  25.013 "
       ]
      }
     ],
     "prompt_number": 18
    },
    {
     "cell_type": "markdown",
     "metadata": {},
     "source": [
      "<a id=\"read-mysql\"></a>\n",
      "\n",
      "# 3. Reading From MySQL\n",
      "\n",
      "* On a server, there might be multiple databases, and on each databases might be multiple tables\n",
      "* Make a connection to a database-serve, and send a query:"
     ]
    },
    {
     "cell_type": "code",
     "collapsed": false,
     "input": [
      "require(RMySQL)\n",
      "ucscDb <- dbConnect(MySQL(), user=\"genome\", \n",
      "                    host=\"genome-mysql.cse.ucsc.edu\")\n",
      "result_allDBs <- dbGetQuery(ucscDb, \"show databases;\")\n",
      "dbDisconnect(ucscDb)\n",
      "head(result_allDBs)"
     ],
     "language": "python",
     "metadata": {},
     "outputs": [
      {
       "output_type": "stream",
       "stream": "stderr",
       "text": [
        "packageStartupMessage in packageStartupMessage(gettextf(\"Loading required package: %s\", : Loading required package: RMySQL\n",
        "\n"
       ]
      },
      {
       "output_type": "stream",
       "stream": "stderr",
       "text": [
        "packageStartupMessage in packageStartupMessage(gettextf(\"Loading required package: %s\", : Loading required package: DBI\n",
        "\n"
       ]
      },
      {
       "metadata": {},
       "output_type": "pyout",
       "prompt_number": 19,
       "text": [
        "[1] TRUE"
       ]
      },
      {
       "metadata": {},
       "output_type": "pyout",
       "prompt_number": 19,
       "text": [
        "            Database\n",
        "1 information_schema\n",
        "2            ailMel1\n",
        "3            allMis1\n",
        "4            anoCar1\n",
        "5            anoCar2\n",
        "6            anoGam1"
       ]
      }
     ],
     "prompt_number": 19
    },
    {
     "cell_type": "code",
     "collapsed": false,
     "input": [
      "#Specify a database:\n",
      "hg19 <- dbConnect(MySQL(), user=\"genome\", db=\"hg19\", \n",
      "                  host=\"genome-mysql.cse.ucsc.edu\")\n",
      "\n",
      "allTables <- dbListTables(hg19)\n",
      "length(allTables)\n",
      "allTables[1:5]"
     ],
     "language": "python",
     "metadata": {},
     "outputs": [
      {
       "metadata": {},
       "output_type": "pyout",
       "prompt_number": 20,
       "text": [
        "[1] 11003"
       ]
      },
      {
       "metadata": {},
       "output_type": "pyout",
       "prompt_number": 20,
       "text": [
        "[1] \"HInv\"         \"HInvGeneMrna\" \"acembly\"      \"acemblyClass\" \"acemblyPep\"  "
       ]
      }
     ],
     "prompt_number": 20
    },
    {
     "cell_type": "code",
     "collapsed": false,
     "input": [
      "# list all the fields (column name) of a table:\n",
      "dbListFields(hg19, \"affyU133Plus2\")"
     ],
     "language": "python",
     "metadata": {},
     "outputs": [
      {
       "metadata": {},
       "output_type": "pyout",
       "prompt_number": 21,
       "text": [
        " [1] \"bin\"         \"matches\"     \"misMatches\"  \"repMatches\"  \"nCount\"     \n",
        " [6] \"qNumInsert\"  \"qBaseInsert\" \"tNumInsert\"  \"tBaseInsert\" \"strand\"     \n",
        "[11] \"qName\"       \"qSize\"       \"qStart\"      \"qEnd\"        \"tName\"      \n",
        "[16] \"tSize\"       \"tStart\"      \"tEnd\"        \"blockCount\"  \"blockSizes\" \n",
        "[21] \"qStarts\"     \"tStarts\"    "
       ]
      }
     ],
     "prompt_number": 21
    },
    {
     "cell_type": "code",
     "collapsed": false,
     "input": [
      "# find out the number of rows of a specific table:\n",
      "dbGetQuery(hg19, \"SELECT count(*) from affyU133Plus2\")"
     ],
     "language": "python",
     "metadata": {},
     "outputs": [
      {
       "metadata": {},
       "output_type": "pyout",
       "prompt_number": 22,
       "text": [
        "  count(*)\n",
        "1    58463"
       ]
      }
     ],
     "prompt_number": 22
    },
    {
     "cell_type": "markdown",
     "metadata": {},
     "source": [
      "* Get the table as a data.frame **dbReadTable()**:\n"
     ]
    },
    {
     "cell_type": "code",
     "collapsed": false,
     "input": [
      "affyData <- dbReadTable(hg19, \"affyU133Plus2\")\n",
      "head(affyData[,1:8], n=3)"
     ],
     "language": "python",
     "metadata": {},
     "outputs": [
      {
       "metadata": {},
       "output_type": "pyout",
       "prompt_number": 23,
       "text": [
        "  bin matches misMatches repMatches nCount qNumInsert qBaseInsert tNumInsert\n",
        "1 585     530          4          0     23          3          41          3\n",
        "2 585    3355         17          0    109          9          67          9\n",
        "3 585    4156         14          0     83         16          18          2"
       ]
      }
     ],
     "prompt_number": 23
    },
    {
     "cell_type": "markdown",
     "metadata": {},
     "source": [
      "* Select only a subset of data with **dbSendQuery()** \n"
     ]
    },
    {
     "cell_type": "code",
     "collapsed": false,
     "input": [
      "query <- dbSendQuery(hg19, \"select * from affyU133Plus2 where misMatches between 1 and 30\")\n",
      "affyMis <- fetch(query)\n",
      "quantile(affyMis$misMatches)"
     ],
     "language": "python",
     "metadata": {},
     "outputs": [
      {
       "metadata": {},
       "output_type": "pyout",
       "prompt_number": 24,
       "text": [
        "  0%  25%  50%  75% 100% \n",
        "   1    1    3    6   30 "
       ]
      }
     ],
     "prompt_number": 24
    },
    {
     "cell_type": "markdown",
     "metadata": {},
     "source": [
      "* Fetch a small number of rows:"
     ]
    },
    {
     "cell_type": "code",
     "collapsed": false,
     "input": [
      "affyMisSmall <- fetch(query, n=10)\n",
      "dbClearResult(query)\n",
      "dim(affyMisSmall)"
     ],
     "language": "python",
     "metadata": {},
     "outputs": [
      {
       "metadata": {},
       "output_type": "pyout",
       "prompt_number": 25,
       "text": [
        "[1] TRUE"
       ]
      },
      {
       "metadata": {},
       "output_type": "pyout",
       "prompt_number": 25,
       "text": [
        "[1] 10 22"
       ]
      }
     ],
     "prompt_number": 25
    },
    {
     "cell_type": "markdown",
     "metadata": {},
     "source": [
      "* Close the connection when you are done"
     ]
    },
    {
     "cell_type": "code",
     "collapsed": false,
     "input": [
      "dbDisconnect(hg19)"
     ],
     "language": "python",
     "metadata": {},
     "outputs": [
      {
       "metadata": {},
       "output_type": "pyout",
       "prompt_number": 26,
       "text": [
        "[1] TRUE"
       ]
      }
     ],
     "prompt_number": 26
    },
    {
     "cell_type": "markdown",
     "metadata": {},
     "source": [
      "<a id=\"hdf5-format\"></a>\n",
      "\n",
      "# 4. Data in HDF5 Format\n",
      "\n",
      "<a href=\"http://www.hdfgroup.org\">www.hdfgroup.org</a>\n",
      "\n",
      "* HDF5 used for storing large data sets\n",
      "* HDF == Hierarchical Data Format\n",
      "\n",
      "* groups containing datasets + metadata\n",
      "* datasets are multdimensional array of data \n",
      "\n",
      "* To install, use\n",
      "\n",
      "   source(\"http://bioconductor.org/biocLite.R\")\n",
      "   \n",
      "   biocLite(\"rhdf5\")"
     ]
    },
    {
     "cell_type": "code",
     "collapsed": false,
     "input": [
      "library(rhdf5)\n",
      "# create a new hdf5 file\n",
      "created <- h5createFile(\"examples/example.h5\")\n",
      "# the output is just a boolean\n",
      "created"
     ],
     "language": "python",
     "metadata": {},
     "outputs": [
      {
       "output_type": "stream",
       "stream": "stderr",
       "text": [
        "simpleMessage in message(\"file '\", file, \"' already exists.\"): file 'examples/example.h5' already exists.\n",
        "\n"
       ]
      },
      {
       "metadata": {},
       "output_type": "pyout",
       "prompt_number": 27,
       "text": [
        "[1] FALSE"
       ]
      }
     ],
     "prompt_number": 27
    },
    {
     "cell_type": "code",
     "collapsed": false,
     "input": [
      "created <- h5createGroup(\"examples/example.h5\", \"foo\")\n",
      "created <- h5createGroup(\"examples/example.h5\", \"baa\")\n",
      "created <- h5createGroup(\"examples/example.h5\", \"foo/subgroup\")\n",
      "h5ls(\"examples/example.h5\")"
     ],
     "language": "python",
     "metadata": {},
     "outputs": [
      {
       "output_type": "stream",
       "stream": "stderr",
       "text": [
        "simpleMessage in message(\"Can not create group. Object with name '\", group, \"' already exists.\"): Can not create group. Object with name 'foo' already exists.\n",
        "\n"
       ]
      },
      {
       "output_type": "stream",
       "stream": "stderr",
       "text": [
        "simpleMessage in message(\"Can not create group. Object with name '\", group, \"' already exists.\"): Can not create group. Object with name 'baa' already exists.\n",
        "\n"
       ]
      },
      {
       "output_type": "stream",
       "stream": "stderr",
       "text": [
        "simpleMessage in message(\"Can not create group. Object with name '\", group, \"' already exists.\"): Can not create group. Object with name 'foo/subgroup' already exists.\n",
        "\n"
       ]
      },
      {
       "metadata": {},
       "output_type": "pyout",
       "prompt_number": 28,
       "text": [
        "          group     name       otype   dclass       dim\n",
        "0             /      baa   H5I_GROUP                   \n",
        "1             /       df H5I_DATASET COMPOUND         5\n",
        "2             /      foo   H5I_GROUP                   \n",
        "3          /foo        A H5I_DATASET  INTEGER     5 x 2\n",
        "4          /foo subgroup   H5I_GROUP                   \n",
        "5 /foo/subgroup        B H5I_DATASET    FLOAT 5 x 2 x 2"
       ]
      }
     ],
     "prompt_number": 28
    },
    {
     "cell_type": "markdown",
     "metadata": {},
     "source": [
      "<a id=\"add-data-hdf5\"></a>\n",
      "\n",
      "## Writing/adding data to a specific group"
     ]
    },
    {
     "cell_type": "code",
     "collapsed": false,
     "input": [
      "A <- matrix(1:10, nr=5, nc=2)\n",
      "h5write(A, \"examples/example.h5\", \"foo/A\")\n",
      "\n",
      "B <- array(seq(0.1, 2.0, by=0.1), dim=c(5,2,2))\n",
      "attr(B, \"scale\") <- \"liter\"\n",
      "h5write(B, \"examples/example.h5\", \"foo/subgroup/B\")\n",
      "h5ls(\"examples/example.h5\")"
     ],
     "language": "python",
     "metadata": {},
     "outputs": [
      {
       "metadata": {},
       "output_type": "pyout",
       "prompt_number": 29,
       "text": [
        "          group     name       otype   dclass       dim\n",
        "0             /      baa   H5I_GROUP                   \n",
        "1             /       df H5I_DATASET COMPOUND         5\n",
        "2             /      foo   H5I_GROUP                   \n",
        "3          /foo        A H5I_DATASET  INTEGER     5 x 2\n",
        "4          /foo subgroup   H5I_GROUP                   \n",
        "5 /foo/subgroup        B H5I_DATASET    FLOAT 5 x 2 x 2"
       ]
      }
     ],
     "prompt_number": 29
    },
    {
     "cell_type": "code",
     "collapsed": false,
     "input": [
      "## Writea data.frame\n",
      "df <- data.frame(1L:5L, seq(0,1,length.out=5), \n",
      "                 c(\"ab\", \"cde\", \"fhgi\", \"a\", \"s\"), stringAsFactors=FALSE)\n",
      "h5write(df, \"examples/example.h5\", \"df\")\n",
      "h5ls(\"examples/example.h5\")"
     ],
     "language": "python",
     "metadata": {},
     "outputs": [
      {
       "ename": "ERROR",
       "evalue": "Error in h5writeDataset.data.frame(obj, loc$H5Identifier, name, ...): Cannot write data.frame. Object already exists. Subsetting for compound datatype not supported.\n",
       "output_type": "pyerr",
       "traceback": [
        "Error in h5writeDataset.data.frame(obj, loc$H5Identifier, name, ...): Cannot write data.frame. Object already exists. Subsetting for compound datatype not supported.\n"
       ]
      },
      {
       "metadata": {},
       "output_type": "pyout",
       "prompt_number": 30,
       "text": [
        "          group     name       otype   dclass       dim\n",
        "0             /      baa   H5I_GROUP                   \n",
        "1             /       df H5I_DATASET COMPOUND         5\n",
        "2             /      foo   H5I_GROUP                   \n",
        "3          /foo        A H5I_DATASET  INTEGER     5 x 2\n",
        "4          /foo subgroup   H5I_GROUP                   \n",
        "5 /foo/subgroup        B H5I_DATASET    FLOAT 5 x 2 x 2"
       ]
      }
     ],
     "prompt_number": 30
    },
    {
     "cell_type": "markdown",
     "metadata": {},
     "source": [
      "<a id=\"read-hdf5\"></a>\n",
      "\n",
      "## Reading data from HDF5"
     ]
    },
    {
     "cell_type": "code",
     "collapsed": false,
     "input": [
      "readA <- h5read(\"examples/example.h5\", \"foo/A\")\n",
      "readB <- h5read(\"examples/example.h5\", \"foo/subgroup/B\")\n",
      "read.df <- h5read(\"examples/example.h5\", \"df\")\n",
      "readA"
     ],
     "language": "python",
     "metadata": {},
     "outputs": [
      {
       "metadata": {},
       "output_type": "pyout",
       "prompt_number": 32,
       "text": [
        "     [,1] [,2]\n",
        "[1,]    1    6\n",
        "[2,]    2    7\n",
        "[3,]    3    8\n",
        "[4,]    4    9\n",
        "[5,]    5   10"
       ]
      }
     ],
     "prompt_number": 32
    },
    {
     "cell_type": "markdown",
     "metadata": {},
     "source": [
      "<a id=\"modify-hdf5\"></a>\n",
      "\n",
      "## Modifying an Existing Datasets"
     ]
    },
    {
     "cell_type": "code",
     "collapsed": false,
     "input": [
      "h5write(c(12,13,14), \"examples/example.h5\", \"foo/A\", index=list(1:3, 1))\n",
      "h5read(\"examples/example.h5\", \"foo/A\")"
     ],
     "language": "python",
     "metadata": {},
     "outputs": [
      {
       "metadata": {},
       "output_type": "pyout",
       "prompt_number": 33,
       "text": [
        "     [,1] [,2]\n",
        "[1,]   12    6\n",
        "[2,]   13    7\n",
        "[3,]   14    8\n",
        "[4,]    4    9\n",
        "[5,]    5   10"
       ]
      }
     ],
     "prompt_number": 33
    },
    {
     "cell_type": "markdown",
     "metadata": {},
     "source": [
      "<a id=\"read-web\"></a>\n",
      "\n",
      "# 5. Reading Data from the Web (webscraping)\n",
      "\n",
      "**Webscraping:** programmatically extracting data from HTML code"
     ]
    },
    {
     "cell_type": "code",
     "collapsed": false,
     "input": [
      "# create a connection\n",
      "con <- url(\"http://scholar.google.com/citations?user=8YTgJ_cAAAAJ&hl=en\")\n",
      "# readlines from the connection\n",
      "htmlCode <- readLines(con)\n",
      "# close the connection\n",
      "close(con)"
     ],
     "language": "python",
     "metadata": {},
     "outputs": [
      {
       "output_type": "stream",
       "stream": "stderr",
       "text": [
        "simpleWarning in readLines(con): incomplete final line found on 'http://scholar.google.com/citations?user=8YTgJ_cAAAAJ&hl=en'\n"
       ]
      }
     ],
     "prompt_number": 34
    },
    {
     "cell_type": "markdown",
     "metadata": {},
     "source": [
      "<a id=\"process-web-xml\"></a>\n",
      "\n",
      "## Process web data by XML package"
     ]
    },
    {
     "cell_type": "code",
     "collapsed": false,
     "input": [
      "library(XML)\n",
      "\n",
      "url.address <- \"http://scholar.google.com/citations?user=8YTgJ_cAAAAJ&hl=en\"\n",
      "\n",
      "html <- htmlTreeParse(url.address, useInternalNodes=T)\n",
      "\n",
      "xpathSApply(html, \"//title\", xmlValue)\n",
      "\n",
      "xpathSApply(html, \"//td[@id='col-citedby']\", xmlValue)"
     ],
     "language": "python",
     "metadata": {},
     "outputs": [
      {
       "metadata": {},
       "output_type": "pyout",
       "prompt_number": 19,
       "text": [
        "[1] \"Vahid Mirjalili - Google Scholar Citations\""
       ]
      },
      {
       "metadata": {},
       "output_type": "pyout",
       "prompt_number": 19,
       "text": [
        " [1] \"Cited by\" \"39\"       \"15\"       \"7\"        \"4\"        \"1\"       \n",
        " [7] \"\"         \"\"         \"\"         \"\"        "
       ]
      }
     ],
     "prompt_number": 19
    },
    {
     "cell_type": "markdown",
     "metadata": {},
     "source": [
      "<a id=\"get-command\"></a>\n",
      "\n",
      "## Using GET Command (httr package)"
     ]
    },
    {
     "cell_type": "code",
     "collapsed": false,
     "input": [
      "library(httr)\n",
      "html2 <- GET(url.address)\n",
      "\n",
      "content2 <- content(html2, as=\"text\")\n",
      "\n",
      "parsedHtml <- htmlParse(content2, asText=TRUE)\n",
      "\n",
      "xpathSApply(parsedHtml, \"//title\", xmlValue)"
     ],
     "language": "python",
     "metadata": {},
     "outputs": [
      {
       "metadata": {},
       "output_type": "pyout",
       "prompt_number": 24,
       "text": [
        "[1] \"Vahid Mirjalili - Google Scholar Citations\""
       ]
      }
     ],
     "prompt_number": 24
    },
    {
     "cell_type": "markdown",
     "metadata": {},
     "source": [
      "<a id=\"fifacup-2014\"></a>\n",
      "### Example: parsing worldcup-2014 HTML"
     ]
    },
    {
     "cell_type": "code",
     "collapsed": false,
     "input": [
      "require(XML)\n",
      "\n",
      "wcup <- htmlTreeParse(\"http://www.fifa.com/worldcup/matches/\", useInternal=TRUE)\n",
      "\n",
      "matches <- xpathSApply(wcup, \"//span[starts-with(@class, 't-nText ')]\", xmlValue)\n",
      "#head(matches)\n",
      "\n",
      "m_days <- xpathSApply(wcup, \"//div[@class='mu-i-datetime']\", xmlValue)\n",
      "#head(m_days)\n",
      "\n",
      "wcup.matches <- data.frame(\n",
      "    team_A = matches[seq(1, 130, by=2)],\n",
      "    team_B = matches[seq(2, 130, by=2)],\n",
      "    datetime = m_days[1:65]\n",
      ")\n",
      "\n",
      "#head(wcup.matches)\n",
      "\n",
      "## Print the German games:\n",
      "wcup.matches[wcup.matches$team_A == \"Germany\" | wcup.matches$team_B == \"Germany\", ]"
     ],
     "language": "python",
     "metadata": {},
     "outputs": [
      {
       "metadata": {},
       "output_type": "pyout",
       "prompt_number": 15,
       "text": [
        "    team_A   team_B                       datetime\n",
        "12 Germany Portugal 16 Jun 2014 - 13:00 Local time\n",
        "29 Germany Portugal 16 Jun 2014 - 13:00 Local time\n",
        "45 Germany    Ghana 21 Jun 2014 - 16:00 Local time\n",
        "63     USA  Germany 26 Jun 2014 - 13:00 Local time"
       ]
      }
     ],
     "prompt_number": 15
    },
    {
     "cell_type": "markdown",
     "metadata": {},
     "source": [
      "<a id=\"data-api\"></a>\n",
      "\n",
      "# 6. Getting Data from APIs\n",
      "\n",
      "Using **httr** package to get data from APIs (twitter, facebook, github, ...)\n",
      "\n",
      "* Create a developer account at https://dev.twitter.com/apps\n",
      "* Create an application, with authentication keys: **OAuth**\n",
      "* Your keys are private to you!!\n"
     ]
    },
    {
     "cell_type": "code",
     "collapsed": false,
     "input": [
      "library(httr)\n",
      "\n",
      "## read the api keys stored in a file\n",
      "auth_keys = read.table(\"/home/vahid/Desktop/tw.api.keys\")\n",
      "\n",
      "myapp = oauth_app(\"twitter\", \n",
      "                  key=auth_keys[1,1], secret = auth_keys[2,1])\n",
      "\n",
      "sig = sign_oauth1.0(myapp, \n",
      "                    token=auth_keys[3,1], token_secret=auth_keys[4,1])\n",
      "\n",
      "## Get the home timeline\n",
      "homeTL = GET(\"https://api.twitter.com/1.1/statuses/home_timeline.json\", sig)\n",
      "\n",
      "## Extract its contents\n",
      "json1 = content(homeTL)\n",
      "json2 = jsonlite::fromJSON(toJSON(json1))\n",
      "\n",
      "json2[1:2, 1:4]"
     ],
     "language": "python",
     "metadata": {},
     "outputs": [
      {
       "metadata": {},
       "output_type": "pyout",
       "prompt_number": 5,
       "text": [
        "                      created_at           id             id_str\n",
        "1 Sat Jun 14 13:32:02 +0000 2014 4.778057e+17 477805666992922624\n",
        "2 Sat Jun 14 12:51:01 +0000 2014 4.777953e+17 477795344810397696\n",
        "                                                 text\n",
        "1                      Ireland http://t.co/sPW4UvQIgI\n",
        "2 RGolf: NGSL Scrabble http://t.co/fNoahvHa2o #rstats"
       ]
      }
     ],
     "prompt_number": 5
    },
    {
     "cell_type": "markdown",
     "metadata": {},
     "source": [
      "* To lear more about other parameters to get statuses/home_timeline:\n",
      "\n",
      "   https://dev.twitter.com/docs/api/1.1/get/statuses/home_timeline\n",
      "   \n",
      "useful parameters:\n",
      "\n",
      "   * exclude_replies\n",
      "   * count\n",
      "   * since_id\n",
      " \n",
      " * In general, **httr** package allows **GET**, **POST**, **PUT**, **DELETE** requests if authenticated\n",
      " * **httr** works well with Twitter, Facebook, Google, Github, .."
     ]
    },
    {
     "cell_type": "markdown",
     "metadata": {},
     "source": [
      "<a id=\"github-api\"></a>\n",
      "\n",
      "## Github API:\n",
      "\n",
      "Information on GitHub useful for hiring programmers or scientists with particular skill.\n",
      "\n",
      "To read data from github API:\n",
      "\n",
      "   * Reginster an application at https://github.com/settings/applications\n",
      "   * Get your key and secret pair for aithntication"
     ]
    },
    {
     "cell_type": "code",
     "collapsed": false,
     "input": [
      "## reginster an application at https://github.com/settings/applications\n",
      "### use  http://localhost:1410  fot callback URL\n",
      "\n",
      "myapp <- oauth_app(\"github\", \"74c8e68e2ca64160346d\", secret=\"...\")\n",
      "\n",
      "myapp\n",
      "> <ouath_app> github\n",
      ">  key:    74c8e68e2ca64160346d\n",
      ">  secret: <hidden>\n",
      "\n",
      "github_token <- oauth2.0_token(oauth_endpoints(\"github\"), myapp)\n",
      "> Waiting for authentication in browser...\n",
      "> Press Esc/Ctrl + C to abort\n",
      "> Authentication complete.\n",
      "\n",
      "req <- GET(\"https://api.github.com/users/mirjalil/repos\", config(token = github_token))\n",
      "stop_for_status(req)\n",
      "content(req)"
     ],
     "language": "python",
     "metadata": {},
     "outputs": []
    },
    {
     "cell_type": "markdown",
     "metadata": {},
     "source": [
      "<a id=\"other-sources\"></a>\n",
      "\n",
      "# 7. Reading from Other Sources\n",
      "\n",
      "Use **connections** to interact directly with other files/sources:\n",
      "\n",
      "* **file**: open a connection to a *text* file\n",
      "* **url**: open a connection to a *url*\n",
      "* **gzfile**: open a connection to a *.gz* file\n",
      "* **bzfile**: open a connection to a *.bz2* file\n",
      "\n",
      "<a id=\"foreign-package\"></a>\n",
      "\n",
      "## The Foreign Package\n",
      "\n",
      "* loads data from other statistical softwares such as *Minitab*, *S*, *SAS*, *SPSS*, *Stata*, *Systat*\n",
      "   - read.arff (Weka)\n",
      "   - read.dta (Stata)\n",
      "   - read.mtp (Minitab)\n",
      "   - read.octave (Octave)\n",
      "   - read.spss (SPSS)\n",
      "   - read.xport (SAS)\n",
      "   \n"
     ]
    },
    {
     "cell_type": "code",
     "collapsed": false,
     "input": [
      "# example reading arff data:\n",
      "\n",
      "library(foreign)\n",
      "d.weka <- read.arff(\"examples/anneal.arff\")\n",
      "str(d.weka[,1:5])"
     ],
     "language": "python",
     "metadata": {},
     "outputs": [
      {
       "output_type": "stream",
       "stream": "stdout",
       "text": [
        "'data.frame':\t898 obs. of  5 variables:\n",
        " $ family      : Factor w/ 2 levels \"TN\",\"ZS\": NA NA NA NA NA NA NA NA NA NA ...\n",
        " $ product-type: Factor w/ 1 level \"C\": 1 1 1 1 1 1 1 1 1 1 ...\n",
        " $ steel       : Factor w/ 7 levels \"A\",\"K\",\"M\",\"R\",..: 1 4 4 1 1 1 4 1 4 1 ...\n",
        " $ carbon      : num  8 0 0 0 0 0 0 0 0 0 ...\n",
        " $ hardness    : num  0 0 0 60 60 45 0 0 0 0 ...\n"
       ]
      }
     ],
     "prompt_number": 11
    },
    {
     "cell_type": "markdown",
     "metadata": {},
     "source": [
      "<a id=\"other-database-con\"></a>\n",
      "\n",
      "## Other Database Connections\n",
      "\n",
      "* RPostgresSQL: https://code.google.com/p/rpostgressql\n",
      "* RODBC: provides an interface to multiple databases such as **RPostgresSQL**, **SQLite**, **MySQL**, **Microsoft Access**\n",
      "* RMongo, and RMongoDb"
     ]
    },
    {
     "cell_type": "markdown",
     "metadata": {},
     "source": [
      "<a id=\"read-image\"></a>\n",
      "\n",
      "## R Packages for Reading Images\n",
      "\n",
      "* **jpeg::readJPEG()**\n",
      "* **readbitmap::read.bmp()**\n",
      "* **png::readPNG()**\n",
      "* **EBImage** (Bioconductor)"
     ]
    },
    {
     "cell_type": "code",
     "collapsed": false,
     "input": [
      "# example: reading image from 101_ObjectCategories\n",
      "\n",
      "library(jpeg)\n",
      "\n",
      "d.img <- readJPEG(\"~/datasets/101_ObjectCategories/pyramid/image_0001.jpg\")\n",
      "\n",
      "str(d.img)"
     ],
     "language": "python",
     "metadata": {},
     "outputs": [
      {
       "output_type": "stream",
       "stream": "stdout",
       "text": [
        " num [1:189, 1:300, 1:3] 0.965 0.969 0.973 0.973 0.973 ...\n"
       ]
      }
     ],
     "prompt_number": 8
    },
    {
     "cell_type": "markdown",
     "metadata": {},
     "source": [
      "<a id=\"read-gis\"></a>\n",
      "\n",
      "## Reading Geographic Information System (GIS) Data\n",
      "\n",
      "* **rdgal::**\n",
      "* **rgeos::**\n",
      "* **raster::**"
     ]
    },
    {
     "cell_type": "markdown",
     "metadata": {},
     "source": [
      "<a id=\"read-music\"></a>\n",
      "\n",
      "## Reading Musical Data\n",
      "\n",
      "* **tuneR::**\n",
      "* **seewave::**"
     ]
    }
   ],
   "metadata": {}
  }
 ]
}