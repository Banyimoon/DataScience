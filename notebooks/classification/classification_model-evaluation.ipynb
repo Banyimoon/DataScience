{
 "cells": [
  {
   "cell_type": "markdown",
   "metadata": {},
   "source": [
    "Model Evaluation\n",
    "===\n",
    "\n",
    "\n",
    "* Accracy \n",
    "\n",
    " $Accuracy= \\frac{correctly classified}{all classified instances}$\n",
    " \n",
    "* Confusion Matrix\n",
    "\n",
    "% Please add the following required packages to your document preamble:\n",
    "% \\usepackage[table,xcdraw]{xcolor}\n",
    "% If you use beamer only pass \"xcolor=table\" option, i.e. \\documentclass[xcolor=table]{beamer}\n",
    "\\begin{table}[]\n",
    "\\centering\n",
    "\\caption{My caption}\n",
    "\\label{my-label}\n",
    "\\begin{tabular}{cccc}\n",
    "\\multicolumn{1}{l}{}                 & \\multicolumn{3}{l}{Actual Class}                                                                                           \\\\ \\cline{3-4} \n",
    "                                     & \\multicolumn{1}{c|}{}  & \\multicolumn{1}{c|}{+}                          & \\multicolumn{1}{c|}{-}                          \\\\ \\cline{2-4} \n",
    "\\multicolumn{1}{c|}{Predicted Class} & \\multicolumn{1}{c|}{+} & \\multicolumn{1}{c|}{\\cellcolor[HTML]{6434FC}TP} & \\multicolumn{1}{c|}{\\cellcolor[HTML]{CD9934}FP} \\\\ \\cline{2-4} \n",
    "\\multicolumn{1}{c|}{}                & \\multicolumn{1}{c|}{-} & \\multicolumn{1}{c|}{\\cellcolor[HTML]{CD9934}FN} & \\multicolumn{1}{c|}{\\cellcolor[HTML]{6434FC}TN} \\\\ \\cline{2-4} \n",
    "\\end{tabular}\n",
    "\\end{table}\n",
    "\n",
    "* True Positive rate\n",
    "\n",
    "* False Positive Rate\n",
    "\n",
    "* Precision\n",
    "\n",
    "* Recall"
   ]
  },
  {
   "cell_type": "code",
   "execution_count": 1,
   "metadata": {
    "collapsed": false
   },
   "outputs": [
    {
     "ename": "NameError",
     "evalue": "name 'Latex' is not defined",
     "output_type": "error",
     "traceback": [
      "\u001b[1;31m---------------------------------------------------------------------------\u001b[0m",
      "\u001b[1;31mNameError\u001b[0m                                 Traceback (most recent call last)",
      "\u001b[1;32m<ipython-input-1-31f1937f05b1>\u001b[0m in \u001b[0;36m<module>\u001b[1;34m()\u001b[0m\n\u001b[1;32m----> 1\u001b[1;33m \u001b[0mLatex\u001b[0m\u001b[1;33m(\u001b[0m\u001b[1;34mr\"\"\"\\begin{tabular}{l} 1 \\\\ 2 \\end{tabular}\"\"\"\u001b[0m\u001b[1;33m)\u001b[0m\u001b[1;33m\u001b[0m\u001b[0m\n\u001b[0m",
      "\u001b[1;31mNameError\u001b[0m: name 'Latex' is not defined"
     ]
    }
   ],
   "source": [
    "Latex(r\"\"\"\\begin{tabular}{l} 1 \\\\ 2 \\end{tabular}\"\"\")"
   ]
  },
  {
   "cell_type": "markdown",
   "metadata": {
    "collapsed": true
   },
   "source": [
    "## Splitting the data into train/test\n",
    "\n",
    "\n",
    "\n",
    "**If we dvide the data into 50%, how do we decide which one to use?**\n",
    "\n",
    "\n",
    "\n",
    "### K-fold cross validation\n",
    "\n",
    "\n",
    "**At the end, we develop k models. Which one we should use to predict the label of an unlabeled data?** \n",
    "\n",
    "None of the k models. K-fold cross-validation is only used to estimate the performance of our model. For real prediction, we should use the entire dataset for training, and that trained model should be used for prediction."
   ]
  },
  {
   "cell_type": "markdown",
   "metadata": {},
   "source": [
    "## Types of classification errors\n",
    "\n",
    " * **Training error**\n",
    " * **Test error**\n",
    " \n",
    "### Model overfitting\n",
    "\n",
    "\n",
    "**Underfitting** model is too simple, both training and test errors are high\n",
    "\n",
    "**Overfitting** model is too complex, training error is small, but test error is large.\n",
    "\n",
    "#### Source of overfitting\n",
    " * noise points \n",
    " * "
   ]
  },
  {
   "cell_type": "code",
   "execution_count": null,
   "metadata": {
    "collapsed": true
   },
   "outputs": [],
   "source": []
  }
 ],
 "metadata": {
  "kernelspec": {
   "display_name": "Python 3",
   "language": "python",
   "name": "python3"
  },
  "language_info": {
   "codemirror_mode": {
    "name": "ipython",
    "version": 3
   },
   "file_extension": ".py",
   "mimetype": "text/x-python",
   "name": "python",
   "nbconvert_exporter": "python",
   "pygments_lexer": "ipython3",
   "version": "3.5.1"
  }
 },
 "nbformat": 4,
 "nbformat_minor": 0
}
