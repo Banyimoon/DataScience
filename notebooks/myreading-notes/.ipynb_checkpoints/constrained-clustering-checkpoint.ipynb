{
 "cells": [
  {
   "cell_type": "markdown",
   "metadata": {},
   "source": [
    "Constrained Clustering\n",
    "===\n",
    "\n",
    "Forms of constraints:\n",
    " * Must-Link $ML(a,b)$ \n",
    "   * also refered to as *positive constraint*\n",
    " * Cannot-Link $CL(a,b)$ \n",
    "   * also known as *negative constraint*\n",
    " \n",
    "Properties of constraints:\n",
    " * Transitive property: $ML(a,b)\\ \\&\\ ML(b,c)\\ \\rightarrow\\ ML(a,c)$\n",
    " * Symmetric\n",
    " * Reflexive\n",
    " \n",
    "$CL(a,b) \\ \\&\\ ML(b,c) \\ \\rightarrow \\ CL(a,c)$"
   ]
  },
  {
   "cell_type": "markdown",
   "metadata": {},
   "source": [
    "### Constrained Clustering Algorithms\n",
    "\n",
    " * **constraint-based methods** directly altering the clustering flow\n",
    " * **distance-based methods** learning a distance metric that accomodates for the given constraints."
   ]
  },
  {
   "cell_type": "markdown",
   "metadata": {
    "collapsed": true
   },
   "source": [
    "#### Constrained K-Means by Wagstaff et al. (2001)\n",
    "\n",
    "In the cluster assignment phase of K-means algorithm, for any point, check if it violates the constraints or not.\n",
    "\n",
    " * Positive constraints can be easily satisfied\n",
    " * Blindly assigns points correspond to a positive (Must-link) constraint to the same cluster\n",
    " * There can be a situation in which a set of negative (Cannot-link) constraints can make the clustering infeasible"
   ]
  },
  {
   "cell_type": "markdown",
   "metadata": {
    "collapsed": true
   },
   "source": [
    "### Pairwise Constrained K-Means (PCKM) by Basu et al. (2004)\n",
    "\n",
    " * A new objective function $\\phi_{pckm}$\n",
    " \n",
    " $$\\phi_{pckm}(\\Omega) = SSE(\\Omega) + \\text{penalty}_{ML}(\\Omega) + \\text{penalty}_{CL} (\\Omega)$$\n",
    " \n",
    " \n",
    " * $SSE=\\sum \\sum_{}^{} |x_i - \\omega_j|$: compactness of clusters\n",
    " * $\\text{penalty}_{ML}= \\omega_{ij} 1[l_i \\ne l_j]$\n",
    " * $\\text{penalty}_{CL}= \\bar{\\omega}_{ij} 1[l_i = l_j]$"
   ]
  },
  {
   "cell_type": "markdown",
   "metadata": {
    "collapsed": true
   },
   "source": [
    "### HMRF K-Means \n",
    "\n",
    "**HMRF = Hidden Markov Random Field**\n",
    "\n",
    "A hybrid approach, between constraint-based and distance-based\n",
    "\n",
    "$$\\phi_{hmrfkm}(\\Omega) = \\sum \\sum D(x,\\omega_j) + \\sum_{x_i,x_j\\in ML} \\omega_{ij} \\xi_D 1[l_i \\ne l_j]  + \\\\ \\sum_{x_i,x_j\\in CL} \\bar{\\omega}_{ij} \\left(\\xi(D_{\\max}) - \\xi_D(x_i,x_j)\\right) 1[l_i = l_j] + \\\\ \\log Z$$"
   ]
  },
  {
   "cell_type": "markdown",
   "metadata": {},
   "source": [
    "### Constrained Normalized Cut"
   ]
  },
  {
   "cell_type": "code",
   "execution_count": null,
   "metadata": {
    "collapsed": true
   },
   "outputs": [],
   "source": []
  }
 ],
 "metadata": {
  "kernelspec": {
   "display_name": "Python 3",
   "language": "python",
   "name": "python3"
  },
  "language_info": {
   "codemirror_mode": {
    "name": "ipython",
    "version": 3
   },
   "file_extension": ".py",
   "mimetype": "text/x-python",
   "name": "python",
   "nbconvert_exporter": "python",
   "pygments_lexer": "ipython3",
   "version": "3.5.1"
  }
 },
 "nbformat": 4,
 "nbformat_minor": 0
}
