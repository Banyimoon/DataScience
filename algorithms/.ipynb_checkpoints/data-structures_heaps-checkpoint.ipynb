{
 "cells": [
  {
   "cell_type": "markdown",
   "metadata": {},
   "source": [
    "Binary Heaps\n",
    "====\n",
    "\n",
    "\n",
    "#### Min-heaps\n",
    "\n",
    " * The root node is always the min value  \n",
    " * The tree must be a complete tree.\n",
    " \n",
    " * the only relationship between the subtrees is that they are both greater than their parent node. There is no other relationship between them.\n",
    " \n",
    "### Operations\n",
    "\n",
    " * push \n",
    " * pop : worst case $\\Theta(\\ln n)$\n",
    " * top $\\Theta(1)$\n",
    " \n",
    "#### push opearation\n",
    " * Start by putting the new element at the leaf, and then find its correct place\n",
    " * Start from the root, and then move the higher value down the tree.\n",
    " \n",
    "**How to gaurantee that the tree is complete?** Percolation\n",
    "\n",
    "**S commplete tree is filled with bridth-first traversal**"
   ]
  },
  {
   "cell_type": "markdown",
   "metadata": {},
   "source": [
    "## Implementing min-heap using an array\n",
    "\n",
    " * parent of node $k$ is $k/2$\n",
    " * children of node $k$ are indexed by $2k$ and $2k+1$\n",
    " "
   ]
  },
  {
   "cell_type": "markdown",
   "metadata": {},
   "source": [
    "### Comparison\n",
    "\n",
    "||Multiple (m) Queues | AVL tree | Binary Heap |\n",
    "|:--|:--:|:--:|:--:|\n",
    "|top |$\\Theta(m)$|||\n",
    "|push|$\\Theta(1)$|||\n",
    "|pop|$\\Theta(m)$|||\n",
    "\n",
    "\n",
    "* For bunary heap, inserting/accessing/deleting an element at different locations:\n",
    "\n",
    "| | front     |arbitray|back|\n",
    "|:--|:----:|:--:|:--:|\n",
    "|insert| $O(\\ln(n))$ |||\n",
    "|access| $O(1)$ |||\n",
    "|delete| | | |"
   ]
  },
  {
   "cell_type": "markdown",
   "metadata": {},
   "source": [
    "### Other heaps\n",
    "\n",
    " * Leftist heap\n",
    " * Skew heap\n",
    " * Binomial heap\n",
    " * Fibonacci heap"
   ]
  },
  {
   "cell_type": "code",
   "execution_count": null,
   "metadata": {
    "collapsed": true
   },
   "outputs": [],
   "source": []
  }
 ],
 "metadata": {
  "kernelspec": {
   "display_name": "Python 3",
   "language": "python",
   "name": "python3"
  },
  "language_info": {
   "codemirror_mode": {
    "name": "ipython",
    "version": 3
   },
   "file_extension": ".py",
   "mimetype": "text/x-python",
   "name": "python",
   "nbconvert_exporter": "python",
   "pygments_lexer": "ipython3",
   "version": "3.5.1"
  }
 },
 "nbformat": 4,
 "nbformat_minor": 0
}
