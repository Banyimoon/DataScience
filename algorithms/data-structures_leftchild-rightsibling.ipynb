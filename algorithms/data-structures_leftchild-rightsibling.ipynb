{
 "cells": [
  {
   "cell_type": "markdown",
   "metadata": {},
   "source": [
    "Left-child Right-sibling Binary Tree\n",
    "=========\n",
    "\n",
    "Given a N-ary tree construct a new binary tree as follows:\n",
    "* For node n in the binary tree, the left child  correponds to the children of n in the original N-ary tree\n",
    "* the right child of n should include all the siblings of n in the original N-ary tree"
   ]
  },
  {
   "cell_type": "markdown",
   "metadata": {},
   "source": [
    "### Traversals\n",
    "\n",
    "* Pre-order: \n",
    "* In-order: left, root, right"
   ]
  },
  {
   "cell_type": "markdown",
   "metadata": {},
   "source": [
    "### Implementation\n",
    "\n",
    "**class**\n",
    "```c++\n",
    "template <typename Type>\n",
    "class LCRS_tree {\n",
    "    private:\n",
    "        Type elementl\n",
    "        \n",
    "    public:\n",
    "    \n",
    "};\n",
    "```\n",
    "\n",
    "**degree()**\n",
    "```c++\n",
    "template<typename Type>\n",
    "int LCRS_tree<Type>::degree() const {\n",
    "\n",
    "}\n",
    "```\n",
    "\n",
    "**is_leaf()**\n",
    "```c++\n",
    "template<typename Type>\n",
    "bool LCRS_tree<Type>::\n",
    "```\n",
    "\n",
    "**size()**\n",
    "```c++\n",
    "template<typename Type>\n",
    "int LCRS_tree<Type>::size() const {\n",
    "\n",
    "}\n",
    "```\n",
    "\n",
    "**height()**\n",
    "```c++\n",
    "template<typename Type>\n",
    "int LCRS_tree<Type>::height() const {\n",
    "    int h = 0;\n",
    "    \n",
    "    for (...) {\n",
    "        h = std::max(h, 1 + ptr->height());\n",
    "    }\n",
    "}\n",
    "```"
   ]
  },
  {
   "cell_type": "code",
   "execution_count": null,
   "metadata": {
    "collapsed": true
   },
   "outputs": [],
   "source": []
  }
 ],
 "metadata": {
  "kernelspec": {
   "display_name": "Python 3",
   "language": "python",
   "name": "python3"
  },
  "language_info": {
   "codemirror_mode": {
    "name": "ipython",
    "version": 3
   },
   "file_extension": ".py",
   "mimetype": "text/x-python",
   "name": "python",
   "nbconvert_exporter": "python",
   "pygments_lexer": "ipython3",
   "version": "3.5.1"
  }
 },
 "nbformat": 4,
 "nbformat_minor": 0
}
