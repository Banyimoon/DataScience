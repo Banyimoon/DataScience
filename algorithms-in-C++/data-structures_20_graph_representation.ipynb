{
 "cells": [
  {
   "cell_type": "markdown",
   "metadata": {
    "collapsed": true
   },
   "source": [
    "Graph Representation\n",
    "===="
   ]
  },
  {
   "cell_type": "markdown",
   "metadata": {},
   "source": [
    "### Adjacency Matrix\n",
    "\n",
    "<img src=\"figs/graph-representation_adjacency-matrix.png\" width=500><img>\n",
    "\n",
    "```c++\n",
    "double ** matrix;\n",
    "matrix = new double *[N];\n",
    "for (int i=0; i<N; ++i) {\n",
    "    matrix[i] = new double[N];\n",
    "}\n",
    "```"
   ]
  },
  {
   "cell_type": "markdown",
   "metadata": {
    "collapsed": true
   },
   "source": [
    "#### Adjacency matrix using contiguous space\n",
    "\n",
    "<img src=\"figs/graph-representation_adjacency-matrix_contiguous.png\" width=500><img>\n",
    "\n",
    "```c++\n",
    "double **matrix;\n",
    "matrix = new double *[N];\n",
    "double *tmp = new double[N*N]; \n",
    "for (int i=0; i<N; ++i) {\n",
    "    matrix[i] = &( tmp[N*i] );\n",
    "}\n",
    "```"
   ]
  },
  {
   "cell_type": "markdown",
   "metadata": {
    "collapsed": true
   },
   "source": [
    "#### Lower traiangular adjacency matrix\n",
    "\n",
    " * Only for undirected graphs\n",
    " \n",
    "<img src=\"figs/graph-representation_lower-triangular-adjacency-matrix.png\" width=500><img>\n",
    "\n",
    "```c++\n",
    "double **matrix;\n",
    "matrix = new double *[N];\n",
    "matrix[0] = nullptr;\n",
    "matrix[1] = new double[N*(N-1)/2];\n",
    "\n",
    "for (int i=2; i<N; ++i) {\n",
    "    matrix[i] = matrix[i - 1] + i - 1;\n",
    "}\n",
    "```"
   ]
  },
  {
   "cell_type": "markdown",
   "metadata": {},
   "source": [
    "### Adjacency List\n",
    "\n",
    "<img src=\"figs/graph-representation_adjacency-list.png\" width=500><img>\n",
    "\n",
    "```c++\n",
    "class Pair {\n",
    "    private:\n",
    "        double edge_weight;\n",
    "        int adjacent_vertex;\n",
    "    public:\n",
    "        Pair(int, double); // constructor\n",
    "        double weight() const;\n",
    "        int vertex() const;\n",
    "};\n",
    "\n",
    "\n",
    "void insert(int i, int j, double w) {\n",
    "    if (i < j) {\n",
    "        array[j].push_front(Pair(i,w));\n",
    "    } else {\n",
    "        array[i].push_front(Pair(j,w));\n",
    "    }\n",
    "}\n",
    "\n",
    "/** main **/\n",
    "SingleList<Pair> * array;\n",
    "array = new SingleList<Pair>[N];\n",
    "\n",
    "\n",
    "```"
   ]
  },
  {
   "cell_type": "code",
   "execution_count": null,
   "metadata": {
    "collapsed": true
   },
   "outputs": [],
   "source": []
  }
 ],
 "metadata": {
  "kernelspec": {
   "display_name": "Python 3",
   "language": "python",
   "name": "python3"
  },
  "language_info": {
   "codemirror_mode": {
    "name": "ipython",
    "version": 3
   },
   "file_extension": ".py",
   "mimetype": "text/x-python",
   "name": "python",
   "nbconvert_exporter": "python",
   "pygments_lexer": "ipython3",
   "version": "3.5.1"
  }
 },
 "nbformat": 4,
 "nbformat_minor": 0
}
