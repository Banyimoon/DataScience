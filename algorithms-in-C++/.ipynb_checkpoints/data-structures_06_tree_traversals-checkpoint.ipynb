{
 "cells": [
  {
   "cell_type": "markdown",
   "metadata": {},
   "source": [
    "Tree Traversals\n",
    "=====\n",
    "\n",
    " * **Breadth-First Traversal**\n",
    " * **Depth-First Traversal**\n",
    "   * **Pre-order depth-first traversal** the root is visited first  \n",
    "   * **Post-order depth-first traversal** the root is visited last (return a node if all its children are already visited)   \n",
    "   * **In-order traversal**  \n",
    "\n",
    "\n",
    "\n",
    "### Breadth-First Traversal\n",
    "\n",
    "<img src=\"figs/simple-tree-traversal-BFT.png\" width=550></img>\n",
    "\n",
    "\n",
    "\n",
    "### Depth-First Traversal\n",
    "\n",
    "<img src=\"figs/simple-tree-traversal-DFT.png\" width=580></img>\n",
    "\n",
    "We can use **stacks** for depth-first traversal.\n"
   ]
  },
  {
   "cell_type": "markdown",
   "metadata": {},
   "source": [
    "For binary trees\n",
    "\n",
    "  * **Pre-order depth first**: visit root, visit left, visit right\n",
    "  * **Pre-order depth first**: visit left, visit right, visit root\n",
    "  * **In-Order depth-first**: Visit left, visit root, visit right\n",
    "\n",
    "**Note:** in-order traversals is only applicable to binary trees (not for N-ary trees)"
   ]
  },
  {
   "cell_type": "markdown",
   "metadata": {},
   "source": [
    "```c++\n",
    "template<typename Type>\n",
    "void Binary_tree<Type>::in_order_traversal() const {\n",
    "    if (empty()) {\n",
    "        return;\n",
    "    }\n",
    "    \n",
    "    left()->in_order_traversal();\n",
    "    cout << retrieve();\n",
    "    right()->in_order_traversal();\n",
    "}\n",
    "```"
   ]
  },
  {
   "cell_type": "markdown",
   "metadata": {},
   "source": [
    "### Example: Pretty Printing\n",
    "\n",
    "```c++\n",
    "class Expression_node;\n",
    "\n",
    "void Expression_node::pretty_print() {\n",
    "    if (!left()) {\n",
    "        if (parent()->predence() > precedence()) {\n",
    "            cout << \"(\";\n",
    "        }\n",
    "    }\n",
    "    \n",
    "    left()->pretty_print();\n",
    "}\n",
    "```"
   ]
  },
  {
   "cell_type": "code",
   "execution_count": null,
   "metadata": {
    "collapsed": true
   },
   "outputs": [],
   "source": []
  }
 ],
 "metadata": {
  "kernelspec": {
   "display_name": "Python 3",
   "language": "python",
   "name": "python3"
  },
  "language_info": {
   "codemirror_mode": {
    "name": "ipython",
    "version": 3
   },
   "file_extension": ".py",
   "mimetype": "text/x-python",
   "name": "python",
   "nbconvert_exporter": "python",
   "pygments_lexer": "ipython3",
   "version": "3.5.1"
  }
 },
 "nbformat": 4,
 "nbformat_minor": 0
}
