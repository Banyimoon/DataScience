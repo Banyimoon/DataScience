{
 "cells": [
  {
   "cell_type": "markdown",
   "metadata": {},
   "source": [
    "Binary Trees\n",
    "=========\n",
    "\n",
    "\n",
    "<img src=\"figs/binary-tree.png\" width=600></img>"
   ]
  },
  {
   "cell_type": "markdown",
   "metadata": {},
   "source": [
    "## Definitions\n",
    "\n",
    " **full node**"
   ]
  },
  {
   "cell_type": "markdown",
   "metadata": {
    "collapsed": true
   },
   "source": [
    "## Perfect binary Trees\n",
    "\n",
    "\n",
    "<img src=\"figs/perfect-binary-tree.png\" width=600></img>"
   ]
  },
  {
   "cell_type": "markdown",
   "metadata": {},
   "source": [
    "### Height and nodes of a perfect binary tree\n",
    "\n",
    "The number of nodes of a perfect binary tree with heigh $h$ is\n",
    "\n",
    "$$n = 2^{h+1} - 1$$\n",
    "\n",
    "The important property of perefect bnary tree is that always $\\lfloor \\frac{n}{2} \\rfloor + 1$ of nodes are leaves.\n",
    "\n",
    " * More than half of the nodes are leaves.\n",
    "\n",
    "\n",
    "The height ($h$) of a perefect tree with $n$ nodes can be computed as \n",
    "\n",
    "$$h = \\lg(n+1) - 1$$"
   ]
  },
  {
   "cell_type": "markdown",
   "metadata": {
    "collapsed": true
   },
   "source": [
    "## Complete Binary Trees\n",
    "\n",
    "\n",
    "### Recursive definition of Complete Binary Trees\n",
    "\n",
    "<img src=\"figs/recursive-defin_complete-binary-tree.png\" width=600></img>\n",
    "\n"
   ]
  },
  {
   "cell_type": "markdown",
   "metadata": {},
   "source": [
    "#### Height of a complete ninary tree\n",
    "\n",
    "The height of a compltete tree ($h$) in terms of the number of nodes ($n$) os given by:\n",
    "\n",
    "$$h = \\displaystyle \\lfloor \\lg(n) \\rfloor$$\n",
    "\n",
    "where $\\lg$ is the logarithm function with base $2$."
   ]
  },
  {
   "cell_type": "markdown",
   "metadata": {},
   "source": [
    "#### Filling a compete binary tree\n",
    "\n",
    "<img src=\"figs/complete-binary-tree.png\" width=500></img>"
   ]
  },
  {
   "cell_type": "markdown",
   "metadata": {
    "collapsed": true
   },
   "source": [
    "#### Storage for complete binary trees\n",
    "\n",
    "<img src=\"figs/complete-binary-tree_array-storage.png\" width=460></img>"
   ]
  },
  {
   "cell_type": "code",
   "execution_count": null,
   "metadata": {
    "collapsed": true
   },
   "outputs": [],
   "source": []
  }
 ],
 "metadata": {
  "kernelspec": {
   "display_name": "Python 3",
   "language": "python",
   "name": "python3"
  },
  "language_info": {
   "codemirror_mode": {
    "name": "ipython",
    "version": 3
   },
   "file_extension": ".py",
   "mimetype": "text/x-python",
   "name": "python",
   "nbconvert_exporter": "python",
   "pygments_lexer": "ipython3",
   "version": "3.5.1"
  }
 },
 "nbformat": 4,
 "nbformat_minor": 0
}
