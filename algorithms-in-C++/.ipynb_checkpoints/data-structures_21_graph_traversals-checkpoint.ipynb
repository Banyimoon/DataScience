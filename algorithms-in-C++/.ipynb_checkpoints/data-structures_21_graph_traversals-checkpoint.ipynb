{
 "cells": [
  {
   "cell_type": "markdown",
   "metadata": {},
   "source": [
    "Graph Traversal Algorithms\n",
    "===\n",
    "\n",
    " * Breadth-first: using queues\n",
    " * Depth-first: using stacks"
   ]
  },
  {
   "cell_type": "markdown",
   "metadata": {},
   "source": [
    "## Breadth-first \n",
    "\n",
    "Given graph $G$, starting node $n_0$ and a vector $visited$:\n",
    "\n",
    " * Start from node $n_0$, push into queue\n",
    " * Repeat until queue is empty\n",
    "   * pop one element from queue\n",
    "   * push the unvisited adjacent nodes of the poped element into the queue, and marked them visited"
   ]
  },
  {
   "cell_type": "code",
   "execution_count": null,
   "metadata": {
    "collapsed": true
   },
   "outputs": [],
   "source": []
  }
 ],
 "metadata": {
  "kernelspec": {
   "display_name": "Python 3",
   "language": "python",
   "name": "python3"
  },
  "language_info": {
   "codemirror_mode": {
    "name": "ipython",
    "version": 3
   },
   "file_extension": ".py",
   "mimetype": "text/x-python",
   "name": "python",
   "nbconvert_exporter": "python",
   "pygments_lexer": "ipython3",
   "version": "3.5.1"
  }
 },
 "nbformat": 4,
 "nbformat_minor": 0
}
