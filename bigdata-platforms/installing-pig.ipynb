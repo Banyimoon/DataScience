{
 "cells": [
  {
   "cell_type": "markdown",
   "metadata": {},
   "source": [
    "Pig Installation\n",
    "===\n",
    "\n",
    "Hadoop is already installed, and the environment variables are set (see Hadoop installation https://github.com/mirjalil/DataScience/blob/master/bigdata-platforms/install-hadoop-ubuntu.md)\n",
    "\n",
    "* Download Pig from http://pig.apache.org/releases.html\n",
    "\n",
    "* Extract and move to `/usr/local/pig/`\n",
    "\n",
    "* `export PATH=/usr/local/pig/bin/:$PATH`\n",
    "\n",
    "* Disable the logging info\n",
    " create a file called `~/nolog.conf` and add the following content\n",
    " \n",
    "```\n",
    "log4j.rootLogger=fatal\n",
    "```\n",
    "\n",
    "* Run and test Pig\n",
    "   - on local mode and test accessing local filesystem\n",
    " \n",
    "```\n",
    "pig -x local\n",
    "ls \n",
    "```\n",
    "\n",
    "   - on MapReduce mode and test accessing HDFS\n",
    " \n",
    "```\n",
    "pig -x mapreduce\n",
    "fs -lsr /\n",
    "```\n",
    "\n",
    "* quit Pig console: `quit`"
   ]
  },
  {
   "cell_type": "code",
   "execution_count": null,
   "metadata": {
    "collapsed": true
   },
   "outputs": [],
   "source": []
  }
 ],
 "metadata": {
  "kernelspec": {
   "display_name": "Python 3",
   "language": "python",
   "name": "python3"
  },
  "language_info": {
   "codemirror_mode": {
    "name": "ipython",
    "version": 3
   },
   "file_extension": ".py",
   "mimetype": "text/x-python",
   "name": "python",
   "nbconvert_exporter": "python",
   "pygments_lexer": "ipython3",
   "version": "3.5.1"
  }
 },
 "nbformat": 4,
 "nbformat_minor": 0
}
