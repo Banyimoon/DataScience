{
 "metadata": {
  "name": "",
  "signature": "sha256:6f8755feb9f910076cb8da1bfcef00fc7a2c9a05bc1c9f396e4a38dc32ae3281"
 },
 "nbformat": 3,
 "nbformat_minor": 0,
 "worksheets": [
  {
   "cells": [
    {
     "cell_type": "markdown",
     "metadata": {},
     "source": [
      "Naive Bayes Classification in R\n",
      "==============\n",
      "\n",
      "**Vahid Mirjalili, Data Scientist**\n",
      "\n",
      "Table of Contents:\n",
      "\n",
      " [1. Preprocessing Steps: Getting and Cleaning Data](#getting-data)\n",
      "\n",
      "   * [Extracting Features and Class Labels](#extract-data)\n",
      "   * [Splitting Data into Training and Test Sets](#split-data)\n",
      "   * [Feature Scaling: Standardization](#feature-standard)\n",
      "   * [Dimensionality Reduction: PCA and LDA](#dimensionality-reduction)"
     ]
    },
    {
     "cell_type": "markdown",
     "metadata": {},
     "source": [
      "<a id=\"getting-data\">\n",
      "\n",
      "# 1. Preprocessing Steps: Getting and Cleaning Data\n",
      "\n",
      "</a>"
     ]
    },
    {
     "cell_type": "code",
     "collapsed": false,
     "input": [
      "## Getting data from github\n",
      "require(RCurl)\n",
      "df.url <- getURL(\"https://raw.githubusercontent.com/rasbt/pattern_classification/master/data/iris.csv\")\n",
      "df <- read.csv(text = df.url, header=FALSE)\n",
      "\n",
      "head(df)\n",
      "levels(df$V5)"
     ],
     "language": "python",
     "metadata": {},
     "outputs": [
      {
       "output_type": "stream",
       "stream": "stderr",
       "text": [
        "packageStartupMessage in packageStartupMessage(gettextf(\"Loading required package: %s\", : Loading required package: RCurl\n",
        "\n"
       ]
      },
      {
       "output_type": "stream",
       "stream": "stderr",
       "text": [
        "packageStartupMessage in packageStartupMessage(gettextf(\"Loading required package: %s\", : Loading required package: bitops\n",
        "\n"
       ]
      },
      {
       "metadata": {},
       "output_type": "pyout",
       "prompt_number": 1,
       "text": [
        "   V1  V2  V3  V4          V5\n",
        "1 5.1 3.5 1.4 0.2 Iris-setosa\n",
        "2 4.9 3.0 1.4 0.2 Iris-setosa\n",
        "3 4.7 3.2 1.3 0.2 Iris-setosa\n",
        "4 4.6 3.1 1.5 0.2 Iris-setosa\n",
        "5 5.0 3.6 1.4 0.2 Iris-setosa\n",
        "6 5.4 3.9 1.7 0.4 Iris-setosa"
       ]
      },
      {
       "metadata": {},
       "output_type": "pyout",
       "prompt_number": 1,
       "text": [
        "[1] \"Iris-setosa\"     \"Iris-versicolor\" \"Iris-virginica\" "
       ]
      }
     ],
     "prompt_number": 1
    },
    {
     "cell_type": "markdown",
     "metadata": {},
     "source": [
      "<a id=\"extract-data\">\n",
      "\n",
      "## Extracting features and class labels\n",
      "\n",
      "</a>"
     ]
    },
    {
     "cell_type": "code",
     "collapsed": false,
     "input": [
      "X_iris <- df[,1:4]\n",
      "\n",
      "y_iris <- factor(df$V5, labels=seq(length(levels(df$V5))))\n",
      "\n",
      "y_iris"
     ],
     "language": "python",
     "metadata": {},
     "outputs": [
      {
       "metadata": {},
       "output_type": "pyout",
       "prompt_number": 2,
       "text": [
        "  [1] 1 1 1 1 1 1 1 1 1 1 1 1 1 1 1 1 1 1 1 1 1 1 1 1 1 1 1 1 1 1 1 1 1 1 1 1 1\n",
        " [38] 1 1 1 1 1 1 1 1 1 1 1 1 1 2 2 2 2 2 2 2 2 2 2 2 2 2 2 2 2 2 2 2 2 2 2 2 2\n",
        " [75] 2 2 2 2 2 2 2 2 2 2 2 2 2 2 2 2 2 2 2 2 2 2 2 2 2 2 3 3 3 3 3 3 3 3 3 3 3\n",
        "[112] 3 3 3 3 3 3 3 3 3 3 3 3 3 3 3 3 3 3 3 3 3 3 3 3 3 3 3 3 3 3 3 3 3 3 3 3 3\n",
        "[149] 3 3\n",
        "Levels: 1 2 3"
       ]
      }
     ],
     "prompt_number": 2
    },
    {
     "cell_type": "markdown",
     "metadata": {},
     "source": [
      "<a id=\"split-data\">\n",
      "\n",
      "## Splitting Data into Training and Test Sets\n",
      "\n",
      "</a>"
     ]
    },
    {
     "cell_type": "code",
     "collapsed": false,
     "input": [
      "split_data <- function(df, ratio=0.7, seed=NULL) {\n",
      "    ## To split a dataframe into train & test sets\n",
      "    ## with given ratio and random seed\n",
      "    if (!is.null(seed)) set.seed(seed)\n",
      "    all_indx   <- 1:nrow(df)\n",
      "    train_indx <- sample(all_indx, size=ratio*nrow(df), replace=FALSE)\n",
      "    train_set  <- df[train_indx , ]\n",
      "    test_set   <- df[-train_indx, ]\n",
      "    return(list(trainset=train_set, testset=test_set))\n",
      "}\n",
      "\n",
      "splits <- split_data(df)\n",
      "\n",
      "## Show the number of training and test samples\n",
      "lapply(splits, nrow)\n",
      "\n",
      "X_train <- splits$trainset[,1:4]\n",
      "y_train <- splits$trainset[,5]\n",
      "X_test <- splits$testset[,1:4]\n",
      "y_test <- splits$testset[,5]"
     ],
     "language": "python",
     "metadata": {},
     "outputs": [
      {
       "metadata": {},
       "output_type": "pyout",
       "prompt_number": 3,
       "text": [
        "$trainset\n",
        "[1] 105\n",
        "\n",
        "$testset\n",
        "[1] 45\n"
       ]
      }
     ],
     "prompt_number": 3
    },
    {
     "cell_type": "markdown",
     "metadata": {},
     "source": [
      "<a id=\"feature-standard\">\n",
      "\n",
      "## Feature Scaling: Standardization\n",
      "\n",
      "</a>\n",
      "\n",
      "Centering the data by mean vector of training features, and scaling by their standard deviation"
     ]
    },
    {
     "cell_type": "code",
     "collapsed": false,
     "input": [
      "## Find the mean and sigma of features from training set\n",
      "train_mean <- apply(X_train, 2, mean)  # alternatively use colMeans()\n",
      "train_sd <- apply(X_train, 2, sd)\n",
      "train_mean\n",
      "train_sd\n",
      "\n",
      "X_train <- scale(X_train, center=TRUE, scale=train_sd)\n",
      "# alternative way: X_train <- t((t(X_train) - train_mean)/train_sd)\n",
      "\n",
      "X_test <- scale(X_test, center=train_mean, scale=train_sd)\n",
      "apply(X_test, 2, mean)\n",
      "apply(X_test, 2, sd)"
     ],
     "language": "python",
     "metadata": {},
     "outputs": [
      {
       "metadata": {},
       "output_type": "pyout",
       "prompt_number": 4,
       "text": [
        "      V1       V2       V3       V4 \n",
        "5.848571 3.074286 3.771429 1.212381 "
       ]
      },
      {
       "metadata": {},
       "output_type": "pyout",
       "prompt_number": 4,
       "text": [
        "       V1        V2        V3        V4 \n",
        "0.8309071 0.4085689 1.7776234 0.7715737 "
       ]
      },
      {
       "metadata": {},
       "output_type": "pyout",
       "prompt_number": 4,
       "text": [
        "         V1          V2          V3          V4 \n",
        "-0.02101356 -0.16550218 -0.02393065 -0.05924811 "
       ]
      },
      {
       "metadata": {},
       "output_type": "pyout",
       "prompt_number": 4,
       "text": [
        "       V1        V2        V3        V4 \n",
        "0.9996470 1.1961024 0.9860024 0.9730207 "
       ]
      }
     ],
     "prompt_number": 4
    },
    {
     "cell_type": "markdown",
     "metadata": {},
     "source": [
      "<a id=\"dimensionality-reduction\">\n",
      "\n",
      "## Dimensionality Reduction: PCA and LDA\n",
      "\n",
      "</a>"
     ]
    },
    {
     "cell_type": "code",
     "collapsed": false,
     "input": [
      "str(princomp(X_train))"
     ],
     "language": "python",
     "metadata": {},
     "outputs": [
      {
       "output_type": "stream",
       "stream": "stdout",
       "text": [
        "List of 7\n",
        " $ sdev    : Named num [1:4] 1.715 0.929 0.369 0.143\n",
        "  ..- attr(*, \"names\")= chr [1:4] \"Comp.1\" \"Comp.2\" \"Comp.3\" \"Comp.4\"\n",
        " $ loadings: loadings [1:4, 1:4] 0.523 -0.287 0.575 0.56 -0.363 ...\n",
        "  ..- attr(*, \"dimnames\")=List of 2\n",
        "  .. ..$ : chr [1:4] \"V1\" \"V2\" \"V3\" \"V4\"\n",
        "  .. ..$ : chr [1:4] \"Comp.1\" \"Comp.2\" \"Comp.3\" \"Comp.4\"\n",
        " $ center  : Named num [1:4] -2.20e-16 -6.79e-17 7.48e-18 3.92e-17\n",
        "  ..- attr(*, \"names\")= chr [1:4] \"V1\" \"V2\" \"V3\" \"V4\"\n",
        " $ scale   : Named num [1:4] 1 1 1 1\n",
        "  ..- attr(*, \"names\")= chr [1:4] \"V1\" \"V2\" \"V3\" \"V4\"\n",
        " $ n.obs   : int 105\n",
        " $ scores  : num [1:105, 1:4] -2.229 -2.053 0.857 1.173 2.421 ...\n",
        "  ..- attr(*, \"dimnames\")=List of 2\n",
        "  .. ..$ : chr [1:105] \"25\" \"37\" \"66\" \"127\" ...\n",
        "  .. ..$ : chr [1:4] \"Comp.1\" \"Comp.2\" \"Comp.3\" \"Comp.4\"\n",
        " $ call    : language princomp(x = X_train)\n",
        " - attr(*, \"class\")= chr \"princomp\"\n"
       ]
      }
     ],
     "prompt_number": 6
    },
    {
     "cell_type": "code",
     "collapsed": false,
     "input": [],
     "language": "python",
     "metadata": {},
     "outputs": []
    }
   ],
   "metadata": {}
  }
 ]
}