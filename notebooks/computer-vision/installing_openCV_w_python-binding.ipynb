{
 "cells": [
  {
   "cell_type": "markdown",
   "metadata": {},
   "source": [
    "## Installing OpenCV with Python 3 binding\n",
    "\n",
    " * Requirements\n",
    "   * Ubuntu 14.04 \n",
    "   * Anaconda3 already installed (/home/vahid/anaconda3)\n",
    "   * Download the latest version from http://opencv.org/downloads.html \n",
    "   * Extract the compressed file into ~/opencv/\n",
    "   \n",
    "   * Download opencv_contrib for SIFT, SURF, ..\n",
    "    * cd ~/\n",
    "    * git clone https://github.com/Itseez/opencv_contrib\n",
    "   \n",
    "   \n",
    "  "
   ]
  },
  {
   "cell_type": "markdown",
   "metadata": {},
   "source": [
    "### Build\n",
    "\n",
    "```\n",
    "cd ~/opencv/\n",
    "\n",
    "export ANACONDA=/home/user/anacodna3/\n",
    "\n",
    "cmake -D CMAKE_BUILD_TYPE=RELEASE \\\n",
    "    -D BUILD_PERF_TESTS=OFF \\\n",
    "    -D BUILD_opencv_core=ON \\\n",
    "    -D BUILD_opencv_python2=OFF \\\n",
    "    -D BUILD_opencv_python3=ON \\\n",
    "    -D BUILD_opencv_cuda=OFF \\\n",
    "    -D BUILD_opencv_java=OFF \\\n",
    "    -D BUILD_opencv_video=ON \\\n",
    "    -D BUILD_opencv_videoio=ON \\\n",
    "    -D BUILD_opencv_world=OFF \\\n",
    "    -D BUILD_opencv_viz=ON \\\n",
    "    -D WITH_CUBLAS=OFF \\\n",
    "    -D WITH_CUDA=OFF \\\n",
    "    -D WITH_CUFFT=OFF \\\n",
    "    -D WITH_FFMPEG=OFF \\\n",
    "    -D PYTHON3_EXECUTABLE=${ANACONDA}/bin/python3 \\\n",
    "    -D PYTHON3_LIBRARY=${ANACONDA}/lib/libpython3.5m.so \\\n",
    "    -D PYTHON3_INCLUDE_DIR=${ANACONDA}/include/python3.5m \\\n",
    "    -D PYTHON3_NUMPY_INCLUDE_DIRS=${ANACONDA}/lib/python3.5/site-packages/numpy/core/include \\\n",
    "    -D PYTHON3_PACKAGES_PATH=${ANACONDA}/lib/python3.5/site-packages \\\n",
    "    -D BUILD_opencv_latentsvm=OFF \\\n",
    "    -D BUILD_opencv_xphoto=OFF \\\n",
    "    -D BUILD_opencv_xfeatures2d=ON \\\n",
    "    -D OPENCV_EXTRA_MODULES_PATH=/home/vahid/opencv_contrib/modules /home/vahid/opencv\n",
    "```"
   ]
  },
  {
   "cell_type": "markdown",
   "metadata": {},
   "source": [
    "### make and install\n",
    "\n",
    "```\n",
    "make -j2 #number of processors to use\n",
    "sudo make install\n",
    "```"
   ]
  },
  {
   "cell_type": "code",
   "execution_count": null,
   "metadata": {
    "collapsed": true
   },
   "outputs": [],
   "source": []
  }
 ],
 "metadata": {
  "kernelspec": {
   "display_name": "Python 3",
   "language": "python",
   "name": "python3"
  },
  "language_info": {
   "codemirror_mode": {
    "name": "ipython",
    "version": 3
   },
   "file_extension": ".py",
   "mimetype": "text/x-python",
   "name": "python",
   "nbconvert_exporter": "python",
   "pygments_lexer": "ipython3",
   "version": "3.5.1"
  }
 },
 "nbformat": 4,
 "nbformat_minor": 0
}
