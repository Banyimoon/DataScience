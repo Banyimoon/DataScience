{
 "cells": [
  {
   "cell_type": "markdown",
   "metadata": {},
   "source": [
    "AVL Trees\n",
    "===\n",
    "\n",
    "What we have learned so far:\n",
    " * BSTs store ordered data linearly\n",
    " * BST best case: $\\Theta(\\ln(n))$\n",
    " * BST worst case: $\\Theta(n)$"
   ]
  },
  {
   "cell_type": "markdown",
   "metadata": {},
   "source": [
    "<img src=\"figs/balancing-a-BST.png\" width=500></img>"
   ]
  },
  {
   "cell_type": "markdown",
   "metadata": {},
   "source": [
    "Given an unlanaced BST, we can apply a set of rotations to balance the tree.\n",
    "\n",
    "Left heavy tree\n",
    "Right heavy tree\n",
    "\n",
    "### Find the height of a node\n",
    "\n",
    "$$\\max(h_L,h_R) + 1$$\n",
    "\n",
    "**Height of a tree** is the height of the root node."
   ]
  },
  {
   "cell_type": "markdown",
   "metadata": {},
   "source": [
    "### Definition: AVL tree\n",
    "\n",
    "A BST is called to be AVL if \n",
    " - the difference of left and right subtrees $|h_R - h_L| \\le 1$ \n",
    " - the"
   ]
  },
  {
   "cell_type": "markdown",
   "metadata": {},
   "source": [
    "<img src=\"figs/adding-elements-to-AVL-tree.png\" width=700></img>"
   ]
  },
  {
   "cell_type": "markdown",
   "metadata": {},
   "source": [
    "\n",
    " * Upper bound of perfect binary tree\n",
    " * Lower bound\n",
    "\n",
    "The behaviour of the lowest bound is actually a Fibonacci sequenc4 of numbers:\n",
    " * Worst case AVL tree \n",
    " * \n",
    " * $$F(h) = F(h-1) + F(h-2) + 1$$\n",
    " \n",
    "Approximate value: $F(h) \\approx 1.8944 \\phi ^h - 1$ where $\\phi\\approx 1.6180$"
   ]
  },
  {
   "cell_type": "markdown",
   "metadata": {},
   "source": [
    "### Maintaining the balance\n",
    "\n",
    " * left-left or right-right imblanaced --> requires single rotation: promote the middle node, right-right rotate\n",
    " * left-right or right-left (zig-zag) imbalanced --> requires double rotation: \n",
    " \n",
    " **Notes: **  \n",
    " * Balancing the tree for insertion (both cases) are $\\Theta(1)$.\n",
    " * Insertions is $\\Theta(\\ln(n))$\n",
    " \n",
    " * For erasing an element, balencing can be $\\Theta(h)$ in the worst case.\n",
    " * for eraing, you need to balance using the same left-left/right-right or zig-zag imbalance, but you need to chech the parants to see if they are imblanaced or not. "
   ]
  },
  {
   "cell_type": "markdown",
   "metadata": {},
   "source": [
    "## Implementation"
   ]
  },
  {
   "cell_type": "markdown",
   "metadata": {},
   "source": [
    "```c++\n",
    "template<typename Type>\n",
    "int AVL_node<Type>::height() const {\n",
    "    return empty() ? -1 : ;\n",
    "}\n",
    "```"
   ]
  },
  {
   "cell_type": "markdown",
   "metadata": {},
   "source": [
    "```c++\n",
    "template<typename Type>\n",
    "int AVL_node<Type>::insert( .. ){\n",
    "    \n",
    "}\n",
    "```"
   ]
  },
  {
   "cell_type": "markdown",
   "metadata": {},
   "source": [
    "#### Maintaining balance\n",
    "\n",
    "\n",
    "<img src=\"figs/maintaining-balance-AVL_case1.png\" width=700></img>\n",
    "**Case 1:**\n",
    "```c++\n",
    "AVL_node<Type> *b = left(),\n",
    "               *BR = b->right;\n",
    "b->right_tree() = \n",
    "```\n",
    "\n",
    "**Important: This fix does not violate BST requirement: **\n",
    "  * $F_R$ contains values such that $x > f$\n",
    "  * $B_R$ contains values such that $b < x < f$\n",
    "  * $B_L$ contains values such that $x < b$"
   ]
  },
  {
   "cell_type": "markdown",
   "metadata": {},
   "source": [
    "**Case 2:**\n",
    "\n",
    "<img src=\"figs/maintaining-balance-AVL_case2.png\" width=700></img>\n",
    "\n",
    "```c++\n",
    "AVL_node<Type> *b = left(),\n",
    "               *d = b->right(),\n",
    "               *DL = d->left(),\n",
    "               *DR = d->right();\n",
    "               \n",
    "d->left_tree = b;\n",
    "d->right_tree = this;\n",
    "```"
   ]
  },
  {
   "cell_type": "markdown",
   "metadata": {
    "collapsed": true
   },
   "source": [
    "### Erase\n",
    "\n",
    " * Similart to insertion, after erasing an element, we should check for imbalances.\n",
    " * While insertion can only cause one imbalance, for erase we may have $O(h)$ to check for imbalances"
   ]
  }
 ],
 "metadata": {
  "kernelspec": {
   "display_name": "Python 3",
   "language": "python",
   "name": "python3"
  },
  "language_info": {
   "codemirror_mode": {
    "name": "ipython",
    "version": 3
   },
   "file_extension": ".py",
   "mimetype": "text/x-python",
   "name": "python",
   "nbconvert_exporter": "python",
   "pygments_lexer": "ipython3",
   "version": "3.5.1"
  }
 },
 "nbformat": 4,
 "nbformat_minor": 0
}
