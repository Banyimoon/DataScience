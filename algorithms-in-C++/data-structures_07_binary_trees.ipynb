{
 "cells": [
  {
   "cell_type": "markdown",
   "metadata": {},
   "source": [
    "Binary Trees\n",
    "=========\n",
    "\n",
    "\n",
    "<img src=\"figs/binary-tree.png\" width=600></img>"
   ]
  },
  {
   "cell_type": "markdown",
   "metadata": {},
   "source": [
    "## Definitions\n",
    "\n",
    " **full node**"
   ]
  },
  {
   "cell_type": "markdown",
   "metadata": {
    "collapsed": true
   },
   "source": [
    "## Perfect binary Trees\n",
    "\n",
    "\n",
    "<img src=\"figs/perfect-binary-tree.png\" width=600></img>"
   ]
  },
  {
   "cell_type": "markdown",
   "metadata": {
    "collapsed": true
   },
   "source": [
    "## Complete Binary Trees\n",
    "\n",
    "\n",
    "### Recursive definition of Complete Binary Trees\n",
    "\n",
    "<img src=\"figs/recursive-defin_complete-binary-tree.png\" width=600></img>\n",
    "\n",
    "#### Filling a compete binary tree\n",
    "\n",
    "<img src=\"figs/complete-binary-tree.png\" width=500></img>"
   ]
  },
  {
   "cell_type": "markdown",
   "metadata": {
    "collapsed": true
   },
   "source": [
    "#### Storage for complete binary trees\n",
    "\n",
    "<img src=\"figs/complete-binary-tree_array-storage.png\" width=460></img>"
   ]
  },
  {
   "cell_type": "code",
   "execution_count": null,
   "metadata": {
    "collapsed": true
   },
   "outputs": [],
   "source": []
  }
 ],
 "metadata": {
  "kernelspec": {
   "display_name": "Python 3",
   "language": "python",
   "name": "python3"
  },
  "language_info": {
   "codemirror_mode": {
    "name": "ipython",
    "version": 3
   },
   "file_extension": ".py",
   "mimetype": "text/x-python",
   "name": "python",
   "nbconvert_exporter": "python",
   "pygments_lexer": "ipython3",
   "version": "3.5.1"
  }
 },
 "nbformat": 4,
 "nbformat_minor": 0
}
