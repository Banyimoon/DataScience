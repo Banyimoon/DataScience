{
 "metadata": {
  "name": "",
  "signature": "sha256:c0f4fc51e3f33fa20224c9d4b03412eb5224546fff91ed727b595e5152783079"
 },
 "nbformat": 3,
 "nbformat_minor": 0,
 "worksheets": [
  {
   "cells": [
    {
     "cell_type": "code",
     "collapsed": false,
     "input": [
      "d_small = np.loadtxt(\"data/small_2dclust.dat\", delimiter=' ')\n",
      "\n",
      "plt.figure(figsize=(10,8))\n",
      "\n",
      "plt.scatter(x=d_small[:,1],\n",
      "            y=d_small[:,2],\n",
      "            color='blue',\n",
      "            marker='o',\n",
      "            s=200,\n",
      "            alpha=0.4\n",
      "           )\n",
      "labels = ['{0}'.format(i) for i in range(d_small.shape[0])]\n",
      "for label, x, y in zip(labels, d_small[:, 1], d_small[:, 2]):\n",
      "    plt.annotate(\n",
      "        label, \n",
      "        xy = (x, y), xytext = (-20, 20),\n",
      "        textcoords = 'offset points', ha = 'right', va = 'bottom',\n",
      "        bbox = dict(boxstyle = 'round,pad=0.5', fc = 'yellow', alpha = 0.5),\n",
      "        arrowprops = dict(arrowstyle = '->', connectionstyle = 'arc3,rad=0'))\n",
      "    \n",
      "plt.title('A Toy Dataset', size=20)\n",
      "plt.xlabel('$x_1$', size=25)\n",
      "plt.ylabel('$x_2$', size=25)\n",
      "\n",
      "plt.tick_params(axis='both', which='major', labelsize=18)\n",
      "\n",
      "plt.show()\n",
      "\n",
      "## Computing the densities\n",
      "den_small = cal_density(d_small[:,1:3], 1.5)\n",
      "\n",
      "# Computing the minimum distance to high density peaks\n",
      "mdist2peaks_small = cal_minDist2Peaks(d_small, den_small)\n",
      "\n",
      "import prettytable\n",
      "pt = prettytable.PrettyTable"
     ],
     "language": "python",
     "metadata": {},
     "outputs": [
      {
       "ename": "NameError",
       "evalue": "name 'np' is not defined",
       "output_type": "pyerr",
       "traceback": [
        "\u001b[1;31m---------------------------------------------------------------------------\u001b[0m\n\u001b[1;31mNameError\u001b[0m                                 Traceback (most recent call last)",
        "\u001b[1;32m<ipython-input-1-183838dc4ff6>\u001b[0m in \u001b[0;36m<module>\u001b[1;34m()\u001b[0m\n\u001b[1;32m----> 1\u001b[1;33m \u001b[0md_small\u001b[0m \u001b[1;33m=\u001b[0m \u001b[0mnp\u001b[0m\u001b[1;33m.\u001b[0m\u001b[0mloadtxt\u001b[0m\u001b[1;33m(\u001b[0m\u001b[1;34m\"data/small_2dclust.dat\"\u001b[0m\u001b[1;33m,\u001b[0m \u001b[0mdelimiter\u001b[0m\u001b[1;33m=\u001b[0m\u001b[1;34m' '\u001b[0m\u001b[1;33m)\u001b[0m\u001b[1;33m\u001b[0m\u001b[0m\n\u001b[0m\u001b[0;32m      2\u001b[0m \u001b[1;33m\u001b[0m\u001b[0m\n\u001b[0;32m      3\u001b[0m \u001b[0mplt\u001b[0m\u001b[1;33m.\u001b[0m\u001b[0mfigure\u001b[0m\u001b[1;33m(\u001b[0m\u001b[0mfigsize\u001b[0m\u001b[1;33m=\u001b[0m\u001b[1;33m(\u001b[0m\u001b[1;36m10\u001b[0m\u001b[1;33m,\u001b[0m\u001b[1;36m8\u001b[0m\u001b[1;33m)\u001b[0m\u001b[1;33m)\u001b[0m\u001b[1;33m\u001b[0m\u001b[0m\n\u001b[0;32m      4\u001b[0m \u001b[1;33m\u001b[0m\u001b[0m\n\u001b[0;32m      5\u001b[0m plt.scatter(x=d_small[:,1],\n",
        "\u001b[1;31mNameError\u001b[0m: name 'np' is not defined"
       ]
      }
     ],
     "prompt_number": 1
    },
    {
     "cell_type": "code",
     "collapsed": false,
     "input": [
      "import prettytable\n",
      "pt = prettytable.PrettyTable([\"Index\", \"Density\", \"Min. Dist.\"])\n",
      "for i in range(d_small.shape[0]):\n",
      "    pt.add_row([i, den_small[i], mdist2peaks_small[i]])\n",
      "print(pt)\n",
      "print(den_small)\n",
      "print(mdist2peaks_small)\n",
      "plot_decisionGraph(den_small, mdist2peaks_small, 1.7)"
     ],
     "language": "python",
     "metadata": {},
     "outputs": [
      {
       "ename": "NameError",
       "evalue": "name 'd_small' is not defined",
       "output_type": "pyerr",
       "traceback": [
        "\u001b[1;31m---------------------------------------------------------------------------\u001b[0m\n\u001b[1;31mNameError\u001b[0m                                 Traceback (most recent call last)",
        "\u001b[1;32m<ipython-input-2-92463d72cd98>\u001b[0m in \u001b[0;36m<module>\u001b[1;34m()\u001b[0m\n\u001b[0;32m      1\u001b[0m \u001b[1;32mimport\u001b[0m \u001b[0mprettytable\u001b[0m\u001b[1;33m\u001b[0m\u001b[0m\n\u001b[0;32m      2\u001b[0m \u001b[0mpt\u001b[0m \u001b[1;33m=\u001b[0m \u001b[0mprettytable\u001b[0m\u001b[1;33m.\u001b[0m\u001b[0mPrettyTable\u001b[0m\u001b[1;33m(\u001b[0m\u001b[1;33m[\u001b[0m\u001b[1;34m\"Index\"\u001b[0m\u001b[1;33m,\u001b[0m \u001b[1;34m\"Density\"\u001b[0m\u001b[1;33m,\u001b[0m \u001b[1;34m\"Min. Dist.\"\u001b[0m\u001b[1;33m]\u001b[0m\u001b[1;33m)\u001b[0m\u001b[1;33m\u001b[0m\u001b[0m\n\u001b[1;32m----> 3\u001b[1;33m \u001b[1;32mfor\u001b[0m \u001b[0mi\u001b[0m \u001b[1;32min\u001b[0m \u001b[0mrange\u001b[0m\u001b[1;33m(\u001b[0m\u001b[0md_small\u001b[0m\u001b[1;33m.\u001b[0m\u001b[0mshape\u001b[0m\u001b[1;33m[\u001b[0m\u001b[1;36m0\u001b[0m\u001b[1;33m]\u001b[0m\u001b[1;33m)\u001b[0m\u001b[1;33m:\u001b[0m\u001b[1;33m\u001b[0m\u001b[0m\n\u001b[0m\u001b[0;32m      4\u001b[0m     \u001b[0mpt\u001b[0m\u001b[1;33m.\u001b[0m\u001b[0madd_row\u001b[0m\u001b[1;33m(\u001b[0m\u001b[1;33m[\u001b[0m\u001b[0mi\u001b[0m\u001b[1;33m,\u001b[0m \u001b[0mden_small\u001b[0m\u001b[1;33m[\u001b[0m\u001b[0mi\u001b[0m\u001b[1;33m]\u001b[0m\u001b[1;33m,\u001b[0m \u001b[0mmdist2peaks_small\u001b[0m\u001b[1;33m[\u001b[0m\u001b[0mi\u001b[0m\u001b[1;33m]\u001b[0m\u001b[1;33m]\u001b[0m\u001b[1;33m)\u001b[0m\u001b[1;33m\u001b[0m\u001b[0m\n\u001b[0;32m      5\u001b[0m \u001b[1;32mprint\u001b[0m\u001b[1;33m(\u001b[0m\u001b[0mpt\u001b[0m\u001b[1;33m)\u001b[0m\u001b[1;33m\u001b[0m\u001b[0m\n",
        "\u001b[1;31mNameError\u001b[0m: name 'd_small' is not defined"
       ]
      }
     ],
     "prompt_number": 2
    },
    {
     "cell_type": "code",
     "collapsed": false,
     "input": [
      "def find_nearestNeigb(d, den_arr, centroids):\n",
      "    ## finding the nearest neighbor of each point\n",
      "    n = d.shape[0]\n",
      "    nearestNeigb = np.repeat(-1, n)\n",
      "    for i in range(n):\n",
      "        if i in centroids:\n",
      "            nearestNeigb[i] = i\n",
      "        else:\n",
      "            mindist = 999\n",
      "            indxNeigb = -1\n",
      "            for j in range(n):\n",
      "                if i != j:\n",
      "                    dist_ij = euclidean_dist(d[i,:], d[j,:])\n",
      "                    if dist_ij <= mindist:\n",
      "                        if den_arr[i] > den_arr[j]:\n",
      "                            mindist = dist_ij\n",
      "                            indxNeigb = j\n",
      "                        elif den_arr[i] == den_arr[j]:\n",
      "                            if j in centroids:\n",
      "                                mindist = dist_ij\n",
      "                                indxNeigb = j\n",
      "                                \n",
      "#find_nearestNeigb(d_small, den_small, np.array())\n",
      "\n"
     ],
     "language": "python",
     "metadata": {},
     "outputs": []
    }
   ],
   "metadata": {}
  }
 ]
}