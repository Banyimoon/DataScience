{
 "cells": [
  {
   "cell_type": "markdown",
   "metadata": {},
   "source": [
    "Sufficiency and Factorization\n",
    "============\n"
   ]
  },
  {
   "cell_type": "markdown",
   "metadata": {},
   "source": [
    "#### Definition: \n",
    "\n",
    "Let $X \\in \\mathbb{R}^n$ (our data).\n",
    "\n",
    "Let $T(X)$ be an estimator for $\\theta$ (or $g(\\theta)$ if needed).\n",
    "\n",
    "We say $T(X)$ is sufficient for $\\theta$ if $f(x|T(X);\\theta)$ does not depend on $\\theta$"
   ]
  },
  {
   "cell_type": "markdown",
   "metadata": {},
   "source": [
    "**Idea:** we assume $x$ is our observation. We look at how much information we get from observing only $T(X)$.\n",
    "\n",
    "If the observation of $X$ brings nothing new as far as determining $\\theta$ is concerned, then it must be that $T(X)$ is **sufficient to determine ** $\\theta$"
   ]
  },
  {
   "cell_type": "markdown",
   "metadata": {},
   "source": [
    "### Another formal definition: (Neyman Factorization)\n",
    "\n",
    "Let $f (x; \\theta)$ be the density (or probability) function for $\\mathbf{X}=(X_1 , . . . , X_n )$ for $\\theta \\in \\Omega$ , and let $T (X)$ be a statistic. We say $T (X)$ is sufficient for $\\theta$ if and only if there exist functions $g(t; \\theta)$ and $h(x)$ exists such that\n",
    "\n",
    "$$f (x; \\theta) = g(T (x); \\theta)h(x)$$"
   ]
  },
  {
   "cell_type": "markdown",
   "metadata": {},
   "source": [
    "#### Example: \n",
    "\n",
    "Let $X\\sim ~iid~ Bernoulli(\\theta)$\n",
    "\n",
    "We define $T = X_1 + X_2 + ... + X_n$ (which is also known as Binomial random variable).\n",
    "\n",
    "Is $T$ sufficient for $\\theta$?\n",
    "\n",
    "We compute the conditional PMF of $X$ given $T$ assuming $\\theta$ is the parmater:\n",
    "\n",
    "$$f\\left(x| T=t; \\theta\\right) = \\frac{f(x)\\cap f(T=t)}{f(T=t)} \\\\= \\frac{\\theta^{x_1} (1-\\theta)^{1-x_1}~\\theta^{x_2} (1-\\theta)^{1-x_2} ~..~ \\theta^{x_n} (1-\\theta)^{1-x_n} }{\\left(\\begin{array}{c}n\\\\t\\end{array}\\right)\\theta^t (1-\\theta)^{n-t}}\\\\ ~ ~\\text{  (where }x_1+x_2+..x_n=t\\text{)} \\\\ \\\\ = \\frac{\\theta^{t} (1-\\theta)^{n-t} }{\\left(\\begin{array}{c}n\\\\t\\end{array}\\right)\\theta^t (1-\\theta)^{n-t}} = \\frac{1}{\\left(\\begin{array}{c}n\\\\t\\end{array}\\right)}$$\n",
    "\n",
    "So since this does not depend on $\\theta$, we conclude that $T$ is a sufficient statistic for $\\theta$"
   ]
  },
  {
   "cell_type": "markdown",
   "metadata": {},
   "source": [
    "### Recap:\n",
    "\n",
    "Let $X$ be data, $\\theta$ be a parameter. If the conditional density $f(x|T(X)=t; \\theta)$ does not depend on $\\theta$ 9in other words, it depends only on $T(X)$) this means that the knowledge of $T(X)$ gives you all the informaiton you can possible gather from data $x$ regarding the value of $\\theta$."
   ]
  },
  {
   "cell_type": "markdown",
   "metadata": {
    "collapsed": true
   },
   "source": [
    "#### Note: we also have Neyman-factorization:\n",
    "\n",
    "When $f(x;\\theta) = g(T(x),\\theta) h(x)$, then $T(X)$ is sufficient (and converse is also true)"
   ]
  },
  {
   "cell_type": "markdown",
   "metadata": {},
   "source": []
  }
 ],
 "metadata": {
  "kernelspec": {
   "display_name": "Python 3",
   "language": "python",
   "name": "python3"
  },
  "language_info": {
   "codemirror_mode": {
    "name": "ipython",
    "version": 3
   },
   "file_extension": ".py",
   "mimetype": "text/x-python",
   "name": "python",
   "nbconvert_exporter": "python",
   "pygments_lexer": "ipython3",
   "version": "3.5.2"
  }
 },
 "nbformat": 4,
 "nbformat_minor": 0
}
