{
 "cells": [
  {
   "cell_type": "markdown",
   "metadata": {},
   "source": [
    "\n",
    "\n",
    "\n"
   ]
  },
  {
   "cell_type": "markdown",
   "metadata": {},
   "source": [
    "## Evaluation\n",
    "\n",
    " * Holdout method (2/3 for training, 1/3 for testing)  \n",
    " * Repeated holdout  \n",
    " * Cross-validation  \n",
    "     * k-fold cross-validation  \n",
    "     * startified k-fold cross-validation (equal representation of classes)  \n",
    "     * leave-one-out  \n",
    " * Bootstrap (sample with replacement)\n",
    " \n",
    "Most commonly: 10 fold cross-validation\n"
   ]
  },
  {
   "cell_type": "code",
   "execution_count": null,
   "metadata": {
    "collapsed": true
   },
   "outputs": [],
   "source": []
  },
  {
   "cell_type": "markdown",
   "metadata": {},
   "source": [
    "## reprocessing Steps\n",
    "\n",
    "  ### Statistical Noise  \n",
    "  \n",
    "\n",
    "  Common rule for removing noise: $ mean + 3\\times std   $ "
   ]
  },
  {
   "cell_type": "code",
   "execution_count": null,
   "metadata": {
    "collapsed": true
   },
   "outputs": [],
   "source": []
  }
 ],
 "metadata": {
  "kernelspec": {
   "display_name": "Python 3",
   "language": "python",
   "name": "python3"
  },
  "language_info": {
   "codemirror_mode": {
    "name": "ipython",
    "version": 3
   },
   "file_extension": ".py",
   "mimetype": "text/x-python",
   "name": "python",
   "nbconvert_exporter": "python",
   "pygments_lexer": "ipython3",
   "version": "3.4.3"
  }
 },
 "nbformat": 4,
 "nbformat_minor": 0
}
