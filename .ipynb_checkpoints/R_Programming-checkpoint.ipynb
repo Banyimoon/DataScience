{
 "metadata": {
  "name": "",
  "signature": "sha256:b90ea77cfc9951e28aa9cb34a5b327ccc4dc55c058db733e6419e97e43b8eecb"
 },
 "nbformat": 3,
 "nbformat_minor": 0,
 "worksheets": [
  {
   "cells": [
    {
     "cell_type": "markdown",
     "metadata": {},
     "source": [
      "R Programming\n",
      "============\n",
      "\n",
      "<a name=\"top\"></a>\n",
      "\n",
      "**Vahid Mirjalili, Data Scientist**\n",
      "\n",
      "1. [R Data Types](#sec1_datatypes)\n",
      "   * [Atomic classes](#atomic_classes)\n",
      "   * [Object attributes](#attribs)\n",
      "   * [Create Vectors](#cr_vecs)\n",
      "   * [Explicit Coercion](#coercion)\n",
      "   * [Matrices](#matrices)\n",
      "   * [Lists](#lists)\n",
      "   * [Factors](#factors)\n",
      "   * [Missing Values](#missing_vals)\n",
      "   * [Data Frmaes](#dataframes)\n",
      "   * [Names](#names)\n",
      "   \n",
      "2. [Subsetting R objects](#subset)\n",
      "   * [Subsetting lists](#subset_lists)\n",
      "   * [Partial matching](#partial_match)\n",
      "   * [Removing missing values](#remove_nas)\n",
      "   \n",
      "3. [Reading and Writing Data](#read_write_data)\n",
      "   * [Reading data](#read_data)\n",
      "   * [Writing data](#write_data)\n",
      "   * [Reading large datasets](#read_large)\n",
      "   * [Reading and writing in textual format](#textual_format)\n",
      "   * [Connection interfaces](#connection)\n",
      "   \n",
      "4. [Flow Control](#flow_control)\n",
      "\n",
      "5. [Functions](#functions)\n",
      "   * [Special argument \"...\"](#special_arg)\n",
      "   \n",
      "6. [Scopting Rules](#scoping)\n",
      "\n",
      "7. [Dates and Times](#date_time)\n",
      "   * [Format Strings to dates](#format_strptime)\n",
      "   \n",
      "8. [Apply Functions](#apply_functions)\n",
      "   * [Shortcut apply functions](#shortcut_apply)\n",
      "   * [tapply() and split()](#tapply_split)\n",
      "\n",
      "9. [Random Number Generation](#random)\n",
      "   * [Gaussian Noise](#gauss_noise)\n",
      "   \n",
      "10. [R Profiler](#rprofiler)\n",
      "   * [Using Rprof()](#using-rprof)\n",
      "   \n",
      "11. [Optimization in R](#r-optim)"
     ]
    },
    {
     "cell_type": "markdown",
     "metadata": {},
     "source": [
      "<a name=\"sec1_datatypes\"></a>\n",
      "\n",
      "# 1. R Data Types   \n",
      "[top](#top)\n",
      "\n",
      "\n",
      "<a name=\"atomic_classes\"></a>\n",
      "## Atomic classes in R:\n",
      "\n",
      "* charcater\n",
      "* numeric\n",
      "* integer (L)\n",
      "* complex\n",
      "* logical (TRUE/FALSE)\n",
      "\n",
      "<b> Special numbers </b> Inf and NaN: 1/0 = Inf  and 1/Inf = 0;  0/0=NaN\n",
      "\n",
      "<a name=\"attribs\"></a>\n",
      "## Object attributes:\n",
      "\n",
      "* names, dimnames\n",
      "* dimensions (for matrices and arrays)\n",
      "* class\n",
      "* length\n",
      "* Other user defined attributes\n",
      "\n",
      "<b> attributes() </b> to get list of attributes of an object\n",
      "\n",
      "<a name=\"cr_vecs\"></a>\n",
      "## Creating vectors\n",
      "\n",
      "* **vector()** :  to create an empty vector\n",
      "* vector(\"numeric\", length=10)\n",
      "* c('a', 'b')  : to concatenate multiple objects into a single vector\n",
      "* Mixing objects from different classes: c(1.5, 'a') : coercion\n",
      "\n",
      "<a name=\"coercion\"></a>\n",
      "## Explicit coercion\n",
      "\n",
      "* as.character()\n",
      "* as.numeric()\n",
      "* as.logical()\n",
      "* as.complex()"
     ]
    },
    {
     "cell_type": "code",
     "collapsed": false,
     "input": [
      "x <- 0:6\n",
      "print(x)\n",
      "print(as.logical(x))\n",
      "print(as.complex(x))"
     ],
     "language": "python",
     "metadata": {},
     "outputs": [
      {
       "output_type": "stream",
       "stream": "stdout",
       "text": [
        "[1] 0 1 2 3 4 5 6\n"
       ]
      },
      {
       "output_type": "stream",
       "stream": "stdout",
       "text": [
        "[1] FALSE  TRUE  TRUE  TRUE  TRUE  TRUE  TRUE\n"
       ]
      },
      {
       "output_type": "stream",
       "stream": "stdout",
       "text": [
        "[1] 0+0i 1+0i 2+0i 3+0i 4+0i 5+0i 6+0i\n"
       ]
      }
     ],
     "prompt_number": 7
    },
    {
     "cell_type": "markdown",
     "metadata": {},
     "source": [
      "<a name=\"matrices\"></a>\n",
      "## Matrices\n",
      "To create a vector:\n",
      "\n",
      "* create a matrox by **matrix()** function\n",
      "* change the dimension of a vector **dim()**\n",
      "* binding vectors and matruces: **cbind()** and **rbind()**"
     ]
    },
    {
     "cell_type": "code",
     "collapsed": false,
     "input": [
      "m <- matrix(nrow=2, ncol=3)\n",
      "print(m)\n",
      "attributes(m)"
     ],
     "language": "python",
     "metadata": {},
     "outputs": [
      {
       "output_type": "stream",
       "stream": "stdout",
       "text": [
        "     [,1] [,2] [,3]\n",
        "[1,]   NA   NA   NA\n",
        "[2,]   NA   NA   NA\n"
       ]
      },
      {
       "metadata": {},
       "output_type": "pyout",
       "prompt_number": 12,
       "text": [
        "$dim\n",
        "[1] 2 3\n"
       ]
      }
     ],
     "prompt_number": 12
    },
    {
     "cell_type": "code",
     "collapsed": false,
     "input": [
      "# Method1: create a matrix by matrix()\n",
      "m1 <- matrix(1:6, nrow=2, ncol=3)\n",
      "print(m1)\n",
      "# Method2: change the dimension of a vector\n",
      "m2 <- 1:6\n",
      "dim(m2) = c(2,3)\n",
      "print(m2)"
     ],
     "language": "python",
     "metadata": {},
     "outputs": [
      {
       "output_type": "stream",
       "stream": "stdout",
       "text": [
        "     [,1] [,2] [,3]\n",
        "[1,]    1    3    5\n",
        "[2,]    2    4    6\n"
       ]
      },
      {
       "output_type": "stream",
       "stream": "stdout",
       "text": [
        "     [,1] [,2] [,3]\n",
        "[1,]    1    3    5\n",
        "[2,]    2    4    6\n"
       ]
      }
     ],
     "prompt_number": 13
    },
    {
     "cell_type": "code",
     "collapsed": false,
     "input": [
      "x <- 1:4\n",
      "y <- 6:9\n",
      "cbind(x,y)\n",
      "rbind(x,y)"
     ],
     "language": "python",
     "metadata": {},
     "outputs": [
      {
       "metadata": {},
       "output_type": "pyout",
       "prompt_number": 14,
       "text": [
        "     x y\n",
        "[1,] 1 6\n",
        "[2,] 2 7\n",
        "[3,] 3 8\n",
        "[4,] 4 9"
       ]
      },
      {
       "metadata": {},
       "output_type": "pyout",
       "prompt_number": 14,
       "text": [
        "  [,1] [,2] [,3] [,4]\n",
        "x    1    2    3    4\n",
        "y    6    7    8    9"
       ]
      }
     ],
     "prompt_number": 14
    },
    {
     "cell_type": "markdown",
     "metadata": {},
     "source": [
      "<a name=\"lists\"></a>\n",
      "## Lists\n",
      "Lists are special vectors that can store elements from different classes\n",
      "\n",
      "* Create a list by **list()**"
     ]
    },
    {
     "cell_type": "code",
     "collapsed": false,
     "input": [
      "x <- list(23, \"abc\", 1+5i, TRUE)\n",
      "print(x)"
     ],
     "language": "python",
     "metadata": {},
     "outputs": [
      {
       "output_type": "stream",
       "stream": "stdout",
       "text": [
        "[[1]]\n",
        "[1] 23\n",
        "\n",
        "[[2]]\n",
        "[1] \"abc\"\n",
        "\n",
        "[[3]]\n",
        "[1] 1+5i\n",
        "\n",
        "[[4]]\n",
        "[1] TRUE\n",
        "\n"
       ]
      }
     ],
     "prompt_number": 20
    },
    {
     "cell_type": "markdown",
     "metadata": {},
     "source": [
      "<a name=\"factors\"></a>\n",
      "## Factors\n",
      "Factors are a special data type to represent categorical variables, such as gender ('male', 'female'), patterm classes ('1', '2') ..\n",
      "\n",
      "* Create factors by **factor()**\n",
      "* Access the labels: **levels()**\n",
      "* Make a table view of number of items in each factor: **table()**\n",
      "\n",
      "Factor levels are ordered by default in alphabetic order. In order to directly specify the order: **factor(vec, levels=c(\"male\", \"female\"))**"
     ]
    },
    {
     "cell_type": "code",
     "collapsed": false,
     "input": [
      "## create a vector of factors\n",
      "xf <- factor(c(\"male\", \"female\", \"female\", \"female\", \"male\", \"female\", \"female\", \"male\", \"female\"))\n",
      "str(xf)\n",
      "## print levels of xf\n",
      "levels(xf)\n",
      "unclass(xf)"
     ],
     "language": "python",
     "metadata": {},
     "outputs": [
      {
       "output_type": "stream",
       "stream": "stdout",
       "text": [
        " Factor w/ 2 levels \"female\",\"male\": 2 1 1 1 2 1 1 2 1\n"
       ]
      },
      {
       "metadata": {},
       "output_type": "pyout",
       "prompt_number": 28,
       "text": [
        "[1] \"female\" \"male\"  "
       ]
      },
      {
       "metadata": {},
       "output_type": "pyout",
       "prompt_number": 28,
       "text": [
        "[1] 2 1 1 1 2 1 1 2 1\n",
        "attr(,\"levels\")\n",
        "[1] \"female\" \"male\"  "
       ]
      }
     ],
     "prompt_number": 28
    },
    {
     "cell_type": "code",
     "collapsed": false,
     "input": [
      "table(xf)"
     ],
     "language": "python",
     "metadata": {},
     "outputs": [
      {
       "metadata": {},
       "output_type": "pyout",
       "prompt_number": 24,
       "text": [
        "xf\n",
        "female   male \n",
        "     3      2 "
       ]
      }
     ],
     "prompt_number": 24
    },
    {
     "cell_type": "markdown",
     "metadata": {},
     "source": [
      "<a name=\"missing_vals\"></a>\n",
      "## Missing values\n",
      "Missing values are denoted by ***NA*** or ***NaN***\n",
      "\n",
      " ***NaN*** is for undefined mathematical operations such as 0/0. ***NaN*** is a sub-type of **NA**\n",
      "\n",
      "* **is.na()** and **is.nan()** to test whether vector elements are missing"
     ]
    },
    {
     "cell_type": "code",
     "collapsed": false,
     "input": [
      "x <- c(1,2,3, NA, 6, NaN, 8)\n",
      "is.na(x)\n",
      "is.nan(x)"
     ],
     "language": "python",
     "metadata": {},
     "outputs": [
      {
       "metadata": {},
       "output_type": "pyout",
       "prompt_number": 30,
       "text": [
        "[1] FALSE FALSE FALSE  TRUE FALSE  TRUE FALSE"
       ]
      },
      {
       "metadata": {},
       "output_type": "pyout",
       "prompt_number": 30,
       "text": [
        "[1] FALSE FALSE FALSE FALSE FALSE  TRUE FALSE"
       ]
      }
     ],
     "prompt_number": 30
    },
    {
     "cell_type": "markdown",
     "metadata": {},
     "source": [
      "<a name=\"dataframes\"></a>\n",
      "## Data Frames\n",
      "\n",
      "To store tabular data. One of the most useful things in R.\n",
      "\n",
      "Data frames can store different object classes in different columns, unlike matrices that have to have the same elements class.\n",
      "\n",
      "* special attributes: **row.names**, **col.names**\n",
      "* Rading tabular data from files: **read.table()** and **read.csv()**\n",
      "* Convert data.frame to a matrix: **data.matrox()**    (coercion may happen)"
     ]
    },
    {
     "cell_type": "code",
     "collapsed": false,
     "input": [
      "df <- data.frame(foo=11:14, bar=c(T, T, F, T))\n",
      "df\n",
      "nrow(df)\n",
      "ncol(df)"
     ],
     "language": "python",
     "metadata": {},
     "outputs": [
      {
       "metadata": {},
       "output_type": "pyout",
       "prompt_number": 33,
       "text": [
        "  foo   bar\n",
        "1  11  TRUE\n",
        "2  12  TRUE\n",
        "3  13 FALSE\n",
        "4  14  TRUE"
       ]
      },
      {
       "metadata": {},
       "output_type": "pyout",
       "prompt_number": 33,
       "text": [
        "[1] 4"
       ]
      },
      {
       "metadata": {},
       "output_type": "pyout",
       "prompt_number": 33,
       "text": [
        "[1] 2"
       ]
      }
     ],
     "prompt_number": 33
    },
    {
     "cell_type": "markdown",
     "metadata": {},
     "source": [
      "<a name=\"names\"></a>\n",
      "## Names\n",
      "\n",
      "R objects can have a name. Useful for self describing data, so each vector can be accesed by an index or by its object names\n",
      "\n",
      "* access and change the names by **names()**\n",
      "* names in list: x <- list(a=1, b=2, c=3)\n",
      "* names in matrices: **dimnames()**"
     ]
    },
    {
     "cell_type": "code",
     "collapsed": false,
     "input": [
      "x <- 1:3\n",
      "names(x) <- c(\"foo\", \"bar\", \"norf\")\n",
      "x\n",
      "names(x)"
     ],
     "language": "python",
     "metadata": {},
     "outputs": [
      {
       "metadata": {},
       "output_type": "pyout",
       "prompt_number": 34,
       "text": [
        " foo  bar norf \n",
        "   1    2    3 "
       ]
      },
      {
       "metadata": {},
       "output_type": "pyout",
       "prompt_number": 34,
       "text": [
        "[1] \"foo\"  \"bar\"  \"norf\""
       ]
      }
     ],
     "prompt_number": 34
    },
    {
     "cell_type": "markdown",
     "metadata": {},
     "source": [
      "<a name=\"subset\"></a>\n",
      "# 2. Subsetting R objects\n",
      "[Top](#top)\n",
      "\n",
      "To extract subsets of data (objects).\n",
      "\n",
      "* subsetting with **[ ]**   (given numeric index or logical index)\n",
      "* subsetting with double bracket for lists: **[[ ]]** (only to extract a single element of a list, meaning no vector inside double bracket)\n",
      "* subsetting with **$** to extract elements of lists and data.frames by their names\n"
     ]
    },
    {
     "cell_type": "code",
     "collapsed": false,
     "input": [
      "## subsetting vectors: numeric or logical index\n",
      "x <- c(\"a\", \"b\", \"c\", \"d\", \"h\")\n",
      "x[1:3]\n",
      "x[x > \"c\"]"
     ],
     "language": "python",
     "metadata": {},
     "outputs": [
      {
       "metadata": {},
       "output_type": "pyout",
       "prompt_number": 41,
       "text": [
        "[1] \"a\" \"b\" \"c\""
       ]
      },
      {
       "metadata": {},
       "output_type": "pyout",
       "prompt_number": 41,
       "text": [
        "[1] \"d\" \"h\""
       ]
      }
     ],
     "prompt_number": 41
    },
    {
     "cell_type": "markdown",
     "metadata": {},
     "source": [
      "For matrices, you can acess rows and columns by **[row index, column index]**\n",
      "\n",
      "<b> By default, subsetting drops the column and row index, to avoid that use m[1,2, drop=F] </b>\n",
      "This way, the output would still be a matrix."
     ]
    },
    {
     "cell_type": "code",
     "collapsed": false,
     "input": [
      "## subsetting matrices\n",
      "m1[1,2]\n",
      "m2[,2]\n",
      "\n",
      "m2[,2, drop=F]"
     ],
     "language": "python",
     "metadata": {},
     "outputs": [
      {
       "metadata": {},
       "output_type": "pyout",
       "prompt_number": 42,
       "text": [
        "[1] 3"
       ]
      },
      {
       "metadata": {},
       "output_type": "pyout",
       "prompt_number": 42,
       "text": [
        "[1] 3 4"
       ]
      },
      {
       "metadata": {},
       "output_type": "pyout",
       "prompt_number": 42,
       "text": [
        "     [,1]\n",
        "[1,]    3\n",
        "[2,]    4"
       ]
      }
     ],
     "prompt_number": 42
    },
    {
     "cell_type": "markdown",
     "metadata": {},
     "source": [
      "<a name=\"subset_lists\"></a>\n",
      "## Subsetting lists\n",
      "\n",
      "Using double bracket to subset lists.\n",
      "Only extract one element of a list at time. Therefore, no vector inside double bracket. (x[[1:3]] ==> error)"
     ]
    },
    {
     "cell_type": "code",
     "collapsed": false,
     "input": [
      "xl <- list(foo=1:5, bar=0.7, norf=\"ABcDE\")\n",
      "xl[[1]]\n",
      "xl[[\"bar\"]]\n",
      "xl[\"bar\"]\n",
      "xl$norf"
     ],
     "language": "python",
     "metadata": {},
     "outputs": [
      {
       "metadata": {},
       "output_type": "pyout",
       "prompt_number": 51,
       "text": [
        "[1] 1 2 3 4 5"
       ]
      },
      {
       "metadata": {},
       "output_type": "pyout",
       "prompt_number": 51,
       "text": [
        "[1] 0.7"
       ]
      },
      {
       "metadata": {},
       "output_type": "pyout",
       "prompt_number": 51,
       "text": [
        "$bar\n",
        "[1] 0.7\n"
       ]
      },
      {
       "metadata": {},
       "output_type": "pyout",
       "prompt_number": 51,
       "text": [
        "[1] \"ABcDE\""
       ]
      }
     ],
     "prompt_number": 51
    },
    {
     "cell_type": "markdown",
     "metadata": {},
     "source": [
      "* Use single bracket **[ ]** To extract multiple elements of a list:"
     ]
    },
    {
     "cell_type": "code",
     "collapsed": false,
     "input": [
      "xl[c(1,3)]"
     ],
     "language": "python",
     "metadata": {},
     "outputs": [
      {
       "metadata": {},
       "output_type": "pyout",
       "prompt_number": 52,
       "text": [
        "$foo\n",
        "[1] 1 2 3 4 5\n",
        "\n",
        "$norf\n",
        "[1] \"ABcDE\"\n"
       ]
      }
     ],
     "prompt_number": 52
    },
    {
     "cell_type": "markdown",
     "metadata": {},
     "source": [
      "* Nested list"
     ]
    },
    {
     "cell_type": "code",
     "collapsed": false,
     "input": [
      "xnest <- list(a=list(10, 12, 13, 14), b=c(4:7))\n",
      "# to extract 13:\n",
      "xnest[[\"a\"]][[3]]"
     ],
     "language": "python",
     "metadata": {},
     "outputs": [
      {
       "metadata": {},
       "output_type": "pyout",
       "prompt_number": 59,
       "text": [
        "[1] 13"
       ]
      }
     ],
     "prompt_number": 59
    },
    {
     "cell_type": "markdown",
     "metadata": {},
     "source": [
      "<a name=\"partial_match\"></a>\n",
      "## Partial Matching\n",
      "\n",
      "Partial matching works for subsetting objects with **[[ ]]** and **$**"
     ]
    },
    {
     "cell_type": "code",
     "collapsed": false,
     "input": [
      "xp <- list(abc=c(1:8), fgh=c(T, F, F, T))\n",
      "xp$a\n",
      "xp[[\"f\"]]\n",
      "xp[[\"f\", exact=F]]"
     ],
     "language": "python",
     "metadata": {},
     "outputs": [
      {
       "metadata": {},
       "output_type": "pyout",
       "prompt_number": 67,
       "text": [
        "[1] 1 2 3 4 5 6 7 8"
       ]
      },
      {
       "metadata": {},
       "output_type": "pyout",
       "prompt_number": 67,
       "text": [
        "NULL"
       ]
      },
      {
       "metadata": {},
       "output_type": "pyout",
       "prompt_number": 67,
       "text": [
        "[1]  TRUE FALSE FALSE  TRUE"
       ]
      }
     ],
     "prompt_number": 67
    },
    {
     "cell_type": "markdown",
     "metadata": {},
     "source": [
      "<a name=\"remove_nas\"></a>\n",
      "## Removing missing values\n",
      "\n",
      "* In order to subset non-missing values onlt, use **!is.na()**\n",
      "* Complete cases of a data.frame, a matrix, or multiple vectors **complete.cases()**"
     ]
    },
    {
     "cell_type": "code",
     "collapsed": false,
     "input": [
      "x <- c(1,2,NA, 5, NaN, 8, NaN, 9)\n",
      "x[!is.na(x)]"
     ],
     "language": "python",
     "metadata": {},
     "outputs": [
      {
       "metadata": {},
       "output_type": "pyout",
       "prompt_number": 68,
       "text": [
        "[1] 1 2 5 8 9"
       ]
      }
     ],
     "prompt_number": 68
    },
    {
     "cell_type": "code",
     "collapsed": false,
     "input": [
      "y <- c(3, 5, 6, NA, NA, 8, 9, 10)\n",
      "complete.cases(x,y)"
     ],
     "language": "python",
     "metadata": {},
     "outputs": [
      {
       "metadata": {},
       "output_type": "pyout",
       "prompt_number": 73,
       "text": [
        "[1]  TRUE  TRUE FALSE FALSE FALSE  TRUE FALSE  TRUE"
       ]
      }
     ],
     "prompt_number": 73
    },
    {
     "cell_type": "markdown",
     "metadata": {},
     "source": [
      "<a name=\"read_write_data\"></a>\n",
      "# 3. Reading and Writing Data\n",
      "\n",
      "[Top](#top)\n",
      "\n",
      "<a name=\"read_data\"></a>\n",
      "## Reading data\n",
      "* To read in tabular data, use **read.table()** or **read.csv()**\n",
      "* **readLines()** to read lines of a text file\n",
      "* **source()** for reading R codes (inverse of **dump()**)\n",
      "* **dget()** for reading R codes (inverse of **dput()**)\n",
      "* **load()** for reading a saved workspace\n",
      "* **unserialize()** for reading single R objects in binary form\n",
      "\n",
      "### Attributes of read.table()\n",
      "* **file**: name of the file\n",
      "* **header**: logical (T/F) indicating if the file has a header or not\n",
      "* **sep**: a string that indicates how columns are separated\n",
      "* **colClasses**: a character vector indicating the class of each column in the data file\n",
      "* **nrows**: the number of rows in the dataset\n",
      "* **comment.char**: a character string indicating the comment character used in the file\n",
      "* **skip**: the number of lines to be skipped from the begining\n",
      "* **stringAsFactors**: logical, should character variables be coded as factors?\n",
      "\n",
      "<a name=\"write_data\"></a>\n",
      "## Writing data\n",
      "* **write.table()**\n",
      "* **writeLines()**\n",
      "* **dump()**\n",
      "* **dput()**\n",
      "* **save()**\n",
      "* **serialize()**\n",
      "\n"
     ]
    },
    {
     "cell_type": "markdown",
     "metadata": {},
     "source": [
      "<a name=\"read_large\"></a>\n",
      "## Reading large datasets\n",
      "For efficiently reading in large datasets:\n",
      "\n",
      "* first identify column classes\n",
      "* ignore the comment character if you know there is no comment in the file: ```comment.char=\"\"```\n",
      "\n",
      "You can automaucally specify column classes by reaading the first 10 rows of the file.\n",
      "\n",
      "example:\n",
      "```\n",
      "init10 <- read.table(\"large_dataset.txt\", nrows=10)\n",
      "classes <- sapply(init10, class)\n",
      "datAll <- read.table(\"large_dataset.txt\", colClasses=classes)\n",
      "```\n",
      "\n",
      "* If you know the number of rows, it is more memory efficient to set nrows as well"
     ]
    },
    {
     "cell_type": "markdown",
     "metadata": {},
     "source": [
      "<a name=\"textual_format\"></a>\n",
      "## Reading and writing in textual format\n",
      "\n",
      "Textual format has the advantage of readablity and storing element class information.\n",
      "\n",
      "* **dput()** for a single object\n",
      "* **dunpy()** for multiple objects\n",
      "\n",
      "```\n",
      "## example for dupt:\n",
      "y <- data.frame(a=c(1,2), b=c(\"HH\", \"WW\"))\n",
      "dput(y, file=\"data_y.R\")\n",
      "new.y <- dget(\"data_t.R\")\n",
      "```\n",
      "\n",
      "```\n",
      "## example for dput: multiple objects\n",
      "x <- \"foo\"\n",
      "dump(c(\"x\", \"y\"), file=\"data_xy.R\"))\n",
      "rm(x,y)\n",
      "source(\"data_xy.R\")\n",
      "```"
     ]
    },
    {
     "cell_type": "markdown",
     "metadata": {},
     "source": [
      "<a name=\"connection\"></a>\n",
      "## Connection interfaces\n",
      "Data can be read from other sources by creating a connection.\n",
      "\n",
      "* **file()**: opens a connection to a file\n",
      "* **gzfile()**: opens a connection to a *gz* compressed file\n",
      "* **bzfile()**: opens a connection to a *bz* compressed file\n",
      "* **url()**: opens a connection to a web-page"
     ]
    },
    {
     "cell_type": "code",
     "collapsed": false,
     "input": [
      "str(file)"
     ],
     "language": "python",
     "metadata": {},
     "outputs": [
      {
       "output_type": "stream",
       "stream": "stdout",
       "text": [
        "function (description = \"\", open = \"\", blocking = TRUE, encoding = getOption(\"encoding\"), \n",
        "    raw = FALSE)  \n"
       ]
      }
     ],
     "prompt_number": 1
    },
    {
     "cell_type": "code",
     "collapsed": false,
     "input": [
      "con <- gzfile(\"data/hw1.csv.gz\", \"r\")\n",
      "xgz <- readLines(con, 10) ## read the first 1 lines\n",
      "xgz[1]"
     ],
     "language": "python",
     "metadata": {},
     "outputs": [
      {
       "output_type": "stream",
       "stream": "stderr",
       "text": [
        "simpleWarning in readLines(con, 10): seek on a gzfile connection returned an internal error\n"
       ]
      },
      {
       "metadata": {},
       "output_type": "pyout",
       "prompt_number": 16,
       "text": [
        "[1] \"RT,SERIALNO,DIVISION,PUMA,REGION,ST,ADJUST,WGTP,NP,TYPE,ACR,AGS,BDS,BLD,BUS,CONP,ELEP,FS,FULP,GASP,HFL,INSP,KIT,MHP,MRGI,MRGP,MRGT,MRGX,PLM,RMS,RNTM,RNTP,SMP,TEL,TEN,VACS,VAL,VEH,WATP,YBL,FES,FINCP,FPARC,GRNTP,GRPIP,HHL,HHT,HINCP,HUGCL,HUPAC,HUPAOC,HUPARC,LNGI,MV,NOC,NPF,NPP,NR,NRC,OCPIP,PARTNER,PSF,R18,R60,R65,RESMODE,SMOCP,SMX,SRNT,SVAL,TAXP,WIF,WKEXREL,WORKSTAT,FACRP,FAGSP,FBDSP,FBLDP,FBUSP,FCONP,FELEP,FFSP,FFULP,FGASP,FHFLP,FINSP,FKITP,FMHP,FMRGIP,FMRGP,FMRGTP,FMRGXP,FMVYP,FPLMP,FRMSP,FRNTMP,FRNTP,FSMP,FSMXHP,FSMXSP,FTAXP,FTELP,FTENP,FVACSP,FVALP,FVEHP,FWATP,FYBLP,wgtp1,wgtp2,wgtp3,wgtp4,wgtp5,wgtp6,wgtp7,wgtp8,wgtp9,wgtp10,wgtp11,wgtp12,wgtp13,wgtp14,wgtp15,wgtp16,wgtp17,wgtp18,wgtp19,wgtp20,wgtp21,wgtp22,wgtp23,wgtp24,wgtp25,wgtp26,wgtp27,wgtp28,wgtp29,wgtp30,wgtp31,wgtp32,wgtp33,wgtp34,wgtp35,wgtp36,wgtp37,wgtp38,wgtp39,wgtp40,wgtp41,wgtp42,wgtp43,wgtp44,wgtp45,wgtp46,wgtp47,wgtp48,wgtp49,wgtp50,wgtp51,wgtp52,wgtp53,wgtp54,wgtp55,wgtp56,wgtp57,wgtp58,wgtp59,wgtp60,wgtp61,wgtp62,wgtp63,wgtp64,wgtp65,wgtp66,wgtp67,wgtp68,wgtp69,wgtp70,wgtp71,wgtp72,wgtp73,wgtp74,wgtp75,wgtp76,wgtp77,wgtp78,wgtp79,wgtp80\""
       ]
      }
     ],
     "prompt_number": 16
    },
    {
     "cell_type": "code",
     "collapsed": false,
     "input": [
      "## read from a web-page\n",
      "con <- url(\"http://www.jhsph.edu\", \"r\")\n",
      "x <- readLines(con)\n",
      "head(x)"
     ],
     "language": "python",
     "metadata": {},
     "outputs": [
      {
       "metadata": {},
       "output_type": "pyout",
       "prompt_number": 2,
       "text": [
        "[1] \"<!DOCTYPE html>\"                                               \n",
        "[2] \"<html lang=\\\"en\\\">\"                                            \n",
        "[3] \"\"                                                              \n",
        "[4] \"<head>\"                                                        \n",
        "[5] \"<meta charset=\\\"utf-8\\\" />\"                                    \n",
        "[6] \"<title>Johns Hopkins Bloomberg School of Public Health</title>\""
       ]
      }
     ],
     "prompt_number": 2
    },
    {
     "cell_type": "markdown",
     "metadata": {},
     "source": [
      "<a name=\"flow_control\"></a> [Top](#top)\n",
      "# 4. Flow Control\n",
      "* **if, else, else if**\n",
      "* **for**\n",
      "* **while**\n",
      "* **repeat** an infinite loop, (to stop use break)\n",
      "* **break** break the execution of a loop\n",
      "* **next** skip one iteration\n",
      "* **return** exit a function\n",
      "\n"
     ]
    },
    {
     "cell_type": "code",
     "collapsed": false,
     "input": [
      "x <- 5\n",
      "y <- if(x>3) {\n",
      "   10\n",
      "}else{\n",
      "   0\n",
      "}\n",
      "\n",
      "print(y)"
     ],
     "language": "python",
     "metadata": {},
     "outputs": [
      {
       "output_type": "stream",
       "stream": "stdout",
       "text": [
        "[1] 10\n"
       ]
      }
     ],
     "prompt_number": 1
    },
    {
     "cell_type": "code",
     "collapsed": false,
     "input": [
      "## three ways to iterate through a vector:\n",
      "x <- c(\"a\", \"b\", \"c\")\n",
      "\n",
      "for (i in 1:length(x)) {\n",
      "   print(x[i])\n",
      "}\n",
      "\n",
      "for (i in seq_along(x))  print(x[i])\n",
      "\n",
      "for (letter in x)  print(letter)"
     ],
     "language": "python",
     "metadata": {},
     "outputs": [
      {
       "output_type": "stream",
       "stream": "stdout",
       "text": [
        "[1] \"a\"\n",
        "[1] \"b\"\n",
        "[1] \"c\"\n"
       ]
      },
      {
       "output_type": "stream",
       "stream": "stdout",
       "text": [
        "[1] \"a\"\n",
        "[1] \"b\"\n",
        "[1] \"c\"\n"
       ]
      },
      {
       "output_type": "stream",
       "stream": "stdout",
       "text": [
        "[1] \"a\"\n",
        "[1] \"b\"\n",
        "[1] \"c\"\n"
       ]
      }
     ],
     "prompt_number": 5
    },
    {
     "cell_type": "markdown",
     "metadata": {},
     "source": [
      "<a name=\"functions\"></a>\n",
      "# 5. Functions\n",
      "[Top](#top)\n",
      "\n",
      "Functions are first class objects.\n",
      "\n",
      "We can have nested functions, functions inside other functions.\n",
      "\n",
      "Function arguments can have default values. Function arguments can be mapped positionally, or by name.\n",
      "\n",
      "The arguments that don't have default values, are required when function is called.\n",
      "\n",
      "**Note:** Split your functions so that each function does a single task."
     ]
    },
    {
     "cell_type": "code",
     "collapsed": false,
     "input": [
      "args(lm)"
     ],
     "language": "python",
     "metadata": {},
     "outputs": [
      {
       "metadata": {},
       "output_type": "pyout",
       "prompt_number": 6,
       "text": [
        "function (formula, data, subset, weights, na.action, method = \"qr\", \n",
        "    model = TRUE, x = FALSE, y = FALSE, qr = TRUE, singular.ok = TRUE, \n",
        "    contrasts = NULL, offset, ...) \n",
        "NULL"
       ]
      }
     ],
     "prompt_number": 6
    },
    {
     "cell_type": "markdown",
     "metadata": {},
     "source": [
      "<a name=\"special_arg\"></a>\n",
      "## special argument \"...\"\n",
      "Three dots indicates variable number of arguments.\n",
      "\n",
      "It is usually used when extending another function:"
     ]
    },
    {
     "cell_type": "code",
     "collapsed": false,
     "input": [
      "myplot <- function(x, y, mytype=\"l\", ...) {\n",
      "   plot(x, y, type=mytype)\n",
      "}"
     ],
     "language": "python",
     "metadata": {},
     "outputs": [],
     "prompt_number": 8
    },
    {
     "cell_type": "markdown",
     "metadata": {},
     "source": [
      "... is also useful when the number of input arguments is not known in advance:"
     ]
    },
    {
     "cell_type": "code",
     "collapsed": false,
     "input": [
      "args(paste)\n",
      "\n",
      "args(cat)"
     ],
     "language": "python",
     "metadata": {},
     "outputs": [
      {
       "metadata": {},
       "output_type": "pyout",
       "prompt_number": 10,
       "text": [
        "function (..., sep = \" \", collapse = NULL) \n",
        "NULL"
       ]
      },
      {
       "metadata": {},
       "output_type": "pyout",
       "prompt_number": 10,
       "text": [
        "function (..., file = \"\", sep = \" \", fill = FALSE, labels = NULL, \n",
        "    append = FALSE) \n",
        "NULL"
       ]
      }
     ],
     "prompt_number": 10
    },
    {
     "cell_type": "code",
     "collapsed": false,
     "input": [
      "paste(\"a\", \"b\", sep=\":\")\n",
      "# partial matching doesn't work after ...\n",
      "paste(\"a\", \"b\", se=\":\")"
     ],
     "language": "python",
     "metadata": {},
     "outputs": [
      {
       "metadata": {},
       "output_type": "pyout",
       "prompt_number": 11,
       "text": [
        "[1] \"a:b\""
       ]
      },
      {
       "metadata": {},
       "output_type": "pyout",
       "prompt_number": 11,
       "text": [
        "[1] \"a b :\""
       ]
      }
     ],
     "prompt_number": 11
    },
    {
     "cell_type": "markdown",
     "metadata": {},
     "source": [
      "<a name=\"scoping\"></a>\n",
      "# 6. Scoping Rules\n",
      "[Top](#top)\n",
      "\n",
      "R binds a value to every symbol.\n",
      "\n",
      "If you define a new objects with a name that is used previously in R:\n",
      "\n",
      "R uses **lexical scoping**\n",
      "\n",
      "* R first searches for a free variable in the environment in which the function is defined\n",
      "* If no matched found, it searches in the parent environment\n",
      "\n",
      "The global enfironemnt is the workspace.\n",
      "\n",
      "When a free variable is found, R searches through the search space, from the workspace (global environment) until the symbol is found or it hits the emoty environment."
     ]
    },
    {
     "cell_type": "code",
     "collapsed": false,
     "input": [
      "search()"
     ],
     "language": "python",
     "metadata": {},
     "outputs": [
      {
       "metadata": {},
       "output_type": "pyout",
       "prompt_number": 1,
       "text": [
        "[1] \".GlobalEnv\"        \"package:stats\"     \"package:graphics\" \n",
        "[4] \"package:grDevices\" \"package:utils\"     \"package:datasets\" \n",
        "[7] \"package:methods\"   \"Autoloads\"         \"package:base\"     "
       ]
      }
     ],
     "prompt_number": 1
    },
    {
     "cell_type": "code",
     "collapsed": false,
     "input": [
      "make.Gaussian <- function(mu, sigma) {\n",
      "    gauss <- function(x) {\n",
      "       exp(-((x-mu)/sigma)^2)\n",
      "    }\n",
      "    gauss\n",
      "}\n",
      "\n",
      "mygauss_0 <- make.Gaussian(mu=0, sigma=1)\n",
      "mygauss_1 <- make.Gaussian(mu=1, sigma=1)\n",
      "mygauss_0"
     ],
     "language": "python",
     "metadata": {},
     "outputs": [
      {
       "metadata": {},
       "output_type": "pyout",
       "prompt_number": 12,
       "text": [
        "function(x) {\n",
        "       exp(-((x-mu)/sigma)^2)\n",
        "    }\n",
        "<environment: 0x2fcdbb0>"
       ]
      }
     ],
     "prompt_number": 12
    },
    {
     "cell_type": "markdown",
     "metadata": {},
     "source": [
      "<a name=\"problem_plotting\"></a>\n"
     ]
    },
    {
     "cell_type": "code",
     "collapsed": false,
     "input": [
      "library(IRdisplay)\n",
      "\n",
      "x <- seq(-3, 5, by=0.1)\n",
      "\n",
      "png(\"figs/mygauss.png\")\n",
      "par(mar=c(4.7, 4.7, 0.6, 0.6))\n",
      "plot(x, mygauss_0(x), type=\"l\", col=rgb(0.2, 0.4, 0.7, 0.5), lwd=6, xlab=\"x\", ylab=\"Gaussian Distn.\", cex.axis=1.5, cex.lab=1.5)\n",
      "lines(x, mygauss_1(x), col=rgb(0.7, 0.3, 0.2, 0.5), lwd=6)\n",
      "dev.off()\n",
      "display_png(\"figs/mygauss.png\")"
     ],
     "language": "python",
     "metadata": {},
     "outputs": [
      {
       "metadata": {},
       "output_type": "pyout",
       "prompt_number": 17,
       "text": [
        "pdf \n",
        "  2 "
       ]
      },
      {
       "metadata": {},
       "output_type": "display_data",
       "png": "[encoded data removed]"
      }
     ],
     "prompt_number": 17
    },
    {
     "cell_type": "markdown",
     "metadata": {},
     "source": [
      "<a name=\"date_time\"></a>\n",
      "# 7. Dates and Times\n",
      "[Top](#top)\n",
      "\n",
      "* dates are represented by Date class\n",
      "* times are represented by POSIXct or POSIXlt classes\n",
      "   * POSIXct is a very large integer; It uses a data frame to store time\n",
      "   * POSIXlt store other information, such as day of month, day of year, ...\n",
      "* internal reference time is 1970-01-01\n",
      "\n",
      "* **weekdays()** what day of the week that time/date is\n",
      "* **months()** gives the month name\n",
      "* **quarters()** gives the quarter number\n",
      "\n",
      "* objects of the same class can be used in mathematical operations"
     ]
    },
    {
     "cell_type": "code",
     "collapsed": false,
     "input": [
      "t <- as.Date(\"2014-05-11\")\n",
      "print(t)\n",
      "unclass(t)  ## number of days since 1970-01-01\n"
     ],
     "language": "python",
     "metadata": {},
     "outputs": [
      {
       "output_type": "stream",
       "stream": "stdout",
       "text": [
        "[1] \"2014-05-11\"\n"
       ]
      },
      {
       "metadata": {},
       "output_type": "pyout",
       "prompt_number": 2,
       "text": [
        "[1] 16201"
       ]
      }
     ],
     "prompt_number": 2
    },
    {
     "cell_type": "code",
     "collapsed": false,
     "input": [
      "x <- Sys.time()\n",
      "print(x)\n",
      "p <- as.POSIXlt(x)\n",
      "names(unclass(p))\n",
      "p$hour"
     ],
     "language": "python",
     "metadata": {},
     "outputs": [
      {
       "output_type": "stream",
       "stream": "stdout",
       "text": [
        "[1] \"2014-05-11 09:05:35 EDT\"\n"
       ]
      },
      {
       "metadata": {},
       "output_type": "pyout",
       "prompt_number": 10,
       "text": [
        " [1] \"sec\"    \"min\"    \"hour\"   \"mday\"   \"mon\"    \"year\"   \"wday\"   \"yday\"  \n",
        " [9] \"isdst\"  \"zone\"   \"gmtoff\""
       ]
      },
      {
       "metadata": {},
       "output_type": "pyout",
       "prompt_number": 10,
       "text": [
        "[1] 9"
       ]
      }
     ],
     "prompt_number": 10
    },
    {
     "cell_type": "markdown",
     "metadata": {},
     "source": [
      "<a name=\"format_strptime\"></a>\n",
      "## Format Strings to dates\n",
      "\n",
      "To convert a string in an arbitrary format to a Date format:\n"
     ]
    },
    {
     "cell_type": "code",
     "collapsed": false,
     "input": [
      "dstring <- c(\"January 01 2012, 10:40\", \"March 05 2013, 11:20\")\n",
      "strptime(dstring, \"%B %d %Y, %H:%M\")\n",
      "\n",
      "## the formats can be found in help page ?strptime"
     ],
     "language": "python",
     "metadata": {},
     "outputs": [
      {
       "metadata": {},
       "output_type": "pyout",
       "prompt_number": 23,
       "text": [
        "[1] \"2012-01-01 10:40:00 EST\" \"2013-03-05 11:20:00 EST\""
       ]
      }
     ],
     "prompt_number": 23
    },
    {
     "cell_type": "markdown",
     "metadata": {},
     "source": [
      "<a name=\"apply_functions\"></a>\n",
      "# 8. Apply Functions\n",
      "[Top](#top)\n",
      "\n",
      "Apply functions can be used to apply a function over elements of a vector, list or data frame.\n",
      "They make the codes shorter, and faster through vectorized operations.\n",
      "\n",
      "* **lapply()**  loop over elements of a list, and evaluate a function on each element.\n",
      "    * if input is not a list, it will be corced to a list (if possible)\n",
      "* **sapply()**  same as lapply, but also simplifies the result\n",
      "* **apply()**   apply a function over margins of an array\n",
      "* **tapply()**  apply a function over subsets of a vector\n",
      "* **mapply()**  multivariate version of lapply\n",
      "\n"
     ]
    },
    {
     "cell_type": "code",
     "collapsed": false,
     "input": [
      "## Example for lapply()\n",
      "x <- list(a=1:20, b=rnorm(10, 2))\n",
      "lapply(x, mean)\n",
      "sapply(x, mean)"
     ],
     "language": "python",
     "metadata": {},
     "outputs": [
      {
       "metadata": {},
       "output_type": "pyout",
       "prompt_number": 26,
       "text": [
        "$a\n",
        "[1] 10.5\n",
        "\n",
        "$b\n",
        "[1] 1.758371\n"
       ]
      },
      {
       "metadata": {},
       "output_type": "pyout",
       "prompt_number": 26,
       "text": [
        "        a         b \n",
        "10.500000  1.758371 "
       ]
      }
     ],
     "prompt_number": 26
    },
    {
     "cell_type": "code",
     "collapsed": false,
     "input": [
      "## Example for apply()\n",
      "x <- matrix(rnorm(50, mean=1), nrow=10, ncol=5)\n",
      "apply(x, 2, mean)\n",
      "apply(x, 1, mean)"
     ],
     "language": "python",
     "metadata": {},
     "outputs": [
      {
       "metadata": {},
       "output_type": "pyout",
       "prompt_number": 34,
       "text": [
        "[1] 1.1544504 0.7066473 1.3823677 0.5862814 0.8341865"
       ]
      },
      {
       "metadata": {},
       "output_type": "pyout",
       "prompt_number": 34,
       "text": [
        " [1] 0.6085045 0.3346011 0.9842485 0.9811776 0.7445980 0.8146298 1.3195757\n",
        " [8] 0.6969924 1.3576215 1.4859174"
       ]
      }
     ],
     "prompt_number": 34
    },
    {
     "cell_type": "markdown",
     "metadata": {},
     "source": [
      "<a name=\"shortcut_apply\"></a>\n",
      "## Shortcut functions\n",
      "\n",
      "For means and sums of a matrix, these shortcut functions perform much faster on big matrices.\n",
      "\n",
      "* **rowSums()** equivalent to apply(x, 1, sum)\n",
      "* **colSums()** equivalent to apply(x, 2, sum)\n",
      "* **rowMeans()** equivalent to apply(x, 1, mean)\n",
      "* **colMeans()** equivalent to apply(x, 2, mean)"
     ]
    },
    {
     "cell_type": "code",
     "collapsed": false,
     "input": [
      "# Benchmark: Comparing apply() and rowMeans()\n",
      "library(rbenchmark)\n",
      "a <- matrix(rnorm(100000), nrow=1000)\n",
      "\n",
      "benchmark(apply(a, 1, mean))\n",
      "benchmark(rowMeans(a))"
     ],
     "language": "python",
     "metadata": {},
     "outputs": [
      {
       "metadata": {},
       "output_type": "pyout",
       "prompt_number": 35,
       "text": [
        "               test replications elapsed relative user.self sys.self user.child\n",
        "1 apply(a, 1, mean)          100   2.078        1     2.064    0.012          0\n",
        "  sys.child\n",
        "1         0"
       ]
      },
      {
       "metadata": {},
       "output_type": "pyout",
       "prompt_number": 35,
       "text": [
        "         test replications elapsed relative user.self sys.self user.child\n",
        "1 rowMeans(a)          100   0.036        1     0.036        0          0\n",
        "  sys.child\n",
        "1         0"
       ]
      }
     ],
     "prompt_number": 35
    },
    {
     "cell_type": "markdown",
     "metadata": {},
     "source": [
      "<a name=\"tapply_split\"></a>\n",
      "## tapply() and split()\n",
      "\n",
      "**tapplly()** can be used to apply a function on each sub-group (determied by a factor vector)."
     ]
    },
    {
     "cell_type": "code",
     "collapsed": false,
     "input": [
      "## Example for tapply()\n",
      "x <- c(rnorm(10, mean=3), runif(10, min=1, max=3), rnorm(10, mean=5, sd=2))\n",
      "f <- gl(3, 10)\n",
      "tapply(x, f, mean)"
     ],
     "language": "python",
     "metadata": {},
     "outputs": [
      {
       "metadata": {},
       "output_type": "pyout",
       "prompt_number": 44,
       "text": [
        "       1        2        3 \n",
        "3.193432 2.145722 5.841018 "
       ]
      }
     ],
     "prompt_number": 44
    },
    {
     "cell_type": "markdown",
     "metadata": {},
     "source": [
      "**split() ** is not a loop function, but it can be used to split a vector based on a given factor vector.\n",
      "The output is a list."
     ]
    },
    {
     "cell_type": "code",
     "collapsed": false,
     "input": [
      "split(x, f)"
     ],
     "language": "python",
     "metadata": {},
     "outputs": [
      {
       "metadata": {},
       "output_type": "pyout",
       "prompt_number": 45,
       "text": [
        "$`1`\n",
        " [1] 3.355817 4.857354 2.495489 2.726434 2.295629 3.803721 3.607051 2.057910\n",
        " [9] 2.486170 4.248749\n",
        "\n",
        "$`2`\n",
        " [1] 2.350261 1.998423 1.260908 1.205264 2.599148 2.422258 2.156951 2.656933\n",
        " [9] 2.478111 2.328958\n",
        "\n",
        "$`3`\n",
        " [1] 8.307821 5.004458 3.677069 4.543035 5.170932 7.478714 5.919243 6.858636\n",
        " [9] 5.560063 5.890206\n"
       ]
      }
     ],
     "prompt_number": 45
    },
    {
     "cell_type": "code",
     "collapsed": false,
     "input": [
      "library(datasets)\n",
      "s <- split(airquality, airquality$Month)\n",
      "\n",
      "sapply(s, function(x) colMeans(x[,c(\"Ozone\", \"Solar.R\", \"Wind\", \"Temp\")], na.rm=T))"
     ],
     "language": "python",
     "metadata": {},
     "outputs": [
      {
       "metadata": {},
       "output_type": "pyout",
       "prompt_number": 52,
       "text": [
        "                5         6          7          8         9\n",
        "Ozone    23.61538  29.44444  59.115385  59.961538  31.44828\n",
        "Solar.R 181.29630 190.16667 216.483871 171.857143 167.43333\n",
        "Wind     11.62258  10.26667   8.941935   8.793548  10.18000\n",
        "Temp     65.54839  79.10000  83.903226  83.967742  76.90000"
       ]
      }
     ],
     "prompt_number": 52
    },
    {
     "cell_type": "markdown",
     "metadata": {},
     "source": [
      "<a name=\"random\"></a>\n",
      "# 9. Random Number Generation\n",
      "[Top](#top)\n",
      "\n",
      "* **rnorm()** generates normal random number variates with a given mean and SD\n",
      "   * rnorm(n, mean=0, sd=1)\n",
      "* **dnorm()** returns the probablity density function at a point x, with given mean and CD\n",
      "* **pnorm()** returns the cumulative distribution function at point x\n",
      "* **qnorm()** quantile\n",
      "* **rpois()** generates random numbers with Poisson distribution with a given rate (lambda)\n",
      "* **rbinom()** generates binomial random numbers with a given probability"
     ]
    },
    {
     "cell_type": "code",
     "collapsed": false,
     "input": [
      "x <- rnorm(n=10, mean=20, sd=5)\n",
      "x\n",
      "str(rpois)"
     ],
     "language": "python",
     "metadata": {},
     "outputs": [
      {
       "metadata": {},
       "output_type": "pyout",
       "prompt_number": 15,
       "text": [
        " [1] 16.64062 22.62226 22.91353 17.86211 16.86439 23.92353 28.75697 22.14282\n",
        " [9] 24.03834 19.99194"
       ]
      },
      {
       "output_type": "stream",
       "stream": "stdout",
       "text": [
        "function (n, lambda)  \n"
       ]
      }
     ],
     "prompt_number": 15
    },
    {
     "cell_type": "markdown",
     "metadata": {},
     "source": [
      "<a name=\"gauss_noise\"></a>\n",
      "## Gaussian Noise"
     ]
    },
    {
     "cell_type": "code",
     "collapsed": false,
     "input": [
      "## adding Gaussian noise to sin(x)\n",
      "x <- seq(0, 2*pi, by=0.02)\n",
      "y <- sapply(sin(x), function(x) rnorm(n=1, mean=sin(x), sd=0.2))\n",
      "## the same as y <- sin(x) + rnorm(n=length(x), mean=0, sd=0.2)\n",
      "\n",
      "par(mar=c(4.7, 4.7, 0.7, 0.7))\n",
      "plot(x, y, pch=19, col=rgb(0.2, 0.3, 0.7, 0.6), cex=1.3, cex.lab=1.6, cex.axis=1.6)"
     ],
     "language": "python",
     "metadata": {},
     "outputs": [
      {
       "metadata": {},
       "output_type": "display_data",
       "png": "[encoded data removed]"
      }
     ],
     "prompt_number": 16
    },
    {
     "cell_type": "markdown",
     "metadata": {},
     "source": [
      "* Use **set.seed()** to make the random numbers reproducible"
     ]
    },
    {
     "cell_type": "markdown",
     "metadata": {},
     "source": [
      "<a name=\"general_linear\"></a>\n",
      "## Simulate random numbers from a Generalized Linear Model\n",
      "\n",
      "Assume $y \\approx Poisson(\\mu)$\n",
      "\n",
      "and $log(\\mu) = \\beta_0 + \\beta_1 x$"
     ]
    },
    {
     "cell_type": "code",
     "collapsed": false,
     "input": [
      "x <- rnorm(200)\n",
      "log.mu <- 0.5 + 0.3 * x\n",
      "y <- rpois(200, exp(log.mu))\n",
      "\n",
      "plot(x, y, pch=19, col=rgb(0.2, 0.3, 0.7, 0.6), cex=1.5, cex.axis=1.6, cex.lab=1.6)"
     ],
     "language": "python",
     "metadata": {},
     "outputs": [
      {
       "metadata": {},
       "output_type": "display_data",
       "png": "[encoded data removed]"
      }
     ],
     "prompt_number": 20
    },
    {
     "cell_type": "markdown",
     "metadata": {},
     "source": [
      "<a name=\"random_sample\"></a>\n",
      "## Random Sampling\n",
      "\n",
      "* **sample()** to draw a random sample from a set\n",
      "* replace=TRUE \n",
      "* replace=FALSE\n"
     ]
    },
    {
     "cell_type": "code",
     "collapsed": false,
     "input": [
      "str(sample)\n",
      "sample(letters, 5)\n",
      "sample(1:10, size=6, replace=T)"
     ],
     "language": "python",
     "metadata": {},
     "outputs": [
      {
       "output_type": "stream",
       "stream": "stdout",
       "text": [
        "function (x, size, replace = FALSE, prob = NULL)  \n"
       ]
      },
      {
       "metadata": {},
       "output_type": "pyout",
       "prompt_number": 27,
       "text": [
        "[1] \"u\" \"x\" \"d\" \"b\" \"r\""
       ]
      },
      {
       "metadata": {},
       "output_type": "pyout",
       "prompt_number": 27,
       "text": [
        "[1] 5 7 6 7 2 5"
       ]
      }
     ],
     "prompt_number": 27
    },
    {
     "cell_type": "markdown",
     "metadata": {},
     "source": [
      "<a id=\"rprofiler\"></a>\n",
      "# 10. R Profiler\n",
      "\n",
      "- First design your code, unit-test it, then optimize it\n",
      "\n",
      "* Using **system.time()** to measure how much time it takes to perform a step\n",
      "   * returns an object of class *proc_time*\n",
      "   *   *user time*  --> CPU time\n",
      "   *   *elapsed time*  --> wallclock time\n",
      "   "
     ]
    },
    {
     "cell_type": "code",
     "collapsed": false,
     "input": [
      "system.time(rnorm(n=100000, mean=0, sd=1))"
     ],
     "language": "python",
     "metadata": {},
     "outputs": [
      {
       "metadata": {},
       "output_type": "pyout",
       "prompt_number": 5,
       "text": [
        "   user  system elapsed \n",
        "  0.016   0.000   0.016 "
       ]
      }
     ],
     "prompt_number": 5
    },
    {
     "cell_type": "code",
     "collapsed": false,
     "input": [
      "system.time(readLines(\"http://www.jhsph.edu\"))"
     ],
     "language": "python",
     "metadata": {},
     "outputs": [
      {
       "metadata": {},
       "output_type": "pyout",
       "prompt_number": 6,
       "text": [
        "   user  system elapsed \n",
        "  0.008   0.000   0.767 "
       ]
      }
     ],
     "prompt_number": 6
    },
    {
     "cell_type": "markdown",
     "metadata": {},
     "source": [
      "* Measureing multiple expressions:"
     ]
    },
    {
     "cell_type": "code",
     "collapsed": false,
     "input": [
      "system.time({\n",
      "    n <- 1000\n",
      "    r <- numeric(n)\n",
      "    for (i in 1:n) {\n",
      "        x = rnorm(i)\n",
      "        r[i] = mean(x)\n",
      "    }\n",
      "})"
     ],
     "language": "python",
     "metadata": {},
     "outputs": [
      {
       "metadata": {},
       "output_type": "pyout",
       "prompt_number": 7,
       "text": [
        "   user  system elapsed \n",
        "  0.104   0.008   0.112 "
       ]
      }
     ],
     "prompt_number": 7
    },
    {
     "cell_type": "code",
     "collapsed": false,
     "input": [
      "# comparing time of vectorized operations vs. for loops\n",
      "n=1000000\n",
      "x <- rnorm(n, mean=0, sd=1)\n",
      "\n",
      "system.time(sum(x))\n",
      "system.time({\n",
      "    s = 0\n",
      "    for (i in 1:n) {\n",
      "        s = s + x[i]\n",
      "    }\n",
      "})"
     ],
     "language": "python",
     "metadata": {},
     "outputs": [
      {
       "metadata": {},
       "output_type": "pyout",
       "prompt_number": 17,
       "text": [
        "   user  system elapsed \n",
        "  0.000   0.000   0.002 "
       ]
      },
      {
       "metadata": {},
       "output_type": "pyout",
       "prompt_number": 17,
       "text": [
        "   user  system elapsed \n",
        "    1.4     0.0     1.4 "
       ]
      }
     ],
     "prompt_number": 17
    },
    {
     "cell_type": "markdown",
     "metadata": {},
     "source": [
      "<a id=\"using-rprof\"></a>\n",
      "## Using **Rprof()**\n",
      "\n",
      "* **summaryRprof()** will tabulates the output"
     ]
    },
    {
     "cell_type": "code",
     "collapsed": false,
     "input": [
      "Rprof(filename=\"data/rprof_test.dat\")\n",
      "\n",
      "for (i in 1:1000) {\n",
      "    x <- seq(0, 5, by=0.01)\n",
      "    y <- 1.5+x + rnorm(n=length(x), mean=0, sd=1)\n",
      "    lm(y ~ x)\n",
      "}\n",
      "\n",
      "Rprof(NULL)\n",
      "\n",
      "summaryRprof(filename=\"data/rprof_test.dat\")"
     ],
     "language": "python",
     "metadata": {},
     "outputs": [
      {
       "metadata": {},
       "output_type": "pyout",
       "prompt_number": 34,
       "text": [
        "$by.self\n",
        "                          self.time self.pct total.time total.pct\n",
        "\"as.character\"                 0.36    13.53       0.36     13.53\n",
        "\".External2\"                   0.26     9.77       0.60     22.56\n",
        "\"[.data.frame\"                 0.14     5.26       0.20      7.52\n",
        "\"FUN\"                          0.10     3.76       0.28     10.53\n",
        "\"match\"                        0.08     3.01       0.20      7.52\n",
        "\"%in%\"                         0.08     3.01       0.16      6.02\n",
        "\"model.frame.default\"          0.06     2.26       0.76     28.57\n",
        "\"[[.data.frame\"                0.06     2.26       0.22      8.27\n",
        "\"lm.fit\"                       0.06     2.26       0.22      8.27\n",
        "\"seq.default\"                  0.06     2.26       0.16      6.02\n",
        "\"vapply\"                       0.06     2.26       0.16      6.02\n",
        "\"as.list\"                      0.06     2.26       0.10      3.76\n",
        "\"makepredictcall\"              0.06     2.26       0.08      3.01\n",
        "\".Call\"                        0.06     2.26       0.06      2.26\n",
        "\".External\"                    0.06     2.26       0.06      2.26\n",
        "\"<Anonymous>\"                  0.04     1.50       2.66    100.00\n",
        "\"eval\"                         0.04     1.50       2.66    100.00\n",
        "\"lm\"                           0.04     1.50       2.42     90.98\n",
        "\"lapply\"                       0.04     1.50       0.34     12.78\n",
        "\"na.omit.data.frame\"           0.04     1.50       0.32     12.03\n",
        "\"pmin\"                         0.04     1.50       0.10      3.76\n",
        "\"unique\"                       0.04     1.50       0.08      3.01\n",
        "\"attr\"                         0.04     1.50       0.04      1.50\n",
        "\"dim\"                          0.04     1.50       0.04      1.50\n",
        "\"structure\"                    0.04     1.50       0.04      1.50\n",
        "\"sum\"                          0.04     1.50       0.04      1.50\n",
        "\"model.matrix.default\"         0.02     0.75       0.54     20.30\n",
        "\"sapply\"                       0.02     0.75       0.44     16.54\n",
        "\"na.omit\"                      0.02     0.75       0.34     12.78\n",
        "\"[[\"                           0.02     0.75       0.24      9.02\n",
        "\"[\"                            0.02     0.75       0.22      8.27\n",
        "\"paste\"                        0.02     0.75       0.18      6.77\n",
        "\"deparse\"                      0.02     0.75       0.16      6.02\n",
        "\".getXlevels\"                  0.02     0.75       0.16      6.02\n",
        "\"$.data.frame\"                 0.02     0.75       0.12      4.51\n",
        "\".deparseOpts\"                 0.02     0.75       0.10      3.76\n",
        "\"::\"                           0.02     0.75       0.08      3.01\n",
        "\"as.list.data.frame\"           0.02     0.75       0.04      1.50\n",
        "\"getInternalExportName\"        0.02     0.75       0.04      1.50\n",
        "\"sys.call\"                     0.02     0.75       0.04      1.50\n",
        "\"unlist\"                       0.02     0.75       0.04      1.50\n",
        "\"$<-\"                          0.02     0.75       0.02      0.75\n",
        "\"all\"                          0.02     0.75       0.02      0.75\n",
        "\"anyNA\"                        0.02     0.75       0.02      0.75\n",
        "\"c\"                            0.02     0.75       0.02      0.75\n",
        "\"get\"                          0.02     0.75       0.02      0.75\n",
        "\"getNamespace\"                 0.02     0.75       0.02      0.75\n",
        "\"length\"                       0.02     0.75       0.02      0.75\n",
        "\"makepredictcall.default\"      0.02     0.75       0.02      0.75\n",
        "\"match.fun\"                    0.02     0.75       0.02      0.75\n",
        "\"names\"                        0.02     0.75       0.02      0.75\n",
        "\"NROW\"                         0.02     0.75       0.02      0.75\n",
        "\"pmatch\"                       0.02     0.75       0.02      0.75\n",
        "\"rep.int\"                      0.02     0.75       0.02      0.75\n",
        "\".subset2\"                     0.02     0.75       0.02      0.75\n",
        "\"sys.parent\"                   0.02     0.75       0.02      0.75\n",
        "\"terms\"                        0.02     0.75       0.02      0.75\n",
        "\"unclass\"                      0.02     0.75       0.02      0.75\n",
        "\"unique.default\"               0.02     0.75       0.02      0.75\n",
        "\n",
        "$by.total\n",
        "                          total.time total.pct self.time self.pct\n",
        "\"<Anonymous>\"                   2.66    100.00      0.04     1.50\n",
        "\"eval\"                          2.66    100.00      0.04     1.50\n",
        "\"doTryCatch\"                    2.66    100.00      0.00     0.00\n",
        "\"evaluate\"                      2.66    100.00      0.00     0.00\n",
        "\"evaluate_call\"                 2.66    100.00      0.00     0.00\n",
        "\"handle\"                        2.66    100.00      0.00     0.00\n",
        "\"handle_shell\"                  2.66    100.00      0.00     0.00\n",
        "\"try\"                           2.66    100.00      0.00     0.00\n",
        "\"tryCatch\"                      2.66    100.00      0.00     0.00\n",
        "\"tryCatchList\"                  2.66    100.00      0.00     0.00\n",
        "\"tryCatchOne\"                   2.66    100.00      0.00     0.00\n",
        "\"withCallingHandlers\"           2.66    100.00      0.00     0.00\n",
        "\"withVisible\"                   2.66    100.00      0.00     0.00\n",
        "\"lm\"                            2.42     90.98      0.04     1.50\n",
        "\"model.frame.default\"           0.76     28.57      0.06     2.26\n",
        "\".External2\"                    0.60     22.56      0.26     9.77\n",
        "\"model.matrix.default\"          0.54     20.30      0.02     0.75\n",
        "\"model.matrix\"                  0.54     20.30      0.00     0.00\n",
        "\"sapply\"                        0.44     16.54      0.02     0.75\n",
        "\"as.character\"                  0.36     13.53      0.36    13.53\n",
        "\"model.response\"                0.36     13.53      0.00     0.00\n",
        "\"lapply\"                        0.34     12.78      0.04     1.50\n",
        "\"na.omit\"                       0.34     12.78      0.02     0.75\n",
        "\"na.omit.data.frame\"            0.32     12.03      0.04     1.50\n",
        "\"FUN\"                           0.28     10.53      0.10     3.76\n",
        "\"[[\"                            0.24      9.02      0.02     0.75\n",
        "\"[[.data.frame\"                 0.22      8.27      0.06     2.26\n",
        "\"lm.fit\"                        0.22      8.27      0.06     2.26\n",
        "\"[\"                             0.22      8.27      0.02     0.75\n",
        "\"[.data.frame\"                  0.20      7.52      0.14     5.26\n",
        "\"match\"                         0.20      7.52      0.08     3.01\n",
        "\"paste\"                         0.18      6.77      0.02     0.75\n",
        "\"%in%\"                          0.16      6.02      0.08     3.01\n",
        "\"seq.default\"                   0.16      6.02      0.06     2.26\n",
        "\"vapply\"                        0.16      6.02      0.06     2.26\n",
        "\"deparse\"                       0.16      6.02      0.02     0.75\n",
        "\".getXlevels\"                   0.16      6.02      0.02     0.75\n",
        "\"as.vector\"                     0.16      6.02      0.00     0.00\n",
        "\"seq\"                           0.16      6.02      0.00     0.00\n",
        "\"$.data.frame\"                  0.12      4.51      0.02     0.75\n",
        "\"$\"                             0.12      4.51      0.00     0.00\n",
        "\"as.list\"                       0.10      3.76      0.06     2.26\n",
        "\"pmin\"                          0.10      3.76      0.04     1.50\n",
        "\".deparseOpts\"                  0.10      3.76      0.02     0.75\n",
        "\"model.offset\"                  0.10      3.76      0.00     0.00\n",
        "\"simplify2array\"                0.10      3.76      0.00     0.00\n",
        "\"makepredictcall\"               0.08      3.01      0.06     2.26\n",
        "\"unique\"                        0.08      3.01      0.04     1.50\n",
        "\"::\"                            0.08      3.01      0.02     0.75\n",
        "\".Call\"                         0.06      2.26      0.06     2.26\n",
        "\".External\"                     0.06      2.26      0.06     2.26\n",
        "\"getExportedValue\"              0.06      2.26      0.00     0.00\n",
        "\"model.weights\"                 0.06      2.26      0.00     0.00\n",
        "\"rnorm\"                         0.06      2.26      0.00     0.00\n",
        "\"attr\"                          0.04      1.50      0.04     1.50\n",
        "\"dim\"                           0.04      1.50      0.04     1.50\n",
        "\"structure\"                     0.04      1.50      0.04     1.50\n",
        "\"sum\"                           0.04      1.50      0.04     1.50\n",
        "\"as.list.data.frame\"            0.04      1.50      0.02     0.75\n",
        "\"getInternalExportName\"         0.04      1.50      0.02     0.75\n",
        "\"sys.call\"                      0.04      1.50      0.02     0.75\n",
        "\"unlist\"                        0.04      1.50      0.02     0.75\n",
        "\"match.call\"                    0.04      1.50      0.00     0.00\n",
        "\"$<-\"                           0.02      0.75      0.02     0.75\n",
        "\"all\"                           0.02      0.75      0.02     0.75\n",
        "\"anyNA\"                         0.02      0.75      0.02     0.75\n",
        "\"c\"                             0.02      0.75      0.02     0.75\n",
        "\"get\"                           0.02      0.75      0.02     0.75\n",
        "\"getNamespace\"                  0.02      0.75      0.02     0.75\n",
        "\"length\"                        0.02      0.75      0.02     0.75\n",
        "\"makepredictcall.default\"       0.02      0.75      0.02     0.75\n",
        "\"match.fun\"                     0.02      0.75      0.02     0.75\n",
        "\"names\"                         0.02      0.75      0.02     0.75\n",
        "\"NROW\"                          0.02      0.75      0.02     0.75\n",
        "\"pmatch\"                        0.02      0.75      0.02     0.75\n",
        "\"rep.int\"                       0.02      0.75      0.02     0.75\n",
        "\".subset2\"                      0.02      0.75      0.02     0.75\n",
        "\"sys.parent\"                    0.02      0.75      0.02     0.75\n",
        "\"terms\"                         0.02      0.75      0.02     0.75\n",
        "\"unclass\"                       0.02      0.75      0.02     0.75\n",
        "\"unique.default\"                0.02      0.75      0.02     0.75\n",
        "\"asNamespace\"                   0.02      0.75      0.00     0.00\n",
        "\"logical\"                       0.02      0.75      0.00     0.00\n",
        "\"ncol\"                          0.02      0.75      0.00     0.00\n",
        "\"nrow\"                          0.02      0.75      0.00     0.00\n",
        "\n",
        "$sample.interval\n",
        "[1] 0.02\n",
        "\n",
        "$sampling.time\n",
        "[1] 2.66\n"
       ]
      }
     ],
     "prompt_number": 34
    },
    {
     "cell_type": "markdown",
     "metadata": {},
     "source": [
      "<a id=\"r-optim\"></a>\n",
      "# 11. Optimization in R\n",
      "\n",
      "* **optim()**, **nlm()**, **optimize()**\n",
      "\n",
      "* Pass them a function and a vector of parameters. \n",
      "* We can hold some parameters fixed, by *fixed=c(F, T)*\n",
      "\n",
      "**Example: maximize log-likelihood** "
     ]
    },
    {
     "cell_type": "code",
     "collapsed": false,
     "input": [
      "## define a constructor function:\n",
      "make.NegLogLik <- function(data, fixed=c(FALSE, FALSE)) {\n",
      "    params <- fixed\n",
      "    function(p) {\n",
      "        params[!fixed] <- p\n",
      "        mu <- params[1]\n",
      "        sigma <- params[2]\n",
      "        a <- -0.5 * length(data) * log(2*pi*sigma^2)\n",
      "        b <- -0.5 * sum((data-mu)^2) / (sigma^2)\n",
      "        -(a + b)\n",
      "    }\n",
      "}\n",
      "\n",
      "# Generate a random dataset with normal distribution\n",
      "d <- rnorm(n=1000, mean=2, sd=3)\n",
      "nLL <- make.NegLogLik(d)\n",
      "nLL\n",
      "ls(environment(nLL))"
     ],
     "language": "python",
     "metadata": {},
     "outputs": [
      {
       "metadata": {},
       "output_type": "pyout",
       "prompt_number": 15,
       "text": [
        "function(p) {\n",
        "        params[!fixed] <- p\n",
        "        mu <- params[1]\n",
        "        sigma <- params[2]\n",
        "        a <- -0.5 * length(data) * log(2*pi*sigma^2)\n",
        "        b <- -0.5 * sum((data-mu)^2) / (sigma^2)\n",
        "        -(a + b)\n",
        "    }\n",
        "<environment: 0x25eaa28>"
       ]
      },
      {
       "metadata": {},
       "output_type": "pyout",
       "prompt_number": 15,
       "text": [
        "[1] \"data\"   \"fixed\"  \"params\""
       ]
      }
     ],
     "prompt_number": 15
    },
    {
     "cell_type": "code",
     "collapsed": false,
     "input": [
      "## Minimze Neative of log-likelihood\n",
      "optim(c(mu=0, sigma=1), nLL)$par"
     ],
     "language": "python",
     "metadata": {},
     "outputs": [
      {
       "metadata": {},
       "output_type": "pyout",
       "prompt_number": 4,
       "text": [
        "      mu    sigma \n",
        "2.172181 3.037730 "
       ]
      }
     ],
     "prompt_number": 4
    },
    {
     "cell_type": "markdown",
     "metadata": {},
     "source": [
      "<a id=\"plot-loglik\"><a>\n",
      "\n",
      "Plot the **log-likelihood** function"
     ]
    },
    {
     "cell_type": "code",
     "collapsed": false,
     "input": [
      "## generate a range of possible values for mean\n",
      "x <- seq(1, 3, len=100)\n",
      "## when fixing sigma, use the true value\n",
      "nLL.mean <- make.NegLogLik(d, fixed=c(FALSE, 3)) \n",
      "y <- sapply(x, nLL.mean)\n",
      "\n",
      "#windows.options(width=40, height=10)\n",
      "#layout(matrix(c(1,2), 1, 2, byrow = TRUE),\n",
      "#   widths=c(5,5), heights=c(1,1))\n",
      "\n",
      "\n",
      "\n",
      "par(mar=c(4.7, 4.7, 0.7, 0.7), mfrow=c(1,2))\n",
      "plot(x, -(y-min(y)), type=\"l\", lwd=4, col=\"steelblue\", \n",
      "     cex.axis=1.7, cex.lab=1.7, xlab=expression(mu), ylab=\"log-likelihood\")\n",
      "plot(x, exp(-(y-min(y))), type=\"l\", lwd=4, col=\"steelblue\", \n",
      "     cex.axis=1.7, cex.lab=1.7, xlab=expression(mu), ylab=\"likelihood\")\n"
     ],
     "language": "python",
     "metadata": {},
     "outputs": [
      {
       "metadata": {},
       "output_type": "display_data",
       "png": "[encoded data removed]"
      }
     ],
     "prompt_number": 32
    },
    {
     "cell_type": "code",
     "collapsed": false,
     "input": [],
     "language": "python",
     "metadata": {},
     "outputs": []
    }
   ],
   "metadata": {}
  }
 ]
}