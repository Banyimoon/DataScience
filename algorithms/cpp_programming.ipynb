{
 "cells": [
  {
   "cell_type": "markdown",
   "metadata": {},
   "source": [
    "## Standard Template Library\n",
    "\n",
    "### vector vs. array\n",
    "\n",
    " **Why vector instead of array?**\n",
    " \n",
    "  * Arrays do not support copying wirh `=`\n",
    "  * Arrays do not support comparison with `==`\n",
    "  * Arrays do not remember their size\n",
    "  * Arrays do not check if the index is valid or no\n",
    "  \n",
    "\n",
    "Different ways of initializing vectors:\n",
    "\n",
    "```c++\n",
    "\n",
    "   /*** array initialization ***/\n",
    "   int array[] = {1,2,3,4,5,6,7,8,9,10};\n",
    "\n",
    "   /*** vector initialization ***/\n",
    "   vector<int> v1 {10}; // v1 has size=1, with first element=10\n",
    "   vector<int> v1 (10); // v1 has size=10\n",
    "```\n",
    "\n",
    "### string class vs. built-in string\n"
   ]
  },
  {
   "cell_type": "code",
   "execution_count": null,
   "metadata": {
    "collapsed": true
   },
   "outputs": [],
   "source": []
  }
 ],
 "metadata": {
  "kernelspec": {
   "display_name": "Python 3",
   "language": "python",
   "name": "python3"
  }
 },
 "nbformat": 4,
 "nbformat_minor": 0
}
