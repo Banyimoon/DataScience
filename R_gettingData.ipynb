{
 "metadata": {
  "name": "",
  "signature": "sha256:1693133e63daec59627f96da31f52ec803a735ec619d3cfdee920c592f75e266"
 },
 "nbformat": 3,
 "nbformat_minor": 0,
 "worksheets": [
  {
   "cells": [
    {
     "cell_type": "markdown",
     "metadata": {},
     "source": [
      "Getting and Cleaninig Data\n",
      "\n",
      "[1. Intro.](#intro)\n",
      "\n",
      "[2. Downloading Data](#downld)"
     ]
    },
    {
     "cell_type": "markdown",
     "metadata": {},
     "source": [
      "<a id=\"intro\"></a>\n",
      "# 1. Introduction\n",
      "\n",
      "Motivation:\n",
      "\n",
      " 1. Finding and exctracting data from various sources\n",
      " 2. Pronciples of tidy data, and how to make data tidy\n",
      " 3. Practical implementation through a range of R packages\n",
      " \n",
      " \n",
      "  ** Raw Data -> Processing script -> tidy data ** -> data analysis -> data communication\n",
      " \n",
      " \n",
      " * All processing steps should be recorded"
     ]
    },
    {
     "cell_type": "markdown",
     "metadata": {},
     "source": [
      "<a id=\"downld\"></a>\n",
      "# Downloading Data\n",
      "\n",
      "* File and directory handling:\n",
      "\n",
      "**setwd(), getwd()**\n",
      "\n",
      "**file.exists(\"directoryName\")**\n",
      "\n",
      "**dir.create(\"directoryName\")**\n"
     ]
    },
    {
     "cell_type": "code",
     "collapsed": false,
     "input": [
      "if (!file.exists(\"data/\")) {\n",
      "    dir.create(\"data/\")\n",
      "}"
     ],
     "language": "python",
     "metadata": {},
     "outputs": [],
     "prompt_number": 4
    },
    {
     "cell_type": "markdown",
     "metadata": {},
     "source": [
      "**download.file()** to download a file from internet"
     ]
    },
    {
     "cell_type": "code",
     "collapsed": false,
     "input": [
      "fileUrl <- \"http://www.brianknaus.com/software/srtoolbox/s_4_1_sequence80.txt\"\n",
      "download.file(fileUrl, destfile=\"\")"
     ],
     "language": "python",
     "metadata": {},
     "outputs": []
    },
    {
     "cell_type": "code",
     "collapsed": false,
     "input": [
      "ucscDb <- dbConnect(MySQL(), user=\"genome\", host=\"genome-mysql.cse.ucsc.edu\")\n",
      "result <- dbGetQuery(ucscDb, \"show databases;\")\n",
      "dbDisconnect(ucscDb)\n",
      "result"
     ],
     "language": "python",
     "metadata": {},
     "outputs": [
      {
       "ename": "ERROR",
       "evalue": "Error in eval(expr, envir, enclos): could not find function \"dbConnect\"\n",
       "output_type": "pyerr",
       "traceback": [
        "Error in eval(expr, envir, enclos): could not find function \"dbConnect\"\n"
       ]
      },
      {
       "ename": "ERROR",
       "evalue": "Error in eval(expr, envir, enclos): could not find function \"dbGetQuery\"\n",
       "output_type": "pyerr",
       "traceback": [
        "Error in eval(expr, envir, enclos): could not find function \"dbGetQuery\"\n"
       ]
      },
      {
       "ename": "ERROR",
       "evalue": "Error in eval(expr, envir, enclos): could not find function \"dbDisconnect\"\n",
       "output_type": "pyerr",
       "traceback": [
        "Error in eval(expr, envir, enclos): could not find function \"dbDisconnect\"\n"
       ]
      },
      {
       "ename": "ERROR",
       "evalue": "Error in eval(expr, envir, enclos): object 'result' not found\n",
       "output_type": "pyerr",
       "traceback": [
        "Error in eval(expr, envir, enclos): object 'result' not found\n"
       ]
      }
     ],
     "prompt_number": 1
    },
    {
     "cell_type": "code",
     "collapsed": false,
     "input": [],
     "language": "python",
     "metadata": {},
     "outputs": []
    },
    {
     "cell_type": "code",
     "collapsed": false,
     "input": [],
     "language": "python",
     "metadata": {},
     "outputs": []
    },
    {
     "cell_type": "markdown",
     "metadata": {},
     "source": [
      "## Merging data - merge()"
     ]
    },
    {
     "cell_type": "code",
     "collapsed": false,
     "input": [
      "mergedData <- merge(reviews, solutions, by.x=\"solution_id\", by.y=\"id\",\n",
      "                    all=T)\n"
     ],
     "language": "python",
     "metadata": {},
     "outputs": []
    }
   ],
   "metadata": {}
  }
 ]
}