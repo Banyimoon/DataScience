{
 "cells": [
  {
   "cell_type": "code",
   "execution_count": 76,
   "metadata": {
    "collapsed": false
   },
   "outputs": [],
   "source": [
    "import numpy as np\n",
    "import matplotlib.pyplot as plt\n",
    "\n",
    "%matplotlib inline\n",
    "\n",
    "def plotFaceShape(shape):\n",
    "    plt.plot(shape[0:15, 0], shape[0:15, 1])\n",
    "    plt.plot(shape[0:15, 0], shape[0:15, 1], 'bo')\n",
    "    \n",
    "    plt.plot(shape[15:21,0], shape[15:21, 1], 'g')\n",
    "    plt.plot(shape[15:21,0], shape[15:21, 1], 'go')\n",
    "    plt.plot(shape[21:27,0], shape[21:27, 1], 'g')\n",
    "    plt.plot(shape[21:27,0], shape[21:27, 1], 'go')\n",
    "    \n",
    "    plt.plot(shape[27:31,0], shape[27:31, 1], 'r')\n",
    "    plt.plot(shape[27:31,0], shape[27:31, 1], 'ro')\n",
    "    plt.plot(shape[32:36,0], shape[32:36, 1], 'r')\n",
    "    plt.plot(shape[32:36,0], shape[32:36, 1], 'ro')\n",
    "    plt.plot(shape[68:72,0], shape[68:72, 1], 'r')\n",
    "    plt.plot(shape[68:72,0], shape[68:72, 1], 'ro')\n",
    "    plt.plot(shape[72:76,0], shape[72:76, 1], 'r')\n",
    "    plt.plot(shape[72:76,0], shape[72:76, 1], 'ro')\n",
    "    \n",
    "\n",
    "    plt.plot(shape[37:46,0], shape[37:46, 1], 'y')\n",
    "    plt.plot(shape[37:46,0], shape[37:46, 1], 'yo')\n",
    "\n",
    "    plt.plot(shape[48:60,0], shape[48:60, 1], 'c')\n",
    "    plt.plot(shape[48:60,0], shape[48:60, 1], 'co')\n",
    "    plt.plot(shape[60:66,0], shape[60:66, 1], 'c')\n",
    "    plt.plot(shape[60:66,0], shape[60:66, 1], 'co')\n",
    "    \n",
    "    extra_points = np.array([31,36,66,67])\n",
    "    plt.plot(shape[extra_points,0], shape[extra_points,1], 'y*')\n",
    "    \n",
    "def plotFaceShapeFromStasm(shape):\n",
    "    plt.plot(shape[0:16, 0], shape[0:16, 1])\n",
    "    plt.plot(shape[0:16, 0], shape[0:16, 1], 'bo')\n",
    "    \n",
    "    plt.plot(shape[16:22,0], shape[16:22, 1], 'g')\n",
    "    plt.plot(shape[16:22,0], shape[16:22, 1], 'go')\n",
    "    plt.plot(shape[22:28,0], shape[22:28, 1], 'g')\n",
    "    plt.plot(shape[22:28,0], shape[22:28, 1], 'go')\n",
    "    \n",
    "    plt.plot(shape[30:39,0], shape[30:39, 1], 'r')\n",
    "    plt.plot(shape[30:39,0], shape[30:39, 1], 'ro')\n",
    "    plt.plot(shape[39:48,0], shape[39:48, 1], 'r')\n",
    "    plt.plot(shape[39:48,0], shape[39:48, 1], 'ro')\n",
    "    plt.plot(shape[49:59,0], shape[49:59, 1], 'y')\n",
    "    plt.plot(shape[49:59,0], shape[49:59, 1], 'yo')\n",
    "    plt.plot(shape[59:77,0], shape[59:77, 1], 'c')\n",
    "    plt.plot(shape[59:79,0], shape[59:77, 1], 'co')\n",
    "    \n"
   ]
  },
  {
   "cell_type": "code",
   "execution_count": 65,
   "metadata": {
    "collapsed": false
   },
   "outputs": [
    {
     "ename": "SyntaxError",
     "evalue": "invalid syntax (<ipython-input-65-26cefd6d8dec>, line 1)",
     "output_type": "error",
     "traceback": [
      "\u001b[1;36m  File \u001b[1;32m\"<ipython-input-65-26cefd6d8dec>\"\u001b[1;36m, line \u001b[1;32m1\u001b[0m\n\u001b[1;33m    np.concatenate(([0:5]), [7]))\u001b[0m\n\u001b[1;37m                      ^\u001b[0m\n\u001b[1;31mSyntaxError\u001b[0m\u001b[1;31m:\u001b[0m invalid syntax\n"
     ]
    }
   ],
   "source": [
    "np.concatenate(([0:5]), [7]))"
   ]
  },
  {
   "cell_type": "markdown",
   "metadata": {},
   "source": [
    "**Procrustes Analysis:**\n",
    "\n",
    "  1. Translate each example such that its  centroid is at origin, and scale them so that $|\\mathbf{x}|=1$\n",
    "  2. Choose the first example as the initial estimate of the mean shape ($\\bar{\\mathbf{x}}$), and save a copy as a reference ($\\mathbf{\\bar{x}_0}$)\n",
    "  3. Align all the examples with the current estimate of the mean ($\\bar{\\mathbf{x}}$)\n",
    "  4. Re-estimate mean from the aligned shapes\n",
    "  5. Apply constraints on the current estiate of the mean by aligning it with reference $\\mathbf{\\bar{x}_0}$ and scaling so that $|\\bar{\\mathbf{x}}|=1$\n",
    "  6. Repeat steps 3, 4, 5 until convergence"
   ]
  },
  {
   "cell_type": "code",
   "execution_count": 68,
   "metadata": {
    "collapsed": false
   },
   "outputs": [
    {
     "data": {
      "text/html": [
       "<div>\n",
       "<table border=\"1\" class=\"dataframe\">\n",
       "  <thead>\n",
       "    <tr style=\"text-align: right;\">\n",
       "      <th></th>\n",
       "      <th>2</th>\n",
       "      <th>3</th>\n",
       "      <th>4</th>\n",
       "      <th>5</th>\n",
       "      <th>6</th>\n",
       "      <th>7</th>\n",
       "      <th>8</th>\n",
       "      <th>9</th>\n",
       "      <th>10</th>\n",
       "      <th>11</th>\n",
       "      <th>...</th>\n",
       "      <th>146</th>\n",
       "      <th>147</th>\n",
       "      <th>148</th>\n",
       "      <th>149</th>\n",
       "      <th>150</th>\n",
       "      <th>151</th>\n",
       "      <th>152</th>\n",
       "      <th>153</th>\n",
       "      <th>154</th>\n",
       "      <th>155</th>\n",
       "    </tr>\n",
       "  </thead>\n",
       "  <tbody>\n",
       "    <tr>\n",
       "      <th>0</th>\n",
       "      <td>344.0</td>\n",
       "      <td>188.0</td>\n",
       "      <td>375.0</td>\n",
       "      <td>191.0</td>\n",
       "      <td>404.0</td>\n",
       "      <td>196.0</td>\n",
       "      <td>432.0</td>\n",
       "      <td>205.0</td>\n",
       "      <td>467.0</td>\n",
       "      <td>227.0</td>\n",
       "      <td>...</td>\n",
       "      <td>440.0</td>\n",
       "      <td>320.0</td>\n",
       "      <td>449.0</td>\n",
       "      <td>308.0</td>\n",
       "      <td>452.0</td>\n",
       "      <td>292.0</td>\n",
       "      <td>451.0</td>\n",
       "      <td>276.0</td>\n",
       "      <td>444.0</td>\n",
       "      <td>261.0</td>\n",
       "    </tr>\n",
       "    <tr>\n",
       "      <th>1</th>\n",
       "      <td>352.0</td>\n",
       "      <td>149.0</td>\n",
       "      <td>385.0</td>\n",
       "      <td>152.0</td>\n",
       "      <td>416.0</td>\n",
       "      <td>156.0</td>\n",
       "      <td>447.0</td>\n",
       "      <td>165.0</td>\n",
       "      <td>482.0</td>\n",
       "      <td>188.0</td>\n",
       "      <td>...</td>\n",
       "      <td>456.0</td>\n",
       "      <td>285.0</td>\n",
       "      <td>464.0</td>\n",
       "      <td>274.0</td>\n",
       "      <td>466.0</td>\n",
       "      <td>259.0</td>\n",
       "      <td>464.0</td>\n",
       "      <td>243.0</td>\n",
       "      <td>457.0</td>\n",
       "      <td>228.0</td>\n",
       "    </tr>\n",
       "    <tr>\n",
       "      <th>2</th>\n",
       "      <td>352.0</td>\n",
       "      <td>206.0</td>\n",
       "      <td>385.0</td>\n",
       "      <td>207.0</td>\n",
       "      <td>417.0</td>\n",
       "      <td>210.0</td>\n",
       "      <td>448.0</td>\n",
       "      <td>219.0</td>\n",
       "      <td>479.0</td>\n",
       "      <td>242.0</td>\n",
       "      <td>...</td>\n",
       "      <td>451.0</td>\n",
       "      <td>332.0</td>\n",
       "      <td>459.0</td>\n",
       "      <td>321.0</td>\n",
       "      <td>461.0</td>\n",
       "      <td>308.0</td>\n",
       "      <td>460.0</td>\n",
       "      <td>293.0</td>\n",
       "      <td>453.0</td>\n",
       "      <td>280.0</td>\n",
       "    </tr>\n",
       "    <tr>\n",
       "      <th>3</th>\n",
       "      <td>315.0</td>\n",
       "      <td>150.0</td>\n",
       "      <td>346.0</td>\n",
       "      <td>149.0</td>\n",
       "      <td>374.0</td>\n",
       "      <td>151.0</td>\n",
       "      <td>402.0</td>\n",
       "      <td>155.0</td>\n",
       "      <td>443.0</td>\n",
       "      <td>174.0</td>\n",
       "      <td>...</td>\n",
       "      <td>416.0</td>\n",
       "      <td>273.0</td>\n",
       "      <td>421.0</td>\n",
       "      <td>261.0</td>\n",
       "      <td>422.0</td>\n",
       "      <td>246.0</td>\n",
       "      <td>420.0</td>\n",
       "      <td>230.0</td>\n",
       "      <td>415.0</td>\n",
       "      <td>216.0</td>\n",
       "    </tr>\n",
       "    <tr>\n",
       "      <th>4</th>\n",
       "      <td>370.0</td>\n",
       "      <td>195.0</td>\n",
       "      <td>398.0</td>\n",
       "      <td>199.0</td>\n",
       "      <td>426.0</td>\n",
       "      <td>204.0</td>\n",
       "      <td>455.0</td>\n",
       "      <td>214.0</td>\n",
       "      <td>482.0</td>\n",
       "      <td>231.0</td>\n",
       "      <td>...</td>\n",
       "      <td>467.0</td>\n",
       "      <td>314.0</td>\n",
       "      <td>476.0</td>\n",
       "      <td>302.0</td>\n",
       "      <td>478.0</td>\n",
       "      <td>287.0</td>\n",
       "      <td>476.0</td>\n",
       "      <td>271.0</td>\n",
       "      <td>467.0</td>\n",
       "      <td>257.0</td>\n",
       "    </tr>\n",
       "  </tbody>\n",
       "</table>\n",
       "<p>5 rows × 154 columns</p>\n",
       "</div>"
      ],
      "text/plain": [
       "     2      3      4      5      6      7      8      9      10     11   \\\n",
       "0  344.0  188.0  375.0  191.0  404.0  196.0  432.0  205.0  467.0  227.0   \n",
       "1  352.0  149.0  385.0  152.0  416.0  156.0  447.0  165.0  482.0  188.0   \n",
       "2  352.0  206.0  385.0  207.0  417.0  210.0  448.0  219.0  479.0  242.0   \n",
       "3  315.0  150.0  346.0  149.0  374.0  151.0  402.0  155.0  443.0  174.0   \n",
       "4  370.0  195.0  398.0  199.0  426.0  204.0  455.0  214.0  482.0  231.0   \n",
       "\n",
       "   ...      146    147    148    149    150    151    152    153    154    155  \n",
       "0  ...    440.0  320.0  449.0  308.0  452.0  292.0  451.0  276.0  444.0  261.0  \n",
       "1  ...    456.0  285.0  464.0  274.0  466.0  259.0  464.0  243.0  457.0  228.0  \n",
       "2  ...    451.0  332.0  459.0  321.0  461.0  308.0  460.0  293.0  453.0  280.0  \n",
       "3  ...    416.0  273.0  421.0  261.0  422.0  246.0  420.0  230.0  415.0  216.0  \n",
       "4  ...    467.0  314.0  476.0  302.0  478.0  287.0  476.0  271.0  467.0  257.0  \n",
       "\n",
       "[5 rows x 154 columns]"
      ]
     },
     "execution_count": 68,
     "metadata": {},
     "output_type": "execute_result"
    }
   ],
   "source": [
    "import pandas\n",
    "\n",
    "df = pandas.read_csv('muct76_stasm-output.csv', header=None, usecols=np.arange(2,156), dtype=float)\n",
    "#df = pandas.read_csv('muct76-opencv.csv', header=0, usecols=np.arange(2,154), dtype=float)\n",
    "\n",
    "df.head()"
   ]
  },
  {
   "cell_type": "code",
   "execution_count": 69,
   "metadata": {
    "collapsed": false
   },
   "outputs": [
    {
     "data": {
      "text/plain": [
       "(3735, 154)"
      ]
     },
     "execution_count": 69,
     "metadata": {},
     "output_type": "execute_result"
    }
   ],
   "source": [
    "X = df.iloc[:, ::2].values\n",
    "Y = df.iloc[:, 1::2].values\n",
    "\n",
    "d = np.hstack((X,Y))\n",
    "d.shape"
   ]
  },
  {
   "cell_type": "code",
   "execution_count": 70,
   "metadata": {
    "collapsed": false
   },
   "outputs": [
    {
     "name": "stdout",
     "output_type": "stream",
     "text": [
      "pivot:  77\n",
      "pref:  (77, 2)\n",
      "SumError: 0.5695 MeanDiff: 0.000070\n",
      "SumError: 0.3118 MeanDiff: 0.000000\n"
     ]
    }
   ],
   "source": [
    "import sys\n",
    "threshold = 1.0e-8\n",
    "\n",
    "def center(vec):\n",
    "    pivot = int(vec.shape[0]/2)\n",
    "    meanx = np.mean(vec[:pivot])\n",
    "    meany = np.mean(vec[pivot:])\n",
    "    return(meanx, meany)\n",
    "\n",
    "def calnorm(vec):\n",
    "    vsqsum = np.sum(np.square(vec))\n",
    "    return(vsqsum)\n",
    "\n",
    "def scale(vec):\n",
    "    vcopy = vec.copy()\n",
    "    vmax = np.max(vec)\n",
    "    if vmax > 2.0:\n",
    "        vcopy = vcopy / vmax\n",
    "    vnorm = calnorm(vcopy)\n",
    "    return (vcopy / np.sqrt(vnorm))\n",
    "\n",
    "def caldiff(pref, pcmp):\n",
    "    return np.mean(np.sum(np.square(pref - pcmp), axis=1))\n",
    "\n",
    "def simTransform(pref, pcmp, showerror = False):\n",
    "    err_before = np.mean(np.sum(np.square(pref - pcmp), axis=1))\n",
    "    ref_mean = np.mean(pref, axis=0)\n",
    "    prefcentered = np.asmatrix(pref) - np.asmatrix(ref_mean)\n",
    "    \n",
    "    cmp_mean = np.mean(pcmp, axis=0)\n",
    "    pcmpcentered = np.asmatrix(pcmp) - np.asmatrix(cmp_mean)   \n",
    "    \n",
    "    Sxx = np.sum(np.square(pcmpcentered[:,0]))\n",
    "    Syy = np.sum(np.square(pcmpcentered[:,1]))\n",
    "    Sxxr = prefcentered[:,0].T * pcmpcentered[:,0] #(ref_x, x)\n",
    "    Syyr = prefcentered[:,1].T * pcmpcentered[:,1] #(ref_y, y)\n",
    "    Sxyr = prefcentered[:,1].T * pcmpcentered[:,0] #(ref_y, x)\n",
    "    Syxr = prefcentered[:,0].T * pcmpcentered[:,1] #(ref_x, y)\n",
    "    a = (Sxxr + Syyr)/(Sxx + Syy) #(Sxxr + Syyr) / (Sxx + Syy)\n",
    "    b = (Sxyr - Syxr) / (Sxx + Syy)\n",
    "    a = np.asscalar(a)\n",
    "    b = np.asscalar(b)\n",
    "    Rot = np.matrix([[a, -b],[b, a]])\n",
    "    translation = -Rot * np.asmatrix(cmp_mean).T + np.asmatrix(ref_mean).T\n",
    "    outx, outy = [], []\n",
    "    res = Rot * np.asmatrix(pcmp).T + translation\n",
    "    err_after = np.mean(np.sum(np.square(pref - res.T), axis=1))\n",
    "\n",
    "    if showerror:\n",
    "        print(\"Error before: %.4f    after: %.4f\\n\"%(err_before, err_after))\n",
    "    return (res.T, err_after)\n",
    "    \n",
    "    \n",
    "def align2mean(data):\n",
    "    d = data.copy()\n",
    "    pivot = int(d.shape[1]/2)\n",
    "    print(\"pivot: \", pivot)\n",
    "    for i in range(d.shape[0]):\n",
    "        cx, cy = center(d[i,:])\n",
    "        d[i,:pivot] = d[i,:pivot] - cx\n",
    "        d[i,pivot:] = d[i,pivot:] - cy\n",
    "        #print(cx, cy, center(d[i,:]))\n",
    "        d[i,:] = scale(d[i,:])\n",
    "        norm = calnorm(d[i,:])\n",
    "        \n",
    "    \n",
    "    d_aligned = d.copy()\n",
    "    pref = np.vstack((d[0,:pivot], d[0,pivot:])).T\n",
    "    print(\"pref: \", pref.shape)\n",
    "    mean = pref.copy()\n",
    "\n",
    "    mean_diff = 1\n",
    "    while mean_diff > threshold:\n",
    "        err_sum = 0.0\n",
    "        for i in range(1, d.shape[0]):\n",
    "            p = np.vstack((d[i,:pivot], d[i,pivot:])).T\n",
    "            p_aligned, err = simTransform(mean, p)\n",
    "            d_aligned[i,:] = scale(p_aligned.flatten(order='F'))\n",
    "            err_sum += err\n",
    "        \n",
    "        oldmean = mean.copy()\n",
    "        mean = np.mean(d_aligned, axis=0)\n",
    "        mean = scale(mean)\n",
    "        mean = np.reshape(mean, newshape=pref.shape, order='F')\n",
    "        d = d_aligned.copy()\n",
    "        mean_diff = caldiff(oldmean, mean)\n",
    "        sys.stdout.write(\"SumError: %.4f MeanDiff: %.6f\\n\"%(err_sum, mean_diff))\n",
    "\n",
    "    return (d_aligned, mean)\n",
    "        \n",
    "    \n",
    "d_aligned, mean = align2mean(d)"
   ]
  },
  {
   "cell_type": "code",
   "execution_count": 77,
   "metadata": {
    "collapsed": false
   },
   "outputs": [
    {
     "data": {
      "image/png": "[encoded data removed]",
      "text/plain": [
       "<matplotlib.figure.Figure at 0x7f1db74845c0>"
      ]
     },
     "metadata": {},
     "output_type": "display_data"
    }
   ],
   "source": [
    "plt.figure(figsize=(7,7))\n",
    "plt.gca().set_aspect('equal')\n",
    "plotFaceShapeFromStasm(mean)"
   ]
  },
  {
   "cell_type": "code",
   "execution_count": 57,
   "metadata": {
    "collapsed": false
   },
   "outputs": [
    {
     "data": {
      "image/png": "[encoded data removed]",
      "text/plain": [
       "<matplotlib.figure.Figure at 0x7f1db74a7b00>"
      ]
     },
     "metadata": {},
     "output_type": "display_data"
    }
   ],
   "source": [
    "alignedfaces = d_aligned\n",
    "\n",
    "\n",
    "plt.figure()\n",
    "plt.plot(alignedfaces[2,:76], alignedfaces[2,76:])\n",
    "plt.show()"
   ]
  },
  {
   "cell_type": "markdown",
   "metadata": {
    "collapsed": true
   },
   "source": [
    "## PCA"
   ]
  },
  {
   "cell_type": "code",
   "execution_count": 29,
   "metadata": {
    "collapsed": false
   },
   "outputs": [
    {
     "data": {
      "text/plain": [
       "(7510, 152)"
      ]
     },
     "execution_count": 29,
     "metadata": {},
     "output_type": "execute_result"
    }
   ],
   "source": [
    "d_aligned.shape"
   ]
  },
  {
   "cell_type": "code",
   "execution_count": 30,
   "metadata": {
    "collapsed": false
   },
   "outputs": [
    {
     "data": {
      "text/plain": [
       "PCA(copy=True, n_components=8, whiten=False)"
      ]
     },
     "execution_count": 30,
     "metadata": {},
     "output_type": "execute_result"
    }
   ],
   "source": [
    "from sklearn.decomposition import PCA\n",
    "\n",
    "pca = PCA(n_components=8)\n",
    "\n",
    "pca.fit(d_aligned)"
   ]
  },
  {
   "cell_type": "code",
   "execution_count": 31,
   "metadata": {
    "collapsed": false
   },
   "outputs": [
    {
     "name": "stdout",
     "output_type": "stream",
     "text": [
      "[ 0.3647211   0.24143537  0.08267473  0.05335566  0.05246151  0.04275283\n",
      "  0.02842993  0.02242577]\n"
     ]
    }
   ],
   "source": [
    "print(pca.explained_variance_ratio_) "
   ]
  },
  {
   "cell_type": "code",
   "execution_count": 32,
   "metadata": {
    "collapsed": false
   },
   "outputs": [
    {
     "name": "stdout",
     "output_type": "stream",
     "text": [
      "(152, 152)\n",
      "(152,) (152, 152)\n"
     ]
    }
   ],
   "source": [
    "cov_mat = np.cov(d_aligned.T)\n",
    "print(cov_mat.shape)\n",
    "\n",
    "eig_values, eig_vectors = np.linalg.eig(cov_mat)\n",
    "print(eig_values.shape, eig_vectors.shape)"
   ]
  },
  {
   "cell_type": "code",
   "execution_count": 33,
   "metadata": {
    "collapsed": false
   },
   "outputs": [
    {
     "data": {
      "text/plain": [
       "(152, 8)"
      ]
     },
     "execution_count": 33,
     "metadata": {},
     "output_type": "execute_result"
    }
   ],
   "source": [
    "num_eigs = 8\n",
    "Phi_matrix = eig_vectors[:,:num_eigs]\n",
    "\n",
    "Phi_matrix.shape"
   ]
  },
  {
   "cell_type": "markdown",
   "metadata": {},
   "source": [
    "### Solving *b* vector\n",
    "\n",
    "$$b = \\Phi^T \\left(x - \\bar{x}\\right)$$"
   ]
  },
  {
   "cell_type": "code",
   "execution_count": 38,
   "metadata": {
    "collapsed": false
   },
   "outputs": [
    {
     "data": {
      "text/plain": [
       "(7510, 8)"
      ]
     },
     "execution_count": 38,
     "metadata": {},
     "output_type": "execute_result"
    }
   ],
   "source": [
    "# * ()\n",
    "mean_matrix = np.reshape(mean, (152,1), 'F')\n",
    "d_aligned_matrix = np.matrix(d_aligned)\n",
    "delta = d_aligned_matrix.T - mean_matrix\n",
    "\n",
    "b = (np.matrix(Phi_matrix).T * delta).T\n",
    "b.shape"
   ]
  },
  {
   "cell_type": "code",
   "execution_count": 39,
   "metadata": {
    "collapsed": false
   },
   "outputs": [],
   "source": [
    "mean.dump('models/meanshape-ocvfmt.pkl')\n",
    "eig_vectors.dump('models/eigenvectors-ocvfmt.pkl')\n",
    "eig_values.dump('models/eigenvalues-ocvfmt.pkl')\n",
    "\n",
    "Phi_matrix.dump('models/phimatrix.pkl')\n",
    "b.dump('models/bvector.pkl')\n",
    "d_aligned.dump('models/alignedfaces.pkl')\n",
    "mean_matrix.dump('models/meanvector.pkl')"
   ]
  },
  {
   "cell_type": "code",
   "execution_count": null,
   "metadata": {
    "collapsed": true
   },
   "outputs": [],
   "source": []
  }
 ],
 "metadata": {
  "kernelspec": {
   "display_name": "Python 3",
   "language": "python",
   "name": "python3"
  },
  "language_info": {
   "codemirror_mode": {
    "name": "ipython",
    "version": 3
   },
   "file_extension": ".py",
   "mimetype": "text/x-python",
   "name": "python",
   "nbconvert_exporter": "python",
   "pygments_lexer": "ipython3",
   "version": "3.4.3"
  }
 },
 "nbformat": 4,
 "nbformat_minor": 0
}
