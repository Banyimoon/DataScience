{
 "cells": [
  {
   "cell_type": "markdown",
   "metadata": {},
   "source": [
    "Big Data Analytic Tools\n",
    "====="
   ]
  },
  {
   "cell_type": "markdown",
   "metadata": {},
   "source": [
    " **HBASE**: uses HDFS and MapReduce to organize data by columns\n",
    "\n",
    " **HIVE**: uses a meta store to apply schema information, to provide sql-like interface\n",
    "\n",
    " **PIG**: a scirpting language, providing more flexibility than SQL\n",
    "\n",
    " **SPARK**: a more general engine for programming with interface to HDFS, replacing MapReduce\n",
    "\n",
    " **SPLUNK**: focused on machine generated data"
   ]
  },
  {
   "cell_type": "markdown",
   "metadata": {
    "collapsed": true
   },
   "source": [
    "### HBASE\n",
    "\n",
    " Read and write to HDFS, read and write directly from user interface\n",
    " \n",
    " Key-value store, length of values can vary\n",
    " \n",
    " "
   ]
  },
  {
   "cell_type": "markdown",
   "metadata": {
    "collapsed": true
   },
   "source": [
    "### HIVE\n",
    "\n",
    "  A higher level data processing language\n",
    "\n",
    "  Managing strutured and unstructured data\n",
    "\n",
    "  Provess queries in a SQL-like language\n",
    "  \n",
    "  First developed at Facebook, now is an Apache software\n",
    "  \n",
    "  Features:\n",
    "    * OLAP (online analytical processing)\n",
    "    * SQL-like language for queries (HiveQL or HQL)\n",
    "    * Provides data warehouse infrastructure for hadoop\n",
    "    \n",
    "\n",
    "  Different data units:\n",
    "  \n",
    "  1. Tables: maps to HDFS directories\n",
    "  2. Partitions: maps to sub-directories under tables\n",
    "  3. Buckets: maps to files under each partition\n",
    "  "
   ]
  },
  {
   "cell_type": "markdown",
   "metadata": {},
   "source": [
    "HIVE data structures:\n",
    "\n",
    " * Associative arrays (map < key-type, value-type >)\n",
    " * Lists (list < element type >)\n",
    " * Structs"
   ]
  },
  {
   "cell_type": "code",
   "execution_count": null,
   "metadata": {
    "collapsed": true
   },
   "outputs": [],
   "source": []
  }
 ],
 "metadata": {
  "kernelspec": {
   "display_name": "Python 3",
   "language": "python",
   "name": "python3"
  },
  "language_info": {
   "codemirror_mode": {
    "name": "ipython",
    "version": 3
   },
   "file_extension": ".py",
   "mimetype": "text/x-python",
   "name": "python",
   "nbconvert_exporter": "python",
   "pygments_lexer": "ipython3",
   "version": "3.4.3"
  }
 },
 "nbformat": 4,
 "nbformat_minor": 0
}
