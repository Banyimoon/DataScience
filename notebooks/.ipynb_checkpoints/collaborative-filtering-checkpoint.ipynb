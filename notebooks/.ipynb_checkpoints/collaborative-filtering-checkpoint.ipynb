{
 "cells": [
  {
   "cell_type": "markdown",
   "metadata": {},
   "source": [
    "Collaborative Filtering\n",
    "==="
   ]
  },
  {
   "cell_type": "markdown",
   "metadata": {},
   "source": [
    "### User-based Nearest Neighbor\n",
    "\n",
    " * Find other users who are similar to the test case (person of interest)\n",
    "\n",
    "$$Pred(i) = \\bar{r}_u+\\frac{\\sum_{n\\in neighbors(u)} similarity(u,n).(r_{ni} - \\bar{r}_{n})}{\\sum_{n\\in neighbors(u)} similarity(u,n)}$$\n",
    "\n",
    " * $\\bar{r}_u$: average rating of user $u$"
   ]
  },
  {
   "cell_type": "markdown",
   "metadata": {},
   "source": [
    "### Item-based Nearest Neighbor\n",
    "\n",
    " * Find similar items\n",
    " \n",
    "$$Pred() = \\frac{\\sum_{j\\in ratedItems(u)} similarity(i,j).r_{uj}}{\\sum_{j\\in ratedItems(u)} similarity(i,j)}$$\n"
   ]
  },
  {
   "cell_type": "markdown",
   "metadata": {},
   "source": [
    "### Latent Factor (Matrix Factorization)\n",
    "\n",
    " * Rating matrix $A_{users \\times items}$\n",
    " * User feature matrix $U_{users \\times features}$\n",
    " * Item feature matrix $M_{items \\times features}$\n",
    " * Predicted matrix: $U\\times M^T$"
   ]
  },
  {
   "cell_type": "code",
   "execution_count": null,
   "metadata": {
    "collapsed": true
   },
   "outputs": [],
   "source": []
  }
 ],
 "metadata": {
  "kernelspec": {
   "display_name": "Python 3",
   "language": "python",
   "name": "python3"
  },
  "language_info": {
   "codemirror_mode": {
    "name": "ipython",
    "version": 3
   },
   "file_extension": ".py",
   "mimetype": "text/x-python",
   "name": "python",
   "nbconvert_exporter": "python",
   "pygments_lexer": "ipython3",
   "version": "3.5.1"
  }
 },
 "nbformat": 4,
 "nbformat_minor": 0
}
