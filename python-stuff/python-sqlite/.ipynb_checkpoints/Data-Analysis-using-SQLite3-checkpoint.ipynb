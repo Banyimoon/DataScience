{
 "cells": [
  {
   "cell_type": "markdown",
   "metadata": {},
   "source": [
    "Analyzing Data using Python and SQLite3\n",
    "==="
   ]
  },
  {
   "cell_type": "markdown",
   "metadata": {},
   "source": [
    "## SQLite basics\n",
    "\n",
    " * Create a connection\n",
    "   * `conn = sqlite3.connect('database_file')`\n",
    "   * `cur = conn.curser()`\n",
    " * Execute SQL commands\n",
    "   * execute: `cur.execute('SQL COMMANDS')`\n",
    "   * commit to save changes made to the database: `conn.commit()`\n",
    " * Retrieve results\n",
    "   * execute the retrieval query `cur.execute('SELECT QUERY')`\n",
    "   * Fetch the results\n",
    "     * Fetch all the results at once: `cur.fecthall()`\n",
    "     * Fetch only one result: `cur.fetchone()`\n",
    " * Close the connection\n",
    "   * `conn.close()`"
   ]
  },
  {
   "cell_type": "markdown",
   "metadata": {},
   "source": [
    "## Data types\n",
    "\n",
    "|Data Type|\tAffinity|\n",
    "|:--|:--:|\n",
    "|INT INTEGER TINYINT SMALLINT <br> MEDIUMINT BIGINT UNSIGNED<br> BIG INT INT2 INT8|\tINTEGER|\n",
    "|CHARACTER(20) VARCHAR(255) <br>VARYING CHARACTER(255) <br>NCHAR(55) NATIVE CHARACTER(70) <br> NVARCHAR(100) TEXT CLOB|\tTEXT|\n",
    "|BLOB no datatype specified\t|NONE|\n",
    "|REAL DOUBLE <br>DOUBLE PRECISION FLOAT\t|REAL|"
   ]
  },
  {
   "cell_type": "markdown",
   "metadata": {},
   "source": [
    "#### Example: create a table to store data from a textfile\n",
    "\n",
    " \n",
    " * First, create a connection"
   ]
  },
  {
   "cell_type": "code",
   "execution_count": 1,
   "metadata": {
    "collapsed": true
   },
   "outputs": [],
   "source": [
    "import sqlite3\n",
    "\n",
    "conn = sqlite3.connect('/tmp/election_tweets.sqlite')\n",
    "cur = conn.cursor()"
   ]
  },
  {
   "cell_type": "markdown",
   "metadata": {},
   "source": [
    " * Setup/create a table"
   ]
  },
  {
   "cell_type": "code",
   "execution_count": 2,
   "metadata": {
    "collapsed": false
   },
   "outputs": [],
   "source": [
    "cur.execute(\"DROP TABLE IF EXISTS Tweets\")\n",
    "\n",
    "cur.execute(\"CREATE TABLE Tweets(state VARCHAR(10), party VARCHAR(20), sentiment INT2)\")\n",
    "\n",
    "conn.commit()"
   ]
  },
  {
   "cell_type": "markdown",
   "metadata": {},
   "source": [
    " * Read data using pandas and store them in sqlite "
   ]
  },
  {
   "cell_type": "code",
   "execution_count": null,
   "metadata": {
    "collapsed": false
   },
   "outputs": [],
   "source": [
    "import pandas as pd\n",
    "\n",
    "reader = pd.read_table('http://vahidmirjalili.com/election-2016/opFromNLP-1.txt', \n",
    "                       sep='|', header=None, chunksize=100)\n",
    "\n",
    "sentiment={'Neutral':0,\n",
    "           'Positive':1,\n",
    "           'Negative':-1}\n",
    "\n",
    "for chunk in reader:\n",
    "    for i in range(chunk.shape[0]):\n",
    "        line = chunk.iloc[[i]].values[0]\n",
    "        cur.execute(\"INSERT INTO Tweets (state, party, sentiment) \\\n",
    "                    VALUES (?,?,?)\",\n",
    "                  (line[0], line[1], sentiment[line[2]]))\n",
    "    conn.commit()"
   ]
  },
  {
   "cell_type": "markdown",
   "metadata": {
    "collapsed": true
   },
   "source": [
    "## Summarizing Queries\n",
    "\n",
    " * Total number of tweets\n",
    "```sql\n",
    "SELECT COUNT(*) \n",
    "FROM Tweets;\n",
    "```\n",
    " * Total number of neutral/positive/negative tweets\n",
    "```sql\n",
    "SELECT sentiment,COUNT(*)\n",
    "FROM Tweets\n",
    "GROUP BY sentiment;\n",
    "```\n",
    " * Sum of sentiment values in each state for each party\n",
    "```sql\n",
    "SELECT state,pary,SUM(sentiment)\n",
    "FROM Tweets\n",
    "GROUP BY state,party;\n",
    "```"
   ]
  },
  {
   "cell_type": "code",
   "execution_count": null,
   "metadata": {
    "collapsed": true
   },
   "outputs": [],
   "source": []
  }
 ],
 "metadata": {
  "kernelspec": {
   "display_name": "Python 3",
   "language": "python",
   "name": "python3"
  },
  "language_info": {
   "codemirror_mode": {
    "name": "ipython",
    "version": 3
   },
   "file_extension": ".py",
   "mimetype": "text/x-python",
   "name": "python",
   "nbconvert_exporter": "python",
   "pygments_lexer": "ipython3",
   "version": "3.5.1"
  }
 },
 "nbformat": 4,
 "nbformat_minor": 0
}
