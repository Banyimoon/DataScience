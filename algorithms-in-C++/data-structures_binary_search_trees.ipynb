{
 "cells": [
  {
   "cell_type": "markdown",
   "metadata": {},
   "source": [
    "Binary Search Trees\n",
    "======"
   ]
  },
  {
   "cell_type": "markdown",
   "metadata": {},
   "source": [
    "\n",
    " * class BinaryNode\n",
    " * class BinarySearchNode\n",
    " * class BinarySearchTree\n",
    "\n",
    "```c++\n",
    "template<typename Type>\n",
    "class BinaryNode {\n",
    "    private:\n",
    "        Type _element;\n",
    "        Type *_left_node;\n",
    "        Type *_right_node;\n",
    "        \n",
    "    public:\n",
    "        BinaryNode(Type const &);\n",
    "        Type retrieve() const;\n",
    "        BinaryNode *left() const;\n",
    "        BinaryNode *right() const;\n",
    "        bool is_empty() const; \n",
    "        bool is_leaf() const;\n",
    "        int size() const;\n",
    "        int height() const;\n",
    "        void clear();\n",
    "};\n",
    "\n",
    "```\n",
    "\n",
    "**BinarySearchNode**\n",
    "\n",
    "```c++\n",
    "\n",
    "template <typename Comparable>\n",
    "class BinarySearchNode:public BinaryNode<Comparable> {\n",
    "    private:\n",
    "        using BinaryNode<Comparable>::_element;\n",
    "        using BinaryNode<Comparable>::_left_node;\n",
    "        using BinaryNode<Comparable>::_right_node;\n",
    "        \n",
    "    public:\n",
    "        BinarySearchNode(Type cnst &);\n",
    "        \n",
    "        BinarySearchNode *left() const;\n",
    "        BinarySearchNode *right() const;\n",
    "        Comparable front() const;\n",
    "        Comparable back() const;\n",
    "        bool find(Comparable const &);\n",
    "        \n",
    "        void clear();\n",
    "        void insert(Comparable const &);\n",
    "        void erase(Comparable const &, BinarySearchNode *&);\n",
    "        \n",
    "        friend class BinarySearchTree<Comparable>;\n",
    "}\n",
    "```"
   ]
  },
  {
   "cell_type": "markdown",
   "metadata": {},
   "source": []
  },
  {
   "cell_type": "markdown",
   "metadata": {},
   "source": [
    "### Member functions\n",
    "\n",
    "**Constructor**\n",
    "```c++\n",
    "template<typename Comparable>\n",
    "BinarySearchNode<Comparable>::BinarySearchNode(Comprable const & obj):\n",
    "    BinaryNode<Comparable> (obj) {\n",
    "    // empty constructor\n",
    "}\n",
    "```"
   ]
  },
  {
   "cell_type": "markdown",
   "metadata": {
    "collapsed": true
   },
   "source": [
    "### Finding Min and Max\n",
    "\n",
    "**Minimum: ** front of the left subtree\n",
    "\n",
    "**Maximum: ** back of the right subtree\n",
    "\n",
    "**front()**\n",
    "```c++\n",
    "template<typename Comparable>\n",
    "Comparable BinarySearchNode<Comparable>::front() {\n",
    "    if (is_empty()) \n",
    "        throw underflow();\n",
    "    return (left()->is_empty()) ? retrieve() : left()->front();\n",
    "}\n",
    "```\n",
    "\n",
    "**back()**\n",
    "```c++\n",
    "template<typename Comparable>\n",
    "Comparable BinarySearchNode<Comparable>::back() {\n",
    "    if (is_empty()) \n",
    "        throw underflow();\n",
    "    return (right()->is_empty()) ? retrieve() : right()->back();\n",
    "}\n",
    "\n",
    "```"
   ]
  },
  {
   "cell_type": "markdown",
   "metadata": {},
   "source": [
    "### Find if a value exists \n",
    "\n",
    "```c++\n",
    "    template<typename Type>\n",
    "    bool Binary_search_node<Type>::find(Type const &obj) const {\n",
    "    \n",
    "    }\n",
    "```"
   ]
  },
  {
   "cell_type": "markdown",
   "metadata": {},
   "source": [
    "### Insert\n",
    "\n",
    "```c++\n",
    "    template<typename Type>\n",
    "    void Binary_search_node<Type>::insert(Type const &obj) {\n",
    "        if (empty()) {\n",
    "        \n",
    "        } else if (obj < retriev()) {\n",
    "            return ..\n",
    "        } else if (obj > retrieve() ) {\n",
    "            return \n",
    "        }\n",
    "    }\n",
    "```"
   ]
  },
  {
   "cell_type": "markdown",
   "metadata": {},
   "source": [
    "### Erase\n",
    "\n",
    " * Recursive call `erase()` on either left or right subtrees.\n",
    " * Once you find the node that needs to be deleted, we have three cases\n",
    "   * deleting a leaf node\n",
    "   * deleting a full node\n",
    "   * deleting a node with only one child\n",
    "  \n",
    "\n",
    "```c++\n",
    "    template<typename Type>\n",
    "    bool Binary_search_node<Type>::erase(Type &obj, Binary_search_node *&ptr_to_this) {\n",
    "        if (empty()) {\n",
    "            return false;\n",
    "        } else if ( obj == retrieve() ) { // leaf node\n",
    "            if (is_leaf()) {\n",
    "                ptr_to_this = nullptr;\n",
    "                delete this;\n",
    "            } else if (!left()->empty() && !right()->empty()) { // full node\n",
    "                element = right()->front();   //min val in the right subtree -->  (logical successor)\n",
    "                right()->erase(retrieve(), right_tree);\n",
    "            } else { // only one child\n",
    "                ptr_to_this = (!left()->empty()) ? left() : right();\n",
    "                delete this;\n",
    "            }\n",
    "            \n",
    "            return true;\n",
    "        } else if (obj < retreive()) {\n",
    "            return left()->erase(obj, left_tree);\n",
    "        } else {\n",
    "            return right()->erase(obj, right_tree);\n",
    "        }\n",
    "    }\n",
    "```"
   ]
  },
  {
   "cell_type": "markdown",
   "metadata": {
    "collapsed": true
   },
   "source": [
    "In-order traversal of a binary search tree will result in sorting the elements.\n",
    "\n",
    "**Pre-order:**\n",
    "```c++\n",
    "void IntBinaryTree::displayPreOrder(TreeNode *tree) const {\n",
    "\n",
    "}\n",
    "```\n",
    "\n",
    "**Post-order:**\n",
    "```c++\n",
    "void IntBinaryTree::displayPostOrder(TreeNode *tree) const {\n",
    "\n",
    "}\n",
    "```"
   ]
  },
  {
   "cell_type": "code",
   "execution_count": null,
   "metadata": {
    "collapsed": true
   },
   "outputs": [],
   "source": []
  }
 ],
 "metadata": {
  "kernelspec": {
   "display_name": "Python 3",
   "language": "python",
   "name": "python3"
  },
  "language_info": {
   "codemirror_mode": {
    "name": "ipython",
    "version": 3
   },
   "file_extension": ".py",
   "mimetype": "text/x-python",
   "name": "python",
   "nbconvert_exporter": "python",
   "pygments_lexer": "ipython3",
   "version": "3.5.1"
  }
 },
 "nbformat": 4,
 "nbformat_minor": 0
}
