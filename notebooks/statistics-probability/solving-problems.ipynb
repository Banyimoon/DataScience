{
 "cells": [
  {
   "cell_type": "markdown",
   "metadata": {},
   "source": [
    "## Probability Generative Function (PGF)\n",
    "\n",
    "Let $X$ be a random variable, with probability mass function $f_X(x)$.\n",
    "\n",
    "Let $P(z) = \\mathbf{W}[z^X]$, here $z$ is any fixed real number. We call this $P(z)$ a probability generative function of $X$.\n",
    "\n",
    "\n",
    "##### Example\n",
    "\n",
    "If $X$ is $Binom(n,p)$, then we get $P(z) = (1-p+pz)^n$."
   ]
  },
  {
   "cell_type": "markdown",
   "metadata": {},
   "source": [
    "### General fact about probability generative function:\n",
    "\n",
    " * $\\frac{dP}{dz} = P'(z) = \\frac{d}{dz} \\mathbf{E}[z^X]$ since $\\mathbf{E}$ and $\\frac{d}{dz}$ are both linear operators, we can swap them:    \n",
    " $\\mathbf{E}[\\frac{d}{dz}(z^X)] = \\mathbf{E}[X \\ z^{X-1}]$\n",
    " \n",
    " Now, set $z=1$:  $$P'(1) = \\mathbf{E}[X]$$"
   ]
  },
  {
   "cell_type": "markdown",
   "metadata": {},
   "source": [
    " * Second derivative of PGF: $$P''(1) = \\mathbf{E}[X(X-1)] = \\mathbf{E}[X^2] - \\mathbf{E}[X]$$"
   ]
  },
  {
   "cell_type": "markdown",
   "metadata": {},
   "source": [
    " * By repeating this argument, we get access to all the ***moments*** $\\mathbf{E}[X^p]$ for every integer p.\n",
    " \n",
    " * Similarly, we can get access to the $\\mathbf{P}_X(x)$ from $P(.)$\n",
    " \n",
    "**Important:** Because of all this, the PGF actually determines the distribution of $X$. Therefore, as soon as we can compute the PGF of a random variable $Y$, and recognize the formula for the PGF of a Binomial rv, we can conclude that $Y$ is Binomial, and we we can identify its parameters.\n",
    "\n"
   ]
  },
  {
   "cell_type": "markdown",
   "metadata": {},
   "source": [
    "#### Example:\n",
    "\n",
    "Let $X\\sim Binom(n,p)$ and given $X$, $Y\\sim Binom(X, r)$. \n",
    "\n",
    "Therefore, let us compute $\\mathbf{P}$ for $Y$.\n",
    "\n",
    "$P(z) = \\mathbf{E}[z^Y]$\n",
    "\n",
    "We know that there exists iid random variables $Y_1,Y_2,...Y_n$ which are Bernoulli with parameter $r$, such that $Y=Y_1+Y_2+...+Y_X$\n",
    "\n",
    "Therefore, $\\displaystyle p(z) = \\mathbf{E}\\left[z^{Y_1+Y_2+...+Y_X}\\right] = \\mathbf{E}_X\\left[\\mathbf{E}_{Y_i's} [z^{Y_1+Y_2+...+Y_X}]\\right]$ (in the inner expectation, the $X$ is fixed)\n",
    "\n",
    "So the inner part is $\\sim Binom(X,r)$.\n",
    "\n",
    "  * Reminder: if %X\\sim Binom(n,p)$, then $\\mathbf{E}[z^X] = (1-p+pz)^n$\n",
    "  \n",
    " $$=\\mathbf{E}_X\\left[(1-r+rz)^X\\right] = (1-p+p(1-r+rz))^n$$\n",
    " \n",
    " $$=(1-rp+rpz)^n$$\n",
    " \n",
    " therefore, since we recognize that this is the PGF for a binomial with parameters $n$ and $rp$, therefore, we have proved that $Y$ is $Binom(n, rp)$"
   ]
  },
  {
   "cell_type": "markdown",
   "metadata": {},
   "source": [
    "#### Traditional way of solving this problem instead of PGF:\n",
    "\n",
    "Use $Y=Y_1 + Y_2 + ... + Y_k$ given $X=k$, and $X=X_1 + X_2 + ... + X_n$ where the $X_i$s are iid $Bern(p)$, and $Y_i$s are iid $Bern(r)$. \n",
    "\n",
    "Now, consider $\\widetilde{Y}=X_1Y_1 + X_2Y_2 + ... + X_nY_n$\n",
    "\n",
    "Each term $X_iY_i$ is independent of all other, and each $X_iY_i$ is $1$ with probability $\\mathbf{P}[X_iY_i=1] = \\mathbf{P}[X_i=1]\\mathbf{P}[Y_i=1] = rp$\n",
    "\n",
    "Therefore, $X_iY_i$ are iid $Bern(rp)$. Therefore, $\\widetilde{Y}$ is $Binom(n, rp)$.\n",
    "\n",
    "Finally, we must justify the fact that $\\widetilde{Y}$ and $Y$ have the same distribution.\n",
    "\n",
    "We assume $X=k$, we infer that there are exactly $k$ of $X_i$'s which are $\\ne 0$, we conclude that if $X=k$. then $Y$ is a sum of $k$ $Y_i$'s. Therefore, $Y\\sim Binom(k,r)$"
   ]
  },
  {
   "cell_type": "code",
   "execution_count": null,
   "metadata": {
    "collapsed": true
   },
   "outputs": [],
   "source": []
  }
 ],
 "metadata": {
  "kernelspec": {
   "display_name": "Python 3",
   "language": "python",
   "name": "python3"
  },
  "language_info": {
   "codemirror_mode": {
    "name": "ipython",
    "version": 3
   },
   "file_extension": ".py",
   "mimetype": "text/x-python",
   "name": "python",
   "nbconvert_exporter": "python",
   "pygments_lexer": "ipython3",
   "version": "3.5.0rc4"
  }
 },
 "nbformat": 4,
 "nbformat_minor": 0
}
