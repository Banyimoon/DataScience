{
 "cells": [
  {
   "cell_type": "markdown",
   "metadata": {},
   "source": [
    "C++ Standard Template Library\n",
    "==="
   ]
  },
  {
   "cell_type": "markdown",
   "metadata": {},
   "source": [
    "## Vector\n",
    "\n",
    " * **Sort**\n",
    "   * `sort(int start, int end)`\n",
    "   \n",
    "```c++\n",
    "sort(vec.begin(), vec.end());\n",
    "```\n",
    "\n",
    " * **Erase** \n",
    "   * `erase(int position)`\n",
    "   * `erase(int start, int end)`\n",
    " \n",
    "```c++\n",
    "vec.erase(vec.begin() + 4); // removes the 5th element\n",
    "\n",
    "vec.erase(vec.begin() + 3, vec.begin(7)); // removes elements 4 to 8\n",
    "```"
   ]
  },
  {
   "cell_type": "code",
   "execution_count": null,
   "metadata": {
    "collapsed": true
   },
   "outputs": [],
   "source": []
  }
 ],
 "metadata": {
  "kernelspec": {
   "display_name": "Python 3",
   "language": "python",
   "name": "python3"
  },
  "language_info": {
   "codemirror_mode": {
    "name": "ipython",
    "version": 3
   },
   "file_extension": ".py",
   "mimetype": "text/x-python",
   "name": "python",
   "nbconvert_exporter": "python",
   "pygments_lexer": "ipython3",
   "version": "3.5.1"
  }
 },
 "nbformat": 4,
 "nbformat_minor": 0
}
