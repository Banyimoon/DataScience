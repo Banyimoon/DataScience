{
 "cells": [
  {
   "cell_type": "markdown",
   "metadata": {},
   "source": [
    "YELP review dataset: http://www.yelp.com/dataset_challenge\n",
    "        \n",
    "Note: we need to load spark-csv for CSV support\n",
    "  * spark-csv can be obtained from http://spark-packages.org/  \n",
    "  \n"
   ]
  },
  {
   "cell_type": "code",
   "execution_count": 1,
   "metadata": {
    "collapsed": false
   },
   "outputs": [],
   "source": [
    "from pyspark import SparkContext \n",
    "sc = SparkContext('local','example')\n",
    "\n",
    "from pyspark.sql import SQLContext\n",
    "sqlContext = SQLContext(sc)"
   ]
  },
  {
   "cell_type": "code",
   "execution_count": 2,
   "metadata": {
    "collapsed": true
   },
   "outputs": [],
   "source": [
    "import pandas as pd\n",
    "\n",
    "pandas_df = pd.read_csv('data/yelp_data.csv')  \n",
    "\n",
    "yelp_df = sqlContext.createDataFrame(pandas_df)"
   ]
  },
  {
   "cell_type": "code",
   "execution_count": 3,
   "metadata": {
    "collapsed": false
   },
   "outputs": [
    {
     "name": "stdout",
     "output_type": "stream",
     "text": [
      "root\n",
      " |-- business_id: string (nullable = true)\n",
      " |-- cool: long (nullable = true)\n",
      " |-- date: string (nullable = true)\n",
      " |-- funny: long (nullable = true)\n",
      " |-- id: string (nullable = true)\n",
      " |-- stars: long (nullable = true)\n",
      " |-- text: string (nullable = true)\n",
      " |-- type: string (nullable = true)\n",
      " |-- useful: long (nullable = true)\n",
      " |-- user_id: string (nullable = true)\n",
      " |-- name: string (nullable = true)\n",
      " |-- full_address: string (nullable = true)\n",
      " |-- latitude: double (nullable = true)\n",
      " |-- longitude: double (nullable = true)\n",
      " |-- neighborhoods: string (nullable = true)\n",
      " |-- open: boolean (nullable = true)\n",
      " |-- review_count: long (nullable = true)\n",
      " |-- state: string (nullable = true)\n",
      "\n"
     ]
    }
   ],
   "source": [
    "yelp_df.printSchema()"
   ]
  },
  {
   "cell_type": "code",
   "execution_count": 4,
   "metadata": {
    "collapsed": false
   },
   "outputs": [
    {
     "data": {
      "text/plain": [
       "1000"
      ]
     },
     "execution_count": 4,
     "metadata": {},
     "output_type": "execute_result"
    }
   ],
   "source": [
    "yelp_df.count()"
   ]
  },
  {
   "cell_type": "markdown",
   "metadata": {},
   "source": [
    "## Referencing a Column\n",
    "\n",
    " * As an attribute: ```df.column_name```  \n",
    " * As a key:        ```df[\"column_name\"]```"
   ]
  },
  {
   "cell_type": "code",
   "execution_count": 6,
   "metadata": {
    "collapsed": false
   },
   "outputs": [
    {
     "data": {
      "text/plain": [
       "Column<b'useful'>"
      ]
     },
     "execution_count": 6,
     "metadata": {},
     "output_type": "execute_result"
    }
   ],
   "source": [
    "yelp_df.useful"
   ]
  },
  {
   "cell_type": "code",
   "execution_count": 7,
   "metadata": {
    "collapsed": false
   },
   "outputs": [
    {
     "data": {
      "text/plain": [
       "Column<b'useful'>"
      ]
     },
     "execution_count": 7,
     "metadata": {},
     "output_type": "execute_result"
    }
   ],
   "source": [
    "yelp_df[\"useful\"]"
   ]
  },
  {
   "cell_type": "markdown",
   "metadata": {},
   "source": [
    "## Filtering\n",
    "\n",
    " * ```df.filter(expression)```"
   ]
  },
  {
   "cell_type": "code",
   "execution_count": 8,
   "metadata": {
    "collapsed": false
   },
   "outputs": [
    {
     "data": {
      "text/plain": [
       "586"
      ]
     },
     "execution_count": 8,
     "metadata": {},
     "output_type": "execute_result"
    }
   ],
   "source": [
    "yelp_df.filter(yelp_df.stars > 3).count()"
   ]
  },
  {
   "cell_type": "markdown",
   "metadata": {},
   "source": [
    "## Aggregate Functions\n",
    "\n",
    " * Cannot apply functions to 'Column' objects  \n",
    "    ```'Column' object is not callable```   \n",
    "    therefor, we need to use ```select()``` \n",
    "    \n",
    " * ```df.select('column_name').agg({'column':'function'})```"
   ]
  },
  {
   "cell_type": "code",
   "execution_count": 9,
   "metadata": {
    "collapsed": false
   },
   "outputs": [
    {
     "data": {
      "text/plain": [
       "[Row(avg(stars)=3.56)]"
      ]
     },
     "execution_count": 9,
     "metadata": {},
     "output_type": "execute_result"
    }
   ],
   "source": [
    "yelp_df.select(\"stars\").agg({\"stars\":\"mean\"}).collect()"
   ]
  },
  {
   "cell_type": "code",
   "execution_count": 10,
   "metadata": {
    "collapsed": false
   },
   "outputs": [
    {
     "data": {
      "text/plain": [
       "[Row(max(stars)=5)]"
      ]
     },
     "execution_count": 10,
     "metadata": {},
     "output_type": "execute_result"
    }
   ],
   "source": [
    "yelp_df.select(\"stars\").agg({\"stars\":\"max\"}).collect()"
   ]
  },
  {
   "cell_type": "code",
   "execution_count": 11,
   "metadata": {
    "collapsed": false
   },
   "outputs": [
    {
     "data": {
      "text/plain": [
       "[Row(min(stars)=1)]"
      ]
     },
     "execution_count": 11,
     "metadata": {},
     "output_type": "execute_result"
    }
   ],
   "source": [
    "yelp_df.select(\"stars\").agg({\"stars\":\"min\"}).collect()"
   ]
  },
  {
   "cell_type": "code",
   "execution_count": 12,
   "metadata": {
    "collapsed": false
   },
   "outputs": [
    {
     "name": "stdout",
     "output_type": "stream",
     "text": [
      "+----------+\n",
      "|min(stars)|\n",
      "+----------+\n",
      "|         1|\n",
      "+----------+\n",
      "\n"
     ]
    }
   ],
   "source": [
    "yelp_df.select(\"stars\").agg({\"stars\":\"min\"}).show()"
   ]
  },
  {
   "cell_type": "code",
   "execution_count": 13,
   "metadata": {
    "collapsed": false
   },
   "outputs": [
    {
     "data": {
      "text/plain": [
       "[Row(id='fWKvX83p0-ka4JS3dc6E5A', useful=5, stars=4),\n",
       " Row(id='IjZ33sJrzXqU-0X6U8NwyA', useful=0, stars=4),\n",
       " Row(id='IESLBzqUCLdSzSqm0eCSxQ', useful=1, stars=4),\n",
       " Row(id='G-WvGaISbqqaMHlNnByodA', useful=2, stars=4),\n",
       " Row(id='1uJFq2r5QfJG_6ExMRCaGw', useful=0, stars=4)]"
      ]
     },
     "execution_count": 13,
     "metadata": {},
     "output_type": "execute_result"
    }
   ],
   "source": [
    "yelp_df.select(\"id\", \"useful\", \"stars\").take(5)"
   ]
  },
  {
   "cell_type": "markdown",
   "metadata": {},
   "source": [
    "## Modify a column\n",
    "\n",
    " * Within *select()* give the new expression  \n",
    "    ```df.select('column_name', df.column_name * 4-30)```\n",
    " * To change the return type of the statement, use ```.cast(NEW_TYPE)``` right after the expression  \n",
    " * To rename of column, use ```.alias(NEW_NAME)```"
   ]
  },
  {
   "cell_type": "code",
   "execution_count": 14,
   "metadata": {
    "collapsed": false
   },
   "outputs": [
    {
     "name": "stdout",
     "output_type": "stream",
     "text": [
      "+-----+-------------+\n",
      "|stars|(stars * 2.3)|\n",
      "+-----+-------------+\n",
      "|    4|          9.2|\n",
      "|    4|          9.2|\n",
      "|    4|          9.2|\n",
      "|    4|          9.2|\n",
      "|    4|          9.2|\n",
      "+-----+-------------+\n",
      "only showing top 5 rows\n",
      "\n"
     ]
    }
   ],
   "source": [
    "yelp_df.select('stars', yelp_df.stars*2.3).show(5)"
   ]
  },
  {
   "cell_type": "code",
   "execution_count": 15,
   "metadata": {
    "collapsed": false
   },
   "outputs": [
    {
     "name": "stdout",
     "output_type": "stream",
     "text": [
      "+-----+--------------------------+\n",
      "|stars|cast((stars * 2.3) as int)|\n",
      "+-----+--------------------------+\n",
      "|    4|                         9|\n",
      "|    4|                         9|\n",
      "|    4|                         9|\n",
      "|    4|                         9|\n",
      "|    4|                         9|\n",
      "+-----+--------------------------+\n",
      "only showing top 5 rows\n",
      "\n"
     ]
    }
   ],
   "source": [
    "yelp_df.select('stars', (yelp_df.stars*2.3).cast(\"int\")).show(5)"
   ]
  },
  {
   "cell_type": "code",
   "execution_count": 16,
   "metadata": {
    "collapsed": false
   },
   "outputs": [
    {
     "name": "stdout",
     "output_type": "stream",
     "text": [
      "+-----+---------+\n",
      "|stars|new_stars|\n",
      "+-----+---------+\n",
      "|    4|        9|\n",
      "|    4|        9|\n",
      "|    4|        9|\n",
      "|    4|        9|\n",
      "|    4|        9|\n",
      "+-----+---------+\n",
      "only showing top 5 rows\n",
      "\n"
     ]
    }
   ],
   "source": [
    "yelp_df.select('stars', (yelp_df.stars*2.3).cast(\"int\").alias('new_stars')).show(5)"
   ]
  },
  {
   "cell_type": "markdown",
   "metadata": {},
   "source": [
    "## Ordering by a column\n",
    "\n",
    " **```from pyspark.sql.functions import asc, desc```**  \n",
    " \n",
    " \n",
    " * ```df.orderBy(desc(\"column_name\"))```"
   ]
  },
  {
   "cell_type": "code",
   "execution_count": 17,
   "metadata": {
    "collapsed": false
   },
   "outputs": [
    {
     "name": "stdout",
     "output_type": "stream",
     "text": [
      "+--------------------+-----+\n",
      "|                  id|stars|\n",
      "+--------------------+-----+\n",
      "|2k57IbygwTWDvu4R1...|    1|\n",
      "|4FlODbbswl1eq5-z9...|    1|\n",
      "|7pDu262vEGm7Avr9Q...|    1|\n",
      "|i4kZYaGypxV6LPCro...|    1|\n",
      "|pmOExg5ab56RZjG0K...|    1|\n",
      "|ex4pODOWrfzx1k89F...|    2|\n",
      "|J2Ig5cV9fJU-KGewd...|    2|\n",
      "|LN4l4wklQB0IVBjm-...|    2|\n",
      "|xCEvHEszA3-CmFqtH...|    2|\n",
      "|OUhKpg-1LG7bpyxHL...|    2|\n",
      "+--------------------+-----+\n",
      "only showing top 10 rows\n",
      "\n"
     ]
    }
   ],
   "source": [
    "from pyspark.sql.functions import asc, desc\n",
    "\n",
    "yelp_df.select(\"id\", \"stars\").orderBy(asc(\"stars\")).show(10)"
   ]
  },
  {
   "cell_type": "markdown",
   "metadata": {},
   "source": [
    "## Grouping"
   ]
  },
  {
   "cell_type": "code",
   "execution_count": 18,
   "metadata": {
    "collapsed": false
   },
   "outputs": [
    {
     "name": "stdout",
     "output_type": "stream",
     "text": [
      "+-----+-----+\n",
      "|state|count|\n",
      "+-----+-----+\n",
      "|   TX|   27|\n",
      "|   AZ|  694|\n",
      "|   NY|   31|\n",
      "|   OR|   29|\n",
      "|   ID|    3|\n",
      "|   CA|   24|\n",
      "|   CO|   52|\n",
      "|   WA|    5|\n",
      "|   LA|   65|\n",
      "|   MN|   28|\n",
      "|   GA|   42|\n",
      "+-----+-----+\n",
      "\n"
     ]
    }
   ],
   "source": [
    "yelp_df.groupBy('state').count().show()"
   ]
  },
  {
   "cell_type": "code",
   "execution_count": 19,
   "metadata": {
    "collapsed": false
   },
   "outputs": [
    {
     "name": "stdout",
     "output_type": "stream",
     "text": [
      "+-----+------------------+\n",
      "|state|        avg(stars)|\n",
      "+-----+------------------+\n",
      "|   TX|3.6296296296296298|\n",
      "|   AZ|3.5605187319884726|\n",
      "|   NY|3.6451612903225805|\n",
      "|   OR|3.4482758620689653|\n",
      "|   ID|3.6666666666666665|\n",
      "|   CA|3.4166666666666665|\n",
      "|   CO|3.5576923076923075|\n",
      "|   WA|               4.0|\n",
      "|   LA|3.5076923076923077|\n",
      "|   MN| 3.607142857142857|\n",
      "|   GA|3.5952380952380953|\n",
      "+-----+------------------+\n",
      "\n"
     ]
    }
   ],
   "source": [
    "yelp_df.groupBy('state').avg('stars').show()"
   ]
  },
  {
   "cell_type": "code",
   "execution_count": null,
   "metadata": {
    "collapsed": true
   },
   "outputs": [],
   "source": []
  }
 ],
 "metadata": {
  "kernelspec": {
   "display_name": "Python 3",
   "language": "python",
   "name": "python3"
  },
  "language_info": {
   "codemirror_mode": {
    "name": "ipython",
    "version": 3
   },
   "file_extension": ".py",
   "mimetype": "text/x-python",
   "name": "python",
   "nbconvert_exporter": "python",
   "pygments_lexer": "ipython3",
   "version": "3.4.3"
  }
 },
 "nbformat": 4,
 "nbformat_minor": 0
}
