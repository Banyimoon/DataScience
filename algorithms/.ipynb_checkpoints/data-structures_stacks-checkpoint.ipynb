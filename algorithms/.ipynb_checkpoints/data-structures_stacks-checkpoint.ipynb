{
 "cells": [
  {
   "cell_type": "markdown",
   "metadata": {},
   "source": [
    "Stacks\n",
    "======\n",
    "\n",
    "**Last In First Out (LIFO)**\n",
    "\n",
    " * **Top**  \n",
    " * **Push**\n",
    " * **Pop**\n",
    " \n",
    "Numerous applications: \n",
    "\n",
    " * Compilers, to push function calls into the stack\n",
    " * Parsing (like parsing XHTML)\n",
    " \n",
    "Can be implemented via  \n",
    " * Arrays \n",
    " * Singly linked list\n",
    " \n",
    " Two references to the head and tail of the list: list_head and list_tail"
   ]
  },
  {
   "cell_type": "markdown",
   "metadata": {},
   "source": [
    "## Class Singly Linked List\n",
    "\n",
    "```\n",
    "class Single_list {\n",
    "    public:\n",
    "        Single_list();\n",
    "        ~Single_list();\n",
    "        \n",
    "        int size() const;\n",
    "        int \n",
    "        \n",
    "};\n",
    "```"
   ]
  },
  {
   "cell_type": "markdown",
   "metadata": {},
   "source": [
    "## Class Stack\n",
    "\n",
    "```\n",
    "template <typename Type>\n",
    "class Stack {\n",
    "    private:\n",
    "        Single_list<Type> list;\n",
    "        \n",
    "    public:\n",
    "        bool empty() const;\n",
    "        Type top() const;\n",
    "        \n",
    "        void push(Type);\n",
    "        Type pop();\n",
    "};\n",
    "```"
   ]
  },
  {
   "cell_type": "code",
   "execution_count": null,
   "metadata": {
    "collapsed": true
   },
   "outputs": [],
   "source": []
  }
 ],
 "metadata": {
  "kernelspec": {
   "display_name": "Python 3",
   "language": "python",
   "name": "python3"
  },
  "language_info": {
   "codemirror_mode": {
    "name": "ipython",
    "version": 3
   },
   "file_extension": ".py",
   "mimetype": "text/x-python",
   "name": "python",
   "nbconvert_exporter": "python",
   "pygments_lexer": "ipython3",
   "version": "3.4.3"
  }
 },
 "nbformat": 4,
 "nbformat_minor": 0
}
