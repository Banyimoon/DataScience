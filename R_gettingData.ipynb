{
 "metadata": {
  "name": "",
  "signature": "sha256:a5986017410126d60fcd3aa7b9c3ae858783921ad5828f9649a439f4104f6cb2"
 },
 "nbformat": 3,
 "nbformat_minor": 0,
 "worksheets": [
  {
   "cells": [
    {
     "cell_type": "markdown",
     "metadata": {},
     "source": [
      "Getting and Cleaninig Data\n",
      "\n",
      "[1. Intro.](#intro)\n",
      "\n",
      "[2. Downloading and Reading Data](#downld)\n",
      "\n",
      "   * [Reading excel files](#excel)\n",
      "   * [Reading JSON files](#json)"
     ]
    },
    {
     "cell_type": "markdown",
     "metadata": {},
     "source": [
      "<a id=\"intro\"></a>\n",
      "# 1. Introduction\n",
      "\n",
      "Motivation:\n",
      "\n",
      " 1. Finding and exctracting data from various sources\n",
      " 2. Pronciples of tidy data, and how to make data tidy\n",
      " 3. Practical implementation through a range of R packages\n",
      " \n",
      " \n",
      "  ** Raw Data -> Processing script -> tidy data ** -> data analysis -> data communication\n",
      " \n",
      " \n",
      " * All processing steps should be recorded"
     ]
    },
    {
     "cell_type": "markdown",
     "metadata": {},
     "source": [
      "<a id=\"downld\"></a>\n",
      "# Downloading Data\n",
      "\n",
      "* File and directory handling:\n",
      "\n",
      "**setwd(), getwd()**\n",
      "\n",
      "**file.exists(\"directoryName\")**\n",
      "\n",
      "**dir.create(\"directoryName\")**\n"
     ]
    },
    {
     "cell_type": "code",
     "collapsed": false,
     "input": [
      "if (!file.exists(\"data/\")) {\n",
      "    dir.create(\"data/\")\n",
      "}"
     ],
     "language": "python",
     "metadata": {},
     "outputs": [],
     "prompt_number": 4
    },
    {
     "cell_type": "markdown",
     "metadata": {},
     "source": [
      "**download.file()** to download a file from internet"
     ]
    },
    {
     "cell_type": "code",
     "collapsed": false,
     "input": [
      "fileUrl <- \"http://www.brianknaus.com/software/srtoolbox/s_4_1_sequence80.txt\"\n",
      "download.file(fileUrl, destfile=\"./data/s_4_1_sequence80.txt\", method=\"curl\")"
     ],
     "language": "python",
     "metadata": {},
     "outputs": [],
     "prompt_number": 5
    },
    {
     "cell_type": "markdown",
     "metadata": {},
     "source": [
      "* Read in data:\n",
      "\n",
      "**read.table()**\n",
      "\n",
      "**read.csv()**\n",
      "\n",
      "If the file contains quotation marks, set **qoute=\"\"**"
     ]
    },
    {
     "cell_type": "markdown",
     "metadata": {},
     "source": [
      "<a id=\"excel\"></a>\n",
      "## Reading excel files:\n",
      "\n",
      "**read.xlsx()** from library xlsx"
     ]
    },
    {
     "cell_type": "code",
     "collapsed": false,
     "input": [
      "if(!file.exists(\"data/\")) {dir.create(\"data\")}\n",
      "fileUrl <- \"https://data.baltimorecity.gov/api/views/dz54-2aru/rows.xlsx?accessType=DOWNLOAD\"\n",
      "download.file(fileUrl, destfile=\"./data/cameras.xlsx\", method=\"curl\")\n",
      "dateDownloaded <- date\n",
      "\n",
      "require(xlsx)\n",
      "cameraData <- read.xlsx(\"data/cameras.xlsx\", sheetIndex=1, header=T)\n",
      "head(cameraData)"
     ],
     "language": "python",
     "metadata": {},
     "outputs": [
      {
       "metadata": {},
       "output_type": "pyout",
       "prompt_number": 2,
       "text": [
        "                         address direction      street  crossStreet\n",
        "1       S CATON AVE & BENSON AVE       N/B   Caton Ave   Benson Ave\n",
        "2       S CATON AVE & BENSON AVE       S/B   Caton Ave   Benson Ave\n",
        "3 WILKENS AVE & PINE HEIGHTS AVE       E/B Wilkens Ave Pine Heights\n",
        "4        THE ALAMEDA & E 33RD ST       S/B The Alameda      33rd St\n",
        "5        E 33RD ST & THE ALAMEDA       E/B      E 33rd  The Alameda\n",
        "6        ERDMAN AVE & N MACON ST       E/B      Erdman     Macon St\n",
        "                intersection                      Location.1\n",
        "1     Caton Ave & Benson Ave (39.2693779962, -76.6688185297)\n",
        "2     Caton Ave & Benson Ave (39.2693157898, -76.6689698176)\n",
        "3 Wilkens Ave & Pine Heights  (39.2720252302, -76.676960806)\n",
        "4     The Alameda  & 33rd St (39.3285013141, -76.5953545714)\n",
        "5      E 33rd  & The Alameda (39.3283410623, -76.5953594625)\n",
        "6         Erdman  & Macon St (39.3068045671, -76.5593167803)"
       ]
      }
     ],
     "prompt_number": 2
    },
    {
     "cell_type": "markdown",
     "metadata": {},
     "source": [
      "* Use **colIndex=** and **rowIndex=** to read specefic columns/rows"
     ]
    },
    {
     "cell_type": "code",
     "collapsed": false,
     "input": [
      "read.xlsx(\"data/cameras.xlsx\", sheetIndex=1, header=T, colIndex=2:3, rowIndex=1:5)"
     ],
     "language": "python",
     "metadata": {},
     "outputs": [
      {
       "metadata": {},
       "output_type": "pyout",
       "prompt_number": 4,
       "text": [
        "  direction      street\n",
        "1       N/B   Caton Ave\n",
        "2       S/B   Caton Ave\n",
        "3       E/B Wilkens Ave\n",
        "4       S/B The Alameda"
       ]
      }
     ],
     "prompt_number": 4
    },
    {
     "cell_type": "markdown",
     "metadata": {},
     "source": [
      "* Other packages for reading excel files **XLConnect**"
     ]
    },
    {
     "cell_type": "markdown",
     "metadata": {},
     "source": [
      "<a id=\"json\"></a>\n",
      "## Reading JSON files\n",
      "\n",
      "* JSON: Javascript Object Notation\n",
      "* Lightweight data storage\n",
      "* Common format for data ftom APIs\n",
      "\n",
      "In JSON, Data stored as\n",
      "\n",
      "  * numbers (double)\n",
      "  * string (\"\")\n",
      "  * boolean (true or false)\n",
      "  * array (ordered, [, , ])\n",
      "  * object (unordered, {key1:value, key2:value})"
     ]
    },
    {
     "cell_type": "code",
     "collapsed": false,
     "input": [
      "library(jsonlite)\n",
      "jsonData <- fromJSON(\"https://api.github.com/users/mirjalil/repos\")\n",
      "head(names(jsonData))\n",
      "names(jsonData$owner)\n",
      "jsonData$owner$login"
     ],
     "language": "python",
     "metadata": {},
     "outputs": [
      {
       "metadata": {},
       "output_type": "pyout",
       "prompt_number": 11,
       "text": [
        "[1] \"id\"        \"name\"      \"full_name\" \"owner\"     \"private\"   \"html_url\" "
       ]
      },
      {
       "metadata": {},
       "output_type": "pyout",
       "prompt_number": 11,
       "text": [
        " [1] \"login\"               \"id\"                  \"avatar_url\"         \n",
        " [4] \"gravatar_id\"         \"url\"                 \"html_url\"           \n",
        " [7] \"followers_url\"       \"following_url\"       \"gists_url\"          \n",
        "[10] \"starred_url\"         \"subscriptions_url\"   \"organizations_url\"  \n",
        "[13] \"repos_url\"           \"events_url\"          \"received_events_url\"\n",
        "[16] \"type\"                \"site_admin\"         "
       ]
      },
      {
       "metadata": {},
       "output_type": "pyout",
       "prompt_number": 11,
       "text": [
        " [1] \"mirjalil\" \"mirjalil\" \"mirjalil\" \"mirjalil\" \"mirjalil\" \"mirjalil\"\n",
        " [7] \"mirjalil\" \"mirjalil\" \"mirjalil\" \"mirjalil\" \"mirjalil\" \"mirjalil\"\n",
        "[13] \"mirjalil\" \"mirjalil\" \"mirjalil\" \"mirjalil\" \"mirjalil\""
       ]
      }
     ],
     "prompt_number": 11
    },
    {
     "cell_type": "markdown",
     "metadata": {},
     "source": [
      "#### Writing data.frames to JSON format\n",
      "\n",
      "**toJSON()**"
     ]
    },
    {
     "cell_type": "code",
     "collapsed": false,
     "input": [
      "myjson <- toJSON(iris[1:2,], pretty=T)\n",
      "cat(myjson)"
     ],
     "language": "python",
     "metadata": {},
     "outputs": [
      {
       "output_type": "stream",
       "stream": "stdout",
       "text": [
        "[\n",
        "\t{\n",
        "\t\t\"Sepal.Length\" : 5.1,\n",
        "\t\t\"Sepal.Width\" : 3.5,\n",
        "\t\t\"Petal.Length\" : 1.4,\n",
        "\t\t\"Petal.Width\" : 0.2,\n",
        "\t\t\"Species\" : \"setosa\"\n",
        "\t},\n",
        "\t{\n",
        "\t\t\"Sepal.Length\" : 4.9,\n",
        "\t\t\"Sepal.Width\" : 3,\n",
        "\t\t\"Petal.Length\" : 1.4,\n",
        "\t\t\"Petal.Width\" : 0.2,\n",
        "\t\t\"Species\" : \"setosa\"\n",
        "\t}\n",
        "]"
       ]
      }
     ],
     "prompt_number": 23
    },
    {
     "cell_type": "code",
     "collapsed": false,
     "input": [
      "ucscDb <- dbConnect(MySQL(), user=\"genome\", host=\"genome-mysql.cse.ucsc.edu\")\n",
      "result <- dbGetQuery(ucscDb, \"show databases;\")\n",
      "dbDisconnect(ucscDb)\n",
      "result"
     ],
     "language": "python",
     "metadata": {},
     "outputs": [
      {
       "ename": "ERROR",
       "evalue": "Error in eval(expr, envir, enclos): could not find function \"dbConnect\"\n",
       "output_type": "pyerr",
       "traceback": [
        "Error in eval(expr, envir, enclos): could not find function \"dbConnect\"\n"
       ]
      },
      {
       "ename": "ERROR",
       "evalue": "Error in eval(expr, envir, enclos): could not find function \"dbGetQuery\"\n",
       "output_type": "pyerr",
       "traceback": [
        "Error in eval(expr, envir, enclos): could not find function \"dbGetQuery\"\n"
       ]
      },
      {
       "ename": "ERROR",
       "evalue": "Error in eval(expr, envir, enclos): could not find function \"dbDisconnect\"\n",
       "output_type": "pyerr",
       "traceback": [
        "Error in eval(expr, envir, enclos): could not find function \"dbDisconnect\"\n"
       ]
      },
      {
       "ename": "ERROR",
       "evalue": "Error in eval(expr, envir, enclos): object 'result' not found\n",
       "output_type": "pyerr",
       "traceback": [
        "Error in eval(expr, envir, enclos): object 'result' not found\n"
       ]
      }
     ],
     "prompt_number": 1
    },
    {
     "cell_type": "code",
     "collapsed": false,
     "input": [],
     "language": "python",
     "metadata": {},
     "outputs": []
    },
    {
     "cell_type": "code",
     "collapsed": false,
     "input": [],
     "language": "python",
     "metadata": {},
     "outputs": []
    },
    {
     "cell_type": "markdown",
     "metadata": {},
     "source": [
      "## Merging data - merge()"
     ]
    },
    {
     "cell_type": "code",
     "collapsed": false,
     "input": [
      "mergedData <- merge(reviews, solutions, by.x=\"solution_id\", by.y=\"id\",\n",
      "                    all=T)\n"
     ],
     "language": "python",
     "metadata": {},
     "outputs": []
    }
   ],
   "metadata": {}
  }
 ]
}