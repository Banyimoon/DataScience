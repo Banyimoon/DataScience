{
 "metadata": {
  "name": "",
  "signature": "sha256:594d46a80b6e000f2331ea0f2d2d6ab6c49e7505da0a9260cb2f48112f62140f"
 },
 "nbformat": 3,
 "nbformat_minor": 0,
 "worksheets": [
  {
   "cells": [
    {
     "cell_type": "markdown",
     "metadata": {},
     "source": [
      "Refernce for scikit-learn methods and functions\n",
      "===============\n",
      "\n",
      "**Vahid Mirjalili, Data Mining Researcher**\n"
     ]
    },
    {
     "cell_type": "markdown",
     "metadata": {},
     "source": [
      "# 1. Dimensionaliy Reduction\n",
      "\n",
      "## PCA\n"
     ]
    },
    {
     "cell_type": "code",
     "collapsed": false,
     "input": [
      "from sklearn import decomposition\n",
      "\n",
      "## defining an object of class\n",
      "pca = decomposition.PCA(n_components = 2).fit(X_train)\n",
      "\n",
      "## transform the data along the 2 princial components\n",
      "X_transormed = pca.transform(X_train)"
     ],
     "language": "python",
     "metadata": {},
     "outputs": []
    },
    {
     "cell_type": "markdown",
     "metadata": {},
     "source": [
      "##LDA"
     ]
    },
    {
     "cell_type": "code",
     "collapsed": false,
     "input": [],
     "language": "python",
     "metadata": {},
     "outputs": []
    },
    {
     "cell_type": "markdown",
     "metadata": {},
     "source": [
      "# 2. Clustering"
     ]
    },
    {
     "cell_type": "markdown",
     "metadata": {},
     "source": [
      "## kmeans-clustering"
     ]
    },
    {
     "cell_type": "code",
     "collapsed": false,
     "input": [],
     "language": "python",
     "metadata": {},
     "outputs": []
    },
    {
     "cell_type": "markdown",
     "metadata": {},
     "source": [
      "## Affinity Propagation"
     ]
    },
    {
     "cell_type": "code",
     "collapsed": false,
     "input": [
      "aff = cluster.AffinityPropagation()\n",
      "\n",
      "aff.fit(X_train)\n",
      "\n",
      "## Accessing cluster centers\n",
      "aff.cluster_centers_indices_"
     ],
     "language": "python",
     "metadata": {},
     "outputs": []
    },
    {
     "cell_type": "markdown",
     "metadata": {},
     "source": [
      "## Mean Shift Clustering"
     ]
    },
    {
     "cell_type": "code",
     "collapsed": false,
     "input": [
      "ms = cluster.MeanShift()\n",
      "\n",
      "ms.fit(X_train)\n",
      "\n",
      "## Accessing cluster centers\n",
      "ms.cluster_centers_"
     ],
     "language": "python",
     "metadata": {},
     "outputs": []
    },
    {
     "cell_type": "markdown",
     "metadata": {},
     "source": [
      "# 3. Classification"
     ]
    },
    {
     "cell_type": "code",
     "collapsed": false,
     "input": [],
     "language": "python",
     "metadata": {},
     "outputs": []
    }
   ],
   "metadata": {}
  }
 ]
}