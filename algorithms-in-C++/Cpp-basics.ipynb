{
 "cells": [
  {
   "cell_type": "markdown",
   "metadata": {},
   "source": [
    "### References\n",
    "\n",
    " * Why do we use references? Instead of copying an object to a function argument, we can use a reference.\n",
    "\n",
    "* Creating a reference\n",
    "\n",
    "\n",
    "```cpp\n",
    "int x = 3;\n",
    "int &y = x; // y is a reference to x\n",
    "```\n",
    "\n",
    "* Passing by reference\n",
    "\n",
    "```cpp\n",
    "// pass by value\n",
    "void my_function(my_object temp) {\n",
    "\n",
    "}\n",
    "\n",
    "// pass by reference\n",
    "void my_function(my_object &temp) {\n",
    "\n",
    "}\n",
    "```"
   ]
  },
  {
   "cell_type": "markdown",
   "metadata": {},
   "source": [
    "### Pointers\n",
    "\n",
    "```cpp\n",
    "int x = 3;\n",
    "int *y = &x; // y is a pointer\n",
    "int *z = y;  // z ia also a pointer\n",
    "```\n",
    "\n",
    " * Dereferncing to get the value:\n",
    "\n",
    "```cpp\n",
    "int w = *y;\n",
    "```"
   ]
  },
  {
   "cell_type": "code",
   "execution_count": null,
   "metadata": {
    "collapsed": true
   },
   "outputs": [],
   "source": []
  }
 ],
 "metadata": {
  "kernelspec": {
   "display_name": "Python 3",
   "language": "python",
   "name": "python3"
  },
  "language_info": {
   "codemirror_mode": {
    "name": "ipython",
    "version": 3
   },
   "file_extension": ".py",
   "mimetype": "text/x-python",
   "name": "python",
   "nbconvert_exporter": "python",
   "pygments_lexer": "ipython3",
   "version": "3.5.1"
  }
 },
 "nbformat": 4,
 "nbformat_minor": 0
}
