{
 "metadata": {
  "name": "",
  "signature": "sha256:1bd945f2f242cba8dcd0b58bb97a17200909a9602ee9429fff0a79c987fe9dd2"
 },
 "nbformat": 3,
 "nbformat_minor": 0,
 "worksheets": [
  {
   "cells": [
    {
     "cell_type": "markdown",
     "metadata": {},
     "source": [
      "Getting and Cleaninig Data\n",
      "\n",
      "[1. Intro.](#intro)\n",
      "\n",
      "[2. Downloading and Reading Data](#downld)\n",
      "\n",
      "   * [Reading excel files](#excel)\n",
      "   * [Reading JSON files](#json)\n",
      "   * [Using data.table package](#data-table)\n",
      "\n",
      "[3. Reading Data From Other Sources](#reading-other)"
     ]
    },
    {
     "cell_type": "markdown",
     "metadata": {},
     "source": [
      "<a id=\"intro\"></a>\n",
      "# 1. Introduction\n",
      "\n",
      "Motivation:\n",
      "\n",
      " 1. Finding and exctracting data from various sources\n",
      " 2. Pronciples of tidy data, and how to make data tidy\n",
      " 3. Practical implementation through a range of R packages\n",
      " \n",
      " \n",
      "  ** Raw Data -> Processing script -> tidy data ** -> data analysis -> data communication\n",
      " \n",
      " \n",
      " * All processing steps should be recorded"
     ]
    },
    {
     "cell_type": "markdown",
     "metadata": {},
     "source": [
      "<a id=\"downld\"></a>\n",
      "# Downloading and Reading Data (basic)\n",
      "\n",
      "* File and directory handling:\n",
      "\n",
      "**setwd(), getwd()**\n",
      "\n",
      "**file.exists(\"directoryName\")**\n",
      "\n",
      "**dir.create(\"directoryName\")**\n"
     ]
    },
    {
     "cell_type": "code",
     "collapsed": false,
     "input": [
      "if (!file.exists(\"data/\")) {\n",
      "    dir.create(\"data/\")\n",
      "}"
     ],
     "language": "python",
     "metadata": {},
     "outputs": [],
     "prompt_number": 4
    },
    {
     "cell_type": "markdown",
     "metadata": {},
     "source": [
      "**download.file()** to download a file from internet"
     ]
    },
    {
     "cell_type": "code",
     "collapsed": false,
     "input": [
      "fileUrl <- \"http://www.brianknaus.com/software/srtoolbox/s_4_1_sequence80.txt\"\n",
      "download.file(fileUrl, destfile=\"./data/s_4_1_sequence80.txt\", method=\"curl\")"
     ],
     "language": "python",
     "metadata": {},
     "outputs": [],
     "prompt_number": 5
    },
    {
     "cell_type": "markdown",
     "metadata": {},
     "source": [
      "* Read in data:\n",
      "\n",
      "**read.table()**\n",
      "\n",
      "**read.csv()**\n",
      "\n",
      "If the file contains quotation marks, set **qoute=\"\"**"
     ]
    },
    {
     "cell_type": "markdown",
     "metadata": {},
     "source": [
      "<a id=\"excel\"></a>\n",
      "## Reading excel files:\n",
      "\n",
      "**read.xlsx()** from library xlsx"
     ]
    },
    {
     "cell_type": "code",
     "collapsed": false,
     "input": [
      "if(!file.exists(\"data/\")) {dir.create(\"data\")}\n",
      "fileUrl <- \"https://data.baltimorecity.gov/api/views/dz54-2aru/rows.xlsx?accessType=DOWNLOAD\"\n",
      "download.file(fileUrl, destfile=\"./data/cameras.xlsx\", method=\"curl\")\n",
      "dateDownloaded <- date\n",
      "\n",
      "require(xlsx)\n",
      "cameraData <- read.xlsx(\"data/cameras.xlsx\", sheetIndex=1, header=T)\n",
      "head(cameraData)"
     ],
     "language": "python",
     "metadata": {},
     "outputs": [
      {
       "metadata": {},
       "output_type": "pyout",
       "prompt_number": 2,
       "text": [
        "                         address direction      street  crossStreet\n",
        "1       S CATON AVE & BENSON AVE       N/B   Caton Ave   Benson Ave\n",
        "2       S CATON AVE & BENSON AVE       S/B   Caton Ave   Benson Ave\n",
        "3 WILKENS AVE & PINE HEIGHTS AVE       E/B Wilkens Ave Pine Heights\n",
        "4        THE ALAMEDA & E 33RD ST       S/B The Alameda      33rd St\n",
        "5        E 33RD ST & THE ALAMEDA       E/B      E 33rd  The Alameda\n",
        "6        ERDMAN AVE & N MACON ST       E/B      Erdman     Macon St\n",
        "                intersection                      Location.1\n",
        "1     Caton Ave & Benson Ave (39.2693779962, -76.6688185297)\n",
        "2     Caton Ave & Benson Ave (39.2693157898, -76.6689698176)\n",
        "3 Wilkens Ave & Pine Heights  (39.2720252302, -76.676960806)\n",
        "4     The Alameda  & 33rd St (39.3285013141, -76.5953545714)\n",
        "5      E 33rd  & The Alameda (39.3283410623, -76.5953594625)\n",
        "6         Erdman  & Macon St (39.3068045671, -76.5593167803)"
       ]
      }
     ],
     "prompt_number": 2
    },
    {
     "cell_type": "markdown",
     "metadata": {},
     "source": [
      "* Use **colIndex=** and **rowIndex=** to read specefic columns/rows"
     ]
    },
    {
     "cell_type": "code",
     "collapsed": false,
     "input": [
      "read.xlsx(\"data/cameras.xlsx\", sheetIndex=1, header=T, colIndex=2:3, rowIndex=1:5)"
     ],
     "language": "python",
     "metadata": {},
     "outputs": [
      {
       "metadata": {},
       "output_type": "pyout",
       "prompt_number": 4,
       "text": [
        "  direction      street\n",
        "1       N/B   Caton Ave\n",
        "2       S/B   Caton Ave\n",
        "3       E/B Wilkens Ave\n",
        "4       S/B The Alameda"
       ]
      }
     ],
     "prompt_number": 4
    },
    {
     "cell_type": "markdown",
     "metadata": {},
     "source": [
      "* Other packages for reading excel files **XLConnect**"
     ]
    },
    {
     "cell_type": "markdown",
     "metadata": {},
     "source": [
      "<a id=\"json\"></a>\n",
      "## Reading JSON files\n",
      "\n",
      "* JSON: Javascript Object Notation\n",
      "* Lightweight data storage\n",
      "* Common format for data ftom APIs\n",
      "\n",
      "In JSON, Data stored as\n",
      "\n",
      "  * numbers (double)\n",
      "  * string (\"\")\n",
      "  * boolean (true or false)\n",
      "  * array (ordered, [, , ])\n",
      "  * object (unordered, {key1:value, key2:value})"
     ]
    },
    {
     "cell_type": "code",
     "collapsed": false,
     "input": [
      "library(jsonlite)\n",
      "jsonData <- fromJSON(\"https://api.github.com/users/mirjalil/repos\")\n",
      "head(names(jsonData))\n",
      "names(jsonData$owner)\n",
      "jsonData$owner$login"
     ],
     "language": "python",
     "metadata": {},
     "outputs": [
      {
       "metadata": {},
       "output_type": "pyout",
       "prompt_number": 11,
       "text": [
        "[1] \"id\"        \"name\"      \"full_name\" \"owner\"     \"private\"   \"html_url\" "
       ]
      },
      {
       "metadata": {},
       "output_type": "pyout",
       "prompt_number": 11,
       "text": [
        " [1] \"login\"               \"id\"                  \"avatar_url\"         \n",
        " [4] \"gravatar_id\"         \"url\"                 \"html_url\"           \n",
        " [7] \"followers_url\"       \"following_url\"       \"gists_url\"          \n",
        "[10] \"starred_url\"         \"subscriptions_url\"   \"organizations_url\"  \n",
        "[13] \"repos_url\"           \"events_url\"          \"received_events_url\"\n",
        "[16] \"type\"                \"site_admin\"         "
       ]
      },
      {
       "metadata": {},
       "output_type": "pyout",
       "prompt_number": 11,
       "text": [
        " [1] \"mirjalil\" \"mirjalil\" \"mirjalil\" \"mirjalil\" \"mirjalil\" \"mirjalil\"\n",
        " [7] \"mirjalil\" \"mirjalil\" \"mirjalil\" \"mirjalil\" \"mirjalil\" \"mirjalil\"\n",
        "[13] \"mirjalil\" \"mirjalil\" \"mirjalil\" \"mirjalil\" \"mirjalil\""
       ]
      }
     ],
     "prompt_number": 11
    },
    {
     "cell_type": "markdown",
     "metadata": {},
     "source": [
      "#### Writing data.frames to JSON format\n",
      "\n",
      "**toJSON()**"
     ]
    },
    {
     "cell_type": "code",
     "collapsed": false,
     "input": [
      "myjson <- toJSON(iris[1:2,], pretty=T)\n",
      "cat(myjson)"
     ],
     "language": "python",
     "metadata": {},
     "outputs": [
      {
       "output_type": "stream",
       "stream": "stdout",
       "text": [
        "[\n",
        "\t{\n",
        "\t\t\"Sepal.Length\" : 5.1,\n",
        "\t\t\"Sepal.Width\" : 3.5,\n",
        "\t\t\"Petal.Length\" : 1.4,\n",
        "\t\t\"Petal.Width\" : 0.2,\n",
        "\t\t\"Species\" : \"setosa\"\n",
        "\t},\n",
        "\t{\n",
        "\t\t\"Sepal.Length\" : 4.9,\n",
        "\t\t\"Sepal.Width\" : 3,\n",
        "\t\t\"Petal.Length\" : 1.4,\n",
        "\t\t\"Petal.Width\" : 0.2,\n",
        "\t\t\"Species\" : \"setosa\"\n",
        "\t}\n",
        "]"
       ]
      }
     ],
     "prompt_number": 23
    },
    {
     "cell_type": "markdown",
     "metadata": {},
     "source": [
      "<a id=\"data-table\"></a>\n",
      "## Using data.table package\n",
      "\n",
      "* Often faster and more moemory efficient than data.frame\n",
      "* All the functions that work on data.frames, also work on data.tables\n",
      "* Much faster at subseeting, group, and updating"
     ]
    },
    {
     "cell_type": "code",
     "collapsed": false,
     "input": [
      "library(data.table)\n",
      "df <- data.frame(x=rnorm(9), y=rep(c(\"a\", \"b\", \"c\"), each=3), z=rnorm(9))\n",
      "\n",
      "dt <- data.table(x=rnorm(9), y=rep(c(\"a\", \"b\", \"c\"), each=3), z=rnorm(9))\n",
      "\n",
      "## to see all the data.tables in memory\n",
      "tables()"
     ],
     "language": "python",
     "metadata": {},
     "outputs": [
      {
       "output_type": "stream",
       "stream": "stdout",
       "text": [
        "     NAME NROW MB COLS  KEY\n",
        "[1,] dt      9 1  x,y,z    \n",
        "Total: 1MB\n"
       ]
      }
     ],
     "prompt_number": 1
    },
    {
     "cell_type": "code",
     "collapsed": false,
     "input": [
      "## subsetting\n",
      "dt[1:3, list(x,y)]\n",
      "\n",
      "dt[, table(y)]"
     ],
     "language": "python",
     "metadata": {},
     "outputs": [
      {
       "ename": "ERROR",
       "evalue": "Error in `[.data.frame`(x, i, j): object 'x' not found\n",
       "output_type": "pyerr",
       "traceback": [
        "Error in `[.data.frame`(x, i, j): object 'x' not found\n"
       ]
      },
      {
       "ename": "ERROR",
       "evalue": "Error in table(y): object 'y' not found\n",
       "output_type": "pyerr",
       "traceback": [
        "Error in table(y): object 'y' not found\n"
       ]
      }
     ],
     "prompt_number": 2
    },
    {
     "cell_type": "code",
     "collapsed": false,
     "input": [
      "## Passing a list of functions to apply:\n",
      "dt[, list(mean(x), sum(z))]"
     ],
     "language": "python",
     "metadata": {},
     "outputs": [
      {
       "ename": "ERROR",
       "evalue": "Error in mean(x): object 'x' not found\n",
       "output_type": "pyerr",
       "traceback": [
        "Error in mean(x): object 'x' not found\n"
       ]
      }
     ],
     "prompt_number": 3
    },
    {
     "cell_type": "markdown",
     "metadata": {},
     "source": [
      "### adding a new column:"
     ]
    },
    {
     "cell_type": "code",
     "collapsed": false,
     "input": [
      "is.data.table(dt)\n",
      "dt[,w:=z^2]"
     ],
     "language": "python",
     "metadata": {},
     "outputs": [
      {
       "metadata": {},
       "output_type": "pyout",
       "prompt_number": 4,
       "text": [
        "[1] TRUE"
       ]
      },
      {
       "ename": "ERROR",
       "evalue": "Error in `:=`(w, z^2): Check that is.data.table(DT) == TRUE. Otherwise, := and `:=`(...) are defined for use in j, once only and in particular ways. See help(\":=\").\n",
       "output_type": "pyerr",
       "traceback": [
        "Error in `:=`(w, z^2): Check that is.data.table(DT) == TRUE. Otherwise, := and `:=`(...) are defined for use in j, once only and in particular ways. See help(\":=\").\n"
       ]
      }
     ],
     "prompt_number": 4
    },
    {
     "cell_type": "code",
     "collapsed": false,
     "input": [
      "dt[,a:=x>0]\n",
      "dt[,b:=mean(x+w), by=a]"
     ],
     "language": "python",
     "metadata": {},
     "outputs": [
      {
       "ename": "ERROR",
       "evalue": "Error in `:=`(a, x > 0): Check that is.data.table(DT) == TRUE. Otherwise, := and `:=`(...) are defined for use in j, once only and in particular ways. See help(\":=\").\n",
       "output_type": "pyerr",
       "traceback": [
        "Error in `:=`(a, x > 0): Check that is.data.table(DT) == TRUE. Otherwise, := and `:=`(...) are defined for use in j, once only and in particular ways. See help(\":=\").\n"
       ]
      },
      {
       "ename": "ERROR",
       "evalue": "Error in `:=`(b, mean(x + w)): Check that is.data.table(DT) == TRUE. Otherwise, := and `:=`(...) are defined for use in j, once only and in particular ways. See help(\":=\").\n",
       "output_type": "pyerr",
       "traceback": [
        "Error in `:=`(b, mean(x + w)): Check that is.data.table(DT) == TRUE. Otherwise, := and `:=`(...) are defined for use in j, once only and in particular ways. See help(\":=\").\n"
       ]
      }
     ],
     "prompt_number": 5
    },
    {
     "cell_type": "markdown",
     "metadata": {},
     "source": [
      "### Multiple operations:"
     ]
    },
    {
     "cell_type": "code",
     "collapsed": false,
     "input": [
      "dt[, m:={tmp <- x+z; log2(tmp+5)}]"
     ],
     "language": "python",
     "metadata": {},
     "outputs": [
      {
       "ename": "ERROR",
       "evalue": "Error in `:=`(m, {: Check that is.data.table(DT) == TRUE. Otherwise, := and `:=`(...) are defined for use in j, once only and in particular ways. See help(\":=\").\n",
       "output_type": "pyerr",
       "traceback": [
        "Error in `:=`(m, {: Check that is.data.table(DT) == TRUE. Otherwise, := and `:=`(...) are defined for use in j, once only and in particular ways. See help(\":=\").\n"
       ]
      }
     ],
     "prompt_number": 6
    },
    {
     "cell_type": "markdown",
     "metadata": {},
     "source": [
      "### Keys\n",
      "\n",
      "* Using keys to subset and sort much faster"
     ]
    },
    {
     "cell_type": "code",
     "collapsed": false,
     "input": [
      "DT <- data.table(x=rep(c(\"a\", \"b\", \"c\"), each=100), y=rnorm(300))\n",
      "setkey(DT, x)\n",
      "DT['a']"
     ],
     "language": "python",
     "metadata": {},
     "outputs": [
      {
       "ename": "ERROR",
       "evalue": "Error in `[.data.frame`(x, i): undefined columns selected\n",
       "output_type": "pyerr",
       "traceback": [
        "Error in `[.data.frame`(x, i): undefined columns selected\n"
       ]
      }
     ],
     "prompt_number": 7
    },
    {
     "cell_type": "markdown",
     "metadata": {},
     "source": [
      "* Using keys to facilitate joing two data tables:"
     ]
    },
    {
     "cell_type": "code",
     "collapsed": false,
     "input": [
      "DT1 <- data.table(x=c('a', 'a', 'b', 'dt1'), y=1:4)\n",
      "DT2 <- data.table(x=c('a', 'b', 'dt2'), z=5:7)\n",
      "setkey(DT1, x)\n",
      "setkey(DT2, x)\n",
      "merged(DT1, DT2)"
     ],
     "language": "python",
     "metadata": {},
     "outputs": []
    },
    {
     "cell_type": "markdown",
     "metadata": {},
     "source": [
      "### Reading data from files faster\n",
      "\n",
      "Using **fread()** is much faster than **read.table()**"
     ]
    },
    {
     "cell_type": "code",
     "collapsed": false,
     "input": [
      "big_df <- data.frame(x=rnorm(1E6), y=rnorm(1E6))\n",
      "tfile=tempfile()\n",
      "\n",
      "write.table(big_df, file=tfile, row.names=T, sep=\"\\t\", quote=F)\n",
      "\n",
      "## timeing by fread:\n",
      "system.time(fread(tfile))\n",
      "\n",
      "## timing by read.table\n",
      "system.time(read.table(tfile, header=T, sep=\"\\t\"))"
     ],
     "language": "python",
     "metadata": {},
     "outputs": [
      {
       "metadata": {},
       "output_type": "pyout",
       "prompt_number": 15,
       "text": [
        "   user  system elapsed \n",
        "  0.776   0.004   0.780 "
       ]
      },
      {
       "metadata": {},
       "output_type": "pyout",
       "prompt_number": 15,
       "text": [
        "   user  system elapsed \n",
        " 27.736   0.172  27.960 "
       ]
      }
     ],
     "prompt_number": 15
    },
    {
     "cell_type": "markdown",
     "metadata": {},
     "source": [
      "<a id=\"read-others\"></a>\n",
      "# Reading Data From Other Sources"
     ]
    },
    {
     "cell_type": "code",
     "collapsed": false,
     "input": [
      "req(RMySQL)\n",
      "ucscDb <- dbConnect(MySQL(), user=\"genome\", host=\"genome-mysql.cse.ucsc.edu\")\n",
      "result <- dbGetQuery(ucscDb, \"show databases;\")\n",
      "dbDisconnect(ucscDb)\n",
      "result"
     ],
     "language": "python",
     "metadata": {},
     "outputs": [
      {
       "output_type": "stream",
       "stream": "stderr",
       "text": [
        "packageStartupMessage in packageStartupMessage(gettextf(\"Loading required package: %s\", : Loading required package: DBI\n",
        "\n"
       ]
      },
      {
       "metadata": {},
       "output_type": "pyout",
       "prompt_number": 2,
       "text": [
        "[1] TRUE"
       ]
      },
      {
       "metadata": {},
       "output_type": "pyout",
       "prompt_number": 2,
       "text": [
        "              Database\n",
        "1   information_schema\n",
        "2              ailMel1\n",
        "3              allMis1\n",
        "4              anoCar1\n",
        "5              anoCar2\n",
        "6              anoGam1\n",
        "7              apiMel1\n",
        "8              apiMel2\n",
        "9              aplCal1\n",
        "10             balAcu1\n",
        "11             bosTau2\n",
        "12             bosTau3\n",
        "13             bosTau4\n",
        "14             bosTau5\n",
        "15             bosTau6\n",
        "16             bosTau7\n",
        "17           bosTauMd3\n",
        "18             braFlo1\n",
        "19             caeJap1\n",
        "20              caePb1\n",
        "21              caePb2\n",
        "22             caeRem2\n",
        "23             caeRem3\n",
        "24             calJac1\n",
        "25             calJac3\n",
        "26             calMil1\n",
        "27             canFam1\n",
        "28             canFam2\n",
        "29             canFam3\n",
        "30             cavPor3\n",
        "31                 cb1\n",
        "32                 cb3\n",
        "33                ce10\n",
        "34                 ce2\n",
        "35                 ce4\n",
        "36                 ce6\n",
        "37             cerSim1\n",
        "38             choHof1\n",
        "39             chrPic1\n",
        "40                 ci1\n",
        "41                 ci2\n",
        "42             criGri1\n",
        "43             danRer1\n",
        "44             danRer2\n",
        "45             danRer3\n",
        "46             danRer4\n",
        "47             danRer5\n",
        "48             danRer6\n",
        "49             danRer7\n",
        "50             dasNov3\n",
        "51             dipOrd1\n",
        "52                 dm1\n",
        "53                 dm2\n",
        "54                 dm3\n",
        "55                 dp2\n",
        "56                 dp3\n",
        "57             droAna1\n",
        "58             droAna2\n",
        "59             droEre1\n",
        "60             droGri1\n",
        "61             droMoj1\n",
        "62             droMoj2\n",
        "63             droPer1\n",
        "64             droSec1\n",
        "65             droSim1\n",
        "66             droVir1\n",
        "67             droVir2\n",
        "68             droYak1\n",
        "69             droYak2\n",
        "70             echTel1\n",
        "71             echTel2\n",
        "72             equCab1\n",
        "73             equCab2\n",
        "74             eriEur1\n",
        "75             eriEur2\n",
        "76             felCat3\n",
        "77             felCat4\n",
        "78             felCat5\n",
        "79                 fr1\n",
        "80                 fr2\n",
        "81                 fr3\n",
        "82             gadMor1\n",
        "83             galGal2\n",
        "84             galGal3\n",
        "85             galGal4\n",
        "86             gasAcu1\n",
        "87             geoFor1\n",
        "88                  go\n",
        "89            go080130\n",
        "90            go140213\n",
        "91             gorGor3\n",
        "92             hetGla1\n",
        "93             hetGla2\n",
        "94                hg16\n",
        "95                hg17\n",
        "96                hg18\n",
        "97                hg19\n",
        "98         hg19Patch10\n",
        "99          hg19Patch2\n",
        "100         hg19Patch5\n",
        "101         hg19Patch9\n",
        "102               hg38\n",
        "103            hgFixed\n",
        "104             hgTemp\n",
        "105          hgcentral\n",
        "106            latCha1\n",
        "107            loxAfr3\n",
        "108            macEug1\n",
        "109            macEug2\n",
        "110            melGal1\n",
        "111            melUnd1\n",
        "112            micMur1\n",
        "113               mm10\n",
        "114         mm10Patch1\n",
        "115                mm5\n",
        "116                mm6\n",
        "117                mm7\n",
        "118                mm8\n",
        "119                mm9\n",
        "120            monDom1\n",
        "121            monDom4\n",
        "122            monDom5\n",
        "123            musFur1\n",
        "124            myoLuc2\n",
        "125            nomLeu1\n",
        "126            nomLeu2\n",
        "127            nomLeu3\n",
        "128            ochPri2\n",
        "129            oreNil1\n",
        "130            oreNil2\n",
        "131            ornAna1\n",
        "132            oryCun2\n",
        "133            oryLat2\n",
        "134            otoGar3\n",
        "135            oviAri1\n",
        "136            oviAri3\n",
        "137            panTro1\n",
        "138            panTro2\n",
        "139            panTro3\n",
        "140            panTro4\n",
        "141            papAnu2\n",
        "142            papHam1\n",
        "143 performance_schema\n",
        "144            petMar1\n",
        "145            petMar2\n",
        "146            ponAbe2\n",
        "147            priPac1\n",
        "148            proCap1\n",
        "149     proteins120806\n",
        "150     proteins121210\n",
        "151     proteins140122\n",
        "152           proteome\n",
        "153            pteVam1\n",
        "154            rheMac1\n",
        "155            rheMac2\n",
        "156            rheMac3\n",
        "157                rn3\n",
        "158                rn4\n",
        "159                rn5\n",
        "160            sacCer1\n",
        "161            sacCer2\n",
        "162            sacCer3\n",
        "163            saiBol1\n",
        "164            sarHar1\n",
        "165            sorAra1\n",
        "166           sp120323\n",
        "167           sp121210\n",
        "168           sp140122\n",
        "169            speTri2\n",
        "170            strPur1\n",
        "171            strPur2\n",
        "172            susScr2\n",
        "173            susScr3\n",
        "174            taeGut1\n",
        "175            taeGut2\n",
        "176            tarSyr1\n",
        "177               test\n",
        "178            tetNig1\n",
        "179            tetNig2\n",
        "180            triMan1\n",
        "181            tupBel1\n",
        "182            turTru2\n",
        "183            uniProt\n",
        "184            vicPac1\n",
        "185            vicPac2\n",
        "186           visiGene\n",
        "187            xenTro1\n",
        "188            xenTro2\n",
        "189            xenTro3"
       ]
      }
     ],
     "prompt_number": 2
    },
    {
     "cell_type": "code",
     "collapsed": false,
     "input": [],
     "language": "python",
     "metadata": {},
     "outputs": []
    },
    {
     "cell_type": "code",
     "collapsed": false,
     "input": [],
     "language": "python",
     "metadata": {},
     "outputs": []
    },
    {
     "cell_type": "code",
     "collapsed": false,
     "input": [],
     "language": "python",
     "metadata": {},
     "outputs": []
    },
    {
     "cell_type": "markdown",
     "metadata": {},
     "source": [
      "## Merging data - merge()"
     ]
    },
    {
     "cell_type": "code",
     "collapsed": false,
     "input": [
      "mergedData <- merge(reviews, solutions, by.x=\"solution_id\", by.y=\"id\",\n",
      "                    all=T)\n"
     ],
     "language": "python",
     "metadata": {},
     "outputs": []
    }
   ],
   "metadata": {}
  }
 ]
}