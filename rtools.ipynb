{
 "metadata": {
  "name": "",
  "signature": "sha256:4e02e1ce277b6103c9b17f2c5a13c775c9a4c9d99b04c01906728977129b5bde"
 },
 "nbformat": 3,
 "nbformat_minor": 0,
 "worksheets": [
  {
   "cells": [
    {
     "cell_type": "markdown",
     "metadata": {},
     "source": [
      "<a name=\"top\"></a>\n",
      "\n",
      "* [R Data Types](#sec1_datatypes)\n",
      "   1. [Atomic classes](#atomic_classes)\n",
      "   2. [Object attributes](#attribs)\n",
      "   3. [Create Vectors](#cr_vecs)\n",
      "   4. [Explicit Coercion](#coercion)\n",
      "   5. [Matrices](#matrices)\n",
      "   6. [Lists](#lists)\n",
      "\n",
      "\n"
     ]
    },
    {
     "cell_type": "markdown",
     "metadata": {},
     "source": [
      "<a name=\"sec1_datatypes\"></a>\n",
      "\n",
      "# R Data Types   \n",
      "[top](#top)\n",
      "\n",
      "\n",
      "<a name=\"atomic_classes\"></a>\n",
      "## Atomic classes in R:\n",
      "\n",
      "* charcater\n",
      "* numeric\n",
      "* integer (L)\n",
      "* complex\n",
      "* logical (TRUE/FALSE)\n",
      "\n",
      "<b> Special numbers </b> Inf and NaN: 1/0 = Inf  and 1/Inf = 0;  0/0=NaN\n",
      "\n",
      "<a name=\"attribs\"></a>\n",
      "## Object attributes:\n",
      "\n",
      "* names, dimnames\n",
      "* dimensions (for matrices and arrays)\n",
      "* class\n",
      "* length\n",
      "* Other user defined attributes\n",
      "\n",
      "<b> attributes() </b> to get list of attributes of an object\n",
      "\n",
      "<a name=\"cr_vecs\"></a>\n",
      "## Creating vectors\n",
      "\n",
      "* **vector()** :  to create an empty vector\n",
      "* vector(\"numeric\", length=10)\n",
      "* c('a', 'b')  : to concatenate multiple objects into a single vector\n",
      "* Mixing objects from different classes: c(1.5, 'a') : coercion\n",
      "\n",
      "<a name=\"coercion\"></a>\n",
      "## Explicit coercion\n",
      "\n",
      "* as.character()\n",
      "* as.numeric()\n",
      "* as.logical()\n",
      "* as.complex()"
     ]
    },
    {
     "cell_type": "code",
     "collapsed": false,
     "input": [
      "x <- 0:6\n",
      "print(x)\n",
      "print(as.logical(x))\n",
      "print(as.complex(x))"
     ],
     "language": "python",
     "metadata": {},
     "outputs": [
      {
       "output_type": "stream",
       "stream": "stdout",
       "text": [
        "[1] 0 1 2 3 4 5 6\n"
       ]
      },
      {
       "output_type": "stream",
       "stream": "stdout",
       "text": [
        "[1] FALSE  TRUE  TRUE  TRUE  TRUE  TRUE  TRUE\n"
       ]
      },
      {
       "output_type": "stream",
       "stream": "stdout",
       "text": [
        "[1] 0+0i 1+0i 2+0i 3+0i 4+0i 5+0i 6+0i\n"
       ]
      }
     ],
     "prompt_number": 7
    },
    {
     "cell_type": "markdown",
     "metadata": {},
     "source": [
      "<a name=\"matrices\"></a>\n",
      "## Matrices\n",
      "To create a vector:\n",
      "\n",
      "* create a matrox by **matrix()** function\n",
      "* change the dimension of a vector **dim()**\n",
      "* binding vectors and matruces: **cbind()** and **rbind()**"
     ]
    },
    {
     "cell_type": "code",
     "collapsed": false,
     "input": [
      "m <- matrix(nrow=2, ncol=3)\n",
      "print(m)\n",
      "attributes(m)"
     ],
     "language": "python",
     "metadata": {},
     "outputs": [
      {
       "output_type": "stream",
       "stream": "stdout",
       "text": [
        "     [,1] [,2] [,3]\n",
        "[1,]   NA   NA   NA\n",
        "[2,]   NA   NA   NA\n"
       ]
      },
      {
       "metadata": {},
       "output_type": "pyout",
       "prompt_number": 12,
       "text": [
        "$dim\n",
        "[1] 2 3\n"
       ]
      }
     ],
     "prompt_number": 12
    },
    {
     "cell_type": "code",
     "collapsed": false,
     "input": [
      "# Method1: create a matrix by matrix()\n",
      "m1 <- matrix(1:6, nrow=2, ncol=3)\n",
      "print(m1)\n",
      "# Method2: change the dimension of a vector\n",
      "m2 <- 1:6\n",
      "dim(m2) = c(2,3)\n",
      "print(m2)"
     ],
     "language": "python",
     "metadata": {},
     "outputs": [
      {
       "output_type": "stream",
       "stream": "stdout",
       "text": [
        "     [,1] [,2] [,3]\n",
        "[1,]    1    3    5\n",
        "[2,]    2    4    6\n"
       ]
      },
      {
       "output_type": "stream",
       "stream": "stdout",
       "text": [
        "     [,1] [,2] [,3]\n",
        "[1,]    1    3    5\n",
        "[2,]    2    4    6\n"
       ]
      }
     ],
     "prompt_number": 13
    },
    {
     "cell_type": "code",
     "collapsed": false,
     "input": [
      "x <- 1:4\n",
      "y <- 6:9\n",
      "cbind(x,y)\n",
      "rbind(x,y)"
     ],
     "language": "python",
     "metadata": {},
     "outputs": [
      {
       "metadata": {},
       "output_type": "pyout",
       "prompt_number": 14,
       "text": [
        "     x y\n",
        "[1,] 1 6\n",
        "[2,] 2 7\n",
        "[3,] 3 8\n",
        "[4,] 4 9"
       ]
      },
      {
       "metadata": {},
       "output_type": "pyout",
       "prompt_number": 14,
       "text": [
        "  [,1] [,2] [,3] [,4]\n",
        "x    1    2    3    4\n",
        "y    6    7    8    9"
       ]
      }
     ],
     "prompt_number": 14
    },
    {
     "cell_type": "markdown",
     "metadata": {},
     "source": [
      "<a name=\"lists\"></a>\n",
      "## Lists\n",
      "Lists are special vectors that can store elements from different classes\n",
      "\n",
      "* Create a list by **list()**"
     ]
    },
    {
     "cell_type": "code",
     "collapsed": false,
     "input": [
      "x <- list(23, \"abc\", 1+5i, TRUE)\n",
      "print(x)"
     ],
     "language": "python",
     "metadata": {},
     "outputs": [
      {
       "output_type": "stream",
       "stream": "stdout",
       "text": [
        "[[1]]\n",
        "[1] 23\n",
        "\n",
        "[[2]]\n",
        "[1] \"abc\"\n",
        "\n",
        "[[3]]\n",
        "[1] 1+5i\n",
        "\n",
        "[[4]]\n",
        "[1] TRUE\n",
        "\n"
       ]
      }
     ],
     "prompt_number": 20
    },
    {
     "cell_type": "markdown",
     "metadata": {},
     "source": [
      "<a name=\"factors\"></a>\n",
      "## Factors\n",
      "Factors are a special data type to represent categorical variables, such as gender ('male', 'female'), patterm classes ('1', '2') ..\n",
      "\n",
      "* Create factors by **factor()**\n",
      "* Access the labels: **levels()**\n",
      "* Make a table view of number of items in each factor: **table()**\n",
      "\n",
      "Factor levels are ordered by default in alphabetic order. In order to directly specify the order: **factor(vec, levels=c(\"male\", \"female\"))**"
     ]
    },
    {
     "cell_type": "code",
     "collapsed": false,
     "input": [
      "## create a vector of factors\n",
      "xf <- factor(c(\"male\", \"female\", \"female\", \"female\", \"male\", \"female\", \"female\", \"male\", \"female\"))\n",
      "str(xf)\n",
      "## print levels of xf\n",
      "levels(xf)\n",
      "unclass(xf)"
     ],
     "language": "python",
     "metadata": {},
     "outputs": [
      {
       "output_type": "stream",
       "stream": "stdout",
       "text": [
        " Factor w/ 2 levels \"female\",\"male\": 2 1 1 1 2 1 1 2 1\n"
       ]
      },
      {
       "metadata": {},
       "output_type": "pyout",
       "prompt_number": 28,
       "text": [
        "[1] \"female\" \"male\"  "
       ]
      },
      {
       "metadata": {},
       "output_type": "pyout",
       "prompt_number": 28,
       "text": [
        "[1] 2 1 1 1 2 1 1 2 1\n",
        "attr(,\"levels\")\n",
        "[1] \"female\" \"male\"  "
       ]
      }
     ],
     "prompt_number": 28
    },
    {
     "cell_type": "code",
     "collapsed": false,
     "input": [
      "table(xf)"
     ],
     "language": "python",
     "metadata": {},
     "outputs": [
      {
       "metadata": {},
       "output_type": "pyout",
       "prompt_number": 24,
       "text": [
        "xf\n",
        "female   male \n",
        "     3      2 "
       ]
      }
     ],
     "prompt_number": 24
    },
    {
     "cell_type": "markdown",
     "metadata": {},
     "source": [
      "## Missing values\n",
      "Missing values are denoted by ***NA*** or ***NaN***\n",
      "\n",
      " ***NaN*** is for undefined mathematical operations such as 0/0. ***NaN*** is a sub-type of **NA**\n",
      "\n",
      "* **is.na()** and **is.nan()** to test whether vector elements are missing"
     ]
    },
    {
     "cell_type": "code",
     "collapsed": false,
     "input": [
      "x <- c(1,2,3, NA, 6, NaN, 8)\n",
      "is.na(x)\n",
      "is.nan(x)"
     ],
     "language": "python",
     "metadata": {},
     "outputs": [
      {
       "metadata": {},
       "output_type": "pyout",
       "prompt_number": 30,
       "text": [
        "[1] FALSE FALSE FALSE  TRUE FALSE  TRUE FALSE"
       ]
      },
      {
       "metadata": {},
       "output_type": "pyout",
       "prompt_number": 30,
       "text": [
        "[1] FALSE FALSE FALSE FALSE FALSE  TRUE FALSE"
       ]
      }
     ],
     "prompt_number": 30
    },
    {
     "cell_type": "code",
     "collapsed": false,
     "input": [
      "\n",
      "con <- url(\"http://www.jhsph.edu\", \"r\")\n",
      "\n",
      "x <- readLines(con)\n",
      "\n",
      "head(x)"
     ],
     "language": "python",
     "metadata": {},
     "outputs": [
      {
       "metadata": {},
       "output_type": "pyout",
       "prompt_number": 15,
       "text": [
        "[1] \"<!DOCTYPE html>\"                                               \n",
        "[2] \"<html lang=\\\"en\\\">\"                                            \n",
        "[3] \"\"                                                              \n",
        "[4] \"<head>\"                                                        \n",
        "[5] \"<meta charset=\\\"utf-8\\\" />\"                                    \n",
        "[6] \"<title>Johns Hopkins Bloomberg School of Public Health</title>\""
       ]
      }
     ],
     "prompt_number": 15
    },
    {
     "cell_type": "code",
     "collapsed": false,
     "input": [
      "ucscDb <- dbConnect(MySQL(), user=\"genome\", host=\"genome-mysql.cse.ucsc.edu\")\n",
      "result <- dbGetQuery(ucscDb, \"show databases;\")\n",
      "dbDisconnect(ucscDb)\n",
      "result"
     ],
     "language": "python",
     "metadata": {},
     "outputs": [],
     "prompt_number": 3
    },
    {
     "cell_type": "markdown",
     "metadata": {},
     "source": [
      "<h3> Merging data - merge() </h3>\n"
     ]
    },
    {
     "cell_type": "code",
     "collapsed": false,
     "input": [
      "mergedData <- merge(reviews, solutions, by.x=\"solution_id\", by.y=\"id\",\n",
      "                    all=T)\n",
      "\n"
     ],
     "language": "python",
     "metadata": {},
     "outputs": []
    }
   ],
   "metadata": {}
  }
 ]
}