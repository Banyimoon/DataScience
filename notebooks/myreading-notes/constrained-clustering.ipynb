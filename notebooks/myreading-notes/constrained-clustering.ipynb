{
 "cells": [
  {
   "cell_type": "markdown",
   "metadata": {},
   "source": [
    "Constrained Clustering\n",
    "===\n",
    "\n",
    "\n",
    "Forms of constraints:\n",
    " * Must-Link $ML(a,b)$ \n",
    "   * also refered to as *positive constraint*\n",
    " * Cannot-Link $CL(a,b)$ \n",
    "   * also known as *negative constraint*\n",
    " \n",
    "Properties of constraints:\n",
    " * Transitive property: $ML(a,b)\\ \\&\\ ML(b,c)\\ \\rightarrow\\ ML(a,c)$\n",
    " * Symmetric\n",
    " * Reflexive\n",
    " \n",
    "$CL(a,b) \\ \\&\\ ML(b,c) \\ \\rightarrow \\ CL(a,c)$\n",
    "\n",
    "### Applications and Advantages\n",
    "\n",
    " * Easy t o account for domain knowledge and different kinds of clues\n",
    " * No need to have lots of constraints, even a small number could be effective\n",
    "\n",
    "#### Obtaining (extracting) constrinats \n",
    "  * manual approach: asking a human expert whether pairs of items must be linked or not\n",
    "  * automatic approach: using internal or external clues\n",
    "  \n",
    "#### Robustness of constrained clustering algorithms\n",
    "  * effect of different sets of constraints \n",
    "  \n",
    "#### Constraint feasibility\n",
    "  * related to the correctness of constraints\n",
    "  * Example of infeasible constraints:\n",
    "    * $X=\\{x_1, x_2, x_3\\}$ with $k=2$\n",
    "    * Constraints: $\\{CL\\{x_1,x_2\\}, CL\\{x_2,x_3\\}, \\{x_1,x_3\\}\\}$\n",
    "  * Testing the feasibility \n",
    "    * positive constraints: $P$ problem\n",
    "    * negative constraints: $NP$ problem"
   ]
  },
  {
   "cell_type": "markdown",
   "metadata": {},
   "source": [
    "## Constrained Clustering Algorithms\n",
    "\n",
    " * **constraint-based methods** directly altering the clustering flow\n",
    " * **distance-based methods** learning a distance metric that accomodates for the given constraints."
   ]
  },
  {
   "cell_type": "markdown",
   "metadata": {
    "collapsed": true
   },
   "source": [
    "#### Constrained K-Means by Wagstaff et al. (2001)\n",
    "\n",
    "In the cluster assignment phase of K-means algorithm, for any point, check if it violates the constraints or not.\n",
    "\n",
    " * Positive constraints can be easily satisfied\n",
    " * Blindly assigns points correspond to a positive (Must-link) constraint to the same cluster\n",
    " * There can be a situation in which a set of negative (Cannot-link) constraints can make the clustering infeasible"
   ]
  },
  {
   "cell_type": "markdown",
   "metadata": {
    "collapsed": true
   },
   "source": [
    "#### Pairwise Constrained K-Means (PCKM) by Basu et al. (2004)\n",
    "\n",
    " * A new objective function $\\phi_{pckm}$\n",
    " \n",
    " $$\\phi_{pckm}(\\Omega) = SSE(\\Omega) + \\text{penalty}_{ML}(\\Omega) + \\text{penalty}_{CL} (\\Omega)$$\n",
    " \n",
    " \n",
    " * $SSE=\\sum \\sum_{}^{} |x_i - \\omega_j|$: compactness of clusters\n",
    " * $\\text{penalty}_{ML}= \\omega_{ij} 1[l_i \\ne l_j]$\n",
    " * $\\text{penalty}_{CL}= \\bar{\\omega}_{ij} 1[l_i = l_j]$"
   ]
  },
  {
   "cell_type": "markdown",
   "metadata": {
    "collapsed": true
   },
   "source": [
    "#### HMRF K-Means \n",
    "\n",
    "**HMRF = Hidden Markov Random Field**\n",
    "\n",
    "A hybrid approach, between constraint-based and distance-based\n",
    "\n",
    "$$\\phi_{hmrfkm}(\\Omega) = \\sum \\sum D(x,\\omega_j) + \\sum_{x_i,x_j\\in ML} \\omega_{ij} \\xi_D 1[l_i \\ne l_j]  + \\\\ \\sum_{x_i,x_j\\in CL} \\bar{\\omega}_{ij} \\left(\\xi(D_{\\max}) - \\xi_D(x_i,x_j)\\right) 1[l_i = l_j] + \\\\ \\log Z$$"
   ]
  },
  {
   "cell_type": "markdown",
   "metadata": {},
   "source": [
    "#### Constrained Normalized Cut\n",
    "\n",
    "#### Spectral clustering\n",
    "\n",
    " Transform the data into a weighted graph $G=(V,E,W)$ where the set of vertices $V=\\{v_1, v_2, .. v_n\\}$ represent the original data points, and weights of edges represent the similarity between pairs of points.\n",
    " \n",
    " Graph-cut problem: partition he graph into k connected components such that the weigth of edges, $Cut(C_a, C_b)=\\displaystyle \\sum_{i\\in C_a, j\\in C_b} w_{ij}$\n",
    " \n",
    " **Normalized Cut** For a clustering $C=\\{C_1, C_2, ..C_k\\}$, the NCut value is defined by $NCut(C) = \\displaystyle \\sum_{j=1}^k \\frac{Cut(C_j,\\bar{C}_j)}{Vol(C_j)}$\n",
    " \n",
    " Volume of a partition $Vol(C_a)=\\displaystyle \\sum_{i\\in C_a} \\sum_{j=1}^{n} w_{ij}$ \n",
    " \n",
    " * **Membership Matrix $H=[h_{ij}]_{n\\times k}$** where $h_{ij} = \\left\\{\\begin{array}{cc}\\displaystyle \\frac{1}{\\sqrt{Vol(C_j)}} & \\text{if }i\\in C_j\\\\ 0 & \\text{otherwise}\\end{array}\\right.$\n",
    " * **Diagonal Matrix $D=[d_{ij}]_{n\\times n}$** where $d_{ii} = \\text{degree}(i)=\\sum_{j=1}^n w_{ij}$\n",
    " * **Laplacian Matrix $L = D - W$**\n",
    " \n",
    " $$\\displaystyle \\min_{C_1, C_2, ..C_k} \\text{Trace}\\left(H^T L H \\right) \\text{ s.t. } H^T D H = I$$\n",
    " \n",
    " \n",
    " * If trying to each discrete membership values $\\rightarrow$ NP-hard\n",
    " * Relaxing the discrete membership, allowing them to be in $R^k$\n",
    " * $Y = D^{1/2} H$ and solve the following $$\\displaystyle \\min_{Y\\in R^{n\\times k}} \\text{Trace}\\left(Y^T \\left[ D^{-1/2} L D^{-1/2}\\right] Y\\right) \\text{ s.t. } Y^T Y = I$$\n",
    " * Then, use K-Means to get discrete cluster memberships\n",
    " "
   ]
  },
  {
   "cell_type": "markdown",
   "metadata": {
    "collapsed": true
   },
   "source": [
    "#### Constrained Complete Link\n",
    "\n",
    "Distance between two clusters in complete link: $$\\text{dist}(\\omega_i, \\omega_j) = \\max(\\text{dist}(x, x') \\ | \\ x \\in \\omega_i, x' \\in \\omega_j)$$\n",
    "\n",
    " * Distance-based\n",
    " * Modifying the distance between clusters as follows\n",
    "   * If two clusters are affected by a positive constraint $\\rightarrow$ set their distance to be $0$.\n",
    "   * If two clusters are affected by a negative constraint $\\rightarrow$ set their distance to be $\\infty$\n"
   ]
  },
  {
   "cell_type": "markdown",
   "metadata": {
    "collapsed": true
   },
   "source": [
    "#### Constrained Spectral Clustering\n",
    "\n",
    " * $A$ affinity matrix: \n",
    "   * $a_{ij}$ is related to the similarity between points $i$ and $j$\n",
    " * $D$ is a diagonal matrix\n",
    "   * $d_{ii}= \\sum_{j=1}^n a_{ij}$\n",
    "   * $d_{max}$\n",
    " * $B$ normalized additive normalization matrix\n",
    "   * $N = \\frac{1}{d_{max}} \\left(A + d_{max} I - D \\right)$\n",
    " * Impose Constraints:\n",
    "   * ML: set $a_{ij}$ and $a_{ji}$ to 1\n",
    "   * CL: set $a_{ij}$ and $a_{ji}$ to 0\n",
    "   * No further propagation"
   ]
  },
  {
   "cell_type": "code",
   "execution_count": null,
   "metadata": {
    "collapsed": true
   },
   "outputs": [],
   "source": []
  }
 ],
 "metadata": {
  "kernelspec": {
   "display_name": "Python 3",
   "language": "python",
   "name": "python3"
  },
  "language_info": {
   "codemirror_mode": {
    "name": "ipython",
    "version": 3
   },
   "file_extension": ".py",
   "mimetype": "text/x-python",
   "name": "python",
   "nbconvert_exporter": "python",
   "pygments_lexer": "ipython3",
   "version": "3.5.1"
  }
 },
 "nbformat": 4,
 "nbformat_minor": 0
}
