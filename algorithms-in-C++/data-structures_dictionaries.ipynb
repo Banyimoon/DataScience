{
 "cells": [
  {
   "cell_type": "markdown",
   "metadata": {},
   "source": [
    "Dictionaries\n",
    "===\n",
    "\n",
    "Also known as **map** or **table**, is an abstract data type (ADT)\n",
    "\n",
    "Relies on key, value pair\n",
    "\n",
    "Inserting a duplicate key into dictionary:\n",
    "  * deny the insert attempt, and keep the original entry\n",
    "  * replace the existing entry\n",
    "  \n",
    "Member functions:\n",
    " + isEmpty()\n",
    " + getNumberOfEntries()\n",
    " + add(searchKey, )\n",
    " + remove(searchKey)\n",
    " + clear()\n",
    " + getItem(searchKey)\n",
    " + contains(searchKey)\n",
    " + traverse(visit)"
   ]
  },
  {
   "cell_type": "markdown",
   "metadata": {},
   "source": [
    "\n",
    "\n",
    "**Template**\n",
    "\n",
    "```c++\n",
    "template<class KeyType, class ValueType>\n",
    "```\n",
    "\n",
    "### Interface\n",
    "\n",
    "```c++\n",
    "virtual bool isEmpty() const = 0;\n",
    "```\n",
    "\n",
    "In an interface, there is no body of code, but just a **signature** of functions with `virtual` keyword. Any class that uses those function, is responsible for implementing the bsy of those functions."
   ]
  },
  {
   "cell_type": "markdown",
   "metadata": {},
   "source": [
    "\n",
    "\n",
    "```c++\n",
    "template<class KeyType, class ValueType>\n",
    "class DictionaryInterface {\n",
    "    public:\n",
    "        virtual bool isEmpty() const = 0;\n",
    "        virtual int getNumberOfEntries() const = 0;\n",
    "        virtual add(const KeyType & searchKey, ) ;\n",
    "}\n",
    "```"
   ]
  },
  {
   "cell_type": "markdown",
   "metadata": {},
   "source": [
    "## Implementation"
   ]
  },
  {
   "cell_type": "markdown",
   "metadata": {},
   "source": [
    "### Linear implementation\n",
    "\n",
    " * Array based\n",
    " * Linked-list"
   ]
  },
  {
   "cell_type": "markdown",
   "metadata": {},
   "source": [
    "\n",
    "\n",
    "```c++\n",
    "template<class KeyType, class ValueType>\n",
    "class Entry {\n",
    "    private:\n",
    "    \n",
    "    protected:\n",
    "        void setKey(\n",
    "    public:\n",
    "        Entry();\n",
    "        Entry(KeyType \n",
    "        \n",
    "        \n",
    "\n",
    "}\n",
    "```"
   ]
  },
  {
   "cell_type": "code",
   "execution_count": null,
   "metadata": {
    "collapsed": true
   },
   "outputs": [],
   "source": []
  }
 ],
 "metadata": {
  "kernelspec": {
   "display_name": "Python 3",
   "language": "python",
   "name": "python3"
  },
  "language_info": {
   "codemirror_mode": {
    "name": "ipython",
    "version": 3
   },
   "file_extension": ".py",
   "mimetype": "text/x-python",
   "name": "python",
   "nbconvert_exporter": "python",
   "pygments_lexer": "ipython3",
   "version": "3.5.0"
  }
 },
 "nbformat": 4,
 "nbformat_minor": 0
}
