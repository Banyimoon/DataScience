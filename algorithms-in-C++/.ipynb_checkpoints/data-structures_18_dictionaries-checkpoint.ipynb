{
 "cells": [
  {
   "cell_type": "markdown",
   "metadata": {},
   "source": [
    "Dictionaries\n",
    "===\n",
    "\n",
    "\n",
    "<img src=\"figs/hashing-intro.png\" width=500></img>\n",
    "\n",
    "Also known as **map** or **table**, is an abstract data type (ADT)\n",
    "\n",
    "Relies on key, value pair\n",
    "\n",
    "Inserting a duplicate key into dictionary:\n",
    "  * deny the insert attempt, and keep the original entry\n",
    "  * replace the existing entry\n",
    "  \n",
    "Member functions:\n",
    " + isEmpty()\n",
    " + getNumberOfEntries()\n",
    " + add(searchKey, )\n",
    " + remove(searchKey)\n",
    " + clear()\n",
    " + getItem(searchKey)\n",
    " + contains(searchKey)\n",
    " + traverse(visit)"
   ]
  },
  {
   "cell_type": "markdown",
   "metadata": {},
   "source": [
    "\n",
    "\n",
    "**Template**\n",
    "\n",
    "```c++\n",
    "template<class KeyType, class ValueType>\n",
    "```\n",
    "\n",
    "### Interface\n",
    "\n",
    "```c++\n",
    "virtual bool isEmpty() const = 0;\n",
    "```\n",
    "\n",
    "In an interface, there is no body of code, but just a **signature** of functions with `virtual` keyword. Any class that uses those function, is responsible for implementing the bsy of those functions."
   ]
  },
  {
   "cell_type": "markdown",
   "metadata": {},
   "source": [
    "\n",
    "\n",
    "```c++\n",
    "template<class KeyType, class ValueType>\n",
    "class DictionaryInterface {\n",
    "    public:\n",
    "        virtual bool isEmpty() const = 0;\n",
    "        virtual int getNumberOfEntries() const = 0;\n",
    "        virtual add(const KeyType & searchKey, ) ;\n",
    "}\n",
    "```\n",
    "\n",
    "## Entry class\n",
    "\n",
    " * An entry object has two parts: search key, and object value\n",
    "\n",
    "\n",
    "```c++\n",
    "template<class KeyType, class ValueType>\n",
    "class Entry {\n",
    "    private:\n",
    "    \n",
    "    protected:\n",
    "        void setKey(\n",
    "    public:\n",
    "        Entry();\n",
    "        Entry(KeyType \n",
    "        \n",
    "        bool isEmpty(\n",
    "        ValueType getItem(\n",
    "        \n",
    "        void setKey(\n",
    "        void add(\n",
    "        void remove(\n",
    "        \n",
    "\n",
    "}\n",
    "```"
   ]
  },
  {
   "cell_type": "markdown",
   "metadata": {},
   "source": [
    "## Design og the Entry Class\n",
    "\n",
    " \n",
    "\n",
    "## Implementation"
   ]
  },
  {
   "cell_type": "markdown",
   "metadata": {},
   "source": [
    "### Linear implementation\n",
    "\n",
    " * Array based\n",
    " * Linked-list"
   ]
  },
  {
   "cell_type": "markdown",
   "metadata": {},
   "source": [
    "```c++\n",
    "class ArrayDictionary : public DictionaryInterface<KeyType, ValueType>\n",
    "{\n",
    "    private:\n",
    "        static const int DEFAULT_CAPACITY = 21;\n",
    "        \n",
    "        Entry<\n",
    "        int itemCount (\n",
    "           findEntryIndex(\n",
    "        void destroyDictionary(\n",
    "    \n",
    "    public:\n",
    "        bool isEmpty(\n",
    "        int getNumberOfEntries(\n",
    "        bool add(\n",
    "        bool remove(\n",
    "        void clear(\n",
    "        \n",
    "}\n",
    "```"
   ]
  },
  {
   "cell_type": "markdown",
   "metadata": {},
   "source": [
    "### Non-linear implementation\n",
    "\n"
   ]
  },
  {
   "cell_type": "markdown",
   "metadata": {
    "collapsed": true
   },
   "source": [
    "* Using Binary Search Tree\n",
    "\n",
    "```c++\n",
    "#include \"DictionaryInterface.h\"\n",
    "#include \"\"\n",
    "\n",
    "\n",
    "```"
   ]
  },
  {
   "cell_type": "markdown",
   "metadata": {},
   "source": []
  }
 ],
 "metadata": {
  "kernelspec": {
   "display_name": "Python 3",
   "language": "python",
   "name": "python3"
  },
  "language_info": {
   "codemirror_mode": {
    "name": "ipython",
    "version": 3
   },
   "file_extension": ".py",
   "mimetype": "text/x-python",
   "name": "python",
   "nbconvert_exporter": "python",
   "pygments_lexer": "ipython3",
   "version": "3.5.0rc4"
  }
 },
 "nbformat": 4,
 "nbformat_minor": 0
}
