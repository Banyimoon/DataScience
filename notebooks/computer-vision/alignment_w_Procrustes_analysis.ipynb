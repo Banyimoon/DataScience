{
 "cells": [
  {
   "cell_type": "code",
   "execution_count": 1,
   "metadata": {
    "collapsed": false
   },
   "outputs": [],
   "source": [
    "import numpy as np\n",
    "import matplotlib.pyplot as plt\n",
    "\n",
    "%matplotlib inline\n",
    "\n",
    "def plotFaceShape(shape):\n",
    "    plt.plot(shape[0:15, 0], shape[0:15, 1])\n",
    "    plt.plot(shape[0:15, 0], shape[0:15, 1], 'bo')\n",
    "    \n",
    "    plt.plot(shape[15:21,0], shape[15:21, 1], 'g')\n",
    "    plt.plot(shape[15:21,0], shape[15:21, 1], 'go')\n",
    "    plt.plot(shape[21:27,0], shape[21:27, 1], 'g')\n",
    "    plt.plot(shape[21:27,0], shape[21:27, 1], 'go')\n",
    "    \n",
    "    plt.plot(shape[27:31,0], shape[27:31, 1], 'r')\n",
    "    plt.plot(shape[27:31,0], shape[27:31, 1], 'ro')\n",
    "    plt.plot(shape[32:36,0], shape[32:36, 1], 'r')\n",
    "    plt.plot(shape[32:36,0], shape[32:36, 1], 'ro')\n",
    "    plt.plot(shape[68:72,0], shape[68:72, 1], 'r')\n",
    "    plt.plot(shape[68:72,0], shape[68:72, 1], 'ro')\n",
    "    plt.plot(shape[72:76,0], shape[72:76, 1], 'r')\n",
    "    plt.plot(shape[72:76,0], shape[72:76, 1], 'ro')\n",
    "    \n",
    "\n",
    "    plt.plot(shape[37:46,0], shape[37:46, 1], 'y')\n",
    "    plt.plot(shape[37:46,0], shape[37:46, 1], 'yo')\n",
    "\n",
    "    plt.plot(shape[48:60,0], shape[48:60, 1], 'c')\n",
    "    plt.plot(shape[48:60,0], shape[48:60, 1], 'co')\n",
    "    plt.plot(shape[60:66,0], shape[60:66, 1], 'c')\n",
    "    plt.plot(shape[60:66,0], shape[60:66, 1], 'co')\n",
    "    \n",
    "    extra_points = np.array([31,36,66,67])\n",
    "    plt.plot(shape[extra_points,0], shape[extra_points,1], 'y*')\n",
    "    "
   ]
  },
  {
   "cell_type": "markdown",
   "metadata": {},
   "source": [
    "**Procrustes Analysis:**\n",
    "\n",
    "  1. Translate each example such that its  centroid is at origin, and scale them so that $|\\mathbf{x}|=1$\n",
    "  2. Choose the first example as the initial estimate of the mean shape ($\\bar{\\mathbf{x}}$), and save a copy as a reference ($\\mathbf{\\bar{x}_0}$)\n",
    "  3. Align all the examples with the current estimate of the mean ($\\bar{\\mathbf{x}}$)\n",
    "  4. Re-estimate mean from the aligned shapes\n",
    "  5. Apply constraints on the current estiate of the mean by aligning it with reference $\\mathbf{\\bar{x}_0}$ and scaling so that $|\\bar{\\mathbf{x}}|=1$\n",
    "  6. Repeat steps 3, 4, 5 until convergence"
   ]
  },
  {
   "cell_type": "code",
   "execution_count": 2,
   "metadata": {
    "collapsed": false
   },
   "outputs": [
    {
     "data": {
      "text/html": [
       "<div>\n",
       "<table border=\"1\" class=\"dataframe\">\n",
       "  <thead>\n",
       "    <tr style=\"text-align: right;\">\n",
       "      <th></th>\n",
       "      <th>x00</th>\n",
       "      <th>y00</th>\n",
       "      <th>x01</th>\n",
       "      <th>y01</th>\n",
       "      <th>x02</th>\n",
       "      <th>y02</th>\n",
       "      <th>x03</th>\n",
       "      <th>y03</th>\n",
       "      <th>x04</th>\n",
       "      <th>y04</th>\n",
       "      <th>...</th>\n",
       "      <th>x71</th>\n",
       "      <th>y71</th>\n",
       "      <th>x72</th>\n",
       "      <th>y72</th>\n",
       "      <th>x73</th>\n",
       "      <th>y73</th>\n",
       "      <th>x74</th>\n",
       "      <th>y74</th>\n",
       "      <th>x75</th>\n",
       "      <th>y75</th>\n",
       "    </tr>\n",
       "  </thead>\n",
       "  <tbody>\n",
       "    <tr>\n",
       "      <th>0</th>\n",
       "      <td>201.0</td>\n",
       "      <td>348.0</td>\n",
       "      <td>201.0</td>\n",
       "      <td>381.0</td>\n",
       "      <td>202.0</td>\n",
       "      <td>408.0</td>\n",
       "      <td>209.0</td>\n",
       "      <td>435.0</td>\n",
       "      <td>224.0</td>\n",
       "      <td>461.0</td>\n",
       "      <td>...</td>\n",
       "      <td>235.5</td>\n",
       "      <td>348.5</td>\n",
       "      <td>338.0</td>\n",
       "      <td>333.5</td>\n",
       "      <td>324.0</td>\n",
       "      <td>335.5</td>\n",
       "      <td>326.0</td>\n",
       "      <td>342.5</td>\n",
       "      <td>340.0</td>\n",
       "      <td>340.5</td>\n",
       "    </tr>\n",
       "    <tr>\n",
       "      <th>1</th>\n",
       "      <td>162.0</td>\n",
       "      <td>357.0</td>\n",
       "      <td>157.0</td>\n",
       "      <td>387.0</td>\n",
       "      <td>160.0</td>\n",
       "      <td>418.0</td>\n",
       "      <td>167.0</td>\n",
       "      <td>446.0</td>\n",
       "      <td>182.0</td>\n",
       "      <td>477.0</td>\n",
       "      <td>...</td>\n",
       "      <td>202.5</td>\n",
       "      <td>359.0</td>\n",
       "      <td>305.5</td>\n",
       "      <td>346.0</td>\n",
       "      <td>291.5</td>\n",
       "      <td>348.0</td>\n",
       "      <td>292.0</td>\n",
       "      <td>354.5</td>\n",
       "      <td>306.0</td>\n",
       "      <td>352.5</td>\n",
       "    </tr>\n",
       "    <tr>\n",
       "      <th>2</th>\n",
       "      <td>212.0</td>\n",
       "      <td>352.0</td>\n",
       "      <td>203.0</td>\n",
       "      <td>380.0</td>\n",
       "      <td>200.0</td>\n",
       "      <td>407.0</td>\n",
       "      <td>211.0</td>\n",
       "      <td>439.0</td>\n",
       "      <td>224.0</td>\n",
       "      <td>479.0</td>\n",
       "      <td>...</td>\n",
       "      <td>257.5</td>\n",
       "      <td>355.0</td>\n",
       "      <td>344.5</td>\n",
       "      <td>343.5</td>\n",
       "      <td>334.0</td>\n",
       "      <td>345.0</td>\n",
       "      <td>335.0</td>\n",
       "      <td>351.0</td>\n",
       "      <td>345.5</td>\n",
       "      <td>349.5</td>\n",
       "    </tr>\n",
       "    <tr>\n",
       "      <th>3</th>\n",
       "      <td>157.0</td>\n",
       "      <td>316.0</td>\n",
       "      <td>155.0</td>\n",
       "      <td>348.0</td>\n",
       "      <td>154.0</td>\n",
       "      <td>373.0</td>\n",
       "      <td>159.0</td>\n",
       "      <td>407.0</td>\n",
       "      <td>172.0</td>\n",
       "      <td>435.0</td>\n",
       "      <td>...</td>\n",
       "      <td>192.0</td>\n",
       "      <td>319.0</td>\n",
       "      <td>295.5</td>\n",
       "      <td>311.5</td>\n",
       "      <td>280.0</td>\n",
       "      <td>313.0</td>\n",
       "      <td>282.0</td>\n",
       "      <td>320.0</td>\n",
       "      <td>297.5</td>\n",
       "      <td>318.5</td>\n",
       "    </tr>\n",
       "    <tr>\n",
       "      <th>4</th>\n",
       "      <td>201.0</td>\n",
       "      <td>373.0</td>\n",
       "      <td>200.0</td>\n",
       "      <td>408.0</td>\n",
       "      <td>203.0</td>\n",
       "      <td>433.0</td>\n",
       "      <td>213.0</td>\n",
       "      <td>463.0</td>\n",
       "      <td>226.0</td>\n",
       "      <td>481.0</td>\n",
       "      <td>...</td>\n",
       "      <td>237.0</td>\n",
       "      <td>377.5</td>\n",
       "      <td>335.5</td>\n",
       "      <td>366.5</td>\n",
       "      <td>322.0</td>\n",
       "      <td>369.0</td>\n",
       "      <td>324.5</td>\n",
       "      <td>375.0</td>\n",
       "      <td>338.0</td>\n",
       "      <td>372.5</td>\n",
       "    </tr>\n",
       "  </tbody>\n",
       "</table>\n",
       "<p>5 rows × 152 columns</p>\n",
       "</div>"
      ],
      "text/plain": [
       "     x00    y00    x01    y01    x02    y02    x03    y03    x04    y04  \\\n",
       "0  201.0  348.0  201.0  381.0  202.0  408.0  209.0  435.0  224.0  461.0   \n",
       "1  162.0  357.0  157.0  387.0  160.0  418.0  167.0  446.0  182.0  477.0   \n",
       "2  212.0  352.0  203.0  380.0  200.0  407.0  211.0  439.0  224.0  479.0   \n",
       "3  157.0  316.0  155.0  348.0  154.0  373.0  159.0  407.0  172.0  435.0   \n",
       "4  201.0  373.0  200.0  408.0  203.0  433.0  213.0  463.0  226.0  481.0   \n",
       "\n",
       "   ...      x71    y71    x72    y72    x73    y73    x74    y74    x75    y75  \n",
       "0  ...    235.5  348.5  338.0  333.5  324.0  335.5  326.0  342.5  340.0  340.5  \n",
       "1  ...    202.5  359.0  305.5  346.0  291.5  348.0  292.0  354.5  306.0  352.5  \n",
       "2  ...    257.5  355.0  344.5  343.5  334.0  345.0  335.0  351.0  345.5  349.5  \n",
       "3  ...    192.0  319.0  295.5  311.5  280.0  313.0  282.0  320.0  297.5  318.5  \n",
       "4  ...    237.0  377.5  335.5  366.5  322.0  369.0  324.5  375.0  338.0  372.5  \n",
       "\n",
       "[5 rows x 152 columns]"
      ]
     },
     "execution_count": 2,
     "metadata": {},
     "output_type": "execute_result"
    }
   ],
   "source": [
    "import pandas\n",
    "\n",
    "df = pandas.read_csv('muct76-opencv.csv', header=0, usecols=np.arange(2,154), dtype=float)\n",
    "\n",
    "df.head()"
   ]
  },
  {
   "cell_type": "code",
   "execution_count": 3,
   "metadata": {
    "collapsed": false
   },
   "outputs": [
    {
     "data": {
      "text/plain": [
       "(7510, 152)"
      ]
     },
     "execution_count": 3,
     "metadata": {},
     "output_type": "execute_result"
    }
   ],
   "source": [
    "X = df.iloc[:, ::2].values\n",
    "Y = df.iloc[:, 1::2].values\n",
    "\n",
    "d = np.hstack((X,Y))\n",
    "d.shape"
   ]
  },
  {
   "cell_type": "code",
   "execution_count": 4,
   "metadata": {
    "collapsed": false
   },
   "outputs": [
    {
     "name": "stdout",
     "output_type": "stream",
     "text": [
      "(76, 2)\n",
      "SumError: 13.0966 MeanDiff: 0.000236\n",
      "SumError: 11.9712 MeanDiff: 0.000000\n",
      "SumError: 11.9718 MeanDiff: 0.000000\n"
     ]
    }
   ],
   "source": [
    "import sys\n",
    "threshold = 1.0e-8\n",
    "\n",
    "def center(vec):\n",
    "    pivot = int(vec.shape[0]/2)\n",
    "    meanx = np.mean(vec[:pivot])\n",
    "    meany = np.mean(vec[pivot:])\n",
    "    return(meanx, meany)\n",
    "\n",
    "def calnorm(vec):\n",
    "    vsqsum = np.sum(np.square(vec))\n",
    "    return(vsqsum)\n",
    "\n",
    "def scale(vec):\n",
    "    vcopy = vec.copy()\n",
    "    vmax = np.max(vec)\n",
    "    if vmax > 2.0:\n",
    "        vcopy = vcopy / vmax\n",
    "    vnorm = calnorm(vcopy)\n",
    "    return (vcopy / np.sqrt(vnorm))\n",
    "\n",
    "def caldiff(pref, pcmp):\n",
    "    return np.mean(np.sum(np.square(pref - pcmp), axis=1))\n",
    "\n",
    "def simTransform(pref, pcmp, showerror = False):\n",
    "    err_before = np.mean(np.sum(np.square(pref - pcmp), axis=1))\n",
    "    ref_mean = np.mean(pref, axis=0)\n",
    "    prefcentered = np.asmatrix(pref) - np.asmatrix(ref_mean)\n",
    "    \n",
    "    cmp_mean = np.mean(pcmp, axis=0)\n",
    "    pcmpcentered = np.asmatrix(pcmp) - np.asmatrix(cmp_mean)   \n",
    "    \n",
    "    Sxx = np.sum(np.square(pcmpcentered[:,0]))\n",
    "    Syy = np.sum(np.square(pcmpcentered[:,1]))\n",
    "    Sxxr = prefcentered[:,0].T * pcmpcentered[:,0] #(ref_x, x)\n",
    "    Syyr = prefcentered[:,1].T * pcmpcentered[:,1] #(ref_y, y)\n",
    "    Sxyr = prefcentered[:,1].T * pcmpcentered[:,0] #(ref_y, x)\n",
    "    Syxr = prefcentered[:,0].T * pcmpcentered[:,1] #(ref_x, y)\n",
    "    a = (Sxxr + Syyr)/(Sxx + Syy) #(Sxxr + Syyr) / (Sxx + Syy)\n",
    "    b = (Sxyr - Syxr) / (Sxx + Syy)\n",
    "    a = np.asscalar(a)\n",
    "    b = np.asscalar(b)\n",
    "    Rot = np.matrix([[a, -b],[b, a]])\n",
    "    translation = -Rot * np.asmatrix(cmp_mean).T + np.asmatrix(ref_mean).T\n",
    "    outx, outy = [], []\n",
    "    res = Rot * np.asmatrix(pcmp).T + translation\n",
    "    err_after = np.mean(np.sum(np.square(pref - res.T), axis=1))\n",
    "\n",
    "    if showerror:\n",
    "        print(\"Error before: %.4f    after: %.4f\\n\"%(err_before, err_after))\n",
    "    return (res.T, err_after)\n",
    "    \n",
    "    \n",
    "def align2mean(data):\n",
    "    d = data.copy()\n",
    "    pivot = int(d.shape[1]/2)\n",
    "    for i in range(d.shape[0]):\n",
    "        cx, cy = center(d[i,:])\n",
    "        d[i,:pivot] = d[i,:pivot] - cx\n",
    "        d[i,pivot:] = d[i,pivot:] - cy\n",
    "        #print(cx, cy, center(d[i,:]))\n",
    "        d[i,:] = scale(d[i,:])\n",
    "        norm = calnorm(d[i,:])\n",
    "    \n",
    "    d_aligned = d.copy()\n",
    "    pref = np.vstack((d[0,:pivot], d[0,pivot:])).T\n",
    "    print(pref.shape)\n",
    "    mean = pref.copy()\n",
    "\n",
    "    mean_diff = 1\n",
    "    while mean_diff > threshold:\n",
    "        err_sum = 0.0\n",
    "        for i in range(1, d.shape[0]):\n",
    "            p = np.vstack((d[i,:pivot], d[i,pivot:])).T\n",
    "            p_aligned, err = simTransform(mean, p)\n",
    "            d_aligned[i,:] = scale(p_aligned.flatten(order='F'))\n",
    "            err_sum += err\n",
    "        \n",
    "        oldmean = mean.copy()\n",
    "        mean = np.mean(d_aligned, axis=0)\n",
    "        mean = scale(mean)\n",
    "        mean = np.reshape(mean, newshape=pref.shape, order='F')\n",
    "        d = d_aligned.copy()\n",
    "        mean_diff = caldiff(oldmean, mean)\n",
    "        sys.stdout.write(\"SumError: %.4f MeanDiff: %.6f\\n\"%(err_sum, mean_diff))\n",
    "\n",
    "    return (d_aligned, mean)\n",
    "        \n",
    "    \n",
    "d_aligned, mean = align2mean(d)"
   ]
  },
  {
   "cell_type": "code",
   "execution_count": 5,
   "metadata": {
    "collapsed": false
   },
   "outputs": [
    {
     "data": {
      "image/png": "[encoded data removed]",
      "text/plain": [
       "<matplotlib.figure.Figure at 0x7f5ebb62ee80>"
      ]
     },
     "metadata": {},
     "output_type": "display_data"
    }
   ],
   "source": [
    "plt.figure(figsize=(7,7))\n",
    "plt.gca().set_aspect('equal')\n",
    "plotFaceShape(mean)"
   ]
  },
  {
   "cell_type": "markdown",
   "metadata": {
    "collapsed": true
   },
   "source": [
    "## PCA"
   ]
  },
  {
   "cell_type": "code",
   "execution_count": 12,
   "metadata": {
    "collapsed": false
   },
   "outputs": [
    {
     "data": {
      "text/plain": [
       "(7510, 152)"
      ]
     },
     "execution_count": 12,
     "metadata": {},
     "output_type": "execute_result"
    }
   ],
   "source": [
    "d.shape"
   ]
  },
  {
   "cell_type": "code",
   "execution_count": 8,
   "metadata": {
    "collapsed": false
   },
   "outputs": [
    {
     "data": {
      "text/plain": [
       "PCA(copy=True, n_components=8, whiten=False)"
      ]
     },
     "execution_count": 8,
     "metadata": {},
     "output_type": "execute_result"
    }
   ],
   "source": [
    "from sklearn.decomposition import PCA\n",
    "\n",
    "pca = PCA(n_components=8)\n",
    "\n",
    "pca.fit(d)"
   ]
  },
  {
   "cell_type": "code",
   "execution_count": 9,
   "metadata": {
    "collapsed": false
   },
   "outputs": [
    {
     "name": "stdout",
     "output_type": "stream",
     "text": [
      "[ 0.4383744   0.35125796  0.07912673  0.04544631  0.01696776  0.01432577\n",
      "  0.01050875  0.00897217]\n"
     ]
    }
   ],
   "source": [
    "print(pca.explained_variance_ratio_) "
   ]
  },
  {
   "cell_type": "code",
   "execution_count": 15,
   "metadata": {
    "collapsed": false
   },
   "outputs": [
    {
     "name": "stdout",
     "output_type": "stream",
     "text": [
      "(152, 152)\n",
      "(152,) (152, 152)\n"
     ]
    }
   ],
   "source": [
    "cov_mat = np.cov(d.T)\n",
    "print(cov_mat.shape)\n",
    "\n",
    "eig_values, eig_vectors = np.linalg.eig(cov_mat)\n",
    "print(eig_values.shape, eig_vectors.shape)"
   ]
  },
  {
   "cell_type": "code",
   "execution_count": 16,
   "metadata": {
    "collapsed": false
   },
   "outputs": [
    {
     "data": {
      "text/plain": [
       "(152, 8)"
      ]
     },
     "execution_count": 16,
     "metadata": {},
     "output_type": "execute_result"
    }
   ],
   "source": [
    "num_eigs = 8\n",
    "Phi_matrix = eig_vectors[:,:num_eigs]\n",
    "\n",
    "Phi_matrix.shape"
   ]
  },
  {
   "cell_type": "code",
   "execution_count": 18,
   "metadata": {
    "collapsed": false
   },
   "outputs": [],
   "source": [
    "mean.dump('models/meanshape-ocvfmt.pkl')\n",
    "eig_vectors.dump('models/eigenvectors-ocvfmt.pkl')\n",
    "eig_values.dump('models/eigenvalues-ocvfmt.pkl')"
   ]
  },
  {
   "cell_type": "code",
   "execution_count": null,
   "metadata": {
    "collapsed": true
   },
   "outputs": [],
   "source": []
  }
 ],
 "metadata": {
  "kernelspec": {
   "display_name": "Python 3",
   "language": "python",
   "name": "python3"
  },
  "language_info": {
   "codemirror_mode": {
    "name": "ipython",
    "version": 3
   },
   "file_extension": ".py",
   "mimetype": "text/x-python",
   "name": "python",
   "nbconvert_exporter": "python",
   "pygments_lexer": "ipython3",
   "version": "3.4.3"
  }
 },
 "nbformat": 4,
 "nbformat_minor": 0
}
