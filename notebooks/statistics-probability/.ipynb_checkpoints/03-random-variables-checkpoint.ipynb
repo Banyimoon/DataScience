{
 "cells": [
  {
   "cell_type": "markdown",
   "metadata": {},
   "source": [
    "## Random Variables\n",
    "\n",
    "#### Definition:\n",
    " A random variable $X$ is a function from a probability soace $\\Omega$ into $I\\!R$\n",
    " \n",
    "Note: this is perfectly legitimiate if $\\Omega$ is finite or countable.\n",
    "\n",
    "##### Example: \n",
    "The sum of the values in a roll of two dice is a function from a set $\\Omega$ with $36$ outcomes to the finite set of integeres $2,3, .. 12$\n",
    "\n",
    "#### Notation: \n",
    "\n",
    "$\\{X = x\\}$ is an event\n",
    "\n",
    "##### Example: \n",
    "\n",
    " * with $X$ as in the previous example, $\\left\\{X=3 \\right\\} = \\left\\{(1,2), (2,1)\\right\\}$   \n",
    " * and similarly: $\\left\\{X=7\\right\\} = \\left\\{(1,6), (6,1), (2,5), (5,2), (3,4), (4,3)\\right\\}$  \n",
    " * $\\mathbf{P}[\\{X = 3\\}] = \\frac{2}{36}$\n",
    " * $\\mathbf{P}[\\{X=7\\}] = \\frac{6}{36}$"
   ]
  },
  {
   "cell_type": "markdown",
   "metadata": {},
   "source": [
    "#### More notations: \n",
    "\n",
    "The value $\\mathbf{P}[\\{X = x\\}]$ is usually denoted by $p_x$ or $P_X(x)$\n",
    "\n",
    " #### Definition:\n",
    " This $p$ or $P_X(.)$ is called the **probability mass function** of $X$. Some call it the **mass** of $X$, or the **distribution** of $X$.   "
   ]
  },
  {
   "cell_type": "markdown",
   "metadata": {},
   "source": [
    "##### Example\n",
    "\n",
    "In the previous example:\n",
    "\n",
    "|$x$ |2 | 3|4|5|6|7|8|9|10|11|12|\n",
    "|:----:|:--:|:--|:--:|:--:|:--:|:--:|:--:|:--:|:--:|:--:|\n",
    "|$P_X(x)$|$\\frac{1}{36}$|$\\frac{2}{36}$|$\\frac{3}{36}$|$\\frac{4}{36}$|$\\frac{5}{36}$|$\\frac{6}{36}$|$\\frac{5}{36}$|$\\frac{4}{36}$|$\\frac{3}{36}$|$\\frac{2}{36}$|$\\frac{1}{36}$|"
   ]
  },
  {
   "cell_type": "markdown",
   "metadata": {},
   "source": [
    "#### How to find out if two functions are independent?\n",
    "see if the probablity of their intesection holds as follws:\n",
    "\n",
    " * $X$&$Y$ are independent if :\n",
    " $$\\mathbf{P}[\\{X = x\\}\\cap \\{Y=y\\}] = \\mathbf{P}[\\{X=x\\}] \\mathbf{P}[\\{Y = y\\}]=P_X(x)P_Y(y)\\ \\ \\ \\forall x,y$$"
   ]
  },
  {
   "cell_type": "markdown",
   "metadata": {},
   "source": [
    "### Bernoulli & Binomial Random Variable\n",
    "\n",
    "Toss a coin $n$ times independently. Probability of a head is always $p\\in (0,1)$\n",
    "\n",
    "Let $X_i =1 $ if ith toss is heads, and $X_i=0$ if toss is tails.\\\n",
    "\n",
    "So we see $P_{X_i}(1) = p$ and $P_{X_i}(0) = 1- p$\n",
    "\n",
    "This $X_i$ is called a Bernoulli random variable. We can interpret $X_i = 1$ as a success at trial $i$. Moreover, those $X_i$'s are all independent of each other. \n",
    "\n",
    "Now, let $X=\\#\\text{of successes (heads)}$ in these $n$ independet trials (tosses). X is also a random variabkle, which can take the values $0,1,2, .. n$. This $X$ is called a **binomial** with parameters $n$ and $p$. "
   ]
  },
  {
   "cell_type": "markdown",
   "metadata": {},
   "source": [
    "##### Example\n",
    "\n",
    "Let us find the binomial $X$'s prob mass $P_X(k) = \\left\\{\\text{exactly }k\\text{ successes in }n\\text{ trials}\\right\\}$\n",
    " \n",
    " * Intuitive reasining: there are $\\left(\\begin{array}{c}n\\\\k\\end{array}\\right)$ ways to have $k$ success. All such ways are incompatible (disjoint) events:\n",
    " $$P_X(k) = \\left\\{\\text{exactly }k\\text{ successes in }n\\text{ trials}\\right\\}=\\left(\\begin{array}{c}n\\\\k\\end{array}\\right) p^k \\left(1-p\\right)^{n-k}$$\n",
    " \n",
    " \n",
    "\n",
    " * **Important fact:** the way that we defined $X$ from the $X_i$'s we get $X=X_1 + X_2 + .. X_n$.   \n",
    "  This proves the following theorem   \n",
    "  \n",
    "#### Theorem:\n",
    "  the sum of $n$ independent Bernoulli random variables with parameter $p$ is a binomial random variable with parmaters $n$ and $p$"
   ]
  },
  {
   "cell_type": "markdown",
   "metadata": {},
   "source": [
    "### Geometric distribution\n",
    "\n",
    "Let $X_1,X_2,...X_m,...$ be an infinite number of independent Bernoulli trials all with the same success probability $p$. Let $Y$ be first time that $X_i = 1$. \n",
    "\n",
    " * For each $k=1,2,...$ we have $\\mathbf{P}[Y = k] = (1-p)^{1-k} p $"
   ]
  },
  {
   "cell_type": "markdown",
   "metadata": {},
   "source": [
    "###  Multinomial (Generalized Bernoulli) distribution"
   ]
  },
  {
   "cell_type": "markdown",
   "metadata": {
    "collapsed": true
   },
   "source": [
    "### Negative Bionomial Distribution\n",
    "\n",
    "\n",
    " * **Binomial random variables is the sum of some independent Bernoulli random variables  **   \n",
    " \n",
    "$$X=X_1 + X_2 + ... + X_n$$\n",
    " \n",
    " * **Binomial random variables is the sum of some geometric random variables**\n",
    " \n",
    "$$Y = Y_1 + Y_2 + ...+Y_n$$\n",
    "\n",
    "where $Y_i\\sim Geometric()$ and therefore $Y\\sim NegativeBinomial$\n",
    " \n",
    " * For a sequence of failure/success: $001010001000$\n",
    "\n",
    "   * $Y_1 = 3~\\ ~Y_2=2~\\ ~Y_3=4,...$\n",
    " \n",
    "   * There is another convention, that they define $Y'_i=Y_i-1$, so in this other convention: $Y'_1=2, Y'_2=1, Y'_3=3$\n",
    "\n",
    "Therefore, the negative binomial under this other convention is $Y'=Y-n$\n",
    "\n",
    " * Under our convention: $\\mathbf{E}[NegBinom(n,p)] = \\frac{n}{p}$  \n",
    " * Under the other ocnvention: $\\mathbf{E}[NegBinom'(n,p)] = \\frac{n}{p} - n = n(\\frac{1}{p}-1)$"
   ]
  },
  {
   "cell_type": "code",
   "execution_count": null,
   "metadata": {
    "collapsed": true
   },
   "outputs": [],
   "source": []
  }
 ],
 "metadata": {
  "kernelspec": {
   "display_name": "Python 3",
   "language": "python",
   "name": "python3"
  },
  "language_info": {
   "codemirror_mode": {
    "name": "ipython",
    "version": 3
   },
   "file_extension": ".py",
   "mimetype": "text/x-python",
   "name": "python",
   "nbconvert_exporter": "python",
   "pygments_lexer": "ipython3",
   "version": "3.5.0rc4"
  }
 },
 "nbformat": 4,
 "nbformat_minor": 0
}
