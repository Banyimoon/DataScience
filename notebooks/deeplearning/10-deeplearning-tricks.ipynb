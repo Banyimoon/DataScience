{
 "cells": [
  {
   "cell_type": "markdown",
   "metadata": {},
   "source": []
  },
  {
   "cell_type": "code",
   "execution_count": null,
   "metadata": {
    "collapsed": true
   },
   "outputs": [],
   "source": []
  },
  {
   "cell_type": "markdown",
   "metadata": {},
   "source": [
    "### Data Augmentation\n",
    "\n",
    " * Normalize scale of data\n",
    " * Pre-whitening\n",
    " \n",
    "  $$\\text{Assumption: } X \\sim \\mathcal{N}(\\mu, \\Sigma)$$\n",
    "\n",
    "We want to get $\\hat{x}$:\n",
    "  $$\\hat{X} \\sim \\mathcal{N}(0, I)$$\n",
    "  \n",
    "This can be done by: \n",
    " 1. subtract the empirical mean\n",
    "  $$\\hat{X}_\\mu = X - \\mu$$ \n",
    " 2. compute the covaraince matrix $\\Sigma$, then\n",
    "  $$\\hat{X} = \\Sigma^{-\\frac{1}{2}} ~ X$$"
   ]
  },
  {
   "cell_type": "markdown",
   "metadata": {},
   "source": [
    "Why this is called Whitening? The name comes from white nose. If you apply Fourrier transformation on white nosem, we will see a flat line, which indicates that white nose has the same amplitude(energy) in all frequencies."
   ]
  },
  {
   "cell_type": "markdown",
   "metadata": {},
   "source": [
    "### Problem setup\n",
    "\n",
    " * Very little data, similar dataset\n",
    " * Very little data, different datasets\n",
    " * Lots of data, similar dataset : fune-tune exisiting well-trained networks \n",
    " * Lots of data, different datasets"
   ]
  },
  {
   "cell_type": "markdown",
   "metadata": {},
   "source": [
    " * **Fine-tuning existing well trained models**\n",
    " * **Balancing imbalanced datasets**\n",
    " * **Multi-task learning (combining loss function)**\n",
    "   * Example: for car detection and sgmentation, we can combine two tasks jointly and learn a model that odes both.   \n",
    "     The idea is that some of the weights will be shared. For example, learning edges, and other features will be shared.\n",
    "     $$loss = loss_{det} + \\lambda ~loss_{seg}$$"
   ]
  },
  {
   "cell_type": "markdown",
   "metadata": {},
   "source": [
    " * **How to handle very large datasets?**\n",
    "   * Fitting model on one GPU:\n",
    "     * use lower precision computation (float8, float16, float32)    \n",
    "      It is shown that for training, you need to use high precision, but for testing you can use lower precision\n",
    "   * Model parallelism: split model across different GPUs  \n",
    "   * Data parallelism: split the data across GPUs"
   ]
  },
  {
   "cell_type": "markdown",
   "metadata": {},
   "source": [
    "### Weight initialization\n",
    "\n",
    " * Initialize the weights so that the dynamics of the wieghts are close to \n",
    " \n",
    " * As we said for the input features to be normalized, we want the outputs of each layer to be normalized\n",
    "\n",
    "Ideas: \n",
    " * Initializing weights to be all zeros is s **very bad idea*. IT results in all output neurons to be the same, and they behave the same.\n",
    " \n",
    " * Initialize randomly\n",
    " \n",
    " * Weights should not be too small, because it results in vanishing gradients\n",
    " \n",
    " * Make variance of weights be $\\frac{1}{\\sqrt{N}}$\n",
    "\n",
    "\n",
    "**Xavier initialization**: $nVar(w_i) = 1$\n",
    "\n",
    "In practice, it's better if $Var(w_i) = \\sqrt{\\frac{2}{n}}$"
   ]
  },
  {
   "cell_type": "markdown",
   "metadata": {},
   "source": [
    "### Choosing activation functions\n",
    "\n",
    " * If the variance of weights is too small or too large, both sigmoid and tanh functions should be avoided. (this can be shown in the plot of sigmoid funcitons, whwere at large $x$ values, the sigmoid or tanh becomes very flat, meaning that the gradients are very very small)\n",
    "\n",
    " * ReLU and its variants are better\n",
    "  * ReLU\n",
    "  * Leaky ReLU / PReLU\n",
    "  * Randomized ReLU"
   ]
  },
  {
   "cell_type": "markdown",
   "metadata": {},
   "source": [
    "### Regularization\n",
    "\n",
    " * $L_1$ regularization: $\\lambda_1 \\|w\\|_1$\n",
    " * $L_2$ regularization: $\\lambda_1 \\|w\\|_2^2$\n",
    " * $L_1 + L_2$ regularization: $\\lambda_1 \\|w\\|_1 + \\lambda_2 \\|w\\|_2^2$\n",
    " * Max-norm: $\\lambda_2 \\|w\\|$\n",
    " * MaxOut\n",
    " * Drop-out and Dropconnect"
   ]
  },
  {
   "cell_type": "markdown",
   "metadata": {},
   "source": [
    "When we are overfitting, we can use dropout to make the model smaller"
   ]
  },
  {
   "cell_type": "markdown",
   "metadata": {},
   "source": [
    "### Optimization Tricks\n",
    "\n",
    " * Normalize gradients by mini-batch size\n",
    " * Schedule a learning rate (LR): \n",
    "   * Set initial learning rate to $10^{-1}, 10^{-2}$\n",
    "   * Once error reaches plateu on validations set, reduce LR by 2 and continue\n",
    "   * Exponentially decaying LR\n",
    " * Early stopping: optimum is not optimum (for generalization)\n",
    " * Gradient clipping: \n",
    "   * threshold the gradients\n",
    "   * robustness to noise and outliers"
   ]
  },
  {
   "cell_type": "markdown",
   "metadata": {},
   "source": [
    "### Ensembles\n",
    "\n",
    " * Averaging model weights\n",
    " * Averaging model responses\n",
    " * Same architecture, different initialization\n",
    "   * \n",
    "   * \n",
    " * Create model emsmble from "
   ]
  },
  {
   "cell_type": "code",
   "execution_count": null,
   "metadata": {
    "collapsed": true
   },
   "outputs": [],
   "source": []
  }
 ],
 "metadata": {
  "kernelspec": {
   "display_name": "Python 3",
   "language": "python",
   "name": "python3"
  },
  "language_info": {
   "codemirror_mode": {
    "name": "ipython",
    "version": 3
   },
   "file_extension": ".py",
   "mimetype": "text/x-python",
   "name": "python",
   "nbconvert_exporter": "python",
   "pygments_lexer": "ipython3",
   "version": "3.5.0rc4"
  }
 },
 "nbformat": 4,
 "nbformat_minor": 0
}
