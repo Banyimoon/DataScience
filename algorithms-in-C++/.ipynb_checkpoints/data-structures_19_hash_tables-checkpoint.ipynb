{
 "cells": [
  {
   "cell_type": "markdown",
   "metadata": {},
   "source": [
    "Hash Tables\n",
    "===\n",
    "\n",
    "<img src=\"figs/hash-function.png\" width=600></img>\n",
    "\n",
    "## Hashing Idea\n",
    "\n",
    "**Uniformly map the keys**\n",
    "\n",
    "***TableSize*** is prefered to be a prime number. (10007 is a prime number).\n",
    "\n",
    " * Hashing text keys:\n",
    " \n",
    "$37^2 x_2^2 + 37 x_1 + x_0$ can be written as $37(37 x_2 + x_1) + x_0$\n",
    " \n",
    "```c++\n",
    "unsigned int hash(const String & key, int tablesize) {\n",
    "    unsigned int hashval = 0;\n",
    "    \n",
    "    for (ch : key) \n",
    "        hashval = hashval * 37 + ch;\n",
    "    \n",
    "    return hashval % tablesize;\n",
    "}\n",
    "```"
   ]
  },
  {
   "cell_type": "markdown",
   "metadata": {},
   "source": [
    "### Collision\n",
    "\n",
    " * Placing more than one item into the same array location\n",
    " * Example: $h(4567) = h(7597) = 22$ \n",
    "    * both search keys 4567 and 7597 are placed into index 22"
   ]
  },
  {
   "cell_type": "markdown",
   "metadata": {},
   "source": [
    "### Resolving Collisions\n",
    "\n"
   ]
  },
  {
   "cell_type": "markdown",
   "metadata": {
    "collapsed": true
   },
   "source": [
    "<img src=\"figs/hashtables_resolving-collisions.png\" width=\"520\"></img>"
   ]
  },
  {
   "cell_type": "markdown",
   "metadata": {
    "collapsed": true
   },
   "source": [
    "### Open-addressing\n",
    "\n",
    "When inserting a new element reaches a filled array location:\n",
    "\n",
    " * Probe for another array location\n",
    " * Removal requires knowing the state of an address:\n",
    "   * occupied, emptied, removed\n",
    "\n",
    "Open addressing can be done :\n",
    "\n",
    " * linearly\n",
    " * quadratically\n",
    " * double hashing\n",
    "\n",
    "**Problem:** It can create clustering. Double hashing can reduce clustering."
   ]
  },
  {
   "cell_type": "markdown",
   "metadata": {
    "collapsed": true
   },
   "source": [
    "### Linear Probing\n",
    "\n",
    "#### Operations\n",
    "\n",
    "<img src=\"figs/hashing-open-addressing.png\" width=500></img>\n",
    "\n",
    " * **Add**\n",
    " * **Remove**\n",
    " \n"
   ]
  },
  {
   "cell_type": "markdown",
   "metadata": {},
   "source": [
    "### Quadratic probing\n",
    "\n",
    "<img src=\"figs/hashing-open-addressing-quadratic.png\" width=550></img>"
   ]
  },
  {
   "cell_type": "markdown",
   "metadata": {
    "collapsed": true
   },
   "source": [
    "### Different Types of Clustering:\n",
    "\n",
    " * Primary clustering: \n",
    "    Groups of consecutively occupied locations\n",
    "    Clusters can merge together and become larger\n",
    "    Caused by linear-probing\n",
    " * Secondary clustering"
   ]
  },
  {
   "cell_type": "code",
   "execution_count": null,
   "metadata": {
    "collapsed": true
   },
   "outputs": [],
   "source": []
  }
 ],
 "metadata": {
  "kernelspec": {
   "display_name": "Python 3",
   "language": "python",
   "name": "python3"
  },
  "language_info": {
   "codemirror_mode": {
    "name": "ipython",
    "version": 3
   },
   "file_extension": ".py",
   "mimetype": "text/x-python",
   "name": "python",
   "nbconvert_exporter": "python",
   "pygments_lexer": "ipython3",
   "version": "3.5.0rc4"
  }
 },
 "nbformat": 4,
 "nbformat_minor": 0
}
