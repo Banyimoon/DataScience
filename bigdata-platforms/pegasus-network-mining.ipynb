{
 "cells": [
  {
   "cell_type": "markdown",
   "metadata": {},
   "source": [
    "Network Mining\n",
    "==="
   ]
  },
  {
   "cell_type": "markdown",
   "metadata": {},
   "source": [
    "\n",
    "### What is a network?\n",
    "\n",
    "#### Difference between network mining and other data mining?\n",
    "\n",
    " * In data mining, we only look at attributes of each instance\n",
    " * In network mining, we also consider links/relationship between instances"
   ]
  },
  {
   "cell_type": "markdown",
   "metadata": {},
   "source": [
    "### Types of questions in network mining\n",
    "\n",
    " * Identify the most popular user\n",
    " * Identify th emost influential user\n",
    " * Find users who are likely to ..\n",
    " * Recommending who should be linked to whom?\n",
    " * Detect different communities\n",
    " * Which user has unusual characteristics?"
   ]
  },
  {
   "cell_type": "markdown",
   "metadata": {},
   "source": [
    "### Network analysis tasks\n",
    "\n",
    " * Construction/extraction of a network\n",
    " * Characterize the network (average path-length, clustering-coefficient, ...)\n",
    " * Node classification (collective classification)\n",
    " * Node anomaly detection\n",
    " * Link prediction\n",
    " * Influence maximization\n",
    " * Community finding"
   ]
  },
  {
   "cell_type": "markdown",
   "metadata": {},
   "source": [
    "## Network Extraction/Construction\n",
    "\n",
    " * What are the nodes, attributes, and links?\n",
    "   * For example, in a social network, the nodes are users, the links indicate friendship/followers/supporters of nodes. Links represent some sort of interactions between users.\n",
    "   * For a publication database, node could be authors, or the papers, ...\n",
    "   * FourSquare data: data contain users, venues, spatio-temporal data\n",
    "   * Brain connectivity: data includes time-series of voxels intensity"
   ]
  },
  {
   "cell_type": "markdown",
   "metadata": {},
   "source": [
    "## Network Characterization\n",
    "\n",
    " * **Network metrics**\n",
    "   * **Node**\n",
    "     * Degree\n",
    "     * Closeness\n",
    "     * Betweenness\n",
    "     * Clustering coefficient\n",
    "   * **Node pair**\n",
    "     * Graph distance\n",
    "     * Common neighbors\n",
    "     * Jaccard's coef\n",
    "     * Adameic/adar\n",
    "     * Pref. attachment\n",
    "     * Katz\n",
    "     * Hitting time\n",
    "     * Rooted pageRank\n",
    "     * simRank\n",
    "     * Bibliographic metric\n",
    "   * **Network**\n",
    "     * Characteristic path-length\n",
    "     * simRank\n",
    "     *\n",
    "\n",
    "**Small-world neitwork:** \n",
    " * High clustering coefficient\n",
    " * Low average path-length\n",
    "\n"
   ]
  },
  {
   "cell_type": "code",
   "execution_count": null,
   "metadata": {
    "collapsed": true
   },
   "outputs": [],
   "source": []
  }
 ],
 "metadata": {
  "kernelspec": {
   "display_name": "Python 3",
   "language": "python",
   "name": "python3"
  },
  "language_info": {
   "codemirror_mode": {
    "name": "ipython",
    "version": 3
   },
   "file_extension": ".py",
   "mimetype": "text/x-python",
   "name": "python",
   "nbconvert_exporter": "python",
   "pygments_lexer": "ipython3",
   "version": "3.5.1"
  }
 },
 "nbformat": 4,
 "nbformat_minor": 0
}
