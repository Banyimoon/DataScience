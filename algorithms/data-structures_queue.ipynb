{
 "cells": [
  {
   "cell_type": "markdown",
   "metadata": {},
   "source": [
    "Queue Data Structure\n",
    "===========\n",
    "\n",
    "**First In First Out (FIFO)**\n",
    "\n",
    "Basic operations:  \n",
    "* enqueue (or push)\n",
    "* dequeue (or pop)\n",
    "\n",
    "Keeping two references:   \n",
    " * front\n",
    " * back\n",
    " \n",
    "Two Ways of Implementations using\n",
    " * singly linked list\n",
    " * circular arrays\n"
   ]
  },
  {
   "cell_type": "markdown",
   "metadata": {},
   "source": [
    "## Implementation using Linked List\n",
    "\n",
    "Pointers: list_head list_tail\n",
    "\n",
    "Operations: \n",
    " * Find\n",
    " * Insert\n",
    " * Erase"
   ]
  },
  {
   "cell_type": "markdown",
   "metadata": {},
   "source": [
    "```c++\n",
    "template <typename Type>\n",
    "class Single_list {\n",
    "    public:\n",
    "        int size() const;\n",
    "        bool empty() const;\n",
    "        Type front() const;\n",
    "        Type back() const;\n",
    "        Single_node<Type> *head() const;\n",
    "        Single_node<Type> *tail() const;\n",
    "        int count( Type const & ) const;\n",
    "        \n",
    "        void push_front( Type const & );\n",
    "        void push_back( Type const & );\n",
    "        Type pop\n",
    "}\n",
    "```\n"
   ]
  },
  {
   "cell_type": "markdown",
   "metadata": {},
   "source": [
    "```c++\n",
    "class Queue{\n",
    "    private:\n",
    "        Single_list<Type> list;\n",
    "    \n",
    "    public:\n",
    "        bool empty() const;\n",
    "        Type front() const;\n",
    "        void push(Type const &);\n",
    "        Type pop();\n",
    "}\n",
    "```"
   ]
  },
  {
   "cell_type": "code",
   "execution_count": null,
   "metadata": {
    "collapsed": true
   },
   "outputs": [],
   "source": []
  }
 ],
 "metadata": {
  "kernelspec": {
   "display_name": "Python 3",
   "language": "python",
   "name": "python3"
  },
  "language_info": {
   "codemirror_mode": {
    "name": "ipython",
    "version": 3
   },
   "file_extension": ".py",
   "mimetype": "text/x-python",
   "name": "python",
   "nbconvert_exporter": "python",
   "pygments_lexer": "ipython3",
   "version": "3.4.3"
  }
 },
 "nbformat": 4,
 "nbformat_minor": 0
}
