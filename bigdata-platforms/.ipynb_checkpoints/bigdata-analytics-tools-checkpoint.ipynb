{
 "cells": [
  {
   "cell_type": "markdown",
   "metadata": {},
   "source": [
    "Big Data Analytic Tools\n",
    "====="
   ]
  },
  {
   "cell_type": "markdown",
   "metadata": {},
   "source": [
    " **HBASE**: uses HDFS and MapReduce to organize data by columns\n",
    "\n",
    " **HIVE**: uses a meta store to apply schema information, to provide sql-like interface\n",
    "\n",
    " **PIG**: a scirpting language, providing more flexibility than SQL\n",
    "\n",
    " **SPARK**: a more general engine for programming with interface to HDFS, replacing MapReduce\n",
    "\n",
    " **SPLUNK**: focused on machine generated data"
   ]
  },
  {
   "cell_type": "markdown",
   "metadata": {
    "collapsed": true
   },
   "source": [
    "### HBASE\n",
    "\n",
    " Read and write to HDFS, read and write directly from user interface\n",
    " \n",
    " Key-value store, length of values can vary\n",
    " \n",
    " "
   ]
  },
  {
   "cell_type": "code",
   "execution_count": null,
   "metadata": {
    "collapsed": true
   },
   "outputs": [],
   "source": []
  }
 ],
 "metadata": {
  "kernelspec": {
   "display_name": "Python 3",
   "language": "python",
   "name": "python3"
  },
  "language_info": {
   "codemirror_mode": {
    "name": "ipython",
    "version": 3
   },
   "file_extension": ".py",
   "mimetype": "text/x-python",
   "name": "python",
   "nbconvert_exporter": "python",
   "pygments_lexer": "ipython3",
   "version": "3.4.3"
  }
 },
 "nbformat": 4,
 "nbformat_minor": 0
}
