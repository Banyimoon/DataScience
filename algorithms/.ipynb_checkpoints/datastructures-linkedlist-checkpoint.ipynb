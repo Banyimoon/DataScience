{
 "cells": [
  {
   "cell_type": "markdown",
   "metadata": {},
   "source": [
    "Linked List\n",
    "===========\n",
    "\n",
    "* Linear data structure (like an array)\n",
    "* Linked list is used when there is a memory issue (capacity limit)\n",
    "* Dynamically grows\n",
    "\n"
   ]
  },
  {
   "cell_type": "markdown",
   "metadata": {},
   "source": [
    "```\n",
    "class Node {\n",
    "    private:\n",
    "        int element;\n",
    "        Node *next_node;\n",
    "        \n",
    "    public:\n",
    "        Node(int = 0, Node * = nullptr);\n",
    "        int retrieve() const;\n",
    "        Node *net() const;\n",
    "}\n",
    "```"
   ]
  },
  {
   "cell_type": "code",
   "execution_count": null,
   "metadata": {
    "collapsed": true
   },
   "outputs": [],
   "source": []
  }
 ],
 "metadata": {
  "kernelspec": {
   "display_name": "Python 3",
   "language": "python",
   "name": "python3"
  },
  "language_info": {
   "codemirror_mode": {
    "name": "ipython",
    "version": 3
   },
   "file_extension": ".py",
   "mimetype": "text/x-python",
   "name": "python",
   "nbconvert_exporter": "python",
   "pygments_lexer": "ipython3",
   "version": "3.4.3"
  }
 },
 "nbformat": 4,
 "nbformat_minor": 0
}
