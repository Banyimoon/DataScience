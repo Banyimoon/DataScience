{
 "cells": [
  {
   "cell_type": "markdown",
   "metadata": {},
   "source": [
    "Neural Networks\n",
    "===="
   ]
  },
  {
   "cell_type": "markdown",
   "metadata": {},
   "source": [
    "<img src=\"figs/simple-neuron.png\" width=500></img>\n",
    "\n",
    "$$h_{w,b}(x) = f\\left(\\sum_{i=1}^{3} w_i x_i + b\\right)$$\n",
    "\n",
    "where $f$ is called the **activation function**."
   ]
  },
  {
   "cell_type": "markdown",
   "metadata": {},
   "source": [
    "### Common choices for activation function\n",
    "\n",
    "#### Sigmoid activation function\n",
    "\n",
    "$$f(z) = \\frac{1}{1 + \\exp(-z)}$$\n",
    "\n",
    " * **output range: ** $0$ to $1$\n",
    "\n",
    "#### Hyperbolic tangent\n",
    "\n",
    "$$f(z) = \\tanh(z) = \\frac{e^z - e^{-z}}{e^z + e^{-z}}$$\n",
    "\n",
    " * **output range: ** $-1$ to $1$"
   ]
  },
  {
   "cell_type": "markdown",
   "metadata": {},
   "source": [
    "#### "
   ]
  }
 ],
 "metadata": {
  "kernelspec": {
   "display_name": "Python 3",
   "language": "python",
   "name": "python3"
  },
  "language_info": {
   "codemirror_mode": {
    "name": "ipython",
    "version": 3
   },
   "file_extension": ".py",
   "mimetype": "text/x-python",
   "name": "python",
   "nbconvert_exporter": "python",
   "pygments_lexer": "ipython3",
   "version": "3.5.0rc4"
  }
 },
 "nbformat": 4,
 "nbformat_minor": 0
}
